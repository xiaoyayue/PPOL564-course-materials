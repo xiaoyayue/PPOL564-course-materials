{
 "cells": [
  {
   "cell_type": "markdown",
   "metadata": {
    "slideshow": {
     "slide_type": "slide"
    }
   },
   "source": [
    "<h1><center> PPOLS564: Foundations of Data Science </center><h1>\n",
    "<h3><center> Lecture 4 <br><br><font color='grey'> Manipulating Data Structures </font></center></h3>"
   ]
  },
  {
   "cell_type": "markdown",
   "metadata": {},
   "source": [
    "# Manipulating Mutable Objects"
   ]
  },
  {
   "cell_type": "markdown",
   "metadata": {},
   "source": [
    "## Local (In-Scope) Functionality"
   ]
  },
  {
   "cell_type": "code",
   "execution_count": 1,
   "metadata": {},
   "outputs": [
    {
     "data": {
      "text/plain": [
       "['Russia',\n",
       " 'Latvia',\n",
       " 'United States',\n",
       " 'Nigeria',\n",
       " 'Mexico',\n",
       " 'India',\n",
       " 'Costa Rica']"
      ]
     },
     "execution_count": 1,
     "metadata": {},
     "output_type": "execute_result"
    }
   ],
   "source": [
    "country_list = [\"Russia\",\"Latvia\",\"United States\",\"Nigeria\",\"Mexico\",\"India\",\"Costa Rica\"]\n",
    "country_list"
   ]
  },
  {
   "cell_type": "markdown",
   "metadata": {},
   "source": [
    "### `len()`\n",
    "\n",
    "`len()` provides use with the length of the function."
   ]
  },
  {
   "cell_type": "code",
   "execution_count": 2,
   "metadata": {},
   "outputs": [
    {
     "name": "stdout",
     "output_type": "stream",
     "text": [
      "7\n",
      "6\n"
     ]
    }
   ],
   "source": [
    "print(len(country_list))\n",
    "print(len(country_list[1]))"
   ]
  },
  {
   "cell_type": "markdown",
   "metadata": {},
   "source": [
    "### `.index()`"
   ]
  },
  {
   "cell_type": "markdown",
   "metadata": {},
   "source": [
    "Isolating the **location of a specific value**."
   ]
  },
  {
   "cell_type": "code",
   "execution_count": 3,
   "metadata": {},
   "outputs": [
    {
     "data": {
      "text/plain": [
       "3"
      ]
     },
     "execution_count": 3,
     "metadata": {},
     "output_type": "execute_result"
    }
   ],
   "source": [
    "country_list.index('Nigeria')"
   ]
  },
  {
   "cell_type": "code",
   "execution_count": 4,
   "metadata": {},
   "outputs": [
    {
     "data": {
      "text/plain": [
       "'Nigeria'"
      ]
     },
     "execution_count": 4,
     "metadata": {},
     "output_type": "execute_result"
    }
   ],
   "source": [
    "country_list[country_list.index('Nigeria')]"
   ]
  },
  {
   "cell_type": "markdown",
   "metadata": {},
   "source": [
    "Membership in a list"
   ]
  },
  {
   "cell_type": "code",
   "execution_count": 5,
   "metadata": {},
   "outputs": [
    {
     "data": {
      "text/plain": [
       "True"
      ]
     },
     "execution_count": 5,
     "metadata": {},
     "output_type": "execute_result"
    }
   ],
   "source": [
    "'Russia' in country_list"
   ]
  },
  {
   "cell_type": "markdown",
   "metadata": {},
   "source": [
    "### Updating and altering values"
   ]
  },
  {
   "cell_type": "markdown",
   "metadata": {},
   "source": [
    "Adding values to a collection, we have seen methods such as `__add__`, `.append()`, `.extend()`, and `.update()` given the collection type. \n",
    "\n",
    "Recall that not all methods actually update the object."
   ]
  },
  {
   "cell_type": "code",
   "execution_count": 6,
   "metadata": {},
   "outputs": [
    {
     "name": "stdout",
     "output_type": "stream",
     "text": [
      "4400613064\n",
      "['Russia', 'Latvia', 'United States', 'Nigeria', 'Mexico', 'India', 'Costa Rica', 'Canada']\n",
      "4400613064\n",
      "['Russia', 'Latvia', 'United States', 'Nigeria', 'Mexico', 'India', 'Costa Rica']\n"
     ]
    }
   ],
   "source": [
    "print(id(country_list)) # print object id\n",
    "\n",
    "print(country_list + ['Canada']) # add canada to the list\n",
    "\n",
    "print(id(country_list)) # object id remains consistent\n",
    "print(country_list) # list wasn't updated"
   ]
  },
  {
   "cell_type": "markdown",
   "metadata": {},
   "source": [
    "We need an in-place addition offered by the `__iadd__` method,"
   ]
  },
  {
   "cell_type": "code",
   "execution_count": 7,
   "metadata": {},
   "outputs": [
    {
     "data": {
      "text/plain": [
       "['Russia',\n",
       " 'Latvia',\n",
       " 'United States',\n",
       " 'Nigeria',\n",
       " 'Mexico',\n",
       " 'India',\n",
       " 'Costa Rica',\n",
       " 'Canada']"
      ]
     },
     "execution_count": 7,
     "metadata": {},
     "output_type": "execute_result"
    }
   ],
   "source": [
    "country_list += ['Canada']\n",
    "country_list"
   ]
  },
  {
   "cell_type": "markdown",
   "metadata": {},
   "source": [
    "There is also an in-place repetition operation (`__imul__`)"
   ]
  },
  {
   "cell_type": "code",
   "execution_count": 8,
   "metadata": {
    "scrolled": true
   },
   "outputs": [
    {
     "data": {
      "text/plain": [
       "['Russia',\n",
       " 'Latvia',\n",
       " 'United States',\n",
       " 'Nigeria',\n",
       " 'Mexico',\n",
       " 'India',\n",
       " 'Costa Rica',\n",
       " 'Canada',\n",
       " 'Russia',\n",
       " 'Latvia',\n",
       " 'United States',\n",
       " 'Nigeria',\n",
       " 'Mexico',\n",
       " 'India',\n",
       " 'Costa Rica',\n",
       " 'Canada',\n",
       " 'Russia',\n",
       " 'Latvia',\n",
       " 'United States',\n",
       " 'Nigeria',\n",
       " 'Mexico',\n",
       " 'India',\n",
       " 'Costa Rica',\n",
       " 'Canada']"
      ]
     },
     "execution_count": 8,
     "metadata": {},
     "output_type": "execute_result"
    }
   ],
   "source": [
    "country_list *= 3\n",
    "country_list"
   ]
  },
  {
   "cell_type": "markdown",
   "metadata": {},
   "source": [
    "The point is that it makes for more efficient code. Also, when we append we are making a **new object reference**; An in-place extension retains the original object id. "
   ]
  },
  {
   "cell_type": "code",
   "execution_count": 9,
   "metadata": {},
   "outputs": [
    {
     "name": "stdout",
     "output_type": "stream",
     "text": [
      "4401331464\n",
      "4401464520\n",
      "4401331464\n",
      "[1, 2, 3, 4]\n",
      "[1, 2, 3, 4]\n"
     ]
    }
   ],
   "source": [
    "x = [1,2,3]\n",
    "print(id(x))\n",
    "\n",
    "x1 = x + [4]\n",
    "print(id(x1))\n",
    "\n",
    "x += [4]\n",
    "print(id(x))\n",
    "\n",
    "print(x1)\n",
    "print(x)"
   ]
  },
  {
   "cell_type": "markdown",
   "metadata": {},
   "source": [
    "### Slicing \n",
    "\n",
    "Often we want values ranges of values in a container. We can accomplish this by slicing.\n",
    "\n",
    "Rule of thumb:\n",
    "- `:`\n",
    "- `<start here>:<to the value before here>`\n",
    "\n",
    "\n",
    "```python\n",
    "x = [1, 2, 3, 4, 5, 6]\n",
    "x[1:4]\n",
    "```\n",
    "\n",
    "is\n",
    "\n",
    "```python\n",
    " 0  1  2  3  4  5\n",
    "[1, 2, 3, 4, 5, 6]\n",
    "    ^  ^  ^ \n",
    "```"
   ]
  },
  {
   "cell_type": "code",
   "execution_count": 10,
   "metadata": {},
   "outputs": [
    {
     "data": {
      "text/plain": [
       "['Latvia', 'United States', 'Nigeria', 'Mexico']"
      ]
     },
     "execution_count": 10,
     "metadata": {},
     "output_type": "execute_result"
    }
   ],
   "source": [
    "country_list = [\"Russia\",\"Latvia\",\"United States\",\"Nigeria\",\"Mexico\",\"India\",\"Costa Rica\"]\n",
    "country_list[1:5]"
   ]
  },
  {
   "cell_type": "markdown",
   "metadata": {},
   "source": [
    "When we leave a value open, we are saying take me all the way to the end or the beginning,"
   ]
  },
  {
   "cell_type": "code",
   "execution_count": 11,
   "metadata": {},
   "outputs": [
    {
     "data": {
      "text/plain": [
       "['Russia', 'Latvia', 'United States', 'Nigeria']"
      ]
     },
     "execution_count": 11,
     "metadata": {},
     "output_type": "execute_result"
    }
   ],
   "source": [
    "country_list[:4]"
   ]
  },
  {
   "cell_type": "code",
   "execution_count": 12,
   "metadata": {},
   "outputs": [
    {
     "data": {
      "text/plain": [
       "['India', 'Costa Rica']"
      ]
     },
     "execution_count": 12,
     "metadata": {},
     "output_type": "execute_result"
    }
   ],
   "source": [
    "country_list[5:]"
   ]
  },
  {
   "cell_type": "markdown",
   "metadata": {},
   "source": [
    "The slicing operator by itself copies the object"
   ]
  },
  {
   "cell_type": "code",
   "execution_count": 13,
   "metadata": {},
   "outputs": [
    {
     "data": {
      "text/plain": [
       "False"
      ]
     },
     "execution_count": 13,
     "metadata": {},
     "output_type": "execute_result"
    }
   ],
   "source": [
    "cc = country_list[:]\n",
    "cc is country_list"
   ]
  },
  {
   "cell_type": "markdown",
   "metadata": {},
   "source": [
    "And every slice creates a new object id"
   ]
  },
  {
   "cell_type": "code",
   "execution_count": 14,
   "metadata": {},
   "outputs": [
    {
     "name": "stdout",
     "output_type": "stream",
     "text": [
      "4401464904\n",
      "4401329480\n",
      "4401465608\n"
     ]
    }
   ],
   "source": [
    "print(id(country_list))\n",
    "print(id(country_list[:3]))\n",
    "print(id(country_list[3:]))"
   ]
  },
  {
   "cell_type": "markdown",
   "metadata": {},
   "source": [
    "### Deleting Values\n",
    "\n",
    "- `del` keyword\n",
    "- `.remove()` method"
   ]
  },
  {
   "cell_type": "code",
   "execution_count": 15,
   "metadata": {},
   "outputs": [
    {
     "data": {
      "text/plain": [
       "['Russia', 'United States', 'Nigeria', 'Mexico', 'India', 'Costa Rica']"
      ]
     },
     "execution_count": 15,
     "metadata": {},
     "output_type": "execute_result"
    }
   ],
   "source": [
    "del country_list[1]\n",
    "country_list"
   ]
  },
  {
   "cell_type": "code",
   "execution_count": 16,
   "metadata": {},
   "outputs": [
    {
     "data": {
      "text/plain": [
       "['Russia', 'United States', 'Mexico', 'India', 'Costa Rica']"
      ]
     },
     "execution_count": 16,
     "metadata": {},
     "output_type": "execute_result"
    }
   ],
   "source": [
    "country_list.remove(\"Nigeria\")\n",
    "country_list"
   ]
  },
  {
   "cell_type": "markdown",
   "metadata": {},
   "source": [
    "### Popping elements out of a container\n",
    "\n",
    "Elements can be used and removed simultaneously from a collection with `.pop()`. Useful when you have a set list that you want to perform similar features on."
   ]
  },
  {
   "cell_type": "code",
   "execution_count": 17,
   "metadata": {},
   "outputs": [
    {
     "data": {
      "text/plain": [
       "'Costa Rica'"
      ]
     },
     "execution_count": 17,
     "metadata": {},
     "output_type": "execute_result"
    }
   ],
   "source": [
    "country_list.pop()"
   ]
  },
  {
   "cell_type": "code",
   "execution_count": 18,
   "metadata": {},
   "outputs": [
    {
     "data": {
      "text/plain": [
       "['Russia', 'United States', 'Mexico', 'India']"
      ]
     },
     "execution_count": 18,
     "metadata": {},
     "output_type": "execute_result"
    }
   ],
   "source": [
    "country_list"
   ]
  },
  {
   "cell_type": "markdown",
   "metadata": {},
   "source": [
    "We can pop items out given index location"
   ]
  },
  {
   "cell_type": "code",
   "execution_count": 19,
   "metadata": {},
   "outputs": [
    {
     "data": {
      "text/plain": [
       "'Mexico'"
      ]
     },
     "execution_count": 19,
     "metadata": {},
     "output_type": "execute_result"
    }
   ],
   "source": [
    "country_list.pop(2)"
   ]
  },
  {
   "cell_type": "code",
   "execution_count": 20,
   "metadata": {},
   "outputs": [
    {
     "data": {
      "text/plain": [
       "['Russia', 'United States', 'India']"
      ]
     },
     "execution_count": 20,
     "metadata": {},
     "output_type": "execute_result"
    }
   ],
   "source": [
    "country_list"
   ]
  },
  {
   "cell_type": "markdown",
   "metadata": {},
   "source": [
    "### Counting Values"
   ]
  },
  {
   "cell_type": "code",
   "execution_count": 21,
   "metadata": {},
   "outputs": [
    {
     "name": "stdout",
     "output_type": "stream",
     "text": [
      "3\n",
      "2\n"
     ]
    }
   ],
   "source": [
    "country_list = [\"Russia\",\"Latvia\",\"United States\",\"Russia\",\"Mexico\",\n",
    "                \"India\",\"Papua New Guinea\",\"Latvia\",\"Russia\"]\n",
    "print(country_list.count(\"Russia\"))\n",
    "print(country_list.count(\"Latvia\"))"
   ]
  },
  {
   "cell_type": "markdown",
   "metadata": {},
   "source": [
    "### Sorting Values"
   ]
  },
  {
   "cell_type": "code",
   "execution_count": 22,
   "metadata": {},
   "outputs": [
    {
     "data": {
      "text/plain": [
       "['India',\n",
       " 'Latvia',\n",
       " 'Latvia',\n",
       " 'Mexico',\n",
       " 'Papua New Guinea',\n",
       " 'Russia',\n",
       " 'Russia',\n",
       " 'Russia',\n",
       " 'United States']"
      ]
     },
     "execution_count": 22,
     "metadata": {},
     "output_type": "execute_result"
    }
   ],
   "source": [
    "country_list.sort()\n",
    "country_list"
   ]
  },
  {
   "cell_type": "code",
   "execution_count": 23,
   "metadata": {},
   "outputs": [
    {
     "data": {
      "text/plain": [
       "['United States',\n",
       " 'Russia',\n",
       " 'Russia',\n",
       " 'Russia',\n",
       " 'Papua New Guinea',\n",
       " 'Mexico',\n",
       " 'Latvia',\n",
       " 'Latvia',\n",
       " 'India']"
      ]
     },
     "execution_count": 23,
     "metadata": {},
     "output_type": "execute_result"
    }
   ],
   "source": [
    "country_list.reverse()\n",
    "country_list"
   ]
  },
  {
   "cell_type": "markdown",
   "metadata": {},
   "source": [
    "There are some built-in sorting methods also that we'll explore in greater detail when discussing iteration."
   ]
  },
  {
   "cell_type": "code",
   "execution_count": 24,
   "metadata": {},
   "outputs": [
    {
     "data": {
      "text/plain": [
       "['India',\n",
       " 'Latvia',\n",
       " 'Latvia',\n",
       " 'Mexico',\n",
       " 'Papua New Guinea',\n",
       " 'Russia',\n",
       " 'Russia',\n",
       " 'Russia',\n",
       " 'United States']"
      ]
     },
     "execution_count": 24,
     "metadata": {},
     "output_type": "execute_result"
    }
   ],
   "source": [
    "sorted(country_list)"
   ]
  },
  {
   "cell_type": "code",
   "execution_count": 25,
   "metadata": {},
   "outputs": [
    {
     "data": {
      "text/plain": [
       "['Papua New Guinea',\n",
       " 'United States',\n",
       " 'Russia',\n",
       " 'Russia',\n",
       " 'Russia',\n",
       " 'Mexico',\n",
       " 'Latvia',\n",
       " 'Latvia',\n",
       " 'India']"
      ]
     },
     "execution_count": 25,
     "metadata": {},
     "output_type": "execute_result"
    }
   ],
   "source": [
    "# Can sort by some defined function\n",
    "sorted(country_list,key=len,reverse=True)"
   ]
  },
  {
   "cell_type": "markdown",
   "metadata": {},
   "source": [
    "### Getting help()\n",
    "\n",
    "Recall that we can consult an objects functionality using the built-in `help()` function"
   ]
  },
  {
   "cell_type": "code",
   "execution_count": 26,
   "metadata": {},
   "outputs": [
    {
     "name": "stdout",
     "output_type": "stream",
     "text": [
      "Help on built-in function sort:\n",
      "\n",
      "sort(...) method of builtins.list instance\n",
      "    L.sort(key=None, reverse=False) -> None -- stable sort *IN PLACE*\n",
      "\n"
     ]
    }
   ],
   "source": [
    "help([].sort)"
   ]
  },
  {
   "cell_type": "code",
   "execution_count": 27,
   "metadata": {},
   "outputs": [],
   "source": [
    "# Jupyter notebooks hold their own magic internal\n",
    "?list()"
   ]
  },
  {
   "cell_type": "markdown",
   "metadata": {},
   "source": [
    "# Methods to Keep in Mind\n",
    "\n",
    "Above we looked as some specific local methods that occur within an objects scope. Let's list off the main methods for each collection types covered thus far and probe the differences."
   ]
  },
  {
   "cell_type": "markdown",
   "metadata": {},
   "source": [
    "**<center>Methods in object type `list`</center>**\n",
    "\n",
    "| Method  | Description |\n",
    "|:---------:|---------|\n",
    "|**`.append()`**| L.append(object) -> None -- append object to end|\n",
    "|**`.clear()`**| L.clear() -> None -- remove all items from L|\n",
    "|**`.copy()`**| L.copy() -> list -- a shallow copy of L|\n",
    "|**`.count()`**| L.count(value) -> integer -- return number of occurrences of value|\n",
    "|**`.extend()`**| L.extend(iterable) -> None -- extend list by appending elements from the iterable|\n",
    "|**`.index()`**| L.index(value, [start, [stop]]) -> integer -- return first index of value. Raises ValueError if the value is not present.|\n",
    "|**`.insert()`**| L.insert(index, object) -- insert object before index|\n",
    "|**`.pop()`**| L.pop([index]) -> item -- remove and return item at index (default last). Raises IndexError if list is empty or index is out of range.|\n",
    "|**`.remove()`**| L.remove(value) -> None -- remove first occurrence of value. Raises ValueError if the value is not present.|\n",
    "|**`.reverse()`**| L.reverse() -- reverse *IN PLACE*|\n",
    "|**`.sort()`**| L.sort(key=None, reverse=False) -> None -- stable sort *IN PLACE*|"
   ]
  },
  {
   "cell_type": "markdown",
   "metadata": {},
   "source": [
    "**<center>Methods in object type `set`</center>**\n",
    "\n",
    "| Method  | Description |\n",
    "|:---------:|:---------:|\n",
    "|**`.add()`**| Add an element to a set.|\n",
    "|**`.clear()`**| Remove all elements from this set.|\n",
    "|**`.copy()`**| Return a shallow copy of a set.|\n",
    "|**`.difference()`**| Return the difference of two or more sets as a new set.|\n",
    "|**`.difference_update()`**| Remove all elements of another set from this set.|\n",
    "|**`.discard()`**| Remove an element from a set if it is a member.|\n",
    "|**`.intersection()`**| Return the intersection of two sets as a new set.|\n",
    "|**`.intersection_update()`**| Update a set with the intersection of itself and another.|\n",
    "|**`.isdisjoint()`**| Return True if two sets have a null intersection.|\n",
    "|**`.issubset()`**| Report whether another set contains this set.|\n",
    "|**`.issuperset()`**| Report whether this set contains another set.|\n",
    "|**`.pop()`**| Remove and return an arbitrary set element. Raises KeyError if the set is empty.|\n",
    "|**`.remove()`**| Remove an element from a set; it must be a member.|\n",
    "|**`.symmetric_difference()`**| Return the symmetric difference of two sets as a new set.|\n",
    "|**`.symmetric_difference_update()`**| Update a set with the symmetric difference of itself and another.|\n",
    "|**`.union()`**| Return the union of sets as a new set.|\n",
    "|**`.update()`**| Update a set with the union of itself and others.|\n",
    "\n"
   ]
  },
  {
   "cell_type": "markdown",
   "metadata": {},
   "source": [
    "**<center>Methods in object type `dict`</center>**\n",
    "\n",
    "| Method  | Description |\n",
    "|:---------:|:---------:|\n",
    "|**`.clear()`**| D.clear() -> None.  Remove all items from D.|\n",
    "|**`.copy()`**| D.copy() -> a shallow copy of D|\n",
    "|**`.fromkeys()`**| Returns a new dict with keys from iterable and values equal to value.|\n",
    "|**`.get()`**| D.get(k[,d]) -> D[k] if k in D, else d.  d defaults to None.|\n",
    "|**`.items()`**| D.items() -> a set-like object providing a view on D's items|\n",
    "|**`.keys()`**| D.keys() -> a set-like object providing a view on D's keys|\n",
    "|**`.pop()`**| D.pop(k[,d]) -> v, remove specified key and return the corresponding value. If key is not found, d is returned if given, otherwise KeyError is raised|\n",
    "|**`.popitem()`**| D.popitem() -> (k, v), remove and return some (key, value) pair as a 2-tuple; but raise KeyError if D is empty.|\n",
    "|**`.setdefault()`**| D.setdefault(k[,d]) -> D.get(k,d), also set D[k]=d if k not in D|\n",
    "|**`.update()`**| D.update([E, ]**F) -> None.  Update D from dict/iterable E and F. If E is present and has a .keys() method, then does:  for k in E: D[k] = E[k] If E is present and lacks a .keys() method, then does:  for k, v in E: D[k] = v In either case, this is followed by: for k in F:  D[k] = F[k]|\n",
    "|**`.values()`**| D.values() -> an object providing a view on D's values|"
   ]
  },
  {
   "cell_type": "markdown",
   "metadata": {},
   "source": [
    "**<center>Methods in object type `tuple`</center>**\n",
    "\n",
    "| Method  | Description |\n",
    "|:---------:|:---------:|\n",
    "|**`.count()`**| T.count(value) -> integer -- return number of occurrences of value|\n",
    "|**`.index()`**| T.index(value, [start, [stop]]) -> integer -- return first index of value. Raises ValueError if the value is not present.|"
   ]
  },
  {
   "cell_type": "markdown",
   "metadata": {},
   "source": [
    "# String methods\n",
    "\n",
    "`str` types are really useful because so many common regular expression (regex) methods are baked into the string object when created.\n",
    "\n",
    "Note that some methods, such as addition and multiplication, take on new functionality here. "
   ]
  },
  {
   "cell_type": "markdown",
   "metadata": {},
   "source": [
    "**<center>Methods in object type `str`</center>**\n",
    "\n",
    "| Method  | Description |\n",
    "|:---------:|:---------:|\n",
    "|**`.capitalize()`**| S.capitalize() -> str|\n",
    "|**`.casefold()`**| S.casefold() -> str|\n",
    "|**`.center()`**| S.center(width[, fillchar]) -> str|\n",
    "|**`.count()`**| S.count(sub[, start[, end]]) -> int|\n",
    "|**`.encode()`**| S.encode(encoding='utf-8', errors='strict') -> bytes|\n",
    "|**`.endswith()`**| S.endswith(suffix[, start[, end]]) -> bool|\n",
    "|**`.expandtabs()`**| S.expandtabs(tabsize=8) -> str|\n",
    "|**`.find()`**| S.find(sub[, start[, end]]) -> int|\n",
    "|**`.format()`**| S.format(*args, **kwargs) -> str|\n",
    "|**`.format_map()`**| S.format_map(mapping) -> str|\n",
    "|**`.index()`**| S.index(sub[, start[, end]]) -> int|\n",
    "|**`.isalnum()`**| S.isalnum() -> bool|\n",
    "|**`.isalpha()`**| S.isalpha() -> bool|\n",
    "|**`.isdecimal()`**| S.isdecimal() -> bool|\n",
    "|**`.isdigit()`**| S.isdigit() -> bool|\n",
    "|**`.isidentifier()`**| S.isidentifier() -> bool|\n",
    "|**`.islower()`**| S.islower() -> bool|\n",
    "|**`.isnumeric()`**| S.isnumeric() -> bool|\n",
    "|**`.isprintable()`**| S.isprintable() -> bool|\n",
    "|**`.isspace()`**| S.isspace() -> bool|\n",
    "|**`.istitle()`**| S.istitle() -> bool|\n",
    "|**`.isupper()`**| S.isupper() -> bool|\n",
    "|**`.join()`**| S.join(iterable) -> str|\n",
    "|**`.ljust()`**| S.ljust(width[, fillchar]) -> str|\n",
    "|**`.lower()`**| S.lower() -> str|\n",
    "|**`.lstrip()`**| S.lstrip([chars]) -> str|\n",
    "|**`.maketrans()`**| Return a translation table usable for str.translate().|\n",
    "|**`.partition()`**| S.partition(sep) -> (head, sep, tail)|\n",
    "|**`.replace()`**| S.replace(old, new[, count]) -> str|\n",
    "|**`.rfind()`**| S.rfind(sub[, start[, end]]) -> int|\n",
    "|**`.rindex()`**| S.rindex(sub[, start[, end]]) -> int|\n",
    "|**`.rjust()`**| S.rjust(width[, fillchar]) -> str|\n",
    "|**`.rpartition()`**| S.rpartition(sep) -> (head, sep, tail)|\n",
    "|**`.rsplit()`**| S.rsplit(sep=None, maxsplit=-1) -> list of strings|\n",
    "|**`.rstrip()`**| S.rstrip([chars]) -> str|\n",
    "|**`.split()`**| S.split(sep=None, maxsplit=-1) -> list of strings|\n",
    "|**`.splitlines()`**| S.splitlines([keepends]) -> list of strings|\n",
    "|**`.startswith()`**| S.startswith(prefix[, start[, end]]) -> bool|\n",
    "|**`.strip()`**| S.strip([chars]) -> str|\n",
    "|**`.swapcase()`**| S.swapcase() -> str|\n",
    "|**`.title()`**| S.title() -> str|\n",
    "|**`.translate()`**| S.translate(table) -> str|\n",
    "|**`.upper()`**| S.upper() -> str|\n",
    "|**`.zfill()`**| S.zfill(width) -> str|"
   ]
  },
  {
   "cell_type": "code",
   "execution_count": 28,
   "metadata": {},
   "outputs": [
    {
     "ename": "NameError",
     "evalue": "name 'my_str' is not defined",
     "output_type": "error",
     "traceback": [
      "\u001b[0;31m---------------------------------------------------------------------------\u001b[0m",
      "\u001b[0;31mNameError\u001b[0m                                 Traceback (most recent call last)",
      "\u001b[0;32m<ipython-input-28-3a6b2e5edca7>\u001b[0m in \u001b[0;36m<module>\u001b[0;34m()\u001b[0m\n\u001b[0;32m----> 1\u001b[0;31m \u001b[0mprint\u001b[0m\u001b[0;34m(\u001b[0m\u001b[0mmy_str\u001b[0m\u001b[0;34m.\u001b[0m\u001b[0mlower\u001b[0m\u001b[0;34m(\u001b[0m\u001b[0;34m)\u001b[0m\u001b[0;34m)\u001b[0m \u001b[0;31m# convert to lower\u001b[0m\u001b[0;34m\u001b[0m\u001b[0m\n\u001b[0m\u001b[1;32m      2\u001b[0m \u001b[0;34m\u001b[0m\u001b[0m\n\u001b[1;32m      3\u001b[0m \u001b[0mprint\u001b[0m\u001b[0;34m(\u001b[0m\u001b[0mmy_str\u001b[0m\u001b[0;34m.\u001b[0m\u001b[0mupper\u001b[0m\u001b[0;34m(\u001b[0m\u001b[0;34m)\u001b[0m\u001b[0;34m)\u001b[0m \u001b[0;31m# convert to upper\u001b[0m\u001b[0;34m\u001b[0m\u001b[0m\n\u001b[1;32m      4\u001b[0m \u001b[0;34m\u001b[0m\u001b[0m\n\u001b[1;32m      5\u001b[0m \u001b[0mprint\u001b[0m\u001b[0;34m(\u001b[0m\u001b[0mmy_str\u001b[0m\u001b[0;34m.\u001b[0m\u001b[0misupper\u001b[0m\u001b[0;34m(\u001b[0m\u001b[0;34m)\u001b[0m\u001b[0;34m)\u001b[0m \u001b[0;31m# boolean determination\u001b[0m\u001b[0;34m\u001b[0m\u001b[0m\n",
      "\u001b[0;31mNameError\u001b[0m: name 'my_str' is not defined"
     ]
    }
   ],
   "source": [
    "print(my_str.lower()) # convert to lower\n",
    "\n",
    "print(my_str.upper()) # convert to upper\n",
    "\n",
    "print(my_str.isupper()) # boolean determination"
   ]
  },
  {
   "cell_type": "code",
   "execution_count": null,
   "metadata": {},
   "outputs": [],
   "source": [
    "my_str.replace(\"George\",\"My \")"
   ]
  },
  {
   "cell_type": "code",
   "execution_count": null,
   "metadata": {},
   "outputs": [],
   "source": [
    "sent = \"This is important to remember.\"\n",
    "sent.split() # break a string into a list`"
   ]
  },
  {
   "cell_type": "code",
   "execution_count": null,
   "metadata": {},
   "outputs": [],
   "source": [
    "seq_str = \"A A A A B B B B C C C C A A C A B A C\"\n",
    "seq_str.count(\"A\") # count the number of times a certain pattern occurs"
   ]
  },
  {
   "cell_type": "code",
   "execution_count": null,
   "metadata": {},
   "outputs": [],
   "source": [
    "ind = sent.find(\"i\")\n",
    "print(ind)\n",
    "print(sent[ind])"
   ]
  },
  {
   "cell_type": "code",
   "execution_count": null,
   "metadata": {},
   "outputs": [],
   "source": [
    "# In concert, we can do some useful manipulations of text\n",
    "\n",
    "sent_ws = \"      THIS is a Sentence &95#with problems\"\n",
    "\n",
    "sent_ws = sent_ws.strip() # Strip white space\n",
    "print(sent_ws)\n",
    "\n",
    "sent_ws = sent_ws.replace(\"&95#\",\"\") # strip problem values by leveraging the pattern\n",
    "print(sent_ws)\n",
    "\n",
    "sent_ws = sent_ws.lower() # convert to lower case\n",
    "print(sent_ws)\n",
    "\n",
    "sent_ws = sent_ws.capitalize() # capitalize the first letter\n",
    "print(sent_ws)\n",
    "\n",
    "sent_ws = sent_ws + \".\"\n",
    "print(sent_ws)"
   ]
  },
  {
   "cell_type": "markdown",
   "metadata": {},
   "source": [
    "## Formating Data into Strings\n",
    "\n",
    "Often, we need to combine data and strings, either to report results or progress, or compose more versatile text objects. Python makes it easy to integrate data with strings. "
   ]
  },
  {
   "cell_type": "markdown",
   "metadata": {},
   "source": [
    "### `\"\" % ()`"
   ]
  },
  {
   "cell_type": "code",
   "execution_count": 29,
   "metadata": {},
   "outputs": [
    {
     "data": {
      "text/plain": [
       "'This is a string with a number (4) and a word (dog)'"
      ]
     },
     "execution_count": 29,
     "metadata": {},
     "output_type": "execute_result"
    }
   ],
   "source": [
    "x = 4\n",
    "y = \"dog\"\n",
    "\"This is a string with a number (%s) and a word (%s)\" %(x,y)"
   ]
  },
  {
   "cell_type": "code",
   "execution_count": 30,
   "metadata": {},
   "outputs": [
    {
     "ename": "TypeError",
     "evalue": "%d format: a number is required, not str",
     "output_type": "error",
     "traceback": [
      "\u001b[0;31m---------------------------------------------------------------------------\u001b[0m",
      "\u001b[0;31mTypeError\u001b[0m                                 Traceback (most recent call last)",
      "\u001b[0;32m<ipython-input-30-eeca9e1ccaaf>\u001b[0m in \u001b[0;36m<module>\u001b[0;34m()\u001b[0m\n\u001b[0;32m----> 1\u001b[0;31m \u001b[0;34m\"This is a string with a number (%d) and a word (%d)\"\u001b[0m \u001b[0;34m%\u001b[0m\u001b[0;34m(\u001b[0m\u001b[0mx\u001b[0m\u001b[0;34m,\u001b[0m\u001b[0my\u001b[0m\u001b[0;34m)\u001b[0m\u001b[0;34m\u001b[0m\u001b[0m\n\u001b[0m",
      "\u001b[0;31mTypeError\u001b[0m: %d format: a number is required, not str"
     ]
    }
   ],
   "source": [
    "\"This is a string with a number (%d) and a word (%d)\" %(x,y)"
   ]
  },
  {
   "cell_type": "code",
   "execution_count": null,
   "metadata": {},
   "outputs": [],
   "source": [
    "\"This is a string with a number (%d) and a word (%s)\" %(x,y)"
   ]
  },
  {
   "cell_type": "code",
   "execution_count": null,
   "metadata": {},
   "outputs": [],
   "source": [
    "\"This is a string with a number (%.3f) and a word (%s)\" %(x,y)"
   ]
  },
  {
   "cell_type": "markdown",
   "metadata": {},
   "source": [
    "### `.format()`"
   ]
  },
  {
   "cell_type": "code",
   "execution_count": 31,
   "metadata": {},
   "outputs": [
    {
     "data": {
      "text/plain": [
       "'This is a string with a number (4) and a word (dog)'"
      ]
     },
     "execution_count": 31,
     "metadata": {},
     "output_type": "execute_result"
    }
   ],
   "source": [
    "# Integer positions\n",
    "\"This is a string with a number ({0}) and a word ({1})\".format('4','dog')"
   ]
  },
  {
   "cell_type": "code",
   "execution_count": 32,
   "metadata": {},
   "outputs": [
    {
     "data": {
      "text/plain": [
       "'This is a dog in a house'"
      ]
     },
     "execution_count": 32,
     "metadata": {},
     "output_type": "execute_result"
    }
   ],
   "source": [
    "# Named Fields\n",
    "'This is a {a} in a {b}'.format(a='dog',b='house')"
   ]
  },
  {
   "cell_type": "code",
   "execution_count": 33,
   "metadata": {},
   "outputs": [
    {
     "data": {
      "text/plain": [
       "'This is a field: 3 and 2.2. '"
      ]
     },
     "execution_count": 33,
     "metadata": {},
     "output_type": "execute_result"
    }
   ],
   "source": [
    "ps = [1.0,2.2,3]\n",
    "'This is a field: {ps[2]} and {ps[1]}. '.format(ps=ps)"
   ]
  },
  {
   "cell_type": "markdown",
   "metadata": {},
   "source": [
    "### fstrings\n",
    "\n",
    "fstrings emerge from a desire to make string formatting more readable. The above two methods are fine, but these can be difficult to read when these statements become involved. To this end, fstrings provide an easy syntax in which objects can be evaluated directly in the string statement usin `{}`. This increases readability."
   ]
  },
  {
   "cell_type": "code",
   "execution_count": 34,
   "metadata": {},
   "outputs": [
    {
     "data": {
      "text/plain": [
       "'This is a field: 3 and 2.2'"
      ]
     },
     "execution_count": 34,
     "metadata": {},
     "output_type": "execute_result"
    }
   ],
   "source": [
    "f'This is a field: {ps[2]} and {ps[1]}'"
   ]
  },
  {
   "cell_type": "code",
   "execution_count": 35,
   "metadata": {},
   "outputs": [
    {
     "data": {
      "text/plain": [
       "'Progress: 57.89%'"
      ]
     },
     "execution_count": 35,
     "metadata": {},
     "output_type": "execute_result"
    }
   ],
   "source": [
    "f\"Progress: { round((44/76)*100,2) }%\""
   ]
  },
  {
   "cell_type": "markdown",
   "metadata": {},
   "source": [
    "### String Encoding\n",
    "\n",
    "Note the default string code character is UTF-8"
   ]
  },
  {
   "cell_type": "code",
   "execution_count": 36,
   "metadata": {},
   "outputs": [
    {
     "data": {
      "text/plain": [
       "'éôü'"
      ]
     },
     "execution_count": 36,
     "metadata": {},
     "output_type": "execute_result"
    }
   ],
   "source": [
    "word = \"éôü\"\n",
    "word"
   ]
  },
  {
   "cell_type": "code",
   "execution_count": 37,
   "metadata": {},
   "outputs": [
    {
     "data": {
      "text/plain": [
       "b'\\xc3\\xa9\\xc3\\xb4\\xc3\\xbc'"
      ]
     },
     "execution_count": 37,
     "metadata": {},
     "output_type": "execute_result"
    }
   ],
   "source": [
    "en_word = word.encode('UTF-8')\n",
    "en_word"
   ]
  },
  {
   "cell_type": "code",
   "execution_count": 38,
   "metadata": {},
   "outputs": [
    {
     "data": {
      "text/plain": [
       "'éôü'"
      ]
     },
     "execution_count": 38,
     "metadata": {},
     "output_type": "execute_result"
    }
   ],
   "source": [
    "en_word.decode('UTF-8')"
   ]
  },
  {
   "cell_type": "markdown",
   "metadata": {},
   "source": [
    "## Dates\n",
    "\n",
    "Finally, let's briefly explore working with dates in Python."
   ]
  },
  {
   "cell_type": "code",
   "execution_count": 39,
   "metadata": {},
   "outputs": [
    {
     "data": {
      "text/plain": [
       "datetime.datetime(2018, 9, 19, 7, 41, 2, 396927)"
      ]
     },
     "execution_count": 39,
     "metadata": {},
     "output_type": "execute_result"
    }
   ],
   "source": [
    "from datetime import datetime\n",
    "now = datetime.now()\n",
    "now"
   ]
  },
  {
   "cell_type": "markdown",
   "metadata": {},
   "source": [
    "**<center>Methods in object type `datetime`</center>**\n",
    "\n",
    "| Method  | Description |\n",
    "|:---------:|:---------:|\n",
    "|**`.astimezone()`**| tz -> convert to local time in new timezone tz|\n",
    "|**`.combine()`**| date, time -> datetime with same date and time fields|\n",
    "|**`.ctime()`**| Return ctime() style string.|\n",
    "|**`.date()`**| Return date object with same year, month and day.|\n",
    "|**`.day()`**| int([x]) -> integer int(x, base=10) -> integer|\n",
    "|**`.dst()`**| Return self.tzinfo.dst(self).|\n",
    "|**`.fold()`**| int([x]) -> integer int(x, base=10) -> integer|\n",
    "|**`.fromisoformat()`**| string -> datetime from datetime.isoformat() output|\n",
    "|**`.fromordinal()`**| int -> date corresponding to a proleptic Gregorian ordinal.|\n",
    "|**`.fromtimestamp()`**| timestamp[, tz] -> tz's local time from POSIX timestamp.|\n",
    "|**`.hour()`**| int([x]) -> integer int(x, base=10) -> integer|\n",
    "|**`.isocalendar()`**| Return a 3-tuple containing ISO year, week number, and weekday.|\n",
    "|**`.isoformat()`**| [sep] -> string in ISO 8601 format, YYYY-MM-DDT[HH[:MM[:SS[.mmm[uuu]]]]][+HH:MM]. sep is used to separate the year from the time, and defaults to 'T'. timespec specifies what components of the time to include (allowed values are 'auto', 'hours', 'minutes', 'seconds', 'milliseconds', and 'microseconds').|\n",
    "|**`.isoweekday()`**| Return the day of the week represented by the date. Monday == 1 ... Sunday == 7|\n",
    "|**`.max()`**| datetime(year, month, day[, hour[, minute[, second[, microsecond[,tzinfo]]]]])|\n",
    "|**`.microsecond()`**| int([x]) -> integer int(x, base=10) -> integer|\n",
    "|**`.min()`**| datetime(year, month, day[, hour[, minute[, second[, microsecond[,tzinfo]]]]])|\n",
    "|**`.minute()`**| int([x]) -> integer int(x, base=10) -> integer|\n",
    "|**`.month()`**| int([x]) -> integer int(x, base=10) -> integer|\n",
    "|**`.now()`**| Returns new datetime object representing current time local to tz.|\n",
    "|**`.replace()`**| Return datetime with new specified fields.|\n",
    "|**`.resolution()`**| Difference between two datetime values.|\n",
    "|**`.second()`**| int([x]) -> integer int(x, base=10) -> integer|\n",
    "|**`.strftime()`**| format -> strftime() style string.|\n",
    "|**`.strptime()`**| string, format -> new datetime parsed from a string (like time.strptime()).|\n",
    "|**`.time()`**| Return time object with same time but with tzinfo=None.|\n",
    "|**`.timestamp()`**| Return POSIX timestamp as float.|\n",
    "|**`.timetuple()`**| Return time tuple, compatible with time.localtime().|\n",
    "|**`.timetz()`**| Return time object with same time and tzinfo.|\n",
    "|**`.today()`**| Current date or datetime:  same as self.__class__.fromtimestamp(time.time()).|\n",
    "|**`.toordinal()`**| Return proleptic Gregorian ordinal.  January 1 of year 1 is day 1.|\n",
    "|**`.tzname()`**| Return self.tzinfo.tzname(self).|\n",
    "|**`.utcfromtimestamp()`**| Construct a naive UTC datetime from a POSIX timestamp.|\n",
    "|**`.utcnow()`**| Return a new datetime representing UTC day and time.|\n",
    "|**`.utcoffset()`**| Return self.tzinfo.utcoffset(self).|\n",
    "|**`.utctimetuple()`**| Return UTC time tuple, compatible with time.localtime().|\n",
    "|**`.weekday()`**| Return the day of the week represented by the date. Monday == 0 ... Sunday == 6|\n",
    "|**`.year()`**| int([x]) -> integer int(x, base=10) -> integer|"
   ]
  },
  {
   "cell_type": "code",
   "execution_count": 40,
   "metadata": {},
   "outputs": [
    {
     "data": {
      "text/plain": [
       "9"
      ]
     },
     "execution_count": 40,
     "metadata": {},
     "output_type": "execute_result"
    }
   ],
   "source": [
    "now.month "
   ]
  },
  {
   "cell_type": "code",
   "execution_count": 41,
   "metadata": {},
   "outputs": [
    {
     "data": {
      "text/plain": [
       "2018"
      ]
     },
     "execution_count": 41,
     "metadata": {},
     "output_type": "execute_result"
    }
   ],
   "source": [
    "now.year"
   ]
  },
  {
   "cell_type": "markdown",
   "metadata": {},
   "source": [
    "Can format Date Time"
   ]
  },
  {
   "cell_type": "code",
   "execution_count": 42,
   "metadata": {},
   "outputs": [
    {
     "data": {
      "text/plain": [
       "'2018 09 19'"
      ]
     },
     "execution_count": 42,
     "metadata": {},
     "output_type": "execute_result"
    }
   ],
   "source": [
    "now.strftime('%Y %m %d')"
   ]
  },
  {
   "cell_type": "code",
   "execution_count": 43,
   "metadata": {},
   "outputs": [
    {
     "data": {
      "text/plain": [
       "'2018-09-19 07:41:02'"
      ]
     },
     "execution_count": 43,
     "metadata": {},
     "output_type": "execute_result"
    }
   ],
   "source": [
    "now.strftime('%Y-%m-%d %H:%M:%S')   "
   ]
  },
  {
   "cell_type": "markdown",
   "metadata": {},
   "source": [
    "Generating dates"
   ]
  },
  {
   "cell_type": "code",
   "execution_count": 44,
   "metadata": {},
   "outputs": [
    {
     "data": {
      "text/plain": [
       "datetime.datetime(2008, 4, 20, 0, 0)"
      ]
     },
     "execution_count": 44,
     "metadata": {},
     "output_type": "execute_result"
    }
   ],
   "source": [
    "past = datetime(year=2008,month=4,day=20)\n",
    "past"
   ]
  },
  {
   "cell_type": "markdown",
   "metadata": {},
   "source": [
    "Comparing dates"
   ]
  },
  {
   "cell_type": "code",
   "execution_count": 45,
   "metadata": {},
   "outputs": [
    {
     "data": {
      "text/plain": [
       "3804"
      ]
     },
     "execution_count": 45,
     "metadata": {},
     "output_type": "execute_result"
    }
   ],
   "source": [
    "diff = now - past\n",
    "diff.days"
   ]
  },
  {
   "cell_type": "code",
   "execution_count": 46,
   "metadata": {},
   "outputs": [
    {
     "ename": "AttributeError",
     "evalue": "type object 'datetime.datetime' has no attribute 'timedelta'",
     "output_type": "error",
     "traceback": [
      "\u001b[0;31m---------------------------------------------------------------------------\u001b[0m",
      "\u001b[0;31mAttributeError\u001b[0m                            Traceback (most recent call last)",
      "\u001b[0;32m<ipython-input-46-3dfefe0ca3e0>\u001b[0m in \u001b[0;36m<module>\u001b[0;34m()\u001b[0m\n\u001b[0;32m----> 1\u001b[0;31m \u001b[0mnow\u001b[0m \u001b[0;34m+\u001b[0m \u001b[0mdatetime\u001b[0m\u001b[0;34m.\u001b[0m\u001b[0mtimedelta\u001b[0m\u001b[0;34m(\u001b[0m\u001b[0mdays\u001b[0m\u001b[0;34m=\u001b[0m\u001b[0;36m1\u001b[0m\u001b[0;34m)\u001b[0m\u001b[0;34m\u001b[0m\u001b[0m\n\u001b[0m",
      "\u001b[0;31mAttributeError\u001b[0m: type object 'datetime.datetime' has no attribute 'timedelta'"
     ]
    }
   ],
   "source": [
    "now + datetime.timedelta(days=1)"
   ]
  },
  {
   "cell_type": "code",
   "execution_count": null,
   "metadata": {},
   "outputs": [],
   "source": [
    "from datetime import timedelta\n",
    "now + timedelta(hours=5)"
   ]
  },
  {
   "cell_type": "markdown",
   "metadata": {},
   "source": [
    "Converting raw date strings into datetime objects. The secret is that we need to identify the structure of that the date is formatted in. "
   ]
  },
  {
   "cell_type": "code",
   "execution_count": 47,
   "metadata": {},
   "outputs": [
    {
     "data": {
      "text/plain": [
       "datetime.datetime(2005, 6, 1, 0, 0)"
      ]
     },
     "execution_count": 47,
     "metadata": {},
     "output_type": "execute_result"
    }
   ],
   "source": [
    "new_date = datetime.strptime('Jun 1 2005', '%b %d %Y')\n",
    "new_date"
   ]
  }
 ],
 "metadata": {
  "kernelspec": {
   "display_name": "Python 3",
   "language": "python",
   "name": "python3"
  },
  "language_info": {
   "codemirror_mode": {
    "name": "ipython",
    "version": 3
   },
   "file_extension": ".py",
   "mimetype": "text/x-python",
   "name": "python",
   "nbconvert_exporter": "python",
   "pygments_lexer": "ipython3",
   "version": "3.6.5"
  },
  "toc": {
   "base_numbering": 1,
   "nav_menu": {
    "height": "85.9943px",
    "width": "420.994px"
   },
   "number_sections": false,
   "sideBar": true,
   "skip_h1_title": false,
   "title_cell": "Table of Contents",
   "title_sidebar": "Contents",
   "toc_cell": false,
   "toc_position": {},
   "toc_section_display": true,
   "toc_window_display": false
  }
 },
 "nbformat": 4,
 "nbformat_minor": 2
}

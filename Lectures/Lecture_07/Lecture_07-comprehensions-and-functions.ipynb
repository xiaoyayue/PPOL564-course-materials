{
 "cells": [
  {
   "cell_type": "markdown",
   "metadata": {
    "slideshow": {
     "slide_type": "slide"
    }
   },
   "source": [
    "<h1><center> PPOLS564: Foundations of Data Science </center><h1>\n",
    "<h3><center> Lecture 7 <br><br><font color='grey'> Functions and Comprehensions </font></center></h3>"
   ]
  },
  {
   "cell_type": "markdown",
   "metadata": {},
   "source": [
    "# Function Basics\n",
    "\n",
    "- **`def`**: keyword for generating a function\n",
    "    + `def` + some_name + `()` + `:` to set up a function header\n",
    "    \n",
    "    \n",
    "- **Arguments**: things we want to feed into the function and do something to. \n",
    "    \n",
    "    \n",
    "- **`return`**: keyword for returning a specific value from a function"
   ]
  },
  {
   "cell_type": "code",
   "execution_count": null,
   "metadata": {},
   "outputs": [],
   "source": [
    "def square(x):\n",
    "    y = x*x\n",
    "    return y"
   ]
  },
  {
   "cell_type": "code",
   "execution_count": null,
   "metadata": {},
   "outputs": [],
   "source": [
    "square(10)"
   ]
  },
  {
   "cell_type": "markdown",
   "metadata": {},
   "source": [
    "### Docstrings \n",
    "\n",
    "Docstrings are strings that occur as the first statement within a named function block.\n",
    "\n",
    "```python\n",
    "def function_name(input):\n",
    "    '''\n",
    "    Your docstring goes here.\n",
    "    '''\n",
    "    |\n",
    "    |\n",
    "    | Function block\n",
    "    |\n",
    "    |\n",
    "    return something \n",
    "\n",
    "```\n",
    "\n",
    "**The goal of the docstring is to tell us what the function _does_.** We can request a functions docstring using the `help()` function."
   ]
  },
  {
   "cell_type": "code",
   "execution_count": null,
   "metadata": {},
   "outputs": [],
   "source": [
    "def paste(string_one,string_two):\n",
    "    '''\n",
    "    This is a useless function that pastes two strings together \n",
    "    '''\n",
    "    return string_one + \" \"  + string_two\n",
    "\n",
    "paste(\"public\",\"policy\")"
   ]
  },
  {
   "cell_type": "code",
   "execution_count": null,
   "metadata": {},
   "outputs": [],
   "source": [
    "help(paste)"
   ]
  },
  {
   "cell_type": "markdown",
   "metadata": {},
   "source": [
    "### Conventions of writing docstrings\n",
    "\n",
    "[PEP-257](https://www.python.org/dev/peps/pep-0257/) says that \"The docstring for a function or method should summarize its behavior and document its arguments, return value(s), side effects, exceptions raised, and restrictions.\" Google offers a more useful [style guide](https://github.com/google/styleguide/blob/gh-pages/pyguide.md#38-comments-and-docstrings)\n",
    "on how to set up a docstring.\n",
    "\n",
    "Generally-speaking, it should look something like this:\n",
    "\n",
    "```python\n",
    "def function_name(x,y,z):\n",
    "    '''Quick description of what the function does.\n",
    "    \n",
    "    A more detailed description, if need be. \n",
    "    \n",
    "    Arguments:\n",
    "        list of all the arguments and what they need to be \n",
    "        or what their default values are.\n",
    "        x: \n",
    "        y: \n",
    "        x: \n",
    "        \n",
    "    Returns:\n",
    "        Short description regarding what the function returns\n",
    "        \n",
    "    Raises:\n",
    "        All the types of errors that the function raises\n",
    "        \n",
    "        TypeError: \n",
    "        ValueError:\n",
    "    '''\n",
    "    |\n",
    "    |\n",
    "    | Function block\n",
    "    |\n",
    "    |\n",
    "    return something\n",
    "\n",
    "```"
   ]
  },
  {
   "cell_type": "markdown",
   "metadata": {},
   "source": [
    "## Arguments"
   ]
  },
  {
   "cell_type": "markdown",
   "metadata": {},
   "source": [
    "Arguments are all the input values that lie inside the parentheses. \n",
    "\n",
    "```python \n",
    "def fun(argument_1,argument_2):\n",
    "```\n",
    "\n",
    "---\n",
    "We can supply **default values** to one or all arguments; in doing so, we've specified a default argument.\n",
    "\n",
    "```python \n",
    "def fun(argument_1 = \"default 1\",argument_2 = \"default 2\"):\n",
    "```\n",
    "\n",
    "---\n",
    "\n",
    "```python\n",
    "def fun(a,b=\"\"):\n",
    "```\n",
    "\n",
    "- argument `a` is called a **positional argument** (`*arg`). We provide value to it by matching the position in the sequence.\n",
    "- argument `b` is called a **keyword argument** (`**kwargs`). Because we give it a default value.\n",
    "\n",
    "---\n",
    "Keyword arguments must **_come after_** positional arguments, or python will throw a SyntaxError."
   ]
  },
  {
   "cell_type": "code",
   "execution_count": null,
   "metadata": {},
   "outputs": [],
   "source": [
    "def my_func(a,b=''):\n",
    "    return a + b\n",
    "my_func(\"cat\",\"dog\")"
   ]
  },
  {
   "cell_type": "code",
   "execution_count": null,
   "metadata": {},
   "outputs": [],
   "source": [
    "def my_func(a='',b):\n",
    "    return a + b\n",
    "my_func(\"cat\",\"dog\")"
   ]
  },
  {
   "cell_type": "markdown",
   "metadata": {},
   "source": [
    "## Returning Multiple Arguments"
   ]
  },
  {
   "cell_type": "code",
   "execution_count": null,
   "metadata": {},
   "outputs": [],
   "source": [
    "def added_list(a,b,c,d):\n",
    "    return [a,a+b,a+b+c,a+b+c+d]\n",
    "\n",
    "added_list(1,2,3,4)"
   ]
  },
  {
   "cell_type": "code",
   "execution_count": null,
   "metadata": {},
   "outputs": [],
   "source": [
    "def added_tuple(a,b,c,d):\n",
    "    return (a,a+b,a+b+c,a+b+c+d)\n",
    "\n",
    "added_tuple(1,2,3,4)"
   ]
  },
  {
   "cell_type": "code",
   "execution_count": null,
   "metadata": {},
   "outputs": [],
   "source": [
    "def added_dict(a,b,c,d):\n",
    "    return {\"position 1\": a,\"position 2\": a+b,\n",
    "            \"position 3\": a+b+c, \"position 4\":a+b+c+d}\n",
    "\n",
    "added_dict(1,2,3,4)"
   ]
  },
  {
   "cell_type": "markdown",
   "metadata": {},
   "source": [
    "### Never use mutable values as defaults\n",
    "\n",
    "Let's [visualize](https://goo.gl/u38EPx) why this is the case."
   ]
  },
  {
   "cell_type": "code",
   "execution_count": null,
   "metadata": {},
   "outputs": [],
   "source": [
    "def my_func(a = []):\n",
    "    a.append('x')\n",
    "    return a\n",
    "\n",
    "my_func()\n",
    "my_func()\n",
    "my_func()"
   ]
  },
  {
   "cell_type": "markdown",
   "metadata": {},
   "source": [
    "To get around this, we only use immutable value as placeholders."
   ]
  },
  {
   "cell_type": "code",
   "execution_count": null,
   "metadata": {},
   "outputs": [],
   "source": [
    "def my_func(a = None):\n",
    "    if a is None:\n",
    "        a = []\n",
    "    a.append('x')\n",
    "    return a\n",
    "\n",
    "my_func()\n",
    "my_func()\n",
    "my_func()"
   ]
  },
  {
   "cell_type": "markdown",
   "metadata": {},
   "source": [
    "## When to use a function?\n",
    "\n",
    "Whenever you repeat a chunk of code or some process more than once, you should wrap it in a function. When writing functions we should think about two things:\n",
    "\n",
    "1. Can the function generalize to other types of data or problems? If not, why? Is there a way that one might be able to write the function so that it is more general?\n",
    "2. Have I documented what inputs and outputs the functions need in a docstring\n",
    "    + You might be the only one who ever sees this function, but remember documentation is just as important for some future you as it is for some other person. "
   ]
  },
  {
   "cell_type": "markdown",
   "metadata": {},
   "source": [
    "# Applied Example \n",
    "Let's take the example from last time and build some functions that eases the cleaning process."
   ]
  },
  {
   "cell_type": "code",
   "execution_count": null,
   "metadata": {},
   "outputs": [],
   "source": [
    "import csv \n",
    "import copy\n",
    "\n",
    "def get_data(file_path):\n",
    "    '''\n",
    "    Reads in csv data and appends it to a list\n",
    "    \n",
    "    Arguments:\n",
    "        - file_path: file path to file on a computer read in as a string.\n",
    "    '''\n",
    "    data = []\n",
    "    with open(file_path) as f:\n",
    "        for row in csv.DictReader(f):\n",
    "            data.append(row) \n",
    "    return data"
   ]
  },
  {
   "cell_type": "code",
   "execution_count": null,
   "metadata": {},
   "outputs": [],
   "source": [
    "our_data = get_data(\"nes_2018_age-voted.csv\")\n",
    "our_data[20:40]"
   ]
  },
  {
   "cell_type": "code",
   "execution_count": null,
   "metadata": {},
   "outputs": [],
   "source": [
    "def clean_data(data=None):\n",
    "    '''\n",
    "    Take csv.DictReader data from the get_data() function and\n",
    "    scans through each entry to see if its a digit. If the entry\n",
    "    is a digit, then the function converts it to an integer. If a data entry \n",
    "    is missing, then the function converts it to a NoneType.\n",
    "    '''\n",
    "    function_data = copy.deepcopy(data) # Let's make a deep copy of the data\n",
    "    for row in data:\n",
    "        \n",
    "        # Clean the vote column\n",
    "        if type(row['voted']) == type('str'):\n",
    "            if row['voted'].isdigit():\n",
    "                row['voted'] = int(row['voted'])\n",
    "            elif row['voted'] == 'NA':\n",
    "                row['voted'] = None\n",
    "\n",
    "        # Clean the age column       \n",
    "        if type(row['age']) == type('str'):  \n",
    "            if row['age'].isdigit():\n",
    "                row['age'] = int(row['age'])            \n",
    "            elif row['age'] == 'NA':\n",
    "                row['age'] = None    \n",
    "        \n",
    "    return data\n",
    "    "
   ]
  },
  {
   "cell_type": "code",
   "execution_count": null,
   "metadata": {},
   "outputs": [],
   "source": [
    "our_data_cleaned = clean_data(our_data)\n",
    "our_data_cleaned[20:40]"
   ]
  },
  {
   "cell_type": "markdown",
   "metadata": {},
   "source": [
    "Note how we repeated code in the code in the `clean_data` function? This is exactly the kind of thing that functions are useful to help us avoid. Let's wrap that code in its own function (within the existing function!)"
   ]
  },
  {
   "cell_type": "code",
   "execution_count": null,
   "metadata": {},
   "outputs": [],
   "source": [
    "def scrub(row,variable=''):\n",
    "    '''\n",
    "    for each specified variable in the given row, the function\n",
    "    scans if it is a string. If so, it scans if it is a digit \n",
    "    and converts it to type int if true. If missing ('NA'), it \n",
    "    converts to type None.\n",
    "    '''\n",
    "    if type(row[variable]) == type('str'):\n",
    "            if row[variable].isdigit():\n",
    "                row[variable] = int(row[variable])\n",
    "            elif row[variable] == 'NA':\n",
    "                row[variable] = None\n",
    "\n",
    "                \n",
    "def clean_data(data=None):\n",
    "    '''\n",
    "    Take csv.DictReader data from the get_data() function and\n",
    "    scans through each entry to see if its a digit. If the entry\n",
    "    is a digit, then the function converts it to an integer. If a data entry \n",
    "    is missing, then the function converts it to a NoneType.\n",
    "    '''\n",
    "    \n",
    "    function_data = copy.deepcopy(data) # Let's make a deep copy of the data\n",
    "    \n",
    "    for row in function_data:\n",
    "        \n",
    "        # Clean the vote column\n",
    "        scrub(row,variable='voted')\n",
    "\n",
    "        # Clean the age column\n",
    "        scrub(row,variable='age')\n",
    "        \n",
    "    return data\n",
    "    "
   ]
  },
  {
   "cell_type": "markdown",
   "metadata": {},
   "source": [
    "All together now"
   ]
  },
  {
   "cell_type": "code",
   "execution_count": null,
   "metadata": {},
   "outputs": [],
   "source": [
    "our_data = get_data(\"nes_2018_age-voted.csv\")\n",
    "our_data_cleaned = clean_data(data=our_data)\n",
    "our_data_cleaned[20:40]"
   ]
  },
  {
   "cell_type": "markdown",
   "metadata": {},
   "source": [
    "----\n",
    "\n",
    "# Comprehensions\n",
    "\n",
    "Provide a readable and effective way of performing a particular expression on a iterable series of items.\n",
    "\n",
    "The general form of the comprehension:\n",
    "\n",
    "![](Figures/listComprehensions.jpg)\n",
    "\n",
    "See [here](https://python-3-patterns-idioms-test.readthedocs.io/en/latest/Comprehensions.html) for more details."
   ]
  },
  {
   "cell_type": "markdown",
   "metadata": {},
   "source": [
    "## List Comprehensions\n",
    "\n",
    "Using the list literals `[]` (brackets), we construct a `for` loop from within."
   ]
  },
  {
   "cell_type": "code",
   "execution_count": null,
   "metadata": {},
   "outputs": [],
   "source": [
    "words = \"This is a such a long course\".split()\n",
    "words"
   ]
  },
  {
   "cell_type": "code",
   "execution_count": null,
   "metadata": {},
   "outputs": [],
   "source": [
    "[len(word) for word in words]"
   ]
  },
  {
   "cell_type": "markdown",
   "metadata": {},
   "source": [
    "## Set Comprehensions\n",
    "_(New to Python 3)_\n",
    "\n",
    "Using the set literals `{}`, we construct a `for` loop from within.\n",
    "\n",
    "> Recall the difference between a set and dictionary is whether there is a key:value pair within the curly brackets. When there is a key:value pair within the brackets, it's a dictionary. When there are only values, it's a set. Use `type()` if you are unsure."
   ]
  },
  {
   "cell_type": "code",
   "execution_count": null,
   "metadata": {},
   "outputs": [],
   "source": [
    "{len(word) for word in words}"
   ]
  },
  {
   "cell_type": "markdown",
   "metadata": {},
   "source": [
    "## Dictionary Comprehensions\n",
    "_(New to Python 3)_\n",
    "\n",
    "Using the set literals `{}` and assigning a key value pair `{key : value}`, we construct a `for` loop from within."
   ]
  },
  {
   "cell_type": "code",
   "execution_count": null,
   "metadata": {},
   "outputs": [],
   "source": [
    "# Create two lists: one full of values and another of equal length full of keys.\n",
    "list_of_values = [1,2,3,4,5]\n",
    "list_of_keys = ['a','b','c','d','e']\n",
    "length_of_the_lists = len(list_of_values)\n",
    "\n",
    "{list_of_keys[i]:list_of_values[i] for i in range(length_of_the_lists)}"
   ]
  },
  {
   "cell_type": "markdown",
   "metadata": {},
   "source": [
    "## `if` statements in comprehensions"
   ]
  },
  {
   "cell_type": "code",
   "execution_count": null,
   "metadata": {},
   "outputs": [],
   "source": [
    "# Quickly produce a series of numbers\n",
    "[i for i in range(10)]"
   ]
  },
  {
   "cell_type": "code",
   "execution_count": null,
   "metadata": {},
   "outputs": [],
   "source": [
    "[i for i in range(10) if i > 5 ]"
   ]
  },
  {
   "cell_type": "markdown",
   "metadata": {},
   "source": [
    "`else` statements aren't valid in a comprehension, so the code statement needs to be kept simple."
   ]
  },
  {
   "cell_type": "code",
   "execution_count": null,
   "metadata": {},
   "outputs": [],
   "source": [
    "[i  for i in range(10) if i > 5 else \"hello\"]"
   ]
  },
  {
   "cell_type": "markdown",
   "metadata": {},
   "source": [
    "## Nested comprehensions"
   ]
  },
  {
   "cell_type": "code",
   "execution_count": null,
   "metadata": {},
   "outputs": [],
   "source": [
    "[i for i in range(5)]"
   ]
  },
  {
   "cell_type": "code",
   "execution_count": null,
   "metadata": {},
   "outputs": [],
   "source": [
    "[j for j in range(-5,0)]"
   ]
  },
  {
   "cell_type": "code",
   "execution_count": null,
   "metadata": {},
   "outputs": [],
   "source": [
    "[[i,j] for i in range(5) for j in range(-5,0)]"
   ]
  },
  {
   "cell_type": "markdown",
   "metadata": {},
   "source": [
    "## Speed Boost\n",
    "\n",
    "Comprehensions not only make our code more concise, they also increase the speed of our code"
   ]
  },
  {
   "cell_type": "code",
   "execution_count": null,
   "metadata": {},
   "outputs": [],
   "source": [
    "%%timeit\n",
    "container = []\n",
    "for i in range(1000):\n",
    "    container.append(i)"
   ]
  },
  {
   "cell_type": "code",
   "execution_count": null,
   "metadata": {},
   "outputs": [],
   "source": [
    "%%timeit\n",
    "container = [i for i in range(1000)]"
   ]
  },
  {
   "cell_type": "markdown",
   "metadata": {},
   "source": [
    "The comprehension expression takes roughly half the time!"
   ]
  },
  {
   "cell_type": "markdown",
   "metadata": {},
   "source": [
    "## Internal Scope"
   ]
  },
  {
   "cell_type": "code",
   "execution_count": null,
   "metadata": {},
   "outputs": [],
   "source": [
    "# Say we create a string object letter\n",
    "letter = 'z'\n",
    "\n",
    "# Then we use letter as a placeholder\n",
    "letters = ['a','b','c','d']\n",
    "for letter in letters:\n",
    "    print(letter)"
   ]
  },
  {
   "cell_type": "code",
   "execution_count": null,
   "metadata": {},
   "outputs": [],
   "source": [
    "letter # Letter got over written!!!"
   ]
  },
  {
   "cell_type": "markdown",
   "metadata": {},
   "source": [
    "Now let's do the same thing with a comprehension"
   ]
  },
  {
   "cell_type": "code",
   "execution_count": null,
   "metadata": {},
   "outputs": [],
   "source": [
    "letter = 'z'\n",
    "[letter for letter in letters]"
   ]
  },
  {
   "cell_type": "code",
   "execution_count": null,
   "metadata": {},
   "outputs": [],
   "source": [
    "letter"
   ]
  },
  {
   "cell_type": "markdown",
   "metadata": {},
   "source": [
    "What this means is the list comprehensions offer us more consistency and generate less issues when we arbitrarily assign named value for placeholders when using `for` loops"
   ]
  },
  {
   "cell_type": "markdown",
   "metadata": {},
   "source": [
    "# Can comprehensions make manipulating data in python easier?\n",
    "\n",
    "Recall the data structure from the assignment? Let's try and solve it using just comprehensions."
   ]
  },
  {
   "cell_type": "code",
   "execution_count": null,
   "metadata": {},
   "outputs": [],
   "source": [
    "# Raw world bank data as a nested list.\n",
    "country_data = [\n",
    "    ['Country Name', '2006', '2007', '2008', '2009', '2010', '2011', '2012','2013', '2014', '2015', '2016'],\n",
    "    ['Afghanistan', '', '73.4', '70.8', '68.2', '65.7', '63.3', '61', '58.8', '56.8', '54.9', '53.2'],\n",
    "    ['Belize', '17.5', '17.2', '16.9', '16.5', '16.1', '15.6', '15.1', '', '14', '13.4', '12.8'],\n",
    "    ['Germany', '3.8', '3.7', '3.6', '3.6', '3.5', '3.4', '3.3', '3.3', '3.3', '3.3', '3.2'],\n",
    "    ['Greece', '3.6', '3.5', '3.3', '3.3', '3.2', '3.2', '3.2', '3.2', '3.2', '3.1', '3.1'],\n",
    "    ['Iceland', '2.3', '2.2', '2.1', '2.1', '2', '', '1.8', '1.7', '1.7', '1.7', '1.6'],\n",
    "    ['Nigeria', '93.2', '90', '87', '83.9', '81.1', '78.3', '75.7', '73.3', '71', '69', '66.9'],\n",
    "    ['Thailand', '15', '', '13.8', '13.3', '12.8', '12.4', '12', '11.6', '11.2', '10.8', '10.5'],\n",
    "    ['United States', '6.7', '6.6', '6.5', '6.4', '6.2', '6.1', '6', '5.9', '5.8', '5.7', '5.6'],\n",
    "    ['Venezuela, RB', '15.4', '15', '14.8', '14.7', '14.7', '14.7', '14.7', '14.6', '', '14.3', '14'],\n",
    "    ['Ethiopia','66.4', '62.9', '59.5', '56.5', '', '51.1', '48.6', '46.4', '44.4', '42.6', '41']\n",
    "]"
   ]
  },
  {
   "cell_type": "code",
   "execution_count": null,
   "metadata": {},
   "outputs": [],
   "source": [
    "years = [int(year) for year in country_data[0] if year != 'Country Name']\n",
    "years"
   ]
  },
  {
   "cell_type": "code",
   "execution_count": null,
   "metadata": {},
   "outputs": [],
   "source": [
    "countries = [country[0] for country in country_data[1:]]\n",
    "countries"
   ]
  },
  {
   "cell_type": "code",
   "execution_count": null,
   "metadata": {},
   "outputs": [],
   "source": [
    "keys = [(country,year) for country in countries for year in years]\n",
    "keys"
   ]
  },
  {
   "cell_type": "code",
   "execution_count": null,
   "metadata": {},
   "outputs": [],
   "source": [
    "def clean(x):\n",
    "    '''\n",
    "    Function converts a string from country_data to a None type or a float\n",
    "    '''\n",
    "    if x == '':\n",
    "        y = None\n",
    "    else:\n",
    "        y = float(x)\n",
    "    \n",
    "    return y\n",
    "        \n",
    "print(type(clean('')))        \n",
    "print(type(clean('4')))        "
   ]
  },
  {
   "cell_type": "code",
   "execution_count": null,
   "metadata": {},
   "outputs": [],
   "source": [
    "values = [clean(entry) for row in country_data[1:] for entry in row[1:]]\n",
    "values"
   ]
  },
  {
   "cell_type": "markdown",
   "metadata": {},
   "source": [
    "Put it all together "
   ]
  },
  {
   "cell_type": "code",
   "execution_count": null,
   "metadata": {},
   "outputs": [],
   "source": [
    "len(keys)==len(values)"
   ]
  },
  {
   "cell_type": "code",
   "execution_count": null,
   "metadata": {},
   "outputs": [],
   "source": [
    "converted_data = {keys[i]:values[i] for i in range(len(keys))}\n",
    "converted_data"
   ]
  },
  {
   "cell_type": "markdown",
   "metadata": {},
   "source": [
    "----\n",
    "\n",
    "**What does this look like all in one go?**"
   ]
  },
  {
   "cell_type": "code",
   "execution_count": null,
   "metadata": {},
   "outputs": [],
   "source": [
    "keys = [(country,int(year)) for country in countries for year in country_data[0] if year != 'Country Name']\n",
    "values = [clean(entry) for row in country_data[1:] for entry in row[1:]]\n",
    "converted_data = {keys[i]:values[i] for i in range(len(keys))}\n",
    "\n",
    "# Call a key\n",
    "converted_data[('Afghanistan', 2007)]"
   ]
  }
 ],
 "metadata": {
  "kernelspec": {
   "display_name": "Python 3",
   "language": "python",
   "name": "python3"
  },
  "language_info": {
   "codemirror_mode": {
    "name": "ipython",
    "version": 3
   },
   "file_extension": ".py",
   "mimetype": "text/x-python",
   "name": "python",
   "nbconvert_exporter": "python",
   "pygments_lexer": "ipython3",
   "version": "3.7.0"
  },
  "toc": {
   "base_numbering": 1,
   "nav_menu": {},
   "number_sections": false,
   "sideBar": false,
   "skip_h1_title": false,
   "title_cell": "Table of Contents",
   "title_sidebar": "Contents",
   "toc_cell": false,
   "toc_position": {},
   "toc_section_display": true,
   "toc_window_display": false
  }
 },
 "nbformat": 4,
 "nbformat_minor": 2
}

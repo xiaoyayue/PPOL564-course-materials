{
 "cells": [
  {
   "cell_type": "markdown",
   "metadata": {
    "slideshow": {
     "slide_type": "slide"
    }
   },
   "source": [
    "<h1><center> PPOLS564: Foundations of Data Science </center><h1>\n",
    "<h3><center> Lecture 7 <br><br><font color='grey'> Functions </font></center></h3>"
   ]
  },
  {
   "cell_type": "markdown",
   "metadata": {},
   "source": [
    "# Function Basics\n",
    "\n",
    "- **`def`**: keyword for generating a function\n",
    "    + `def` + some_name + `()` + `:` to set up a function header\n",
    "    \n",
    "    \n",
    "- **Arguments**: things we want to feed into the function and do something to. \n",
    "    \n",
    "    \n",
    "- **`return`**: keyword for returning a specific value from a function"
   ]
  },
  {
   "cell_type": "code",
   "execution_count": 1,
   "metadata": {},
   "outputs": [],
   "source": [
    "def square(x):\n",
    "    y = x*x\n",
    "    return y"
   ]
  },
  {
   "cell_type": "code",
   "execution_count": 2,
   "metadata": {},
   "outputs": [],
   "source": [
    "square(10)"
   ]
  },
  {
   "cell_type": "markdown",
   "metadata": {},
   "source": [
    "### Docstrings \n",
    "\n",
    "Docstrings are strings that occur as the first statement within a named function block.\n",
    "\n",
    "```python\n",
    "def function_name(input):\n",
    "    '''\n",
    "    Your docstring goes here.\n",
    "    '''\n",
    "    |\n",
    "    |\n",
    "    | Function block\n",
    "    |\n",
    "    |\n",
    "    return something \n",
    "\n",
    "```\n",
    "\n",
    "**The goal of the docstring is to tell us what the function _does_.** We can request a functions docstring using the `help()` function."
   ]
  },
  {
   "cell_type": "code",
   "execution_count": 3,
   "metadata": {},
   "outputs": [],
   "source": [
    "def paste(string_one,string_two):\n",
    "    '''\n",
    "    This is a useless function that pastes two strings together \n",
    "    '''\n",
    "    return string_one + \" \"  + string_two\n",
    "\n",
    "paste(\"public\",\"policy\")"
   ]
  },
  {
   "cell_type": "code",
   "execution_count": 4,
   "metadata": {},
   "outputs": [],
   "source": [
    "help(paste)"
   ]
  },
  {
   "cell_type": "markdown",
   "metadata": {},
   "source": [
    "### Conventions of writing docstrings\n",
    "\n",
    "[PEP-257](https://www.python.org/dev/peps/pep-0257/) says that \"The docstring for a function or method should summarize its behavior and document its arguments, return value(s), side effects, exceptions raised, and restrictions.\" Google offers a more useful [style guide](https://github.com/google/styleguide/blob/gh-pages/pyguide.md#38-comments-and-docstrings)\n",
    "on how to set up a docstring.\n",
    "\n",
    "Generally-speaking, it should look something like this:\n",
    "\n",
    "```python\n",
    "def function_name(x,y,z):\n",
    "    '''Quick description of what the function does.\n",
    "    \n",
    "    A more detailed description, if need be. \n",
    "    \n",
    "    Arguments:\n",
    "        list of all the arguments and what they need to be \n",
    "        or what their default values are.\n",
    "        x: \n",
    "        y: \n",
    "        x: \n",
    "        \n",
    "    Returns:\n",
    "        Short description regarding what the function returns\n",
    "        \n",
    "    Raises:\n",
    "        All the types of errors that the function raises\n",
    "        \n",
    "        TypeError: \n",
    "        ValueError:\n",
    "    '''\n",
    "    |\n",
    "    |\n",
    "    | Function block\n",
    "    |\n",
    "    |\n",
    "    return something\n",
    "\n",
    "```"
   ]
  },
  {
   "cell_type": "markdown",
   "metadata": {},
   "source": [
    "## Arguments"
   ]
  },
  {
   "cell_type": "markdown",
   "metadata": {},
   "source": [
    "Arguments are all the input values that lie inside the parentheses. \n",
    "\n",
    "```python \n",
    "def fun(argument_1,argument_2):\n",
    "```\n",
    "\n",
    "---\n",
    "We can supply **default values** to one or all arguments; in doing so, we've specified a default argument.\n",
    "\n",
    "```python \n",
    "def fun(argument_1 = \"default 1\",argument_2 = \"default 2\"):\n",
    "```\n",
    "\n",
    "---\n",
    "\n",
    "```python\n",
    "def fun(a,b=\"\"):\n",
    "```\n",
    "\n",
    "- argument `a` is called a **positional argument** (`*arg`). We provide value to it by matching the position in the sequence.\n",
    "- argument `b` is called a **keyword argument** (`**kwargs`). Because we give it a default value.\n",
    "\n",
    "---\n",
    "Keyword arguments must **_come after_** positional arguments, or python will throw a SyntaxError."
   ]
  },
  {
   "cell_type": "code",
   "execution_count": 5,
   "metadata": {},
   "outputs": [],
   "source": [
    "def my_func(a,b=''):\n",
    "    return a + b\n",
    "my_func(\"cat\",\"dog\")"
   ]
  },
  {
   "cell_type": "code",
   "execution_count": 6,
   "metadata": {},
   "outputs": [
    {
     "ename": "SyntaxError",
     "evalue": "non-default argument follows default argument (<ipython-input-6-9ad0eee116c7>, line 1)",
     "output_type": "error",
     "traceback": [
      "\u001b[0;36m  File \u001b[0;32m\"<ipython-input-6-9ad0eee116c7>\"\u001b[0;36m, line \u001b[0;32m1\u001b[0m\n\u001b[0;31m    def my_func(a='',b):\u001b[0m\n\u001b[0m               ^\u001b[0m\n\u001b[0;31mSyntaxError\u001b[0m\u001b[0;31m:\u001b[0m non-default argument follows default argument\n"
     ]
    }
   ],
   "source": [
    "def my_func(a='',b):\n",
    "    return a + b\n",
    "my_func(\"cat\",\"dog\")"
   ]
  },
  {
   "cell_type": "markdown",
   "metadata": {},
   "source": [
    "## Returning Multiple Arguments"
   ]
  },
  {
   "cell_type": "code",
   "execution_count": 7,
   "metadata": {},
   "outputs": [
    {
     "data": {
      "text/plain": [
       "[1, 3, 6, 10]"
      ]
     },
     "execution_count": 7,
     "metadata": {},
     "output_type": "execute_result"
    }
   ],
   "source": [
    "def added_list(a,b,c,d):\n",
    "    return [a,a+b,a+b+c,a+b+c+d]\n",
    "\n",
    "added_list(1,2,3,4)"
   ]
  },
  {
   "cell_type": "code",
   "execution_count": 8,
   "metadata": {},
   "outputs": [
    {
     "data": {
      "text/plain": [
       "(1, 3, 6, 10)"
      ]
     },
     "execution_count": 8,
     "metadata": {},
     "output_type": "execute_result"
    }
   ],
   "source": [
    "def added_tuple(a,b,c,d):\n",
    "    return (a,a+b,a+b+c,a+b+c+d)\n",
    "\n",
    "added_tuple(1,2,3,4)"
   ]
  },
  {
   "cell_type": "code",
   "execution_count": 9,
   "metadata": {},
   "outputs": [
    {
     "data": {
      "text/plain": [
       "{'position 1': 1, 'position 2': 3, 'position 3': 6, 'position 4': 10}"
      ]
     },
     "execution_count": 9,
     "metadata": {},
     "output_type": "execute_result"
    }
   ],
   "source": [
    "def added_dict(a,b,c,d):\n",
    "    return {\"position 1\": a,\"position 2\": a+b,\n",
    "            \"position 3\": a+b+c, \"position 4\":a+b+c+d}\n",
    "\n",
    "added_dict(1,2,3,4)"
   ]
  },
  {
   "cell_type": "markdown",
   "metadata": {},
   "source": [
    "### Never use mutable values as defaults\n",
    "\n",
    "Let's [visualize](https://goo.gl/u38EPx) why this is the case."
   ]
  },
  {
   "cell_type": "code",
   "execution_count": 10,
   "metadata": {},
   "outputs": [
    {
     "data": {
      "text/plain": [
       "['x', 'x', 'x']"
      ]
     },
     "execution_count": 10,
     "metadata": {},
     "output_type": "execute_result"
    }
   ],
   "source": [
    "def my_func(a = []):\n",
    "    a.append('x')\n",
    "    return a\n",
    "\n",
    "my_func()\n",
    "my_func()\n",
    "my_func()"
   ]
  },
  {
   "cell_type": "markdown",
   "metadata": {},
   "source": [
    "To get around this, we only use immutable value as placeholders."
   ]
  },
  {
   "cell_type": "code",
   "execution_count": 11,
   "metadata": {},
   "outputs": [
    {
     "data": {
      "text/plain": [
       "['x']"
      ]
     },
     "execution_count": 11,
     "metadata": {},
     "output_type": "execute_result"
    }
   ],
   "source": [
    "def my_func(a = None):\n",
    "    if a is None:\n",
    "        a = []\n",
    "    a.append('x')\n",
    "    return a\n",
    "\n",
    "my_func()\n",
    "my_func()\n",
    "my_func()"
   ]
  },
  {
   "cell_type": "markdown",
   "metadata": {},
   "source": [
    "## When to use a function?\n",
    "\n",
    "Whenever you repeat a chunk of code or some process more than once, you should wrap it in a function. When writing functions we should think about two things:\n",
    "\n",
    "1. Am I repeating the same chunks of code in multiple locations?\n",
    "2. Can the function generalize to other types of data or problems? "
   ]
  },
  {
   "cell_type": "markdown",
   "metadata": {},
   "source": [
    "# Applied Example \n",
    "Let's take the example from last time and build some functions that eases the cleaning process."
   ]
  },
  {
   "cell_type": "code",
   "execution_count": 1,
   "metadata": {},
   "outputs": [],
   "source": [
    "import csv \n",
    "import copy\n",
    "\n",
    "def get_data(file_path):\n",
    "    '''\n",
    "    Reads in csv data and appends it to a list\n",
    "    \n",
    "    Arguments:\n",
    "        - file_path: file path to file on a computer read in as a string.\n",
    "    '''\n",
    "    data = []\n",
    "    with open(file_path) as f:\n",
    "        for row in csv.DictReader(f):\n",
    "            data.append(row) \n",
    "    return data"
   ]
  },
  {
   "cell_type": "code",
   "execution_count": 2,
   "metadata": {},
   "outputs": [
    {
     "data": {
      "text/plain": [
       "[OrderedDict([('voted', '1'), ('age', '18')]),\n",
       " OrderedDict([('voted', '0'), ('age', '69')]),\n",
       " OrderedDict([('voted', '1'), ('age', '37')]),\n",
       " OrderedDict([('voted', '1'), ('age', '63')]),\n",
       " OrderedDict([('voted', '0'), ('age', '19')]),\n",
       " OrderedDict([('voted', '0'), ('age', '52')]),\n",
       " OrderedDict([('voted', 'NA'), ('age', '21')]),\n",
       " OrderedDict([('voted', '1'), ('age', '53')]),\n",
       " OrderedDict([('voted', '1'), ('age', '20')]),\n",
       " OrderedDict([('voted', 'NA'), ('age', '23')]),\n",
       " OrderedDict([('voted', '0'), ('age', '23')]),\n",
       " OrderedDict([('voted', '0'), ('age', '60')]),\n",
       " OrderedDict([('voted', '0'), ('age', '24')]),\n",
       " OrderedDict([('voted', '1'), ('age', '70')]),\n",
       " OrderedDict([('voted', '0'), ('age', '59')]),\n",
       " OrderedDict([('voted', '0'), ('age', '18')]),\n",
       " OrderedDict([('voted', '1'), ('age', '26')]),\n",
       " OrderedDict([('voted', '1'), ('age', '26')]),\n",
       " OrderedDict([('voted', '0'), ('age', '29')]),\n",
       " OrderedDict([('voted', '1'), ('age', '37')])]"
      ]
     },
     "execution_count": 2,
     "metadata": {},
     "output_type": "execute_result"
    }
   ],
   "source": [
    "our_data = get_data(\"nes_2018_age-voted.csv\")\n",
    "our_data[20:40]"
   ]
  },
  {
   "cell_type": "code",
   "execution_count": 3,
   "metadata": {},
   "outputs": [],
   "source": [
    "def clean_data(data=None):\n",
    "    '''\n",
    "    Take csv.DictReader data from the get_data() function and\n",
    "    scans through each entry to see if its a digit. If the entry\n",
    "    is a digit, then the function converts it to an integer. If a data entry \n",
    "    is missing, then the function converts it to a NoneType.\n",
    "    '''\n",
    "    function_data = copy.deepcopy(data) # Let's make a deep copy of the data\n",
    "    for row in data:\n",
    "        \n",
    "        # Clean the vote column\n",
    "        if type(row['voted']) == type('str'):\n",
    "            if row['voted'].isdigit():\n",
    "                row['voted'] = int(row['voted'])\n",
    "            elif row['voted'] == 'NA':\n",
    "                row['voted'] = None\n",
    "\n",
    "        # Clean the age column       \n",
    "        if type(row['age']) == type('str'):  \n",
    "            if row['age'].isdigit():\n",
    "                row['age'] = int(row['age'])            \n",
    "            elif row['age'] == 'NA':\n",
    "                row['age'] = None    \n",
    "        \n",
    "    return data\n",
    "    "
   ]
  },
  {
   "cell_type": "code",
   "execution_count": 4,
   "metadata": {},
   "outputs": [
    {
     "data": {
      "text/plain": [
       "[OrderedDict([('voted', 1), ('age', 18)]),\n",
       " OrderedDict([('voted', 0), ('age', 69)]),\n",
       " OrderedDict([('voted', 1), ('age', 37)]),\n",
       " OrderedDict([('voted', 1), ('age', 63)]),\n",
       " OrderedDict([('voted', 0), ('age', 19)]),\n",
       " OrderedDict([('voted', 0), ('age', 52)]),\n",
       " OrderedDict([('voted', None), ('age', 21)]),\n",
       " OrderedDict([('voted', 1), ('age', 53)]),\n",
       " OrderedDict([('voted', 1), ('age', 20)]),\n",
       " OrderedDict([('voted', None), ('age', 23)]),\n",
       " OrderedDict([('voted', 0), ('age', 23)]),\n",
       " OrderedDict([('voted', 0), ('age', 60)]),\n",
       " OrderedDict([('voted', 0), ('age', 24)]),\n",
       " OrderedDict([('voted', 1), ('age', 70)]),\n",
       " OrderedDict([('voted', 0), ('age', 59)]),\n",
       " OrderedDict([('voted', 0), ('age', 18)]),\n",
       " OrderedDict([('voted', 1), ('age', 26)]),\n",
       " OrderedDict([('voted', 1), ('age', 26)]),\n",
       " OrderedDict([('voted', 0), ('age', 29)]),\n",
       " OrderedDict([('voted', 1), ('age', 37)])]"
      ]
     },
     "execution_count": 4,
     "metadata": {},
     "output_type": "execute_result"
    }
   ],
   "source": [
    "our_data_cleaned = clean_data(our_data)\n",
    "our_data_cleaned[20:40]"
   ]
  },
  {
   "cell_type": "markdown",
   "metadata": {},
   "source": [
    "Note how we repeated code in the code in the `clean_data` function? This is exactly the kind of thing that functions are useful to help us avoid. Let's wrap that code in its own function (within the existing function!)"
   ]
  },
  {
   "cell_type": "code",
   "execution_count": 5,
   "metadata": {},
   "outputs": [],
   "source": [
    "def scrub(row,variable=''):\n",
    "    '''\n",
    "    for each specified variable in the given row, the function\n",
    "    scans if it is a string. If so, it scans if it is a digit \n",
    "    and converts it to type int if true. If missing ('NA'), it \n",
    "    converts to type None.\n",
    "    '''\n",
    "    if type(row[variable]) == type('str'):\n",
    "            if row[variable].isdigit():\n",
    "                row[variable] = int(row[variable])\n",
    "            elif row[variable] == 'NA':\n",
    "                row[variable] = None\n",
    "\n",
    "                \n",
    "def clean_data(data=None):\n",
    "    '''\n",
    "    Take csv.DictReader data from the get_data() function and\n",
    "    scans through each entry to see if its a digit. If the entry\n",
    "    is a digit, then the function converts it to an integer. If a data entry \n",
    "    is missing, then the function converts it to a NoneType.\n",
    "    '''\n",
    "    \n",
    "    function_data = copy.deepcopy(data) # Let's make a deep copy of the data\n",
    "    \n",
    "    for row in function_data:\n",
    "        \n",
    "        # Clean the vote column\n",
    "        scrub(row,variable='voted')\n",
    "\n",
    "        # Clean the age column\n",
    "        scrub(row,variable='age')\n",
    "        \n",
    "    return data\n",
    "    "
   ]
  },
  {
   "cell_type": "markdown",
   "metadata": {},
   "source": [
    "All together now"
   ]
  },
  {
   "cell_type": "code",
   "execution_count": 6,
   "metadata": {},
   "outputs": [
    {
     "data": {
      "text/plain": [
       "[OrderedDict([('voted', '1'), ('age', '18')]),\n",
       " OrderedDict([('voted', '0'), ('age', '69')]),\n",
       " OrderedDict([('voted', '1'), ('age', '37')]),\n",
       " OrderedDict([('voted', '1'), ('age', '63')]),\n",
       " OrderedDict([('voted', '0'), ('age', '19')]),\n",
       " OrderedDict([('voted', '0'), ('age', '52')]),\n",
       " OrderedDict([('voted', 'NA'), ('age', '21')]),\n",
       " OrderedDict([('voted', '1'), ('age', '53')]),\n",
       " OrderedDict([('voted', '1'), ('age', '20')]),\n",
       " OrderedDict([('voted', 'NA'), ('age', '23')]),\n",
       " OrderedDict([('voted', '0'), ('age', '23')]),\n",
       " OrderedDict([('voted', '0'), ('age', '60')]),\n",
       " OrderedDict([('voted', '0'), ('age', '24')]),\n",
       " OrderedDict([('voted', '1'), ('age', '70')]),\n",
       " OrderedDict([('voted', '0'), ('age', '59')]),\n",
       " OrderedDict([('voted', '0'), ('age', '18')]),\n",
       " OrderedDict([('voted', '1'), ('age', '26')]),\n",
       " OrderedDict([('voted', '1'), ('age', '26')]),\n",
       " OrderedDict([('voted', '0'), ('age', '29')]),\n",
       " OrderedDict([('voted', '1'), ('age', '37')])]"
      ]
     },
     "execution_count": 6,
     "metadata": {},
     "output_type": "execute_result"
    }
   ],
   "source": [
    "our_data = get_data(\"nes_2018_age-voted.csv\")\n",
    "our_data_cleaned = clean_data(data=our_data)\n",
    "our_data_cleaned[20:40]"
   ]
  },
  {
   "cell_type": "markdown",
   "metadata": {},
   "source": [
    "# Scope\n",
    "\n",
    "Scopes are contexts in which named references can be looked up. Scopes are arranged in a hierarchy from which object references can be looked up\n",
    "\n",
    "There are 4 scopes total (From narrowest to broadest):\n",
    "    \n",
    "1. Local: name is defined inside the current function\n",
    "2. Enclosing: Any and all enclosing functions\n",
    "3. Global: Any and all names defined at the top level of a module.\n",
    "4. Built-in: names \"built into\" python through the builtins module\n",
    "\n",
    "\n",
    "Note that `for` loops and code blocks **_do not_** introduce new nested scopes. We can alter the rules slightly when need by using the `global` and `local` calls"
   ]
  },
  {
   "cell_type": "code",
   "execution_count": 45,
   "metadata": {},
   "outputs": [
    {
     "name": "stdout",
     "output_type": "stream",
     "text": [
      "val = 0\n",
      "val = 5\n"
     ]
    }
   ],
   "source": [
    "def tt():\n",
    "    print(f'val = {count}')\n",
    "count = 0\n",
    "tt()\n",
    "count = 5\n",
    "tt()"
   ]
  },
  {
   "cell_type": "markdown",
   "metadata": {},
   "source": [
    "What happened here?\n",
    "\n",
    "1. When referencing the `count` variable, python looked to see if the function was defined in the current function. \n",
    "2. Since it wasn't python then looked outside this function to see if `count` existed, there it did find a `count` object and used it. "
   ]
  },
  {
   "cell_type": "markdown",
   "metadata": {},
   "source": [
    "We can be explicit with regard to which variables we reference using the `global` keyword."
   ]
  },
  {
   "cell_type": "code",
   "execution_count": 47,
   "metadata": {},
   "outputs": [
    {
     "name": "stdout",
     "output_type": "stream",
     "text": [
      "val = 5\n"
     ]
    }
   ],
   "source": [
    "def tt():\n",
    "    global count # call to the global scope to get the object reference\n",
    "    print(f'val = {count}')    \n",
    "tt()"
   ]
  },
  {
   "cell_type": "code",
   "execution_count": 48,
   "metadata": {},
   "outputs": [
    {
     "name": "stdout",
     "output_type": "stream",
     "text": [
      "7\n",
      "3\n"
     ]
    }
   ],
   "source": [
    "# This is a global variable\n",
    "a = 0\n",
    "\n",
    "if a == 0:\n",
    "    # This is still a global variable\n",
    "    b = 1\n",
    "\n",
    "def my_function(c):\n",
    "    # this is a local variable\n",
    "    d = 3\n",
    "    print(c)\n",
    "    print(d)\n",
    "\n",
    "# Now we call the function, passing the value 7 as the first and only parameter\n",
    "my_function(7)"
   ]
  },
  {
   "cell_type": "markdown",
   "metadata": {},
   "source": [
    "We may not refer to both a global variable and a local variable by the same name inside the same function. "
   ]
  },
  {
   "cell_type": "code",
   "execution_count": 60,
   "metadata": {},
   "outputs": [
    {
     "ename": "UnboundLocalError",
     "evalue": "local variable 'a' referenced before assignment",
     "output_type": "error",
     "traceback": [
      "\u001b[0;31m---------------------------------------------------------------------------\u001b[0m",
      "\u001b[0;31mUnboundLocalError\u001b[0m                         Traceback (most recent call last)",
      "\u001b[0;32m<ipython-input-60-ee9156875ccf>\u001b[0m in \u001b[0;36m<module>\u001b[0;34m()\u001b[0m\n\u001b[1;32m      5\u001b[0m     \u001b[0mprint\u001b[0m\u001b[0;34m(\u001b[0m\u001b[0ma\u001b[0m\u001b[0;34m)\u001b[0m\u001b[0;34m\u001b[0m\u001b[0m\n\u001b[1;32m      6\u001b[0m \u001b[0;34m\u001b[0m\u001b[0m\n\u001b[0;32m----> 7\u001b[0;31m \u001b[0mmy_function\u001b[0m\u001b[0;34m(\u001b[0m\u001b[0;34m)\u001b[0m\u001b[0;34m\u001b[0m\u001b[0m\n\u001b[0m",
      "\u001b[0;32m<ipython-input-60-ee9156875ccf>\u001b[0m in \u001b[0;36mmy_function\u001b[0;34m()\u001b[0m\n\u001b[1;32m      1\u001b[0m \u001b[0ma\u001b[0m \u001b[0;34m=\u001b[0m \u001b[0;36m0\u001b[0m\u001b[0;34m\u001b[0m\u001b[0m\n\u001b[1;32m      2\u001b[0m \u001b[0;32mdef\u001b[0m \u001b[0mmy_function\u001b[0m\u001b[0;34m(\u001b[0m\u001b[0;34m)\u001b[0m\u001b[0;34m:\u001b[0m\u001b[0;34m\u001b[0m\u001b[0m\n\u001b[0;32m----> 3\u001b[0;31m     \u001b[0mprint\u001b[0m\u001b[0;34m(\u001b[0m\u001b[0ma\u001b[0m\u001b[0;34m)\u001b[0m\u001b[0;34m\u001b[0m\u001b[0m\n\u001b[0m\u001b[1;32m      4\u001b[0m     \u001b[0ma\u001b[0m \u001b[0;34m=\u001b[0m \u001b[0;36m3\u001b[0m\u001b[0;34m\u001b[0m\u001b[0m\n\u001b[1;32m      5\u001b[0m     \u001b[0mprint\u001b[0m\u001b[0;34m(\u001b[0m\u001b[0ma\u001b[0m\u001b[0;34m)\u001b[0m\u001b[0;34m\u001b[0m\u001b[0m\n",
      "\u001b[0;31mUnboundLocalError\u001b[0m: local variable 'a' referenced before assignment"
     ]
    }
   ],
   "source": [
    "a = 0\n",
    "def my_function():\n",
    "    print(a)\n",
    "    a = 3\n",
    "    print(a)\n",
    "\n",
    "my_function()"
   ]
  },
  {
   "cell_type": "code",
   "execution_count": 50,
   "metadata": {},
   "outputs": [
    {
     "name": "stdout",
     "output_type": "stream",
     "text": [
      "0\n",
      "0\n"
     ]
    }
   ],
   "source": [
    "def my_function():\n",
    "    print(a)\n",
    "    print(a)\n",
    "\n",
    "my_function()"
   ]
  },
  {
   "cell_type": "markdown",
   "metadata": {},
   "source": [
    "\n",
    ">\"Because we haven’t declared a to be global, the assignment in the second line of the function will create a local variable a. This means that we can’t refer to the global variable a elsewhere in the function, even before this line! The first print statement now refers to the local variable a – but this variable doesn’t have a value in the first line, because we haven’t assigned it yet!\n",
    "\n",
    "> Note that it is usually very bad practice to access global variables from inside functions, and even worse practice to modify them. This makes it difficult to arrange our program into logically encapsulated parts which do not affect each other in unexpected ways. If a function needs to access some external value, we should pass the value into the function as a parameter. If the function is a method of an object, it is sometimes appropriate to make the value an attribute of the same object – we will discuss this in the chapter about object orientation.\"\n",
    "\n",
    "Refer to the python documentation for a more [detailed outline](https://python-textbok.readthedocs.io/en/1.0/Variables_and_Scope.html) of scoping conditions in python. Quote drawn from site."
   ]
  },
  {
   "cell_type": "markdown",
   "metadata": {},
   "source": [
    "Again, this hits on why we want to avoid using mutable objects for default values and want to be conscious of how we are referencing variables. The two examples below seek to get at this. In the first, `my_list` references a global object. Thus, we are altering that object as we use `another_function()`. However, when we define `my_list` locally, we can get around this issue. Moreover, notice in the final code chunk how the global `my_list` still stays the same."
   ]
  },
  {
   "cell_type": "code",
   "execution_count": 56,
   "metadata": {},
   "outputs": [
    {
     "name": "stdout",
     "output_type": "stream",
     "text": [
      "[4]\n",
      "[4, 4]\n",
      "[4, 4, 4]\n"
     ]
    }
   ],
   "source": [
    "my_list = []\n",
    "\n",
    "def another_function(x):\n",
    "    my_list.append(x)\n",
    "    return my_list\n",
    "\n",
    "print(another_function(4))\n",
    "print(another_function(4))\n",
    "print(another_function(4))"
   ]
  },
  {
   "cell_type": "code",
   "execution_count": 57,
   "metadata": {},
   "outputs": [
    {
     "name": "stdout",
     "output_type": "stream",
     "text": [
      "[4]\n",
      "[4]\n",
      "[4]\n"
     ]
    }
   ],
   "source": [
    "def another_function(x):\n",
    "    my_list = []\n",
    "    my_list.append(x)\n",
    "    return my_list\n",
    "\n",
    "print(another_function(4))\n",
    "print(another_function(4))\n",
    "print(another_function(4))"
   ]
  },
  {
   "cell_type": "code",
   "execution_count": 59,
   "metadata": {},
   "outputs": [
    {
     "name": "stdout",
     "output_type": "stream",
     "text": [
      "[4]\n",
      "[4]\n",
      "[4]\n",
      "['a', 'b']\n"
     ]
    }
   ],
   "source": [
    "my_list = ['a','b']\n",
    "def another_function(x):\n",
    "    my_list = []\n",
    "    my_list.append(x)\n",
    "    return my_list\n",
    "\n",
    "print(another_function(4))\n",
    "print(another_function(4))\n",
    "print(another_function(4))\n",
    "print(my_list)"
   ]
  },
  {
   "cell_type": "markdown",
   "metadata": {},
   "source": [
    "# Anonymous Functions (`lambda`)\n",
    "\n",
    "Sometimes we need to perform a simple computation, but would rather not generate a function to do so.\n",
    "\n",
    "Example:\n",
    "\n",
    "- Say we wanted to sort this list of US Presidents by the longest to shortest last name.\n",
    "- The `sorted()` function is a built in function that can do this for us. If we were to just run this on the list, it would sort in alphabetical order. `sorted()` has two keyword arguments: `key=` and `reverse=`. The `key` argument offers us a way to define our own sorting function. "
   ]
  },
  {
   "cell_type": "code",
   "execution_count": 4,
   "metadata": {},
   "outputs": [
    {
     "data": {
      "text/plain": [
       "['Barak Obama', 'Bill Clinton', 'Donald Trump', 'George Bush', 'Jimmy Carter']"
      ]
     },
     "execution_count": 4,
     "metadata": {},
     "output_type": "execute_result"
    }
   ],
   "source": [
    "presidents = ['Barak Obama','Donald Trump','George Bush','Jimmy Carter','Bill Clinton']\n",
    "sorted(presidents)"
   ]
  },
  {
   "cell_type": "code",
   "execution_count": 25,
   "metadata": {},
   "outputs": [
    {
     "data": {
      "text/plain": [
       "['Bill Clinton', 'Jimmy Carter', 'Barak Obama', 'Donald Trump', 'George Bush']"
      ]
     },
     "execution_count": 25,
     "metadata": {},
     "output_type": "execute_result"
    }
   ],
   "source": [
    "def sort_by_longest_last_name(x):\n",
    "    return len(x.split()[-1])\n",
    "\n",
    "# Sort by longest to shortest last name.\n",
    "sorted(presidents,key=sort_by_longest_last_name,reverse=True)"
   ]
  },
  {
   "cell_type": "markdown",
   "metadata": {},
   "source": [
    "The `lambda` key word would allow us to build this function on the fly without needing to `def` a named function. "
   ]
  },
  {
   "cell_type": "code",
   "execution_count": 26,
   "metadata": {},
   "outputs": [
    {
     "data": {
      "text/plain": [
       "['Bill Clinton', 'Jimmy Carter', 'Barak Obama', 'Donald Trump', 'George Bush']"
      ]
     },
     "execution_count": 26,
     "metadata": {},
     "output_type": "execute_result"
    }
   ],
   "source": [
    "sorted(presidents,key=lambda x: len(x.split()[-1]),reverse=True)"
   ]
  },
  {
   "cell_type": "markdown",
   "metadata": {},
   "source": [
    "## Setting up the lambda function\n",
    "\n",
    "```python\n",
    "    lambda <function arguments>: <expression>\n",
    "```"
   ]
  },
  {
   "cell_type": "code",
   "execution_count": 28,
   "metadata": {},
   "outputs": [
    {
     "data": {
      "text/plain": [
       "25"
      ]
     },
     "execution_count": 28,
     "metadata": {},
     "output_type": "execute_result"
    }
   ],
   "source": [
    "square = lambda x: x**2\n",
    "square(5)"
   ]
  },
  {
   "cell_type": "markdown",
   "metadata": {},
   "source": [
    "## Using a lambda function\n",
    "\n",
    "Lambda functions are most useful when used in concert with **higher-order functions**, which are functions that take other functions as input. \n",
    "\n",
    "Two useful higher order functions are:\n",
    "\n",
    "- `map()`: Make an iterator that computes the function using arguments from\n",
    "each of the iterables.  \n",
    "- `filter()`: Return an iterator yielding those items of iterable for which function(item)\n",
    "is true. If function is None, return the items that are true.\n",
    "\n",
    "Let's explore their functionality below. Both return their own type of object, which are iterables that need to be unpacked. We can easily do this by calling the `list()` constructor."
   ]
  },
  {
   "cell_type": "code",
   "execution_count": 31,
   "metadata": {},
   "outputs": [
    {
     "data": {
      "text/plain": [
       "<map at 0x10cb2fd30>"
      ]
     },
     "execution_count": 31,
     "metadata": {},
     "output_type": "execute_result"
    }
   ],
   "source": [
    "map(lambda x, y: x + y, ['a','b','c'],['z','y','d'])"
   ]
  },
  {
   "cell_type": "code",
   "execution_count": 32,
   "metadata": {},
   "outputs": [
    {
     "data": {
      "text/plain": [
       "['az', 'by', 'cd']"
      ]
     },
     "execution_count": 32,
     "metadata": {},
     "output_type": "execute_result"
    }
   ],
   "source": [
    "list(map(lambda x, y: x + y, ['a','b','c'],['z','y','d']))"
   ]
  },
  {
   "cell_type": "code",
   "execution_count": 33,
   "metadata": {},
   "outputs": [
    {
     "data": {
      "text/plain": [
       "<filter at 0x10ca85ac8>"
      ]
     },
     "execution_count": 33,
     "metadata": {},
     "output_type": "execute_result"
    }
   ],
   "source": [
    "filter(None,[1,4,5,6,7,None,5,6])"
   ]
  },
  {
   "cell_type": "code",
   "execution_count": 34,
   "metadata": {},
   "outputs": [
    {
     "data": {
      "text/plain": [
       "[1, 4, 5, 6, 7, 5, 6]"
      ]
     },
     "execution_count": 34,
     "metadata": {},
     "output_type": "execute_result"
    }
   ],
   "source": [
    "list(filter(None,[1,4,5,6,7,None,5,6]))"
   ]
  },
  {
   "cell_type": "code",
   "execution_count": 38,
   "metadata": {},
   "outputs": [
    {
     "data": {
      "text/plain": [
       "[5, 6, 7, 5, 6]"
      ]
     },
     "execution_count": 38,
     "metadata": {},
     "output_type": "execute_result"
    }
   ],
   "source": [
    "list(filter(lambda x: x>4,[1,4,5,6,7,5,6]))"
   ]
  },
  {
   "cell_type": "code",
   "execution_count": 42,
   "metadata": {},
   "outputs": [
    {
     "data": {
      "text/plain": [
       "['This', 'Barak', 'Obama.']"
      ]
     },
     "execution_count": 42,
     "metadata": {},
     "output_type": "execute_result"
    }
   ],
   "source": [
    "sent = \"This is a sentence about Barak Obama.\".split()\n",
    "list(filter(lambda letter: letter.istitle(),sent))"
   ]
  },
  {
   "cell_type": "markdown",
   "metadata": {},
   "source": [
    "## Differences between `def` and `lambda`\n",
    "\n",
    "| `def` | `lambda` |\n",
    "|------------|--------------|\n",
    "|function statement is defined as a code chunk that is then bound to a name | function statement is a single expression|\n",
    "|must have a name | anonymous (no name)|\n",
    "|arguments delimited in the parentheses| arguments delimited before the colon|\n",
    "|`return` keyword required to return value| return value is given by the expression (i.e. whatever is the result at the end of the function (no `return` keyword used)|\n",
    "| Allows for a docstring | Does not allow for a docstring|\n",
    "\n",
    "The biggest difference lies in our ability to test the function. Since a `def` function allows us to tie a code statement to a named object, we can easily probe that object and run unit tests on its (i.e. tests to make sure the function is doing what we need it to). This isn't the case for a lambda function, so a useful rule of thumb is to keep your lambda functions simple so that they are easy to inspect to make sure they are doing what we need them to do. If a `lambda` expression gets too complicated, then it's a better idea to write an actual function for it. "
   ]
  }
 ],
 "metadata": {
  "kernelspec": {
   "display_name": "Python 3",
   "language": "python",
   "name": "python3"
  },
  "language_info": {
   "codemirror_mode": {
    "name": "ipython",
    "version": 3
   },
   "file_extension": ".py",
   "mimetype": "text/x-python",
   "name": "python",
   "nbconvert_exporter": "python",
   "pygments_lexer": "ipython3",
   "version": "3.7.0"
  },
  "toc": {
   "base_numbering": 1,
   "nav_menu": {},
   "number_sections": false,
   "sideBar": false,
   "skip_h1_title": false,
   "title_cell": "Table of Contents",
   "title_sidebar": "Contents",
   "toc_cell": false,
   "toc_position": {},
   "toc_section_display": true,
   "toc_window_display": false
  }
 },
 "nbformat": 4,
 "nbformat_minor": 2
}

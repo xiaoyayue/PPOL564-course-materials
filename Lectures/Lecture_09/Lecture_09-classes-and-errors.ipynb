{
 "cells": [
  {
   "cell_type": "markdown",
   "metadata": {},
   "source": [
    "<h1><center> PPOLS564: Foundations of Data Science </center><h1>\n",
    "<h3><center> Lecture 9 <br><br><font color='grey'> Exception Handling and Classes </font></center></h3>"
   ]
  },
  {
   "cell_type": "markdown",
   "metadata": {},
   "source": [
    "# Exception Handling\n",
    "\n",
    "Python comes with many different errors ([See here for a list of all errors](https://www.programiz.com/python-programming/exceptions)). Often we want our functions to break when they encounter an error; however, at other times, we want to be able to control what our code does when particular errors are encountered. This is where exception handling comes into play. \n",
    "\n",
    "Consider the following function, which coerces some input `x` into a float value:"
   ]
  },
  {
   "cell_type": "code",
   "execution_count": 1,
   "metadata": {},
   "outputs": [
    {
     "data": {
      "text/plain": [
       "22.0"
      ]
     },
     "execution_count": 1,
     "metadata": {},
     "output_type": "execute_result"
    }
   ],
   "source": [
    "def change(x):\n",
    "    new_x = float(x)\n",
    "    return new_x\n",
    "change(\"22\")"
   ]
  },
  {
   "cell_type": "markdown",
   "metadata": {},
   "source": [
    "When I try the same code on a string, I get a `ValueError`. That is, float doesn't know how to convert a string to a float. I gave it the wrong type of value, and it yelled at me. "
   ]
  },
  {
   "cell_type": "code",
   "execution_count": 28,
   "metadata": {},
   "outputs": [
    {
     "name": "stdout",
     "output_type": "stream",
     "text": [
      "Got this error: could not convert string to float: 'bus'\n"
     ]
    },
    {
     "ename": "ValueError",
     "evalue": "could not convert string to float: 'bus'",
     "output_type": "error",
     "traceback": [
      "\u001b[0;31m---------------------------------------------------------------------------\u001b[0m",
      "\u001b[0;31mValueError\u001b[0m                                Traceback (most recent call last)",
      "\u001b[0;32m<ipython-input-28-f43460e348d1>\u001b[0m in \u001b[0;36m<module>\u001b[0;34m()\u001b[0m\n\u001b[0;32m----> 1\u001b[0;31m \u001b[0mchange\u001b[0m\u001b[0;34m(\u001b[0m\u001b[0;34m\"bus\"\u001b[0m\u001b[0;34m)\u001b[0m\u001b[0;34m\u001b[0m\u001b[0m\n\u001b[0m",
      "\u001b[0;32m<ipython-input-21-3037e9be2b48>\u001b[0m in \u001b[0;36mchange\u001b[0;34m(x)\u001b[0m\n\u001b[1;32m      1\u001b[0m \u001b[0;32mdef\u001b[0m \u001b[0mchange\u001b[0m\u001b[0;34m(\u001b[0m\u001b[0mx\u001b[0m\u001b[0;34m)\u001b[0m\u001b[0;34m:\u001b[0m\u001b[0;34m\u001b[0m\u001b[0m\n\u001b[1;32m      2\u001b[0m     \u001b[0;32mtry\u001b[0m\u001b[0;34m:\u001b[0m\u001b[0;34m\u001b[0m\u001b[0m\n\u001b[0;32m----> 3\u001b[0;31m         \u001b[0mnew_x\u001b[0m \u001b[0;34m=\u001b[0m \u001b[0mfloat\u001b[0m\u001b[0;34m(\u001b[0m\u001b[0mx\u001b[0m\u001b[0;34m)\u001b[0m\u001b[0;34m\u001b[0m\u001b[0m\n\u001b[0m\u001b[1;32m      4\u001b[0m     \u001b[0;32mexcept\u001b[0m \u001b[0;34m(\u001b[0m\u001b[0mValueError\u001b[0m\u001b[0;34m,\u001b[0m\u001b[0mTypeError\u001b[0m\u001b[0;34m)\u001b[0m \u001b[0;32mas\u001b[0m \u001b[0me\u001b[0m\u001b[0;34m:\u001b[0m\u001b[0;34m\u001b[0m\u001b[0m\n\u001b[1;32m      5\u001b[0m         \u001b[0mprint\u001b[0m\u001b[0;34m(\u001b[0m\u001b[0;34mf'Got this error: {e}'\u001b[0m\u001b[0;34m)\u001b[0m\u001b[0;34m\u001b[0m\u001b[0m\n",
      "\u001b[0;31mValueError\u001b[0m: could not convert string to float: 'bus'"
     ]
    }
   ],
   "source": [
    "change(\"bus\")"
   ]
  },
  {
   "cell_type": "markdown",
   "metadata": {},
   "source": [
    "### `try-except`\n",
    "\n",
    "We can control what python does with particular errors using the \"try-except\" key words, which behave as follows:\n",
    "\n",
    "```python\n",
    "try:\n",
    "    <try this code chunk>\n",
    "except ParticularError:\n",
    "    <if you get this ParticularError, do this>\n",
    "```"
   ]
  },
  {
   "cell_type": "code",
   "execution_count": 29,
   "metadata": {},
   "outputs": [
    {
     "name": "stdout",
     "output_type": "stream",
     "text": [
      "I can't do anything with this input. Try a different value\n"
     ]
    }
   ],
   "source": [
    "def change(x):\n",
    "    try:\n",
    "        new_x = float(x)\n",
    "    except ValueError: \n",
    "        print(\"I can't do anything with this input. Try a different value\")\n",
    "        new_x = None\n",
    "    return new_x\n",
    "\n",
    "change(\"bus\")"
   ]
  },
  {
   "cell_type": "markdown",
   "metadata": {},
   "source": [
    "As noted, there are [many types of errors](https://www.programiz.com/python-programming/exceptions), meaning there are many ways in which our code can break. \n",
    "\n",
    "For example, let's feed a list to our change function."
   ]
  },
  {
   "cell_type": "code",
   "execution_count": 8,
   "metadata": {},
   "outputs": [
    {
     "ename": "TypeError",
     "evalue": "float() argument must be a string or a number, not 'list'",
     "output_type": "error",
     "traceback": [
      "\u001b[0;31m---------------------------------------------------------------------------\u001b[0m",
      "\u001b[0;31mTypeError\u001b[0m                                 Traceback (most recent call last)",
      "\u001b[0;32m<ipython-input-8-b9aab8bc5461>\u001b[0m in \u001b[0;36m<module>\u001b[0;34m()\u001b[0m\n\u001b[0;32m----> 1\u001b[0;31m \u001b[0mchange\u001b[0m\u001b[0;34m(\u001b[0m\u001b[0;34m[\u001b[0m\u001b[0;36m1\u001b[0m\u001b[0;34m,\u001b[0m\u001b[0;36m2\u001b[0m\u001b[0;34m,\u001b[0m\u001b[0;36m3\u001b[0m\u001b[0;34m]\u001b[0m\u001b[0;34m)\u001b[0m\u001b[0;34m\u001b[0m\u001b[0m\n\u001b[0m",
      "\u001b[0;32m<ipython-input-6-20ab382eb672>\u001b[0m in \u001b[0;36mchange\u001b[0;34m(x)\u001b[0m\n\u001b[1;32m      1\u001b[0m \u001b[0;32mdef\u001b[0m \u001b[0mchange\u001b[0m\u001b[0;34m(\u001b[0m\u001b[0mx\u001b[0m\u001b[0;34m)\u001b[0m\u001b[0;34m:\u001b[0m\u001b[0;34m\u001b[0m\u001b[0m\n\u001b[1;32m      2\u001b[0m     \u001b[0;32mtry\u001b[0m\u001b[0;34m:\u001b[0m\u001b[0;34m\u001b[0m\u001b[0m\n\u001b[0;32m----> 3\u001b[0;31m         \u001b[0mnew_x\u001b[0m \u001b[0;34m=\u001b[0m \u001b[0mfloat\u001b[0m\u001b[0;34m(\u001b[0m\u001b[0mx\u001b[0m\u001b[0;34m)\u001b[0m\u001b[0;34m\u001b[0m\u001b[0m\n\u001b[0m\u001b[1;32m      4\u001b[0m     \u001b[0;32mexcept\u001b[0m \u001b[0mValueError\u001b[0m\u001b[0;34m:\u001b[0m\u001b[0;34m\u001b[0m\u001b[0m\n\u001b[1;32m      5\u001b[0m         \u001b[0mprint\u001b[0m\u001b[0;34m(\u001b[0m\u001b[0;34m\"I can't do anything with this input. Try a different value\"\u001b[0m\u001b[0;34m)\u001b[0m\u001b[0;34m\u001b[0m\u001b[0m\n",
      "\u001b[0;31mTypeError\u001b[0m: float() argument must be a string or a number, not 'list'"
     ]
    }
   ],
   "source": [
    "change([1,2,3])"
   ]
  },
  {
   "cell_type": "markdown",
   "metadata": {},
   "source": [
    "I get a TypeError because I fed the `float()` constructor the wrong type. We can get around this by stringing (a) multiple exceptions with different error types or (b) multiple error types into our exception."
   ]
  },
  {
   "cell_type": "code",
   "execution_count": 9,
   "metadata": {},
   "outputs": [
    {
     "name": "stdout",
     "output_type": "stream",
     "text": [
      "I can't do anything with this input. Try a different value\n"
     ]
    }
   ],
   "source": [
    "def change(x):\n",
    "    try:\n",
    "        new_x = float(x)\n",
    "    except ValueError: \n",
    "        print(\"I can't do anything with this input. Try a different value\")\n",
    "        new_x = None\n",
    "    except TypeError: \n",
    "        print(\"I can't do anything with this input. Try a different value\")\n",
    "        new_x = None        \n",
    "    return new_x\n",
    "change([1,2,3])"
   ]
  },
  {
   "cell_type": "code",
   "execution_count": 10,
   "metadata": {},
   "outputs": [
    {
     "name": "stdout",
     "output_type": "stream",
     "text": [
      "I can't do anything with this input. Try a different value\n"
     ]
    }
   ],
   "source": [
    "# OR\n",
    "def change(x):\n",
    "    try:\n",
    "        new_x = float(x)\n",
    "    except (ValueError,TypeError): \n",
    "        print(\"I can't do anything with this input. Try a different value\")\n",
    "        new_x = None\n",
    "    return new_x\n",
    "change([1,2,3])"
   ]
  },
  {
   "cell_type": "markdown",
   "metadata": {},
   "source": [
    "We can capture error statements as an object using `as`."
   ]
  },
  {
   "cell_type": "code",
   "execution_count": 19,
   "metadata": {},
   "outputs": [
    {
     "name": "stdout",
     "output_type": "stream",
     "text": [
      "Got this error: float() argument must be a string or a number, not 'list'\n",
      "Got this error: could not convert string to float: 'this'\n"
     ]
    }
   ],
   "source": [
    "def change(x):\n",
    "    try:\n",
    "        new_x = float(x)\n",
    "    except (ValueError,TypeError) as e: \n",
    "        print(f'Got this error: {e}')\n",
    "        new_x = None\n",
    "    return new_x\n",
    "\n",
    "change([1,2,3])\n",
    "change(\"this\")"
   ]
  },
  {
   "cell_type": "markdown",
   "metadata": {},
   "source": [
    "### `raise`-ing errors\n",
    "\n",
    "Errors can be re-raise after being captured using the `raise` keyword."
   ]
  },
  {
   "cell_type": "code",
   "execution_count": 21,
   "metadata": {},
   "outputs": [
    {
     "name": "stdout",
     "output_type": "stream",
     "text": [
      "Got this error: float() argument must be a string or a number, not 'list'\n"
     ]
    },
    {
     "ename": "TypeError",
     "evalue": "float() argument must be a string or a number, not 'list'",
     "output_type": "error",
     "traceback": [
      "\u001b[0;31m---------------------------------------------------------------------------\u001b[0m",
      "\u001b[0;31mTypeError\u001b[0m                                 Traceback (most recent call last)",
      "\u001b[0;32m<ipython-input-21-3037e9be2b48>\u001b[0m in \u001b[0;36m<module>\u001b[0;34m()\u001b[0m\n\u001b[1;32m      7\u001b[0m     \u001b[0;32mreturn\u001b[0m \u001b[0mnew_x\u001b[0m\u001b[0;34m\u001b[0m\u001b[0m\n\u001b[1;32m      8\u001b[0m \u001b[0;34m\u001b[0m\u001b[0m\n\u001b[0;32m----> 9\u001b[0;31m \u001b[0mchange\u001b[0m\u001b[0;34m(\u001b[0m\u001b[0;34m[\u001b[0m\u001b[0;36m1\u001b[0m\u001b[0;34m,\u001b[0m\u001b[0;36m2\u001b[0m\u001b[0;34m,\u001b[0m\u001b[0;36m3\u001b[0m\u001b[0;34m]\u001b[0m\u001b[0;34m)\u001b[0m\u001b[0;34m\u001b[0m\u001b[0m\n\u001b[0m",
      "\u001b[0;32m<ipython-input-21-3037e9be2b48>\u001b[0m in \u001b[0;36mchange\u001b[0;34m(x)\u001b[0m\n\u001b[1;32m      1\u001b[0m \u001b[0;32mdef\u001b[0m \u001b[0mchange\u001b[0m\u001b[0;34m(\u001b[0m\u001b[0mx\u001b[0m\u001b[0;34m)\u001b[0m\u001b[0;34m:\u001b[0m\u001b[0;34m\u001b[0m\u001b[0m\n\u001b[1;32m      2\u001b[0m     \u001b[0;32mtry\u001b[0m\u001b[0;34m:\u001b[0m\u001b[0;34m\u001b[0m\u001b[0m\n\u001b[0;32m----> 3\u001b[0;31m         \u001b[0mnew_x\u001b[0m \u001b[0;34m=\u001b[0m \u001b[0mfloat\u001b[0m\u001b[0;34m(\u001b[0m\u001b[0mx\u001b[0m\u001b[0;34m)\u001b[0m\u001b[0;34m\u001b[0m\u001b[0m\n\u001b[0m\u001b[1;32m      4\u001b[0m     \u001b[0;32mexcept\u001b[0m \u001b[0;34m(\u001b[0m\u001b[0mValueError\u001b[0m\u001b[0;34m,\u001b[0m\u001b[0mTypeError\u001b[0m\u001b[0;34m)\u001b[0m \u001b[0;32mas\u001b[0m \u001b[0me\u001b[0m\u001b[0;34m:\u001b[0m\u001b[0;34m\u001b[0m\u001b[0m\n\u001b[1;32m      5\u001b[0m         \u001b[0mprint\u001b[0m\u001b[0;34m(\u001b[0m\u001b[0;34mf'Got this error: {e}'\u001b[0m\u001b[0;34m)\u001b[0m\u001b[0;34m\u001b[0m\u001b[0m\n",
      "\u001b[0;31mTypeError\u001b[0m: float() argument must be a string or a number, not 'list'"
     ]
    }
   ],
   "source": [
    "def change(x):\n",
    "    try:\n",
    "        new_x = float(x)\n",
    "    except (ValueError,TypeError) as e: \n",
    "        print(f'Got this error: {e}')\n",
    "        raise\n",
    "    return new_x\n",
    "\n",
    "change([1,2,3])"
   ]
  },
  {
   "cell_type": "markdown",
   "metadata": {},
   "source": [
    "We can even have our code raise specific error types when need be."
   ]
  },
  {
   "cell_type": "code",
   "execution_count": 23,
   "metadata": {},
   "outputs": [
    {
     "ename": "ValueError",
     "evalue": "",
     "output_type": "error",
     "traceback": [
      "\u001b[0;31m---------------------------------------------------------------------------\u001b[0m",
      "\u001b[0;31mValueError\u001b[0m                                Traceback (most recent call last)",
      "\u001b[0;32m<ipython-input-23-bd95dd0122a2>\u001b[0m in \u001b[0;36m<module>\u001b[0;34m()\u001b[0m\n\u001b[1;32m      7\u001b[0m         \u001b[0mprint\u001b[0m\u001b[0;34m(\u001b[0m\u001b[0mx\u001b[0m\u001b[0;34m)\u001b[0m\u001b[0;34m\u001b[0m\u001b[0m\n\u001b[1;32m      8\u001b[0m \u001b[0;34m\u001b[0m\u001b[0m\n\u001b[0;32m----> 9\u001b[0;31m \u001b[0merror_prone\u001b[0m\u001b[0;34m(\u001b[0m\u001b[0;36m1\u001b[0m\u001b[0;34m)\u001b[0m\u001b[0;34m\u001b[0m\u001b[0m\n\u001b[0m",
      "\u001b[0;32m<ipython-input-23-bd95dd0122a2>\u001b[0m in \u001b[0;36merror_prone\u001b[0;34m(x)\u001b[0m\n\u001b[1;32m      1\u001b[0m \u001b[0;32mdef\u001b[0m \u001b[0merror_prone\u001b[0m\u001b[0;34m(\u001b[0m\u001b[0mx\u001b[0m\u001b[0;34m)\u001b[0m\u001b[0;34m:\u001b[0m\u001b[0;34m\u001b[0m\u001b[0m\n\u001b[1;32m      2\u001b[0m     \u001b[0;32mif\u001b[0m \u001b[0mx\u001b[0m \u001b[0;34m==\u001b[0m \u001b[0;36m1\u001b[0m\u001b[0;34m:\u001b[0m\u001b[0;34m\u001b[0m\u001b[0m\n\u001b[0;32m----> 3\u001b[0;31m         \u001b[0;32mraise\u001b[0m \u001b[0mValueError\u001b[0m\u001b[0;34m(\u001b[0m\u001b[0;34m)\u001b[0m\u001b[0;34m\u001b[0m\u001b[0m\n\u001b[0m\u001b[1;32m      4\u001b[0m     \u001b[0;32melif\u001b[0m \u001b[0mx\u001b[0m \u001b[0;34m==\u001b[0m \u001b[0;36m2\u001b[0m\u001b[0;34m:\u001b[0m\u001b[0;34m\u001b[0m\u001b[0m\n\u001b[1;32m      5\u001b[0m         \u001b[0;32mraise\u001b[0m \u001b[0mIndentationError\u001b[0m\u001b[0;34m(\u001b[0m\u001b[0;34m)\u001b[0m\u001b[0;34m\u001b[0m\u001b[0m\n",
      "\u001b[0;31mValueError\u001b[0m: "
     ]
    }
   ],
   "source": [
    "def error_prone(x):\n",
    "    if x == 1:\n",
    "        raise ValueError()\n",
    "    elif x == 2:\n",
    "        raise IndentationError()\n",
    "    else:\n",
    "        print(x)\n",
    "\n",
    "error_prone(1)    "
   ]
  },
  {
   "cell_type": "code",
   "execution_count": 24,
   "metadata": {},
   "outputs": [
    {
     "ename": "IndentationError",
     "evalue": "None (<string>)",
     "output_type": "error",
     "traceback": [
      "Traceback \u001b[0;36m(most recent call last)\u001b[0m:\n",
      "  File \u001b[1;32m\"/Library/Frameworks/Python.framework/Versions/3.7/lib/python3.7/site-packages/IPython/core/interactiveshell.py\"\u001b[0m, line \u001b[1;32m2961\u001b[0m, in \u001b[1;35mrun_code\u001b[0m\n    exec(code_obj, self.user_global_ns, self.user_ns)\n",
      "  File \u001b[1;32m\"<ipython-input-24-487bc9c5b725>\"\u001b[0m, line \u001b[1;32m1\u001b[0m, in \u001b[1;35m<module>\u001b[0m\n    error_prone(2)\n",
      "\u001b[0;36m  File \u001b[0;32m\"<ipython-input-23-bd95dd0122a2>\"\u001b[0;36m, line \u001b[0;32m5\u001b[0;36m, in \u001b[0;35merror_prone\u001b[0;36m\u001b[0m\n\u001b[0;31m    raise IndentationError()\u001b[0m\n",
      "\u001b[0;36m  File \u001b[0;32m\"<string>\"\u001b[0;36m, line \u001b[0;32munknown\u001b[0m\n\u001b[0;31mIndentationError\u001b[0m\n"
     ]
    }
   ],
   "source": [
    "error_prone(2)"
   ]
  },
  {
   "cell_type": "markdown",
   "metadata": {},
   "source": [
    "### Common errors\n",
    "\n",
    "- **`IndexError`**: Raised when index of a sequence is out of range."
   ]
  },
  {
   "cell_type": "code",
   "execution_count": 25,
   "metadata": {},
   "outputs": [
    {
     "ename": "IndexError",
     "evalue": "list index out of range",
     "output_type": "error",
     "traceback": [
      "\u001b[0;31m---------------------------------------------------------------------------\u001b[0m",
      "\u001b[0;31mIndexError\u001b[0m                                Traceback (most recent call last)",
      "\u001b[0;32m<ipython-input-25-d6df9ebb23f3>\u001b[0m in \u001b[0;36m<module>\u001b[0;34m()\u001b[0m\n\u001b[1;32m      1\u001b[0m \u001b[0mx\u001b[0m \u001b[0;34m=\u001b[0m \u001b[0;34m[\u001b[0m\u001b[0;36m1\u001b[0m\u001b[0;34m,\u001b[0m\u001b[0;36m2\u001b[0m\u001b[0;34m,\u001b[0m\u001b[0;36m3\u001b[0m\u001b[0;34m,\u001b[0m\u001b[0;36m4\u001b[0m\u001b[0;34m]\u001b[0m\u001b[0;34m\u001b[0m\u001b[0m\n\u001b[0;32m----> 2\u001b[0;31m \u001b[0mx\u001b[0m\u001b[0;34m[\u001b[0m\u001b[0;36m5\u001b[0m\u001b[0;34m]\u001b[0m\u001b[0;34m\u001b[0m\u001b[0m\n\u001b[0m",
      "\u001b[0;31mIndexError\u001b[0m: list index out of range"
     ]
    }
   ],
   "source": [
    "x = [1,2,3,4]\n",
    "x[5]"
   ]
  },
  {
   "cell_type": "markdown",
   "metadata": {},
   "source": [
    "- **`ValueError`**: Raised when a function gets argument of correct type but improper value."
   ]
  },
  {
   "cell_type": "code",
   "execution_count": 27,
   "metadata": {},
   "outputs": [
    {
     "ename": "ValueError",
     "evalue": "invalid literal for int() with base 10: 'car'",
     "output_type": "error",
     "traceback": [
      "\u001b[0;31m---------------------------------------------------------------------------\u001b[0m",
      "\u001b[0;31mValueError\u001b[0m                                Traceback (most recent call last)",
      "\u001b[0;32m<ipython-input-27-088c7417c328>\u001b[0m in \u001b[0;36m<module>\u001b[0;34m()\u001b[0m\n\u001b[0;32m----> 1\u001b[0;31m \u001b[0mint\u001b[0m\u001b[0;34m(\u001b[0m\u001b[0;34m\"car\"\u001b[0m\u001b[0;34m)\u001b[0m\u001b[0;34m\u001b[0m\u001b[0m\n\u001b[0m",
      "\u001b[0;31mValueError\u001b[0m: invalid literal for int() with base 10: 'car'"
     ]
    }
   ],
   "source": [
    "int(\"car\")"
   ]
  },
  {
   "cell_type": "markdown",
   "metadata": {},
   "source": [
    "- **`KeyError`**: Raised when a key is not found in a dictionary."
   ]
  },
  {
   "cell_type": "code",
   "execution_count": 31,
   "metadata": {},
   "outputs": [
    {
     "ename": "KeyError",
     "evalue": "'D'",
     "output_type": "error",
     "traceback": [
      "\u001b[0;31m---------------------------------------------------------------------------\u001b[0m",
      "\u001b[0;31mKeyError\u001b[0m                                  Traceback (most recent call last)",
      "\u001b[0;32m<ipython-input-31-6ceeaf75f3bd>\u001b[0m in \u001b[0;36m<module>\u001b[0;34m()\u001b[0m\n\u001b[1;32m      1\u001b[0m \u001b[0my\u001b[0m \u001b[0;34m=\u001b[0m \u001b[0;34m{\u001b[0m\u001b[0;34m'A'\u001b[0m\u001b[0;34m:\u001b[0m\u001b[0;36m4\u001b[0m\u001b[0;34m,\u001b[0m\u001b[0;34m'B'\u001b[0m\u001b[0;34m:\u001b[0m\u001b[0;36m6\u001b[0m\u001b[0;34m,\u001b[0m\u001b[0;34m'C'\u001b[0m\u001b[0;34m:\u001b[0m\u001b[0;36m7\u001b[0m\u001b[0;34m}\u001b[0m\u001b[0;34m\u001b[0m\u001b[0m\n\u001b[0;32m----> 2\u001b[0;31m \u001b[0my\u001b[0m\u001b[0;34m[\u001b[0m\u001b[0;34m'D'\u001b[0m\u001b[0;34m]\u001b[0m\u001b[0;34m\u001b[0m\u001b[0m\n\u001b[0m",
      "\u001b[0;31mKeyError\u001b[0m: 'D'"
     ]
    }
   ],
   "source": [
    "y = {'A':4,'B':6,'C':7}\n",
    "y['D']"
   ]
  },
  {
   "cell_type": "markdown",
   "metadata": {},
   "source": [
    "- **`TypeError`**: Raised when a function or operation is applied to an object of incorrect type.\n",
    "\n",
    "> **Note**: Avoid protecting against TypeErrors. Doing so goes against the dynamic typing framework in python. If your function can't work with a specific data type, it's better that python throws an error. "
   ]
  },
  {
   "cell_type": "code",
   "execution_count": 32,
   "metadata": {},
   "outputs": [
    {
     "ename": "TypeError",
     "evalue": "int() argument must be a string, a bytes-like object or a number, not 'list'",
     "output_type": "error",
     "traceback": [
      "\u001b[0;31m---------------------------------------------------------------------------\u001b[0m",
      "\u001b[0;31mTypeError\u001b[0m                                 Traceback (most recent call last)",
      "\u001b[0;32m<ipython-input-32-b245c803b39f>\u001b[0m in \u001b[0;36m<module>\u001b[0;34m()\u001b[0m\n\u001b[0;32m----> 1\u001b[0;31m \u001b[0mint\u001b[0m\u001b[0;34m(\u001b[0m\u001b[0;34m[\u001b[0m\u001b[0;36m1\u001b[0m\u001b[0;34m,\u001b[0m\u001b[0;36m2\u001b[0m\u001b[0;34m,\u001b[0m\u001b[0;36m3\u001b[0m\u001b[0;34m]\u001b[0m\u001b[0;34m)\u001b[0m\u001b[0;34m\u001b[0m\u001b[0m\n\u001b[0m",
      "\u001b[0;31mTypeError\u001b[0m: int() argument must be a string, a bytes-like object or a number, not 'list'"
     ]
    }
   ],
   "source": [
    "int([1,2,3])"
   ]
  },
  {
   "cell_type": "markdown",
   "metadata": {},
   "source": [
    "### The Errors that refuse to be captured\n",
    "\n",
    "Note that there are **some errors that _cannot_ be captured** as they are due to programming errors (i.e. we structured our code wrong). \n",
    "\n",
    "Examples of these:\n",
    "\n",
    "- `NameError`: Raised when a variable is not found in local or global scope."
   ]
  },
  {
   "cell_type": "code",
   "execution_count": 11,
   "metadata": {},
   "outputs": [
    {
     "ename": "NameError",
     "evalue": "name 'd' is not defined",
     "output_type": "error",
     "traceback": [
      "\u001b[0;31m---------------------------------------------------------------------------\u001b[0m",
      "\u001b[0;31mNameError\u001b[0m                                 Traceback (most recent call last)",
      "\u001b[0;32m<ipython-input-11-e983f374794d>\u001b[0m in \u001b[0;36m<module>\u001b[0;34m()\u001b[0m\n\u001b[0;32m----> 1\u001b[0;31m \u001b[0md\u001b[0m\u001b[0;34m\u001b[0m\u001b[0m\n\u001b[0m",
      "\u001b[0;31mNameError\u001b[0m: name 'd' is not defined"
     ]
    }
   ],
   "source": [
    "d"
   ]
  },
  {
   "cell_type": "markdown",
   "metadata": {},
   "source": [
    "- `SyntaxError`: Raised by parser when syntax error is encountered."
   ]
  },
  {
   "cell_type": "code",
   "execution_count": 12,
   "metadata": {},
   "outputs": [
    {
     "ename": "SyntaxError",
     "evalue": "invalid syntax (<ipython-input-12-5d5dd44867a2>, line 1)",
     "output_type": "error",
     "traceback": [
      "\u001b[0;36m  File \u001b[0;32m\"<ipython-input-12-5d5dd44867a2>\"\u001b[0;36m, line \u001b[0;32m1\u001b[0m\n\u001b[0;31m    def x()\u001b[0m\n\u001b[0m           ^\u001b[0m\n\u001b[0;31mSyntaxError\u001b[0m\u001b[0;31m:\u001b[0m invalid syntax\n"
     ]
    }
   ],
   "source": [
    "def x()"
   ]
  },
  {
   "cell_type": "markdown",
   "metadata": {},
   "source": [
    "- `IndentationError`: Raised when there is incorrect indentation."
   ]
  },
  {
   "cell_type": "code",
   "execution_count": 15,
   "metadata": {},
   "outputs": [
    {
     "ename": "IndentationError",
     "evalue": "expected an indented block (<ipython-input-15-008ad155395e>, line 2)",
     "output_type": "error",
     "traceback": [
      "\u001b[0;36m  File \u001b[0;32m\"<ipython-input-15-008ad155395e>\"\u001b[0;36m, line \u001b[0;32m2\u001b[0m\n\u001b[0;31m    pass\u001b[0m\n\u001b[0m       ^\u001b[0m\n\u001b[0;31mIndentationError\u001b[0m\u001b[0;31m:\u001b[0m expected an indented block\n"
     ]
    }
   ],
   "source": [
    "def x():\n",
    "pass"
   ]
  },
  {
   "cell_type": "markdown",
   "metadata": {},
   "source": [
    "### `try-finally`\n",
    "\n",
    "```python\n",
    "try:\n",
    "    <try this>\n",
    "finally:\n",
    "    <even if the try block fails, still return this.>\n",
    "```"
   ]
  },
  {
   "cell_type": "code",
   "execution_count": 45,
   "metadata": {},
   "outputs": [
    {
     "name": "stdout",
     "output_type": "stream",
     "text": [
      "great\n",
      "3.0\n",
      "great\n",
      "1\n"
     ]
    }
   ],
   "source": [
    "def change2(x):\n",
    "    try:\n",
    "        new_x = float(x)\n",
    "    except ValueError:\n",
    "        new_x = 1        \n",
    "    finally:\n",
    "        print(\"great\")\n",
    "    print(new_x)\n",
    "    \n",
    "change2(3)\n",
    "change2(\"bus\")"
   ]
  },
  {
   "cell_type": "markdown",
   "metadata": {},
   "source": [
    "---\n",
    "\n",
    "# Classes \n",
    "\n",
    "Classes are the way of defining the structure and behavior of an object at the time when we create the object. An object's class controls its initialization and which attributes are available through the object. Classes make complex problems tractable but class can make simple solutions overly complex as well. Thus, we need to strike a balance when using classes. \n",
    "\n",
    "We can initialize a class using the `class` keyword, which is a built in that allows us to define the class object. The convention is to use \"camel-case\" when naming classes in python. Class is a statement that binds the class level code to the class name."
   ]
  },
  {
   "cell_type": "code",
   "execution_count": 1,
   "metadata": {},
   "outputs": [],
   "source": [
    "class DataWrangler:\n",
    "    pass "
   ]
  },
  {
   "cell_type": "markdown",
   "metadata": {},
   "source": [
    "We **initialize** a class by calling **constructor** (which we just created)."
   ]
  },
  {
   "cell_type": "code",
   "execution_count": 3,
   "metadata": {},
   "outputs": [
    {
     "data": {
      "text/plain": [
       "__main__.DataWrangler"
      ]
     },
     "execution_count": 3,
     "metadata": {},
     "output_type": "execute_result"
    }
   ],
   "source": [
    "DW = DataWrangler()\n",
    "type(DW) # It is of type 'DataWrangler'"
   ]
  },
  {
   "cell_type": "markdown",
   "metadata": {},
   "source": [
    "#### What is going on here?\n",
    "\n",
    "Recall when we write a function using the `def` keyword, we are binding the code contained in that function's code chunk to the specified name.\n",
    "```python\n",
    "def this_name(x)\n",
    "    return x**2\n",
    "```\n",
    "binds the code `x**2` to the name `this_name`.\n",
    "\n",
    "\n",
    "Likewise, we can can do this with larger, more complex chunks of code using classes. \n",
    "\n",
    "```python\n",
    "class MyClass:\n",
    "    \n",
    "    def func_1():\n",
    "    \n",
    "    def func_2():\n",
    "    \n",
    "    def func_n():\n",
    "```\n",
    "\n",
    "**Classes** offer a way of housing whole systems of code to an object. In essence, it offers us a way to create our own object types with their own methods (internal functions) and attributes (dunder). Put simply, a class is a logical grouping of data and functions."
   ]
  },
  {
   "cell_type": "code",
   "execution_count": 52,
   "metadata": {},
   "outputs": [],
   "source": [
    "class DataWrangler:\n",
    "    \n",
    "    def __init__(self):\n",
    "        self\n",
    "\n",
    "    def say_hello(self):\n",
    "        print('Hello!')"
   ]
  },
  {
   "cell_type": "code",
   "execution_count": 53,
   "metadata": {},
   "outputs": [
    {
     "name": "stdout",
     "output_type": "stream",
     "text": [
      "Hello!\n"
     ]
    }
   ],
   "source": [
    "DW = DataWrangler()\n",
    "DW.say_hello()"
   ]
  },
  {
   "cell_type": "markdown",
   "metadata": {},
   "source": [
    "A `class` is a \"blueprint\" for what we'd like our object to look, but we don't \"create\" the object when we read in the class code. Rather we do so when we create an **instance** of the class, i.e. use our class constructor `DataWrangeler()` and assign it to some object, `DW`.\n",
    "\n",
    "For a nice post on classes, see [Jeff Knupp's post on the topic](https://jeffknupp.com/blog/2014/06/18/improve-your-python-python-classes-and-object-oriented-programming/)."
   ]
  },
  {
   "cell_type": "markdown",
   "metadata": {},
   "source": [
    "## `class` features\n",
    "\n",
    "- **self** &rarr; the _instance_ of the class.\n",
    "- **__init__** &rarr; allows us to bind object to the instance when initializing the object.\n",
    "- **instance method** &rarr; a function defined within a class. This is a function that takes `self` as an argument.\n",
    "- **method** &rarr; a function can be called on objects that exist outside the class. This is a function that does not take `self` as an argument."
   ]
  },
  {
   "cell_type": "markdown",
   "metadata": {},
   "source": [
    "#### `self`\n",
    "\n",
    "When we initialize our class object, we create an instance of it. `self` offers us a way of referencing that instance."
   ]
  },
  {
   "cell_type": "code",
   "execution_count": 60,
   "metadata": {},
   "outputs": [
    {
     "name": "stdout",
     "output_type": "stream",
     "text": [
      "Cat\n"
     ]
    }
   ],
   "source": [
    "class DataWrangler:\n",
    "\n",
    "    def say_hello(self,word):\n",
    "        print(word)\n",
    "        \n",
    "DW = DataWrangler()\n",
    "DW.say_hello(word=\"Cat\")"
   ]
  },
  {
   "cell_type": "markdown",
   "metadata": {},
   "source": [
    "This is equivalent to passing the following..."
   ]
  },
  {
   "cell_type": "code",
   "execution_count": 63,
   "metadata": {},
   "outputs": [
    {
     "name": "stdout",
     "output_type": "stream",
     "text": [
      "Cat\n"
     ]
    }
   ],
   "source": [
    "DataWrangler.say_hello(DW,word=\"Cat\")"
   ]
  },
  {
   "cell_type": "markdown",
   "metadata": {},
   "source": [
    "#### `__init__`\n",
    "\n",
    "We can store data within it and pass information to the various functionality within the class that is bound to the instance upon initialization. That is, when we first create the object, we can store initial information that we can then share internally with the other methods in our class. The `__init__` attribute is known as the \"initializer\"."
   ]
  },
  {
   "cell_type": "code",
   "execution_count": 75,
   "metadata": {},
   "outputs": [
    {
     "name": "stdout",
     "output_type": "stream",
     "text": [
      "Cat\n"
     ]
    }
   ],
   "source": [
    "class DataWrangler:\n",
    "\n",
    "    def __init__(self,word=''):\n",
    "        self.word = word\n",
    "    \n",
    "    def say_hello(self):\n",
    "        print(self.word)\n",
    "        \n",
    "DW = DataWrangler(word=\"Cat\")\n",
    "DW.say_hello()"
   ]
  },
  {
   "cell_type": "markdown",
   "metadata": {},
   "source": [
    "We can access the data (variables) we assign to the instances and overwrite them just as we would any other object."
   ]
  },
  {
   "cell_type": "code",
   "execution_count": 76,
   "metadata": {},
   "outputs": [
    {
     "data": {
      "text/plain": [
       "'Cat'"
      ]
     },
     "execution_count": 76,
     "metadata": {},
     "output_type": "execute_result"
    }
   ],
   "source": [
    "DW.word"
   ]
  },
  {
   "cell_type": "code",
   "execution_count": 77,
   "metadata": {},
   "outputs": [
    {
     "name": "stdout",
     "output_type": "stream",
     "text": [
      "Dog\n"
     ]
    }
   ],
   "source": [
    "DW.word = \"Dog\"\n",
    "DW.say_hello()"
   ]
  },
  {
   "cell_type": "markdown",
   "metadata": {},
   "source": [
    "#### instance method\n",
    "\n",
    "An instance method is a function that requires an instances of the class in order to run. Put differently, it requires `self` to be an argument in the function. This gives the function to all the data and values contained within a specific instance, which can be a convenient and powerful way to pass around information.\n",
    "\n",
    "The `say_hello()` function is an example of such a method."
   ]
  },
  {
   "cell_type": "markdown",
   "metadata": {},
   "source": [
    "#### method\n",
    "\n",
    "A method is a function that does not require the instance to run. For example, see the function `add()`, note that we do not initialize the object and then use the function. "
   ]
  },
  {
   "cell_type": "code",
   "execution_count": 72,
   "metadata": {},
   "outputs": [
    {
     "data": {
      "text/plain": [
       "5"
      ]
     },
     "execution_count": 72,
     "metadata": {},
     "output_type": "execute_result"
    }
   ],
   "source": [
    "class DataWrangler:\n",
    "\n",
    "    def __init__(self,word=''):\n",
    "        self.word = word\n",
    "    \n",
    "    def say_hello(self):\n",
    "        print(self.word)\n",
    "        \n",
    "    def add(x,y):\n",
    "        return x + y\n",
    "    \n",
    "DataWrangler.add(2,3)"
   ]
  },
  {
   "cell_type": "markdown",
   "metadata": {},
   "source": [
    "#### class objects "
   ]
  },
  {
   "cell_type": "code",
   "execution_count": 90,
   "metadata": {},
   "outputs": [
    {
     "name": "stdout",
     "output_type": "stream",
     "text": [
      "hello!\n"
     ]
    }
   ],
   "source": [
    "class DataWrangler:\n",
    "    \n",
    "    new_word = \"!\"\n",
    "\n",
    "    def __init__(self,word=''):\n",
    "        self.word = word\n",
    "    \n",
    "    def say_hello(self):\n",
    "        print(self.word + DataWrangler.new_word)\n",
    "        \n",
    "    def add(x,y):\n",
    "        return x + y\n",
    "    \n",
    "DW = DataWrangler(word=\"hello\")\n",
    "DW.say_hello()"
   ]
  },
  {
   "cell_type": "code",
   "execution_count": 89,
   "metadata": {},
   "outputs": [
    {
     "data": {
      "text/plain": [
       "[1, 2]"
      ]
     },
     "execution_count": 89,
     "metadata": {},
     "output_type": "execute_result"
    }
   ],
   "source": [
    "class DataWrangler:\n",
    "    \n",
    "    container = []\n",
    "\n",
    "    def __init__(self,word=''):\n",
    "        self.word = word\n",
    "    \n",
    "    def say_hello(self):\n",
    "        print(self.word)\n",
    "        \n",
    "    def load1(self,x):\n",
    "        return DataWrangler.container.append(x)\n",
    "    \n",
    "    def load2(self,x):\n",
    "        return DataWrangler.container.append(x)\n",
    "    \n",
    "DW = DataWrangler(word=\"hello\")\n",
    "DW.container\n",
    "DW.load1(1)\n",
    "DW.container\n",
    "DW.load2(2)\n",
    "DW.container"
   ]
  },
  {
   "cell_type": "markdown",
   "metadata": {},
   "source": [
    "#### attributes\n",
    "\n",
    "We can define how our class should behave to python's other functionality."
   ]
  },
  {
   "cell_type": "code",
   "execution_count": null,
   "metadata": {},
   "outputs": [],
   "source": [
    "def __eq__(self, other):\n",
    "        print \"B __eq__ called: %r == %r ?\" % (self, other)\n",
    "        return self.value == other.value"
   ]
  },
  {
   "cell_type": "code",
   "execution_count": 101,
   "metadata": {},
   "outputs": [
    {
     "name": "stdout",
     "output_type": "stream",
     "text": [
      "False\n",
      "True\n"
     ]
    }
   ],
   "source": [
    "class DataWrangler:\n",
    "\n",
    "    def __init__(self,word=''):\n",
    "        self.word = word\n",
    "    \n",
    "    def say_hello(self):\n",
    "        print(self.word)\n",
    "        \n",
    "    def __eq__(self,other):\n",
    "        return self.word == other\n",
    "\n",
    "DW = DataWrangler(word=\"hello\")\n",
    "print(DW == 1)\n",
    "print(DW == \"hello\")"
   ]
  },
  {
   "cell_type": "code",
   "execution_count": 119,
   "metadata": {},
   "outputs": [
    {
     "name": "stdout",
     "output_type": "stream",
     "text": [
      "h\n",
      "e\n",
      "l\n",
      "l\n",
      "o\n"
     ]
    }
   ],
   "source": [
    "class DataWrangler:\n",
    "\n",
    "    def __init__(self,word=''):\n",
    "        self.word = word\n",
    "    \n",
    "    def say_hello(self):\n",
    "        print(self.word)\n",
    "        \n",
    "    def __iter__(self):\n",
    "        return iter(self.word)\n",
    "\n",
    "DW = DataWrangler(word=\"hello\")\n",
    "for i in DW:\n",
    "    print(i)"
   ]
  },
  {
   "cell_type": "markdown",
   "metadata": {},
   "source": [
    "### Things to keep in mind\n",
    "\n",
    "- classes should have docstrings, just as functions do, explaining their functionality.\n",
    "- classes are the central to object oriented programming.\n",
    "- all types in python have a class (we've talked about this extensively)\n",
    "- there are other (more advanced) class features that we won't spend any time on here. Specifically, static methods, attributes, decorators, and class inheritance. "
   ]
  },
  {
   "cell_type": "markdown",
   "metadata": {},
   "source": [
    "# Class Example"
   ]
  },
  {
   "cell_type": "code",
   "execution_count": 126,
   "metadata": {},
   "outputs": [],
   "source": [
    "import csv\n",
    "\n",
    "class DataWrangler:\n",
    "    '''\n",
    "    Class that wrangles data\n",
    "    '''\n",
    "\n",
    "    def __init__(self,data_path=''):\n",
    "        '''\n",
    "        Read in data given some provided file path\n",
    "        '''\n",
    "        pass\n",
    "            \n",
    "    def columns(self):\n",
    "        '''\n",
    "        Print off all available columns\n",
    "        '''\n",
    "        pass\n",
    "    \n",
    "    def select(self,variable):\n",
    "        '''\n",
    "        Select a variable\n",
    "        '''\n",
    "        pass\n",
    "    \n",
    "    def display(self):\n",
    "        '''\n",
    "        Display the data frame\n",
    "        '''\n",
    "        pass"
   ]
  },
  {
   "cell_type": "markdown",
   "metadata": {},
   "source": [
    "Let's fill in each function piece by piece."
   ]
  },
  {
   "cell_type": "code",
   "execution_count": 151,
   "metadata": {},
   "outputs": [
    {
     "data": {
      "text/plain": [
       "[['var1', 'var2', 'var3', 'var4'],\n",
       " [1, 2, 3, 4],\n",
       " [3, 4, 6, 7],\n",
       " [7, 62, 3, 8],\n",
       " [0.77, 6, 37, 100]]"
      ]
     },
     "execution_count": 151,
     "metadata": {},
     "output_type": "execute_result"
    }
   ],
   "source": [
    "import csv\n",
    "\n",
    "class DataWrangler:\n",
    "\n",
    "    def __init__(self,data_path=''):\n",
    "        try:\n",
    "            with open(data_path) as file:\n",
    "                dat = list(csv.reader(file))\n",
    "                # convert data types\n",
    "                for row in dat:\n",
    "                    for ind,val in enumerate(row):\n",
    "                        if '.' in val:\n",
    "                            row[ind] = float(val)\n",
    "                        elif val.isdigit():\n",
    "                            row[ind] = int(val)\n",
    "                        else:\n",
    "                            val\n",
    "                self.data=dat\n",
    "        \n",
    "        except FileNotFoundError:\n",
    "            print('File does not exist.')\n",
    "        \n",
    "                \n",
    "    def columns(self):\n",
    "        '''\n",
    "        Print off all available columns\n",
    "        '''\n",
    "        pass\n",
    "    \n",
    "    def select(self,variable):\n",
    "        '''\n",
    "        Select a variable\n",
    "        '''\n",
    "        pass\n",
    "    \n",
    "    def display(self):\n",
    "        '''\n",
    "        Display the data frame\n",
    "        '''\n",
    "        pass \n",
    "    \n",
    "    \n",
    "DW = DataWrangler(data_path='example_data.csv')\n",
    "DW.data"
   ]
  },
  {
   "cell_type": "code",
   "execution_count": 152,
   "metadata": {},
   "outputs": [
    {
     "data": {
      "text/plain": [
       "['var1', 'var2', 'var3', 'var4']"
      ]
     },
     "execution_count": 152,
     "metadata": {},
     "output_type": "execute_result"
    }
   ],
   "source": [
    "import csv\n",
    "\n",
    "class DataWrangler:\n",
    "\n",
    "    def __init__(self,data_path=''):\n",
    "        try:\n",
    "            with open(data_path) as file:\n",
    "                dat = list(csv.reader(file))\n",
    "                # convert data types\n",
    "                for row in dat:\n",
    "                    for ind,val in enumerate(row):\n",
    "                        if '.' in val:\n",
    "                            row[ind] = float(val)\n",
    "                        elif val.isdigit():\n",
    "                            row[ind] = int(val)\n",
    "                        else:\n",
    "                            val\n",
    "                self.data=dat\n",
    "        \n",
    "        except FileNotFoundError:\n",
    "            print('File does not exist.')\n",
    "                \n",
    "    def columns(self):\n",
    "        '''\n",
    "        Print off all available columns\n",
    "        '''\n",
    "        return self.data[0]\n",
    "    \n",
    "    \n",
    "    def select(self,variable):\n",
    "        '''\n",
    "        Select a variable\n",
    "        '''\n",
    "        pass\n",
    "    \n",
    "    \n",
    "    def display(self):\n",
    "        '''\n",
    "        Display the data frame\n",
    "        '''\n",
    "        pass \n",
    "    \n",
    "    \n",
    "DW = DataWrangler(data_path='example_data.csv')\n",
    "DW.columns()"
   ]
  },
  {
   "cell_type": "code",
   "execution_count": 153,
   "metadata": {},
   "outputs": [
    {
     "data": {
      "text/plain": [
       "[3, 6, 3, 37]"
      ]
     },
     "execution_count": 153,
     "metadata": {},
     "output_type": "execute_result"
    }
   ],
   "source": [
    "import csv\n",
    "\n",
    "class DataWrangler:\n",
    "\n",
    "    def __init__(self,data_path=''):\n",
    "        try:\n",
    "            with open(data_path) as file:\n",
    "                dat = list(csv.reader(file))\n",
    "                # convert data types\n",
    "                for row in dat:\n",
    "                    for ind,val in enumerate(row):\n",
    "                        if '.' in val:\n",
    "                            row[ind] = float(val)\n",
    "                        elif val.isdigit():\n",
    "                            row[ind] = int(val)\n",
    "                        else:\n",
    "                            val\n",
    "                self.data=dat\n",
    "        \n",
    "        except FileNotFoundError:\n",
    "            print('File does not exist.')\n",
    "            \n",
    "                \n",
    "    def columns(self):\n",
    "        '''\n",
    "        Print off all available columns\n",
    "        '''\n",
    "        return self.data[0]\n",
    "    \n",
    "    \n",
    "    def select(self,variable):\n",
    "        '''\n",
    "        Select a variable\n",
    "        '''\n",
    "        \n",
    "        columns = self.columns()\n",
    "        output = []\n",
    "        if variable in columns:\n",
    "            position = columns.index(variable)\n",
    "            for row in self.data[1:]:\n",
    "                output.append(row[position])\n",
    "        else:\n",
    "            print(f'{variable} is not in the data. Please choose another variable')\n",
    "        return output\n",
    "\n",
    "    \n",
    "    def display(self):\n",
    "        '''\n",
    "        Display the data frame\n",
    "        '''\n",
    "        pass \n",
    "    \n",
    "    \n",
    "DW = DataWrangler(data_path='example_data.csv')\n",
    "DW.select(variable=\"var3\")"
   ]
  },
  {
   "cell_type": "code",
   "execution_count": 154,
   "metadata": {},
   "outputs": [
    {
     "name": "stdout",
     "output_type": "stream",
     "text": [
      "[['var1', 'var2', 'var3', 'var4'], [1, 2, 3, 4], [3, 4, 6, 7], [7, 62, 3, 8], [0.77, 6, 37, 100]]\n"
     ]
    }
   ],
   "source": [
    "import csv\n",
    "\n",
    "class DataWrangler:\n",
    "\n",
    "    def __init__(self,data_path=''):\n",
    "        try:\n",
    "            with open(data_path) as file:\n",
    "                dat = list(csv.reader(file))\n",
    "                # convert data types\n",
    "                for row in dat:\n",
    "                    for ind,val in enumerate(row):\n",
    "                        if '.' in val:\n",
    "                            row[ind] = float(val)\n",
    "                        elif val.isdigit():\n",
    "                            row[ind] = int(val)\n",
    "                        else:\n",
    "                            val\n",
    "                self.data=dat\n",
    "        \n",
    "        except FileNotFoundError:\n",
    "            print('File does not exist.')\n",
    "        \n",
    "                \n",
    "    def columns(self):\n",
    "        '''\n",
    "        Print off all available columns\n",
    "        '''\n",
    "        return self.data[0]\n",
    "    \n",
    "    \n",
    "    def select(self,variable):\n",
    "        '''\n",
    "        Select a variable\n",
    "        '''\n",
    "        \n",
    "        columns = self.columns()\n",
    "        output = []\n",
    "        if variable in columns:\n",
    "            position = columns.index(variable)\n",
    "            for row in self.data[1:]:\n",
    "                output.append(row[position])\n",
    "        else:\n",
    "            print(f'{variable} is not in the data. Please choose another variable')\n",
    "        return output\n",
    "\n",
    "    \n",
    "    def display(self):\n",
    "        '''\n",
    "        Display the data frame\n",
    "        '''\n",
    "        print(self.data)\n",
    "    \n",
    "    \n",
    "DW = DataWrangler(data_path='example_data.csv')\n",
    "DW.display()"
   ]
  },
  {
   "cell_type": "markdown",
   "metadata": {},
   "source": [
    "We now have a customized object that takes in some .csv as an argument, and allows us to manipulate the data in a contained setting."
   ]
  },
  {
   "cell_type": "code",
   "execution_count": 157,
   "metadata": {},
   "outputs": [
    {
     "name": "stdout",
     "output_type": "stream",
     "text": [
      "['var1', 'var2', 'var3', 'var4']\n",
      "[4, 7, 8, 100]\n"
     ]
    }
   ],
   "source": [
    "DW = DataWrangler(data_path='example_data.csv')\n",
    "print(DW.columns())\n",
    "print(DW.select(variable='var4'))"
   ]
  }
 ],
 "metadata": {
  "kernelspec": {
   "display_name": "Python 3",
   "language": "python",
   "name": "python3"
  },
  "language_info": {
   "codemirror_mode": {
    "name": "ipython",
    "version": 3
   },
   "file_extension": ".py",
   "mimetype": "text/x-python",
   "name": "python",
   "nbconvert_exporter": "python",
   "pygments_lexer": "ipython3",
   "version": "3.7.0"
  },
  "toc": {
   "base_numbering": 1,
   "nav_menu": {},
   "number_sections": false,
   "sideBar": false,
   "skip_h1_title": false,
   "title_cell": "Table of Contents",
   "title_sidebar": "Contents",
   "toc_cell": false,
   "toc_position": {},
   "toc_section_display": true,
   "toc_window_display": false
  }
 },
 "nbformat": 4,
 "nbformat_minor": 2
}

{
 "cells": [
  {
   "cell_type": "markdown",
   "metadata": {},
   "source": [
    "<h1><center> PPOLS564: Foundations of Data Science </center><h1>\n",
    "<h3><center> Lecture 10 <br><br><font color='grey'> Manipulating Vectors </font></center></h3>"
   ]
  },
  {
   "cell_type": "markdown",
   "metadata": {},
   "source": [
    "# Concepts For today:\n",
    "\n",
    "- Introduction to Notation, Terminology, and Basics of Latex/Numpy.\n",
    "- Introduction to Vectors\n",
    "- Scalar multiplication with vectors\n",
    "- Vector Addition and Subtraction \n",
    "- Linear Combinations, Linear Independence, and Basis\n",
    "\n",
    "## Note\n",
    "In the following lectures, we'll delve into exploring linear algebra. Note that I'll be using some code to help generate some interactive visualizes for some concepts. To use this code yourself, two things must be true: (1) the `bokeh` module must be installed, and (2) the `visualize.py` script must be in the same file director as this notebook and the jupyter notebook must be activated from that location.\n"
   ]
  },
  {
   "cell_type": "code",
   "execution_count": 1,
   "metadata": {},
   "outputs": [
    {
     "data": {
      "text/html": [
       "\n",
       "    <div class=\"bk-root\">\n",
       "        <a href=\"https://bokeh.pydata.org\" target=\"_blank\" class=\"bk-logo bk-logo-small bk-logo-notebook\"></a>\n",
       "        <span id=\"eb21b85d-39bc-4f90-9000-89f5d95cd194\">Loading BokehJS ...</span>\n",
       "    </div>"
      ]
     },
     "metadata": {},
     "output_type": "display_data"
    },
    {
     "data": {
      "application/javascript": [
       "\n",
       "(function(root) {\n",
       "  function now() {\n",
       "    return new Date();\n",
       "  }\n",
       "\n",
       "  var force = true;\n",
       "\n",
       "  if (typeof (root._bokeh_onload_callbacks) === \"undefined\" || force === true) {\n",
       "    root._bokeh_onload_callbacks = [];\n",
       "    root._bokeh_is_loading = undefined;\n",
       "  }\n",
       "\n",
       "  var JS_MIME_TYPE = 'application/javascript';\n",
       "  var HTML_MIME_TYPE = 'text/html';\n",
       "  var EXEC_MIME_TYPE = 'application/vnd.bokehjs_exec.v0+json';\n",
       "  var CLASS_NAME = 'output_bokeh rendered_html';\n",
       "\n",
       "  /**\n",
       "   * Render data to the DOM node\n",
       "   */\n",
       "  function render(props, node) {\n",
       "    var script = document.createElement(\"script\");\n",
       "    node.appendChild(script);\n",
       "  }\n",
       "\n",
       "  /**\n",
       "   * Handle when an output is cleared or removed\n",
       "   */\n",
       "  function handleClearOutput(event, handle) {\n",
       "    var cell = handle.cell;\n",
       "\n",
       "    var id = cell.output_area._bokeh_element_id;\n",
       "    var server_id = cell.output_area._bokeh_server_id;\n",
       "    // Clean up Bokeh references\n",
       "    if (id != null && id in Bokeh.index) {\n",
       "      Bokeh.index[id].model.document.clear();\n",
       "      delete Bokeh.index[id];\n",
       "    }\n",
       "\n",
       "    if (server_id !== undefined) {\n",
       "      // Clean up Bokeh references\n",
       "      var cmd = \"from bokeh.io.state import curstate; print(curstate().uuid_to_server['\" + server_id + \"'].get_sessions()[0].document.roots[0]._id)\";\n",
       "      cell.notebook.kernel.execute(cmd, {\n",
       "        iopub: {\n",
       "          output: function(msg) {\n",
       "            var id = msg.content.text.trim();\n",
       "            if (id in Bokeh.index) {\n",
       "              Bokeh.index[id].model.document.clear();\n",
       "              delete Bokeh.index[id];\n",
       "            }\n",
       "          }\n",
       "        }\n",
       "      });\n",
       "      // Destroy server and session\n",
       "      var cmd = \"import bokeh.io.notebook as ion; ion.destroy_server('\" + server_id + \"')\";\n",
       "      cell.notebook.kernel.execute(cmd);\n",
       "    }\n",
       "  }\n",
       "\n",
       "  /**\n",
       "   * Handle when a new output is added\n",
       "   */\n",
       "  function handleAddOutput(event, handle) {\n",
       "    var output_area = handle.output_area;\n",
       "    var output = handle.output;\n",
       "\n",
       "    // limit handleAddOutput to display_data with EXEC_MIME_TYPE content only\n",
       "    if ((output.output_type != \"display_data\") || (!output.data.hasOwnProperty(EXEC_MIME_TYPE))) {\n",
       "      return\n",
       "    }\n",
       "\n",
       "    var toinsert = output_area.element.find(\".\" + CLASS_NAME.split(' ')[0]);\n",
       "\n",
       "    if (output.metadata[EXEC_MIME_TYPE][\"id\"] !== undefined) {\n",
       "      toinsert[toinsert.length - 1].firstChild.textContent = output.data[JS_MIME_TYPE];\n",
       "      // store reference to embed id on output_area\n",
       "      output_area._bokeh_element_id = output.metadata[EXEC_MIME_TYPE][\"id\"];\n",
       "    }\n",
       "    if (output.metadata[EXEC_MIME_TYPE][\"server_id\"] !== undefined) {\n",
       "      var bk_div = document.createElement(\"div\");\n",
       "      bk_div.innerHTML = output.data[HTML_MIME_TYPE];\n",
       "      var script_attrs = bk_div.children[0].attributes;\n",
       "      for (var i = 0; i < script_attrs.length; i++) {\n",
       "        toinsert[toinsert.length - 1].firstChild.setAttribute(script_attrs[i].name, script_attrs[i].value);\n",
       "      }\n",
       "      // store reference to server id on output_area\n",
       "      output_area._bokeh_server_id = output.metadata[EXEC_MIME_TYPE][\"server_id\"];\n",
       "    }\n",
       "  }\n",
       "\n",
       "  function register_renderer(events, OutputArea) {\n",
       "\n",
       "    function append_mime(data, metadata, element) {\n",
       "      // create a DOM node to render to\n",
       "      var toinsert = this.create_output_subarea(\n",
       "        metadata,\n",
       "        CLASS_NAME,\n",
       "        EXEC_MIME_TYPE\n",
       "      );\n",
       "      this.keyboard_manager.register_events(toinsert);\n",
       "      // Render to node\n",
       "      var props = {data: data, metadata: metadata[EXEC_MIME_TYPE]};\n",
       "      render(props, toinsert[toinsert.length - 1]);\n",
       "      element.append(toinsert);\n",
       "      return toinsert\n",
       "    }\n",
       "\n",
       "    /* Handle when an output is cleared or removed */\n",
       "    events.on('clear_output.CodeCell', handleClearOutput);\n",
       "    events.on('delete.Cell', handleClearOutput);\n",
       "\n",
       "    /* Handle when a new output is added */\n",
       "    events.on('output_added.OutputArea', handleAddOutput);\n",
       "\n",
       "    /**\n",
       "     * Register the mime type and append_mime function with output_area\n",
       "     */\n",
       "    OutputArea.prototype.register_mime_type(EXEC_MIME_TYPE, append_mime, {\n",
       "      /* Is output safe? */\n",
       "      safe: true,\n",
       "      /* Index of renderer in `output_area.display_order` */\n",
       "      index: 0\n",
       "    });\n",
       "  }\n",
       "\n",
       "  // register the mime type if in Jupyter Notebook environment and previously unregistered\n",
       "  if (root.Jupyter !== undefined) {\n",
       "    var events = require('base/js/events');\n",
       "    var OutputArea = require('notebook/js/outputarea').OutputArea;\n",
       "\n",
       "    if (OutputArea.prototype.mime_types().indexOf(EXEC_MIME_TYPE) == -1) {\n",
       "      register_renderer(events, OutputArea);\n",
       "    }\n",
       "  }\n",
       "\n",
       "  \n",
       "  if (typeof (root._bokeh_timeout) === \"undefined\" || force === true) {\n",
       "    root._bokeh_timeout = Date.now() + 5000;\n",
       "    root._bokeh_failed_load = false;\n",
       "  }\n",
       "\n",
       "  var NB_LOAD_WARNING = {'data': {'text/html':\n",
       "     \"<div style='background-color: #fdd'>\\n\"+\n",
       "     \"<p>\\n\"+\n",
       "     \"BokehJS does not appear to have successfully loaded. If loading BokehJS from CDN, this \\n\"+\n",
       "     \"may be due to a slow or bad network connection. Possible fixes:\\n\"+\n",
       "     \"</p>\\n\"+\n",
       "     \"<ul>\\n\"+\n",
       "     \"<li>re-rerun `output_notebook()` to attempt to load from CDN again, or</li>\\n\"+\n",
       "     \"<li>use INLINE resources instead, as so:</li>\\n\"+\n",
       "     \"</ul>\\n\"+\n",
       "     \"<code>\\n\"+\n",
       "     \"from bokeh.resources import INLINE\\n\"+\n",
       "     \"output_notebook(resources=INLINE)\\n\"+\n",
       "     \"</code>\\n\"+\n",
       "     \"</div>\"}};\n",
       "\n",
       "  function display_loaded() {\n",
       "    var el = document.getElementById(\"eb21b85d-39bc-4f90-9000-89f5d95cd194\");\n",
       "    if (el != null) {\n",
       "      el.textContent = \"BokehJS is loading...\";\n",
       "    }\n",
       "    if (root.Bokeh !== undefined) {\n",
       "      if (el != null) {\n",
       "        el.textContent = \"BokehJS \" + root.Bokeh.version + \" successfully loaded.\";\n",
       "      }\n",
       "    } else if (Date.now() < root._bokeh_timeout) {\n",
       "      setTimeout(display_loaded, 100)\n",
       "    }\n",
       "  }\n",
       "\n",
       "\n",
       "  function run_callbacks() {\n",
       "    try {\n",
       "      root._bokeh_onload_callbacks.forEach(function(callback) { callback() });\n",
       "    }\n",
       "    finally {\n",
       "      delete root._bokeh_onload_callbacks\n",
       "    }\n",
       "    console.info(\"Bokeh: all callbacks have finished\");\n",
       "  }\n",
       "\n",
       "  function load_libs(js_urls, callback) {\n",
       "    root._bokeh_onload_callbacks.push(callback);\n",
       "    if (root._bokeh_is_loading > 0) {\n",
       "      console.log(\"Bokeh: BokehJS is being loaded, scheduling callback at\", now());\n",
       "      return null;\n",
       "    }\n",
       "    if (js_urls == null || js_urls.length === 0) {\n",
       "      run_callbacks();\n",
       "      return null;\n",
       "    }\n",
       "    console.log(\"Bokeh: BokehJS not loaded, scheduling load and callback at\", now());\n",
       "    root._bokeh_is_loading = js_urls.length;\n",
       "    for (var i = 0; i < js_urls.length; i++) {\n",
       "      var url = js_urls[i];\n",
       "      var s = document.createElement('script');\n",
       "      s.src = url;\n",
       "      s.async = false;\n",
       "      s.onreadystatechange = s.onload = function() {\n",
       "        root._bokeh_is_loading--;\n",
       "        if (root._bokeh_is_loading === 0) {\n",
       "          console.log(\"Bokeh: all BokehJS libraries loaded\");\n",
       "          run_callbacks()\n",
       "        }\n",
       "      };\n",
       "      s.onerror = function() {\n",
       "        console.warn(\"failed to load library \" + url);\n",
       "      };\n",
       "      console.log(\"Bokeh: injecting script tag for BokehJS library: \", url);\n",
       "      document.getElementsByTagName(\"head\")[0].appendChild(s);\n",
       "    }\n",
       "  };var element = document.getElementById(\"eb21b85d-39bc-4f90-9000-89f5d95cd194\");\n",
       "  if (element == null) {\n",
       "    console.log(\"Bokeh: ERROR: autoload.js configured with elementid 'eb21b85d-39bc-4f90-9000-89f5d95cd194' but no matching script tag was found. \")\n",
       "    return false;\n",
       "  }\n",
       "\n",
       "  var js_urls = [\"https://cdn.pydata.org/bokeh/release/bokeh-0.13.0.min.js\", \"https://cdn.pydata.org/bokeh/release/bokeh-widgets-0.13.0.min.js\", \"https://cdn.pydata.org/bokeh/release/bokeh-tables-0.13.0.min.js\", \"https://cdn.pydata.org/bokeh/release/bokeh-gl-0.13.0.min.js\"];\n",
       "\n",
       "  var inline_js = [\n",
       "    function(Bokeh) {\n",
       "      Bokeh.set_log_level(\"info\");\n",
       "    },\n",
       "    \n",
       "    function(Bokeh) {\n",
       "      \n",
       "    },\n",
       "    function(Bokeh) {\n",
       "      console.log(\"Bokeh: injecting CSS: https://cdn.pydata.org/bokeh/release/bokeh-0.13.0.min.css\");\n",
       "      Bokeh.embed.inject_css(\"https://cdn.pydata.org/bokeh/release/bokeh-0.13.0.min.css\");\n",
       "      console.log(\"Bokeh: injecting CSS: https://cdn.pydata.org/bokeh/release/bokeh-widgets-0.13.0.min.css\");\n",
       "      Bokeh.embed.inject_css(\"https://cdn.pydata.org/bokeh/release/bokeh-widgets-0.13.0.min.css\");\n",
       "      console.log(\"Bokeh: injecting CSS: https://cdn.pydata.org/bokeh/release/bokeh-tables-0.13.0.min.css\");\n",
       "      Bokeh.embed.inject_css(\"https://cdn.pydata.org/bokeh/release/bokeh-tables-0.13.0.min.css\");\n",
       "    }\n",
       "  ];\n",
       "\n",
       "  function run_inline_js() {\n",
       "    \n",
       "    if ((root.Bokeh !== undefined) || (force === true)) {\n",
       "      for (var i = 0; i < inline_js.length; i++) {\n",
       "        inline_js[i].call(root, root.Bokeh);\n",
       "      }if (force === true) {\n",
       "        display_loaded();\n",
       "      }} else if (Date.now() < root._bokeh_timeout) {\n",
       "      setTimeout(run_inline_js, 100);\n",
       "    } else if (!root._bokeh_failed_load) {\n",
       "      console.log(\"Bokeh: BokehJS failed to load within specified timeout.\");\n",
       "      root._bokeh_failed_load = true;\n",
       "    } else if (force !== true) {\n",
       "      var cell = $(document.getElementById(\"eb21b85d-39bc-4f90-9000-89f5d95cd194\")).parents('.cell').data().cell;\n",
       "      cell.output_area.append_execute_result(NB_LOAD_WARNING)\n",
       "    }\n",
       "\n",
       "  }\n",
       "\n",
       "  if (root._bokeh_is_loading === 0) {\n",
       "    console.log(\"Bokeh: BokehJS loaded, going straight to plotting\");\n",
       "    run_inline_js();\n",
       "  } else {\n",
       "    load_libs(js_urls, function() {\n",
       "      console.log(\"Bokeh: BokehJS plotting callback run at\", now());\n",
       "      run_inline_js();\n",
       "    });\n",
       "  }\n",
       "}(window));"
      ],
      "application/vnd.bokehjs_load.v0+json": "\n(function(root) {\n  function now() {\n    return new Date();\n  }\n\n  var force = true;\n\n  if (typeof (root._bokeh_onload_callbacks) === \"undefined\" || force === true) {\n    root._bokeh_onload_callbacks = [];\n    root._bokeh_is_loading = undefined;\n  }\n\n  \n\n  \n  if (typeof (root._bokeh_timeout) === \"undefined\" || force === true) {\n    root._bokeh_timeout = Date.now() + 5000;\n    root._bokeh_failed_load = false;\n  }\n\n  var NB_LOAD_WARNING = {'data': {'text/html':\n     \"<div style='background-color: #fdd'>\\n\"+\n     \"<p>\\n\"+\n     \"BokehJS does not appear to have successfully loaded. If loading BokehJS from CDN, this \\n\"+\n     \"may be due to a slow or bad network connection. Possible fixes:\\n\"+\n     \"</p>\\n\"+\n     \"<ul>\\n\"+\n     \"<li>re-rerun `output_notebook()` to attempt to load from CDN again, or</li>\\n\"+\n     \"<li>use INLINE resources instead, as so:</li>\\n\"+\n     \"</ul>\\n\"+\n     \"<code>\\n\"+\n     \"from bokeh.resources import INLINE\\n\"+\n     \"output_notebook(resources=INLINE)\\n\"+\n     \"</code>\\n\"+\n     \"</div>\"}};\n\n  function display_loaded() {\n    var el = document.getElementById(\"eb21b85d-39bc-4f90-9000-89f5d95cd194\");\n    if (el != null) {\n      el.textContent = \"BokehJS is loading...\";\n    }\n    if (root.Bokeh !== undefined) {\n      if (el != null) {\n        el.textContent = \"BokehJS \" + root.Bokeh.version + \" successfully loaded.\";\n      }\n    } else if (Date.now() < root._bokeh_timeout) {\n      setTimeout(display_loaded, 100)\n    }\n  }\n\n\n  function run_callbacks() {\n    try {\n      root._bokeh_onload_callbacks.forEach(function(callback) { callback() });\n    }\n    finally {\n      delete root._bokeh_onload_callbacks\n    }\n    console.info(\"Bokeh: all callbacks have finished\");\n  }\n\n  function load_libs(js_urls, callback) {\n    root._bokeh_onload_callbacks.push(callback);\n    if (root._bokeh_is_loading > 0) {\n      console.log(\"Bokeh: BokehJS is being loaded, scheduling callback at\", now());\n      return null;\n    }\n    if (js_urls == null || js_urls.length === 0) {\n      run_callbacks();\n      return null;\n    }\n    console.log(\"Bokeh: BokehJS not loaded, scheduling load and callback at\", now());\n    root._bokeh_is_loading = js_urls.length;\n    for (var i = 0; i < js_urls.length; i++) {\n      var url = js_urls[i];\n      var s = document.createElement('script');\n      s.src = url;\n      s.async = false;\n      s.onreadystatechange = s.onload = function() {\n        root._bokeh_is_loading--;\n        if (root._bokeh_is_loading === 0) {\n          console.log(\"Bokeh: all BokehJS libraries loaded\");\n          run_callbacks()\n        }\n      };\n      s.onerror = function() {\n        console.warn(\"failed to load library \" + url);\n      };\n      console.log(\"Bokeh: injecting script tag for BokehJS library: \", url);\n      document.getElementsByTagName(\"head\")[0].appendChild(s);\n    }\n  };var element = document.getElementById(\"eb21b85d-39bc-4f90-9000-89f5d95cd194\");\n  if (element == null) {\n    console.log(\"Bokeh: ERROR: autoload.js configured with elementid 'eb21b85d-39bc-4f90-9000-89f5d95cd194' but no matching script tag was found. \")\n    return false;\n  }\n\n  var js_urls = [\"https://cdn.pydata.org/bokeh/release/bokeh-0.13.0.min.js\", \"https://cdn.pydata.org/bokeh/release/bokeh-widgets-0.13.0.min.js\", \"https://cdn.pydata.org/bokeh/release/bokeh-tables-0.13.0.min.js\", \"https://cdn.pydata.org/bokeh/release/bokeh-gl-0.13.0.min.js\"];\n\n  var inline_js = [\n    function(Bokeh) {\n      Bokeh.set_log_level(\"info\");\n    },\n    \n    function(Bokeh) {\n      \n    },\n    function(Bokeh) {\n      console.log(\"Bokeh: injecting CSS: https://cdn.pydata.org/bokeh/release/bokeh-0.13.0.min.css\");\n      Bokeh.embed.inject_css(\"https://cdn.pydata.org/bokeh/release/bokeh-0.13.0.min.css\");\n      console.log(\"Bokeh: injecting CSS: https://cdn.pydata.org/bokeh/release/bokeh-widgets-0.13.0.min.css\");\n      Bokeh.embed.inject_css(\"https://cdn.pydata.org/bokeh/release/bokeh-widgets-0.13.0.min.css\");\n      console.log(\"Bokeh: injecting CSS: https://cdn.pydata.org/bokeh/release/bokeh-tables-0.13.0.min.css\");\n      Bokeh.embed.inject_css(\"https://cdn.pydata.org/bokeh/release/bokeh-tables-0.13.0.min.css\");\n    }\n  ];\n\n  function run_inline_js() {\n    \n    if ((root.Bokeh !== undefined) || (force === true)) {\n      for (var i = 0; i < inline_js.length; i++) {\n        inline_js[i].call(root, root.Bokeh);\n      }if (force === true) {\n        display_loaded();\n      }} else if (Date.now() < root._bokeh_timeout) {\n      setTimeout(run_inline_js, 100);\n    } else if (!root._bokeh_failed_load) {\n      console.log(\"Bokeh: BokehJS failed to load within specified timeout.\");\n      root._bokeh_failed_load = true;\n    } else if (force !== true) {\n      var cell = $(document.getElementById(\"eb21b85d-39bc-4f90-9000-89f5d95cd194\")).parents('.cell').data().cell;\n      cell.output_area.append_execute_result(NB_LOAD_WARNING)\n    }\n\n  }\n\n  if (root._bokeh_is_loading === 0) {\n    console.log(\"Bokeh: BokehJS loaded, going straight to plotting\");\n    run_inline_js();\n  } else {\n    load_libs(js_urls, function() {\n      console.log(\"Bokeh: BokehJS plotting callback run at\", now());\n      run_inline_js();\n    });\n  }\n}(window));"
     },
     "metadata": {},
     "output_type": "display_data"
    }
   ],
   "source": [
    "import numpy as np\n",
    "from visualize import LinearAlgebra as vla"
   ]
  },
  {
   "cell_type": "markdown",
   "metadata": {},
   "source": [
    "Finally, note that these lecture slides are intended to be supplementary to the lectures and readings."
   ]
  },
  {
   "cell_type": "markdown",
   "metadata": {},
   "source": [
    "## Writing Mathematical Notation Using Latex\n",
    "\n",
    "Latex allows for the simple construction and formulation of mathematical statements. The framework extends to robust text editor that eases scientific writing. Moreover, .tex files (the file type for a latex document) is ultimately a text document, making it ideal for version control software, such as git. \n",
    "\n",
    "Writing math in Latex is involved and can take some time to master. Please refer to the following link for a useful [Wiki](https://en.wikibooks.org/wiki/LaTeX/Mathematics) on composing mathematical statements in Latex.\n",
    "\n",
    "Note that Jupyter Notebooks come equipped with Latex, and we can write Latex code directly in to the markdown code chunks, housing our mathematical statements between dollar signs.\n",
    "\n",
    "`$ <math here> $`\n",
    "\n",
    "or \n",
    "\n",
    "`$$ <math here> $$`\n",
    "\n",
    "The difference between on and two `$` is that the former will write the mathematical statement inline whereas the latter will print the statement on its own line. \n",
    "\n",
    "E.g.\n",
    "\n",
    "_We found that $x = 4$._\n",
    "\n",
    "_We found that $$x = 4$$._\n",
    "\n",
    "We can also compose equations as follows:\n",
    "\n",
    "```\n",
    "\\begin{equation}\n",
    "< math here >\n",
    "\\end{equation}\n",
    "```\n",
    "\n",
    "E.g. \n",
    "\n",
    "\\begin{equation}\n",
    "y_i = \\beta_0 + \\beta_1 x_i + \\epsilon_i\n",
    "\\end{equation}\n",
    "\n",
    "There are a number of resources that ease writing mathematical statements in Latex, such as [Daum Equation Editor](https://chrome.google.com/webstore/detail/daum-equation-editor/dinfmiceliiomokeofbocegmacmagjhe/related?hl=en). "
   ]
  },
  {
   "cell_type": "markdown",
   "metadata": {},
   "source": [
    "## Numpy\n",
    " \n",
    "The numpy library provides a whole framework for scientific computing for, which many of the major packages for scientific computing are built off. \n",
    "\n",
    "The key feature of the numpy is the `array`. Numpy arrays very similar to list but come with a wealth of other functionality. The most noteworthy of which is the capacity to perform element-wise computations via Numpy's broadcasting feature. "
   ]
  },
  {
   "cell_type": "code",
   "execution_count": 2,
   "metadata": {},
   "outputs": [
    {
     "name": "stdout",
     "output_type": "stream",
     "text": [
      "[1, 2, 3, 4, 5]\n",
      "[1 2 3 4 5]\n"
     ]
    }
   ],
   "source": [
    "# Generate an array\n",
    "nums = [1,2,3,4,5]\n",
    "nums_np = np.array(nums)\n",
    "\n",
    "print(nums)\n",
    "print(nums_np)"
   ]
  },
  {
   "cell_type": "code",
   "execution_count": 3,
   "metadata": {},
   "outputs": [],
   "source": [
    "# nums +5"
   ]
  },
  {
   "cell_type": "code",
   "execution_count": 4,
   "metadata": {},
   "outputs": [
    {
     "data": {
      "text/plain": [
       "array([ 6,  7,  8,  9, 10])"
      ]
     },
     "execution_count": 4,
     "metadata": {},
     "output_type": "execute_result"
    }
   ],
   "source": [
    "nums_np + 5"
   ]
  },
  {
   "cell_type": "markdown",
   "metadata": {},
   "source": [
    "We'll explore the numpy library in more detail as we progress. For now, let's keep in mind that numerical vectors look a lot like the lists that we are already familiar with. "
   ]
  },
  {
   "cell_type": "markdown",
   "metadata": {},
   "source": [
    "# Vectors\n",
    "\n",
    "A **vector** provides both magnitude and direction.\n",
    "\n",
    "$$ \\vec {v} = \\begin{bmatrix} 1 \\\\ 2 \\end{bmatrix} $$\n"
   ]
  },
  {
   "cell_type": "code",
   "execution_count": 5,
   "metadata": {},
   "outputs": [],
   "source": [
    "# Define a vector in R2\n",
    "vec1 = np.array([1,2])"
   ]
  },
  {
   "cell_type": "code",
   "execution_count": 6,
   "metadata": {},
   "outputs": [
    {
     "data": {
      "text/html": [
       "\n",
       "\n",
       "\n",
       "\n",
       "\n",
       "\n",
       "  <div class=\"bk-root\" id=\"0c16cd60-8c98-40ae-911b-33334b4ecae3\"></div>\n"
      ]
     },
     "metadata": {},
     "output_type": "display_data"
    },
    {
     "data": {
      "application/javascript": [
       "(function(root) {\n",
       "  function embed_document(root) {\n",
       "    \n",
       "  var docs_json = {\"de67c154-0b24-4e8f-a1d9-4add7a894e09\":{\"roots\":{\"references\":[{\"attributes\":{\"line_alpha\":0.1,\"line_color\":\"#1f77b4\",\"line_width\":1.5,\"x\":{\"field\":\"x\"},\"y\":{\"field\":\"y\"}},\"id\":\"035f33dc-f808-425b-ad5e-a85d0e91f5fd\",\"type\":\"Line\"},{\"attributes\":{\"data_source\":{\"id\":\"a78dd5ce-5e84-48cd-9bcd-5aa7b32fe3b2\",\"type\":\"ColumnDataSource\"},\"glyph\":{\"id\":\"cfd84b14-a5db-4c69-913d-28397e0fcc06\",\"type\":\"Line\"},\"hover_glyph\":null,\"muted_glyph\":null,\"nonselection_glyph\":{\"id\":\"035f33dc-f808-425b-ad5e-a85d0e91f5fd\",\"type\":\"Line\"},\"selection_glyph\":null,\"view\":{\"id\":\"8fa10077-a3d0-41fe-8b82-7c103078dabd\",\"type\":\"CDSView\"}},\"id\":\"8aeb7947-9209-48e0-be06-717fc8687c4a\",\"type\":\"GlyphRenderer\"},{\"attributes\":{\"source\":{\"id\":\"a78dd5ce-5e84-48cd-9bcd-5aa7b32fe3b2\",\"type\":\"ColumnDataSource\"}},\"id\":\"8fa10077-a3d0-41fe-8b82-7c103078dabd\",\"type\":\"CDSView\"},{\"attributes\":{\"end\":{\"id\":\"94ba5bd0-c869-4aad-a515-56826463179a\",\"type\":\"NormalHead\"},\"line_color\":{\"value\":\"blue\"},\"line_width\":{\"value\":3},\"plot\":{\"id\":\"bde5b1e1-f8d6-4413-b1ce-707e92600ee6\",\"subtype\":\"Figure\",\"type\":\"Plot\"},\"source\":null,\"start\":null,\"x_end\":{\"value\":1},\"x_start\":{\"value\":0},\"y_end\":{\"value\":2},\"y_start\":{\"value\":0}},\"id\":\"02f45ca5-841b-43da-ba31-90c9af784eab\",\"type\":\"Arrow\"},{\"attributes\":{\"below\":[{\"id\":\"0f4c0426-1575-4b5d-a87a-86f7cdbcd8b3\",\"type\":\"LinearAxis\"}],\"left\":[{\"id\":\"15909e4e-e863-4c25-88a5-81ae31b7581a\",\"type\":\"LinearAxis\"}],\"plot_height\":400,\"plot_width\":400,\"renderers\":[{\"id\":\"0f4c0426-1575-4b5d-a87a-86f7cdbcd8b3\",\"type\":\"LinearAxis\"},{\"id\":\"2d6ab9be-6e18-4dfb-821b-c7360825f3a7\",\"type\":\"Grid\"},{\"id\":\"15909e4e-e863-4c25-88a5-81ae31b7581a\",\"type\":\"LinearAxis\"},{\"id\":\"d2056670-5e72-474d-a0ca-89d63d237f94\",\"type\":\"Grid\"},{\"id\":\"de6e366e-8c55-4662-bb9b-cde611249c00\",\"type\":\"GlyphRenderer\"},{\"id\":\"8aeb7947-9209-48e0-be06-717fc8687c4a\",\"type\":\"GlyphRenderer\"},{\"id\":\"02f45ca5-841b-43da-ba31-90c9af784eab\",\"type\":\"Arrow\"}],\"title\":{\"id\":\"7d9d11eb-cdeb-42e8-a443-8aee13a89221\",\"type\":\"Title\"},\"toolbar\":{\"id\":\"afb4103e-a3c5-44a5-a60b-20130e5ce3ce\",\"type\":\"Toolbar\"},\"x_range\":{\"id\":\"254b041b-3421-4d94-86b6-afab454ec492\",\"type\":\"Range1d\"},\"x_scale\":{\"id\":\"d53571c3-8ec5-4b72-bbfe-afe1b82a61df\",\"type\":\"LinearScale\"},\"y_range\":{\"id\":\"89e9ea6b-ca09-4d36-9584-078a52a13ef8\",\"type\":\"Range1d\"},\"y_scale\":{\"id\":\"2142695f-4bd8-40bd-b968-6262f8bf5380\",\"type\":\"LinearScale\"}},\"id\":\"bde5b1e1-f8d6-4413-b1ce-707e92600ee6\",\"subtype\":\"Figure\",\"type\":\"Plot\"},{\"attributes\":{\"plot\":null,\"text\":\"\"},\"id\":\"7d9d11eb-cdeb-42e8-a443-8aee13a89221\",\"type\":\"Title\"},{\"attributes\":{},\"id\":\"24406c64-75c0-406c-a96e-554cedbd8b00\",\"type\":\"Selection\"},{\"attributes\":{},\"id\":\"6cad4bd0-4f56-4892-8cd5-bf3a26ce7703\",\"type\":\"BasicTickFormatter\"},{\"attributes\":{\"fill_color\":{\"value\":\"blue\"},\"line_color\":{\"value\":\"blue\"},\"plot\":null,\"size\":10},\"id\":\"94ba5bd0-c869-4aad-a515-56826463179a\",\"type\":\"NormalHead\"},{\"attributes\":{},\"id\":\"0aee0ed4-5ff5-4ce6-a793-32c4572ddbcf\",\"type\":\"BasicTickFormatter\"},{\"attributes\":{\"active_drag\":\"auto\",\"active_inspect\":\"auto\",\"active_multi\":null,\"active_scroll\":\"auto\",\"active_tap\":\"auto\",\"tools\":[{\"id\":\"b63b9ea7-547e-4b7d-9d8c-6c9ff9327515\",\"type\":\"WheelZoomTool\"},{\"id\":\"ef9c9b02-e305-4a23-9fb2-238cf87c9c5c\",\"type\":\"PanTool\"},{\"id\":\"037de819-04ba-4050-ad4e-c2bfa9b9dead\",\"type\":\"ResetTool\"}]},\"id\":\"afb4103e-a3c5-44a5-a60b-20130e5ce3ce\",\"type\":\"Toolbar\"},{\"attributes\":{},\"id\":\"d99e51af-9bf9-4ad5-8996-e5cfec9553b0\",\"type\":\"UnionRenderers\"},{\"attributes\":{\"callback\":null,\"end\":3.5,\"start\":-3.5},\"id\":\"254b041b-3421-4d94-86b6-afab454ec492\",\"type\":\"Range1d\"},{\"attributes\":{},\"id\":\"aea82237-1361-4265-991e-1d818b8aeb86\",\"type\":\"Selection\"},{\"attributes\":{},\"id\":\"ce144953-2d68-487f-9e3e-0418e8539c64\",\"type\":\"UnionRenderers\"},{\"attributes\":{\"callback\":null,\"end\":3.5,\"start\":-3.5},\"id\":\"89e9ea6b-ca09-4d36-9584-078a52a13ef8\",\"type\":\"Range1d\"},{\"attributes\":{},\"id\":\"d53571c3-8ec5-4b72-bbfe-afe1b82a61df\",\"type\":\"LinearScale\"},{\"attributes\":{},\"id\":\"2142695f-4bd8-40bd-b968-6262f8bf5380\",\"type\":\"LinearScale\"},{\"attributes\":{\"callback\":null,\"data\":{\"x\":[0,0],\"y\":[-5,5]},\"selected\":{\"id\":\"24406c64-75c0-406c-a96e-554cedbd8b00\",\"type\":\"Selection\"},\"selection_policy\":{\"id\":\"d99e51af-9bf9-4ad5-8996-e5cfec9553b0\",\"type\":\"UnionRenderers\"}},\"id\":\"d547e35b-f4cb-454d-8861-b64990802e48\",\"type\":\"ColumnDataSource\"},{\"attributes\":{\"formatter\":{\"id\":\"6cad4bd0-4f56-4892-8cd5-bf3a26ce7703\",\"type\":\"BasicTickFormatter\"},\"plot\":{\"id\":\"bde5b1e1-f8d6-4413-b1ce-707e92600ee6\",\"subtype\":\"Figure\",\"type\":\"Plot\"},\"ticker\":{\"id\":\"e9fb316c-3592-48ed-9c2c-07eb16769b42\",\"type\":\"BasicTicker\"}},\"id\":\"0f4c0426-1575-4b5d-a87a-86f7cdbcd8b3\",\"type\":\"LinearAxis\"},{\"attributes\":{},\"id\":\"e9fb316c-3592-48ed-9c2c-07eb16769b42\",\"type\":\"BasicTicker\"},{\"attributes\":{\"plot\":{\"id\":\"bde5b1e1-f8d6-4413-b1ce-707e92600ee6\",\"subtype\":\"Figure\",\"type\":\"Plot\"},\"ticker\":{\"id\":\"e9fb316c-3592-48ed-9c2c-07eb16769b42\",\"type\":\"BasicTicker\"}},\"id\":\"2d6ab9be-6e18-4dfb-821b-c7360825f3a7\",\"type\":\"Grid\"},{\"attributes\":{\"formatter\":{\"id\":\"0aee0ed4-5ff5-4ce6-a793-32c4572ddbcf\",\"type\":\"BasicTickFormatter\"},\"plot\":{\"id\":\"bde5b1e1-f8d6-4413-b1ce-707e92600ee6\",\"subtype\":\"Figure\",\"type\":\"Plot\"},\"ticker\":{\"id\":\"8d7a9c87-fb18-4033-8030-5301a75b0f40\",\"type\":\"BasicTicker\"}},\"id\":\"15909e4e-e863-4c25-88a5-81ae31b7581a\",\"type\":\"LinearAxis\"},{\"attributes\":{},\"id\":\"8d7a9c87-fb18-4033-8030-5301a75b0f40\",\"type\":\"BasicTicker\"},{\"attributes\":{\"dimension\":1,\"plot\":{\"id\":\"bde5b1e1-f8d6-4413-b1ce-707e92600ee6\",\"subtype\":\"Figure\",\"type\":\"Plot\"},\"ticker\":{\"id\":\"8d7a9c87-fb18-4033-8030-5301a75b0f40\",\"type\":\"BasicTicker\"}},\"id\":\"d2056670-5e72-474d-a0ca-89d63d237f94\",\"type\":\"Grid\"},{\"attributes\":{\"callback\":null,\"data\":{\"x\":[-5,5],\"y\":[0,0]},\"selected\":{\"id\":\"aea82237-1361-4265-991e-1d818b8aeb86\",\"type\":\"Selection\"},\"selection_policy\":{\"id\":\"ce144953-2d68-487f-9e3e-0418e8539c64\",\"type\":\"UnionRenderers\"}},\"id\":\"a78dd5ce-5e84-48cd-9bcd-5aa7b32fe3b2\",\"type\":\"ColumnDataSource\"},{\"attributes\":{\"line_width\":1.5,\"x\":{\"field\":\"x\"},\"y\":{\"field\":\"y\"}},\"id\":\"34441d82-60c5-44d4-b8b4-8c2150990216\",\"type\":\"Line\"},{\"attributes\":{},\"id\":\"b63b9ea7-547e-4b7d-9d8c-6c9ff9327515\",\"type\":\"WheelZoomTool\"},{\"attributes\":{},\"id\":\"ef9c9b02-e305-4a23-9fb2-238cf87c9c5c\",\"type\":\"PanTool\"},{\"attributes\":{},\"id\":\"037de819-04ba-4050-ad4e-c2bfa9b9dead\",\"type\":\"ResetTool\"},{\"attributes\":{\"line_alpha\":0.1,\"line_color\":\"#1f77b4\",\"line_width\":1.5,\"x\":{\"field\":\"x\"},\"y\":{\"field\":\"y\"}},\"id\":\"0d17e883-0301-4120-9c87-800f67080159\",\"type\":\"Line\"},{\"attributes\":{\"data_source\":{\"id\":\"d547e35b-f4cb-454d-8861-b64990802e48\",\"type\":\"ColumnDataSource\"},\"glyph\":{\"id\":\"34441d82-60c5-44d4-b8b4-8c2150990216\",\"type\":\"Line\"},\"hover_glyph\":null,\"muted_glyph\":null,\"nonselection_glyph\":{\"id\":\"0d17e883-0301-4120-9c87-800f67080159\",\"type\":\"Line\"},\"selection_glyph\":null,\"view\":{\"id\":\"de6040fe-b928-46fe-a8b4-d9ae1d40118a\",\"type\":\"CDSView\"}},\"id\":\"de6e366e-8c55-4662-bb9b-cde611249c00\",\"type\":\"GlyphRenderer\"},{\"attributes\":{\"source\":{\"id\":\"d547e35b-f4cb-454d-8861-b64990802e48\",\"type\":\"ColumnDataSource\"}},\"id\":\"de6040fe-b928-46fe-a8b4-d9ae1d40118a\",\"type\":\"CDSView\"},{\"attributes\":{\"line_width\":1.5,\"x\":{\"field\":\"x\"},\"y\":{\"field\":\"y\"}},\"id\":\"cfd84b14-a5db-4c69-913d-28397e0fcc06\",\"type\":\"Line\"}],\"root_ids\":[\"bde5b1e1-f8d6-4413-b1ce-707e92600ee6\"]},\"title\":\"Bokeh Application\",\"version\":\"0.13.0\"}};\n",
       "  var render_items = [{\"docid\":\"de67c154-0b24-4e8f-a1d9-4add7a894e09\",\"roots\":{\"bde5b1e1-f8d6-4413-b1ce-707e92600ee6\":\"0c16cd60-8c98-40ae-911b-33334b4ecae3\"}}];\n",
       "  root.Bokeh.embed.embed_items_notebook(docs_json, render_items);\n",
       "\n",
       "  }\n",
       "  if (root.Bokeh !== undefined) {\n",
       "    embed_document(root);\n",
       "  } else {\n",
       "    var attempts = 0;\n",
       "    var timer = setInterval(function(root) {\n",
       "      if (root.Bokeh !== undefined) {\n",
       "        embed_document(root);\n",
       "        clearInterval(timer);\n",
       "      }\n",
       "      attempts++;\n",
       "      if (attempts > 100) {\n",
       "        console.log(\"Bokeh: ERROR: Unable to run BokehJS code because BokehJS library is missing\")\n",
       "        clearInterval(timer);\n",
       "      }\n",
       "    }, 10, root)\n",
       "  }\n",
       "})(window);"
      ],
      "application/vnd.bokehjs_exec.v0+json": ""
     },
     "metadata": {
      "application/vnd.bokehjs_exec.v0+json": {
       "id": "bde5b1e1-f8d6-4413-b1ce-707e92600ee6"
      }
     },
     "output_type": "display_data"
    }
   ],
   "source": [
    "plot = vla()\n",
    "plot.graph()\n",
    "plot.vector(vec1)\n",
    "plot.show()"
   ]
  },
  {
   "cell_type": "markdown",
   "metadata": {},
   "source": [
    "Vectors are normally portrayed as shooting out from the origin (0,0); however, there is nothing implicitly binding them to this location. \n",
    "\n",
    "Note that using the zero vector ($\\vec{0}$) as an origin is known as the \"standard position\""
   ]
  },
  {
   "cell_type": "code",
   "execution_count": 7,
   "metadata": {
    "scrolled": false
   },
   "outputs": [
    {
     "data": {
      "text/html": [
       "\n",
       "\n",
       "\n",
       "\n",
       "\n",
       "\n",
       "  <div class=\"bk-root\" id=\"6424532a-3d21-4577-ad72-345c91bed4ab\"></div>\n"
      ]
     },
     "metadata": {},
     "output_type": "display_data"
    },
    {
     "data": {
      "application/javascript": [
       "(function(root) {\n",
       "  function embed_document(root) {\n",
       "    \n",
       "  var docs_json = {\"5a62cbc8-6df9-4e1c-b25f-34e0fc193d1c\":{\"roots\":{\"references\":[{\"attributes\":{\"fill_alpha\":{\"value\":0.3},\"fill_color\":{\"value\":\"blue\"},\"line_alpha\":{\"value\":0.3},\"line_color\":{\"value\":\"blue\"},\"plot\":null,\"size\":10},\"id\":\"aa59659b-6976-466b-b017-6bc2d0844616\",\"type\":\"NormalHead\"},{\"attributes\":{\"line_alpha\":0.1,\"line_color\":\"#1f77b4\",\"line_width\":1.5,\"x\":{\"field\":\"x\"},\"y\":{\"field\":\"y\"}},\"id\":\"035f33dc-f808-425b-ad5e-a85d0e91f5fd\",\"type\":\"Line\"},{\"attributes\":{\"data_source\":{\"id\":\"a78dd5ce-5e84-48cd-9bcd-5aa7b32fe3b2\",\"type\":\"ColumnDataSource\"},\"glyph\":{\"id\":\"cfd84b14-a5db-4c69-913d-28397e0fcc06\",\"type\":\"Line\"},\"hover_glyph\":null,\"muted_glyph\":null,\"nonselection_glyph\":{\"id\":\"035f33dc-f808-425b-ad5e-a85d0e91f5fd\",\"type\":\"Line\"},\"selection_glyph\":null,\"view\":{\"id\":\"8fa10077-a3d0-41fe-8b82-7c103078dabd\",\"type\":\"CDSView\"}},\"id\":\"8aeb7947-9209-48e0-be06-717fc8687c4a\",\"type\":\"GlyphRenderer\"},{\"attributes\":{\"source\":{\"id\":\"a78dd5ce-5e84-48cd-9bcd-5aa7b32fe3b2\",\"type\":\"ColumnDataSource\"}},\"id\":\"8fa10077-a3d0-41fe-8b82-7c103078dabd\",\"type\":\"CDSView\"},{\"attributes\":{\"fill_alpha\":{\"value\":0.3},\"fill_color\":{\"value\":\"blue\"},\"line_alpha\":{\"value\":0.3},\"line_color\":{\"value\":\"blue\"},\"plot\":null,\"size\":10},\"id\":\"b6bbfa9b-6a5b-43cc-b22f-2af344ef44b5\",\"type\":\"NormalHead\"},{\"attributes\":{\"end\":{\"id\":\"aa59659b-6976-466b-b017-6bc2d0844616\",\"type\":\"NormalHead\"},\"line_alpha\":{\"value\":0.3},\"line_color\":{\"value\":\"blue\"},\"line_width\":{\"value\":3},\"plot\":{\"id\":\"bde5b1e1-f8d6-4413-b1ce-707e92600ee6\",\"subtype\":\"Figure\",\"type\":\"Plot\"},\"source\":null,\"start\":null,\"x_end\":{\"value\":-1},\"x_start\":{\"value\":-2},\"y_end\":{\"value\":1},\"y_start\":{\"value\":-1}},\"id\":\"3e44fd02-4f5a-4a48-9fea-1d016d9e9d7c\",\"type\":\"Arrow\"},{\"attributes\":{\"end\":{\"id\":\"94ba5bd0-c869-4aad-a515-56826463179a\",\"type\":\"NormalHead\"},\"line_color\":{\"value\":\"blue\"},\"line_width\":{\"value\":3},\"plot\":{\"id\":\"bde5b1e1-f8d6-4413-b1ce-707e92600ee6\",\"subtype\":\"Figure\",\"type\":\"Plot\"},\"source\":null,\"start\":null,\"x_end\":{\"value\":1},\"x_start\":{\"value\":0},\"y_end\":{\"value\":2},\"y_start\":{\"value\":0}},\"id\":\"02f45ca5-841b-43da-ba31-90c9af784eab\",\"type\":\"Arrow\"},{\"attributes\":{\"below\":[{\"id\":\"0f4c0426-1575-4b5d-a87a-86f7cdbcd8b3\",\"type\":\"LinearAxis\"}],\"left\":[{\"id\":\"15909e4e-e863-4c25-88a5-81ae31b7581a\",\"type\":\"LinearAxis\"}],\"plot_height\":400,\"plot_width\":400,\"renderers\":[{\"id\":\"0f4c0426-1575-4b5d-a87a-86f7cdbcd8b3\",\"type\":\"LinearAxis\"},{\"id\":\"2d6ab9be-6e18-4dfb-821b-c7360825f3a7\",\"type\":\"Grid\"},{\"id\":\"15909e4e-e863-4c25-88a5-81ae31b7581a\",\"type\":\"LinearAxis\"},{\"id\":\"d2056670-5e72-474d-a0ca-89d63d237f94\",\"type\":\"Grid\"},{\"id\":\"de6e366e-8c55-4662-bb9b-cde611249c00\",\"type\":\"GlyphRenderer\"},{\"id\":\"8aeb7947-9209-48e0-be06-717fc8687c4a\",\"type\":\"GlyphRenderer\"},{\"id\":\"02f45ca5-841b-43da-ba31-90c9af784eab\",\"type\":\"Arrow\"},{\"id\":\"3e44fd02-4f5a-4a48-9fea-1d016d9e9d7c\",\"type\":\"Arrow\"},{\"id\":\"aa45402a-a8e9-4f18-8752-75e422fe11c9\",\"type\":\"Arrow\"},{\"id\":\"ba3d98b4-2328-4bba-8f25-0d440a6a71ef\",\"type\":\"Arrow\"}],\"title\":{\"id\":\"7d9d11eb-cdeb-42e8-a443-8aee13a89221\",\"type\":\"Title\"},\"toolbar\":{\"id\":\"afb4103e-a3c5-44a5-a60b-20130e5ce3ce\",\"type\":\"Toolbar\"},\"x_range\":{\"id\":\"254b041b-3421-4d94-86b6-afab454ec492\",\"type\":\"Range1d\"},\"x_scale\":{\"id\":\"d53571c3-8ec5-4b72-bbfe-afe1b82a61df\",\"type\":\"LinearScale\"},\"y_range\":{\"id\":\"89e9ea6b-ca09-4d36-9584-078a52a13ef8\",\"type\":\"Range1d\"},\"y_scale\":{\"id\":\"2142695f-4bd8-40bd-b968-6262f8bf5380\",\"type\":\"LinearScale\"}},\"id\":\"bde5b1e1-f8d6-4413-b1ce-707e92600ee6\",\"subtype\":\"Figure\",\"type\":\"Plot\"},{\"attributes\":{\"plot\":null,\"text\":\"\"},\"id\":\"7d9d11eb-cdeb-42e8-a443-8aee13a89221\",\"type\":\"Title\"},{\"attributes\":{},\"id\":\"24406c64-75c0-406c-a96e-554cedbd8b00\",\"type\":\"Selection\"},{\"attributes\":{},\"id\":\"6cad4bd0-4f56-4892-8cd5-bf3a26ce7703\",\"type\":\"BasicTickFormatter\"},{\"attributes\":{\"fill_color\":{\"value\":\"blue\"},\"line_color\":{\"value\":\"blue\"},\"plot\":null,\"size\":10},\"id\":\"94ba5bd0-c869-4aad-a515-56826463179a\",\"type\":\"NormalHead\"},{\"attributes\":{},\"id\":\"0aee0ed4-5ff5-4ce6-a793-32c4572ddbcf\",\"type\":\"BasicTickFormatter\"},{\"attributes\":{\"active_drag\":\"auto\",\"active_inspect\":\"auto\",\"active_multi\":null,\"active_scroll\":\"auto\",\"active_tap\":\"auto\",\"tools\":[{\"id\":\"b63b9ea7-547e-4b7d-9d8c-6c9ff9327515\",\"type\":\"WheelZoomTool\"},{\"id\":\"ef9c9b02-e305-4a23-9fb2-238cf87c9c5c\",\"type\":\"PanTool\"},{\"id\":\"037de819-04ba-4050-ad4e-c2bfa9b9dead\",\"type\":\"ResetTool\"}]},\"id\":\"afb4103e-a3c5-44a5-a60b-20130e5ce3ce\",\"type\":\"Toolbar\"},{\"attributes\":{},\"id\":\"d99e51af-9bf9-4ad5-8996-e5cfec9553b0\",\"type\":\"UnionRenderers\"},{\"attributes\":{\"callback\":null,\"end\":3.5,\"start\":-3.5},\"id\":\"254b041b-3421-4d94-86b6-afab454ec492\",\"type\":\"Range1d\"},{\"attributes\":{},\"id\":\"aea82237-1361-4265-991e-1d818b8aeb86\",\"type\":\"Selection\"},{\"attributes\":{\"end\":{\"id\":\"9948795e-8447-4e6a-a6eb-a8e305ca8bfd\",\"type\":\"NormalHead\"},\"line_alpha\":{\"value\":0.3},\"line_color\":{\"value\":\"blue\"},\"line_width\":{\"value\":3},\"plot\":{\"id\":\"bde5b1e1-f8d6-4413-b1ce-707e92600ee6\",\"subtype\":\"Figure\",\"type\":\"Plot\"},\"source\":null,\"start\":null,\"x_end\":{\"value\":1},\"x_start\":{\"value\":0},\"y_end\":{\"value\":-1},\"y_start\":{\"value\":-3}},\"id\":\"ba3d98b4-2328-4bba-8f25-0d440a6a71ef\",\"type\":\"Arrow\"},{\"attributes\":{},\"id\":\"ce144953-2d68-487f-9e3e-0418e8539c64\",\"type\":\"UnionRenderers\"},{\"attributes\":{\"fill_alpha\":{\"value\":0.3},\"fill_color\":{\"value\":\"blue\"},\"line_alpha\":{\"value\":0.3},\"line_color\":{\"value\":\"blue\"},\"plot\":null,\"size\":10},\"id\":\"9948795e-8447-4e6a-a6eb-a8e305ca8bfd\",\"type\":\"NormalHead\"},{\"attributes\":{\"callback\":null,\"end\":3.5,\"start\":-3.5},\"id\":\"89e9ea6b-ca09-4d36-9584-078a52a13ef8\",\"type\":\"Range1d\"},{\"attributes\":{\"end\":{\"id\":\"b6bbfa9b-6a5b-43cc-b22f-2af344ef44b5\",\"type\":\"NormalHead\"},\"line_alpha\":{\"value\":0.3},\"line_color\":{\"value\":\"blue\"},\"line_width\":{\"value\":3},\"plot\":{\"id\":\"bde5b1e1-f8d6-4413-b1ce-707e92600ee6\",\"subtype\":\"Figure\",\"type\":\"Plot\"},\"source\":null,\"start\":null,\"x_end\":{\"value\":2},\"x_start\":{\"value\":1},\"y_end\":{\"value\":3},\"y_start\":{\"value\":1}},\"id\":\"aa45402a-a8e9-4f18-8752-75e422fe11c9\",\"type\":\"Arrow\"},{\"attributes\":{},\"id\":\"d53571c3-8ec5-4b72-bbfe-afe1b82a61df\",\"type\":\"LinearScale\"},{\"attributes\":{},\"id\":\"2142695f-4bd8-40bd-b968-6262f8bf5380\",\"type\":\"LinearScale\"},{\"attributes\":{\"callback\":null,\"data\":{\"x\":[0,0],\"y\":[-5,5]},\"selected\":{\"id\":\"24406c64-75c0-406c-a96e-554cedbd8b00\",\"type\":\"Selection\"},\"selection_policy\":{\"id\":\"d99e51af-9bf9-4ad5-8996-e5cfec9553b0\",\"type\":\"UnionRenderers\"}},\"id\":\"d547e35b-f4cb-454d-8861-b64990802e48\",\"type\":\"ColumnDataSource\"},{\"attributes\":{\"formatter\":{\"id\":\"6cad4bd0-4f56-4892-8cd5-bf3a26ce7703\",\"type\":\"BasicTickFormatter\"},\"plot\":{\"id\":\"bde5b1e1-f8d6-4413-b1ce-707e92600ee6\",\"subtype\":\"Figure\",\"type\":\"Plot\"},\"ticker\":{\"id\":\"e9fb316c-3592-48ed-9c2c-07eb16769b42\",\"type\":\"BasicTicker\"}},\"id\":\"0f4c0426-1575-4b5d-a87a-86f7cdbcd8b3\",\"type\":\"LinearAxis\"},{\"attributes\":{},\"id\":\"e9fb316c-3592-48ed-9c2c-07eb16769b42\",\"type\":\"BasicTicker\"},{\"attributes\":{\"plot\":{\"id\":\"bde5b1e1-f8d6-4413-b1ce-707e92600ee6\",\"subtype\":\"Figure\",\"type\":\"Plot\"},\"ticker\":{\"id\":\"e9fb316c-3592-48ed-9c2c-07eb16769b42\",\"type\":\"BasicTicker\"}},\"id\":\"2d6ab9be-6e18-4dfb-821b-c7360825f3a7\",\"type\":\"Grid\"},{\"attributes\":{\"formatter\":{\"id\":\"0aee0ed4-5ff5-4ce6-a793-32c4572ddbcf\",\"type\":\"BasicTickFormatter\"},\"plot\":{\"id\":\"bde5b1e1-f8d6-4413-b1ce-707e92600ee6\",\"subtype\":\"Figure\",\"type\":\"Plot\"},\"ticker\":{\"id\":\"8d7a9c87-fb18-4033-8030-5301a75b0f40\",\"type\":\"BasicTicker\"}},\"id\":\"15909e4e-e863-4c25-88a5-81ae31b7581a\",\"type\":\"LinearAxis\"},{\"attributes\":{},\"id\":\"8d7a9c87-fb18-4033-8030-5301a75b0f40\",\"type\":\"BasicTicker\"},{\"attributes\":{\"dimension\":1,\"plot\":{\"id\":\"bde5b1e1-f8d6-4413-b1ce-707e92600ee6\",\"subtype\":\"Figure\",\"type\":\"Plot\"},\"ticker\":{\"id\":\"8d7a9c87-fb18-4033-8030-5301a75b0f40\",\"type\":\"BasicTicker\"}},\"id\":\"d2056670-5e72-474d-a0ca-89d63d237f94\",\"type\":\"Grid\"},{\"attributes\":{\"callback\":null,\"data\":{\"x\":[-5,5],\"y\":[0,0]},\"selected\":{\"id\":\"aea82237-1361-4265-991e-1d818b8aeb86\",\"type\":\"Selection\"},\"selection_policy\":{\"id\":\"ce144953-2d68-487f-9e3e-0418e8539c64\",\"type\":\"UnionRenderers\"}},\"id\":\"a78dd5ce-5e84-48cd-9bcd-5aa7b32fe3b2\",\"type\":\"ColumnDataSource\"},{\"attributes\":{\"line_width\":1.5,\"x\":{\"field\":\"x\"},\"y\":{\"field\":\"y\"}},\"id\":\"34441d82-60c5-44d4-b8b4-8c2150990216\",\"type\":\"Line\"},{\"attributes\":{},\"id\":\"b63b9ea7-547e-4b7d-9d8c-6c9ff9327515\",\"type\":\"WheelZoomTool\"},{\"attributes\":{},\"id\":\"ef9c9b02-e305-4a23-9fb2-238cf87c9c5c\",\"type\":\"PanTool\"},{\"attributes\":{},\"id\":\"037de819-04ba-4050-ad4e-c2bfa9b9dead\",\"type\":\"ResetTool\"},{\"attributes\":{\"line_alpha\":0.1,\"line_color\":\"#1f77b4\",\"line_width\":1.5,\"x\":{\"field\":\"x\"},\"y\":{\"field\":\"y\"}},\"id\":\"0d17e883-0301-4120-9c87-800f67080159\",\"type\":\"Line\"},{\"attributes\":{\"data_source\":{\"id\":\"d547e35b-f4cb-454d-8861-b64990802e48\",\"type\":\"ColumnDataSource\"},\"glyph\":{\"id\":\"34441d82-60c5-44d4-b8b4-8c2150990216\",\"type\":\"Line\"},\"hover_glyph\":null,\"muted_glyph\":null,\"nonselection_glyph\":{\"id\":\"0d17e883-0301-4120-9c87-800f67080159\",\"type\":\"Line\"},\"selection_glyph\":null,\"view\":{\"id\":\"de6040fe-b928-46fe-a8b4-d9ae1d40118a\",\"type\":\"CDSView\"}},\"id\":\"de6e366e-8c55-4662-bb9b-cde611249c00\",\"type\":\"GlyphRenderer\"},{\"attributes\":{\"source\":{\"id\":\"d547e35b-f4cb-454d-8861-b64990802e48\",\"type\":\"ColumnDataSource\"}},\"id\":\"de6040fe-b928-46fe-a8b4-d9ae1d40118a\",\"type\":\"CDSView\"},{\"attributes\":{\"line_width\":1.5,\"x\":{\"field\":\"x\"},\"y\":{\"field\":\"y\"}},\"id\":\"cfd84b14-a5db-4c69-913d-28397e0fcc06\",\"type\":\"Line\"}],\"root_ids\":[\"bde5b1e1-f8d6-4413-b1ce-707e92600ee6\"]},\"title\":\"Bokeh Application\",\"version\":\"0.13.0\"}};\n",
       "  var render_items = [{\"docid\":\"5a62cbc8-6df9-4e1c-b25f-34e0fc193d1c\",\"roots\":{\"bde5b1e1-f8d6-4413-b1ce-707e92600ee6\":\"6424532a-3d21-4577-ad72-345c91bed4ab\"}}];\n",
       "  root.Bokeh.embed.embed_items_notebook(docs_json, render_items);\n",
       "\n",
       "  }\n",
       "  if (root.Bokeh !== undefined) {\n",
       "    embed_document(root);\n",
       "  } else {\n",
       "    var attempts = 0;\n",
       "    var timer = setInterval(function(root) {\n",
       "      if (root.Bokeh !== undefined) {\n",
       "        embed_document(root);\n",
       "        clearInterval(timer);\n",
       "      }\n",
       "      attempts++;\n",
       "      if (attempts > 100) {\n",
       "        console.log(\"Bokeh: ERROR: Unable to run BokehJS code because BokehJS library is missing\")\n",
       "        clearInterval(timer);\n",
       "      }\n",
       "    }, 10, root)\n",
       "  }\n",
       "})(window);"
      ],
      "application/vnd.bokehjs_exec.v0+json": ""
     },
     "metadata": {
      "application/vnd.bokehjs_exec.v0+json": {
       "id": "bde5b1e1-f8d6-4413-b1ce-707e92600ee6"
      }
     },
     "output_type": "display_data"
    }
   ],
   "source": [
    "plot.change_origin(np.array([-2,-1]))\n",
    "plot.vector(vec1,add_color=\"blue\",alpha=.3)\n",
    "\n",
    "plot.change_origin(np.array([1,1]))\n",
    "plot.vector(vec1,add_color=\"blue\",alpha=.3)\n",
    "\n",
    "plot.change_origin(np.array([0,-3]))\n",
    "plot.vector(vec1,add_color=\"blue\",alpha=.3)\n",
    "\n",
    "plot.show()"
   ]
  },
  {
   "cell_type": "markdown",
   "metadata": {},
   "source": [
    "Note that $\\vec{v}$ is a 2-dimensional vector, but we could easily describe vectors in $N$ dimensions (even though we can visualize them beyond 3 dimensions). \n",
    "\n",
    "We denote a two dimensional plane composing all the real numbers on that plane as $\\Re^2$. Here the superscript captures the number of dimensions, which is 2. We'd denote some $n$ dimensional space as $\\Re^n$\n",
    "\n",
    "For practical reasons, most of the visualizations I'll perform during the lectures will be in $\\Re^2$"
   ]
  },
  {
   "cell_type": "markdown",
   "metadata": {},
   "source": [
    "## Vector Scalar Multiplication \n",
    "\n",
    "\\begin{equation} \n",
    "c\\vec {v} = c\\begin{bmatrix} a \\\\ b \\end{bmatrix} = \\begin{bmatrix} ca \\\\ cb \\end{bmatrix} \n",
    "\\end{equation}\n",
    "\n",
    "Where $c$ is an arbitrary scalar of the real numbers, $c \\in \\Re$\n",
    "\n",
    "**Example**\n",
    "\\begin{equation} \n",
    "2\\vec {v} = 2\\begin{bmatrix} 1 \\\\ 2 \\end{bmatrix} = \\begin{bmatrix} 2(1) \\\\ 2(2) \\end{bmatrix} = \\begin{bmatrix} 2 \\\\ 4 \\end{bmatrix}\n",
    "\\end{equation}\n"
   ]
  },
  {
   "cell_type": "code",
   "execution_count": 8,
   "metadata": {},
   "outputs": [
    {
     "name": "stdout",
     "output_type": "stream",
     "text": [
      "[1 2]\n",
      "[2 4]\n"
     ]
    }
   ],
   "source": [
    "print(vec1)\n",
    "new_vec = 2*vec1\n",
    "print(new_vec)"
   ]
  },
  {
   "cell_type": "code",
   "execution_count": 9,
   "metadata": {},
   "outputs": [
    {
     "data": {
      "text/html": [
       "\n",
       "\n",
       "\n",
       "\n",
       "\n",
       "\n",
       "  <div class=\"bk-root\" id=\"1ab5e480-1b90-4d75-a427-6cafcc04a559\"></div>\n"
      ]
     },
     "metadata": {},
     "output_type": "display_data"
    },
    {
     "data": {
      "application/javascript": [
       "(function(root) {\n",
       "  function embed_document(root) {\n",
       "    \n",
       "  var docs_json = {\"3a6cfe37-19d0-4b05-bf3a-286c04ed98b3\":{\"roots\":{\"references\":[{\"attributes\":{},\"id\":\"2149f15c-3d43-426f-8eaa-e52586e5190f\",\"type\":\"LinearScale\"},{\"attributes\":{},\"id\":\"f02f218d-6c00-4143-8d6f-4e3902a06e5d\",\"type\":\"PanTool\"},{\"attributes\":{\"source\":{\"id\":\"1e2d8af2-2532-4c97-8a6a-c0ecea1347e9\",\"type\":\"ColumnDataSource\"}},\"id\":\"c8bbc217-bf10-464a-a292-526eb62e45c8\",\"type\":\"CDSView\"},{\"attributes\":{},\"id\":\"55bd5bc4-6042-4e7c-b036-f565cdd22d36\",\"type\":\"BasicTickFormatter\"},{\"attributes\":{},\"id\":\"a4be9974-3539-4014-84b4-12f3cc80f720\",\"type\":\"Selection\"},{\"attributes\":{\"end\":{\"id\":\"b852324c-2f82-4e0f-be56-aa742c43044c\",\"type\":\"NormalHead\"},\"line_alpha\":{\"value\":0.2},\"line_color\":{\"value\":\"blue\"},\"line_width\":{\"value\":3},\"plot\":{\"id\":\"1f5b5b58-7cd2-47df-90d3-f86460bd5a99\",\"subtype\":\"Figure\",\"type\":\"Plot\"},\"source\":null,\"start\":null,\"x_end\":{\"value\":2},\"x_start\":{\"value\":0},\"y_end\":{\"value\":4},\"y_start\":{\"value\":0}},\"id\":\"f0fb24c8-c741-430f-8b2c-94cd19653c2e\",\"type\":\"Arrow\"},{\"attributes\":{\"fill_alpha\":{\"value\":0.2},\"fill_color\":{\"value\":\"blue\"},\"line_alpha\":{\"value\":0.2},\"line_color\":{\"value\":\"blue\"},\"plot\":null,\"size\":10},\"id\":\"b852324c-2f82-4e0f-be56-aa742c43044c\",\"type\":\"NormalHead\"},{\"attributes\":{},\"id\":\"c9783bd8-de3f-415e-96e0-b86b1eb3fd9c\",\"type\":\"UnionRenderers\"},{\"attributes\":{\"line_alpha\":0.1,\"line_color\":\"#1f77b4\",\"line_width\":1.5,\"x\":{\"field\":\"x\"},\"y\":{\"field\":\"y\"}},\"id\":\"8ed4e221-64e0-4dba-88c6-02fc54ede803\",\"type\":\"Line\"},{\"attributes\":{\"line_width\":1.5,\"x\":{\"field\":\"x\"},\"y\":{\"field\":\"y\"}},\"id\":\"42a30f6b-fc98-448b-a87f-801d5edccc9c\",\"type\":\"Line\"},{\"attributes\":{\"line_width\":1.5,\"x\":{\"field\":\"x\"},\"y\":{\"field\":\"y\"}},\"id\":\"7d8b7ea5-9aa1-4725-8d07-ccbd91b60193\",\"type\":\"Line\"},{\"attributes\":{},\"id\":\"98242be0-8b7d-4008-b7b1-0c432c05d194\",\"type\":\"WheelZoomTool\"},{\"attributes\":{},\"id\":\"637bcb16-6ffa-426d-947a-3a1604b07ea7\",\"type\":\"ResetTool\"},{\"attributes\":{\"callback\":null,\"end\":7.0,\"start\":-7.0},\"id\":\"5fac019e-770e-4856-919f-415e7e4f7168\",\"type\":\"Range1d\"},{\"attributes\":{\"data_source\":{\"id\":\"e03f492c-7121-44a8-abf7-16303a82820a\",\"type\":\"ColumnDataSource\"},\"glyph\":{\"id\":\"42a30f6b-fc98-448b-a87f-801d5edccc9c\",\"type\":\"Line\"},\"hover_glyph\":null,\"muted_glyph\":null,\"nonselection_glyph\":{\"id\":\"8ed4e221-64e0-4dba-88c6-02fc54ede803\",\"type\":\"Line\"},\"selection_glyph\":null,\"view\":{\"id\":\"6c41c424-ed1c-49b6-a353-6b97dab444d1\",\"type\":\"CDSView\"}},\"id\":\"37e69331-2e61-46c7-8e9f-e30e68e463d9\",\"type\":\"GlyphRenderer\"},{\"attributes\":{},\"id\":\"bb469675-dc48-4622-bc70-57687958e9f5\",\"type\":\"Selection\"},{\"attributes\":{\"data_source\":{\"id\":\"1e2d8af2-2532-4c97-8a6a-c0ecea1347e9\",\"type\":\"ColumnDataSource\"},\"glyph\":{\"id\":\"7d8b7ea5-9aa1-4725-8d07-ccbd91b60193\",\"type\":\"Line\"},\"hover_glyph\":null,\"muted_glyph\":null,\"nonselection_glyph\":{\"id\":\"13a669e7-e415-4733-8904-52486ed38a98\",\"type\":\"Line\"},\"selection_glyph\":null,\"view\":{\"id\":\"c8bbc217-bf10-464a-a292-526eb62e45c8\",\"type\":\"CDSView\"}},\"id\":\"e7ba7303-831a-43f7-a592-3f53d7bb6dd7\",\"type\":\"GlyphRenderer\"},{\"attributes\":{\"source\":{\"id\":\"e03f492c-7121-44a8-abf7-16303a82820a\",\"type\":\"ColumnDataSource\"}},\"id\":\"6c41c424-ed1c-49b6-a353-6b97dab444d1\",\"type\":\"CDSView\"},{\"attributes\":{\"plot\":null,\"text\":\"\"},\"id\":\"3b5b9b9c-a5b4-4ce3-be67-4f30aaafb34e\",\"type\":\"Title\"},{\"attributes\":{},\"id\":\"09152161-3f8e-49a7-af64-1844bdefd5d9\",\"type\":\"BasicTicker\"},{\"attributes\":{\"callback\":null,\"data\":{\"x\":[-10,10],\"y\":[0,0]},\"selected\":{\"id\":\"bb469675-dc48-4622-bc70-57687958e9f5\",\"type\":\"Selection\"},\"selection_policy\":{\"id\":\"cd8ad671-cf92-4dbd-aadb-50deeeaddb17\",\"type\":\"UnionRenderers\"}},\"id\":\"e03f492c-7121-44a8-abf7-16303a82820a\",\"type\":\"ColumnDataSource\"},{\"attributes\":{\"end\":{\"id\":\"7b4652cc-0140-4a1c-9d83-f2e9ba3f74c5\",\"type\":\"NormalHead\"},\"line_color\":{\"value\":\"blue\"},\"line_width\":{\"value\":3},\"plot\":{\"id\":\"1f5b5b58-7cd2-47df-90d3-f86460bd5a99\",\"subtype\":\"Figure\",\"type\":\"Plot\"},\"source\":null,\"start\":null,\"x_end\":{\"value\":1},\"x_start\":{\"value\":0},\"y_end\":{\"value\":2},\"y_start\":{\"value\":0}},\"id\":\"b35bccd4-d431-4720-aca5-007cc20bfc68\",\"type\":\"Arrow\"},{\"attributes\":{\"line_alpha\":0.1,\"line_color\":\"#1f77b4\",\"line_width\":1.5,\"x\":{\"field\":\"x\"},\"y\":{\"field\":\"y\"}},\"id\":\"13a669e7-e415-4733-8904-52486ed38a98\",\"type\":\"Line\"},{\"attributes\":{\"callback\":null,\"data\":{\"x\":[0,0],\"y\":[-10,10]},\"selected\":{\"id\":\"a4be9974-3539-4014-84b4-12f3cc80f720\",\"type\":\"Selection\"},\"selection_policy\":{\"id\":\"c9783bd8-de3f-415e-96e0-b86b1eb3fd9c\",\"type\":\"UnionRenderers\"}},\"id\":\"1e2d8af2-2532-4c97-8a6a-c0ecea1347e9\",\"type\":\"ColumnDataSource\"},{\"attributes\":{\"dimension\":1,\"plot\":{\"id\":\"1f5b5b58-7cd2-47df-90d3-f86460bd5a99\",\"subtype\":\"Figure\",\"type\":\"Plot\"},\"ticker\":{\"id\":\"23f9781d-a938-4bd1-9d30-b2821dbf2bba\",\"type\":\"BasicTicker\"}},\"id\":\"754c3b06-efc7-43d2-a366-ac021905b1d0\",\"type\":\"Grid\"},{\"attributes\":{\"formatter\":{\"id\":\"36246e2d-6b30-4dbe-b102-f4971a842956\",\"type\":\"BasicTickFormatter\"},\"plot\":{\"id\":\"1f5b5b58-7cd2-47df-90d3-f86460bd5a99\",\"subtype\":\"Figure\",\"type\":\"Plot\"},\"ticker\":{\"id\":\"23f9781d-a938-4bd1-9d30-b2821dbf2bba\",\"type\":\"BasicTicker\"}},\"id\":\"aaf2fd00-09c5-4059-8b09-0131a1d06d3e\",\"type\":\"LinearAxis\"},{\"attributes\":{},\"id\":\"36246e2d-6b30-4dbe-b102-f4971a842956\",\"type\":\"BasicTickFormatter\"},{\"attributes\":{\"callback\":null,\"end\":7.0,\"start\":-7.0},\"id\":\"8c2a0ee9-19b4-47c2-974e-33d2a151c691\",\"type\":\"Range1d\"},{\"attributes\":{},\"id\":\"cd8ad671-cf92-4dbd-aadb-50deeeaddb17\",\"type\":\"UnionRenderers\"},{\"attributes\":{\"below\":[{\"id\":\"1115be6d-fcac-41ab-ba0b-3d862e353fe8\",\"type\":\"LinearAxis\"}],\"left\":[{\"id\":\"aaf2fd00-09c5-4059-8b09-0131a1d06d3e\",\"type\":\"LinearAxis\"}],\"plot_height\":400,\"plot_width\":400,\"renderers\":[{\"id\":\"1115be6d-fcac-41ab-ba0b-3d862e353fe8\",\"type\":\"LinearAxis\"},{\"id\":\"6091b075-ca3e-44fa-8fae-39fab6f9a551\",\"type\":\"Grid\"},{\"id\":\"aaf2fd00-09c5-4059-8b09-0131a1d06d3e\",\"type\":\"LinearAxis\"},{\"id\":\"754c3b06-efc7-43d2-a366-ac021905b1d0\",\"type\":\"Grid\"},{\"id\":\"e7ba7303-831a-43f7-a592-3f53d7bb6dd7\",\"type\":\"GlyphRenderer\"},{\"id\":\"37e69331-2e61-46c7-8e9f-e30e68e463d9\",\"type\":\"GlyphRenderer\"},{\"id\":\"b35bccd4-d431-4720-aca5-007cc20bfc68\",\"type\":\"Arrow\"},{\"id\":\"f0fb24c8-c741-430f-8b2c-94cd19653c2e\",\"type\":\"Arrow\"}],\"title\":{\"id\":\"3b5b9b9c-a5b4-4ce3-be67-4f30aaafb34e\",\"type\":\"Title\"},\"toolbar\":{\"id\":\"65f284c3-e53d-4c7f-b2a5-fe81049faea4\",\"type\":\"Toolbar\"},\"x_range\":{\"id\":\"5fac019e-770e-4856-919f-415e7e4f7168\",\"type\":\"Range1d\"},\"x_scale\":{\"id\":\"2149f15c-3d43-426f-8eaa-e52586e5190f\",\"type\":\"LinearScale\"},\"y_range\":{\"id\":\"8c2a0ee9-19b4-47c2-974e-33d2a151c691\",\"type\":\"Range1d\"},\"y_scale\":{\"id\":\"a338d54e-3142-4271-8838-f28116f2fa36\",\"type\":\"LinearScale\"}},\"id\":\"1f5b5b58-7cd2-47df-90d3-f86460bd5a99\",\"subtype\":\"Figure\",\"type\":\"Plot\"},{\"attributes\":{\"formatter\":{\"id\":\"55bd5bc4-6042-4e7c-b036-f565cdd22d36\",\"type\":\"BasicTickFormatter\"},\"plot\":{\"id\":\"1f5b5b58-7cd2-47df-90d3-f86460bd5a99\",\"subtype\":\"Figure\",\"type\":\"Plot\"},\"ticker\":{\"id\":\"09152161-3f8e-49a7-af64-1844bdefd5d9\",\"type\":\"BasicTicker\"}},\"id\":\"1115be6d-fcac-41ab-ba0b-3d862e353fe8\",\"type\":\"LinearAxis\"},{\"attributes\":{\"fill_color\":{\"value\":\"blue\"},\"line_color\":{\"value\":\"blue\"},\"plot\":null,\"size\":10},\"id\":\"7b4652cc-0140-4a1c-9d83-f2e9ba3f74c5\",\"type\":\"NormalHead\"},{\"attributes\":{},\"id\":\"a338d54e-3142-4271-8838-f28116f2fa36\",\"type\":\"LinearScale\"},{\"attributes\":{},\"id\":\"23f9781d-a938-4bd1-9d30-b2821dbf2bba\",\"type\":\"BasicTicker\"},{\"attributes\":{\"plot\":{\"id\":\"1f5b5b58-7cd2-47df-90d3-f86460bd5a99\",\"subtype\":\"Figure\",\"type\":\"Plot\"},\"ticker\":{\"id\":\"09152161-3f8e-49a7-af64-1844bdefd5d9\",\"type\":\"BasicTicker\"}},\"id\":\"6091b075-ca3e-44fa-8fae-39fab6f9a551\",\"type\":\"Grid\"},{\"attributes\":{\"active_drag\":\"auto\",\"active_inspect\":\"auto\",\"active_multi\":null,\"active_scroll\":\"auto\",\"active_tap\":\"auto\",\"tools\":[{\"id\":\"98242be0-8b7d-4008-b7b1-0c432c05d194\",\"type\":\"WheelZoomTool\"},{\"id\":\"f02f218d-6c00-4143-8d6f-4e3902a06e5d\",\"type\":\"PanTool\"},{\"id\":\"637bcb16-6ffa-426d-947a-3a1604b07ea7\",\"type\":\"ResetTool\"}]},\"id\":\"65f284c3-e53d-4c7f-b2a5-fe81049faea4\",\"type\":\"Toolbar\"}],\"root_ids\":[\"1f5b5b58-7cd2-47df-90d3-f86460bd5a99\"]},\"title\":\"Bokeh Application\",\"version\":\"0.13.0\"}};\n",
       "  var render_items = [{\"docid\":\"3a6cfe37-19d0-4b05-bf3a-286c04ed98b3\",\"roots\":{\"1f5b5b58-7cd2-47df-90d3-f86460bd5a99\":\"1ab5e480-1b90-4d75-a427-6cafcc04a559\"}}];\n",
       "  root.Bokeh.embed.embed_items_notebook(docs_json, render_items);\n",
       "\n",
       "  }\n",
       "  if (root.Bokeh !== undefined) {\n",
       "    embed_document(root);\n",
       "  } else {\n",
       "    var attempts = 0;\n",
       "    var timer = setInterval(function(root) {\n",
       "      if (root.Bokeh !== undefined) {\n",
       "        embed_document(root);\n",
       "        clearInterval(timer);\n",
       "      }\n",
       "      attempts++;\n",
       "      if (attempts > 100) {\n",
       "        console.log(\"Bokeh: ERROR: Unable to run BokehJS code because BokehJS library is missing\")\n",
       "        clearInterval(timer);\n",
       "      }\n",
       "    }, 10, root)\n",
       "  }\n",
       "})(window);"
      ],
      "application/vnd.bokehjs_exec.v0+json": ""
     },
     "metadata": {
      "application/vnd.bokehjs_exec.v0+json": {
       "id": "1f5b5b58-7cd2-47df-90d3-f86460bd5a99"
      }
     },
     "output_type": "display_data"
    }
   ],
   "source": [
    "plot.clear()\n",
    "plot.graph(10)\n",
    "plot.vector(vec1,add_color=\"blue\")\n",
    "plot.vector(new_vec,add_color=\"blue\",alpha=.2)\n",
    "plot.show()"
   ]
  },
  {
   "cell_type": "markdown",
   "metadata": {},
   "source": [
    "Scalars increase/decrease the length of a vector. Put differently, the vector is scaled by some magnitude.\n",
    "\n",
    "Thus, we can express any number along a $\\vec{v}$ by scaling it by come constant $c$, where $c \\in \\Re$"
   ]
  },
  {
   "cell_type": "code",
   "execution_count": 10,
   "metadata": {},
   "outputs": [
    {
     "data": {
      "text/html": [
       "\n",
       "\n",
       "\n",
       "\n",
       "\n",
       "\n",
       "  <div class=\"bk-root\" id=\"cdbc2207-f18a-41b6-b7b8-b21def4d1072\"></div>\n"
      ]
     },
     "metadata": {},
     "output_type": "display_data"
    },
    {
     "data": {
      "application/javascript": [
       "(function(root) {\n",
       "  function embed_document(root) {\n",
       "    \n",
       "  var docs_json = {\"467b6ebd-eb7f-485e-8440-615b01568989\":{\"roots\":{\"references\":[{\"attributes\":{},\"id\":\"2149f15c-3d43-426f-8eaa-e52586e5190f\",\"type\":\"LinearScale\"},{\"attributes\":{},\"id\":\"f02f218d-6c00-4143-8d6f-4e3902a06e5d\",\"type\":\"PanTool\"},{\"attributes\":{\"source\":{\"id\":\"1e2d8af2-2532-4c97-8a6a-c0ecea1347e9\",\"type\":\"ColumnDataSource\"}},\"id\":\"c8bbc217-bf10-464a-a292-526eb62e45c8\",\"type\":\"CDSView\"},{\"attributes\":{\"end\":{\"id\":\"3e54a13c-1f1d-4849-b39c-c5cfd244b104\",\"type\":\"NormalHead\"},\"line_alpha\":{\"value\":0.2},\"line_color\":{\"value\":\"blue\"},\"line_width\":{\"value\":3},\"plot\":{\"id\":\"1f5b5b58-7cd2-47df-90d3-f86460bd5a99\",\"subtype\":\"Figure\",\"type\":\"Plot\"},\"source\":null,\"start\":null,\"x_end\":{\"value\":-2.3},\"x_start\":{\"value\":0},\"y_end\":{\"value\":-4.6},\"y_start\":{\"value\":0}},\"id\":\"64c74bc8-02a4-43dc-9016-d22e1a2993d4\",\"type\":\"Arrow\"},{\"attributes\":{},\"id\":\"55bd5bc4-6042-4e7c-b036-f565cdd22d36\",\"type\":\"BasicTickFormatter\"},{\"attributes\":{},\"id\":\"a4be9974-3539-4014-84b4-12f3cc80f720\",\"type\":\"Selection\"},{\"attributes\":{\"end\":{\"id\":\"b852324c-2f82-4e0f-be56-aa742c43044c\",\"type\":\"NormalHead\"},\"line_alpha\":{\"value\":0.2},\"line_color\":{\"value\":\"blue\"},\"line_width\":{\"value\":3},\"plot\":{\"id\":\"1f5b5b58-7cd2-47df-90d3-f86460bd5a99\",\"subtype\":\"Figure\",\"type\":\"Plot\"},\"source\":null,\"start\":null,\"x_end\":{\"value\":2},\"x_start\":{\"value\":0},\"y_end\":{\"value\":4},\"y_start\":{\"value\":0}},\"id\":\"f0fb24c8-c741-430f-8b2c-94cd19653c2e\",\"type\":\"Arrow\"},{\"attributes\":{\"fill_alpha\":{\"value\":0.2},\"fill_color\":{\"value\":\"blue\"},\"line_alpha\":{\"value\":0.2},\"line_color\":{\"value\":\"blue\"},\"plot\":null,\"size\":10},\"id\":\"b852324c-2f82-4e0f-be56-aa742c43044c\",\"type\":\"NormalHead\"},{\"attributes\":{},\"id\":\"c9783bd8-de3f-415e-96e0-b86b1eb3fd9c\",\"type\":\"UnionRenderers\"},{\"attributes\":{\"line_alpha\":0.1,\"line_color\":\"#1f77b4\",\"line_width\":1.5,\"x\":{\"field\":\"x\"},\"y\":{\"field\":\"y\"}},\"id\":\"8ed4e221-64e0-4dba-88c6-02fc54ede803\",\"type\":\"Line\"},{\"attributes\":{\"line_width\":1.5,\"x\":{\"field\":\"x\"},\"y\":{\"field\":\"y\"}},\"id\":\"42a30f6b-fc98-448b-a87f-801d5edccc9c\",\"type\":\"Line\"},{\"attributes\":{\"line_width\":1.5,\"x\":{\"field\":\"x\"},\"y\":{\"field\":\"y\"}},\"id\":\"7d8b7ea5-9aa1-4725-8d07-ccbd91b60193\",\"type\":\"Line\"},{\"attributes\":{},\"id\":\"98242be0-8b7d-4008-b7b1-0c432c05d194\",\"type\":\"WheelZoomTool\"},{\"attributes\":{},\"id\":\"637bcb16-6ffa-426d-947a-3a1604b07ea7\",\"type\":\"ResetTool\"},{\"attributes\":{\"callback\":null,\"end\":7.0,\"start\":-7.0},\"id\":\"5fac019e-770e-4856-919f-415e7e4f7168\",\"type\":\"Range1d\"},{\"attributes\":{\"fill_alpha\":{\"value\":0.2},\"fill_color\":{\"value\":\"blue\"},\"line_alpha\":{\"value\":0.2},\"line_color\":{\"value\":\"blue\"},\"plot\":null,\"size\":10},\"id\":\"5c52a82e-8ca7-4367-adf9-8a20a5afd1ae\",\"type\":\"NormalHead\"},{\"attributes\":{\"data_source\":{\"id\":\"e03f492c-7121-44a8-abf7-16303a82820a\",\"type\":\"ColumnDataSource\"},\"glyph\":{\"id\":\"42a30f6b-fc98-448b-a87f-801d5edccc9c\",\"type\":\"Line\"},\"hover_glyph\":null,\"muted_glyph\":null,\"nonselection_glyph\":{\"id\":\"8ed4e221-64e0-4dba-88c6-02fc54ede803\",\"type\":\"Line\"},\"selection_glyph\":null,\"view\":{\"id\":\"6c41c424-ed1c-49b6-a353-6b97dab444d1\",\"type\":\"CDSView\"}},\"id\":\"37e69331-2e61-46c7-8e9f-e30e68e463d9\",\"type\":\"GlyphRenderer\"},{\"attributes\":{},\"id\":\"bb469675-dc48-4622-bc70-57687958e9f5\",\"type\":\"Selection\"},{\"attributes\":{\"data_source\":{\"id\":\"1e2d8af2-2532-4c97-8a6a-c0ecea1347e9\",\"type\":\"ColumnDataSource\"},\"glyph\":{\"id\":\"7d8b7ea5-9aa1-4725-8d07-ccbd91b60193\",\"type\":\"Line\"},\"hover_glyph\":null,\"muted_glyph\":null,\"nonselection_glyph\":{\"id\":\"13a669e7-e415-4733-8904-52486ed38a98\",\"type\":\"Line\"},\"selection_glyph\":null,\"view\":{\"id\":\"c8bbc217-bf10-464a-a292-526eb62e45c8\",\"type\":\"CDSView\"}},\"id\":\"e7ba7303-831a-43f7-a592-3f53d7bb6dd7\",\"type\":\"GlyphRenderer\"},{\"attributes\":{\"source\":{\"id\":\"e03f492c-7121-44a8-abf7-16303a82820a\",\"type\":\"ColumnDataSource\"}},\"id\":\"6c41c424-ed1c-49b6-a353-6b97dab444d1\",\"type\":\"CDSView\"},{\"attributes\":{\"plot\":null,\"text\":\"\"},\"id\":\"3b5b9b9c-a5b4-4ce3-be67-4f30aaafb34e\",\"type\":\"Title\"},{\"attributes\":{},\"id\":\"09152161-3f8e-49a7-af64-1844bdefd5d9\",\"type\":\"BasicTicker\"},{\"attributes\":{\"fill_alpha\":{\"value\":0.2},\"fill_color\":{\"value\":\"blue\"},\"line_alpha\":{\"value\":0.2},\"line_color\":{\"value\":\"blue\"},\"plot\":null,\"size\":10},\"id\":\"b0141ff6-5bfa-46cb-8712-2976b8d3213a\",\"type\":\"NormalHead\"},{\"attributes\":{\"callback\":null,\"data\":{\"x\":[-10,10],\"y\":[0,0]},\"selected\":{\"id\":\"bb469675-dc48-4622-bc70-57687958e9f5\",\"type\":\"Selection\"},\"selection_policy\":{\"id\":\"cd8ad671-cf92-4dbd-aadb-50deeeaddb17\",\"type\":\"UnionRenderers\"}},\"id\":\"e03f492c-7121-44a8-abf7-16303a82820a\",\"type\":\"ColumnDataSource\"},{\"attributes\":{\"end\":{\"id\":\"7b4652cc-0140-4a1c-9d83-f2e9ba3f74c5\",\"type\":\"NormalHead\"},\"line_color\":{\"value\":\"blue\"},\"line_width\":{\"value\":3},\"plot\":{\"id\":\"1f5b5b58-7cd2-47df-90d3-f86460bd5a99\",\"subtype\":\"Figure\",\"type\":\"Plot\"},\"source\":null,\"start\":null,\"x_end\":{\"value\":1},\"x_start\":{\"value\":0},\"y_end\":{\"value\":2},\"y_start\":{\"value\":0}},\"id\":\"b35bccd4-d431-4720-aca5-007cc20bfc68\",\"type\":\"Arrow\"},{\"attributes\":{\"line_alpha\":0.1,\"line_color\":\"#1f77b4\",\"line_width\":1.5,\"x\":{\"field\":\"x\"},\"y\":{\"field\":\"y\"}},\"id\":\"13a669e7-e415-4733-8904-52486ed38a98\",\"type\":\"Line\"},{\"attributes\":{\"callback\":null,\"data\":{\"x\":[0,0],\"y\":[-10,10]},\"selected\":{\"id\":\"a4be9974-3539-4014-84b4-12f3cc80f720\",\"type\":\"Selection\"},\"selection_policy\":{\"id\":\"c9783bd8-de3f-415e-96e0-b86b1eb3fd9c\",\"type\":\"UnionRenderers\"}},\"id\":\"1e2d8af2-2532-4c97-8a6a-c0ecea1347e9\",\"type\":\"ColumnDataSource\"},{\"attributes\":{\"dimension\":1,\"plot\":{\"id\":\"1f5b5b58-7cd2-47df-90d3-f86460bd5a99\",\"subtype\":\"Figure\",\"type\":\"Plot\"},\"ticker\":{\"id\":\"23f9781d-a938-4bd1-9d30-b2821dbf2bba\",\"type\":\"BasicTicker\"}},\"id\":\"754c3b06-efc7-43d2-a366-ac021905b1d0\",\"type\":\"Grid\"},{\"attributes\":{\"formatter\":{\"id\":\"36246e2d-6b30-4dbe-b102-f4971a842956\",\"type\":\"BasicTickFormatter\"},\"plot\":{\"id\":\"1f5b5b58-7cd2-47df-90d3-f86460bd5a99\",\"subtype\":\"Figure\",\"type\":\"Plot\"},\"ticker\":{\"id\":\"23f9781d-a938-4bd1-9d30-b2821dbf2bba\",\"type\":\"BasicTicker\"}},\"id\":\"aaf2fd00-09c5-4059-8b09-0131a1d06d3e\",\"type\":\"LinearAxis\"},{\"attributes\":{\"fill_alpha\":{\"value\":0.2},\"fill_color\":{\"value\":\"blue\"},\"line_alpha\":{\"value\":0.2},\"line_color\":{\"value\":\"blue\"},\"plot\":null,\"size\":10},\"id\":\"0169abfd-7081-4561-a7d0-2cb08c4762d6\",\"type\":\"NormalHead\"},{\"attributes\":{},\"id\":\"36246e2d-6b30-4dbe-b102-f4971a842956\",\"type\":\"BasicTickFormatter\"},{\"attributes\":{\"callback\":null,\"end\":7.0,\"start\":-7.0},\"id\":\"8c2a0ee9-19b4-47c2-974e-33d2a151c691\",\"type\":\"Range1d\"},{\"attributes\":{},\"id\":\"cd8ad671-cf92-4dbd-aadb-50deeeaddb17\",\"type\":\"UnionRenderers\"},{\"attributes\":{\"end\":{\"id\":\"b0141ff6-5bfa-46cb-8712-2976b8d3213a\",\"type\":\"NormalHead\"},\"line_alpha\":{\"value\":0.2},\"line_color\":{\"value\":\"blue\"},\"line_width\":{\"value\":3},\"plot\":{\"id\":\"1f5b5b58-7cd2-47df-90d3-f86460bd5a99\",\"subtype\":\"Figure\",\"type\":\"Plot\"},\"source\":null,\"start\":null,\"x_end\":{\"value\":-1.2},\"x_start\":{\"value\":0},\"y_end\":{\"value\":-2.4},\"y_start\":{\"value\":0}},\"id\":\"55731c39-cdbe-4f32-83fa-935ef98e90c2\",\"type\":\"Arrow\"},{\"attributes\":{\"below\":[{\"id\":\"1115be6d-fcac-41ab-ba0b-3d862e353fe8\",\"type\":\"LinearAxis\"}],\"left\":[{\"id\":\"aaf2fd00-09c5-4059-8b09-0131a1d06d3e\",\"type\":\"LinearAxis\"}],\"plot_height\":400,\"plot_width\":400,\"renderers\":[{\"id\":\"1115be6d-fcac-41ab-ba0b-3d862e353fe8\",\"type\":\"LinearAxis\"},{\"id\":\"6091b075-ca3e-44fa-8fae-39fab6f9a551\",\"type\":\"Grid\"},{\"id\":\"aaf2fd00-09c5-4059-8b09-0131a1d06d3e\",\"type\":\"LinearAxis\"},{\"id\":\"754c3b06-efc7-43d2-a366-ac021905b1d0\",\"type\":\"Grid\"},{\"id\":\"e7ba7303-831a-43f7-a592-3f53d7bb6dd7\",\"type\":\"GlyphRenderer\"},{\"id\":\"37e69331-2e61-46c7-8e9f-e30e68e463d9\",\"type\":\"GlyphRenderer\"},{\"id\":\"b35bccd4-d431-4720-aca5-007cc20bfc68\",\"type\":\"Arrow\"},{\"id\":\"f0fb24c8-c741-430f-8b2c-94cd19653c2e\",\"type\":\"Arrow\"},{\"id\":\"55731c39-cdbe-4f32-83fa-935ef98e90c2\",\"type\":\"Arrow\"},{\"id\":\"faffe034-6fca-4880-b30c-e247532efd62\",\"type\":\"Arrow\"},{\"id\":\"64c74bc8-02a4-43dc-9016-d22e1a2993d4\",\"type\":\"Arrow\"},{\"id\":\"85f51b9f-fdce-4d5f-aff7-637bd64eaf44\",\"type\":\"Arrow\"}],\"title\":{\"id\":\"3b5b9b9c-a5b4-4ce3-be67-4f30aaafb34e\",\"type\":\"Title\"},\"toolbar\":{\"id\":\"65f284c3-e53d-4c7f-b2a5-fe81049faea4\",\"type\":\"Toolbar\"},\"x_range\":{\"id\":\"5fac019e-770e-4856-919f-415e7e4f7168\",\"type\":\"Range1d\"},\"x_scale\":{\"id\":\"2149f15c-3d43-426f-8eaa-e52586e5190f\",\"type\":\"LinearScale\"},\"y_range\":{\"id\":\"8c2a0ee9-19b4-47c2-974e-33d2a151c691\",\"type\":\"Range1d\"},\"y_scale\":{\"id\":\"a338d54e-3142-4271-8838-f28116f2fa36\",\"type\":\"LinearScale\"}},\"id\":\"1f5b5b58-7cd2-47df-90d3-f86460bd5a99\",\"subtype\":\"Figure\",\"type\":\"Plot\"},{\"attributes\":{\"end\":{\"id\":\"0169abfd-7081-4561-a7d0-2cb08c4762d6\",\"type\":\"NormalHead\"},\"line_alpha\":{\"value\":0.2},\"line_color\":{\"value\":\"blue\"},\"line_width\":{\"value\":3},\"plot\":{\"id\":\"1f5b5b58-7cd2-47df-90d3-f86460bd5a99\",\"subtype\":\"Figure\",\"type\":\"Plot\"},\"source\":null,\"start\":null,\"x_end\":{\"value\":-0.3},\"x_start\":{\"value\":0},\"y_end\":{\"value\":-0.6},\"y_start\":{\"value\":0}},\"id\":\"faffe034-6fca-4880-b30c-e247532efd62\",\"type\":\"Arrow\"},{\"attributes\":{\"formatter\":{\"id\":\"55bd5bc4-6042-4e7c-b036-f565cdd22d36\",\"type\":\"BasicTickFormatter\"},\"plot\":{\"id\":\"1f5b5b58-7cd2-47df-90d3-f86460bd5a99\",\"subtype\":\"Figure\",\"type\":\"Plot\"},\"ticker\":{\"id\":\"09152161-3f8e-49a7-af64-1844bdefd5d9\",\"type\":\"BasicTicker\"}},\"id\":\"1115be6d-fcac-41ab-ba0b-3d862e353fe8\",\"type\":\"LinearAxis\"},{\"attributes\":{\"fill_alpha\":{\"value\":0.2},\"fill_color\":{\"value\":\"blue\"},\"line_alpha\":{\"value\":0.2},\"line_color\":{\"value\":\"blue\"},\"plot\":null,\"size\":10},\"id\":\"3e54a13c-1f1d-4849-b39c-c5cfd244b104\",\"type\":\"NormalHead\"},{\"attributes\":{\"fill_color\":{\"value\":\"blue\"},\"line_color\":{\"value\":\"blue\"},\"plot\":null,\"size\":10},\"id\":\"7b4652cc-0140-4a1c-9d83-f2e9ba3f74c5\",\"type\":\"NormalHead\"},{\"attributes\":{},\"id\":\"a338d54e-3142-4271-8838-f28116f2fa36\",\"type\":\"LinearScale\"},{\"attributes\":{},\"id\":\"23f9781d-a938-4bd1-9d30-b2821dbf2bba\",\"type\":\"BasicTicker\"},{\"attributes\":{\"plot\":{\"id\":\"1f5b5b58-7cd2-47df-90d3-f86460bd5a99\",\"subtype\":\"Figure\",\"type\":\"Plot\"},\"ticker\":{\"id\":\"09152161-3f8e-49a7-af64-1844bdefd5d9\",\"type\":\"BasicTicker\"}},\"id\":\"6091b075-ca3e-44fa-8fae-39fab6f9a551\",\"type\":\"Grid\"},{\"attributes\":{\"end\":{\"id\":\"5c52a82e-8ca7-4367-adf9-8a20a5afd1ae\",\"type\":\"NormalHead\"},\"line_alpha\":{\"value\":0.2},\"line_color\":{\"value\":\"blue\"},\"line_width\":{\"value\":3},\"plot\":{\"id\":\"1f5b5b58-7cd2-47df-90d3-f86460bd5a99\",\"subtype\":\"Figure\",\"type\":\"Plot\"},\"source\":null,\"start\":null,\"x_end\":{\"value\":3.57},\"x_start\":{\"value\":0},\"y_end\":{\"value\":7.14},\"y_start\":{\"value\":0}},\"id\":\"85f51b9f-fdce-4d5f-aff7-637bd64eaf44\",\"type\":\"Arrow\"},{\"attributes\":{\"active_drag\":\"auto\",\"active_inspect\":\"auto\",\"active_multi\":null,\"active_scroll\":\"auto\",\"active_tap\":\"auto\",\"tools\":[{\"id\":\"98242be0-8b7d-4008-b7b1-0c432c05d194\",\"type\":\"WheelZoomTool\"},{\"id\":\"f02f218d-6c00-4143-8d6f-4e3902a06e5d\",\"type\":\"PanTool\"},{\"id\":\"637bcb16-6ffa-426d-947a-3a1604b07ea7\",\"type\":\"ResetTool\"}]},\"id\":\"65f284c3-e53d-4c7f-b2a5-fe81049faea4\",\"type\":\"Toolbar\"}],\"root_ids\":[\"1f5b5b58-7cd2-47df-90d3-f86460bd5a99\"]},\"title\":\"Bokeh Application\",\"version\":\"0.13.0\"}};\n",
       "  var render_items = [{\"docid\":\"467b6ebd-eb7f-485e-8440-615b01568989\",\"roots\":{\"1f5b5b58-7cd2-47df-90d3-f86460bd5a99\":\"cdbc2207-f18a-41b6-b7b8-b21def4d1072\"}}];\n",
       "  root.Bokeh.embed.embed_items_notebook(docs_json, render_items);\n",
       "\n",
       "  }\n",
       "  if (root.Bokeh !== undefined) {\n",
       "    embed_document(root);\n",
       "  } else {\n",
       "    var attempts = 0;\n",
       "    var timer = setInterval(function(root) {\n",
       "      if (root.Bokeh !== undefined) {\n",
       "        embed_document(root);\n",
       "        clearInterval(timer);\n",
       "      }\n",
       "      attempts++;\n",
       "      if (attempts > 100) {\n",
       "        console.log(\"Bokeh: ERROR: Unable to run BokehJS code because BokehJS library is missing\")\n",
       "        clearInterval(timer);\n",
       "      }\n",
       "    }, 10, root)\n",
       "  }\n",
       "})(window);"
      ],
      "application/vnd.bokehjs_exec.v0+json": ""
     },
     "metadata": {
      "application/vnd.bokehjs_exec.v0+json": {
       "id": "1f5b5b58-7cd2-47df-90d3-f86460bd5a99"
      }
     },
     "output_type": "display_data"
    }
   ],
   "source": [
    "for scalar in [-1.2,-.3,-2.3,3.57]:\n",
    "    new_vec = scalar*vec1\n",
    "    plot.vector(new_vec,add_color=\"blue\",alpha=.2)\n",
    "plot.show()"
   ]
  },
  {
   "cell_type": "markdown",
   "metadata": {},
   "source": [
    "# Vector Addition\n",
    "\n",
    "Given $\\vec{a},~\\vec{b} \\in \\Re^2$\n",
    "\n",
    "$$\\vec{a} = \\begin{bmatrix} a_1 \\\\ a_2 \\end{bmatrix}$$\n",
    "$$\\vec{b} = \\begin{bmatrix} b_1 \\\\ b_2 \\end{bmatrix}$$\n",
    "\n",
    "then \n",
    "\\begin{equation}\n",
    "\\vec{a} + \\vec{b} = \\begin{bmatrix} a_1+b_1 \\\\ a_2+b_2 \\end{bmatrix}\n",
    "\\end{equation}"
   ]
  },
  {
   "cell_type": "code",
   "execution_count": 32,
   "metadata": {},
   "outputs": [
    {
     "data": {
      "text/plain": [
       "array([3, 3])"
      ]
     },
     "execution_count": 32,
     "metadata": {},
     "output_type": "execute_result"
    }
   ],
   "source": [
    "a = np.array([2,1])\n",
    "b = np.array([1,2])\n",
    "c = a + b\n",
    "c"
   ]
  },
  {
   "cell_type": "markdown",
   "metadata": {},
   "source": [
    "$$\\vec{a} = \\begin{bmatrix} 2 \\\\ 1 \\end{bmatrix}$$\n",
    "$$\\vec{b} = \\begin{bmatrix} 1 \\\\ 2 \\end{bmatrix}$$\n",
    "\n",
    "then \n",
    "\\begin{equation}\n",
    "\\vec{a} + \\vec{b} = \\begin{bmatrix} 1+2 \\\\ 2+1 \\end{bmatrix} = \\begin{bmatrix} 3 \\\\ 3 \\end{bmatrix}\n",
    "\\end{equation}"
   ]
  },
  {
   "cell_type": "code",
   "execution_count": 33,
   "metadata": {},
   "outputs": [
    {
     "data": {
      "text/html": [
       "\n",
       "\n",
       "\n",
       "\n",
       "\n",
       "\n",
       "  <div class=\"bk-root\" id=\"ebbe8cfa-3bce-412a-ac5c-f211a972aaf7\"></div>\n"
      ]
     },
     "metadata": {},
     "output_type": "display_data"
    },
    {
     "data": {
      "application/javascript": [
       "(function(root) {\n",
       "  function embed_document(root) {\n",
       "    \n",
       "  var docs_json = {\"a223834f-5947-4b7c-8835-f72f0c2447bf\":{\"roots\":{\"references\":[{\"attributes\":{\"fill_color\":{\"value\":\"red\"},\"line_color\":{\"value\":\"red\"},\"plot\":null,\"size\":10},\"id\":\"cf9a03af-a703-48e1-a5ea-0cb8cf5bba34\",\"type\":\"NormalHead\"},{\"attributes\":{\"plot\":{\"id\":\"7747ef4b-b932-4daa-a0c3-8c32571c5cb4\",\"subtype\":\"Figure\",\"type\":\"Plot\"},\"ticker\":{\"id\":\"f196618d-fc8e-429e-a84b-3a6c38171904\",\"type\":\"BasicTicker\"}},\"id\":\"25ef8ab4-f97b-4844-9e18-29e12247668f\",\"type\":\"Grid\"},{\"attributes\":{\"line_width\":1.5,\"x\":{\"field\":\"x\"},\"y\":{\"field\":\"y\"}},\"id\":\"ed3ee332-2699-47c4-976b-e689ecb10fd5\",\"type\":\"Line\"},{\"attributes\":{\"line_alpha\":0.1,\"line_color\":\"#1f77b4\",\"line_width\":1.5,\"x\":{\"field\":\"x\"},\"y\":{\"field\":\"y\"}},\"id\":\"16ccce39-9cc4-486f-ba7b-e4c1f83258ef\",\"type\":\"Line\"},{\"attributes\":{\"end\":{\"id\":\"cf9a03af-a703-48e1-a5ea-0cb8cf5bba34\",\"type\":\"NormalHead\"},\"line_color\":{\"value\":\"red\"},\"line_width\":{\"value\":3},\"plot\":{\"id\":\"7747ef4b-b932-4daa-a0c3-8c32571c5cb4\",\"subtype\":\"Figure\",\"type\":\"Plot\"},\"source\":null,\"start\":null,\"x_end\":{\"value\":1},\"x_start\":{\"value\":0},\"y_end\":{\"value\":2},\"y_start\":{\"value\":0}},\"id\":\"0f395ed5-9f2f-489b-8764-981e6270e07e\",\"type\":\"Arrow\"},{\"attributes\":{\"dimension\":1,\"plot\":{\"id\":\"7747ef4b-b932-4daa-a0c3-8c32571c5cb4\",\"subtype\":\"Figure\",\"type\":\"Plot\"},\"ticker\":{\"id\":\"fa2c25cb-7c26-49db-b548-c1ec85dd52b8\",\"type\":\"BasicTicker\"}},\"id\":\"c72e21de-caf0-4314-9668-7026e42345d3\",\"type\":\"Grid\"},{\"attributes\":{\"source\":{\"id\":\"16de2c54-6143-4269-acc5-036795f1805a\",\"type\":\"ColumnDataSource\"}},\"id\":\"64dd89d2-e9c1-458f-925b-2a048800ce13\",\"type\":\"CDSView\"},{\"attributes\":{},\"id\":\"aa4aaa16-67e1-4a4e-928d-c4768d1f8309\",\"type\":\"WheelZoomTool\"},{\"attributes\":{},\"id\":\"54fcddb6-be7b-49c7-9096-9e203dff3eec\",\"type\":\"ResetTool\"},{\"attributes\":{},\"id\":\"df371c27-e236-4de2-b292-8e32234b5818\",\"type\":\"PanTool\"},{\"attributes\":{\"line_alpha\":0.1,\"line_color\":\"#1f77b4\",\"line_width\":1.5,\"x\":{\"field\":\"x\"},\"y\":{\"field\":\"y\"}},\"id\":\"ce9c2539-7ead-47cc-b988-e71889a8c3ea\",\"type\":\"Line\"},{\"attributes\":{\"fill_color\":{\"value\":\"green\"},\"line_color\":{\"value\":\"green\"},\"plot\":null,\"size\":10},\"id\":\"af010673-5d2e-4a82-be5e-003f55942720\",\"type\":\"NormalHead\"},{\"attributes\":{\"end\":{\"id\":\"aa548483-d186-4332-b070-822cedad4b6e\",\"type\":\"NormalHead\"},\"line_color\":{\"value\":\"blue\"},\"line_width\":{\"value\":3},\"plot\":{\"id\":\"7747ef4b-b932-4daa-a0c3-8c32571c5cb4\",\"subtype\":\"Figure\",\"type\":\"Plot\"},\"source\":null,\"start\":null,\"x_end\":{\"value\":2},\"x_start\":{\"value\":0},\"y_end\":{\"value\":1},\"y_start\":{\"value\":0}},\"id\":\"ff5dcf6a-1897-433a-b23d-129ed0cde464\",\"type\":\"Arrow\"},{\"attributes\":{\"end\":{\"id\":\"af010673-5d2e-4a82-be5e-003f55942720\",\"type\":\"NormalHead\"},\"line_color\":{\"value\":\"green\"},\"line_width\":{\"value\":3},\"plot\":{\"id\":\"7747ef4b-b932-4daa-a0c3-8c32571c5cb4\",\"subtype\":\"Figure\",\"type\":\"Plot\"},\"source\":null,\"start\":null,\"x_end\":{\"value\":3},\"x_start\":{\"value\":0},\"y_end\":{\"value\":3},\"y_start\":{\"value\":0}},\"id\":\"51e2a415-a040-410c-90f9-367ebbc4af7a\",\"type\":\"Arrow\"},{\"attributes\":{},\"id\":\"c5a1a653-1975-4708-895c-bdaec404e44d\",\"type\":\"BasicTickFormatter\"},{\"attributes\":{\"source\":{\"id\":\"cb09f646-ed55-4cd9-87d5-1c8a3bf964d2\",\"type\":\"ColumnDataSource\"}},\"id\":\"24a00ee3-e7b4-43ed-a796-b4ad52c4abae\",\"type\":\"CDSView\"},{\"attributes\":{},\"id\":\"5c460026-255d-4942-a5cf-70ecf102b932\",\"type\":\"Selection\"},{\"attributes\":{},\"id\":\"202c74f4-2d67-4f71-870d-08f3235ab13f\",\"type\":\"Selection\"},{\"attributes\":{},\"id\":\"d382528d-1530-429e-9621-f68d0daa0675\",\"type\":\"UnionRenderers\"},{\"attributes\":{},\"id\":\"65139b5e-f33b-4723-876c-be7d24aac314\",\"type\":\"BasicTickFormatter\"},{\"attributes\":{},\"id\":\"fa2c25cb-7c26-49db-b548-c1ec85dd52b8\",\"type\":\"BasicTicker\"},{\"attributes\":{\"callback\":null,\"data\":{\"x\":[-5,5],\"y\":[0,0]},\"selected\":{\"id\":\"5c460026-255d-4942-a5cf-70ecf102b932\",\"type\":\"Selection\"},\"selection_policy\":{\"id\":\"15b29737-8e9e-47f5-a545-e31c5c72501a\",\"type\":\"UnionRenderers\"}},\"id\":\"16de2c54-6143-4269-acc5-036795f1805a\",\"type\":\"ColumnDataSource\"},{\"attributes\":{\"plot\":null,\"text\":\"\"},\"id\":\"3f7dbfa4-62cc-4ae2-beca-bd3f5fc496ad\",\"type\":\"Title\"},{\"attributes\":{\"fill_color\":{\"value\":\"blue\"},\"line_color\":{\"value\":\"blue\"},\"plot\":null,\"size\":10},\"id\":\"aa548483-d186-4332-b070-822cedad4b6e\",\"type\":\"NormalHead\"},{\"attributes\":{\"below\":[{\"id\":\"2eeb061c-5d61-442e-8827-dff15c13f786\",\"type\":\"LinearAxis\"}],\"left\":[{\"id\":\"94287a53-f7a7-4376-9b0c-99408b684cb9\",\"type\":\"LinearAxis\"}],\"plot_height\":400,\"plot_width\":400,\"renderers\":[{\"id\":\"2eeb061c-5d61-442e-8827-dff15c13f786\",\"type\":\"LinearAxis\"},{\"id\":\"25ef8ab4-f97b-4844-9e18-29e12247668f\",\"type\":\"Grid\"},{\"id\":\"94287a53-f7a7-4376-9b0c-99408b684cb9\",\"type\":\"LinearAxis\"},{\"id\":\"c72e21de-caf0-4314-9668-7026e42345d3\",\"type\":\"Grid\"},{\"id\":\"7c0bb74d-0bb1-464e-90f9-95e8257923bd\",\"type\":\"GlyphRenderer\"},{\"id\":\"2505b2ba-a916-4fc9-8d68-b57fb1816ba4\",\"type\":\"GlyphRenderer\"},{\"id\":\"ff5dcf6a-1897-433a-b23d-129ed0cde464\",\"type\":\"Arrow\"},{\"id\":\"0f395ed5-9f2f-489b-8764-981e6270e07e\",\"type\":\"Arrow\"},{\"id\":\"51e2a415-a040-410c-90f9-367ebbc4af7a\",\"type\":\"Arrow\"}],\"title\":{\"id\":\"3f7dbfa4-62cc-4ae2-beca-bd3f5fc496ad\",\"type\":\"Title\"},\"toolbar\":{\"id\":\"6c23e210-b70a-4e88-81cd-f0cdcf35e250\",\"type\":\"Toolbar\"},\"x_range\":{\"id\":\"525cd58d-8fbb-47e6-af75-a643852c019d\",\"type\":\"Range1d\"},\"x_scale\":{\"id\":\"5ff6d6fe-efbc-4ad6-9c66-b0aa8a42b693\",\"type\":\"LinearScale\"},\"y_range\":{\"id\":\"fc989c82-1b4f-42a1-9be5-5eebbab7dc64\",\"type\":\"Range1d\"},\"y_scale\":{\"id\":\"b34208e9-0c60-4a4a-9200-793996a6edc3\",\"type\":\"LinearScale\"}},\"id\":\"7747ef4b-b932-4daa-a0c3-8c32571c5cb4\",\"subtype\":\"Figure\",\"type\":\"Plot\"},{\"attributes\":{\"data_source\":{\"id\":\"cb09f646-ed55-4cd9-87d5-1c8a3bf964d2\",\"type\":\"ColumnDataSource\"},\"glyph\":{\"id\":\"ed3ee332-2699-47c4-976b-e689ecb10fd5\",\"type\":\"Line\"},\"hover_glyph\":null,\"muted_glyph\":null,\"nonselection_glyph\":{\"id\":\"ce9c2539-7ead-47cc-b988-e71889a8c3ea\",\"type\":\"Line\"},\"selection_glyph\":null,\"view\":{\"id\":\"24a00ee3-e7b4-43ed-a796-b4ad52c4abae\",\"type\":\"CDSView\"}},\"id\":\"7c0bb74d-0bb1-464e-90f9-95e8257923bd\",\"type\":\"GlyphRenderer\"},{\"attributes\":{\"callback\":null,\"end\":3.5,\"start\":-3.5},\"id\":\"525cd58d-8fbb-47e6-af75-a643852c019d\",\"type\":\"Range1d\"},{\"attributes\":{},\"id\":\"15b29737-8e9e-47f5-a545-e31c5c72501a\",\"type\":\"UnionRenderers\"},{\"attributes\":{\"formatter\":{\"id\":\"65139b5e-f33b-4723-876c-be7d24aac314\",\"type\":\"BasicTickFormatter\"},\"plot\":{\"id\":\"7747ef4b-b932-4daa-a0c3-8c32571c5cb4\",\"subtype\":\"Figure\",\"type\":\"Plot\"},\"ticker\":{\"id\":\"f196618d-fc8e-429e-a84b-3a6c38171904\",\"type\":\"BasicTicker\"}},\"id\":\"2eeb061c-5d61-442e-8827-dff15c13f786\",\"type\":\"LinearAxis\"},{\"attributes\":{\"callback\":null,\"data\":{\"x\":[0,0],\"y\":[-5,5]},\"selected\":{\"id\":\"202c74f4-2d67-4f71-870d-08f3235ab13f\",\"type\":\"Selection\"},\"selection_policy\":{\"id\":\"d382528d-1530-429e-9621-f68d0daa0675\",\"type\":\"UnionRenderers\"}},\"id\":\"cb09f646-ed55-4cd9-87d5-1c8a3bf964d2\",\"type\":\"ColumnDataSource\"},{\"attributes\":{\"formatter\":{\"id\":\"c5a1a653-1975-4708-895c-bdaec404e44d\",\"type\":\"BasicTickFormatter\"},\"plot\":{\"id\":\"7747ef4b-b932-4daa-a0c3-8c32571c5cb4\",\"subtype\":\"Figure\",\"type\":\"Plot\"},\"ticker\":{\"id\":\"fa2c25cb-7c26-49db-b548-c1ec85dd52b8\",\"type\":\"BasicTicker\"}},\"id\":\"94287a53-f7a7-4376-9b0c-99408b684cb9\",\"type\":\"LinearAxis\"},{\"attributes\":{},\"id\":\"5ff6d6fe-efbc-4ad6-9c66-b0aa8a42b693\",\"type\":\"LinearScale\"},{\"attributes\":{\"callback\":null,\"end\":3.5,\"start\":-3.5},\"id\":\"fc989c82-1b4f-42a1-9be5-5eebbab7dc64\",\"type\":\"Range1d\"},{\"attributes\":{\"line_width\":1.5,\"x\":{\"field\":\"x\"},\"y\":{\"field\":\"y\"}},\"id\":\"e99315bb-3aca-404b-ad6f-be82e5b0ab30\",\"type\":\"Line\"},{\"attributes\":{\"data_source\":{\"id\":\"16de2c54-6143-4269-acc5-036795f1805a\",\"type\":\"ColumnDataSource\"},\"glyph\":{\"id\":\"e99315bb-3aca-404b-ad6f-be82e5b0ab30\",\"type\":\"Line\"},\"hover_glyph\":null,\"muted_glyph\":null,\"nonselection_glyph\":{\"id\":\"16ccce39-9cc4-486f-ba7b-e4c1f83258ef\",\"type\":\"Line\"},\"selection_glyph\":null,\"view\":{\"id\":\"64dd89d2-e9c1-458f-925b-2a048800ce13\",\"type\":\"CDSView\"}},\"id\":\"2505b2ba-a916-4fc9-8d68-b57fb1816ba4\",\"type\":\"GlyphRenderer\"},{\"attributes\":{},\"id\":\"b34208e9-0c60-4a4a-9200-793996a6edc3\",\"type\":\"LinearScale\"},{\"attributes\":{\"active_drag\":\"auto\",\"active_inspect\":\"auto\",\"active_multi\":null,\"active_scroll\":\"auto\",\"active_tap\":\"auto\",\"tools\":[{\"id\":\"aa4aaa16-67e1-4a4e-928d-c4768d1f8309\",\"type\":\"WheelZoomTool\"},{\"id\":\"df371c27-e236-4de2-b292-8e32234b5818\",\"type\":\"PanTool\"},{\"id\":\"54fcddb6-be7b-49c7-9096-9e203dff3eec\",\"type\":\"ResetTool\"}]},\"id\":\"6c23e210-b70a-4e88-81cd-f0cdcf35e250\",\"type\":\"Toolbar\"},{\"attributes\":{},\"id\":\"f196618d-fc8e-429e-a84b-3a6c38171904\",\"type\":\"BasicTicker\"}],\"root_ids\":[\"7747ef4b-b932-4daa-a0c3-8c32571c5cb4\"]},\"title\":\"Bokeh Application\",\"version\":\"0.13.0\"}};\n",
       "  var render_items = [{\"docid\":\"a223834f-5947-4b7c-8835-f72f0c2447bf\",\"roots\":{\"7747ef4b-b932-4daa-a0c3-8c32571c5cb4\":\"ebbe8cfa-3bce-412a-ac5c-f211a972aaf7\"}}];\n",
       "  root.Bokeh.embed.embed_items_notebook(docs_json, render_items);\n",
       "\n",
       "  }\n",
       "  if (root.Bokeh !== undefined) {\n",
       "    embed_document(root);\n",
       "  } else {\n",
       "    var attempts = 0;\n",
       "    var timer = setInterval(function(root) {\n",
       "      if (root.Bokeh !== undefined) {\n",
       "        embed_document(root);\n",
       "        clearInterval(timer);\n",
       "      }\n",
       "      attempts++;\n",
       "      if (attempts > 100) {\n",
       "        console.log(\"Bokeh: ERROR: Unable to run BokehJS code because BokehJS library is missing\")\n",
       "        clearInterval(timer);\n",
       "      }\n",
       "    }, 10, root)\n",
       "  }\n",
       "})(window);"
      ],
      "application/vnd.bokehjs_exec.v0+json": ""
     },
     "metadata": {
      "application/vnd.bokehjs_exec.v0+json": {
       "id": "7747ef4b-b932-4daa-a0c3-8c32571c5cb4"
      }
     },
     "output_type": "display_data"
    }
   ],
   "source": [
    "plot.clear()\n",
    "plot.graph()\n",
    "plot.vector(a)\n",
    "plot.vector(b)\n",
    "plot.vector(c)\n",
    "plot.show()"
   ]
  },
  {
   "cell_type": "markdown",
   "metadata": {},
   "source": [
    "What is really going on here when we add two vectors?"
   ]
  },
  {
   "cell_type": "code",
   "execution_count": 13,
   "metadata": {},
   "outputs": [
    {
     "data": {
      "text/html": [
       "\n",
       "\n",
       "\n",
       "\n",
       "\n",
       "\n",
       "  <div class=\"bk-root\" id=\"437fd02f-b924-4a11-ba31-5811f9570ac4\"></div>\n"
      ]
     },
     "metadata": {},
     "output_type": "display_data"
    },
    {
     "data": {
      "application/javascript": [
       "(function(root) {\n",
       "  function embed_document(root) {\n",
       "    \n",
       "  var docs_json = {\"93ff6916-0b3a-4ef9-8890-56da1e0314a8\":{\"roots\":{\"references\":[{\"attributes\":{\"line_alpha\":0.1,\"line_color\":\"#1f77b4\",\"line_width\":1.5,\"x\":{\"field\":\"x\"},\"y\":{\"field\":\"y\"}},\"id\":\"ea3dc1f0-99b4-4b45-98b1-a4fe53aa1ba0\",\"type\":\"Line\"},{\"attributes\":{\"data_source\":{\"id\":\"3452bab4-4702-47a5-8b77-598217ee76cf\",\"type\":\"ColumnDataSource\"},\"glyph\":{\"id\":\"82260081-223e-4687-912f-a466bb970de1\",\"type\":\"Line\"},\"hover_glyph\":null,\"muted_glyph\":null,\"nonselection_glyph\":{\"id\":\"ea3dc1f0-99b4-4b45-98b1-a4fe53aa1ba0\",\"type\":\"Line\"},\"selection_glyph\":null,\"view\":{\"id\":\"c28aff93-2657-429c-9d56-44667678489f\",\"type\":\"CDSView\"}},\"id\":\"74bb110d-a67b-4c11-b522-e75c4b7789b5\",\"type\":\"GlyphRenderer\"},{\"attributes\":{},\"id\":\"08f69390-36b8-4da3-bb7c-94cd95dc8518\",\"type\":\"BasicTicker\"},{\"attributes\":{\"source\":{\"id\":\"3452bab4-4702-47a5-8b77-598217ee76cf\",\"type\":\"ColumnDataSource\"}},\"id\":\"c28aff93-2657-429c-9d56-44667678489f\",\"type\":\"CDSView\"},{\"attributes\":{},\"id\":\"7a684163-a07c-42d8-92cc-fef509d84372\",\"type\":\"BasicTickFormatter\"},{\"attributes\":{\"end\":{\"id\":\"13a01ed9-1947-4e48-b8da-8e53c89b2525\",\"type\":\"NormalHead\"},\"line_color\":{\"value\":\"blue\"},\"line_width\":{\"value\":3},\"plot\":{\"id\":\"c1033bb1-bc82-4dc1-9abd-9049a56ce558\",\"subtype\":\"Figure\",\"type\":\"Plot\"},\"source\":null,\"start\":null,\"x_end\":{\"value\":2},\"x_start\":{\"value\":0},\"y_end\":{\"value\":1},\"y_start\":{\"value\":0}},\"id\":\"dd785bdd-40b4-4a98-ae32-d8be82bbd392\",\"type\":\"Arrow\"},{\"attributes\":{\"fill_color\":{\"value\":\"red\"},\"line_color\":{\"value\":\"red\"},\"plot\":null,\"size\":10},\"id\":\"6768acd4-c03c-4b7f-b944-7bcda585c9cc\",\"type\":\"NormalHead\"},{\"attributes\":{\"callback\":null,\"end\":5.6,\"start\":-5.6},\"id\":\"be79fa40-2a66-4188-93e5-0e015c2d6379\",\"type\":\"Range1d\"},{\"attributes\":{\"fill_color\":{\"value\":\"green\"},\"line_color\":{\"value\":\"green\"},\"plot\":null,\"size\":10},\"id\":\"d1350ffe-84a1-492c-bf83-cc8fbcadf21e\",\"type\":\"NormalHead\"},{\"attributes\":{\"end\":{\"id\":\"6768acd4-c03c-4b7f-b944-7bcda585c9cc\",\"type\":\"NormalHead\"},\"line_color\":{\"value\":\"red\"},\"line_width\":{\"value\":3},\"plot\":{\"id\":\"c1033bb1-bc82-4dc1-9abd-9049a56ce558\",\"subtype\":\"Figure\",\"type\":\"Plot\"},\"source\":null,\"start\":null,\"x_end\":{\"value\":1},\"x_start\":{\"value\":0},\"y_end\":{\"value\":2},\"y_start\":{\"value\":0}},\"id\":\"28937e19-0f26-4382-a14a-78b8e680f287\",\"type\":\"Arrow\"},{\"attributes\":{\"fill_alpha\":{\"value\":0.3},\"fill_color\":{\"value\":\"red\"},\"line_alpha\":{\"value\":0.3},\"line_color\":{\"value\":\"red\"},\"plot\":null,\"size\":10},\"id\":\"a2a33b09-a8fe-4208-8338-dbea4d559196\",\"type\":\"NormalHead\"},{\"attributes\":{\"formatter\":{\"id\":\"7a684163-a07c-42d8-92cc-fef509d84372\",\"type\":\"BasicTickFormatter\"},\"plot\":{\"id\":\"c1033bb1-bc82-4dc1-9abd-9049a56ce558\",\"subtype\":\"Figure\",\"type\":\"Plot\"},\"ticker\":{\"id\":\"92bb8f15-29b6-4ab1-a338-501daaa64349\",\"type\":\"BasicTicker\"}},\"id\":\"f4935ca0-7b0b-4f72-8929-c02d202d2680\",\"type\":\"LinearAxis\"},{\"attributes\":{\"end\":{\"id\":\"d1350ffe-84a1-492c-bf83-cc8fbcadf21e\",\"type\":\"NormalHead\"},\"line_color\":{\"value\":\"green\"},\"line_width\":{\"value\":3},\"plot\":{\"id\":\"c1033bb1-bc82-4dc1-9abd-9049a56ce558\",\"subtype\":\"Figure\",\"type\":\"Plot\"},\"source\":null,\"start\":null,\"x_end\":{\"value\":3},\"x_start\":{\"value\":0},\"y_end\":{\"value\":3},\"y_start\":{\"value\":0}},\"id\":\"c1c84fc9-5774-4529-bfa7-6a1c8aee6d1e\",\"type\":\"Arrow\"},{\"attributes\":{\"below\":[{\"id\":\"f9ee1242-4d89-4ac5-a720-140e44f3ba21\",\"type\":\"LinearAxis\"}],\"left\":[{\"id\":\"f4935ca0-7b0b-4f72-8929-c02d202d2680\",\"type\":\"LinearAxis\"}],\"plot_height\":400,\"plot_width\":400,\"renderers\":[{\"id\":\"f9ee1242-4d89-4ac5-a720-140e44f3ba21\",\"type\":\"LinearAxis\"},{\"id\":\"9c67ca09-c74a-4ebe-9a2a-574525d2e75b\",\"type\":\"Grid\"},{\"id\":\"f4935ca0-7b0b-4f72-8929-c02d202d2680\",\"type\":\"LinearAxis\"},{\"id\":\"ff83dbae-e416-466b-9b0a-13ca862cc8a1\",\"type\":\"Grid\"},{\"id\":\"fffb3ace-9190-4177-b55a-a5f348c604ac\",\"type\":\"GlyphRenderer\"},{\"id\":\"74bb110d-a67b-4c11-b522-e75c4b7789b5\",\"type\":\"GlyphRenderer\"},{\"id\":\"dd785bdd-40b4-4a98-ae32-d8be82bbd392\",\"type\":\"Arrow\"},{\"id\":\"28937e19-0f26-4382-a14a-78b8e680f287\",\"type\":\"Arrow\"},{\"id\":\"c1c84fc9-5774-4529-bfa7-6a1c8aee6d1e\",\"type\":\"Arrow\"},{\"id\":\"8aa3975b-a298-4d2e-a243-1a270f157c48\",\"type\":\"Arrow\"}],\"title\":{\"id\":\"8c56b84d-795d-47f3-bad1-7cc1e828c4e0\",\"type\":\"Title\"},\"toolbar\":{\"id\":\"e62658b4-f4df-4216-8fe2-0e6a7ab24000\",\"type\":\"Toolbar\"},\"x_range\":{\"id\":\"be79fa40-2a66-4188-93e5-0e015c2d6379\",\"type\":\"Range1d\"},\"x_scale\":{\"id\":\"7d0e3012-c280-4f21-a415-a217d65ec617\",\"type\":\"LinearScale\"},\"y_range\":{\"id\":\"f7224aa6-3124-4ccf-b805-3a020cf02120\",\"type\":\"Range1d\"},\"y_scale\":{\"id\":\"7e237852-2ccd-4e1f-9ed1-34791c0e22c4\",\"type\":\"LinearScale\"}},\"id\":\"c1033bb1-bc82-4dc1-9abd-9049a56ce558\",\"subtype\":\"Figure\",\"type\":\"Plot\"},{\"attributes\":{},\"id\":\"92bb8f15-29b6-4ab1-a338-501daaa64349\",\"type\":\"BasicTicker\"},{\"attributes\":{\"callback\":null,\"data\":{\"x\":[0,0],\"y\":[-8,8]},\"selected\":{\"id\":\"fa73e7a4-0dea-44fe-99f0-20be30461e8e\",\"type\":\"Selection\"},\"selection_policy\":{\"id\":\"c8390d6c-ac9c-4fb4-974e-f4c6c3105b16\",\"type\":\"UnionRenderers\"}},\"id\":\"676c6955-41c9-4d21-bcf0-5a1c2973c98a\",\"type\":\"ColumnDataSource\"},{\"attributes\":{\"end\":{\"id\":\"a2a33b09-a8fe-4208-8338-dbea4d559196\",\"type\":\"NormalHead\"},\"line_alpha\":{\"value\":0.3},\"line_color\":{\"value\":\"red\"},\"line_width\":{\"value\":3},\"plot\":{\"id\":\"c1033bb1-bc82-4dc1-9abd-9049a56ce558\",\"subtype\":\"Figure\",\"type\":\"Plot\"},\"source\":null,\"start\":null,\"x_end\":{\"value\":3},\"x_start\":{\"value\":2},\"y_end\":{\"value\":3},\"y_start\":{\"value\":1}},\"id\":\"8aa3975b-a298-4d2e-a243-1a270f157c48\",\"type\":\"Arrow\"},{\"attributes\":{},\"id\":\"7e237852-2ccd-4e1f-9ed1-34791c0e22c4\",\"type\":\"LinearScale\"},{\"attributes\":{\"line_width\":1.5,\"x\":{\"field\":\"x\"},\"y\":{\"field\":\"y\"}},\"id\":\"82260081-223e-4687-912f-a466bb970de1\",\"type\":\"Line\"},{\"attributes\":{},\"id\":\"fa73e7a4-0dea-44fe-99f0-20be30461e8e\",\"type\":\"Selection\"},{\"attributes\":{},\"id\":\"c72758b7-f6f7-4f2a-8ac5-8a79c4564cf6\",\"type\":\"BasicTickFormatter\"},{\"attributes\":{},\"id\":\"c8390d6c-ac9c-4fb4-974e-f4c6c3105b16\",\"type\":\"UnionRenderers\"},{\"attributes\":{\"active_drag\":\"auto\",\"active_inspect\":\"auto\",\"active_multi\":null,\"active_scroll\":\"auto\",\"active_tap\":\"auto\",\"tools\":[{\"id\":\"d61e7de5-24a6-489e-86cc-b3cc36e33743\",\"type\":\"WheelZoomTool\"},{\"id\":\"15f49e94-459f-47a8-9685-2b19c328c9ba\",\"type\":\"PanTool\"},{\"id\":\"59af9f5d-ff40-4c44-bb06-58983b49c439\",\"type\":\"ResetTool\"}]},\"id\":\"e62658b4-f4df-4216-8fe2-0e6a7ab24000\",\"type\":\"Toolbar\"},{\"attributes\":{},\"id\":\"3414dbb9-9125-430e-9d5f-9e5a497ca78f\",\"type\":\"Selection\"},{\"attributes\":{},\"id\":\"7d0e3012-c280-4f21-a415-a217d65ec617\",\"type\":\"LinearScale\"},{\"attributes\":{\"line_alpha\":0.1,\"line_color\":\"#1f77b4\",\"line_width\":1.5,\"x\":{\"field\":\"x\"},\"y\":{\"field\":\"y\"}},\"id\":\"d41216e6-2ed1-4c01-bf4d-c4080a575bec\",\"type\":\"Line\"},{\"attributes\":{\"fill_color\":{\"value\":\"blue\"},\"line_color\":{\"value\":\"blue\"},\"plot\":null,\"size\":10},\"id\":\"13a01ed9-1947-4e48-b8da-8e53c89b2525\",\"type\":\"NormalHead\"},{\"attributes\":{\"callback\":null,\"end\":5.6,\"start\":-5.6},\"id\":\"f7224aa6-3124-4ccf-b805-3a020cf02120\",\"type\":\"Range1d\"},{\"attributes\":{},\"id\":\"f060b2f5-5e56-409d-96ff-cee1af0515b5\",\"type\":\"UnionRenderers\"},{\"attributes\":{\"plot\":{\"id\":\"c1033bb1-bc82-4dc1-9abd-9049a56ce558\",\"subtype\":\"Figure\",\"type\":\"Plot\"},\"ticker\":{\"id\":\"08f69390-36b8-4da3-bb7c-94cd95dc8518\",\"type\":\"BasicTicker\"}},\"id\":\"9c67ca09-c74a-4ebe-9a2a-574525d2e75b\",\"type\":\"Grid\"},{\"attributes\":{\"source\":{\"id\":\"676c6955-41c9-4d21-bcf0-5a1c2973c98a\",\"type\":\"ColumnDataSource\"}},\"id\":\"523ee2d3-b15c-486c-a373-f6c100a1bbcf\",\"type\":\"CDSView\"},{\"attributes\":{\"callback\":null,\"data\":{\"x\":[-8,8],\"y\":[0,0]},\"selected\":{\"id\":\"3414dbb9-9125-430e-9d5f-9e5a497ca78f\",\"type\":\"Selection\"},\"selection_policy\":{\"id\":\"f060b2f5-5e56-409d-96ff-cee1af0515b5\",\"type\":\"UnionRenderers\"}},\"id\":\"3452bab4-4702-47a5-8b77-598217ee76cf\",\"type\":\"ColumnDataSource\"},{\"attributes\":{\"line_width\":1.5,\"x\":{\"field\":\"x\"},\"y\":{\"field\":\"y\"}},\"id\":\"485d7a9d-6e49-43ef-aa1d-1795a681cfd5\",\"type\":\"Line\"},{\"attributes\":{\"dimension\":1,\"plot\":{\"id\":\"c1033bb1-bc82-4dc1-9abd-9049a56ce558\",\"subtype\":\"Figure\",\"type\":\"Plot\"},\"ticker\":{\"id\":\"92bb8f15-29b6-4ab1-a338-501daaa64349\",\"type\":\"BasicTicker\"}},\"id\":\"ff83dbae-e416-466b-9b0a-13ca862cc8a1\",\"type\":\"Grid\"},{\"attributes\":{\"plot\":null,\"text\":\"\"},\"id\":\"8c56b84d-795d-47f3-bad1-7cc1e828c4e0\",\"type\":\"Title\"},{\"attributes\":{\"data_source\":{\"id\":\"676c6955-41c9-4d21-bcf0-5a1c2973c98a\",\"type\":\"ColumnDataSource\"},\"glyph\":{\"id\":\"485d7a9d-6e49-43ef-aa1d-1795a681cfd5\",\"type\":\"Line\"},\"hover_glyph\":null,\"muted_glyph\":null,\"nonselection_glyph\":{\"id\":\"d41216e6-2ed1-4c01-bf4d-c4080a575bec\",\"type\":\"Line\"},\"selection_glyph\":null,\"view\":{\"id\":\"523ee2d3-b15c-486c-a373-f6c100a1bbcf\",\"type\":\"CDSView\"}},\"id\":\"fffb3ace-9190-4177-b55a-a5f348c604ac\",\"type\":\"GlyphRenderer\"},{\"attributes\":{},\"id\":\"d61e7de5-24a6-489e-86cc-b3cc36e33743\",\"type\":\"WheelZoomTool\"},{\"attributes\":{\"formatter\":{\"id\":\"c72758b7-f6f7-4f2a-8ac5-8a79c4564cf6\",\"type\":\"BasicTickFormatter\"},\"plot\":{\"id\":\"c1033bb1-bc82-4dc1-9abd-9049a56ce558\",\"subtype\":\"Figure\",\"type\":\"Plot\"},\"ticker\":{\"id\":\"08f69390-36b8-4da3-bb7c-94cd95dc8518\",\"type\":\"BasicTicker\"}},\"id\":\"f9ee1242-4d89-4ac5-a720-140e44f3ba21\",\"type\":\"LinearAxis\"},{\"attributes\":{},\"id\":\"15f49e94-459f-47a8-9685-2b19c328c9ba\",\"type\":\"PanTool\"},{\"attributes\":{},\"id\":\"59af9f5d-ff40-4c44-bb06-58983b49c439\",\"type\":\"ResetTool\"}],\"root_ids\":[\"c1033bb1-bc82-4dc1-9abd-9049a56ce558\"]},\"title\":\"Bokeh Application\",\"version\":\"0.13.0\"}};\n",
       "  var render_items = [{\"docid\":\"93ff6916-0b3a-4ef9-8890-56da1e0314a8\",\"roots\":{\"c1033bb1-bc82-4dc1-9abd-9049a56ce558\":\"437fd02f-b924-4a11-ba31-5811f9570ac4\"}}];\n",
       "  root.Bokeh.embed.embed_items_notebook(docs_json, render_items);\n",
       "\n",
       "  }\n",
       "  if (root.Bokeh !== undefined) {\n",
       "    embed_document(root);\n",
       "  } else {\n",
       "    var attempts = 0;\n",
       "    var timer = setInterval(function(root) {\n",
       "      if (root.Bokeh !== undefined) {\n",
       "        embed_document(root);\n",
       "        clearInterval(timer);\n",
       "      }\n",
       "      attempts++;\n",
       "      if (attempts > 100) {\n",
       "        console.log(\"Bokeh: ERROR: Unable to run BokehJS code because BokehJS library is missing\")\n",
       "        clearInterval(timer);\n",
       "      }\n",
       "    }, 10, root)\n",
       "  }\n",
       "})(window);"
      ],
      "application/vnd.bokehjs_exec.v0+json": ""
     },
     "metadata": {
      "application/vnd.bokehjs_exec.v0+json": {
       "id": "c1033bb1-bc82-4dc1-9abd-9049a56ce558"
      }
     },
     "output_type": "display_data"
    }
   ],
   "source": [
    "plot.clear()\n",
    "plot.graph(8)\n",
    "plot.add_vectors(a,b)\n",
    "plot.show()"
   ]
  },
  {
   "cell_type": "markdown",
   "metadata": {},
   "source": [
    "# Vector Subtraction\n",
    "\n",
    "Given $\\vec{a},~\\vec{b} \\in \\Re^2$\n",
    "\n",
    "$$\\vec{a} = \\begin{bmatrix} a_1 \\\\ a_2 \\end{bmatrix}$$\n",
    "$$\\vec{b} = \\begin{bmatrix} b_1 \\\\ b_2 \\end{bmatrix}$$\n",
    "\n",
    "then \n",
    "\\begin{equation}\n",
    "\\vec{a} - \\vec{b} = \\begin{bmatrix} a_1-b_1 \\\\ a_2-b_2 \\end{bmatrix}\n",
    "\\end{equation}"
   ]
  },
  {
   "cell_type": "code",
   "execution_count": 14,
   "metadata": {},
   "outputs": [
    {
     "data": {
      "text/plain": [
       "array([ 1, -1])"
      ]
     },
     "execution_count": 14,
     "metadata": {},
     "output_type": "execute_result"
    }
   ],
   "source": [
    "a = np.array([2,1])\n",
    "b = np.array([1,2])\n",
    "c = a - b\n",
    "c"
   ]
  },
  {
   "cell_type": "markdown",
   "metadata": {},
   "source": [
    "$$\\vec{a} = \\begin{bmatrix} 2 \\\\ 1 \\end{bmatrix}$$\n",
    "$$\\vec{b} = \\begin{bmatrix} 1 \\\\ 2 \\end{bmatrix}$$\n",
    "\n",
    "then \n",
    "\\begin{equation}\n",
    "\\vec{a} - \\vec{b} = \\begin{bmatrix} 2-1 \\\\ 1-2 \\end{bmatrix} = \\begin{bmatrix} 1 \\\\ -1 \\end{bmatrix}\n",
    "\\end{equation}"
   ]
  },
  {
   "cell_type": "code",
   "execution_count": 15,
   "metadata": {},
   "outputs": [
    {
     "data": {
      "text/html": [
       "\n",
       "\n",
       "\n",
       "\n",
       "\n",
       "\n",
       "  <div class=\"bk-root\" id=\"5fd553d6-4311-443e-9668-a1d1d0be54aa\"></div>\n"
      ]
     },
     "metadata": {},
     "output_type": "display_data"
    },
    {
     "data": {
      "application/javascript": [
       "(function(root) {\n",
       "  function embed_document(root) {\n",
       "    \n",
       "  var docs_json = {\"c5857f1d-b072-444f-9682-4834d90b6452\":{\"roots\":{\"references\":[{\"attributes\":{\"callback\":null,\"end\":3.5,\"start\":-3.5},\"id\":\"aa4bbb24-b73b-4b77-9033-6413942a7a6a\",\"type\":\"Range1d\"},{\"attributes\":{},\"id\":\"400dcf6f-6cb9-4ca4-84e2-9ed42a7e483c\",\"type\":\"LinearScale\"},{\"attributes\":{},\"id\":\"c16c92fe-0918-4a25-9895-bfb5b407b603\",\"type\":\"UnionRenderers\"},{\"attributes\":{\"line_width\":1.5,\"x\":{\"field\":\"x\"},\"y\":{\"field\":\"y\"}},\"id\":\"785d1bc8-d76b-4e99-99dc-d7ffed685eb5\",\"type\":\"Line\"},{\"attributes\":{},\"id\":\"b60a2e30-f39a-45af-8769-a0ac4f911899\",\"type\":\"BasicTicker\"},{\"attributes\":{\"plot\":{\"id\":\"e2bb0df9-46af-4096-82c2-daef417e59d4\",\"subtype\":\"Figure\",\"type\":\"Plot\"},\"ticker\":{\"id\":\"4616b8eb-266d-423c-8791-a7777ce24683\",\"type\":\"BasicTicker\"}},\"id\":\"c64469d2-7fd2-4499-9cea-8a75872a78c4\",\"type\":\"Grid\"},{\"attributes\":{\"callback\":null,\"end\":3.5,\"start\":-3.5},\"id\":\"d589f0c2-6ad1-4f0b-b291-d6a20b386bf5\",\"type\":\"Range1d\"},{\"attributes\":{\"active_drag\":\"auto\",\"active_inspect\":\"auto\",\"active_multi\":null,\"active_scroll\":\"auto\",\"active_tap\":\"auto\",\"tools\":[{\"id\":\"db3fb8d9-833b-4986-a734-b33285dacdcc\",\"type\":\"WheelZoomTool\"},{\"id\":\"021488e6-635c-4806-9ec8-84ab1d467363\",\"type\":\"PanTool\"},{\"id\":\"08fe5f17-56ce-4d37-8406-d92dae896e93\",\"type\":\"ResetTool\"}]},\"id\":\"3e798758-aaff-4c94-a199-42de34d29bf6\",\"type\":\"Toolbar\"},{\"attributes\":{\"below\":[{\"id\":\"0f61f27d-da6b-4a28-b383-e45ef8d410c9\",\"type\":\"LinearAxis\"}],\"left\":[{\"id\":\"6341fccf-91c9-45a5-9460-b81bfc3a85f3\",\"type\":\"LinearAxis\"}],\"plot_height\":400,\"plot_width\":400,\"renderers\":[{\"id\":\"0f61f27d-da6b-4a28-b383-e45ef8d410c9\",\"type\":\"LinearAxis\"},{\"id\":\"c64469d2-7fd2-4499-9cea-8a75872a78c4\",\"type\":\"Grid\"},{\"id\":\"6341fccf-91c9-45a5-9460-b81bfc3a85f3\",\"type\":\"LinearAxis\"},{\"id\":\"b58fed49-7f63-4a61-ba4f-e255ebb417eb\",\"type\":\"Grid\"},{\"id\":\"dede94d4-0158-4fd6-accb-03675d4e56c1\",\"type\":\"GlyphRenderer\"},{\"id\":\"fb9e5e6c-8c17-47d1-9267-e81727f7d434\",\"type\":\"GlyphRenderer\"},{\"id\":\"aed46571-47bd-4643-9ab1-2ab606058cb8\",\"type\":\"Arrow\"},{\"id\":\"6445c0e0-7922-4efa-b8d6-24b7fbbbc451\",\"type\":\"Arrow\"},{\"id\":\"12c6c560-bb1d-4680-bfdb-15e6c3b8da39\",\"type\":\"Arrow\"}],\"title\":{\"id\":\"f9d0aad9-1d02-4d96-adfc-b890e6fef00a\",\"type\":\"Title\"},\"toolbar\":{\"id\":\"3e798758-aaff-4c94-a199-42de34d29bf6\",\"type\":\"Toolbar\"},\"x_range\":{\"id\":\"d589f0c2-6ad1-4f0b-b291-d6a20b386bf5\",\"type\":\"Range1d\"},\"x_scale\":{\"id\":\"400dcf6f-6cb9-4ca4-84e2-9ed42a7e483c\",\"type\":\"LinearScale\"},\"y_range\":{\"id\":\"aa4bbb24-b73b-4b77-9033-6413942a7a6a\",\"type\":\"Range1d\"},\"y_scale\":{\"id\":\"3e466c36-a1ee-4ba3-ac0d-2575958884d1\",\"type\":\"LinearScale\"}},\"id\":\"e2bb0df9-46af-4096-82c2-daef417e59d4\",\"subtype\":\"Figure\",\"type\":\"Plot\"},{\"attributes\":{\"callback\":null,\"data\":{\"x\":[-5,5],\"y\":[0,0]},\"selected\":{\"id\":\"43a88e15-5454-4d86-b0e8-b5cb8d8d81e3\",\"type\":\"Selection\"},\"selection_policy\":{\"id\":\"c16c92fe-0918-4a25-9895-bfb5b407b603\",\"type\":\"UnionRenderers\"}},\"id\":\"807dee0c-2e1e-489e-92f0-f0578bc5611d\",\"type\":\"ColumnDataSource\"},{\"attributes\":{\"callback\":null,\"data\":{\"x\":[0,0],\"y\":[-5,5]},\"selected\":{\"id\":\"7baccf53-731c-4581-96fe-4c2918c2fb2a\",\"type\":\"Selection\"},\"selection_policy\":{\"id\":\"3592684a-2896-422c-81a5-6d8e0ad1fa36\",\"type\":\"UnionRenderers\"}},\"id\":\"c263e1cb-2c85-4751-9ba0-a680a9bbdaba\",\"type\":\"ColumnDataSource\"},{\"attributes\":{\"fill_color\":{\"value\":\"blue\"},\"line_color\":{\"value\":\"blue\"},\"plot\":null,\"size\":10},\"id\":\"568ade2d-487a-498a-9d4d-de3ace96db65\",\"type\":\"NormalHead\"},{\"attributes\":{},\"id\":\"3e466c36-a1ee-4ba3-ac0d-2575958884d1\",\"type\":\"LinearScale\"},{\"attributes\":{\"data_source\":{\"id\":\"c263e1cb-2c85-4751-9ba0-a680a9bbdaba\",\"type\":\"ColumnDataSource\"},\"glyph\":{\"id\":\"785d1bc8-d76b-4e99-99dc-d7ffed685eb5\",\"type\":\"Line\"},\"hover_glyph\":null,\"muted_glyph\":null,\"nonselection_glyph\":{\"id\":\"c6a45df6-882f-46b5-b3d6-f98cb3f17c7d\",\"type\":\"Line\"},\"selection_glyph\":null,\"view\":{\"id\":\"7a2fec75-daa8-4390-86b9-b2354b447600\",\"type\":\"CDSView\"}},\"id\":\"dede94d4-0158-4fd6-accb-03675d4e56c1\",\"type\":\"GlyphRenderer\"},{\"attributes\":{\"line_alpha\":0.1,\"line_color\":\"#1f77b4\",\"line_width\":1.5,\"x\":{\"field\":\"x\"},\"y\":{\"field\":\"y\"}},\"id\":\"c6a45df6-882f-46b5-b3d6-f98cb3f17c7d\",\"type\":\"Line\"},{\"attributes\":{},\"id\":\"4616b8eb-266d-423c-8791-a7777ce24683\",\"type\":\"BasicTicker\"},{\"attributes\":{},\"id\":\"db3fb8d9-833b-4986-a734-b33285dacdcc\",\"type\":\"WheelZoomTool\"},{\"attributes\":{},\"id\":\"08fe5f17-56ce-4d37-8406-d92dae896e93\",\"type\":\"ResetTool\"},{\"attributes\":{},\"id\":\"021488e6-635c-4806-9ec8-84ab1d467363\",\"type\":\"PanTool\"},{\"attributes\":{},\"id\":\"9bdcdbae-1b64-41e3-9b67-3fabd0ac0a84\",\"type\":\"BasicTickFormatter\"},{\"attributes\":{\"source\":{\"id\":\"c263e1cb-2c85-4751-9ba0-a680a9bbdaba\",\"type\":\"ColumnDataSource\"}},\"id\":\"7a2fec75-daa8-4390-86b9-b2354b447600\",\"type\":\"CDSView\"},{\"attributes\":{\"dimension\":1,\"plot\":{\"id\":\"e2bb0df9-46af-4096-82c2-daef417e59d4\",\"subtype\":\"Figure\",\"type\":\"Plot\"},\"ticker\":{\"id\":\"b60a2e30-f39a-45af-8769-a0ac4f911899\",\"type\":\"BasicTicker\"}},\"id\":\"b58fed49-7f63-4a61-ba4f-e255ebb417eb\",\"type\":\"Grid\"},{\"attributes\":{\"fill_color\":{\"value\":\"purple\"},\"line_color\":{\"value\":\"purple\"},\"plot\":null,\"size\":10},\"id\":\"70f91124-a77b-4b8a-90e8-e0c73a500688\",\"type\":\"NormalHead\"},{\"attributes\":{},\"id\":\"7baccf53-731c-4581-96fe-4c2918c2fb2a\",\"type\":\"Selection\"},{\"attributes\":{\"line_width\":1.5,\"x\":{\"field\":\"x\"},\"y\":{\"field\":\"y\"}},\"id\":\"e73de18a-013e-4672-a9b9-6ea877daa2cc\",\"type\":\"Line\"},{\"attributes\":{\"formatter\":{\"id\":\"4d8d3cba-b096-4532-b8b6-fbb4266908d5\",\"type\":\"BasicTickFormatter\"},\"plot\":{\"id\":\"e2bb0df9-46af-4096-82c2-daef417e59d4\",\"subtype\":\"Figure\",\"type\":\"Plot\"},\"ticker\":{\"id\":\"b60a2e30-f39a-45af-8769-a0ac4f911899\",\"type\":\"BasicTicker\"}},\"id\":\"6341fccf-91c9-45a5-9460-b81bfc3a85f3\",\"type\":\"LinearAxis\"},{\"attributes\":{\"source\":{\"id\":\"807dee0c-2e1e-489e-92f0-f0578bc5611d\",\"type\":\"ColumnDataSource\"}},\"id\":\"9e5dce78-baff-4506-ab22-977f269e7d90\",\"type\":\"CDSView\"},{\"attributes\":{\"data_source\":{\"id\":\"807dee0c-2e1e-489e-92f0-f0578bc5611d\",\"type\":\"ColumnDataSource\"},\"glyph\":{\"id\":\"e73de18a-013e-4672-a9b9-6ea877daa2cc\",\"type\":\"Line\"},\"hover_glyph\":null,\"muted_glyph\":null,\"nonselection_glyph\":{\"id\":\"96554391-892a-4e42-9454-5a8f99aad244\",\"type\":\"Line\"},\"selection_glyph\":null,\"view\":{\"id\":\"9e5dce78-baff-4506-ab22-977f269e7d90\",\"type\":\"CDSView\"}},\"id\":\"fb9e5e6c-8c17-47d1-9267-e81727f7d434\",\"type\":\"GlyphRenderer\"},{\"attributes\":{\"line_alpha\":0.1,\"line_color\":\"#1f77b4\",\"line_width\":1.5,\"x\":{\"field\":\"x\"},\"y\":{\"field\":\"y\"}},\"id\":\"96554391-892a-4e42-9454-5a8f99aad244\",\"type\":\"Line\"},{\"attributes\":{\"plot\":null,\"text\":\"\"},\"id\":\"f9d0aad9-1d02-4d96-adfc-b890e6fef00a\",\"type\":\"Title\"},{\"attributes\":{},\"id\":\"43a88e15-5454-4d86-b0e8-b5cb8d8d81e3\",\"type\":\"Selection\"},{\"attributes\":{\"end\":{\"id\":\"568ade2d-487a-498a-9d4d-de3ace96db65\",\"type\":\"NormalHead\"},\"line_color\":{\"value\":\"blue\"},\"line_width\":{\"value\":3},\"plot\":{\"id\":\"e2bb0df9-46af-4096-82c2-daef417e59d4\",\"subtype\":\"Figure\",\"type\":\"Plot\"},\"source\":null,\"start\":null,\"x_end\":{\"value\":2},\"x_start\":{\"value\":0},\"y_end\":{\"value\":1},\"y_start\":{\"value\":0}},\"id\":\"aed46571-47bd-4643-9ab1-2ab606058cb8\",\"type\":\"Arrow\"},{\"attributes\":{\"fill_color\":{\"value\":\"red\"},\"line_color\":{\"value\":\"red\"},\"plot\":null,\"size\":10},\"id\":\"4ee3f364-8961-44cf-a9a9-bf81a3772382\",\"type\":\"NormalHead\"},{\"attributes\":{},\"id\":\"3592684a-2896-422c-81a5-6d8e0ad1fa36\",\"type\":\"UnionRenderers\"},{\"attributes\":{\"end\":{\"id\":\"4ee3f364-8961-44cf-a9a9-bf81a3772382\",\"type\":\"NormalHead\"},\"line_color\":{\"value\":\"red\"},\"line_width\":{\"value\":3},\"plot\":{\"id\":\"e2bb0df9-46af-4096-82c2-daef417e59d4\",\"subtype\":\"Figure\",\"type\":\"Plot\"},\"source\":null,\"start\":null,\"x_end\":{\"value\":1},\"x_start\":{\"value\":0},\"y_end\":{\"value\":2},\"y_start\":{\"value\":0}},\"id\":\"6445c0e0-7922-4efa-b8d6-24b7fbbbc451\",\"type\":\"Arrow\"},{\"attributes\":{},\"id\":\"4d8d3cba-b096-4532-b8b6-fbb4266908d5\",\"type\":\"BasicTickFormatter\"},{\"attributes\":{\"formatter\":{\"id\":\"9bdcdbae-1b64-41e3-9b67-3fabd0ac0a84\",\"type\":\"BasicTickFormatter\"},\"plot\":{\"id\":\"e2bb0df9-46af-4096-82c2-daef417e59d4\",\"subtype\":\"Figure\",\"type\":\"Plot\"},\"ticker\":{\"id\":\"4616b8eb-266d-423c-8791-a7777ce24683\",\"type\":\"BasicTicker\"}},\"id\":\"0f61f27d-da6b-4a28-b383-e45ef8d410c9\",\"type\":\"LinearAxis\"},{\"attributes\":{\"end\":{\"id\":\"70f91124-a77b-4b8a-90e8-e0c73a500688\",\"type\":\"NormalHead\"},\"line_color\":{\"value\":\"purple\"},\"line_width\":{\"value\":3},\"plot\":{\"id\":\"e2bb0df9-46af-4096-82c2-daef417e59d4\",\"subtype\":\"Figure\",\"type\":\"Plot\"},\"source\":null,\"start\":null,\"x_end\":{\"value\":1},\"x_start\":{\"value\":0},\"y_end\":{\"value\":-1},\"y_start\":{\"value\":0}},\"id\":\"12c6c560-bb1d-4680-bfdb-15e6c3b8da39\",\"type\":\"Arrow\"}],\"root_ids\":[\"e2bb0df9-46af-4096-82c2-daef417e59d4\"]},\"title\":\"Bokeh Application\",\"version\":\"0.13.0\"}};\n",
       "  var render_items = [{\"docid\":\"c5857f1d-b072-444f-9682-4834d90b6452\",\"roots\":{\"e2bb0df9-46af-4096-82c2-daef417e59d4\":\"5fd553d6-4311-443e-9668-a1d1d0be54aa\"}}];\n",
       "  root.Bokeh.embed.embed_items_notebook(docs_json, render_items);\n",
       "\n",
       "  }\n",
       "  if (root.Bokeh !== undefined) {\n",
       "    embed_document(root);\n",
       "  } else {\n",
       "    var attempts = 0;\n",
       "    var timer = setInterval(function(root) {\n",
       "      if (root.Bokeh !== undefined) {\n",
       "        embed_document(root);\n",
       "        clearInterval(timer);\n",
       "      }\n",
       "      attempts++;\n",
       "      if (attempts > 100) {\n",
       "        console.log(\"Bokeh: ERROR: Unable to run BokehJS code because BokehJS library is missing\")\n",
       "        clearInterval(timer);\n",
       "      }\n",
       "    }, 10, root)\n",
       "  }\n",
       "})(window);"
      ],
      "application/vnd.bokehjs_exec.v0+json": ""
     },
     "metadata": {
      "application/vnd.bokehjs_exec.v0+json": {
       "id": "e2bb0df9-46af-4096-82c2-daef417e59d4"
      }
     },
     "output_type": "display_data"
    }
   ],
   "source": [
    "plot.clear()\n",
    "plot.graph()\n",
    "plot.vector(a)\n",
    "plot.vector(b)\n",
    "plot.vector(c,add_color=\"purple\")\n",
    "plot.show()"
   ]
  },
  {
   "cell_type": "markdown",
   "metadata": {},
   "source": [
    "What is really going on here when we subtract two vectors?"
   ]
  },
  {
   "cell_type": "code",
   "execution_count": 16,
   "metadata": {},
   "outputs": [
    {
     "data": {
      "text/html": [
       "\n",
       "\n",
       "\n",
       "\n",
       "\n",
       "\n",
       "  <div class=\"bk-root\" id=\"d9593307-bf27-40ad-88ad-b1274bd5e9d0\"></div>\n"
      ]
     },
     "metadata": {},
     "output_type": "display_data"
    },
    {
     "data": {
      "application/javascript": [
       "(function(root) {\n",
       "  function embed_document(root) {\n",
       "    \n",
       "  var docs_json = {\"524a9990-621c-4a50-9643-05b54a024510\":{\"roots\":{\"references\":[{\"attributes\":{\"callback\":null,\"data\":{\"x\":[-5,5],\"y\":[0,0]},\"selected\":{\"id\":\"866b2423-b105-49d5-815c-b92a957794a3\",\"type\":\"Selection\"},\"selection_policy\":{\"id\":\"15c1ebb9-0c64-4c94-b955-8967c1b3ed1c\",\"type\":\"UnionRenderers\"}},\"id\":\"07e9f7a4-aed0-4e29-a028-0483728c2790\",\"type\":\"ColumnDataSource\"},{\"attributes\":{},\"id\":\"b56c3f7b-294a-4f3d-b9c6-de9868c414a5\",\"type\":\"LinearScale\"},{\"attributes\":{\"data_source\":{\"id\":\"c87f3323-e9cb-441f-9a45-2f0ffbe44385\",\"type\":\"ColumnDataSource\"},\"glyph\":{\"id\":\"8efc42e1-c422-45f5-89e7-37e4ac213f76\",\"type\":\"Line\"},\"hover_glyph\":null,\"muted_glyph\":null,\"nonselection_glyph\":{\"id\":\"85854eba-065c-4b1d-857c-1b0ad2167a50\",\"type\":\"Line\"},\"selection_glyph\":null,\"view\":{\"id\":\"b658cbed-6ecc-4ce0-94b9-97accc881830\",\"type\":\"CDSView\"}},\"id\":\"59a09d9b-2c46-4127-9c4c-972a2e0bd854\",\"type\":\"GlyphRenderer\"},{\"attributes\":{},\"id\":\"880dd6e0-e012-49a2-9b6a-979bd2ef9122\",\"type\":\"WheelZoomTool\"},{\"attributes\":{},\"id\":\"3bbba058-afa0-40e0-9522-875d05194d01\",\"type\":\"BasicTicker\"},{\"attributes\":{\"source\":{\"id\":\"c87f3323-e9cb-441f-9a45-2f0ffbe44385\",\"type\":\"ColumnDataSource\"}},\"id\":\"b658cbed-6ecc-4ce0-94b9-97accc881830\",\"type\":\"CDSView\"},{\"attributes\":{\"plot\":{\"id\":\"2a452a2d-1a38-4298-828e-6a209e1e3e94\",\"subtype\":\"Figure\",\"type\":\"Plot\"},\"ticker\":{\"id\":\"7cf0e020-5fb3-4b3b-8244-de63b71b6fe8\",\"type\":\"BasicTicker\"}},\"id\":\"8bd6609a-a206-47df-bf7a-38c5190127a0\",\"type\":\"Grid\"},{\"attributes\":{},\"id\":\"89fed7c2-cb25-4d64-8355-183a93b48b71\",\"type\":\"PanTool\"},{\"attributes\":{},\"id\":\"3c3e0a23-ff9b-4982-bab4-737294fd6d6e\",\"type\":\"ResetTool\"},{\"attributes\":{\"line_alpha\":0.1,\"line_color\":\"#1f77b4\",\"line_width\":1.5,\"x\":{\"field\":\"x\"},\"y\":{\"field\":\"y\"}},\"id\":\"85854eba-065c-4b1d-857c-1b0ad2167a50\",\"type\":\"Line\"},{\"attributes\":{\"line_width\":1.5,\"x\":{\"field\":\"x\"},\"y\":{\"field\":\"y\"}},\"id\":\"9532a855-8366-4b43-bb2f-53eaeb5ebe24\",\"type\":\"Line\"},{\"attributes\":{\"line_alpha\":0.1,\"line_color\":\"#1f77b4\",\"line_width\":1.5,\"x\":{\"field\":\"x\"},\"y\":{\"field\":\"y\"}},\"id\":\"dc76c3cf-6ade-4bdc-8ade-4846d6b72010\",\"type\":\"Line\"},{\"attributes\":{\"data_source\":{\"id\":\"07e9f7a4-aed0-4e29-a028-0483728c2790\",\"type\":\"ColumnDataSource\"},\"glyph\":{\"id\":\"9532a855-8366-4b43-bb2f-53eaeb5ebe24\",\"type\":\"Line\"},\"hover_glyph\":null,\"muted_glyph\":null,\"nonselection_glyph\":{\"id\":\"dc76c3cf-6ade-4bdc-8ade-4846d6b72010\",\"type\":\"Line\"},\"selection_glyph\":null,\"view\":{\"id\":\"9747b533-3b86-4b4d-b78a-b01c4dd8b32b\",\"type\":\"CDSView\"}},\"id\":\"3521efb2-f468-4639-8063-883db5108630\",\"type\":\"GlyphRenderer\"},{\"attributes\":{\"formatter\":{\"id\":\"b0a378cf-8202-41bd-b6d3-2b0dba030db3\",\"type\":\"BasicTickFormatter\"},\"plot\":{\"id\":\"2a452a2d-1a38-4298-828e-6a209e1e3e94\",\"subtype\":\"Figure\",\"type\":\"Plot\"},\"ticker\":{\"id\":\"3bbba058-afa0-40e0-9522-875d05194d01\",\"type\":\"BasicTicker\"}},\"id\":\"28e16dcc-5c03-4a0b-81b0-0b0b02d4730c\",\"type\":\"LinearAxis\"},{\"attributes\":{\"source\":{\"id\":\"07e9f7a4-aed0-4e29-a028-0483728c2790\",\"type\":\"ColumnDataSource\"}},\"id\":\"9747b533-3b86-4b4d-b78a-b01c4dd8b32b\",\"type\":\"CDSView\"},{\"attributes\":{\"plot\":null,\"text\":\"\"},\"id\":\"2d6a769d-7a6a-4580-9e21-b7abe6ef891c\",\"type\":\"Title\"},{\"attributes\":{},\"id\":\"54f5008f-6b3a-4d75-a128-4f7db83c334c\",\"type\":\"BasicTickFormatter\"},{\"attributes\":{\"end\":{\"id\":\"9a881fc4-cbef-480e-8c03-665e89d2f947\",\"type\":\"NormalHead\"},\"line_color\":{\"value\":\"blue\"},\"line_width\":{\"value\":3},\"plot\":{\"id\":\"2a452a2d-1a38-4298-828e-6a209e1e3e94\",\"subtype\":\"Figure\",\"type\":\"Plot\"},\"source\":null,\"start\":null,\"x_end\":{\"value\":2},\"x_start\":{\"value\":0},\"y_end\":{\"value\":1},\"y_start\":{\"value\":0}},\"id\":\"9d8d203b-8f75-45f2-8b56-0756c0e1f220\",\"type\":\"Arrow\"},{\"attributes\":{\"callback\":null,\"data\":{\"x\":[0,0],\"y\":[-5,5]},\"selected\":{\"id\":\"e2e34bbe-5c9e-433b-9ea9-3142a42b11d0\",\"type\":\"Selection\"},\"selection_policy\":{\"id\":\"1e8366f8-5ffe-4191-92e8-58c6f05943f1\",\"type\":\"UnionRenderers\"}},\"id\":\"c87f3323-e9cb-441f-9a45-2f0ffbe44385\",\"type\":\"ColumnDataSource\"},{\"attributes\":{\"fill_color\":{\"value\":\"red\"},\"line_color\":{\"value\":\"red\"},\"plot\":null,\"size\":10},\"id\":\"159811cb-27ed-4062-ae25-b59f96cdef64\",\"type\":\"NormalHead\"},{\"attributes\":{\"fill_color\":{\"value\":\"purple\"},\"line_color\":{\"value\":\"purple\"},\"plot\":null,\"size\":10},\"id\":\"2419cf04-4e01-4149-ad8d-06eb663be168\",\"type\":\"NormalHead\"},{\"attributes\":{\"end\":{\"id\":\"159811cb-27ed-4062-ae25-b59f96cdef64\",\"type\":\"NormalHead\"},\"line_color\":{\"value\":\"red\"},\"line_width\":{\"value\":3},\"plot\":{\"id\":\"2a452a2d-1a38-4298-828e-6a209e1e3e94\",\"subtype\":\"Figure\",\"type\":\"Plot\"},\"source\":null,\"start\":null,\"x_end\":{\"value\":1},\"x_start\":{\"value\":0},\"y_end\":{\"value\":2},\"y_start\":{\"value\":0}},\"id\":\"a76146c0-e5fd-4f57-b04c-28d678acedcc\",\"type\":\"Arrow\"},{\"attributes\":{\"fill_alpha\":{\"value\":0.3},\"fill_color\":{\"value\":\"purple\"},\"line_alpha\":{\"value\":0.3},\"line_color\":{\"value\":\"purple\"},\"plot\":null,\"size\":10},\"id\":\"200c486c-ebb1-44c4-bf0b-d65032c1f1fa\",\"type\":\"NormalHead\"},{\"attributes\":{},\"id\":\"74c56717-51fa-49de-8a7d-01ceaec7dd6f\",\"type\":\"LinearScale\"},{\"attributes\":{\"end\":{\"id\":\"2419cf04-4e01-4149-ad8d-06eb663be168\",\"type\":\"NormalHead\"},\"line_color\":{\"value\":\"purple\"},\"line_width\":{\"value\":3},\"plot\":{\"id\":\"2a452a2d-1a38-4298-828e-6a209e1e3e94\",\"subtype\":\"Figure\",\"type\":\"Plot\"},\"source\":null,\"start\":null,\"x_end\":{\"value\":1},\"x_start\":{\"value\":0},\"y_end\":{\"value\":-1},\"y_start\":{\"value\":0}},\"id\":\"ae734810-94a1-4136-8e2b-b0a0a0f08c9e\",\"type\":\"Arrow\"},{\"attributes\":{\"end\":{\"id\":\"200c486c-ebb1-44c4-bf0b-d65032c1f1fa\",\"type\":\"NormalHead\"},\"line_alpha\":{\"value\":0.3},\"line_color\":{\"value\":\"purple\"},\"line_width\":{\"value\":3},\"plot\":{\"id\":\"2a452a2d-1a38-4298-828e-6a209e1e3e94\",\"subtype\":\"Figure\",\"type\":\"Plot\"},\"source\":null,\"start\":null,\"x_end\":{\"value\":2},\"x_start\":{\"value\":1},\"y_end\":{\"value\":1},\"y_start\":{\"value\":2}},\"id\":\"100224ec-8e76-4934-b559-626bd9ddd430\",\"type\":\"Arrow\"},{\"attributes\":{\"fill_color\":{\"value\":\"blue\"},\"line_color\":{\"value\":\"blue\"},\"plot\":null,\"size\":10},\"id\":\"9a881fc4-cbef-480e-8c03-665e89d2f947\",\"type\":\"NormalHead\"},{\"attributes\":{},\"id\":\"e2e34bbe-5c9e-433b-9ea9-3142a42b11d0\",\"type\":\"Selection\"},{\"attributes\":{},\"id\":\"b0a378cf-8202-41bd-b6d3-2b0dba030db3\",\"type\":\"BasicTickFormatter\"},{\"attributes\":{\"dimension\":1,\"plot\":{\"id\":\"2a452a2d-1a38-4298-828e-6a209e1e3e94\",\"subtype\":\"Figure\",\"type\":\"Plot\"},\"ticker\":{\"id\":\"3bbba058-afa0-40e0-9522-875d05194d01\",\"type\":\"BasicTicker\"}},\"id\":\"2b8829f3-811d-4592-a7be-968ee1f91033\",\"type\":\"Grid\"},{\"attributes\":{\"below\":[{\"id\":\"09b5116e-b9e8-4e17-8841-c47a103e3f59\",\"type\":\"LinearAxis\"}],\"left\":[{\"id\":\"28e16dcc-5c03-4a0b-81b0-0b0b02d4730c\",\"type\":\"LinearAxis\"}],\"plot_height\":400,\"plot_width\":400,\"renderers\":[{\"id\":\"09b5116e-b9e8-4e17-8841-c47a103e3f59\",\"type\":\"LinearAxis\"},{\"id\":\"8bd6609a-a206-47df-bf7a-38c5190127a0\",\"type\":\"Grid\"},{\"id\":\"28e16dcc-5c03-4a0b-81b0-0b0b02d4730c\",\"type\":\"LinearAxis\"},{\"id\":\"2b8829f3-811d-4592-a7be-968ee1f91033\",\"type\":\"Grid\"},{\"id\":\"59a09d9b-2c46-4127-9c4c-972a2e0bd854\",\"type\":\"GlyphRenderer\"},{\"id\":\"3521efb2-f468-4639-8063-883db5108630\",\"type\":\"GlyphRenderer\"},{\"id\":\"9d8d203b-8f75-45f2-8b56-0756c0e1f220\",\"type\":\"Arrow\"},{\"id\":\"a76146c0-e5fd-4f57-b04c-28d678acedcc\",\"type\":\"Arrow\"},{\"id\":\"ae734810-94a1-4136-8e2b-b0a0a0f08c9e\",\"type\":\"Arrow\"},{\"id\":\"100224ec-8e76-4934-b559-626bd9ddd430\",\"type\":\"Arrow\"}],\"title\":{\"id\":\"2d6a769d-7a6a-4580-9e21-b7abe6ef891c\",\"type\":\"Title\"},\"toolbar\":{\"id\":\"357bfe53-a02f-4da7-bae8-da6e764d57bb\",\"type\":\"Toolbar\"},\"x_range\":{\"id\":\"e26af9bd-3454-4e3b-81a6-8bd5c3b8a8c3\",\"type\":\"Range1d\"},\"x_scale\":{\"id\":\"b56c3f7b-294a-4f3d-b9c6-de9868c414a5\",\"type\":\"LinearScale\"},\"y_range\":{\"id\":\"538f7262-67e7-4d63-8702-a085540a4180\",\"type\":\"Range1d\"},\"y_scale\":{\"id\":\"74c56717-51fa-49de-8a7d-01ceaec7dd6f\",\"type\":\"LinearScale\"}},\"id\":\"2a452a2d-1a38-4298-828e-6a209e1e3e94\",\"subtype\":\"Figure\",\"type\":\"Plot\"},{\"attributes\":{},\"id\":\"1e8366f8-5ffe-4191-92e8-58c6f05943f1\",\"type\":\"UnionRenderers\"},{\"attributes\":{},\"id\":\"866b2423-b105-49d5-815c-b92a957794a3\",\"type\":\"Selection\"},{\"attributes\":{\"line_width\":1.5,\"x\":{\"field\":\"x\"},\"y\":{\"field\":\"y\"}},\"id\":\"8efc42e1-c422-45f5-89e7-37e4ac213f76\",\"type\":\"Line\"},{\"attributes\":{},\"id\":\"15c1ebb9-0c64-4c94-b955-8967c1b3ed1c\",\"type\":\"UnionRenderers\"},{\"attributes\":{\"callback\":null,\"end\":3.5,\"start\":-3.5},\"id\":\"e26af9bd-3454-4e3b-81a6-8bd5c3b8a8c3\",\"type\":\"Range1d\"},{\"attributes\":{\"active_drag\":\"auto\",\"active_inspect\":\"auto\",\"active_multi\":null,\"active_scroll\":\"auto\",\"active_tap\":\"auto\",\"tools\":[{\"id\":\"880dd6e0-e012-49a2-9b6a-979bd2ef9122\",\"type\":\"WheelZoomTool\"},{\"id\":\"89fed7c2-cb25-4d64-8355-183a93b48b71\",\"type\":\"PanTool\"},{\"id\":\"3c3e0a23-ff9b-4982-bab4-737294fd6d6e\",\"type\":\"ResetTool\"}]},\"id\":\"357bfe53-a02f-4da7-bae8-da6e764d57bb\",\"type\":\"Toolbar\"},{\"attributes\":{\"formatter\":{\"id\":\"54f5008f-6b3a-4d75-a128-4f7db83c334c\",\"type\":\"BasicTickFormatter\"},\"plot\":{\"id\":\"2a452a2d-1a38-4298-828e-6a209e1e3e94\",\"subtype\":\"Figure\",\"type\":\"Plot\"},\"ticker\":{\"id\":\"7cf0e020-5fb3-4b3b-8244-de63b71b6fe8\",\"type\":\"BasicTicker\"}},\"id\":\"09b5116e-b9e8-4e17-8841-c47a103e3f59\",\"type\":\"LinearAxis\"},{\"attributes\":{},\"id\":\"7cf0e020-5fb3-4b3b-8244-de63b71b6fe8\",\"type\":\"BasicTicker\"},{\"attributes\":{\"callback\":null,\"end\":3.5,\"start\":-3.5},\"id\":\"538f7262-67e7-4d63-8702-a085540a4180\",\"type\":\"Range1d\"}],\"root_ids\":[\"2a452a2d-1a38-4298-828e-6a209e1e3e94\"]},\"title\":\"Bokeh Application\",\"version\":\"0.13.0\"}};\n",
       "  var render_items = [{\"docid\":\"524a9990-621c-4a50-9643-05b54a024510\",\"roots\":{\"2a452a2d-1a38-4298-828e-6a209e1e3e94\":\"d9593307-bf27-40ad-88ad-b1274bd5e9d0\"}}];\n",
       "  root.Bokeh.embed.embed_items_notebook(docs_json, render_items);\n",
       "\n",
       "  }\n",
       "  if (root.Bokeh !== undefined) {\n",
       "    embed_document(root);\n",
       "  } else {\n",
       "    var attempts = 0;\n",
       "    var timer = setInterval(function(root) {\n",
       "      if (root.Bokeh !== undefined) {\n",
       "        embed_document(root);\n",
       "        clearInterval(timer);\n",
       "      }\n",
       "      attempts++;\n",
       "      if (attempts > 100) {\n",
       "        console.log(\"Bokeh: ERROR: Unable to run BokehJS code because BokehJS library is missing\")\n",
       "        clearInterval(timer);\n",
       "      }\n",
       "    }, 10, root)\n",
       "  }\n",
       "})(window);"
      ],
      "application/vnd.bokehjs_exec.v0+json": ""
     },
     "metadata": {
      "application/vnd.bokehjs_exec.v0+json": {
       "id": "2a452a2d-1a38-4298-828e-6a209e1e3e94"
      }
     },
     "output_type": "display_data"
    }
   ],
   "source": [
    "plot.clear()\n",
    "plot.graph()\n",
    "plot.subtract_vectors(a,b)\n",
    "plot.show()"
   ]
  },
  {
   "cell_type": "markdown",
   "metadata": {},
   "source": [
    "# Linear Combinations"
   ]
  },
  {
   "cell_type": "code",
   "execution_count": 17,
   "metadata": {},
   "outputs": [
    {
     "data": {
      "text/plain": [
       "array([ 1, -4])"
      ]
     },
     "execution_count": 17,
     "metadata": {},
     "output_type": "execute_result"
    }
   ],
   "source": [
    "# Two Vectors\n",
    "a = np.array([2,1])\n",
    "b = np.array([1,2])\n",
    "\n",
    "# Scaled by some arbitrary constants\n",
    "c1 = 2\n",
    "c2 = -3\n",
    "\n",
    "# generate a new vector \n",
    "v = c1*a + c2*b\n",
    "v"
   ]
  },
  {
   "cell_type": "markdown",
   "metadata": {},
   "source": [
    "Given that $\\vec{a}$ and $\\vec{b}$ are linearly independent. We can use some combination of the two to describe every point in $\\Re^2$"
   ]
  },
  {
   "cell_type": "code",
   "execution_count": 18,
   "metadata": {},
   "outputs": [
    {
     "data": {
      "text/html": [
       "\n",
       "\n",
       "\n",
       "\n",
       "\n",
       "\n",
       "  <div class=\"bk-root\" id=\"9476f2cb-d250-441d-b593-30c0c03f8825\"></div>\n"
      ]
     },
     "metadata": {},
     "output_type": "display_data"
    },
    {
     "data": {
      "application/javascript": [
       "(function(root) {\n",
       "  function embed_document(root) {\n",
       "    \n",
       "  var docs_json = {\"20c5869c-2c81-410d-8b5e-9dc52a0d5044\":{\"roots\":{\"references\":[{\"attributes\":{},\"id\":\"7ba18783-9d14-4ba3-8fcd-4f973fa3d739\",\"type\":\"Selection\"},{\"attributes\":{\"end\":{\"id\":\"9ee67899-9382-4966-bfe0-8ab4b836a9a7\",\"type\":\"NormalHead\"},\"line_color\":{\"value\":\"orange\"},\"line_width\":{\"value\":3},\"plot\":{\"id\":\"4844e288-c64b-4f55-a488-4d848d868eae\",\"subtype\":\"Figure\",\"type\":\"Plot\"},\"source\":null,\"start\":null,\"x_end\":{\"value\":5.6},\"x_start\":{\"value\":0},\"y_end\":{\"value\":10.3},\"y_start\":{\"value\":0}},\"id\":\"6ad68663-0543-4f88-b54e-9e31f629dae1\",\"type\":\"Arrow\"},{\"attributes\":{\"below\":[{\"id\":\"fae2cdca-03cb-4a38-9f0e-8f1930e39ff8\",\"type\":\"LinearAxis\"}],\"left\":[{\"id\":\"2855408b-9280-4ed0-8005-5c1ee7db5580\",\"type\":\"LinearAxis\"}],\"plot_height\":400,\"plot_width\":400,\"renderers\":[{\"id\":\"fae2cdca-03cb-4a38-9f0e-8f1930e39ff8\",\"type\":\"LinearAxis\"},{\"id\":\"15044a62-4a96-48a7-baa9-21563ca1c891\",\"type\":\"Grid\"},{\"id\":\"2855408b-9280-4ed0-8005-5c1ee7db5580\",\"type\":\"LinearAxis\"},{\"id\":\"424575b5-f875-4fe2-bc49-5f49aafc1aad\",\"type\":\"Grid\"},{\"id\":\"9a6034a5-7c85-410a-995a-d1c63b072a2a\",\"type\":\"GlyphRenderer\"},{\"id\":\"b29b2995-5a53-4367-9f44-89e9e96a622c\",\"type\":\"GlyphRenderer\"},{\"id\":\"c94b5590-9169-479d-a8c9-c1733465fafd\",\"type\":\"Arrow\"},{\"id\":\"6e07cc7f-da8b-40a3-a547-60104f72f12f\",\"type\":\"Arrow\"},{\"id\":\"fe081ac4-7ca0-4590-857b-03916da2c696\",\"type\":\"Arrow\"},{\"id\":\"6ad68663-0543-4f88-b54e-9e31f629dae1\",\"type\":\"Arrow\"},{\"id\":\"fa45d558-6e87-4d03-8ac7-ea70c96961b3\",\"type\":\"Arrow\"}],\"title\":{\"id\":\"afc475bf-c05a-4c09-b493-240d182f1501\",\"type\":\"Title\"},\"toolbar\":{\"id\":\"3489014b-3545-418e-8e06-c2978407ca60\",\"type\":\"Toolbar\"},\"x_range\":{\"id\":\"320ba04e-0adb-4c9d-8dc8-bc39990f72f9\",\"type\":\"Range1d\"},\"x_scale\":{\"id\":\"c11bff31-9931-433e-ad0d-8552b125a022\",\"type\":\"LinearScale\"},\"y_range\":{\"id\":\"79298983-1458-4224-98fb-feae97ff93ad\",\"type\":\"Range1d\"},\"y_scale\":{\"id\":\"627f0837-31be-4646-901b-5c253972c28e\",\"type\":\"LinearScale\"}},\"id\":\"4844e288-c64b-4f55-a488-4d848d868eae\",\"subtype\":\"Figure\",\"type\":\"Plot\"},{\"attributes\":{\"end\":{\"id\":\"8c37f5f2-0d4f-44b4-823a-16da2a0b77a0\",\"type\":\"NormalHead\"},\"line_color\":{\"value\":\"purple\"},\"line_width\":{\"value\":3},\"plot\":{\"id\":\"4844e288-c64b-4f55-a488-4d848d868eae\",\"subtype\":\"Figure\",\"type\":\"Plot\"},\"source\":null,\"start\":null,\"x_end\":{\"value\":-4.2},\"x_start\":{\"value\":0},\"y_end\":{\"value\":-5.4},\"y_start\":{\"value\":0}},\"id\":\"fa45d558-6e87-4d03-8ac7-ea70c96961b3\",\"type\":\"Arrow\"},{\"attributes\":{\"line_width\":1.5,\"x\":{\"field\":\"x\"},\"y\":{\"field\":\"y\"}},\"id\":\"cbca6e67-ca1f-4e66-a537-30816118b020\",\"type\":\"Line\"},{\"attributes\":{},\"id\":\"358386ca-b88a-42bc-98cd-2edf5234b1d7\",\"type\":\"BasicTickFormatter\"},{\"attributes\":{},\"id\":\"f473462d-af61-421f-8157-47f7ec3ebb49\",\"type\":\"BasicTickFormatter\"},{\"attributes\":{\"active_drag\":\"auto\",\"active_inspect\":\"auto\",\"active_multi\":null,\"active_scroll\":\"auto\",\"active_tap\":\"auto\",\"tools\":[{\"id\":\"70803f96-500c-4cc6-b83f-de8dffe5b9ca\",\"type\":\"WheelZoomTool\"},{\"id\":\"fe5c5767-7699-4f82-b92e-b9e2c34ddbe1\",\"type\":\"PanTool\"},{\"id\":\"42d78810-3352-4c5f-90a1-5ce44f2b4dc0\",\"type\":\"ResetTool\"}]},\"id\":\"3489014b-3545-418e-8e06-c2978407ca60\",\"type\":\"Toolbar\"},{\"attributes\":{},\"id\":\"53996509-0cf0-4c67-8625-c7910e4e34d7\",\"type\":\"Selection\"},{\"attributes\":{\"callback\":null,\"end\":14.0,\"start\":-14.0},\"id\":\"320ba04e-0adb-4c9d-8dc8-bc39990f72f9\",\"type\":\"Range1d\"},{\"attributes\":{\"callback\":null,\"data\":{\"x\":[-20,20],\"y\":[0,0]},\"selected\":{\"id\":\"7ba18783-9d14-4ba3-8fcd-4f973fa3d739\",\"type\":\"Selection\"},\"selection_policy\":{\"id\":\"baac28be-6ded-4aae-a4db-69696d1af0ee\",\"type\":\"UnionRenderers\"}},\"id\":\"3c7a9122-4958-4e98-8388-04ed662adbe0\",\"type\":\"ColumnDataSource\"},{\"attributes\":{},\"id\":\"baac28be-6ded-4aae-a4db-69696d1af0ee\",\"type\":\"UnionRenderers\"},{\"attributes\":{\"callback\":null,\"end\":14.0,\"start\":-14.0},\"id\":\"79298983-1458-4224-98fb-feae97ff93ad\",\"type\":\"Range1d\"},{\"attributes\":{},\"id\":\"c11bff31-9931-433e-ad0d-8552b125a022\",\"type\":\"LinearScale\"},{\"attributes\":{},\"id\":\"627f0837-31be-4646-901b-5c253972c28e\",\"type\":\"LinearScale\"},{\"attributes\":{\"plot\":{\"id\":\"4844e288-c64b-4f55-a488-4d848d868eae\",\"subtype\":\"Figure\",\"type\":\"Plot\"},\"ticker\":{\"id\":\"8749be4b-b978-4299-9c70-b110aa4db8d3\",\"type\":\"BasicTicker\"}},\"id\":\"15044a62-4a96-48a7-baa9-21563ca1c891\",\"type\":\"Grid\"},{\"attributes\":{\"formatter\":{\"id\":\"358386ca-b88a-42bc-98cd-2edf5234b1d7\",\"type\":\"BasicTickFormatter\"},\"plot\":{\"id\":\"4844e288-c64b-4f55-a488-4d848d868eae\",\"subtype\":\"Figure\",\"type\":\"Plot\"},\"ticker\":{\"id\":\"8749be4b-b978-4299-9c70-b110aa4db8d3\",\"type\":\"BasicTicker\"}},\"id\":\"fae2cdca-03cb-4a38-9f0e-8f1930e39ff8\",\"type\":\"LinearAxis\"},{\"attributes\":{},\"id\":\"8749be4b-b978-4299-9c70-b110aa4db8d3\",\"type\":\"BasicTicker\"},{\"attributes\":{\"formatter\":{\"id\":\"f473462d-af61-421f-8157-47f7ec3ebb49\",\"type\":\"BasicTickFormatter\"},\"plot\":{\"id\":\"4844e288-c64b-4f55-a488-4d848d868eae\",\"subtype\":\"Figure\",\"type\":\"Plot\"},\"ticker\":{\"id\":\"564e2641-526b-46e1-b191-c05ebe64b57a\",\"type\":\"BasicTicker\"}},\"id\":\"2855408b-9280-4ed0-8005-5c1ee7db5580\",\"type\":\"LinearAxis\"},{\"attributes\":{},\"id\":\"564e2641-526b-46e1-b191-c05ebe64b57a\",\"type\":\"BasicTicker\"},{\"attributes\":{\"dimension\":1,\"plot\":{\"id\":\"4844e288-c64b-4f55-a488-4d848d868eae\",\"subtype\":\"Figure\",\"type\":\"Plot\"},\"ticker\":{\"id\":\"564e2641-526b-46e1-b191-c05ebe64b57a\",\"type\":\"BasicTicker\"}},\"id\":\"424575b5-f875-4fe2-bc49-5f49aafc1aad\",\"type\":\"Grid\"},{\"attributes\":{\"data_source\":{\"id\":\"47fc69ef-8478-4c94-9da8-48f2bf8a3785\",\"type\":\"ColumnDataSource\"},\"glyph\":{\"id\":\"cbca6e67-ca1f-4e66-a537-30816118b020\",\"type\":\"Line\"},\"hover_glyph\":null,\"muted_glyph\":null,\"nonselection_glyph\":{\"id\":\"46d50748-6981-45c1-9514-7dcc330eb7a2\",\"type\":\"Line\"},\"selection_glyph\":null,\"view\":{\"id\":\"43f87b0f-6368-4fbe-a9ca-733704eb4c19\",\"type\":\"CDSView\"}},\"id\":\"9a6034a5-7c85-410a-995a-d1c63b072a2a\",\"type\":\"GlyphRenderer\"},{\"attributes\":{},\"id\":\"70803f96-500c-4cc6-b83f-de8dffe5b9ca\",\"type\":\"WheelZoomTool\"},{\"attributes\":{\"source\":{\"id\":\"47fc69ef-8478-4c94-9da8-48f2bf8a3785\",\"type\":\"ColumnDataSource\"}},\"id\":\"43f87b0f-6368-4fbe-a9ca-733704eb4c19\",\"type\":\"CDSView\"},{\"attributes\":{},\"id\":\"fe5c5767-7699-4f82-b92e-b9e2c34ddbe1\",\"type\":\"PanTool\"},{\"attributes\":{\"callback\":null,\"data\":{\"x\":[0,0],\"y\":[-20,20]},\"selected\":{\"id\":\"53996509-0cf0-4c67-8625-c7910e4e34d7\",\"type\":\"Selection\"},\"selection_policy\":{\"id\":\"6eaf2b37-cdba-4d4c-b003-b7e7e8808ed6\",\"type\":\"UnionRenderers\"}},\"id\":\"47fc69ef-8478-4c94-9da8-48f2bf8a3785\",\"type\":\"ColumnDataSource\"},{\"attributes\":{},\"id\":\"42d78810-3352-4c5f-90a1-5ce44f2b4dc0\",\"type\":\"ResetTool\"},{\"attributes\":{\"line_alpha\":0.1,\"line_color\":\"#1f77b4\",\"line_width\":1.5,\"x\":{\"field\":\"x\"},\"y\":{\"field\":\"y\"}},\"id\":\"46d50748-6981-45c1-9514-7dcc330eb7a2\",\"type\":\"Line\"},{\"attributes\":{\"plot\":null,\"text\":\"\"},\"id\":\"afc475bf-c05a-4c09-b493-240d182f1501\",\"type\":\"Title\"},{\"attributes\":{\"line_width\":1.5,\"x\":{\"field\":\"x\"},\"y\":{\"field\":\"y\"}},\"id\":\"4558fd08-3ef5-45e4-bc48-fcb8e7702b6f\",\"type\":\"Line\"},{\"attributes\":{\"line_alpha\":0.1,\"line_color\":\"#1f77b4\",\"line_width\":1.5,\"x\":{\"field\":\"x\"},\"y\":{\"field\":\"y\"}},\"id\":\"c42ba514-3ef8-44bd-8151-75bc9e496852\",\"type\":\"Line\"},{\"attributes\":{\"fill_color\":{\"value\":\"blue\"},\"line_color\":{\"value\":\"blue\"},\"plot\":null,\"size\":10},\"id\":\"065425da-769d-4e61-9550-773d7e2f0d03\",\"type\":\"NormalHead\"},{\"attributes\":{\"data_source\":{\"id\":\"3c7a9122-4958-4e98-8388-04ed662adbe0\",\"type\":\"ColumnDataSource\"},\"glyph\":{\"id\":\"4558fd08-3ef5-45e4-bc48-fcb8e7702b6f\",\"type\":\"Line\"},\"hover_glyph\":null,\"muted_glyph\":null,\"nonselection_glyph\":{\"id\":\"c42ba514-3ef8-44bd-8151-75bc9e496852\",\"type\":\"Line\"},\"selection_glyph\":null,\"view\":{\"id\":\"8a24ccb2-342b-4564-8935-2b8c5093a590\",\"type\":\"CDSView\"}},\"id\":\"b29b2995-5a53-4367-9f44-89e9e96a622c\",\"type\":\"GlyphRenderer\"},{\"attributes\":{\"source\":{\"id\":\"3c7a9122-4958-4e98-8388-04ed662adbe0\",\"type\":\"ColumnDataSource\"}},\"id\":\"8a24ccb2-342b-4564-8935-2b8c5093a590\",\"type\":\"CDSView\"},{\"attributes\":{\"fill_color\":{\"value\":\"red\"},\"line_color\":{\"value\":\"red\"},\"plot\":null,\"size\":10},\"id\":\"a62a3d16-78b0-43c2-adae-e9c669570012\",\"type\":\"NormalHead\"},{\"attributes\":{},\"id\":\"6eaf2b37-cdba-4d4c-b003-b7e7e8808ed6\",\"type\":\"UnionRenderers\"},{\"attributes\":{\"end\":{\"id\":\"065425da-769d-4e61-9550-773d7e2f0d03\",\"type\":\"NormalHead\"},\"line_color\":{\"value\":\"blue\"},\"line_width\":{\"value\":3},\"plot\":{\"id\":\"4844e288-c64b-4f55-a488-4d848d868eae\",\"subtype\":\"Figure\",\"type\":\"Plot\"},\"source\":null,\"start\":null,\"x_end\":{\"value\":2},\"x_start\":{\"value\":0},\"y_end\":{\"value\":1},\"y_start\":{\"value\":0}},\"id\":\"c94b5590-9169-479d-a8c9-c1733465fafd\",\"type\":\"Arrow\"},{\"attributes\":{\"fill_color\":{\"value\":\"green\"},\"line_color\":{\"value\":\"green\"},\"plot\":null,\"size\":10},\"id\":\"7d4da56a-fc84-4a8b-9385-a50e47a6f483\",\"type\":\"NormalHead\"},{\"attributes\":{\"fill_color\":{\"value\":\"orange\"},\"line_color\":{\"value\":\"orange\"},\"plot\":null,\"size\":10},\"id\":\"9ee67899-9382-4966-bfe0-8ab4b836a9a7\",\"type\":\"NormalHead\"},{\"attributes\":{\"end\":{\"id\":\"a62a3d16-78b0-43c2-adae-e9c669570012\",\"type\":\"NormalHead\"},\"line_color\":{\"value\":\"red\"},\"line_width\":{\"value\":3},\"plot\":{\"id\":\"4844e288-c64b-4f55-a488-4d848d868eae\",\"subtype\":\"Figure\",\"type\":\"Plot\"},\"source\":null,\"start\":null,\"x_end\":{\"value\":1},\"x_start\":{\"value\":0},\"y_end\":{\"value\":2},\"y_start\":{\"value\":0}},\"id\":\"6e07cc7f-da8b-40a3-a547-60104f72f12f\",\"type\":\"Arrow\"},{\"attributes\":{\"fill_color\":{\"value\":\"purple\"},\"line_color\":{\"value\":\"purple\"},\"plot\":null,\"size\":10},\"id\":\"8c37f5f2-0d4f-44b4-823a-16da2a0b77a0\",\"type\":\"NormalHead\"},{\"attributes\":{\"end\":{\"id\":\"7d4da56a-fc84-4a8b-9385-a50e47a6f483\",\"type\":\"NormalHead\"},\"line_color\":{\"value\":\"green\"},\"line_width\":{\"value\":3},\"plot\":{\"id\":\"4844e288-c64b-4f55-a488-4d848d868eae\",\"subtype\":\"Figure\",\"type\":\"Plot\"},\"source\":null,\"start\":null,\"x_end\":{\"value\":-10},\"x_start\":{\"value\":0},\"y_end\":{\"value\":-8},\"y_start\":{\"value\":0}},\"id\":\"fe081ac4-7ca0-4590-857b-03916da2c696\",\"type\":\"Arrow\"}],\"root_ids\":[\"4844e288-c64b-4f55-a488-4d848d868eae\"]},\"title\":\"Bokeh Application\",\"version\":\"0.13.0\"}};\n",
       "  var render_items = [{\"docid\":\"20c5869c-2c81-410d-8b5e-9dc52a0d5044\",\"roots\":{\"4844e288-c64b-4f55-a488-4d848d868eae\":\"9476f2cb-d250-441d-b593-30c0c03f8825\"}}];\n",
       "  root.Bokeh.embed.embed_items_notebook(docs_json, render_items);\n",
       "\n",
       "  }\n",
       "  if (root.Bokeh !== undefined) {\n",
       "    embed_document(root);\n",
       "  } else {\n",
       "    var attempts = 0;\n",
       "    var timer = setInterval(function(root) {\n",
       "      if (root.Bokeh !== undefined) {\n",
       "        embed_document(root);\n",
       "        clearInterval(timer);\n",
       "      }\n",
       "      attempts++;\n",
       "      if (attempts > 100) {\n",
       "        console.log(\"Bokeh: ERROR: Unable to run BokehJS code because BokehJS library is missing\")\n",
       "        clearInterval(timer);\n",
       "      }\n",
       "    }, 10, root)\n",
       "  }\n",
       "})(window);"
      ],
      "application/vnd.bokehjs_exec.v0+json": ""
     },
     "metadata": {
      "application/vnd.bokehjs_exec.v0+json": {
       "id": "4844e288-c64b-4f55-a488-4d848d868eae"
      }
     },
     "output_type": "display_data"
    }
   ],
   "source": [
    "plot.clear()\n",
    "plot.graph(20)\n",
    "plot.vector(a)\n",
    "plot.vector(b)\n",
    "plot.vector(-4*a + -2*b)\n",
    "plot.vector(.3*a + 5*b)\n",
    "plot.vector(-1*a + -2.2*b)\n",
    "plot.show()"
   ]
  },
  {
   "cell_type": "markdown",
   "metadata": {},
   "source": [
    "Let's randomly generate a whole bunch of arbitrary constants for $\\vec{a}$ and $\\vec{b}$."
   ]
  },
  {
   "cell_type": "code",
   "execution_count": 19,
   "metadata": {},
   "outputs": [
    {
     "data": {
      "text/plain": [
       "array([4.29107984])"
      ]
     },
     "execution_count": 19,
     "metadata": {},
     "output_type": "execute_result"
    }
   ],
   "source": [
    "# We can draw random values from known distributions using Numpy\n",
    "\n",
    "# Here I'm drawing one value from a uniform distribution.\n",
    "np.random.uniform(low=-5,high=5,size=1)"
   ]
  },
  {
   "cell_type": "code",
   "execution_count": 20,
   "metadata": {},
   "outputs": [],
   "source": [
    "# Let's draw two random constants 50 times\n",
    "for i in range(50):\n",
    "    c1,c2 = np.random.uniform(low=-5,high=5,size=2)\n",
    "    plot.vector(c1*a + c2*b,add_color='black',alpha=.2)"
   ]
  },
  {
   "cell_type": "code",
   "execution_count": 21,
   "metadata": {},
   "outputs": [
    {
     "data": {
      "text/html": [
       "\n",
       "\n",
       "\n",
       "\n",
       "\n",
       "\n",
       "  <div class=\"bk-root\" id=\"56afa226-0421-42e1-9934-5e70d7427e38\"></div>\n"
      ]
     },
     "metadata": {},
     "output_type": "display_data"
    },
    {
     "data": {
      "application/javascript": [
       "(function(root) {\n",
       "  function embed_document(root) {\n",
       "    \n",
       "  var docs_json = {\"99e3e438-c64b-41cb-bc20-088e04c2af83\":{\"roots\":{\"references\":[{\"attributes\":{\"fill_alpha\":{\"value\":0.2},\"line_alpha\":{\"value\":0.2},\"plot\":null,\"size\":10},\"id\":\"28993be8-53e5-4a2a-aa8c-e53469fec8aa\",\"type\":\"NormalHead\"},{\"attributes\":{\"below\":[{\"id\":\"fae2cdca-03cb-4a38-9f0e-8f1930e39ff8\",\"type\":\"LinearAxis\"}],\"left\":[{\"id\":\"2855408b-9280-4ed0-8005-5c1ee7db5580\",\"type\":\"LinearAxis\"}],\"plot_height\":400,\"plot_width\":400,\"renderers\":[{\"id\":\"fae2cdca-03cb-4a38-9f0e-8f1930e39ff8\",\"type\":\"LinearAxis\"},{\"id\":\"15044a62-4a96-48a7-baa9-21563ca1c891\",\"type\":\"Grid\"},{\"id\":\"2855408b-9280-4ed0-8005-5c1ee7db5580\",\"type\":\"LinearAxis\"},{\"id\":\"424575b5-f875-4fe2-bc49-5f49aafc1aad\",\"type\":\"Grid\"},{\"id\":\"9a6034a5-7c85-410a-995a-d1c63b072a2a\",\"type\":\"GlyphRenderer\"},{\"id\":\"b29b2995-5a53-4367-9f44-89e9e96a622c\",\"type\":\"GlyphRenderer\"},{\"id\":\"c94b5590-9169-479d-a8c9-c1733465fafd\",\"type\":\"Arrow\"},{\"id\":\"6e07cc7f-da8b-40a3-a547-60104f72f12f\",\"type\":\"Arrow\"},{\"id\":\"fe081ac4-7ca0-4590-857b-03916da2c696\",\"type\":\"Arrow\"},{\"id\":\"6ad68663-0543-4f88-b54e-9e31f629dae1\",\"type\":\"Arrow\"},{\"id\":\"fa45d558-6e87-4d03-8ac7-ea70c96961b3\",\"type\":\"Arrow\"},{\"id\":\"52b631af-4d6c-4a0b-b8a5-0cddd8853e58\",\"type\":\"Arrow\"},{\"id\":\"f00d3e34-211a-4f5d-80ac-0174563b0adb\",\"type\":\"Arrow\"},{\"id\":\"666cfcd0-1c7e-408c-88f9-bea5a4fbed41\",\"type\":\"Arrow\"},{\"id\":\"f542f5a6-a58c-44c3-8aab-8f51e4c04fe1\",\"type\":\"Arrow\"},{\"id\":\"163f0f26-395c-4f97-9a8f-04717c4e230e\",\"type\":\"Arrow\"},{\"id\":\"f9a016ac-dd4e-4ed2-862c-4f3a55de69f8\",\"type\":\"Arrow\"},{\"id\":\"91db6282-65ba-429b-a076-33a99d33c52b\",\"type\":\"Arrow\"},{\"id\":\"96777712-2841-418d-b2cb-dfdbc5ffe9c8\",\"type\":\"Arrow\"},{\"id\":\"a10a482e-1ad5-4dc3-90ac-93314ba65ea2\",\"type\":\"Arrow\"},{\"id\":\"493e9e52-3d34-4ea8-a0d7-3034588e595d\",\"type\":\"Arrow\"},{\"id\":\"3424f106-384e-494b-8904-d4a2c09d5a9a\",\"type\":\"Arrow\"},{\"id\":\"d256ac58-5e0c-4ec4-8eb2-11d7c65f3e4e\",\"type\":\"Arrow\"},{\"id\":\"c21bb39a-aef6-4eef-9237-b3012cf278c3\",\"type\":\"Arrow\"},{\"id\":\"bdc7aeee-cfe6-4d58-84d6-b06540f9f111\",\"type\":\"Arrow\"},{\"id\":\"0338154e-5d3b-4f4c-bdc2-7c3296656099\",\"type\":\"Arrow\"},{\"id\":\"b9255b46-72da-4cfe-913c-76e1468b0ffe\",\"type\":\"Arrow\"},{\"id\":\"90d75c6f-62fe-4a88-9ebf-fe15347de2c4\",\"type\":\"Arrow\"},{\"id\":\"381a5dc4-51cf-4acc-b3f2-d1dec7e727b0\",\"type\":\"Arrow\"},{\"id\":\"aebc35ef-a70f-42e5-ac53-145784c6437d\",\"type\":\"Arrow\"},{\"id\":\"e162c87e-cd72-4e84-b23c-e0334dee1bed\",\"type\":\"Arrow\"},{\"id\":\"3fd5e422-8f77-4989-9fe1-58424c67825d\",\"type\":\"Arrow\"},{\"id\":\"1835c79b-9412-4a00-ae49-531b8310865b\",\"type\":\"Arrow\"},{\"id\":\"ebe869ec-7f4c-4d80-ae99-820c13978ce1\",\"type\":\"Arrow\"},{\"id\":\"c619e475-b25e-4e5d-88f3-564c346293e2\",\"type\":\"Arrow\"},{\"id\":\"46580e8c-17ed-4370-9f7c-d72318fc8153\",\"type\":\"Arrow\"},{\"id\":\"06ae2cec-a52d-41f2-84f6-e79bdb9ad1b5\",\"type\":\"Arrow\"},{\"id\":\"025782c6-d83f-49fd-ae10-fdf4eaef7326\",\"type\":\"Arrow\"},{\"id\":\"f77855fb-6c7f-4bfa-9f34-d1d02e340b8c\",\"type\":\"Arrow\"},{\"id\":\"4b41ac88-c949-42d5-a6ab-5e4d90bc3687\",\"type\":\"Arrow\"},{\"id\":\"d5ba735a-6109-4a46-8f08-e571aef04122\",\"type\":\"Arrow\"},{\"id\":\"e1b6bc97-7921-4b20-b78f-521e230bcb25\",\"type\":\"Arrow\"},{\"id\":\"a6d3eb5f-f390-4e54-aef1-391dcdfbed4e\",\"type\":\"Arrow\"},{\"id\":\"55dd7752-f205-4282-85ad-cc0f1c072a0f\",\"type\":\"Arrow\"},{\"id\":\"08dd042c-8a7f-429c-a0db-bead563649d4\",\"type\":\"Arrow\"},{\"id\":\"4c9e3b65-3229-49e4-a94b-b5ecdf598cf3\",\"type\":\"Arrow\"},{\"id\":\"70f7453f-f3dd-4e68-a0ac-b1bc88c07c6d\",\"type\":\"Arrow\"},{\"id\":\"2a5af8f5-5a7f-41e2-a577-0624ae74d9aa\",\"type\":\"Arrow\"},{\"id\":\"415f6c69-dea4-4ee2-b09e-20587c3e2ae5\",\"type\":\"Arrow\"},{\"id\":\"587c45c5-b9c3-40c6-8ccd-629eeae02b0a\",\"type\":\"Arrow\"},{\"id\":\"27be1ade-0769-4d47-984f-50c07d7bde9b\",\"type\":\"Arrow\"},{\"id\":\"547bfc2d-271d-46ac-a4e7-059802a53283\",\"type\":\"Arrow\"},{\"id\":\"bad0015e-a558-416d-8a30-807d5e6f9bf3\",\"type\":\"Arrow\"},{\"id\":\"63e70428-6245-421e-898c-5ae58a681ca6\",\"type\":\"Arrow\"},{\"id\":\"2a9ebdaa-3641-4cd8-8a1e-80feb2c7fe9e\",\"type\":\"Arrow\"},{\"id\":\"3cbf581b-6035-4337-aedd-958866cec869\",\"type\":\"Arrow\"},{\"id\":\"fd2e4d8a-ce72-4be3-9645-2b08587dff64\",\"type\":\"Arrow\"},{\"id\":\"5e7579bd-d616-47e8-9a6a-4ab74a39cce2\",\"type\":\"Arrow\"},{\"id\":\"8f1ab0eb-4548-4584-97c2-73180a6ba46d\",\"type\":\"Arrow\"},{\"id\":\"5665c298-1822-464f-8739-3bbca566cb44\",\"type\":\"Arrow\"},{\"id\":\"d15fa9b2-fac5-4bc9-8b0e-d85cd15824a2\",\"type\":\"Arrow\"}],\"title\":{\"id\":\"afc475bf-c05a-4c09-b493-240d182f1501\",\"type\":\"Title\"},\"toolbar\":{\"id\":\"3489014b-3545-418e-8e06-c2978407ca60\",\"type\":\"Toolbar\"},\"x_range\":{\"id\":\"320ba04e-0adb-4c9d-8dc8-bc39990f72f9\",\"type\":\"Range1d\"},\"x_scale\":{\"id\":\"c11bff31-9931-433e-ad0d-8552b125a022\",\"type\":\"LinearScale\"},\"y_range\":{\"id\":\"79298983-1458-4224-98fb-feae97ff93ad\",\"type\":\"Range1d\"},\"y_scale\":{\"id\":\"627f0837-31be-4646-901b-5c253972c28e\",\"type\":\"LinearScale\"}},\"id\":\"4844e288-c64b-4f55-a488-4d848d868eae\",\"subtype\":\"Figure\",\"type\":\"Plot\"},{\"attributes\":{\"line_width\":1.5,\"x\":{\"field\":\"x\"},\"y\":{\"field\":\"y\"}},\"id\":\"cbca6e67-ca1f-4e66-a537-30816118b020\",\"type\":\"Line\"},{\"attributes\":{\"active_drag\":\"auto\",\"active_inspect\":\"auto\",\"active_multi\":null,\"active_scroll\":\"auto\",\"active_tap\":\"auto\",\"tools\":[{\"id\":\"70803f96-500c-4cc6-b83f-de8dffe5b9ca\",\"type\":\"WheelZoomTool\"},{\"id\":\"fe5c5767-7699-4f82-b92e-b9e2c34ddbe1\",\"type\":\"PanTool\"},{\"id\":\"42d78810-3352-4c5f-90a1-5ce44f2b4dc0\",\"type\":\"ResetTool\"}]},\"id\":\"3489014b-3545-418e-8e06-c2978407ca60\",\"type\":\"Toolbar\"},{\"attributes\":{\"callback\":null,\"end\":14.0,\"start\":-14.0},\"id\":\"320ba04e-0adb-4c9d-8dc8-bc39990f72f9\",\"type\":\"Range1d\"},{\"attributes\":{\"callback\":null,\"data\":{\"x\":[-20,20],\"y\":[0,0]},\"selected\":{\"id\":\"7ba18783-9d14-4ba3-8fcd-4f973fa3d739\",\"type\":\"Selection\"},\"selection_policy\":{\"id\":\"baac28be-6ded-4aae-a4db-69696d1af0ee\",\"type\":\"UnionRenderers\"}},\"id\":\"3c7a9122-4958-4e98-8388-04ed662adbe0\",\"type\":\"ColumnDataSource\"},{\"attributes\":{\"callback\":null,\"end\":14.0,\"start\":-14.0},\"id\":\"79298983-1458-4224-98fb-feae97ff93ad\",\"type\":\"Range1d\"},{\"attributes\":{},\"id\":\"c11bff31-9931-433e-ad0d-8552b125a022\",\"type\":\"LinearScale\"},{\"attributes\":{},\"id\":\"627f0837-31be-4646-901b-5c253972c28e\",\"type\":\"LinearScale\"},{\"attributes\":{\"plot\":{\"id\":\"4844e288-c64b-4f55-a488-4d848d868eae\",\"subtype\":\"Figure\",\"type\":\"Plot\"},\"ticker\":{\"id\":\"8749be4b-b978-4299-9c70-b110aa4db8d3\",\"type\":\"BasicTicker\"}},\"id\":\"15044a62-4a96-48a7-baa9-21563ca1c891\",\"type\":\"Grid\"},{\"attributes\":{\"formatter\":{\"id\":\"358386ca-b88a-42bc-98cd-2edf5234b1d7\",\"type\":\"BasicTickFormatter\"},\"plot\":{\"id\":\"4844e288-c64b-4f55-a488-4d848d868eae\",\"subtype\":\"Figure\",\"type\":\"Plot\"},\"ticker\":{\"id\":\"8749be4b-b978-4299-9c70-b110aa4db8d3\",\"type\":\"BasicTicker\"}},\"id\":\"fae2cdca-03cb-4a38-9f0e-8f1930e39ff8\",\"type\":\"LinearAxis\"},{\"attributes\":{},\"id\":\"8749be4b-b978-4299-9c70-b110aa4db8d3\",\"type\":\"BasicTicker\"},{\"attributes\":{\"formatter\":{\"id\":\"f473462d-af61-421f-8157-47f7ec3ebb49\",\"type\":\"BasicTickFormatter\"},\"plot\":{\"id\":\"4844e288-c64b-4f55-a488-4d848d868eae\",\"subtype\":\"Figure\",\"type\":\"Plot\"},\"ticker\":{\"id\":\"564e2641-526b-46e1-b191-c05ebe64b57a\",\"type\":\"BasicTicker\"}},\"id\":\"2855408b-9280-4ed0-8005-5c1ee7db5580\",\"type\":\"LinearAxis\"},{\"attributes\":{},\"id\":\"564e2641-526b-46e1-b191-c05ebe64b57a\",\"type\":\"BasicTicker\"},{\"attributes\":{\"dimension\":1,\"plot\":{\"id\":\"4844e288-c64b-4f55-a488-4d848d868eae\",\"subtype\":\"Figure\",\"type\":\"Plot\"},\"ticker\":{\"id\":\"564e2641-526b-46e1-b191-c05ebe64b57a\",\"type\":\"BasicTicker\"}},\"id\":\"424575b5-f875-4fe2-bc49-5f49aafc1aad\",\"type\":\"Grid\"},{\"attributes\":{\"data_source\":{\"id\":\"47fc69ef-8478-4c94-9da8-48f2bf8a3785\",\"type\":\"ColumnDataSource\"},\"glyph\":{\"id\":\"cbca6e67-ca1f-4e66-a537-30816118b020\",\"type\":\"Line\"},\"hover_glyph\":null,\"muted_glyph\":null,\"nonselection_glyph\":{\"id\":\"46d50748-6981-45c1-9514-7dcc330eb7a2\",\"type\":\"Line\"},\"selection_glyph\":null,\"view\":{\"id\":\"43f87b0f-6368-4fbe-a9ca-733704eb4c19\",\"type\":\"CDSView\"}},\"id\":\"9a6034a5-7c85-410a-995a-d1c63b072a2a\",\"type\":\"GlyphRenderer\"},{\"attributes\":{},\"id\":\"70803f96-500c-4cc6-b83f-de8dffe5b9ca\",\"type\":\"WheelZoomTool\"},{\"attributes\":{\"source\":{\"id\":\"47fc69ef-8478-4c94-9da8-48f2bf8a3785\",\"type\":\"ColumnDataSource\"}},\"id\":\"43f87b0f-6368-4fbe-a9ca-733704eb4c19\",\"type\":\"CDSView\"},{\"attributes\":{},\"id\":\"fe5c5767-7699-4f82-b92e-b9e2c34ddbe1\",\"type\":\"PanTool\"},{\"attributes\":{},\"id\":\"42d78810-3352-4c5f-90a1-5ce44f2b4dc0\",\"type\":\"ResetTool\"},{\"attributes\":{\"line_alpha\":0.1,\"line_color\":\"#1f77b4\",\"line_width\":1.5,\"x\":{\"field\":\"x\"},\"y\":{\"field\":\"y\"}},\"id\":\"46d50748-6981-45c1-9514-7dcc330eb7a2\",\"type\":\"Line\"},{\"attributes\":{\"plot\":null,\"text\":\"\"},\"id\":\"afc475bf-c05a-4c09-b493-240d182f1501\",\"type\":\"Title\"},{\"attributes\":{\"line_width\":1.5,\"x\":{\"field\":\"x\"},\"y\":{\"field\":\"y\"}},\"id\":\"4558fd08-3ef5-45e4-bc48-fcb8e7702b6f\",\"type\":\"Line\"},{\"attributes\":{\"fill_alpha\":{\"value\":0.2},\"line_alpha\":{\"value\":0.2},\"plot\":null,\"size\":10},\"id\":\"593f4a23-05f6-4e0b-b52f-50dc85a6c68e\",\"type\":\"NormalHead\"},{\"attributes\":{\"line_alpha\":0.1,\"line_color\":\"#1f77b4\",\"line_width\":1.5,\"x\":{\"field\":\"x\"},\"y\":{\"field\":\"y\"}},\"id\":\"c42ba514-3ef8-44bd-8151-75bc9e496852\",\"type\":\"Line\"},{\"attributes\":{\"fill_color\":{\"value\":\"blue\"},\"line_color\":{\"value\":\"blue\"},\"plot\":null,\"size\":10},\"id\":\"065425da-769d-4e61-9550-773d7e2f0d03\",\"type\":\"NormalHead\"},{\"attributes\":{\"data_source\":{\"id\":\"3c7a9122-4958-4e98-8388-04ed662adbe0\",\"type\":\"ColumnDataSource\"},\"glyph\":{\"id\":\"4558fd08-3ef5-45e4-bc48-fcb8e7702b6f\",\"type\":\"Line\"},\"hover_glyph\":null,\"muted_glyph\":null,\"nonselection_glyph\":{\"id\":\"c42ba514-3ef8-44bd-8151-75bc9e496852\",\"type\":\"Line\"},\"selection_glyph\":null,\"view\":{\"id\":\"8a24ccb2-342b-4564-8935-2b8c5093a590\",\"type\":\"CDSView\"}},\"id\":\"b29b2995-5a53-4367-9f44-89e9e96a622c\",\"type\":\"GlyphRenderer\"},{\"attributes\":{\"source\":{\"id\":\"3c7a9122-4958-4e98-8388-04ed662adbe0\",\"type\":\"ColumnDataSource\"}},\"id\":\"8a24ccb2-342b-4564-8935-2b8c5093a590\",\"type\":\"CDSView\"},{\"attributes\":{\"fill_color\":{\"value\":\"red\"},\"line_color\":{\"value\":\"red\"},\"plot\":null,\"size\":10},\"id\":\"a62a3d16-78b0-43c2-adae-e9c669570012\",\"type\":\"NormalHead\"},{\"attributes\":{\"end\":{\"id\":\"065425da-769d-4e61-9550-773d7e2f0d03\",\"type\":\"NormalHead\"},\"line_color\":{\"value\":\"blue\"},\"line_width\":{\"value\":3},\"plot\":{\"id\":\"4844e288-c64b-4f55-a488-4d848d868eae\",\"subtype\":\"Figure\",\"type\":\"Plot\"},\"source\":null,\"start\":null,\"x_end\":{\"value\":2},\"x_start\":{\"value\":0},\"y_end\":{\"value\":1},\"y_start\":{\"value\":0}},\"id\":\"c94b5590-9169-479d-a8c9-c1733465fafd\",\"type\":\"Arrow\"},{\"attributes\":{\"fill_color\":{\"value\":\"green\"},\"line_color\":{\"value\":\"green\"},\"plot\":null,\"size\":10},\"id\":\"7d4da56a-fc84-4a8b-9385-a50e47a6f483\",\"type\":\"NormalHead\"},{\"attributes\":{\"fill_color\":{\"value\":\"orange\"},\"line_color\":{\"value\":\"orange\"},\"plot\":null,\"size\":10},\"id\":\"9ee67899-9382-4966-bfe0-8ab4b836a9a7\",\"type\":\"NormalHead\"},{\"attributes\":{\"end\":{\"id\":\"a62a3d16-78b0-43c2-adae-e9c669570012\",\"type\":\"NormalHead\"},\"line_color\":{\"value\":\"red\"},\"line_width\":{\"value\":3},\"plot\":{\"id\":\"4844e288-c64b-4f55-a488-4d848d868eae\",\"subtype\":\"Figure\",\"type\":\"Plot\"},\"source\":null,\"start\":null,\"x_end\":{\"value\":1},\"x_start\":{\"value\":0},\"y_end\":{\"value\":2},\"y_start\":{\"value\":0}},\"id\":\"6e07cc7f-da8b-40a3-a547-60104f72f12f\",\"type\":\"Arrow\"},{\"attributes\":{\"fill_color\":{\"value\":\"purple\"},\"line_color\":{\"value\":\"purple\"},\"plot\":null,\"size\":10},\"id\":\"8c37f5f2-0d4f-44b4-823a-16da2a0b77a0\",\"type\":\"NormalHead\"},{\"attributes\":{\"end\":{\"id\":\"7d4da56a-fc84-4a8b-9385-a50e47a6f483\",\"type\":\"NormalHead\"},\"line_color\":{\"value\":\"green\"},\"line_width\":{\"value\":3},\"plot\":{\"id\":\"4844e288-c64b-4f55-a488-4d848d868eae\",\"subtype\":\"Figure\",\"type\":\"Plot\"},\"source\":null,\"start\":null,\"x_end\":{\"value\":-10},\"x_start\":{\"value\":0},\"y_end\":{\"value\":-8},\"y_start\":{\"value\":0}},\"id\":\"fe081ac4-7ca0-4590-857b-03916da2c696\",\"type\":\"Arrow\"},{\"attributes\":{\"fill_alpha\":{\"value\":0.2},\"line_alpha\":{\"value\":0.2},\"plot\":null,\"size\":10},\"id\":\"1ea78686-9b5a-495a-95b1-c167e196c38b\",\"type\":\"NormalHead\"},{\"attributes\":{\"end\":{\"id\":\"9ee67899-9382-4966-bfe0-8ab4b836a9a7\",\"type\":\"NormalHead\"},\"line_color\":{\"value\":\"orange\"},\"line_width\":{\"value\":3},\"plot\":{\"id\":\"4844e288-c64b-4f55-a488-4d848d868eae\",\"subtype\":\"Figure\",\"type\":\"Plot\"},\"source\":null,\"start\":null,\"x_end\":{\"value\":5.6},\"x_start\":{\"value\":0},\"y_end\":{\"value\":10.3},\"y_start\":{\"value\":0}},\"id\":\"6ad68663-0543-4f88-b54e-9e31f629dae1\",\"type\":\"Arrow\"},{\"attributes\":{\"end\":{\"id\":\"8c37f5f2-0d4f-44b4-823a-16da2a0b77a0\",\"type\":\"NormalHead\"},\"line_color\":{\"value\":\"purple\"},\"line_width\":{\"value\":3},\"plot\":{\"id\":\"4844e288-c64b-4f55-a488-4d848d868eae\",\"subtype\":\"Figure\",\"type\":\"Plot\"},\"source\":null,\"start\":null,\"x_end\":{\"value\":-4.2},\"x_start\":{\"value\":0},\"y_end\":{\"value\":-5.4},\"y_start\":{\"value\":0}},\"id\":\"fa45d558-6e87-4d03-8ac7-ea70c96961b3\",\"type\":\"Arrow\"},{\"attributes\":{},\"id\":\"358386ca-b88a-42bc-98cd-2edf5234b1d7\",\"type\":\"BasicTickFormatter\"},{\"attributes\":{},\"id\":\"f473462d-af61-421f-8157-47f7ec3ebb49\",\"type\":\"BasicTickFormatter\"},{\"attributes\":{},\"id\":\"53996509-0cf0-4c67-8625-c7910e4e34d7\",\"type\":\"Selection\"},{\"attributes\":{\"fill_alpha\":{\"value\":0.2},\"line_alpha\":{\"value\":0.2},\"plot\":null,\"size\":10},\"id\":\"658b9457-7c32-4bc5-bc96-7a49fb033433\",\"type\":\"NormalHead\"},{\"attributes\":{},\"id\":\"baac28be-6ded-4aae-a4db-69696d1af0ee\",\"type\":\"UnionRenderers\"},{\"attributes\":{\"fill_alpha\":{\"value\":0.2},\"line_alpha\":{\"value\":0.2},\"plot\":null,\"size\":10},\"id\":\"4dc3e933-b7ed-4660-8e41-335c1ac76d25\",\"type\":\"NormalHead\"},{\"attributes\":{\"fill_alpha\":{\"value\":0.2},\"line_alpha\":{\"value\":0.2},\"plot\":null,\"size\":10},\"id\":\"8ccf5f17-f227-4f0c-a595-c836a17896c6\",\"type\":\"NormalHead\"},{\"attributes\":{\"end\":{\"id\":\"1ea78686-9b5a-495a-95b1-c167e196c38b\",\"type\":\"NormalHead\"},\"line_alpha\":{\"value\":0.2},\"line_width\":{\"value\":3},\"plot\":{\"id\":\"4844e288-c64b-4f55-a488-4d848d868eae\",\"subtype\":\"Figure\",\"type\":\"Plot\"},\"source\":null,\"start\":null,\"x_end\":{\"value\":3.6903628785417517},\"x_start\":{\"value\":0},\"y_end\":{\"value\":6.5118486403200535},\"y_start\":{\"value\":0}},\"id\":\"f00d3e34-211a-4f5d-80ac-0174563b0adb\",\"type\":\"Arrow\"},{\"attributes\":{\"end\":{\"id\":\"8ccf5f17-f227-4f0c-a595-c836a17896c6\",\"type\":\"NormalHead\"},\"line_alpha\":{\"value\":0.2},\"line_width\":{\"value\":3},\"plot\":{\"id\":\"4844e288-c64b-4f55-a488-4d848d868eae\",\"subtype\":\"Figure\",\"type\":\"Plot\"},\"source\":null,\"start\":null,\"x_end\":{\"value\":1.941803928881944},\"x_start\":{\"value\":0},\"y_end\":{\"value\":4.585958461818109},\"y_start\":{\"value\":0}},\"id\":\"52b631af-4d6c-4a0b-b8a5-0cddd8853e58\",\"type\":\"Arrow\"},{\"attributes\":{\"end\":{\"id\":\"647f69e9-13ab-498c-8542-51d8dc655ab4\",\"type\":\"NormalHead\"},\"line_alpha\":{\"value\":0.2},\"line_width\":{\"value\":3},\"plot\":{\"id\":\"4844e288-c64b-4f55-a488-4d848d868eae\",\"subtype\":\"Figure\",\"type\":\"Plot\"},\"source\":null,\"start\":null,\"x_end\":{\"value\":-5.238568335468112},\"x_start\":{\"value\":0},\"y_end\":{\"value\":0.5951068977588556},\"y_start\":{\"value\":0}},\"id\":\"381a5dc4-51cf-4acc-b3f2-d1dec7e727b0\",\"type\":\"Arrow\"},{\"attributes\":{\"fill_alpha\":{\"value\":0.2},\"line_alpha\":{\"value\":0.2},\"plot\":null,\"size\":10},\"id\":\"6c729983-e37b-4a1a-ad4c-ee2da4e943a0\",\"type\":\"NormalHead\"},{\"attributes\":{},\"id\":\"7ba18783-9d14-4ba3-8fcd-4f973fa3d739\",\"type\":\"Selection\"},{\"attributes\":{\"end\":{\"id\":\"5cb04803-9f1e-4600-9e1d-3fe2820161b7\",\"type\":\"NormalHead\"},\"line_alpha\":{\"value\":0.2},\"line_width\":{\"value\":3},\"plot\":{\"id\":\"4844e288-c64b-4f55-a488-4d848d868eae\",\"subtype\":\"Figure\",\"type\":\"Plot\"},\"source\":null,\"start\":null,\"x_end\":{\"value\":7.480837051004754},\"x_start\":{\"value\":0},\"y_end\":{\"value\":5.774550369390441},\"y_start\":{\"value\":0}},\"id\":\"06ae2cec-a52d-41f2-84f6-e79bdb9ad1b5\",\"type\":\"Arrow\"},{\"attributes\":{\"fill_alpha\":{\"value\":0.2},\"line_alpha\":{\"value\":0.2},\"plot\":null,\"size\":10},\"id\":\"72c57b65-03c2-4686-852d-ae7789d2af85\",\"type\":\"NormalHead\"},{\"attributes\":{\"end\":{\"id\":\"6c729983-e37b-4a1a-ad4c-ee2da4e943a0\",\"type\":\"NormalHead\"},\"line_alpha\":{\"value\":0.2},\"line_width\":{\"value\":3},\"plot\":{\"id\":\"4844e288-c64b-4f55-a488-4d848d868eae\",\"subtype\":\"Figure\",\"type\":\"Plot\"},\"source\":null,\"start\":null,\"x_end\":{\"value\":3.623403479077088},\"x_start\":{\"value\":0},\"y_end\":{\"value\":5.0943189312517125},\"y_start\":{\"value\":0}},\"id\":\"025782c6-d83f-49fd-ae10-fdf4eaef7326\",\"type\":\"Arrow\"},{\"attributes\":{\"fill_alpha\":{\"value\":0.2},\"line_alpha\":{\"value\":0.2},\"plot\":null,\"size\":10},\"id\":\"cccd3e36-bfbe-479a-92ea-3b36d964c9a9\",\"type\":\"NormalHead\"},{\"attributes\":{\"end\":{\"id\":\"72c57b65-03c2-4686-852d-ae7789d2af85\",\"type\":\"NormalHead\"},\"line_alpha\":{\"value\":0.2},\"line_width\":{\"value\":3},\"plot\":{\"id\":\"4844e288-c64b-4f55-a488-4d848d868eae\",\"subtype\":\"Figure\",\"type\":\"Plot\"},\"source\":null,\"start\":null,\"x_end\":{\"value\":6.658918819689406},\"x_start\":{\"value\":0},\"y_end\":{\"value\":3.38651920357486},\"y_start\":{\"value\":0}},\"id\":\"f77855fb-6c7f-4bfa-9f34-d1d02e340b8c\",\"type\":\"Arrow\"},{\"attributes\":{\"fill_alpha\":{\"value\":0.2},\"line_alpha\":{\"value\":0.2},\"plot\":null,\"size\":10},\"id\":\"b67f389d-9528-42b5-b6be-f32cc9a825bf\",\"type\":\"NormalHead\"},{\"attributes\":{\"end\":{\"id\":\"cccd3e36-bfbe-479a-92ea-3b36d964c9a9\",\"type\":\"NormalHead\"},\"line_alpha\":{\"value\":0.2},\"line_width\":{\"value\":3},\"plot\":{\"id\":\"4844e288-c64b-4f55-a488-4d848d868eae\",\"subtype\":\"Figure\",\"type\":\"Plot\"},\"source\":null,\"start\":null,\"x_end\":{\"value\":6.867602755297019},\"x_start\":{\"value\":0},\"y_end\":{\"value\":10.305161869118216},\"y_start\":{\"value\":0}},\"id\":\"4b41ac88-c949-42d5-a6ab-5e4d90bc3687\",\"type\":\"Arrow\"},{\"attributes\":{\"fill_alpha\":{\"value\":0.2},\"line_alpha\":{\"value\":0.2},\"plot\":null,\"size\":10},\"id\":\"5cb04803-9f1e-4600-9e1d-3fe2820161b7\",\"type\":\"NormalHead\"},{\"attributes\":{\"fill_alpha\":{\"value\":0.2},\"line_alpha\":{\"value\":0.2},\"plot\":null,\"size\":10},\"id\":\"fe9a9104-27d3-4013-9354-767d1cf8081c\",\"type\":\"NormalHead\"},{\"attributes\":{\"end\":{\"id\":\"b67f389d-9528-42b5-b6be-f32cc9a825bf\",\"type\":\"NormalHead\"},\"line_alpha\":{\"value\":0.2},\"line_width\":{\"value\":3},\"plot\":{\"id\":\"4844e288-c64b-4f55-a488-4d848d868eae\",\"subtype\":\"Figure\",\"type\":\"Plot\"},\"source\":null,\"start\":null,\"x_end\":{\"value\":-3.9972715034070596},\"x_start\":{\"value\":0},\"y_end\":{\"value\":-5.783177081016043},\"y_start\":{\"value\":0}},\"id\":\"d5ba735a-6109-4a46-8f08-e571aef04122\",\"type\":\"Arrow\"},{\"attributes\":{\"fill_alpha\":{\"value\":0.2},\"line_alpha\":{\"value\":0.2},\"plot\":null,\"size\":10},\"id\":\"e2aaaa65-f647-4b6d-9e4f-e5df05a42409\",\"type\":\"NormalHead\"},{\"attributes\":{\"end\":{\"id\":\"fe9a9104-27d3-4013-9354-767d1cf8081c\",\"type\":\"NormalHead\"},\"line_alpha\":{\"value\":0.2},\"line_width\":{\"value\":3},\"plot\":{\"id\":\"4844e288-c64b-4f55-a488-4d848d868eae\",\"subtype\":\"Figure\",\"type\":\"Plot\"},\"source\":null,\"start\":null,\"x_end\":{\"value\":-1.0905013612459573},\"x_start\":{\"value\":0},\"y_end\":{\"value\":2.9257029719864986},\"y_start\":{\"value\":0}},\"id\":\"e1b6bc97-7921-4b20-b78f-521e230bcb25\",\"type\":\"Arrow\"},{\"attributes\":{\"fill_alpha\":{\"value\":0.2},\"line_alpha\":{\"value\":0.2},\"plot\":null,\"size\":10},\"id\":\"5f91cc35-0945-4229-bde8-3377e43b5884\",\"type\":\"NormalHead\"},{\"attributes\":{\"end\":{\"id\":\"e2aaaa65-f647-4b6d-9e4f-e5df05a42409\",\"type\":\"NormalHead\"},\"line_alpha\":{\"value\":0.2},\"line_width\":{\"value\":3},\"plot\":{\"id\":\"4844e288-c64b-4f55-a488-4d848d868eae\",\"subtype\":\"Figure\",\"type\":\"Plot\"},\"source\":null,\"start\":null,\"x_end\":{\"value\":8.908514657356472},\"x_start\":{\"value\":0},\"y_end\":{\"value\":9.079391011708033},\"y_start\":{\"value\":0}},\"id\":\"a6d3eb5f-f390-4e54-aef1-391dcdfbed4e\",\"type\":\"Arrow\"},{\"attributes\":{\"fill_alpha\":{\"value\":0.2},\"line_alpha\":{\"value\":0.2},\"plot\":null,\"size\":10},\"id\":\"415a05a5-04e4-479d-81fb-a08c3af89eac\",\"type\":\"NormalHead\"},{\"attributes\":{\"end\":{\"id\":\"5f91cc35-0945-4229-bde8-3377e43b5884\",\"type\":\"NormalHead\"},\"line_alpha\":{\"value\":0.2},\"line_width\":{\"value\":3},\"plot\":{\"id\":\"4844e288-c64b-4f55-a488-4d848d868eae\",\"subtype\":\"Figure\",\"type\":\"Plot\"},\"source\":null,\"start\":null,\"x_end\":{\"value\":-3.207672961674696},\"x_start\":{\"value\":0},\"y_end\":{\"value\":5.074785598121546},\"y_start\":{\"value\":0}},\"id\":\"55dd7752-f205-4282-85ad-cc0f1c072a0f\",\"type\":\"Arrow\"},{\"attributes\":{\"fill_alpha\":{\"value\":0.2},\"line_alpha\":{\"value\":0.2},\"plot\":null,\"size\":10},\"id\":\"b7c3b9ac-7ebd-45ad-8920-b8d2571de466\",\"type\":\"NormalHead\"},{\"attributes\":{\"end\":{\"id\":\"415a05a5-04e4-479d-81fb-a08c3af89eac\",\"type\":\"NormalHead\"},\"line_alpha\":{\"value\":0.2},\"line_width\":{\"value\":3},\"plot\":{\"id\":\"4844e288-c64b-4f55-a488-4d848d868eae\",\"subtype\":\"Figure\",\"type\":\"Plot\"},\"source\":null,\"start\":null,\"x_end\":{\"value\":-7.574813425518045},\"x_start\":{\"value\":0},\"y_end\":{\"value\":-4.841458239313031},\"y_start\":{\"value\":0}},\"id\":\"08dd042c-8a7f-429c-a0db-bead563649d4\",\"type\":\"Arrow\"},{\"attributes\":{\"fill_alpha\":{\"value\":0.2},\"line_alpha\":{\"value\":0.2},\"plot\":null,\"size\":10},\"id\":\"dcaa6517-11f3-48cd-9168-f4df7a024693\",\"type\":\"NormalHead\"},{\"attributes\":{\"end\":{\"id\":\"b7c3b9ac-7ebd-45ad-8920-b8d2571de466\",\"type\":\"NormalHead\"},\"line_alpha\":{\"value\":0.2},\"line_width\":{\"value\":3},\"plot\":{\"id\":\"4844e288-c64b-4f55-a488-4d848d868eae\",\"subtype\":\"Figure\",\"type\":\"Plot\"},\"source\":null,\"start\":null,\"x_end\":{\"value\":9.246064565752508},\"x_start\":{\"value\":0},\"y_end\":{\"value\":5.5400267909411465},\"y_start\":{\"value\":0}},\"id\":\"4c9e3b65-3229-49e4-a94b-b5ecdf598cf3\",\"type\":\"Arrow\"},{\"attributes\":{\"fill_alpha\":{\"value\":0.2},\"line_alpha\":{\"value\":0.2},\"plot\":null,\"size\":10},\"id\":\"fe7ff98f-d548-4566-8cc7-8a44aa5c8439\",\"type\":\"NormalHead\"},{\"attributes\":{\"end\":{\"id\":\"dcaa6517-11f3-48cd-9168-f4df7a024693\",\"type\":\"NormalHead\"},\"line_alpha\":{\"value\":0.2},\"line_width\":{\"value\":3},\"plot\":{\"id\":\"4844e288-c64b-4f55-a488-4d848d868eae\",\"subtype\":\"Figure\",\"type\":\"Plot\"},\"source\":null,\"start\":null,\"x_end\":{\"value\":-0.7390458797061958},\"x_start\":{\"value\":0},\"y_end\":{\"value\":6.822789558775023},\"y_start\":{\"value\":0}},\"id\":\"70f7453f-f3dd-4e68-a0ac-b1bc88c07c6d\",\"type\":\"Arrow\"},{\"attributes\":{\"fill_alpha\":{\"value\":0.2},\"line_alpha\":{\"value\":0.2},\"plot\":null,\"size\":10},\"id\":\"a1af7783-8eaf-4013-a92e-d5a050f0db0c\",\"type\":\"NormalHead\"},{\"attributes\":{\"end\":{\"id\":\"fe7ff98f-d548-4566-8cc7-8a44aa5c8439\",\"type\":\"NormalHead\"},\"line_alpha\":{\"value\":0.2},\"line_width\":{\"value\":3},\"plot\":{\"id\":\"4844e288-c64b-4f55-a488-4d848d868eae\",\"subtype\":\"Figure\",\"type\":\"Plot\"},\"source\":null,\"start\":null,\"x_end\":{\"value\":1.1000641532324327},\"x_start\":{\"value\":0},\"y_end\":{\"value\":0.11567187086849096},\"y_start\":{\"value\":0}},\"id\":\"2a5af8f5-5a7f-41e2-a577-0624ae74d9aa\",\"type\":\"Arrow\"},{\"attributes\":{\"end\":{\"id\":\"593f4a23-05f6-4e0b-b52f-50dc85a6c68e\",\"type\":\"NormalHead\"},\"line_alpha\":{\"value\":0.2},\"line_width\":{\"value\":3},\"plot\":{\"id\":\"4844e288-c64b-4f55-a488-4d848d868eae\",\"subtype\":\"Figure\",\"type\":\"Plot\"},\"source\":null,\"start\":null,\"x_end\":{\"value\":0.05975718504627725},\"x_start\":{\"value\":0},\"y_end\":{\"value\":3.149020974733305},\"y_start\":{\"value\":0}},\"id\":\"666cfcd0-1c7e-408c-88f9-bea5a4fbed41\",\"type\":\"Arrow\"},{\"attributes\":{\"fill_alpha\":{\"value\":0.2},\"line_alpha\":{\"value\":0.2},\"plot\":null,\"size\":10},\"id\":\"d7c42d93-2aca-4555-9972-eeb551f0421f\",\"type\":\"NormalHead\"},{\"attributes\":{\"end\":{\"id\":\"a1af7783-8eaf-4013-a92e-d5a050f0db0c\",\"type\":\"NormalHead\"},\"line_alpha\":{\"value\":0.2},\"line_width\":{\"value\":3},\"plot\":{\"id\":\"4844e288-c64b-4f55-a488-4d848d868eae\",\"subtype\":\"Figure\",\"type\":\"Plot\"},\"source\":null,\"start\":null,\"x_end\":{\"value\":-8.055283183799396},\"x_start\":{\"value\":0},\"y_end\":{\"value\":-7.30140436557863},\"y_start\":{\"value\":0}},\"id\":\"415f6c69-dea4-4ee2-b09e-20587c3e2ae5\",\"type\":\"Arrow\"},{\"attributes\":{\"fill_alpha\":{\"value\":0.2},\"line_alpha\":{\"value\":0.2},\"plot\":null,\"size\":10},\"id\":\"075e607f-c62c-4d20-9ed7-e1ab15c48bda\",\"type\":\"NormalHead\"},{\"attributes\":{\"end\":{\"id\":\"d7c42d93-2aca-4555-9972-eeb551f0421f\",\"type\":\"NormalHead\"},\"line_alpha\":{\"value\":0.2},\"line_width\":{\"value\":3},\"plot\":{\"id\":\"4844e288-c64b-4f55-a488-4d848d868eae\",\"subtype\":\"Figure\",\"type\":\"Plot\"},\"source\":null,\"start\":null,\"x_end\":{\"value\":-10.81310396903606},\"x_start\":{\"value\":0},\"y_end\":{\"value\":-8.11108559402723},\"y_start\":{\"value\":0}},\"id\":\"587c45c5-b9c3-40c6-8ccd-629eeae02b0a\",\"type\":\"Arrow\"},{\"attributes\":{\"fill_alpha\":{\"value\":0.2},\"line_alpha\":{\"value\":0.2},\"plot\":null,\"size\":10},\"id\":\"7df8761f-66a5-41ba-b996-ce7d45199100\",\"type\":\"NormalHead\"},{\"attributes\":{},\"id\":\"6eaf2b37-cdba-4d4c-b003-b7e7e8808ed6\",\"type\":\"UnionRenderers\"},{\"attributes\":{\"end\":{\"id\":\"075e607f-c62c-4d20-9ed7-e1ab15c48bda\",\"type\":\"NormalHead\"},\"line_alpha\":{\"value\":0.2},\"line_width\":{\"value\":3},\"plot\":{\"id\":\"4844e288-c64b-4f55-a488-4d848d868eae\",\"subtype\":\"Figure\",\"type\":\"Plot\"},\"source\":null,\"start\":null,\"x_end\":{\"value\":-3.315548749412234},\"x_start\":{\"value\":0},\"y_end\":{\"value\":-6.281879646291548},\"y_start\":{\"value\":0}},\"id\":\"27be1ade-0769-4d47-984f-50c07d7bde9b\",\"type\":\"Arrow\"},{\"attributes\":{\"fill_alpha\":{\"value\":0.2},\"line_alpha\":{\"value\":0.2},\"plot\":null,\"size\":10},\"id\":\"4063d766-55ba-40d0-b0cb-01272f5d6996\",\"type\":\"NormalHead\"},{\"attributes\":{\"end\":{\"id\":\"5d8ca0f6-a727-4442-ac4f-7cd615e9077d\",\"type\":\"NormalHead\"},\"line_alpha\":{\"value\":0.2},\"line_width\":{\"value\":3},\"plot\":{\"id\":\"4844e288-c64b-4f55-a488-4d848d868eae\",\"subtype\":\"Figure\",\"type\":\"Plot\"},\"source\":null,\"start\":null,\"x_end\":{\"value\":-5.357909027150305},\"x_start\":{\"value\":0},\"y_end\":{\"value\":-9.318408829867455},\"y_start\":{\"value\":0}},\"id\":\"aebc35ef-a70f-42e5-ac53-145784c6437d\",\"type\":\"Arrow\"},{\"attributes\":{\"fill_alpha\":{\"value\":0.2},\"line_alpha\":{\"value\":0.2},\"plot\":null,\"size\":10},\"id\":\"4f4b2c53-a2a1-4cef-8702-51692b8590d3\",\"type\":\"NormalHead\"},{\"attributes\":{\"end\":{\"id\":\"7df8761f-66a5-41ba-b996-ce7d45199100\",\"type\":\"NormalHead\"},\"line_alpha\":{\"value\":0.2},\"line_width\":{\"value\":3},\"plot\":{\"id\":\"4844e288-c64b-4f55-a488-4d848d868eae\",\"subtype\":\"Figure\",\"type\":\"Plot\"},\"source\":null,\"start\":null,\"x_end\":{\"value\":12.611771927672379},\"x_start\":{\"value\":0},\"y_end\":{\"value\":10.976328472375371},\"y_start\":{\"value\":0}},\"id\":\"547bfc2d-271d-46ac-a4e7-059802a53283\",\"type\":\"Arrow\"},{\"attributes\":{\"fill_alpha\":{\"value\":0.2},\"line_alpha\":{\"value\":0.2},\"plot\":null,\"size\":10},\"id\":\"bd63f35c-5835-4e8e-885f-a356dd08d2ff\",\"type\":\"NormalHead\"},{\"attributes\":{\"fill_alpha\":{\"value\":0.2},\"line_alpha\":{\"value\":0.2},\"plot\":null,\"size\":10},\"id\":\"7fd304c7-2d29-4835-9f97-71165113c0dc\",\"type\":\"NormalHead\"},{\"attributes\":{\"fill_alpha\":{\"value\":0.2},\"line_alpha\":{\"value\":0.2},\"plot\":null,\"size\":10},\"id\":\"ed1477a1-ca3d-49e4-9be6-3e9fcc3fd3e9\",\"type\":\"NormalHead\"},{\"attributes\":{\"end\":{\"id\":\"4f4b2c53-a2a1-4cef-8702-51692b8590d3\",\"type\":\"NormalHead\"},\"line_alpha\":{\"value\":0.2},\"line_width\":{\"value\":3},\"plot\":{\"id\":\"4844e288-c64b-4f55-a488-4d848d868eae\",\"subtype\":\"Figure\",\"type\":\"Plot\"},\"source\":null,\"start\":null,\"x_end\":{\"value\":7.499101956037975},\"x_start\":{\"value\":0},\"y_end\":{\"value\":1.388326457614033},\"y_start\":{\"value\":0}},\"id\":\"bad0015e-a558-416d-8a30-807d5e6f9bf3\",\"type\":\"Arrow\"},{\"attributes\":{\"end\":{\"id\":\"aab8c6c7-807d-43b5-b6ec-5374097e3068\",\"type\":\"NormalHead\"},\"line_alpha\":{\"value\":0.2},\"line_width\":{\"value\":3},\"plot\":{\"id\":\"4844e288-c64b-4f55-a488-4d848d868eae\",\"subtype\":\"Figure\",\"type\":\"Plot\"},\"source\":null,\"start\":null,\"x_end\":{\"value\":3.0056632720644085},\"x_start\":{\"value\":0},\"y_end\":{\"value\":3.015791790559808},\"y_start\":{\"value\":0}},\"id\":\"f9a016ac-dd4e-4ed2-862c-4f3a55de69f8\",\"type\":\"Arrow\"},{\"attributes\":{\"fill_alpha\":{\"value\":0.2},\"line_alpha\":{\"value\":0.2},\"plot\":null,\"size\":10},\"id\":\"b4947dec-c29e-42a0-92e6-c4055950769d\",\"type\":\"NormalHead\"},{\"attributes\":{\"fill_alpha\":{\"value\":0.2},\"line_alpha\":{\"value\":0.2},\"plot\":null,\"size\":10},\"id\":\"4cd269f4-b387-4584-bdc7-bfd9d585c92c\",\"type\":\"NormalHead\"},{\"attributes\":{\"end\":{\"id\":\"28993be8-53e5-4a2a-aa8c-e53469fec8aa\",\"type\":\"NormalHead\"},\"line_alpha\":{\"value\":0.2},\"line_width\":{\"value\":3},\"plot\":{\"id\":\"4844e288-c64b-4f55-a488-4d848d868eae\",\"subtype\":\"Figure\",\"type\":\"Plot\"},\"source\":null,\"start\":null,\"x_end\":{\"value\":0.28926177833290634},\"x_start\":{\"value\":0},\"y_end\":{\"value\":-6.278376814652643},\"y_start\":{\"value\":0}},\"id\":\"f542f5a6-a58c-44c3-8aab-8f51e4c04fe1\",\"type\":\"Arrow\"},{\"attributes\":{\"end\":{\"id\":\"ed1477a1-ca3d-49e4-9be6-3e9fcc3fd3e9\",\"type\":\"NormalHead\"},\"line_alpha\":{\"value\":0.2},\"line_width\":{\"value\":3},\"plot\":{\"id\":\"4844e288-c64b-4f55-a488-4d848d868eae\",\"subtype\":\"Figure\",\"type\":\"Plot\"},\"source\":null,\"start\":null,\"x_end\":{\"value\":5.343060495512367},\"x_start\":{\"value\":0},\"y_end\":{\"value\":4.590206253612374},\"y_start\":{\"value\":0}},\"id\":\"63e70428-6245-421e-898c-5ae58a681ca6\",\"type\":\"Arrow\"},{\"attributes\":{\"end\":{\"id\":\"bdbd89e6-e547-4e02-9d0b-5c8b0deab0b1\",\"type\":\"NormalHead\"},\"line_alpha\":{\"value\":0.2},\"line_width\":{\"value\":3},\"plot\":{\"id\":\"4844e288-c64b-4f55-a488-4d848d868eae\",\"subtype\":\"Figure\",\"type\":\"Plot\"},\"source\":null,\"start\":null,\"x_end\":{\"value\":7.982830023006373},\"x_start\":{\"value\":0},\"y_end\":{\"value\":3.1874045306299656},\"y_start\":{\"value\":0}},\"id\":\"163f0f26-395c-4f97-9a8f-04717c4e230e\",\"type\":\"Arrow\"},{\"attributes\":{\"fill_alpha\":{\"value\":0.2},\"line_alpha\":{\"value\":0.2},\"plot\":null,\"size\":10},\"id\":\"39538011-e522-455d-b580-a07190a535e1\",\"type\":\"NormalHead\"},{\"attributes\":{\"end\":{\"id\":\"658b9457-7c32-4bc5-bc96-7a49fb033433\",\"type\":\"NormalHead\"},\"line_alpha\":{\"value\":0.2},\"line_width\":{\"value\":3},\"plot\":{\"id\":\"4844e288-c64b-4f55-a488-4d848d868eae\",\"subtype\":\"Figure\",\"type\":\"Plot\"},\"source\":null,\"start\":null,\"x_end\":{\"value\":4.850716963897211},\"x_start\":{\"value\":0},\"y_end\":{\"value\":-0.3038715818703892},\"y_start\":{\"value\":0}},\"id\":\"e162c87e-cd72-4e84-b23c-e0334dee1bed\",\"type\":\"Arrow\"},{\"attributes\":{\"end\":{\"id\":\"4cd269f4-b387-4584-bdc7-bfd9d585c92c\",\"type\":\"NormalHead\"},\"line_alpha\":{\"value\":0.2},\"line_width\":{\"value\":3},\"plot\":{\"id\":\"4844e288-c64b-4f55-a488-4d848d868eae\",\"subtype\":\"Figure\",\"type\":\"Plot\"},\"source\":null,\"start\":null,\"x_end\":{\"value\":-3.0073456635889277},\"x_start\":{\"value\":0},\"y_end\":{\"value\":4.299849388497622},\"y_start\":{\"value\":0}},\"id\":\"2a9ebdaa-3641-4cd8-8a1e-80feb2c7fe9e\",\"type\":\"Arrow\"},{\"attributes\":{\"fill_alpha\":{\"value\":0.2},\"line_alpha\":{\"value\":0.2},\"plot\":null,\"size\":10},\"id\":\"854bccab-eddc-4aa6-a82b-4b406e11ebfc\",\"type\":\"NormalHead\"},{\"attributes\":{\"fill_alpha\":{\"value\":0.2},\"line_alpha\":{\"value\":0.2},\"plot\":null,\"size\":10},\"id\":\"23c8cab2-3d18-4b75-8807-bd4b06151b40\",\"type\":\"NormalHead\"},{\"attributes\":{\"end\":{\"id\":\"39538011-e522-455d-b580-a07190a535e1\",\"type\":\"NormalHead\"},\"line_alpha\":{\"value\":0.2},\"line_width\":{\"value\":3},\"plot\":{\"id\":\"4844e288-c64b-4f55-a488-4d848d868eae\",\"subtype\":\"Figure\",\"type\":\"Plot\"},\"source\":null,\"start\":null,\"x_end\":{\"value\":-12.267059877813416},\"x_start\":{\"value\":0},\"y_end\":{\"value\":-12.748671891983},\"y_start\":{\"value\":0}},\"id\":\"3cbf581b-6035-4337-aedd-958866cec869\",\"type\":\"Arrow\"},{\"attributes\":{\"fill_alpha\":{\"value\":0.2},\"line_alpha\":{\"value\":0.2},\"plot\":null,\"size\":10},\"id\":\"bdbd89e6-e547-4e02-9d0b-5c8b0deab0b1\",\"type\":\"NormalHead\"},{\"attributes\":{\"fill_alpha\":{\"value\":0.2},\"line_alpha\":{\"value\":0.2},\"plot\":null,\"size\":10},\"id\":\"aab8c6c7-807d-43b5-b6ec-5374097e3068\",\"type\":\"NormalHead\"},{\"attributes\":{\"fill_alpha\":{\"value\":0.2},\"line_alpha\":{\"value\":0.2},\"plot\":null,\"size\":10},\"id\":\"82b77edd-4299-4e56-9df4-e10e802dbaf6\",\"type\":\"NormalHead\"},{\"attributes\":{\"end\":{\"id\":\"23c8cab2-3d18-4b75-8807-bd4b06151b40\",\"type\":\"NormalHead\"},\"line_alpha\":{\"value\":0.2},\"line_width\":{\"value\":3},\"plot\":{\"id\":\"4844e288-c64b-4f55-a488-4d848d868eae\",\"subtype\":\"Figure\",\"type\":\"Plot\"},\"source\":null,\"start\":null,\"x_end\":{\"value\":5.092513544221641},\"x_start\":{\"value\":0},\"y_end\":{\"value\":0.06374409569151673},\"y_start\":{\"value\":0}},\"id\":\"fd2e4d8a-ce72-4be3-9645-2b08587dff64\",\"type\":\"Arrow\"},{\"attributes\":{\"fill_alpha\":{\"value\":0.2},\"line_alpha\":{\"value\":0.2},\"plot\":null,\"size\":10},\"id\":\"92359718-fe1e-4949-af10-e85d23173b9f\",\"type\":\"NormalHead\"},{\"attributes\":{\"end\":{\"id\":\"81cabcbc-dc81-410b-af75-a966066a6bfd\",\"type\":\"NormalHead\"},\"line_alpha\":{\"value\":0.2},\"line_width\":{\"value\":3},\"plot\":{\"id\":\"4844e288-c64b-4f55-a488-4d848d868eae\",\"subtype\":\"Figure\",\"type\":\"Plot\"},\"source\":null,\"start\":null,\"x_end\":{\"value\":-14.170206976261554},\"x_start\":{\"value\":0},\"y_end\":{\"value\":-14.179776575448603},\"y_start\":{\"value\":0}},\"id\":\"d256ac58-5e0c-4ec4-8eb2-11d7c65f3e4e\",\"type\":\"Arrow\"},{\"attributes\":{\"fill_alpha\":{\"value\":0.2},\"line_alpha\":{\"value\":0.2},\"plot\":null,\"size\":10},\"id\":\"4875e834-ced7-490e-a064-7b99469a9dca\",\"type\":\"NormalHead\"},{\"attributes\":{\"end\":{\"id\":\"7fd304c7-2d29-4835-9f97-71165113c0dc\",\"type\":\"NormalHead\"},\"line_alpha\":{\"value\":0.2},\"line_width\":{\"value\":3},\"plot\":{\"id\":\"4844e288-c64b-4f55-a488-4d848d868eae\",\"subtype\":\"Figure\",\"type\":\"Plot\"},\"source\":null,\"start\":null,\"x_end\":{\"value\":-10.023578074675465},\"x_start\":{\"value\":0},\"y_end\":{\"value\":-11.76147635464677},\"y_start\":{\"value\":0}},\"id\":\"a10a482e-1ad5-4dc3-90ac-93314ba65ea2\",\"type\":\"Arrow\"},{\"attributes\":{\"end\":{\"id\":\"82b77edd-4299-4e56-9df4-e10e802dbaf6\",\"type\":\"NormalHead\"},\"line_alpha\":{\"value\":0.2},\"line_width\":{\"value\":3},\"plot\":{\"id\":\"4844e288-c64b-4f55-a488-4d848d868eae\",\"subtype\":\"Figure\",\"type\":\"Plot\"},\"source\":null,\"start\":null,\"x_end\":{\"value\":-8.821556276837097},\"x_start\":{\"value\":0},\"y_end\":{\"value\":-3.683717114136246},\"y_start\":{\"value\":0}},\"id\":\"5e7579bd-d616-47e8-9a6a-4ab74a39cce2\",\"type\":\"Arrow\"},{\"attributes\":{\"fill_alpha\":{\"value\":0.2},\"line_alpha\":{\"value\":0.2},\"plot\":null,\"size\":10},\"id\":\"81cabcbc-dc81-410b-af75-a966066a6bfd\",\"type\":\"NormalHead\"},{\"attributes\":{\"fill_alpha\":{\"value\":0.2},\"line_alpha\":{\"value\":0.2},\"plot\":null,\"size\":10},\"id\":\"3d83e441-5e2d-44fc-b182-69e74e6db41a\",\"type\":\"NormalHead\"},{\"attributes\":{\"end\":{\"id\":\"4875e834-ced7-490e-a064-7b99469a9dca\",\"type\":\"NormalHead\"},\"line_alpha\":{\"value\":0.2},\"line_width\":{\"value\":3},\"plot\":{\"id\":\"4844e288-c64b-4f55-a488-4d848d868eae\",\"subtype\":\"Figure\",\"type\":\"Plot\"},\"source\":null,\"start\":null,\"x_end\":{\"value\":7.621374128685863},\"x_start\":{\"value\":0},\"y_end\":{\"value\":4.095671833823946},\"y_start\":{\"value\":0}},\"id\":\"8f1ab0eb-4548-4584-97c2-73180a6ba46d\",\"type\":\"Arrow\"},{\"attributes\":{\"fill_alpha\":{\"value\":0.2},\"line_alpha\":{\"value\":0.2},\"plot\":null,\"size\":10},\"id\":\"38cbdf9d-892c-432c-97f1-bc4e53fc6249\",\"type\":\"NormalHead\"},{\"attributes\":{\"end\":{\"id\":\"854bccab-eddc-4aa6-a82b-4b406e11ebfc\",\"type\":\"NormalHead\"},\"line_alpha\":{\"value\":0.2},\"line_width\":{\"value\":3},\"plot\":{\"id\":\"4844e288-c64b-4f55-a488-4d848d868eae\",\"subtype\":\"Figure\",\"type\":\"Plot\"},\"source\":null,\"start\":null,\"x_end\":{\"value\":-8.342583598944008},\"x_start\":{\"value\":0},\"y_end\":{\"value\":-10.555547497335972},\"y_start\":{\"value\":0}},\"id\":\"91db6282-65ba-429b-a076-33a99d33c52b\",\"type\":\"Arrow\"},{\"attributes\":{\"fill_alpha\":{\"value\":0.2},\"line_alpha\":{\"value\":0.2},\"plot\":null,\"size\":10},\"id\":\"55ed1e53-011e-4642-a00a-1a963d0d9a6e\",\"type\":\"NormalHead\"},{\"attributes\":{\"end\":{\"id\":\"3d83e441-5e2d-44fc-b182-69e74e6db41a\",\"type\":\"NormalHead\"},\"line_alpha\":{\"value\":0.2},\"line_width\":{\"value\":3},\"plot\":{\"id\":\"4844e288-c64b-4f55-a488-4d848d868eae\",\"subtype\":\"Figure\",\"type\":\"Plot\"},\"source\":null,\"start\":null,\"x_end\":{\"value\":-12.337723085665008},\"x_start\":{\"value\":0},\"y_end\":{\"value\":-13.549527780563508},\"y_start\":{\"value\":0}},\"id\":\"5665c298-1822-464f-8739-3bbca566cb44\",\"type\":\"Arrow\"},{\"attributes\":{\"fill_alpha\":{\"value\":0.2},\"line_alpha\":{\"value\":0.2},\"plot\":null,\"size\":10},\"id\":\"0169911c-4f7d-4b87-9aa1-b477d18359fc\",\"type\":\"NormalHead\"},{\"attributes\":{\"fill_alpha\":{\"value\":0.2},\"line_alpha\":{\"value\":0.2},\"plot\":null,\"size\":10},\"id\":\"647f69e9-13ab-498c-8542-51d8dc655ab4\",\"type\":\"NormalHead\"},{\"attributes\":{\"end\":{\"id\":\"55ed1e53-011e-4642-a00a-1a963d0d9a6e\",\"type\":\"NormalHead\"},\"line_alpha\":{\"value\":0.2},\"line_width\":{\"value\":3},\"plot\":{\"id\":\"4844e288-c64b-4f55-a488-4d848d868eae\",\"subtype\":\"Figure\",\"type\":\"Plot\"},\"source\":null,\"start\":null,\"x_end\":{\"value\":-1.0380181966418096},\"x_start\":{\"value\":0},\"y_end\":{\"value\":-1.4466636712009482},\"y_start\":{\"value\":0}},\"id\":\"d15fa9b2-fac5-4bc9-8b0e-d85cd15824a2\",\"type\":\"Arrow\"},{\"attributes\":{\"fill_alpha\":{\"value\":0.2},\"line_alpha\":{\"value\":0.2},\"plot\":null,\"size\":10},\"id\":\"b08de94b-3036-45ab-b80a-ddd05a9d9992\",\"type\":\"NormalHead\"},{\"attributes\":{\"end\":{\"id\":\"92359718-fe1e-4949-af10-e85d23173b9f\",\"type\":\"NormalHead\"},\"line_alpha\":{\"value\":0.2},\"line_width\":{\"value\":3},\"plot\":{\"id\":\"4844e288-c64b-4f55-a488-4d848d868eae\",\"subtype\":\"Figure\",\"type\":\"Plot\"},\"source\":null,\"start\":null,\"x_end\":{\"value\":6.598566816887674},\"x_start\":{\"value\":0},\"y_end\":{\"value\":3.5895825883911385},\"y_start\":{\"value\":0}},\"id\":\"96777712-2841-418d-b2cb-dfdbc5ffe9c8\",\"type\":\"Arrow\"},{\"attributes\":{\"end\":{\"id\":\"b4947dec-c29e-42a0-92e6-c4055950769d\",\"type\":\"NormalHead\"},\"line_alpha\":{\"value\":0.2},\"line_width\":{\"value\":3},\"plot\":{\"id\":\"4844e288-c64b-4f55-a488-4d848d868eae\",\"subtype\":\"Figure\",\"type\":\"Plot\"},\"source\":null,\"start\":null,\"x_end\":{\"value\":1.9272534685384155},\"x_start\":{\"value\":0},\"y_end\":{\"value\":-5.129430949667904},\"y_start\":{\"value\":0}},\"id\":\"3424f106-384e-494b-8904-d4a2c09d5a9a\",\"type\":\"Arrow\"},{\"attributes\":{\"end\":{\"id\":\"38cbdf9d-892c-432c-97f1-bc4e53fc6249\",\"type\":\"NormalHead\"},\"line_alpha\":{\"value\":0.2},\"line_width\":{\"value\":3},\"plot\":{\"id\":\"4844e288-c64b-4f55-a488-4d848d868eae\",\"subtype\":\"Figure\",\"type\":\"Plot\"},\"source\":null,\"start\":null,\"x_end\":{\"value\":1.1499665225455722},\"x_start\":{\"value\":0},\"y_end\":{\"value\":3.7176103324830105},\"y_start\":{\"value\":0}},\"id\":\"bdc7aeee-cfe6-4d58-84d6-b06540f9f111\",\"type\":\"Arrow\"},{\"attributes\":{\"end\":{\"id\":\"6c2d79a4-08f7-448a-8b86-fcde3f18a4ca\",\"type\":\"NormalHead\"},\"line_alpha\":{\"value\":0.2},\"line_width\":{\"value\":3},\"plot\":{\"id\":\"4844e288-c64b-4f55-a488-4d848d868eae\",\"subtype\":\"Figure\",\"type\":\"Plot\"},\"source\":null,\"start\":null,\"x_end\":{\"value\":-6.120044756425678},\"x_start\":{\"value\":0},\"y_end\":{\"value\":-5.343087874611811},\"y_start\":{\"value\":0}},\"id\":\"493e9e52-3d34-4ea8-a0d7-3034588e595d\",\"type\":\"Arrow\"},{\"attributes\":{\"fill_alpha\":{\"value\":0.2},\"line_alpha\":{\"value\":0.2},\"plot\":null,\"size\":10},\"id\":\"6c2d79a4-08f7-448a-8b86-fcde3f18a4ca\",\"type\":\"NormalHead\"},{\"attributes\":{\"fill_alpha\":{\"value\":0.2},\"line_alpha\":{\"value\":0.2},\"plot\":null,\"size\":10},\"id\":\"5d8ca0f6-a727-4442-ac4f-7cd615e9077d\",\"type\":\"NormalHead\"},{\"attributes\":{\"end\":{\"id\":\"b08de94b-3036-45ab-b80a-ddd05a9d9992\",\"type\":\"NormalHead\"},\"line_alpha\":{\"value\":0.2},\"line_width\":{\"value\":3},\"plot\":{\"id\":\"4844e288-c64b-4f55-a488-4d848d868eae\",\"subtype\":\"Figure\",\"type\":\"Plot\"},\"source\":null,\"start\":null,\"x_end\":{\"value\":-5.725053403955283},\"x_start\":{\"value\":0},\"y_end\":{\"value\":-6.510259134931932},\"y_start\":{\"value\":0}},\"id\":\"c21bb39a-aef6-4eef-9237-b3012cf278c3\",\"type\":\"Arrow\"},{\"attributes\":{\"callback\":null,\"data\":{\"x\":[0,0],\"y\":[-20,20]},\"selected\":{\"id\":\"53996509-0cf0-4c67-8625-c7910e4e34d7\",\"type\":\"Selection\"},\"selection_policy\":{\"id\":\"6eaf2b37-cdba-4d4c-b003-b7e7e8808ed6\",\"type\":\"UnionRenderers\"}},\"id\":\"47fc69ef-8478-4c94-9da8-48f2bf8a3785\",\"type\":\"ColumnDataSource\"},{\"attributes\":{\"end\":{\"id\":\"0169911c-4f7d-4b87-9aa1-b477d18359fc\",\"type\":\"NormalHead\"},\"line_alpha\":{\"value\":0.2},\"line_width\":{\"value\":3},\"plot\":{\"id\":\"4844e288-c64b-4f55-a488-4d848d868eae\",\"subtype\":\"Figure\",\"type\":\"Plot\"},\"source\":null,\"start\":null,\"x_end\":{\"value\":5.162332856474861},\"x_start\":{\"value\":0},\"y_end\":{\"value\":0.6647341470878043},\"y_start\":{\"value\":0}},\"id\":\"b9255b46-72da-4cfe-913c-76e1468b0ffe\",\"type\":\"Arrow\"},{\"attributes\":{\"end\":{\"id\":\"4063d766-55ba-40d0-b0cb-01272f5d6996\",\"type\":\"NormalHead\"},\"line_alpha\":{\"value\":0.2},\"line_width\":{\"value\":3},\"plot\":{\"id\":\"4844e288-c64b-4f55-a488-4d848d868eae\",\"subtype\":\"Figure\",\"type\":\"Plot\"},\"source\":null,\"start\":null,\"x_end\":{\"value\":-0.43245006174922995},\"x_start\":{\"value\":0},\"y_end\":{\"value\":-2.0105817348772206},\"y_start\":{\"value\":0}},\"id\":\"90d75c6f-62fe-4a88-9ebf-fe15347de2c4\",\"type\":\"Arrow\"},{\"attributes\":{\"fill_alpha\":{\"value\":0.2},\"line_alpha\":{\"value\":0.2},\"plot\":null,\"size\":10},\"id\":\"85fa6014-339c-4811-a118-9bbcfed2d685\",\"type\":\"NormalHead\"},{\"attributes\":{\"end\":{\"id\":\"4be84384-e5ac-47f3-ae55-fa08835af7fe\",\"type\":\"NormalHead\"},\"line_alpha\":{\"value\":0.2},\"line_width\":{\"value\":3},\"plot\":{\"id\":\"4844e288-c64b-4f55-a488-4d848d868eae\",\"subtype\":\"Figure\",\"type\":\"Plot\"},\"source\":null,\"start\":null,\"x_end\":{\"value\":10.7199736037695},\"x_start\":{\"value\":0},\"y_end\":{\"value\":9.120086593734024},\"y_start\":{\"value\":0}},\"id\":\"1835c79b-9412-4a00-ae49-531b8310865b\",\"type\":\"Arrow\"},{\"attributes\":{\"end\":{\"id\":\"6d8cf09c-0eb1-4b32-a3c9-d31aaa0a9e87\",\"type\":\"NormalHead\"},\"line_alpha\":{\"value\":0.2},\"line_width\":{\"value\":3},\"plot\":{\"id\":\"4844e288-c64b-4f55-a488-4d848d868eae\",\"subtype\":\"Figure\",\"type\":\"Plot\"},\"source\":null,\"start\":null,\"x_end\":{\"value\":1.425153305328704},\"x_start\":{\"value\":0},\"y_end\":{\"value\":-1.8341258478542741},\"y_start\":{\"value\":0}},\"id\":\"46580e8c-17ed-4370-9f7c-d72318fc8153\",\"type\":\"Arrow\"},{\"attributes\":{\"end\":{\"id\":\"bd63f35c-5835-4e8e-885f-a356dd08d2ff\",\"type\":\"NormalHead\"},\"line_alpha\":{\"value\":0.2},\"line_width\":{\"value\":3},\"plot\":{\"id\":\"4844e288-c64b-4f55-a488-4d848d868eae\",\"subtype\":\"Figure\",\"type\":\"Plot\"},\"source\":null,\"start\":null,\"x_end\":{\"value\":0.6710556731537496},\"x_start\":{\"value\":0},\"y_end\":{\"value\":4.590697468044214},\"y_start\":{\"value\":0}},\"id\":\"ebe869ec-7f4c-4d80-ae99-820c13978ce1\",\"type\":\"Arrow\"},{\"attributes\":{\"end\":{\"id\":\"b4ef7fcd-8bed-48a3-8c98-a0b4226d8fe0\",\"type\":\"NormalHead\"},\"line_alpha\":{\"value\":0.2},\"line_width\":{\"value\":3},\"plot\":{\"id\":\"4844e288-c64b-4f55-a488-4d848d868eae\",\"subtype\":\"Figure\",\"type\":\"Plot\"},\"source\":null,\"start\":null,\"x_end\":{\"value\":-10.154461409331542},\"x_start\":{\"value\":0},\"y_end\":{\"value\":-5.790285253603154},\"y_start\":{\"value\":0}},\"id\":\"c619e475-b25e-4e5d-88f3-564c346293e2\",\"type\":\"Arrow\"},{\"attributes\":{\"fill_alpha\":{\"value\":0.2},\"line_alpha\":{\"value\":0.2},\"plot\":null,\"size\":10},\"id\":\"6d8cf09c-0eb1-4b32-a3c9-d31aaa0a9e87\",\"type\":\"NormalHead\"},{\"attributes\":{\"fill_alpha\":{\"value\":0.2},\"line_alpha\":{\"value\":0.2},\"plot\":null,\"size\":10},\"id\":\"b4ef7fcd-8bed-48a3-8c98-a0b4226d8fe0\",\"type\":\"NormalHead\"},{\"attributes\":{\"end\":{\"id\":\"4dc3e933-b7ed-4660-8e41-335c1ac76d25\",\"type\":\"NormalHead\"},\"line_alpha\":{\"value\":0.2},\"line_width\":{\"value\":3},\"plot\":{\"id\":\"4844e288-c64b-4f55-a488-4d848d868eae\",\"subtype\":\"Figure\",\"type\":\"Plot\"},\"source\":null,\"start\":null,\"x_end\":{\"value\":-3.845727256017148},\"x_start\":{\"value\":0},\"y_end\":{\"value\":-7.3499742537118085},\"y_start\":{\"value\":0}},\"id\":\"3fd5e422-8f77-4989-9fe1-58424c67825d\",\"type\":\"Arrow\"},{\"attributes\":{\"fill_alpha\":{\"value\":0.2},\"line_alpha\":{\"value\":0.2},\"plot\":null,\"size\":10},\"id\":\"4be84384-e5ac-47f3-ae55-fa08835af7fe\",\"type\":\"NormalHead\"},{\"attributes\":{\"end\":{\"id\":\"85fa6014-339c-4811-a118-9bbcfed2d685\",\"type\":\"NormalHead\"},\"line_alpha\":{\"value\":0.2},\"line_width\":{\"value\":3},\"plot\":{\"id\":\"4844e288-c64b-4f55-a488-4d848d868eae\",\"subtype\":\"Figure\",\"type\":\"Plot\"},\"source\":null,\"start\":null,\"x_end\":{\"value\":-5.011294795643414},\"x_start\":{\"value\":0},\"y_end\":{\"value\":-2.7139388826630464},\"y_start\":{\"value\":0}},\"id\":\"0338154e-5d3b-4f4c-bdc2-7c3296656099\",\"type\":\"Arrow\"}],\"root_ids\":[\"4844e288-c64b-4f55-a488-4d848d868eae\"]},\"title\":\"Bokeh Application\",\"version\":\"0.13.0\"}};\n",
       "  var render_items = [{\"docid\":\"99e3e438-c64b-41cb-bc20-088e04c2af83\",\"roots\":{\"4844e288-c64b-4f55-a488-4d848d868eae\":\"56afa226-0421-42e1-9934-5e70d7427e38\"}}];\n",
       "  root.Bokeh.embed.embed_items_notebook(docs_json, render_items);\n",
       "\n",
       "  }\n",
       "  if (root.Bokeh !== undefined) {\n",
       "    embed_document(root);\n",
       "  } else {\n",
       "    var attempts = 0;\n",
       "    var timer = setInterval(function(root) {\n",
       "      if (root.Bokeh !== undefined) {\n",
       "        embed_document(root);\n",
       "        clearInterval(timer);\n",
       "      }\n",
       "      attempts++;\n",
       "      if (attempts > 100) {\n",
       "        console.log(\"Bokeh: ERROR: Unable to run BokehJS code because BokehJS library is missing\")\n",
       "        clearInterval(timer);\n",
       "      }\n",
       "    }, 10, root)\n",
       "  }\n",
       "})(window);"
      ],
      "application/vnd.bokehjs_exec.v0+json": ""
     },
     "metadata": {
      "application/vnd.bokehjs_exec.v0+json": {
       "id": "4844e288-c64b-4f55-a488-4d848d868eae"
      }
     },
     "output_type": "display_data"
    }
   ],
   "source": [
    "plot.show()"
   ]
  },
  {
   "cell_type": "markdown",
   "metadata": {},
   "source": [
    "Eventually we could define the entire $\\Re^2$ space with just these two vectors."
   ]
  },
  {
   "cell_type": "markdown",
   "metadata": {},
   "source": [
    "# Linear Dependence\n",
    "\n",
    "When we can describe a vector with some linear combination of other vectors, we call that vector linearly dependent. Put differently, the addition of that new vector to our set does not provide any additional information that we do not already have with the existing vectors in our set.\n",
    "\n",
    "This concept is a little tricky at first, so let's examine this visually."
   ]
  },
  {
   "cell_type": "code",
   "execution_count": 22,
   "metadata": {},
   "outputs": [],
   "source": [
    "# Are these two vectors linearly dependent?\n",
    "a = np.array([1,4])\n",
    "b = np.array([2.5,10])"
   ]
  },
  {
   "cell_type": "code",
   "execution_count": 23,
   "metadata": {},
   "outputs": [
    {
     "data": {
      "text/html": [
       "\n",
       "\n",
       "\n",
       "\n",
       "\n",
       "\n",
       "  <div class=\"bk-root\" id=\"336fa28a-4b8e-4e10-8916-29b0e721b81b\"></div>\n"
      ]
     },
     "metadata": {},
     "output_type": "display_data"
    },
    {
     "data": {
      "application/javascript": [
       "(function(root) {\n",
       "  function embed_document(root) {\n",
       "    \n",
       "  var docs_json = {\"b7d51c33-0576-40e9-9cdf-9062a97926ff\":{\"roots\":{\"references\":[{\"attributes\":{},\"id\":\"a62e5eba-e983-421d-8eeb-c15f6a169b51\",\"type\":\"BasicTickFormatter\"},{\"attributes\":{\"source\":{\"id\":\"23a051d6-52bc-45f3-8a13-f58cfbe20637\",\"type\":\"ColumnDataSource\"}},\"id\":\"13466c48-e895-4102-a0a8-cc5ae13ad9f2\",\"type\":\"CDSView\"},{\"attributes\":{\"dimension\":1,\"plot\":{\"id\":\"78e27503-851e-49e9-8cb0-95e7ad65cc7b\",\"subtype\":\"Figure\",\"type\":\"Plot\"},\"ticker\":{\"id\":\"5979d0db-aec8-45ea-9392-dee103b08703\",\"type\":\"BasicTicker\"}},\"id\":\"fad397ab-332b-459a-ac3f-7f0ef6048c6d\",\"type\":\"Grid\"},{\"attributes\":{\"end\":{\"id\":\"3151f0e8-f240-4b04-a8e3-73b4a2e84187\",\"type\":\"NormalHead\"},\"line_alpha\":{\"value\":0.4},\"line_color\":{\"value\":\"blue\"},\"line_width\":{\"value\":3},\"plot\":{\"id\":\"78e27503-851e-49e9-8cb0-95e7ad65cc7b\",\"subtype\":\"Figure\",\"type\":\"Plot\"},\"source\":null,\"start\":null,\"x_end\":{\"value\":1},\"x_start\":{\"value\":0},\"y_end\":{\"value\":4},\"y_start\":{\"value\":0}},\"id\":\"3b56982f-ab05-41ed-8285-cf9eae63a1c6\",\"type\":\"Arrow\"},{\"attributes\":{\"plot\":null,\"text\":\"\"},\"id\":\"743956bd-adb1-4824-92b3-fa46b4cde6d2\",\"type\":\"Title\"},{\"attributes\":{\"end\":{\"id\":\"3d9130c4-98f6-494c-a0cc-b81a7a518234\",\"type\":\"NormalHead\"},\"line_alpha\":{\"value\":0.4},\"line_color\":{\"value\":\"red\"},\"line_width\":{\"value\":3},\"plot\":{\"id\":\"78e27503-851e-49e9-8cb0-95e7ad65cc7b\",\"subtype\":\"Figure\",\"type\":\"Plot\"},\"source\":null,\"start\":null,\"x_end\":{\"value\":2.5},\"x_start\":{\"value\":0},\"y_end\":{\"value\":10.0},\"y_start\":{\"value\":0}},\"id\":\"15e3c520-8fe7-4458-b3f8-b5dcd50d863c\",\"type\":\"Arrow\"},{\"attributes\":{},\"id\":\"a4c425ea-2b49-413f-9643-dcf45d6ce4d2\",\"type\":\"Selection\"},{\"attributes\":{},\"id\":\"b2bc062d-3b9e-4c6b-b014-1e9cd284d3c6\",\"type\":\"LinearScale\"},{\"attributes\":{},\"id\":\"dcd298ba-ea8a-4aae-ab8a-6162698ad218\",\"type\":\"WheelZoomTool\"},{\"attributes\":{},\"id\":\"6977f64d-64e2-4770-97e9-85a38a0662d1\",\"type\":\"BasicTickFormatter\"},{\"attributes\":{},\"id\":\"b1d25472-1d86-4418-a9ad-97b43dca2135\",\"type\":\"UnionRenderers\"},{\"attributes\":{\"plot\":{\"id\":\"78e27503-851e-49e9-8cb0-95e7ad65cc7b\",\"subtype\":\"Figure\",\"type\":\"Plot\"},\"ticker\":{\"id\":\"08de4212-eb83-45fd-a9fa-d6fde69d95bd\",\"type\":\"BasicTicker\"}},\"id\":\"5aa09483-bb6e-428a-b0ff-9df36ea53038\",\"type\":\"Grid\"},{\"attributes\":{},\"id\":\"a2d55557-a45a-4716-989b-34abda8a0e91\",\"type\":\"Selection\"},{\"attributes\":{},\"id\":\"4bda5232-f8a5-46a8-a1e8-1161adde499e\",\"type\":\"PanTool\"},{\"attributes\":{},\"id\":\"e52b5da2-1e8e-42a8-a9b5-b3e6a0272dca\",\"type\":\"UnionRenderers\"},{\"attributes\":{},\"id\":\"79aa5e62-5c7b-4c7f-a1d9-c32df8b13a08\",\"type\":\"ResetTool\"},{\"attributes\":{\"line_alpha\":0.1,\"line_color\":\"#1f77b4\",\"line_width\":1.5,\"x\":{\"field\":\"x\"},\"y\":{\"field\":\"y\"}},\"id\":\"2b158795-6c5f-4147-b9f8-f3f356c4e4d9\",\"type\":\"Line\"},{\"attributes\":{},\"id\":\"08de4212-eb83-45fd-a9fa-d6fde69d95bd\",\"type\":\"BasicTicker\"},{\"attributes\":{\"data_source\":{\"id\":\"fdf2f023-dfb3-48d0-8ec6-5a9345a40425\",\"type\":\"ColumnDataSource\"},\"glyph\":{\"id\":\"e441d439-17e8-4b6c-b107-38e5a058d093\",\"type\":\"Line\"},\"hover_glyph\":null,\"muted_glyph\":null,\"nonselection_glyph\":{\"id\":\"2b158795-6c5f-4147-b9f8-f3f356c4e4d9\",\"type\":\"Line\"},\"selection_glyph\":null,\"view\":{\"id\":\"ea5f2e99-da9b-4e93-87a2-9b0919a4033f\",\"type\":\"CDSView\"}},\"id\":\"9cbdad09-7e5c-4e6f-b652-5fbf1facd5a2\",\"type\":\"GlyphRenderer\"},{\"attributes\":{\"callback\":null,\"data\":{\"x\":[-30,30],\"y\":[0,0]},\"selected\":{\"id\":\"a2d55557-a45a-4716-989b-34abda8a0e91\",\"type\":\"Selection\"},\"selection_policy\":{\"id\":\"e52b5da2-1e8e-42a8-a9b5-b3e6a0272dca\",\"type\":\"UnionRenderers\"}},\"id\":\"fdf2f023-dfb3-48d0-8ec6-5a9345a40425\",\"type\":\"ColumnDataSource\"},{\"attributes\":{\"formatter\":{\"id\":\"6977f64d-64e2-4770-97e9-85a38a0662d1\",\"type\":\"BasicTickFormatter\"},\"plot\":{\"id\":\"78e27503-851e-49e9-8cb0-95e7ad65cc7b\",\"subtype\":\"Figure\",\"type\":\"Plot\"},\"ticker\":{\"id\":\"5979d0db-aec8-45ea-9392-dee103b08703\",\"type\":\"BasicTicker\"}},\"id\":\"f24a5b40-5b8a-4c7c-8d0e-5725c09a1820\",\"type\":\"LinearAxis\"},{\"attributes\":{\"callback\":null,\"end\":21.0,\"start\":-21.0},\"id\":\"a93ecc82-455f-4196-b166-0a2f5ee0f4e3\",\"type\":\"Range1d\"},{\"attributes\":{\"fill_alpha\":{\"value\":0.4},\"fill_color\":{\"value\":\"red\"},\"line_alpha\":{\"value\":0.4},\"line_color\":{\"value\":\"red\"},\"plot\":null,\"size\":10},\"id\":\"3d9130c4-98f6-494c-a0cc-b81a7a518234\",\"type\":\"NormalHead\"},{\"attributes\":{\"line_width\":1.5,\"x\":{\"field\":\"x\"},\"y\":{\"field\":\"y\"}},\"id\":\"5456689a-0eea-4656-a59d-94e6e8d98265\",\"type\":\"Line\"},{\"attributes\":{\"line_alpha\":0.1,\"line_color\":\"#1f77b4\",\"line_width\":1.5,\"x\":{\"field\":\"x\"},\"y\":{\"field\":\"y\"}},\"id\":\"ab09e492-c6a4-47e1-89ae-60a664af4c68\",\"type\":\"Line\"},{\"attributes\":{},\"id\":\"5979d0db-aec8-45ea-9392-dee103b08703\",\"type\":\"BasicTicker\"},{\"attributes\":{},\"id\":\"c1d03b26-5dcd-4507-93af-c196b8e0a6e3\",\"type\":\"LinearScale\"},{\"attributes\":{\"line_width\":1.5,\"x\":{\"field\":\"x\"},\"y\":{\"field\":\"y\"}},\"id\":\"e441d439-17e8-4b6c-b107-38e5a058d093\",\"type\":\"Line\"},{\"attributes\":{\"below\":[{\"id\":\"c2de3a7d-e91c-4c07-bfd5-b0249e5fa139\",\"type\":\"LinearAxis\"}],\"left\":[{\"id\":\"f24a5b40-5b8a-4c7c-8d0e-5725c09a1820\",\"type\":\"LinearAxis\"}],\"plot_height\":400,\"plot_width\":400,\"renderers\":[{\"id\":\"c2de3a7d-e91c-4c07-bfd5-b0249e5fa139\",\"type\":\"LinearAxis\"},{\"id\":\"5aa09483-bb6e-428a-b0ff-9df36ea53038\",\"type\":\"Grid\"},{\"id\":\"f24a5b40-5b8a-4c7c-8d0e-5725c09a1820\",\"type\":\"LinearAxis\"},{\"id\":\"fad397ab-332b-459a-ac3f-7f0ef6048c6d\",\"type\":\"Grid\"},{\"id\":\"a3b6088e-c67e-48d1-bcda-0237ff75e82e\",\"type\":\"GlyphRenderer\"},{\"id\":\"9cbdad09-7e5c-4e6f-b652-5fbf1facd5a2\",\"type\":\"GlyphRenderer\"},{\"id\":\"3b56982f-ab05-41ed-8285-cf9eae63a1c6\",\"type\":\"Arrow\"},{\"id\":\"15e3c520-8fe7-4458-b3f8-b5dcd50d863c\",\"type\":\"Arrow\"}],\"title\":{\"id\":\"743956bd-adb1-4824-92b3-fa46b4cde6d2\",\"type\":\"Title\"},\"toolbar\":{\"id\":\"c62d5821-3983-401a-a97e-eccf0e3f34a8\",\"type\":\"Toolbar\"},\"x_range\":{\"id\":\"3eefcbf9-5526-4705-a9db-ac7081b0ec2c\",\"type\":\"Range1d\"},\"x_scale\":{\"id\":\"b2bc062d-3b9e-4c6b-b014-1e9cd284d3c6\",\"type\":\"LinearScale\"},\"y_range\":{\"id\":\"a93ecc82-455f-4196-b166-0a2f5ee0f4e3\",\"type\":\"Range1d\"},\"y_scale\":{\"id\":\"c1d03b26-5dcd-4507-93af-c196b8e0a6e3\",\"type\":\"LinearScale\"}},\"id\":\"78e27503-851e-49e9-8cb0-95e7ad65cc7b\",\"subtype\":\"Figure\",\"type\":\"Plot\"},{\"attributes\":{\"fill_alpha\":{\"value\":0.4},\"fill_color\":{\"value\":\"blue\"},\"line_alpha\":{\"value\":0.4},\"line_color\":{\"value\":\"blue\"},\"plot\":null,\"size\":10},\"id\":\"3151f0e8-f240-4b04-a8e3-73b4a2e84187\",\"type\":\"NormalHead\"},{\"attributes\":{\"callback\":null,\"data\":{\"x\":[0,0],\"y\":[-30,30]},\"selected\":{\"id\":\"a4c425ea-2b49-413f-9643-dcf45d6ce4d2\",\"type\":\"Selection\"},\"selection_policy\":{\"id\":\"b1d25472-1d86-4418-a9ad-97b43dca2135\",\"type\":\"UnionRenderers\"}},\"id\":\"23a051d6-52bc-45f3-8a13-f58cfbe20637\",\"type\":\"ColumnDataSource\"},{\"attributes\":{\"data_source\":{\"id\":\"23a051d6-52bc-45f3-8a13-f58cfbe20637\",\"type\":\"ColumnDataSource\"},\"glyph\":{\"id\":\"5456689a-0eea-4656-a59d-94e6e8d98265\",\"type\":\"Line\"},\"hover_glyph\":null,\"muted_glyph\":null,\"nonselection_glyph\":{\"id\":\"ab09e492-c6a4-47e1-89ae-60a664af4c68\",\"type\":\"Line\"},\"selection_glyph\":null,\"view\":{\"id\":\"13466c48-e895-4102-a0a8-cc5ae13ad9f2\",\"type\":\"CDSView\"}},\"id\":\"a3b6088e-c67e-48d1-bcda-0237ff75e82e\",\"type\":\"GlyphRenderer\"},{\"attributes\":{\"active_drag\":\"auto\",\"active_inspect\":\"auto\",\"active_multi\":null,\"active_scroll\":\"auto\",\"active_tap\":\"auto\",\"tools\":[{\"id\":\"dcd298ba-ea8a-4aae-ab8a-6162698ad218\",\"type\":\"WheelZoomTool\"},{\"id\":\"4bda5232-f8a5-46a8-a1e8-1161adde499e\",\"type\":\"PanTool\"},{\"id\":\"79aa5e62-5c7b-4c7f-a1d9-c32df8b13a08\",\"type\":\"ResetTool\"}]},\"id\":\"c62d5821-3983-401a-a97e-eccf0e3f34a8\",\"type\":\"Toolbar\"},{\"attributes\":{\"formatter\":{\"id\":\"a62e5eba-e983-421d-8eeb-c15f6a169b51\",\"type\":\"BasicTickFormatter\"},\"plot\":{\"id\":\"78e27503-851e-49e9-8cb0-95e7ad65cc7b\",\"subtype\":\"Figure\",\"type\":\"Plot\"},\"ticker\":{\"id\":\"08de4212-eb83-45fd-a9fa-d6fde69d95bd\",\"type\":\"BasicTicker\"}},\"id\":\"c2de3a7d-e91c-4c07-bfd5-b0249e5fa139\",\"type\":\"LinearAxis\"},{\"attributes\":{\"callback\":null,\"end\":21.0,\"start\":-21.0},\"id\":\"3eefcbf9-5526-4705-a9db-ac7081b0ec2c\",\"type\":\"Range1d\"},{\"attributes\":{\"source\":{\"id\":\"fdf2f023-dfb3-48d0-8ec6-5a9345a40425\",\"type\":\"ColumnDataSource\"}},\"id\":\"ea5f2e99-da9b-4e93-87a2-9b0919a4033f\",\"type\":\"CDSView\"}],\"root_ids\":[\"78e27503-851e-49e9-8cb0-95e7ad65cc7b\"]},\"title\":\"Bokeh Application\",\"version\":\"0.13.0\"}};\n",
       "  var render_items = [{\"docid\":\"b7d51c33-0576-40e9-9cdf-9062a97926ff\",\"roots\":{\"78e27503-851e-49e9-8cb0-95e7ad65cc7b\":\"336fa28a-4b8e-4e10-8916-29b0e721b81b\"}}];\n",
       "  root.Bokeh.embed.embed_items_notebook(docs_json, render_items);\n",
       "\n",
       "  }\n",
       "  if (root.Bokeh !== undefined) {\n",
       "    embed_document(root);\n",
       "  } else {\n",
       "    var attempts = 0;\n",
       "    var timer = setInterval(function(root) {\n",
       "      if (root.Bokeh !== undefined) {\n",
       "        embed_document(root);\n",
       "        clearInterval(timer);\n",
       "      }\n",
       "      attempts++;\n",
       "      if (attempts > 100) {\n",
       "        console.log(\"Bokeh: ERROR: Unable to run BokehJS code because BokehJS library is missing\")\n",
       "        clearInterval(timer);\n",
       "      }\n",
       "    }, 10, root)\n",
       "  }\n",
       "})(window);"
      ],
      "application/vnd.bokehjs_exec.v0+json": ""
     },
     "metadata": {
      "application/vnd.bokehjs_exec.v0+json": {
       "id": "78e27503-851e-49e9-8cb0-95e7ad65cc7b"
      }
     },
     "output_type": "display_data"
    }
   ],
   "source": [
    "# Let's visualize them...\n",
    "plot.clear()\n",
    "plot.graph(30)\n",
    "plot.vector(a,alpha=.4)\n",
    "plot.vector(b,alpha=.4)\n",
    "plot.show()"
   ]
  },
  {
   "cell_type": "markdown",
   "metadata": {},
   "source": [
    "When visualized the dependence becomes apparent. No linear combination of these two vectors will allow them to break into a new dimension.\n",
    "\n",
    "To run this point home, let's repeat the exercise from above."
   ]
  },
  {
   "cell_type": "code",
   "execution_count": 24,
   "metadata": {},
   "outputs": [],
   "source": [
    "# Let's draw two random constants 50 times\n",
    "for i in range(50):\n",
    "    c1,c2 = np.random.uniform(low=-5,high=5,size=2)\n",
    "    plot.vector(c1*a + c2*b,add_color='black',alpha=.2)"
   ]
  },
  {
   "cell_type": "code",
   "execution_count": 25,
   "metadata": {},
   "outputs": [
    {
     "data": {
      "text/html": [
       "\n",
       "\n",
       "\n",
       "\n",
       "\n",
       "\n",
       "  <div class=\"bk-root\" id=\"b93443f4-b7e4-4427-b918-7e883fbbee20\"></div>\n"
      ]
     },
     "metadata": {},
     "output_type": "display_data"
    },
    {
     "data": {
      "application/javascript": [
       "(function(root) {\n",
       "  function embed_document(root) {\n",
       "    \n",
       "  var docs_json = {\"032e5ba2-7ed5-4c9d-af87-3eb35ec9778a\":{\"roots\":{\"references\":[{\"attributes\":{},\"id\":\"a62e5eba-e983-421d-8eeb-c15f6a169b51\",\"type\":\"BasicTickFormatter\"},{\"attributes\":{\"source\":{\"id\":\"23a051d6-52bc-45f3-8a13-f58cfbe20637\",\"type\":\"ColumnDataSource\"}},\"id\":\"13466c48-e895-4102-a0a8-cc5ae13ad9f2\",\"type\":\"CDSView\"},{\"attributes\":{\"fill_alpha\":{\"value\":0.2},\"line_alpha\":{\"value\":0.2},\"plot\":null,\"size\":10},\"id\":\"03db2493-ce09-4daa-b4d5-fab7d4fdf7cd\",\"type\":\"NormalHead\"},{\"attributes\":{\"fill_alpha\":{\"value\":0.2},\"line_alpha\":{\"value\":0.2},\"plot\":null,\"size\":10},\"id\":\"5f99b43b-00bf-4dcd-bd0e-02ee328561c8\",\"type\":\"NormalHead\"},{\"attributes\":{\"end\":{\"id\":\"3151f0e8-f240-4b04-a8e3-73b4a2e84187\",\"type\":\"NormalHead\"},\"line_alpha\":{\"value\":0.4},\"line_color\":{\"value\":\"blue\"},\"line_width\":{\"value\":3},\"plot\":{\"id\":\"78e27503-851e-49e9-8cb0-95e7ad65cc7b\",\"subtype\":\"Figure\",\"type\":\"Plot\"},\"source\":null,\"start\":null,\"x_end\":{\"value\":1},\"x_start\":{\"value\":0},\"y_end\":{\"value\":4},\"y_start\":{\"value\":0}},\"id\":\"3b56982f-ab05-41ed-8285-cf9eae63a1c6\",\"type\":\"Arrow\"},{\"attributes\":{\"fill_alpha\":{\"value\":0.2},\"line_alpha\":{\"value\":0.2},\"plot\":null,\"size\":10},\"id\":\"268e8b0c-5759-4f78-9b25-28d0381661cd\",\"type\":\"NormalHead\"},{\"attributes\":{\"end\":{\"id\":\"dbdd9209-df11-44cb-b4c3-745228bdca77\",\"type\":\"NormalHead\"},\"line_alpha\":{\"value\":0.2},\"line_width\":{\"value\":3},\"plot\":{\"id\":\"78e27503-851e-49e9-8cb0-95e7ad65cc7b\",\"subtype\":\"Figure\",\"type\":\"Plot\"},\"source\":null,\"start\":null,\"x_end\":{\"value\":-10.9725464008537},\"x_start\":{\"value\":0},\"y_end\":{\"value\":-43.8901856034148},\"y_start\":{\"value\":0}},\"id\":\"e397515f-6eea-4113-be81-f52630cad003\",\"type\":\"Arrow\"},{\"attributes\":{\"plot\":null,\"text\":\"\"},\"id\":\"743956bd-adb1-4824-92b3-fa46b4cde6d2\",\"type\":\"Title\"},{\"attributes\":{\"fill_alpha\":{\"value\":0.2},\"line_alpha\":{\"value\":0.2},\"plot\":null,\"size\":10},\"id\":\"ccc95e40-fbff-4598-ab1b-dee0767a3996\",\"type\":\"NormalHead\"},{\"attributes\":{\"fill_alpha\":{\"value\":0.2},\"line_alpha\":{\"value\":0.2},\"plot\":null,\"size\":10},\"id\":\"aeb43f09-4d4e-4e0e-b300-ab1f456f1264\",\"type\":\"NormalHead\"},{\"attributes\":{\"end\":{\"id\":\"3d9130c4-98f6-494c-a0cc-b81a7a518234\",\"type\":\"NormalHead\"},\"line_alpha\":{\"value\":0.4},\"line_color\":{\"value\":\"red\"},\"line_width\":{\"value\":3},\"plot\":{\"id\":\"78e27503-851e-49e9-8cb0-95e7ad65cc7b\",\"subtype\":\"Figure\",\"type\":\"Plot\"},\"source\":null,\"start\":null,\"x_end\":{\"value\":2.5},\"x_start\":{\"value\":0},\"y_end\":{\"value\":10.0},\"y_start\":{\"value\":0}},\"id\":\"15e3c520-8fe7-4458-b3f8-b5dcd50d863c\",\"type\":\"Arrow\"},{\"attributes\":{\"end\":{\"id\":\"5f99b43b-00bf-4dcd-bd0e-02ee328561c8\",\"type\":\"NormalHead\"},\"line_alpha\":{\"value\":0.2},\"line_width\":{\"value\":3},\"plot\":{\"id\":\"78e27503-851e-49e9-8cb0-95e7ad65cc7b\",\"subtype\":\"Figure\",\"type\":\"Plot\"},\"source\":null,\"start\":null,\"x_end\":{\"value\":0.5765689614409442},\"x_start\":{\"value\":0},\"y_end\":{\"value\":2.3062758457637766},\"y_start\":{\"value\":0}},\"id\":\"3de9965c-9c96-48e8-9e13-c0a8be247e24\",\"type\":\"Arrow\"},{\"attributes\":{\"fill_alpha\":{\"value\":0.2},\"line_alpha\":{\"value\":0.2},\"plot\":null,\"size\":10},\"id\":\"7b0ab26a-960c-4ee4-b05c-d5f5e48fd721\",\"type\":\"NormalHead\"},{\"attributes\":{},\"id\":\"a4c425ea-2b49-413f-9643-dcf45d6ce4d2\",\"type\":\"Selection\"},{\"attributes\":{\"end\":{\"id\":\"268e8b0c-5759-4f78-9b25-28d0381661cd\",\"type\":\"NormalHead\"},\"line_alpha\":{\"value\":0.2},\"line_width\":{\"value\":3},\"plot\":{\"id\":\"78e27503-851e-49e9-8cb0-95e7ad65cc7b\",\"subtype\":\"Figure\",\"type\":\"Plot\"},\"source\":null,\"start\":null,\"x_end\":{\"value\":-4.666261098611775},\"x_start\":{\"value\":0},\"y_end\":{\"value\":-18.6650443944471},\"y_start\":{\"value\":0}},\"id\":\"bd21ea3b-db7f-45c5-b2db-3c80f2dcd2ce\",\"type\":\"Arrow\"},{\"attributes\":{},\"id\":\"6977f64d-64e2-4770-97e9-85a38a0662d1\",\"type\":\"BasicTickFormatter\"},{\"attributes\":{\"fill_alpha\":{\"value\":0.2},\"line_alpha\":{\"value\":0.2},\"plot\":null,\"size\":10},\"id\":\"6c4e8ae2-702a-428b-b18a-4d43feb98d15\",\"type\":\"NormalHead\"},{\"attributes\":{\"fill_alpha\":{\"value\":0.2},\"line_alpha\":{\"value\":0.2},\"plot\":null,\"size\":10},\"id\":\"cb1eddc1-ea02-49b8-9c10-b4f4d7a0f015\",\"type\":\"NormalHead\"},{\"attributes\":{\"end\":{\"id\":\"aeb43f09-4d4e-4e0e-b300-ab1f456f1264\",\"type\":\"NormalHead\"},\"line_alpha\":{\"value\":0.2},\"line_width\":{\"value\":3},\"plot\":{\"id\":\"78e27503-851e-49e9-8cb0-95e7ad65cc7b\",\"subtype\":\"Figure\",\"type\":\"Plot\"},\"source\":null,\"start\":null,\"x_end\":{\"value\":9.854139673198642},\"x_start\":{\"value\":0},\"y_end\":{\"value\":39.41655869279457},\"y_start\":{\"value\":0}},\"id\":\"e0a8ac20-575d-4118-b4d8-54040740af01\",\"type\":\"Arrow\"},{\"attributes\":{},\"id\":\"b1d25472-1d86-4418-a9ad-97b43dca2135\",\"type\":\"UnionRenderers\"},{\"attributes\":{\"fill_alpha\":{\"value\":0.2},\"line_alpha\":{\"value\":0.2},\"plot\":null,\"size\":10},\"id\":\"93cb1513-0350-48bc-a83e-61c04863c8da\",\"type\":\"NormalHead\"},{\"attributes\":{},\"id\":\"a2d55557-a45a-4716-989b-34abda8a0e91\",\"type\":\"Selection\"},{\"attributes\":{\"end\":{\"id\":\"7b0ab26a-960c-4ee4-b05c-d5f5e48fd721\",\"type\":\"NormalHead\"},\"line_alpha\":{\"value\":0.2},\"line_width\":{\"value\":3},\"plot\":{\"id\":\"78e27503-851e-49e9-8cb0-95e7ad65cc7b\",\"subtype\":\"Figure\",\"type\":\"Plot\"},\"source\":null,\"start\":null,\"x_end\":{\"value\":4.679649340039695},\"x_start\":{\"value\":0},\"y_end\":{\"value\":18.71859736015878},\"y_start\":{\"value\":0}},\"id\":\"08a0ac60-9907-4a97-96a6-2166c668f582\",\"type\":\"Arrow\"},{\"attributes\":{},\"id\":\"e52b5da2-1e8e-42a8-a9b5-b3e6a0272dca\",\"type\":\"UnionRenderers\"},{\"attributes\":{\"fill_alpha\":{\"value\":0.2},\"line_alpha\":{\"value\":0.2},\"plot\":null,\"size\":10},\"id\":\"5a8c1e10-0db9-48f6-ab51-657c0c170a71\",\"type\":\"NormalHead\"},{\"attributes\":{\"fill_alpha\":{\"value\":0.2},\"line_alpha\":{\"value\":0.2},\"plot\":null,\"size\":10},\"id\":\"931b70b1-dda4-4a18-ba3d-5cdac81b2e2c\",\"type\":\"NormalHead\"},{\"attributes\":{\"end\":{\"id\":\"c461e57c-a1ee-4b27-9836-0a46db07e1d1\",\"type\":\"NormalHead\"},\"line_alpha\":{\"value\":0.2},\"line_width\":{\"value\":3},\"plot\":{\"id\":\"78e27503-851e-49e9-8cb0-95e7ad65cc7b\",\"subtype\":\"Figure\",\"type\":\"Plot\"},\"source\":null,\"start\":null,\"x_end\":{\"value\":8.693186411013553},\"x_start\":{\"value\":0},\"y_end\":{\"value\":34.77274564405421},\"y_start\":{\"value\":0}},\"id\":\"6bac3346-6869-4e26-82ca-0e5dfdfc861f\",\"type\":\"Arrow\"},{\"attributes\":{\"end\":{\"id\":\"cb1eddc1-ea02-49b8-9c10-b4f4d7a0f015\",\"type\":\"NormalHead\"},\"line_alpha\":{\"value\":0.2},\"line_width\":{\"value\":3},\"plot\":{\"id\":\"78e27503-851e-49e9-8cb0-95e7ad65cc7b\",\"subtype\":\"Figure\",\"type\":\"Plot\"},\"source\":null,\"start\":null,\"x_end\":{\"value\":10.781723410096443},\"x_start\":{\"value\":0},\"y_end\":{\"value\":43.126893640385774},\"y_start\":{\"value\":0}},\"id\":\"3542ff2b-0358-433e-8eba-14589f319d6f\",\"type\":\"Arrow\"},{\"attributes\":{\"fill_alpha\":{\"value\":0.2},\"line_alpha\":{\"value\":0.2},\"plot\":null,\"size\":10},\"id\":\"3e7e3c4a-a1d1-42d7-9623-06fd156b05d3\",\"type\":\"NormalHead\"},{\"attributes\":{\"end\":{\"id\":\"93cb1513-0350-48bc-a83e-61c04863c8da\",\"type\":\"NormalHead\"},\"line_alpha\":{\"value\":0.2},\"line_width\":{\"value\":3},\"plot\":{\"id\":\"78e27503-851e-49e9-8cb0-95e7ad65cc7b\",\"subtype\":\"Figure\",\"type\":\"Plot\"},\"source\":null,\"start\":null,\"x_end\":{\"value\":6.169407090813839},\"x_start\":{\"value\":0},\"y_end\":{\"value\":24.677628363255355},\"y_start\":{\"value\":0}},\"id\":\"470a8e4d-b74b-409b-bfd7-2baa68a70602\",\"type\":\"Arrow\"},{\"attributes\":{\"end\":{\"id\":\"5c90c27f-7e9b-496f-b1c6-97ad1e135aa1\",\"type\":\"NormalHead\"},\"line_alpha\":{\"value\":0.2},\"line_width\":{\"value\":3},\"plot\":{\"id\":\"78e27503-851e-49e9-8cb0-95e7ad65cc7b\",\"subtype\":\"Figure\",\"type\":\"Plot\"},\"source\":null,\"start\":null,\"x_end\":{\"value\":11.963722194713744},\"x_start\":{\"value\":0},\"y_end\":{\"value\":47.85488877885498},\"y_start\":{\"value\":0}},\"id\":\"328d9c38-c5cf-4c11-90e8-e38c08cc22b6\",\"type\":\"Arrow\"},{\"attributes\":{\"fill_alpha\":{\"value\":0.2},\"line_alpha\":{\"value\":0.2},\"plot\":null,\"size\":10},\"id\":\"ca48c312-6d2c-4b10-b075-abbbd97b3b07\",\"type\":\"NormalHead\"},{\"attributes\":{\"end\":{\"id\":\"22e328ad-a5ef-4fe2-87e9-9fa27164c405\",\"type\":\"NormalHead\"},\"line_alpha\":{\"value\":0.2},\"line_width\":{\"value\":3},\"plot\":{\"id\":\"78e27503-851e-49e9-8cb0-95e7ad65cc7b\",\"subtype\":\"Figure\",\"type\":\"Plot\"},\"source\":null,\"start\":null,\"x_end\":{\"value\":-15.436407258659504},\"x_start\":{\"value\":0},\"y_end\":{\"value\":-61.745629034638014},\"y_start\":{\"value\":0}},\"id\":\"b80446ce-17f9-41a2-91ce-6bf1361d3c58\",\"type\":\"Arrow\"},{\"attributes\":{\"end\":{\"id\":\"931b70b1-dda4-4a18-ba3d-5cdac81b2e2c\",\"type\":\"NormalHead\"},\"line_alpha\":{\"value\":0.2},\"line_width\":{\"value\":3},\"plot\":{\"id\":\"78e27503-851e-49e9-8cb0-95e7ad65cc7b\",\"subtype\":\"Figure\",\"type\":\"Plot\"},\"source\":null,\"start\":null,\"x_end\":{\"value\":9.041043598365576},\"x_start\":{\"value\":0},\"y_end\":{\"value\":36.164174393462304},\"y_start\":{\"value\":0}},\"id\":\"df5918c5-fd68-4606-8909-5eba57ca28ec\",\"type\":\"Arrow\"},{\"attributes\":{\"callback\":null,\"data\":{\"x\":[-30,30],\"y\":[0,0]},\"selected\":{\"id\":\"a2d55557-a45a-4716-989b-34abda8a0e91\",\"type\":\"Selection\"},\"selection_policy\":{\"id\":\"e52b5da2-1e8e-42a8-a9b5-b3e6a0272dca\",\"type\":\"UnionRenderers\"}},\"id\":\"fdf2f023-dfb3-48d0-8ec6-5a9345a40425\",\"type\":\"ColumnDataSource\"},{\"attributes\":{\"fill_alpha\":{\"value\":0.2},\"line_alpha\":{\"value\":0.2},\"plot\":null,\"size\":10},\"id\":\"565875ff-8b78-42e9-b5d0-211a85bf2e39\",\"type\":\"NormalHead\"},{\"attributes\":{\"end\":{\"id\":\"3e7e3c4a-a1d1-42d7-9623-06fd156b05d3\",\"type\":\"NormalHead\"},\"line_alpha\":{\"value\":0.2},\"line_width\":{\"value\":3},\"plot\":{\"id\":\"78e27503-851e-49e9-8cb0-95e7ad65cc7b\",\"subtype\":\"Figure\",\"type\":\"Plot\"},\"source\":null,\"start\":null,\"x_end\":{\"value\":-4.4700429483314},\"x_start\":{\"value\":0},\"y_end\":{\"value\":-17.8801717933256},\"y_start\":{\"value\":0}},\"id\":\"7cab7570-c72f-42f4-979b-57bc51e62858\",\"type\":\"Arrow\"},{\"attributes\":{\"fill_alpha\":{\"value\":0.4},\"fill_color\":{\"value\":\"red\"},\"line_alpha\":{\"value\":0.4},\"line_color\":{\"value\":\"red\"},\"plot\":null,\"size\":10},\"id\":\"3d9130c4-98f6-494c-a0cc-b81a7a518234\",\"type\":\"NormalHead\"},{\"attributes\":{\"fill_alpha\":{\"value\":0.2},\"line_alpha\":{\"value\":0.2},\"plot\":null,\"size\":10},\"id\":\"74ed485f-dc6f-469a-906e-50e622cbb395\",\"type\":\"NormalHead\"},{\"attributes\":{\"end\":{\"id\":\"ca48c312-6d2c-4b10-b075-abbbd97b3b07\",\"type\":\"NormalHead\"},\"line_alpha\":{\"value\":0.2},\"line_width\":{\"value\":3},\"plot\":{\"id\":\"78e27503-851e-49e9-8cb0-95e7ad65cc7b\",\"subtype\":\"Figure\",\"type\":\"Plot\"},\"source\":null,\"start\":null,\"x_end\":{\"value\":1.5870256784667074},\"x_start\":{\"value\":0},\"y_end\":{\"value\":6.34810271386683},\"y_start\":{\"value\":0}},\"id\":\"745c4132-694e-49d2-9a28-34819a22b6a3\",\"type\":\"Arrow\"},{\"attributes\":{\"fill_alpha\":{\"value\":0.2},\"line_alpha\":{\"value\":0.2},\"plot\":null,\"size\":10},\"id\":\"2bebdfb9-b325-44b2-8cb4-d9cb1f0f4494\",\"type\":\"NormalHead\"},{\"attributes\":{\"end\":{\"id\":\"565875ff-8b78-42e9-b5d0-211a85bf2e39\",\"type\":\"NormalHead\"},\"line_alpha\":{\"value\":0.2},\"line_width\":{\"value\":3},\"plot\":{\"id\":\"78e27503-851e-49e9-8cb0-95e7ad65cc7b\",\"subtype\":\"Figure\",\"type\":\"Plot\"},\"source\":null,\"start\":null,\"x_end\":{\"value\":2.312604312642584},\"x_start\":{\"value\":0},\"y_end\":{\"value\":9.250417250570337},\"y_start\":{\"value\":0}},\"id\":\"45429f2c-750e-4c58-864c-93f5f3bd5a2d\",\"type\":\"Arrow\"},{\"attributes\":{\"fill_alpha\":{\"value\":0.2},\"line_alpha\":{\"value\":0.2},\"plot\":null,\"size\":10},\"id\":\"8e654b4d-ea5d-4dc6-93cf-990afaa9bdcc\",\"type\":\"NormalHead\"},{\"attributes\":{\"end\":{\"id\":\"74ed485f-dc6f-469a-906e-50e622cbb395\",\"type\":\"NormalHead\"},\"line_alpha\":{\"value\":0.2},\"line_width\":{\"value\":3},\"plot\":{\"id\":\"78e27503-851e-49e9-8cb0-95e7ad65cc7b\",\"subtype\":\"Figure\",\"type\":\"Plot\"},\"source\":null,\"start\":null,\"x_end\":{\"value\":-3.9599833929665103},\"x_start\":{\"value\":0},\"y_end\":{\"value\":-15.839933571866041},\"y_start\":{\"value\":0}},\"id\":\"bc8b29b8-1077-44e3-b00f-91419778376f\",\"type\":\"Arrow\"},{\"attributes\":{\"fill_alpha\":{\"value\":0.2},\"line_alpha\":{\"value\":0.2},\"plot\":null,\"size\":10},\"id\":\"7f0d7521-c777-470a-8a63-2b26a5c9d953\",\"type\":\"NormalHead\"},{\"attributes\":{\"end\":{\"id\":\"2bebdfb9-b325-44b2-8cb4-d9cb1f0f4494\",\"type\":\"NormalHead\"},\"line_alpha\":{\"value\":0.2},\"line_width\":{\"value\":3},\"plot\":{\"id\":\"78e27503-851e-49e9-8cb0-95e7ad65cc7b\",\"subtype\":\"Figure\",\"type\":\"Plot\"},\"source\":null,\"start\":null,\"x_end\":{\"value\":-9.330063662440885},\"x_start\":{\"value\":0},\"y_end\":{\"value\":-37.32025464976354},\"y_start\":{\"value\":0}},\"id\":\"e8e13e68-3afc-49be-91a4-3e6fbad83259\",\"type\":\"Arrow\"},{\"attributes\":{\"fill_alpha\":{\"value\":0.2},\"line_alpha\":{\"value\":0.2},\"plot\":null,\"size\":10},\"id\":\"e7200348-7efe-46bd-ab47-7e969e61d8d9\",\"type\":\"NormalHead\"},{\"attributes\":{\"end\":{\"id\":\"8e654b4d-ea5d-4dc6-93cf-990afaa9bdcc\",\"type\":\"NormalHead\"},\"line_alpha\":{\"value\":0.2},\"line_width\":{\"value\":3},\"plot\":{\"id\":\"78e27503-851e-49e9-8cb0-95e7ad65cc7b\",\"subtype\":\"Figure\",\"type\":\"Plot\"},\"source\":null,\"start\":null,\"x_end\":{\"value\":-8.6029067236387},\"x_start\":{\"value\":0},\"y_end\":{\"value\":-34.4116268945548},\"y_start\":{\"value\":0}},\"id\":\"11f87634-2cb8-4e72-acb6-e3525b423fb1\",\"type\":\"Arrow\"},{\"attributes\":{\"line_width\":1.5,\"x\":{\"field\":\"x\"},\"y\":{\"field\":\"y\"}},\"id\":\"e441d439-17e8-4b6c-b107-38e5a058d093\",\"type\":\"Line\"},{\"attributes\":{\"fill_alpha\":{\"value\":0.2},\"line_alpha\":{\"value\":0.2},\"plot\":null,\"size\":10},\"id\":\"d8314050-7219-465b-8aa7-7310262195c4\",\"type\":\"NormalHead\"},{\"attributes\":{\"end\":{\"id\":\"7f0d7521-c777-470a-8a63-2b26a5c9d953\",\"type\":\"NormalHead\"},\"line_alpha\":{\"value\":0.2},\"line_width\":{\"value\":3},\"plot\":{\"id\":\"78e27503-851e-49e9-8cb0-95e7ad65cc7b\",\"subtype\":\"Figure\",\"type\":\"Plot\"},\"source\":null,\"start\":null,\"x_end\":{\"value\":10.524058237646221},\"x_start\":{\"value\":0},\"y_end\":{\"value\":42.096232950584884},\"y_start\":{\"value\":0}},\"id\":\"25c411e3-5af5-4c7c-b200-a53d4b00016a\",\"type\":\"Arrow\"},{\"attributes\":{\"data_source\":{\"id\":\"23a051d6-52bc-45f3-8a13-f58cfbe20637\",\"type\":\"ColumnDataSource\"},\"glyph\":{\"id\":\"5456689a-0eea-4656-a59d-94e6e8d98265\",\"type\":\"Line\"},\"hover_glyph\":null,\"muted_glyph\":null,\"nonselection_glyph\":{\"id\":\"ab09e492-c6a4-47e1-89ae-60a664af4c68\",\"type\":\"Line\"},\"selection_glyph\":null,\"view\":{\"id\":\"13466c48-e895-4102-a0a8-cc5ae13ad9f2\",\"type\":\"CDSView\"}},\"id\":\"a3b6088e-c67e-48d1-bcda-0237ff75e82e\",\"type\":\"GlyphRenderer\"},{\"attributes\":{\"fill_alpha\":{\"value\":0.2},\"line_alpha\":{\"value\":0.2},\"plot\":null,\"size\":10},\"id\":\"af59ff28-6390-4b8d-bcba-b4fde369deb6\",\"type\":\"NormalHead\"},{\"attributes\":{\"end\":{\"id\":\"e7200348-7efe-46bd-ab47-7e969e61d8d9\",\"type\":\"NormalHead\"},\"line_alpha\":{\"value\":0.2},\"line_width\":{\"value\":3},\"plot\":{\"id\":\"78e27503-851e-49e9-8cb0-95e7ad65cc7b\",\"subtype\":\"Figure\",\"type\":\"Plot\"},\"source\":null,\"start\":null,\"x_end\":{\"value\":3.727765964024121},\"x_start\":{\"value\":0},\"y_end\":{\"value\":14.911063856096485},\"y_start\":{\"value\":0}},\"id\":\"652cf94e-f943-4fc7-9c74-b136ca23e9aa\",\"type\":\"Arrow\"},{\"attributes\":{\"line_alpha\":0.1,\"line_color\":\"#1f77b4\",\"line_width\":1.5,\"x\":{\"field\":\"x\"},\"y\":{\"field\":\"y\"}},\"id\":\"2b158795-6c5f-4147-b9f8-f3f356c4e4d9\",\"type\":\"Line\"},{\"attributes\":{\"end\":{\"id\":\"03f40ff7-3d5c-4014-b35b-6aec889541ee\",\"type\":\"NormalHead\"},\"line_alpha\":{\"value\":0.2},\"line_width\":{\"value\":3},\"plot\":{\"id\":\"78e27503-851e-49e9-8cb0-95e7ad65cc7b\",\"subtype\":\"Figure\",\"type\":\"Plot\"},\"source\":null,\"start\":null,\"x_end\":{\"value\":-2.512278020880201},\"x_start\":{\"value\":0},\"y_end\":{\"value\":-10.049112083520804},\"y_start\":{\"value\":0}},\"id\":\"b0175059-b9b8-484b-b2ec-8ac18f02084c\",\"type\":\"Arrow\"},{\"attributes\":{\"fill_alpha\":{\"value\":0.2},\"line_alpha\":{\"value\":0.2},\"plot\":null,\"size\":10},\"id\":\"11059463-1f20-4655-ae9c-d552b2f6cf78\",\"type\":\"NormalHead\"},{\"attributes\":{\"end\":{\"id\":\"d8314050-7219-465b-8aa7-7310262195c4\",\"type\":\"NormalHead\"},\"line_alpha\":{\"value\":0.2},\"line_width\":{\"value\":3},\"plot\":{\"id\":\"78e27503-851e-49e9-8cb0-95e7ad65cc7b\",\"subtype\":\"Figure\",\"type\":\"Plot\"},\"source\":null,\"start\":null,\"x_end\":{\"value\":10.49786388791053},\"x_start\":{\"value\":0},\"y_end\":{\"value\":41.99145555164212},\"y_start\":{\"value\":0}},\"id\":\"65a67c0e-8257-43f8-a26c-b945a831a722\",\"type\":\"Arrow\"},{\"attributes\":{\"source\":{\"id\":\"fdf2f023-dfb3-48d0-8ec6-5a9345a40425\",\"type\":\"ColumnDataSource\"}},\"id\":\"ea5f2e99-da9b-4e93-87a2-9b0919a4033f\",\"type\":\"CDSView\"},{\"attributes\":{\"fill_alpha\":{\"value\":0.2},\"line_alpha\":{\"value\":0.2},\"plot\":null,\"size\":10},\"id\":\"580fad4b-ea33-4285-8ec8-a24dbbf9e424\",\"type\":\"NormalHead\"},{\"attributes\":{\"dimension\":1,\"plot\":{\"id\":\"78e27503-851e-49e9-8cb0-95e7ad65cc7b\",\"subtype\":\"Figure\",\"type\":\"Plot\"},\"ticker\":{\"id\":\"5979d0db-aec8-45ea-9392-dee103b08703\",\"type\":\"BasicTicker\"}},\"id\":\"fad397ab-332b-459a-ac3f-7f0ef6048c6d\",\"type\":\"Grid\"},{\"attributes\":{\"end\":{\"id\":\"af59ff28-6390-4b8d-bcba-b4fde369deb6\",\"type\":\"NormalHead\"},\"line_alpha\":{\"value\":0.2},\"line_width\":{\"value\":3},\"plot\":{\"id\":\"78e27503-851e-49e9-8cb0-95e7ad65cc7b\",\"subtype\":\"Figure\",\"type\":\"Plot\"},\"source\":null,\"start\":null,\"x_end\":{\"value\":9.722457747965114},\"x_start\":{\"value\":0},\"y_end\":{\"value\":38.88983099186046},\"y_start\":{\"value\":0}},\"id\":\"bf4ecca3-49c1-4cf1-94a5-c7c41406fd83\",\"type\":\"Arrow\"},{\"attributes\":{\"fill_alpha\":{\"value\":0.2},\"line_alpha\":{\"value\":0.2},\"plot\":null,\"size\":10},\"id\":\"9dd6f153-84f6-42b1-ab48-92f3603d7847\",\"type\":\"NormalHead\"},{\"attributes\":{\"end\":{\"id\":\"11059463-1f20-4655-ae9c-d552b2f6cf78\",\"type\":\"NormalHead\"},\"line_alpha\":{\"value\":0.2},\"line_width\":{\"value\":3},\"plot\":{\"id\":\"78e27503-851e-49e9-8cb0-95e7ad65cc7b\",\"subtype\":\"Figure\",\"type\":\"Plot\"},\"source\":null,\"start\":null,\"x_end\":{\"value\":6.171769228576585},\"x_start\":{\"value\":0},\"y_end\":{\"value\":24.68707691430634},\"y_start\":{\"value\":0}},\"id\":\"0dc2e994-e6ba-4c77-87f7-2e768f722477\",\"type\":\"Arrow\"},{\"attributes\":{\"fill_alpha\":{\"value\":0.2},\"line_alpha\":{\"value\":0.2},\"plot\":null,\"size\":10},\"id\":\"6eb0f350-218d-45c1-8b6b-5e9b934f2008\",\"type\":\"NormalHead\"},{\"attributes\":{\"end\":{\"id\":\"580fad4b-ea33-4285-8ec8-a24dbbf9e424\",\"type\":\"NormalHead\"},\"line_alpha\":{\"value\":0.2},\"line_width\":{\"value\":3},\"plot\":{\"id\":\"78e27503-851e-49e9-8cb0-95e7ad65cc7b\",\"subtype\":\"Figure\",\"type\":\"Plot\"},\"source\":null,\"start\":null,\"x_end\":{\"value\":-1.7253566745816613},\"x_start\":{\"value\":0},\"y_end\":{\"value\":-6.901426698326645},\"y_start\":{\"value\":0}},\"id\":\"efec6597-eb45-4b8d-8355-f7673e708943\",\"type\":\"Arrow\"},{\"attributes\":{\"end\":{\"id\":\"5560f677-2c63-481c-a8e4-e9435f4f1269\",\"type\":\"NormalHead\"},\"line_alpha\":{\"value\":0.2},\"line_width\":{\"value\":3},\"plot\":{\"id\":\"78e27503-851e-49e9-8cb0-95e7ad65cc7b\",\"subtype\":\"Figure\",\"type\":\"Plot\"},\"source\":null,\"start\":null,\"x_end\":{\"value\":-12.129095693824866},\"x_start\":{\"value\":0},\"y_end\":{\"value\":-48.51638277529946},\"y_start\":{\"value\":0}},\"id\":\"e31758dc-23db-4d32-840f-550d2a442409\",\"type\":\"Arrow\"},{\"attributes\":{\"fill_alpha\":{\"value\":0.2},\"line_alpha\":{\"value\":0.2},\"plot\":null,\"size\":10},\"id\":\"b203baac-513b-4569-9170-a230916b1b6a\",\"type\":\"NormalHead\"},{\"attributes\":{\"end\":{\"id\":\"9dd6f153-84f6-42b1-ab48-92f3603d7847\",\"type\":\"NormalHead\"},\"line_alpha\":{\"value\":0.2},\"line_width\":{\"value\":3},\"plot\":{\"id\":\"78e27503-851e-49e9-8cb0-95e7ad65cc7b\",\"subtype\":\"Figure\",\"type\":\"Plot\"},\"source\":null,\"start\":null,\"x_end\":{\"value\":4.9578636873472615},\"x_start\":{\"value\":0},\"y_end\":{\"value\":19.831454749389046},\"y_start\":{\"value\":0}},\"id\":\"db8c0aed-d89a-4fe0-a4c6-da4747b996ad\",\"type\":\"Arrow\"},{\"attributes\":{},\"id\":\"dcd298ba-ea8a-4aae-ab8a-6162698ad218\",\"type\":\"WheelZoomTool\"},{\"attributes\":{\"fill_alpha\":{\"value\":0.2},\"line_alpha\":{\"value\":0.2},\"plot\":null,\"size\":10},\"id\":\"05dda371-cb07-4793-9877-ade5d44e5cc3\",\"type\":\"NormalHead\"},{\"attributes\":{\"fill_alpha\":{\"value\":0.2},\"line_alpha\":{\"value\":0.2},\"plot\":null,\"size\":10},\"id\":\"5560f677-2c63-481c-a8e4-e9435f4f1269\",\"type\":\"NormalHead\"},{\"attributes\":{\"fill_alpha\":{\"value\":0.2},\"line_alpha\":{\"value\":0.2},\"plot\":null,\"size\":10},\"id\":\"3e701b72-8ceb-4b3b-8aa2-b775022f48c9\",\"type\":\"NormalHead\"},{\"attributes\":{\"end\":{\"id\":\"6eb0f350-218d-45c1-8b6b-5e9b934f2008\",\"type\":\"NormalHead\"},\"line_alpha\":{\"value\":0.2},\"line_width\":{\"value\":3},\"plot\":{\"id\":\"78e27503-851e-49e9-8cb0-95e7ad65cc7b\",\"subtype\":\"Figure\",\"type\":\"Plot\"},\"source\":null,\"start\":null,\"x_end\":{\"value\":2.333739831647562},\"x_start\":{\"value\":0},\"y_end\":{\"value\":9.334959326590248},\"y_start\":{\"value\":0}},\"id\":\"2f431f19-efce-4fb7-8b51-e90ea020138e\",\"type\":\"Arrow\"},{\"attributes\":{\"plot\":{\"id\":\"78e27503-851e-49e9-8cb0-95e7ad65cc7b\",\"subtype\":\"Figure\",\"type\":\"Plot\"},\"ticker\":{\"id\":\"08de4212-eb83-45fd-a9fa-d6fde69d95bd\",\"type\":\"BasicTicker\"}},\"id\":\"5aa09483-bb6e-428a-b0ff-9df36ea53038\",\"type\":\"Grid\"},{\"attributes\":{\"end\":{\"id\":\"1eacdfff-2e11-40c7-8036-fe6ecdc078f6\",\"type\":\"NormalHead\"},\"line_alpha\":{\"value\":0.2},\"line_width\":{\"value\":3},\"plot\":{\"id\":\"78e27503-851e-49e9-8cb0-95e7ad65cc7b\",\"subtype\":\"Figure\",\"type\":\"Plot\"},\"source\":null,\"start\":null,\"x_end\":{\"value\":-11.223023814857644},\"x_start\":{\"value\":0},\"y_end\":{\"value\":-44.892095259430576},\"y_start\":{\"value\":0}},\"id\":\"06e76b46-004b-41be-ae66-003b2727032e\",\"type\":\"Arrow\"},{\"attributes\":{\"end\":{\"id\":\"4af08da6-954d-4337-a99d-d67f327fca7a\",\"type\":\"NormalHead\"},\"line_alpha\":{\"value\":0.2},\"line_width\":{\"value\":3},\"plot\":{\"id\":\"78e27503-851e-49e9-8cb0-95e7ad65cc7b\",\"subtype\":\"Figure\",\"type\":\"Plot\"},\"source\":null,\"start\":null,\"x_end\":{\"value\":-5.823593073278563},\"x_start\":{\"value\":0},\"y_end\":{\"value\":-23.29437229311425},\"y_start\":{\"value\":0}},\"id\":\"5ae2a3c2-719a-4cb8-973d-96350f71fc06\",\"type\":\"Arrow\"},{\"attributes\":{\"end\":{\"id\":\"b203baac-513b-4569-9170-a230916b1b6a\",\"type\":\"NormalHead\"},\"line_alpha\":{\"value\":0.2},\"line_width\":{\"value\":3},\"plot\":{\"id\":\"78e27503-851e-49e9-8cb0-95e7ad65cc7b\",\"subtype\":\"Figure\",\"type\":\"Plot\"},\"source\":null,\"start\":null,\"x_end\":{\"value\":7.0883868241746},\"x_start\":{\"value\":0},\"y_end\":{\"value\":28.3535472966984},\"y_start\":{\"value\":0}},\"id\":\"71520b35-6dbe-43f7-87dc-0b535b0801b9\",\"type\":\"Arrow\"},{\"attributes\":{},\"id\":\"4bda5232-f8a5-46a8-a1e8-1161adde499e\",\"type\":\"PanTool\"},{\"attributes\":{},\"id\":\"79aa5e62-5c7b-4c7f-a1d9-c32df8b13a08\",\"type\":\"ResetTool\"},{\"attributes\":{\"fill_alpha\":{\"value\":0.2},\"line_alpha\":{\"value\":0.2},\"plot\":null,\"size\":10},\"id\":\"4af08da6-954d-4337-a99d-d67f327fca7a\",\"type\":\"NormalHead\"},{\"attributes\":{\"end\":{\"id\":\"3e701b72-8ceb-4b3b-8aa2-b775022f48c9\",\"type\":\"NormalHead\"},\"line_alpha\":{\"value\":0.2},\"line_width\":{\"value\":3},\"plot\":{\"id\":\"78e27503-851e-49e9-8cb0-95e7ad65cc7b\",\"subtype\":\"Figure\",\"type\":\"Plot\"},\"source\":null,\"start\":null,\"x_end\":{\"value\":7.47834416821794},\"x_start\":{\"value\":0},\"y_end\":{\"value\":29.91337667287176},\"y_start\":{\"value\":0}},\"id\":\"cd056268-e1ff-4eb6-8a8c-e778109d2f12\",\"type\":\"Arrow\"},{\"attributes\":{\"fill_alpha\":{\"value\":0.2},\"line_alpha\":{\"value\":0.2},\"plot\":null,\"size\":10},\"id\":\"1eacdfff-2e11-40c7-8036-fe6ecdc078f6\",\"type\":\"NormalHead\"},{\"attributes\":{\"end\":{\"id\":\"ccc95e40-fbff-4598-ab1b-dee0767a3996\",\"type\":\"NormalHead\"},\"line_alpha\":{\"value\":0.2},\"line_width\":{\"value\":3},\"plot\":{\"id\":\"78e27503-851e-49e9-8cb0-95e7ad65cc7b\",\"subtype\":\"Figure\",\"type\":\"Plot\"},\"source\":null,\"start\":null,\"x_end\":{\"value\":11.450982438515648},\"x_start\":{\"value\":0},\"y_end\":{\"value\":45.803929754062594},\"y_start\":{\"value\":0}},\"id\":\"3af81313-5af2-437b-83d2-b61240c0cc67\",\"type\":\"Arrow\"},{\"attributes\":{\"end\":{\"id\":\"03db2493-ce09-4daa-b4d5-fab7d4fdf7cd\",\"type\":\"NormalHead\"},\"line_alpha\":{\"value\":0.2},\"line_width\":{\"value\":3},\"plot\":{\"id\":\"78e27503-851e-49e9-8cb0-95e7ad65cc7b\",\"subtype\":\"Figure\",\"type\":\"Plot\"},\"source\":null,\"start\":null,\"x_end\":{\"value\":-5.426657149642743},\"x_start\":{\"value\":0},\"y_end\":{\"value\":-21.706628598570973},\"y_start\":{\"value\":0}},\"id\":\"08cd59ab-aabb-4fbc-a5d5-51c6ef136ab8\",\"type\":\"Arrow\"},{\"attributes\":{\"data_source\":{\"id\":\"fdf2f023-dfb3-48d0-8ec6-5a9345a40425\",\"type\":\"ColumnDataSource\"},\"glyph\":{\"id\":\"e441d439-17e8-4b6c-b107-38e5a058d093\",\"type\":\"Line\"},\"hover_glyph\":null,\"muted_glyph\":null,\"nonselection_glyph\":{\"id\":\"2b158795-6c5f-4147-b9f8-f3f356c4e4d9\",\"type\":\"Line\"},\"selection_glyph\":null,\"view\":{\"id\":\"ea5f2e99-da9b-4e93-87a2-9b0919a4033f\",\"type\":\"CDSView\"}},\"id\":\"9cbdad09-7e5c-4e6f-b652-5fbf1facd5a2\",\"type\":\"GlyphRenderer\"},{\"attributes\":{\"fill_alpha\":{\"value\":0.2},\"line_alpha\":{\"value\":0.2},\"plot\":null,\"size\":10},\"id\":\"af806cca-90c8-4265-bb6d-618e98581b5f\",\"type\":\"NormalHead\"},{\"attributes\":{\"end\":{\"id\":\"af806cca-90c8-4265-bb6d-618e98581b5f\",\"type\":\"NormalHead\"},\"line_alpha\":{\"value\":0.2},\"line_width\":{\"value\":3},\"plot\":{\"id\":\"78e27503-851e-49e9-8cb0-95e7ad65cc7b\",\"subtype\":\"Figure\",\"type\":\"Plot\"},\"source\":null,\"start\":null,\"x_end\":{\"value\":-8.04716248223012},\"x_start\":{\"value\":0},\"y_end\":{\"value\":-32.18864992892048},\"y_start\":{\"value\":0}},\"id\":\"59bf8018-d504-45a9-906d-e5e5bbe0a550\",\"type\":\"Arrow\"},{\"attributes\":{\"fill_alpha\":{\"value\":0.2},\"line_alpha\":{\"value\":0.2},\"plot\":null,\"size\":10},\"id\":\"fcd72e00-716d-473b-b768-2ae8368972a3\",\"type\":\"NormalHead\"},{\"attributes\":{\"formatter\":{\"id\":\"6977f64d-64e2-4770-97e9-85a38a0662d1\",\"type\":\"BasicTickFormatter\"},\"plot\":{\"id\":\"78e27503-851e-49e9-8cb0-95e7ad65cc7b\",\"subtype\":\"Figure\",\"type\":\"Plot\"},\"ticker\":{\"id\":\"5979d0db-aec8-45ea-9392-dee103b08703\",\"type\":\"BasicTicker\"}},\"id\":\"f24a5b40-5b8a-4c7c-8d0e-5725c09a1820\",\"type\":\"LinearAxis\"},{\"attributes\":{\"end\":{\"id\":\"fcd72e00-716d-473b-b768-2ae8368972a3\",\"type\":\"NormalHead\"},\"line_alpha\":{\"value\":0.2},\"line_width\":{\"value\":3},\"plot\":{\"id\":\"78e27503-851e-49e9-8cb0-95e7ad65cc7b\",\"subtype\":\"Figure\",\"type\":\"Plot\"},\"source\":null,\"start\":null,\"x_end\":{\"value\":14.503715192678843},\"x_start\":{\"value\":0},\"y_end\":{\"value\":58.01486077071537},\"y_start\":{\"value\":0}},\"id\":\"dae49486-b6ec-4a98-b40d-cf5f5bb27ee0\",\"type\":\"Arrow\"},{\"attributes\":{\"fill_alpha\":{\"value\":0.2},\"line_alpha\":{\"value\":0.2},\"plot\":null,\"size\":10},\"id\":\"03f40ff7-3d5c-4014-b35b-6aec889541ee\",\"type\":\"NormalHead\"},{\"attributes\":{\"line_width\":1.5,\"x\":{\"field\":\"x\"},\"y\":{\"field\":\"y\"}},\"id\":\"5456689a-0eea-4656-a59d-94e6e8d98265\",\"type\":\"Line\"},{\"attributes\":{\"fill_alpha\":{\"value\":0.2},\"line_alpha\":{\"value\":0.2},\"plot\":null,\"size\":10},\"id\":\"4537590b-b8f1-4dcb-80da-8abe178f628c\",\"type\":\"NormalHead\"},{\"attributes\":{\"line_alpha\":0.1,\"line_color\":\"#1f77b4\",\"line_width\":1.5,\"x\":{\"field\":\"x\"},\"y\":{\"field\":\"y\"}},\"id\":\"ab09e492-c6a4-47e1-89ae-60a664af4c68\",\"type\":\"Line\"},{\"attributes\":{\"fill_alpha\":{\"value\":0.2},\"line_alpha\":{\"value\":0.2},\"plot\":null,\"size\":10},\"id\":\"98fc5a78-740c-4371-9597-1b12250235c4\",\"type\":\"NormalHead\"},{\"attributes\":{},\"id\":\"5979d0db-aec8-45ea-9392-dee103b08703\",\"type\":\"BasicTicker\"},{\"attributes\":{\"fill_alpha\":{\"value\":0.2},\"line_alpha\":{\"value\":0.2},\"plot\":null,\"size\":10},\"id\":\"22e328ad-a5ef-4fe2-87e9-9fa27164c405\",\"type\":\"NormalHead\"},{\"attributes\":{\"end\":{\"id\":\"0bddb41f-12a8-41ab-9e57-05526c3df4e2\",\"type\":\"NormalHead\"},\"line_alpha\":{\"value\":0.2},\"line_width\":{\"value\":3},\"plot\":{\"id\":\"78e27503-851e-49e9-8cb0-95e7ad65cc7b\",\"subtype\":\"Figure\",\"type\":\"Plot\"},\"source\":null,\"start\":null,\"x_end\":{\"value\":5.905116671371626},\"x_start\":{\"value\":0},\"y_end\":{\"value\":23.620466685486505},\"y_start\":{\"value\":0}},\"id\":\"2b7c5219-8415-4655-9087-ea035208e30f\",\"type\":\"Arrow\"},{\"attributes\":{\"end\":{\"id\":\"4537590b-b8f1-4dcb-80da-8abe178f628c\",\"type\":\"NormalHead\"},\"line_alpha\":{\"value\":0.2},\"line_width\":{\"value\":3},\"plot\":{\"id\":\"78e27503-851e-49e9-8cb0-95e7ad65cc7b\",\"subtype\":\"Figure\",\"type\":\"Plot\"},\"source\":null,\"start\":null,\"x_end\":{\"value\":-0.12871363404742464},\"x_start\":{\"value\":0},\"y_end\":{\"value\":-0.5148545361896986},\"y_start\":{\"value\":0}},\"id\":\"e55adeea-72ae-4f89-9bab-1300a7ce426b\",\"type\":\"Arrow\"},{\"attributes\":{\"fill_alpha\":{\"value\":0.2},\"line_alpha\":{\"value\":0.2},\"plot\":null,\"size\":10},\"id\":\"0bddb41f-12a8-41ab-9e57-05526c3df4e2\",\"type\":\"NormalHead\"},{\"attributes\":{\"end\":{\"id\":\"98fc5a78-740c-4371-9597-1b12250235c4\",\"type\":\"NormalHead\"},\"line_alpha\":{\"value\":0.2},\"line_width\":{\"value\":3},\"plot\":{\"id\":\"78e27503-851e-49e9-8cb0-95e7ad65cc7b\",\"subtype\":\"Figure\",\"type\":\"Plot\"},\"source\":null,\"start\":null,\"x_end\":{\"value\":-0.7733995782494292},\"x_start\":{\"value\":0},\"y_end\":{\"value\":-3.0935983129977167},\"y_start\":{\"value\":0}},\"id\":\"5f918d3f-49c5-4328-ac50-e1187d053896\",\"type\":\"Arrow\"},{\"attributes\":{},\"id\":\"c1d03b26-5dcd-4507-93af-c196b8e0a6e3\",\"type\":\"LinearScale\"},{\"attributes\":{\"fill_alpha\":{\"value\":0.2},\"line_alpha\":{\"value\":0.2},\"plot\":null,\"size\":10},\"id\":\"92570af0-df41-441f-87b4-4df097e28d26\",\"type\":\"NormalHead\"},{\"attributes\":{\"fill_alpha\":{\"value\":0.2},\"line_alpha\":{\"value\":0.2},\"plot\":null,\"size\":10},\"id\":\"5c90c27f-7e9b-496f-b1c6-97ad1e135aa1\",\"type\":\"NormalHead\"},{\"attributes\":{\"fill_alpha\":{\"value\":0.2},\"line_alpha\":{\"value\":0.2},\"plot\":null,\"size\":10},\"id\":\"c461e57c-a1ee-4b27-9836-0a46db07e1d1\",\"type\":\"NormalHead\"},{\"attributes\":{\"end\":{\"id\":\"8ffc45f0-bb93-4558-ba20-4cec89a0d3dc\",\"type\":\"NormalHead\"},\"line_alpha\":{\"value\":0.2},\"line_width\":{\"value\":3},\"plot\":{\"id\":\"78e27503-851e-49e9-8cb0-95e7ad65cc7b\",\"subtype\":\"Figure\",\"type\":\"Plot\"},\"source\":null,\"start\":null,\"x_end\":{\"value\":0.6021064092620412},\"x_start\":{\"value\":0},\"y_end\":{\"value\":2.4084256370481647},\"y_start\":{\"value\":0}},\"id\":\"84b542a3-6901-476e-85b1-0fb62ef7f539\",\"type\":\"Arrow\"},{\"attributes\":{\"end\":{\"id\":\"92570af0-df41-441f-87b4-4df097e28d26\",\"type\":\"NormalHead\"},\"line_alpha\":{\"value\":0.2},\"line_width\":{\"value\":3},\"plot\":{\"id\":\"78e27503-851e-49e9-8cb0-95e7ad65cc7b\",\"subtype\":\"Figure\",\"type\":\"Plot\"},\"source\":null,\"start\":null,\"x_end\":{\"value\":1.546107055095657},\"x_start\":{\"value\":0},\"y_end\":{\"value\":6.184428220382628},\"y_start\":{\"value\":0}},\"id\":\"7da62651-62cf-416a-8932-10a7f194a231\",\"type\":\"Arrow\"},{\"attributes\":{\"fill_alpha\":{\"value\":0.2},\"line_alpha\":{\"value\":0.2},\"plot\":null,\"size\":10},\"id\":\"a9eb39d5-98b2-4d77-9c25-0788fa482546\",\"type\":\"NormalHead\"},{\"attributes\":{\"fill_alpha\":{\"value\":0.2},\"line_alpha\":{\"value\":0.2},\"plot\":null,\"size\":10},\"id\":\"8ffc45f0-bb93-4558-ba20-4cec89a0d3dc\",\"type\":\"NormalHead\"},{\"attributes\":{\"fill_alpha\":{\"value\":0.2},\"line_alpha\":{\"value\":0.2},\"plot\":null,\"size\":10},\"id\":\"07de8605-09fe-4d59-a98e-4fcb2280a377\",\"type\":\"NormalHead\"},{\"attributes\":{},\"id\":\"08de4212-eb83-45fd-a9fa-d6fde69d95bd\",\"type\":\"BasicTicker\"},{\"attributes\":{\"formatter\":{\"id\":\"a62e5eba-e983-421d-8eeb-c15f6a169b51\",\"type\":\"BasicTickFormatter\"},\"plot\":{\"id\":\"78e27503-851e-49e9-8cb0-95e7ad65cc7b\",\"subtype\":\"Figure\",\"type\":\"Plot\"},\"ticker\":{\"id\":\"08de4212-eb83-45fd-a9fa-d6fde69d95bd\",\"type\":\"BasicTicker\"}},\"id\":\"c2de3a7d-e91c-4c07-bfd5-b0249e5fa139\",\"type\":\"LinearAxis\"},{\"attributes\":{},\"id\":\"b2bc062d-3b9e-4c6b-b014-1e9cd284d3c6\",\"type\":\"LinearScale\"},{\"attributes\":{\"end\":{\"id\":\"e158cf89-8e08-4d8c-8c72-2679b8a8eccc\",\"type\":\"NormalHead\"},\"line_alpha\":{\"value\":0.2},\"line_width\":{\"value\":3},\"plot\":{\"id\":\"78e27503-851e-49e9-8cb0-95e7ad65cc7b\",\"subtype\":\"Figure\",\"type\":\"Plot\"},\"source\":null,\"start\":null,\"x_end\":{\"value\":-10.393068825330186},\"x_start\":{\"value\":0},\"y_end\":{\"value\":-41.572275301320744},\"y_start\":{\"value\":0}},\"id\":\"8e605c7b-b0ff-42af-9ad8-401a98bd62eb\",\"type\":\"Arrow\"},{\"attributes\":{\"end\":{\"id\":\"89660ac8-a5ff-4bc8-babe-6c1966897451\",\"type\":\"NormalHead\"},\"line_alpha\":{\"value\":0.2},\"line_width\":{\"value\":3},\"plot\":{\"id\":\"78e27503-851e-49e9-8cb0-95e7ad65cc7b\",\"subtype\":\"Figure\",\"type\":\"Plot\"},\"source\":null,\"start\":null,\"x_end\":{\"value\":-13.28473015362149},\"x_start\":{\"value\":0},\"y_end\":{\"value\":-53.13892061448596},\"y_start\":{\"value\":0}},\"id\":\"3922395f-3679-4282-854b-debf9d43e1ae\",\"type\":\"Arrow\"},{\"attributes\":{\"fill_alpha\":{\"value\":0.2},\"line_alpha\":{\"value\":0.2},\"plot\":null,\"size\":10},\"id\":\"e158cf89-8e08-4d8c-8c72-2679b8a8eccc\",\"type\":\"NormalHead\"},{\"attributes\":{\"end\":{\"id\":\"a9eb39d5-98b2-4d77-9c25-0788fa482546\",\"type\":\"NormalHead\"},\"line_alpha\":{\"value\":0.2},\"line_width\":{\"value\":3},\"plot\":{\"id\":\"78e27503-851e-49e9-8cb0-95e7ad65cc7b\",\"subtype\":\"Figure\",\"type\":\"Plot\"},\"source\":null,\"start\":null,\"x_end\":{\"value\":2.7658666793895845},\"x_start\":{\"value\":0},\"y_end\":{\"value\":11.063466717558338},\"y_start\":{\"value\":0}},\"id\":\"99645d13-5de6-44d3-a8c5-6736dceb0752\",\"type\":\"Arrow\"},{\"attributes\":{\"end\":{\"id\":\"05dda371-cb07-4793-9877-ade5d44e5cc3\",\"type\":\"NormalHead\"},\"line_alpha\":{\"value\":0.2},\"line_width\":{\"value\":3},\"plot\":{\"id\":\"78e27503-851e-49e9-8cb0-95e7ad65cc7b\",\"subtype\":\"Figure\",\"type\":\"Plot\"},\"source\":null,\"start\":null,\"x_end\":{\"value\":9.137123778211983},\"x_start\":{\"value\":0},\"y_end\":{\"value\":36.54849511284793},\"y_start\":{\"value\":0}},\"id\":\"f6a61e2d-d745-4f3d-a22c-0d46fb779ece\",\"type\":\"Arrow\"},{\"attributes\":{\"callback\":null,\"end\":21.0,\"start\":-21.0},\"id\":\"a93ecc82-455f-4196-b166-0a2f5ee0f4e3\",\"type\":\"Range1d\"},{\"attributes\":{\"fill_alpha\":{\"value\":0.2},\"line_alpha\":{\"value\":0.2},\"plot\":null,\"size\":10},\"id\":\"4e727f2a-6058-41c9-bcab-289c36f5108d\",\"type\":\"NormalHead\"},{\"attributes\":{\"fill_alpha\":{\"value\":0.2},\"line_alpha\":{\"value\":0.2},\"plot\":null,\"size\":10},\"id\":\"4b3c7cff-fab4-4ec0-8214-f390a1e8c6cd\",\"type\":\"NormalHead\"},{\"attributes\":{\"end\":{\"id\":\"6c4e8ae2-702a-428b-b18a-4d43feb98d15\",\"type\":\"NormalHead\"},\"line_alpha\":{\"value\":0.2},\"line_width\":{\"value\":3},\"plot\":{\"id\":\"78e27503-851e-49e9-8cb0-95e7ad65cc7b\",\"subtype\":\"Figure\",\"type\":\"Plot\"},\"source\":null,\"start\":null,\"x_end\":{\"value\":-0.1684729153606046},\"x_start\":{\"value\":0},\"y_end\":{\"value\":-0.6738916614424184},\"y_start\":{\"value\":0}},\"id\":\"e030bf94-5853-48d4-8780-21c5c34a870b\",\"type\":\"Arrow\"},{\"attributes\":{\"end\":{\"id\":\"4619a169-9231-4cec-a042-7a92ec3aab13\",\"type\":\"NormalHead\"},\"line_alpha\":{\"value\":0.2},\"line_width\":{\"value\":3},\"plot\":{\"id\":\"78e27503-851e-49e9-8cb0-95e7ad65cc7b\",\"subtype\":\"Figure\",\"type\":\"Plot\"},\"source\":null,\"start\":null,\"x_end\":{\"value\":15.08675608661853},\"x_start\":{\"value\":0},\"y_end\":{\"value\":60.34702434647412},\"y_start\":{\"value\":0}},\"id\":\"5cc1aa33-3ab3-4cb1-9cd0-1cc139b1c1e3\",\"type\":\"Arrow\"},{\"attributes\":{\"end\":{\"id\":\"07de8605-09fe-4d59-a98e-4fcb2280a377\",\"type\":\"NormalHead\"},\"line_alpha\":{\"value\":0.2},\"line_width\":{\"value\":3},\"plot\":{\"id\":\"78e27503-851e-49e9-8cb0-95e7ad65cc7b\",\"subtype\":\"Figure\",\"type\":\"Plot\"},\"source\":null,\"start\":null,\"x_end\":{\"value\":1.1127933489707438},\"x_start\":{\"value\":0},\"y_end\":{\"value\":4.451173395882975},\"y_start\":{\"value\":0}},\"id\":\"d8c54c7b-9439-414d-9a36-0d69bf8adb08\",\"type\":\"Arrow\"},{\"attributes\":{\"end\":{\"id\":\"5a8c1e10-0db9-48f6-ab51-657c0c170a71\",\"type\":\"NormalHead\"},\"line_alpha\":{\"value\":0.2},\"line_width\":{\"value\":3},\"plot\":{\"id\":\"78e27503-851e-49e9-8cb0-95e7ad65cc7b\",\"subtype\":\"Figure\",\"type\":\"Plot\"},\"source\":null,\"start\":null,\"x_end\":{\"value\":-3.9034551046122514},\"x_start\":{\"value\":0},\"y_end\":{\"value\":-15.613820418449006},\"y_start\":{\"value\":0}},\"id\":\"e7c8b863-5d0b-46df-bde9-ff1ea58af65a\",\"type\":\"Arrow\"},{\"attributes\":{\"fill_alpha\":{\"value\":0.2},\"line_alpha\":{\"value\":0.2},\"plot\":null,\"size\":10},\"id\":\"89660ac8-a5ff-4bc8-babe-6c1966897451\",\"type\":\"NormalHead\"},{\"attributes\":{\"end\":{\"id\":\"4e727f2a-6058-41c9-bcab-289c36f5108d\",\"type\":\"NormalHead\"},\"line_alpha\":{\"value\":0.2},\"line_width\":{\"value\":3},\"plot\":{\"id\":\"78e27503-851e-49e9-8cb0-95e7ad65cc7b\",\"subtype\":\"Figure\",\"type\":\"Plot\"},\"source\":null,\"start\":null,\"x_end\":{\"value\":4.259279412055231},\"x_start\":{\"value\":0},\"y_end\":{\"value\":17.037117648220924},\"y_start\":{\"value\":0}},\"id\":\"d449c507-809f-4aee-875f-d46f00171218\",\"type\":\"Arrow\"},{\"attributes\":{\"fill_alpha\":{\"value\":0.2},\"line_alpha\":{\"value\":0.2},\"plot\":null,\"size\":10},\"id\":\"4619a169-9231-4cec-a042-7a92ec3aab13\",\"type\":\"NormalHead\"},{\"attributes\":{\"fill_alpha\":{\"value\":0.2},\"line_alpha\":{\"value\":0.2},\"plot\":null,\"size\":10},\"id\":\"dbdd9209-df11-44cb-b4c3-745228bdca77\",\"type\":\"NormalHead\"},{\"attributes\":{\"below\":[{\"id\":\"c2de3a7d-e91c-4c07-bfd5-b0249e5fa139\",\"type\":\"LinearAxis\"}],\"left\":[{\"id\":\"f24a5b40-5b8a-4c7c-8d0e-5725c09a1820\",\"type\":\"LinearAxis\"}],\"plot_height\":400,\"plot_width\":400,\"renderers\":[{\"id\":\"c2de3a7d-e91c-4c07-bfd5-b0249e5fa139\",\"type\":\"LinearAxis\"},{\"id\":\"5aa09483-bb6e-428a-b0ff-9df36ea53038\",\"type\":\"Grid\"},{\"id\":\"f24a5b40-5b8a-4c7c-8d0e-5725c09a1820\",\"type\":\"LinearAxis\"},{\"id\":\"fad397ab-332b-459a-ac3f-7f0ef6048c6d\",\"type\":\"Grid\"},{\"id\":\"a3b6088e-c67e-48d1-bcda-0237ff75e82e\",\"type\":\"GlyphRenderer\"},{\"id\":\"9cbdad09-7e5c-4e6f-b652-5fbf1facd5a2\",\"type\":\"GlyphRenderer\"},{\"id\":\"3b56982f-ab05-41ed-8285-cf9eae63a1c6\",\"type\":\"Arrow\"},{\"id\":\"15e3c520-8fe7-4458-b3f8-b5dcd50d863c\",\"type\":\"Arrow\"},{\"id\":\"e31758dc-23db-4d32-840f-550d2a442409\",\"type\":\"Arrow\"},{\"id\":\"08cd59ab-aabb-4fbc-a5d5-51c6ef136ab8\",\"type\":\"Arrow\"},{\"id\":\"5ae2a3c2-719a-4cb8-973d-96350f71fc06\",\"type\":\"Arrow\"},{\"id\":\"06e76b46-004b-41be-ae66-003b2727032e\",\"type\":\"Arrow\"},{\"id\":\"3af81313-5af2-437b-83d2-b61240c0cc67\",\"type\":\"Arrow\"},{\"id\":\"59bf8018-d504-45a9-906d-e5e5bbe0a550\",\"type\":\"Arrow\"},{\"id\":\"b0175059-b9b8-484b-b2ec-8ac18f02084c\",\"type\":\"Arrow\"},{\"id\":\"dae49486-b6ec-4a98-b40d-cf5f5bb27ee0\",\"type\":\"Arrow\"},{\"id\":\"e55adeea-72ae-4f89-9bab-1300a7ce426b\",\"type\":\"Arrow\"},{\"id\":\"5f918d3f-49c5-4328-ac50-e1187d053896\",\"type\":\"Arrow\"},{\"id\":\"2b7c5219-8415-4655-9087-ea035208e30f\",\"type\":\"Arrow\"},{\"id\":\"b80446ce-17f9-41a2-91ce-6bf1361d3c58\",\"type\":\"Arrow\"},{\"id\":\"7da62651-62cf-416a-8932-10a7f194a231\",\"type\":\"Arrow\"},{\"id\":\"328d9c38-c5cf-4c11-90e8-e38c08cc22b6\",\"type\":\"Arrow\"},{\"id\":\"84b542a3-6901-476e-85b1-0fb62ef7f539\",\"type\":\"Arrow\"},{\"id\":\"6bac3346-6869-4e26-82ca-0e5dfdfc861f\",\"type\":\"Arrow\"},{\"id\":\"99645d13-5de6-44d3-a8c5-6736dceb0752\",\"type\":\"Arrow\"},{\"id\":\"f6a61e2d-d745-4f3d-a22c-0d46fb779ece\",\"type\":\"Arrow\"},{\"id\":\"d8c54c7b-9439-414d-9a36-0d69bf8adb08\",\"type\":\"Arrow\"},{\"id\":\"8e605c7b-b0ff-42af-9ad8-401a98bd62eb\",\"type\":\"Arrow\"},{\"id\":\"e030bf94-5853-48d4-8780-21c5c34a870b\",\"type\":\"Arrow\"},{\"id\":\"e7c8b863-5d0b-46df-bde9-ff1ea58af65a\",\"type\":\"Arrow\"},{\"id\":\"d449c507-809f-4aee-875f-d46f00171218\",\"type\":\"Arrow\"},{\"id\":\"819c133d-1e76-4ac7-8ccd-37ad280c9d00\",\"type\":\"Arrow\"},{\"id\":\"3922395f-3679-4282-854b-debf9d43e1ae\",\"type\":\"Arrow\"},{\"id\":\"5cc1aa33-3ab3-4cb1-9cd0-1cc139b1c1e3\",\"type\":\"Arrow\"},{\"id\":\"e397515f-6eea-4113-be81-f52630cad003\",\"type\":\"Arrow\"},{\"id\":\"3de9965c-9c96-48e8-9e13-c0a8be247e24\",\"type\":\"Arrow\"},{\"id\":\"bd21ea3b-db7f-45c5-b2db-3c80f2dcd2ce\",\"type\":\"Arrow\"},{\"id\":\"e0a8ac20-575d-4118-b4d8-54040740af01\",\"type\":\"Arrow\"},{\"id\":\"08a0ac60-9907-4a97-96a6-2166c668f582\",\"type\":\"Arrow\"},{\"id\":\"3542ff2b-0358-433e-8eba-14589f319d6f\",\"type\":\"Arrow\"},{\"id\":\"470a8e4d-b74b-409b-bfd7-2baa68a70602\",\"type\":\"Arrow\"},{\"id\":\"df5918c5-fd68-4606-8909-5eba57ca28ec\",\"type\":\"Arrow\"},{\"id\":\"7cab7570-c72f-42f4-979b-57bc51e62858\",\"type\":\"Arrow\"},{\"id\":\"745c4132-694e-49d2-9a28-34819a22b6a3\",\"type\":\"Arrow\"},{\"id\":\"45429f2c-750e-4c58-864c-93f5f3bd5a2d\",\"type\":\"Arrow\"},{\"id\":\"bc8b29b8-1077-44e3-b00f-91419778376f\",\"type\":\"Arrow\"},{\"id\":\"e8e13e68-3afc-49be-91a4-3e6fbad83259\",\"type\":\"Arrow\"},{\"id\":\"11f87634-2cb8-4e72-acb6-e3525b423fb1\",\"type\":\"Arrow\"},{\"id\":\"25c411e3-5af5-4c7c-b200-a53d4b00016a\",\"type\":\"Arrow\"},{\"id\":\"652cf94e-f943-4fc7-9c74-b136ca23e9aa\",\"type\":\"Arrow\"},{\"id\":\"65a67c0e-8257-43f8-a26c-b945a831a722\",\"type\":\"Arrow\"},{\"id\":\"bf4ecca3-49c1-4cf1-94a5-c7c41406fd83\",\"type\":\"Arrow\"},{\"id\":\"0dc2e994-e6ba-4c77-87f7-2e768f722477\",\"type\":\"Arrow\"},{\"id\":\"efec6597-eb45-4b8d-8355-f7673e708943\",\"type\":\"Arrow\"},{\"id\":\"db8c0aed-d89a-4fe0-a4c6-da4747b996ad\",\"type\":\"Arrow\"},{\"id\":\"2f431f19-efce-4fb7-8b51-e90ea020138e\",\"type\":\"Arrow\"},{\"id\":\"71520b35-6dbe-43f7-87dc-0b535b0801b9\",\"type\":\"Arrow\"},{\"id\":\"cd056268-e1ff-4eb6-8a8c-e778109d2f12\",\"type\":\"Arrow\"}],\"title\":{\"id\":\"743956bd-adb1-4824-92b3-fa46b4cde6d2\",\"type\":\"Title\"},\"toolbar\":{\"id\":\"c62d5821-3983-401a-a97e-eccf0e3f34a8\",\"type\":\"Toolbar\"},\"x_range\":{\"id\":\"3eefcbf9-5526-4705-a9db-ac7081b0ec2c\",\"type\":\"Range1d\"},\"x_scale\":{\"id\":\"b2bc062d-3b9e-4c6b-b014-1e9cd284d3c6\",\"type\":\"LinearScale\"},\"y_range\":{\"id\":\"a93ecc82-455f-4196-b166-0a2f5ee0f4e3\",\"type\":\"Range1d\"},\"y_scale\":{\"id\":\"c1d03b26-5dcd-4507-93af-c196b8e0a6e3\",\"type\":\"LinearScale\"}},\"id\":\"78e27503-851e-49e9-8cb0-95e7ad65cc7b\",\"subtype\":\"Figure\",\"type\":\"Plot\"},{\"attributes\":{\"fill_alpha\":{\"value\":0.4},\"fill_color\":{\"value\":\"blue\"},\"line_alpha\":{\"value\":0.4},\"line_color\":{\"value\":\"blue\"},\"plot\":null,\"size\":10},\"id\":\"3151f0e8-f240-4b04-a8e3-73b4a2e84187\",\"type\":\"NormalHead\"},{\"attributes\":{\"callback\":null,\"data\":{\"x\":[0,0],\"y\":[-30,30]},\"selected\":{\"id\":\"a4c425ea-2b49-413f-9643-dcf45d6ce4d2\",\"type\":\"Selection\"},\"selection_policy\":{\"id\":\"b1d25472-1d86-4418-a9ad-97b43dca2135\",\"type\":\"UnionRenderers\"}},\"id\":\"23a051d6-52bc-45f3-8a13-f58cfbe20637\",\"type\":\"ColumnDataSource\"},{\"attributes\":{\"active_drag\":\"auto\",\"active_inspect\":\"auto\",\"active_multi\":null,\"active_scroll\":\"auto\",\"active_tap\":\"auto\",\"tools\":[{\"id\":\"dcd298ba-ea8a-4aae-ab8a-6162698ad218\",\"type\":\"WheelZoomTool\"},{\"id\":\"4bda5232-f8a5-46a8-a1e8-1161adde499e\",\"type\":\"PanTool\"},{\"id\":\"79aa5e62-5c7b-4c7f-a1d9-c32df8b13a08\",\"type\":\"ResetTool\"}]},\"id\":\"c62d5821-3983-401a-a97e-eccf0e3f34a8\",\"type\":\"Toolbar\"},{\"attributes\":{\"callback\":null,\"end\":21.0,\"start\":-21.0},\"id\":\"3eefcbf9-5526-4705-a9db-ac7081b0ec2c\",\"type\":\"Range1d\"},{\"attributes\":{\"end\":{\"id\":\"4b3c7cff-fab4-4ec0-8214-f390a1e8c6cd\",\"type\":\"NormalHead\"},\"line_alpha\":{\"value\":0.2},\"line_width\":{\"value\":3},\"plot\":{\"id\":\"78e27503-851e-49e9-8cb0-95e7ad65cc7b\",\"subtype\":\"Figure\",\"type\":\"Plot\"},\"source\":null,\"start\":null,\"x_end\":{\"value\":12.387334546636698},\"x_start\":{\"value\":0},\"y_end\":{\"value\":49.54933818654679},\"y_start\":{\"value\":0}},\"id\":\"819c133d-1e76-4ac7-8ccd-37ad280c9d00\",\"type\":\"Arrow\"}],\"root_ids\":[\"78e27503-851e-49e9-8cb0-95e7ad65cc7b\"]},\"title\":\"Bokeh Application\",\"version\":\"0.13.0\"}};\n",
       "  var render_items = [{\"docid\":\"032e5ba2-7ed5-4c9d-af87-3eb35ec9778a\",\"roots\":{\"78e27503-851e-49e9-8cb0-95e7ad65cc7b\":\"b93443f4-b7e4-4427-b918-7e883fbbee20\"}}];\n",
       "  root.Bokeh.embed.embed_items_notebook(docs_json, render_items);\n",
       "\n",
       "  }\n",
       "  if (root.Bokeh !== undefined) {\n",
       "    embed_document(root);\n",
       "  } else {\n",
       "    var attempts = 0;\n",
       "    var timer = setInterval(function(root) {\n",
       "      if (root.Bokeh !== undefined) {\n",
       "        embed_document(root);\n",
       "        clearInterval(timer);\n",
       "      }\n",
       "      attempts++;\n",
       "      if (attempts > 100) {\n",
       "        console.log(\"Bokeh: ERROR: Unable to run BokehJS code because BokehJS library is missing\")\n",
       "        clearInterval(timer);\n",
       "      }\n",
       "    }, 10, root)\n",
       "  }\n",
       "})(window);"
      ],
      "application/vnd.bokehjs_exec.v0+json": ""
     },
     "metadata": {
      "application/vnd.bokehjs_exec.v0+json": {
       "id": "78e27503-851e-49e9-8cb0-95e7ad65cc7b"
      }
     },
     "output_type": "display_data"
    }
   ],
   "source": [
    "plot.show()"
   ]
  },
  {
   "cell_type": "markdown",
   "metadata": {},
   "source": [
    "Linear independence is an important concept because it tells us how much information is contained within a system. "
   ]
  },
  {
   "cell_type": "markdown",
   "metadata": {},
   "source": [
    "# Unit Vectors\n",
    "\n",
    "As we've seen, linear combinations of linearly independent can be used to locate any space within the dimensions the vectors describe. To an extent, all linearly independent vectors are linear combinations of their unit vectors. \n",
    "\n",
    "A **unit vector** (or basis vector) is a one unit movement along a specific dimension in some $\\Re^n$ dimensional space. A unit vector is denoted by $\\hat{i}$ and $\\hat{j}$ (and $\\hat{k}$ when referring to $\\Re^3$).\n",
    "\n",
    "\n",
    "$$\\hat{i} = \\begin{bmatrix} 1 \\\\ 0 \\end{bmatrix}$$\n",
    "$$\\hat{j} = \\begin{bmatrix} 0 \\\\ 1 \\end{bmatrix}$$\n"
   ]
  },
  {
   "cell_type": "code",
   "execution_count": 26,
   "metadata": {},
   "outputs": [
    {
     "data": {
      "text/html": [
       "\n",
       "\n",
       "\n",
       "\n",
       "\n",
       "\n",
       "  <div class=\"bk-root\" id=\"a92fcc78-0ae3-4db5-b0e7-b345a2f8b74b\"></div>\n"
      ]
     },
     "metadata": {},
     "output_type": "display_data"
    },
    {
     "data": {
      "application/javascript": [
       "(function(root) {\n",
       "  function embed_document(root) {\n",
       "    \n",
       "  var docs_json = {\"28c6f3ba-2efe-449b-8e25-30fe9d6e61ce\":{\"roots\":{\"references\":[{\"attributes\":{\"callback\":null,\"data\":{\"x\":[-8,8],\"y\":[0,0]},\"selected\":{\"id\":\"fd05ceb2-6c9e-472e-b9d1-c9718f9c5382\",\"type\":\"Selection\"},\"selection_policy\":{\"id\":\"f157239d-736b-4979-88b9-bb8b093e5724\",\"type\":\"UnionRenderers\"}},\"id\":\"4cdce755-d6c9-43b9-83ab-b2091ffdc142\",\"type\":\"ColumnDataSource\"},{\"attributes\":{\"dimension\":1,\"plot\":{\"id\":\"be9facaa-aa39-4dee-95fc-ad21874b513c\",\"subtype\":\"Figure\",\"type\":\"Plot\"},\"ticker\":{\"id\":\"daa7dfbf-85d5-433d-b281-bd7b5b48cdec\",\"type\":\"BasicTicker\"}},\"id\":\"33de4333-5faf-4ebf-a72e-b0ee291cc5cf\",\"type\":\"Grid\"},{\"attributes\":{},\"id\":\"f5d7d182-4f5e-4217-8067-14e0238d19fe\",\"type\":\"BasicTicker\"},{\"attributes\":{\"line_width\":1.5,\"x\":{\"field\":\"x\"},\"y\":{\"field\":\"y\"}},\"id\":\"4b4d4fa4-fa49-4711-94af-acd4d4276ce2\",\"type\":\"Line\"},{\"attributes\":{\"data_source\":{\"id\":\"70a3c072-f8f2-4b86-91a0-d2dae9b736de\",\"type\":\"ColumnDataSource\"},\"glyph\":{\"id\":\"4b4d4fa4-fa49-4711-94af-acd4d4276ce2\",\"type\":\"Line\"},\"hover_glyph\":null,\"muted_glyph\":null,\"nonselection_glyph\":{\"id\":\"15480022-5dbc-40b5-b6f5-34ad9da34224\",\"type\":\"Line\"},\"selection_glyph\":null,\"view\":{\"id\":\"cc46a1e3-9cb6-4554-b36a-5551e3b9e155\",\"type\":\"CDSView\"}},\"id\":\"87f0b017-2cf4-4694-b11d-000d92a95323\",\"type\":\"GlyphRenderer\"},{\"attributes\":{\"callback\":null,\"end\":5.6,\"start\":-5.6},\"id\":\"f06d2615-d522-454f-a812-63802df0e266\",\"type\":\"Range1d\"},{\"attributes\":{},\"id\":\"8abcdc4e-89d2-4b95-b4c6-5f634c718980\",\"type\":\"WheelZoomTool\"},{\"attributes\":{\"source\":{\"id\":\"70a3c072-f8f2-4b86-91a0-d2dae9b736de\",\"type\":\"ColumnDataSource\"}},\"id\":\"cc46a1e3-9cb6-4554-b36a-5551e3b9e155\",\"type\":\"CDSView\"},{\"attributes\":{},\"id\":\"9f655d56-c9bf-4f90-b4fb-9821751f062c\",\"type\":\"PanTool\"},{\"attributes\":{},\"id\":\"75420f20-a900-4f2f-b1c0-a9c9adec1014\",\"type\":\"ResetTool\"},{\"attributes\":{\"line_alpha\":0.1,\"line_color\":\"#1f77b4\",\"line_width\":1.5,\"x\":{\"field\":\"x\"},\"y\":{\"field\":\"y\"}},\"id\":\"15480022-5dbc-40b5-b6f5-34ad9da34224\",\"type\":\"Line\"},{\"attributes\":{},\"id\":\"c2111c37-9e91-4d65-b30c-df25990cfa9e\",\"type\":\"LinearScale\"},{\"attributes\":{\"fill_color\":{\"value\":\"red\"},\"line_color\":{\"value\":\"red\"},\"plot\":null,\"size\":10},\"id\":\"c7922e11-31b1-43bd-9b59-1c4d9304d71f\",\"type\":\"NormalHead\"},{\"attributes\":{\"line_width\":1.5,\"x\":{\"field\":\"x\"},\"y\":{\"field\":\"y\"}},\"id\":\"ea9506f8-19bf-481b-99f2-9d22e068f88d\",\"type\":\"Line\"},{\"attributes\":{\"line_alpha\":0.1,\"line_color\":\"#1f77b4\",\"line_width\":1.5,\"x\":{\"field\":\"x\"},\"y\":{\"field\":\"y\"}},\"id\":\"267cd219-f0f2-4191-8087-cce132ccf8ba\",\"type\":\"Line\"},{\"attributes\":{\"data_source\":{\"id\":\"4cdce755-d6c9-43b9-83ab-b2091ffdc142\",\"type\":\"ColumnDataSource\"},\"glyph\":{\"id\":\"ea9506f8-19bf-481b-99f2-9d22e068f88d\",\"type\":\"Line\"},\"hover_glyph\":null,\"muted_glyph\":null,\"nonselection_glyph\":{\"id\":\"267cd219-f0f2-4191-8087-cce132ccf8ba\",\"type\":\"Line\"},\"selection_glyph\":null,\"view\":{\"id\":\"ccd6ed54-1114-4015-a0c0-d350c01a33ef\",\"type\":\"CDSView\"}},\"id\":\"2b73cb3d-a1c0-4314-a73a-4ebfe697626a\",\"type\":\"GlyphRenderer\"},{\"attributes\":{\"plot\":{\"id\":\"be9facaa-aa39-4dee-95fc-ad21874b513c\",\"subtype\":\"Figure\",\"type\":\"Plot\"},\"ticker\":{\"id\":\"f5d7d182-4f5e-4217-8067-14e0238d19fe\",\"type\":\"BasicTicker\"}},\"id\":\"d24818dc-f15d-4601-8cf1-d1982b4d4ff7\",\"type\":\"Grid\"},{\"attributes\":{\"source\":{\"id\":\"4cdce755-d6c9-43b9-83ab-b2091ffdc142\",\"type\":\"ColumnDataSource\"}},\"id\":\"ccd6ed54-1114-4015-a0c0-d350c01a33ef\",\"type\":\"CDSView\"},{\"attributes\":{},\"id\":\"72d3c7b4-8877-4161-a359-035f4f883b99\",\"type\":\"BasicTickFormatter\"},{\"attributes\":{\"callback\":null,\"end\":5.6,\"start\":-5.6},\"id\":\"d3e9cdca-923a-47c2-a82d-ce3f2ae03b57\",\"type\":\"Range1d\"},{\"attributes\":{\"end\":{\"id\":\"904442ff-d76b-4509-a3d7-d7a91d5f16d2\",\"type\":\"NormalHead\"},\"line_color\":{\"value\":\"blue\"},\"line_width\":{\"value\":3},\"plot\":{\"id\":\"be9facaa-aa39-4dee-95fc-ad21874b513c\",\"subtype\":\"Figure\",\"type\":\"Plot\"},\"source\":null,\"start\":null,\"x_end\":{\"value\":1},\"x_start\":{\"value\":0},\"y_end\":{\"value\":0},\"y_start\":{\"value\":0}},\"id\":\"b6db67ab-6933-4dff-b76e-0eefd4e0a95d\",\"type\":\"Arrow\"},{\"attributes\":{\"plot\":null,\"text\":\"\"},\"id\":\"09b7703f-bd52-485a-ac73-a1a5ee86031c\",\"type\":\"Title\"},{\"attributes\":{\"formatter\":{\"id\":\"72d3c7b4-8877-4161-a359-035f4f883b99\",\"type\":\"BasicTickFormatter\"},\"plot\":{\"id\":\"be9facaa-aa39-4dee-95fc-ad21874b513c\",\"subtype\":\"Figure\",\"type\":\"Plot\"},\"ticker\":{\"id\":\"daa7dfbf-85d5-433d-b281-bd7b5b48cdec\",\"type\":\"BasicTicker\"}},\"id\":\"149449ac-01a3-4ed7-b8c0-7b7c28de1394\",\"type\":\"LinearAxis\"},{\"attributes\":{\"end\":{\"id\":\"c7922e11-31b1-43bd-9b59-1c4d9304d71f\",\"type\":\"NormalHead\"},\"line_color\":{\"value\":\"red\"},\"line_width\":{\"value\":3},\"plot\":{\"id\":\"be9facaa-aa39-4dee-95fc-ad21874b513c\",\"subtype\":\"Figure\",\"type\":\"Plot\"},\"source\":null,\"start\":null,\"x_end\":{\"value\":0},\"x_start\":{\"value\":0},\"y_end\":{\"value\":1},\"y_start\":{\"value\":0}},\"id\":\"ad85ceba-d5e3-43f2-a40e-23b195cff172\",\"type\":\"Arrow\"},{\"attributes\":{},\"id\":\"2b40592d-1069-41a2-8bcb-d9538a6090c6\",\"type\":\"Selection\"},{\"attributes\":{},\"id\":\"cb04f21e-9be4-4ef7-b86c-634a9bb7b5b8\",\"type\":\"BasicTickFormatter\"},{\"attributes\":{\"callback\":null,\"data\":{\"x\":[0,0],\"y\":[-8,8]},\"selected\":{\"id\":\"2b40592d-1069-41a2-8bcb-d9538a6090c6\",\"type\":\"Selection\"},\"selection_policy\":{\"id\":\"cb994ec2-38b6-4218-a51b-a954b18d84ed\",\"type\":\"UnionRenderers\"}},\"id\":\"70a3c072-f8f2-4b86-91a0-d2dae9b736de\",\"type\":\"ColumnDataSource\"},{\"attributes\":{},\"id\":\"cb994ec2-38b6-4218-a51b-a954b18d84ed\",\"type\":\"UnionRenderers\"},{\"attributes\":{\"fill_color\":{\"value\":\"blue\"},\"line_color\":{\"value\":\"blue\"},\"plot\":null,\"size\":10},\"id\":\"904442ff-d76b-4509-a3d7-d7a91d5f16d2\",\"type\":\"NormalHead\"},{\"attributes\":{},\"id\":\"fd05ceb2-6c9e-472e-b9d1-c9718f9c5382\",\"type\":\"Selection\"},{\"attributes\":{\"active_drag\":\"auto\",\"active_inspect\":\"auto\",\"active_multi\":null,\"active_scroll\":\"auto\",\"active_tap\":\"auto\",\"tools\":[{\"id\":\"8abcdc4e-89d2-4b95-b4c6-5f634c718980\",\"type\":\"WheelZoomTool\"},{\"id\":\"9f655d56-c9bf-4f90-b4fb-9821751f062c\",\"type\":\"PanTool\"},{\"id\":\"75420f20-a900-4f2f-b1c0-a9c9adec1014\",\"type\":\"ResetTool\"}]},\"id\":\"f6f2f268-972f-4276-8d6c-19be95e3fb8a\",\"type\":\"Toolbar\"},{\"attributes\":{},\"id\":\"f157239d-736b-4979-88b9-bb8b093e5724\",\"type\":\"UnionRenderers\"},{\"attributes\":{},\"id\":\"cb09b09b-ef41-4622-a520-c5d872f10b93\",\"type\":\"LinearScale\"},{\"attributes\":{\"formatter\":{\"id\":\"cb04f21e-9be4-4ef7-b86c-634a9bb7b5b8\",\"type\":\"BasicTickFormatter\"},\"plot\":{\"id\":\"be9facaa-aa39-4dee-95fc-ad21874b513c\",\"subtype\":\"Figure\",\"type\":\"Plot\"},\"ticker\":{\"id\":\"f5d7d182-4f5e-4217-8067-14e0238d19fe\",\"type\":\"BasicTicker\"}},\"id\":\"d8406431-93c6-417f-98a3-4549d4cfeb7a\",\"type\":\"LinearAxis\"},{\"attributes\":{\"below\":[{\"id\":\"d8406431-93c6-417f-98a3-4549d4cfeb7a\",\"type\":\"LinearAxis\"}],\"left\":[{\"id\":\"149449ac-01a3-4ed7-b8c0-7b7c28de1394\",\"type\":\"LinearAxis\"}],\"plot_height\":400,\"plot_width\":400,\"renderers\":[{\"id\":\"d8406431-93c6-417f-98a3-4549d4cfeb7a\",\"type\":\"LinearAxis\"},{\"id\":\"d24818dc-f15d-4601-8cf1-d1982b4d4ff7\",\"type\":\"Grid\"},{\"id\":\"149449ac-01a3-4ed7-b8c0-7b7c28de1394\",\"type\":\"LinearAxis\"},{\"id\":\"33de4333-5faf-4ebf-a72e-b0ee291cc5cf\",\"type\":\"Grid\"},{\"id\":\"87f0b017-2cf4-4694-b11d-000d92a95323\",\"type\":\"GlyphRenderer\"},{\"id\":\"2b73cb3d-a1c0-4314-a73a-4ebfe697626a\",\"type\":\"GlyphRenderer\"},{\"id\":\"b6db67ab-6933-4dff-b76e-0eefd4e0a95d\",\"type\":\"Arrow\"},{\"id\":\"ad85ceba-d5e3-43f2-a40e-23b195cff172\",\"type\":\"Arrow\"}],\"title\":{\"id\":\"09b7703f-bd52-485a-ac73-a1a5ee86031c\",\"type\":\"Title\"},\"toolbar\":{\"id\":\"f6f2f268-972f-4276-8d6c-19be95e3fb8a\",\"type\":\"Toolbar\"},\"x_range\":{\"id\":\"d3e9cdca-923a-47c2-a82d-ce3f2ae03b57\",\"type\":\"Range1d\"},\"x_scale\":{\"id\":\"c2111c37-9e91-4d65-b30c-df25990cfa9e\",\"type\":\"LinearScale\"},\"y_range\":{\"id\":\"f06d2615-d522-454f-a812-63802df0e266\",\"type\":\"Range1d\"},\"y_scale\":{\"id\":\"cb09b09b-ef41-4622-a520-c5d872f10b93\",\"type\":\"LinearScale\"}},\"id\":\"be9facaa-aa39-4dee-95fc-ad21874b513c\",\"subtype\":\"Figure\",\"type\":\"Plot\"},{\"attributes\":{},\"id\":\"daa7dfbf-85d5-433d-b281-bd7b5b48cdec\",\"type\":\"BasicTicker\"}],\"root_ids\":[\"be9facaa-aa39-4dee-95fc-ad21874b513c\"]},\"title\":\"Bokeh Application\",\"version\":\"0.13.0\"}};\n",
       "  var render_items = [{\"docid\":\"28c6f3ba-2efe-449b-8e25-30fe9d6e61ce\",\"roots\":{\"be9facaa-aa39-4dee-95fc-ad21874b513c\":\"a92fcc78-0ae3-4db5-b0e7-b345a2f8b74b\"}}];\n",
       "  root.Bokeh.embed.embed_items_notebook(docs_json, render_items);\n",
       "\n",
       "  }\n",
       "  if (root.Bokeh !== undefined) {\n",
       "    embed_document(root);\n",
       "  } else {\n",
       "    var attempts = 0;\n",
       "    var timer = setInterval(function(root) {\n",
       "      if (root.Bokeh !== undefined) {\n",
       "        embed_document(root);\n",
       "        clearInterval(timer);\n",
       "      }\n",
       "      attempts++;\n",
       "      if (attempts > 100) {\n",
       "        console.log(\"Bokeh: ERROR: Unable to run BokehJS code because BokehJS library is missing\")\n",
       "        clearInterval(timer);\n",
       "      }\n",
       "    }, 10, root)\n",
       "  }\n",
       "})(window);"
      ],
      "application/vnd.bokehjs_exec.v0+json": ""
     },
     "metadata": {
      "application/vnd.bokehjs_exec.v0+json": {
       "id": "be9facaa-aa39-4dee-95fc-ad21874b513c"
      }
     },
     "output_type": "display_data"
    }
   ],
   "source": [
    "i = np.array([1,0])\n",
    "j = np.array([0,1])\n",
    "plot.clear()\n",
    "plot.graph(8)\n",
    "plot.vector(i,add_color=\"blue\")\n",
    "plot.vector(j,add_color=\"red\")\n",
    "plot.show()"
   ]
  },
  {
   "cell_type": "markdown",
   "metadata": {},
   "source": [
    "Any specific vector can be treated as a linear combination of the unit vectors.\n",
    "\n",
    "To get to the position $\\begin{bmatrix} 2 \\\\ 3 \\end{bmatrix}$, we could just scale and combine $\\hat{i}$ and $\\hat{j}$ accordingly.\n",
    "\n",
    "$$2\\hat{i} + 3\\hat{j}= 2\\begin{bmatrix} 1 \\\\ 0 \\end{bmatrix} + 3\\begin{bmatrix} 0 \\\\ 1 \\end{bmatrix} = \\begin{bmatrix} 2 \\\\ 3 \\end{bmatrix}$$\n",
    "\n",
    "This concept of a unit vector helps us define the \"**basis**\" of our coordinate system. That is, they help use establish the fundamental units that describe the positions within a specific space. "
   ]
  },
  {
   "cell_type": "code",
   "execution_count": 27,
   "metadata": {},
   "outputs": [
    {
     "data": {
      "text/plain": [
       "array([2, 3])"
      ]
     },
     "execution_count": 27,
     "metadata": {},
     "output_type": "execute_result"
    }
   ],
   "source": [
    "2*i+3*j"
   ]
  },
  {
   "cell_type": "code",
   "execution_count": 28,
   "metadata": {},
   "outputs": [],
   "source": [
    "cnt =0 \n",
    "while cnt <= 50:\n",
    "    c1,c2 = np.random.uniform(low=-5,high=5,size=2)\n",
    "    plot.vector(c1*i + c2*j,\n",
    "                add_color='black',alpha=.2)\n",
    "    cnt += 1"
   ]
  },
  {
   "cell_type": "code",
   "execution_count": 29,
   "metadata": {},
   "outputs": [
    {
     "data": {
      "text/html": [
       "\n",
       "\n",
       "\n",
       "\n",
       "\n",
       "\n",
       "  <div class=\"bk-root\" id=\"60ac7e44-59dc-4629-9159-5fcd14721f74\"></div>\n"
      ]
     },
     "metadata": {},
     "output_type": "display_data"
    },
    {
     "data": {
      "application/javascript": [
       "(function(root) {\n",
       "  function embed_document(root) {\n",
       "    \n",
       "  var docs_json = {\"dd62d601-388c-43eb-96c5-58acfb21d50d\":{\"roots\":{\"references\":[{\"attributes\":{\"callback\":null,\"data\":{\"x\":[-8,8],\"y\":[0,0]},\"selected\":{\"id\":\"fd05ceb2-6c9e-472e-b9d1-c9718f9c5382\",\"type\":\"Selection\"},\"selection_policy\":{\"id\":\"f157239d-736b-4979-88b9-bb8b093e5724\",\"type\":\"UnionRenderers\"}},\"id\":\"4cdce755-d6c9-43b9-83ab-b2091ffdc142\",\"type\":\"ColumnDataSource\"},{\"attributes\":{\"fill_alpha\":{\"value\":0.2},\"line_alpha\":{\"value\":0.2},\"plot\":null,\"size\":10},\"id\":\"c1897efc-7091-49e5-8057-07c5c9550780\",\"type\":\"NormalHead\"},{\"attributes\":{\"dimension\":1,\"plot\":{\"id\":\"be9facaa-aa39-4dee-95fc-ad21874b513c\",\"subtype\":\"Figure\",\"type\":\"Plot\"},\"ticker\":{\"id\":\"daa7dfbf-85d5-433d-b281-bd7b5b48cdec\",\"type\":\"BasicTicker\"}},\"id\":\"33de4333-5faf-4ebf-a72e-b0ee291cc5cf\",\"type\":\"Grid\"},{\"attributes\":{\"line_width\":1.5,\"x\":{\"field\":\"x\"},\"y\":{\"field\":\"y\"}},\"id\":\"4b4d4fa4-fa49-4711-94af-acd4d4276ce2\",\"type\":\"Line\"},{\"attributes\":{\"data_source\":{\"id\":\"70a3c072-f8f2-4b86-91a0-d2dae9b736de\",\"type\":\"ColumnDataSource\"},\"glyph\":{\"id\":\"4b4d4fa4-fa49-4711-94af-acd4d4276ce2\",\"type\":\"Line\"},\"hover_glyph\":null,\"muted_glyph\":null,\"nonselection_glyph\":{\"id\":\"15480022-5dbc-40b5-b6f5-34ad9da34224\",\"type\":\"Line\"},\"selection_glyph\":null,\"view\":{\"id\":\"cc46a1e3-9cb6-4554-b36a-5551e3b9e155\",\"type\":\"CDSView\"}},\"id\":\"87f0b017-2cf4-4694-b11d-000d92a95323\",\"type\":\"GlyphRenderer\"},{\"attributes\":{\"callback\":null,\"end\":5.6,\"start\":-5.6},\"id\":\"f06d2615-d522-454f-a812-63802df0e266\",\"type\":\"Range1d\"},{\"attributes\":{},\"id\":\"8abcdc4e-89d2-4b95-b4c6-5f634c718980\",\"type\":\"WheelZoomTool\"},{\"attributes\":{\"source\":{\"id\":\"70a3c072-f8f2-4b86-91a0-d2dae9b736de\",\"type\":\"ColumnDataSource\"}},\"id\":\"cc46a1e3-9cb6-4554-b36a-5551e3b9e155\",\"type\":\"CDSView\"},{\"attributes\":{},\"id\":\"9f655d56-c9bf-4f90-b4fb-9821751f062c\",\"type\":\"PanTool\"},{\"attributes\":{},\"id\":\"75420f20-a900-4f2f-b1c0-a9c9adec1014\",\"type\":\"ResetTool\"},{\"attributes\":{\"line_alpha\":0.1,\"line_color\":\"#1f77b4\",\"line_width\":1.5,\"x\":{\"field\":\"x\"},\"y\":{\"field\":\"y\"}},\"id\":\"15480022-5dbc-40b5-b6f5-34ad9da34224\",\"type\":\"Line\"},{\"attributes\":{\"fill_color\":{\"value\":\"red\"},\"line_color\":{\"value\":\"red\"},\"plot\":null,\"size\":10},\"id\":\"c7922e11-31b1-43bd-9b59-1c4d9304d71f\",\"type\":\"NormalHead\"},{\"attributes\":{\"line_width\":1.5,\"x\":{\"field\":\"x\"},\"y\":{\"field\":\"y\"}},\"id\":\"ea9506f8-19bf-481b-99f2-9d22e068f88d\",\"type\":\"Line\"},{\"attributes\":{\"line_alpha\":0.1,\"line_color\":\"#1f77b4\",\"line_width\":1.5,\"x\":{\"field\":\"x\"},\"y\":{\"field\":\"y\"}},\"id\":\"267cd219-f0f2-4191-8087-cce132ccf8ba\",\"type\":\"Line\"},{\"attributes\":{\"data_source\":{\"id\":\"4cdce755-d6c9-43b9-83ab-b2091ffdc142\",\"type\":\"ColumnDataSource\"},\"glyph\":{\"id\":\"ea9506f8-19bf-481b-99f2-9d22e068f88d\",\"type\":\"Line\"},\"hover_glyph\":null,\"muted_glyph\":null,\"nonselection_glyph\":{\"id\":\"267cd219-f0f2-4191-8087-cce132ccf8ba\",\"type\":\"Line\"},\"selection_glyph\":null,\"view\":{\"id\":\"ccd6ed54-1114-4015-a0c0-d350c01a33ef\",\"type\":\"CDSView\"}},\"id\":\"2b73cb3d-a1c0-4314-a73a-4ebfe697626a\",\"type\":\"GlyphRenderer\"},{\"attributes\":{\"source\":{\"id\":\"4cdce755-d6c9-43b9-83ab-b2091ffdc142\",\"type\":\"ColumnDataSource\"}},\"id\":\"ccd6ed54-1114-4015-a0c0-d350c01a33ef\",\"type\":\"CDSView\"},{\"attributes\":{},\"id\":\"72d3c7b4-8877-4161-a359-035f4f883b99\",\"type\":\"BasicTickFormatter\"},{\"attributes\":{\"end\":{\"id\":\"c92dcd48-7780-4c8d-a15a-2f517ed80637\",\"type\":\"NormalHead\"},\"line_alpha\":{\"value\":0.2},\"line_width\":{\"value\":3},\"plot\":{\"id\":\"be9facaa-aa39-4dee-95fc-ad21874b513c\",\"subtype\":\"Figure\",\"type\":\"Plot\"},\"source\":null,\"start\":null,\"x_end\":{\"value\":-2.1792095411053647},\"x_start\":{\"value\":0},\"y_end\":{\"value\":-2.5673922961143325},\"y_start\":{\"value\":0}},\"id\":\"c20456e3-7341-4952-9b22-646c22427d2d\",\"type\":\"Arrow\"},{\"attributes\":{\"end\":{\"id\":\"904442ff-d76b-4509-a3d7-d7a91d5f16d2\",\"type\":\"NormalHead\"},\"line_color\":{\"value\":\"blue\"},\"line_width\":{\"value\":3},\"plot\":{\"id\":\"be9facaa-aa39-4dee-95fc-ad21874b513c\",\"subtype\":\"Figure\",\"type\":\"Plot\"},\"source\":null,\"start\":null,\"x_end\":{\"value\":1},\"x_start\":{\"value\":0},\"y_end\":{\"value\":0},\"y_start\":{\"value\":0}},\"id\":\"b6db67ab-6933-4dff-b76e-0eefd4e0a95d\",\"type\":\"Arrow\"},{\"attributes\":{\"plot\":null,\"text\":\"\"},\"id\":\"09b7703f-bd52-485a-ac73-a1a5ee86031c\",\"type\":\"Title\"},{\"attributes\":{\"end\":{\"id\":\"c7922e11-31b1-43bd-9b59-1c4d9304d71f\",\"type\":\"NormalHead\"},\"line_color\":{\"value\":\"red\"},\"line_width\":{\"value\":3},\"plot\":{\"id\":\"be9facaa-aa39-4dee-95fc-ad21874b513c\",\"subtype\":\"Figure\",\"type\":\"Plot\"},\"source\":null,\"start\":null,\"x_end\":{\"value\":0},\"x_start\":{\"value\":0},\"y_end\":{\"value\":1},\"y_start\":{\"value\":0}},\"id\":\"ad85ceba-d5e3-43f2-a40e-23b195cff172\",\"type\":\"Arrow\"},{\"attributes\":{},\"id\":\"2b40592d-1069-41a2-8bcb-d9538a6090c6\",\"type\":\"Selection\"},{\"attributes\":{},\"id\":\"cb04f21e-9be4-4ef7-b86c-634a9bb7b5b8\",\"type\":\"BasicTickFormatter\"},{\"attributes\":{\"fill_alpha\":{\"value\":0.2},\"line_alpha\":{\"value\":0.2},\"plot\":null,\"size\":10},\"id\":\"fdfe1aba-adbd-40ec-9578-2fece5861f20\",\"type\":\"NormalHead\"},{\"attributes\":{},\"id\":\"cb994ec2-38b6-4218-a51b-a954b18d84ed\",\"type\":\"UnionRenderers\"},{\"attributes\":{},\"id\":\"fd05ceb2-6c9e-472e-b9d1-c9718f9c5382\",\"type\":\"Selection\"},{\"attributes\":{},\"id\":\"f157239d-736b-4979-88b9-bb8b093e5724\",\"type\":\"UnionRenderers\"},{\"attributes\":{\"formatter\":{\"id\":\"cb04f21e-9be4-4ef7-b86c-634a9bb7b5b8\",\"type\":\"BasicTickFormatter\"},\"plot\":{\"id\":\"be9facaa-aa39-4dee-95fc-ad21874b513c\",\"subtype\":\"Figure\",\"type\":\"Plot\"},\"ticker\":{\"id\":\"f5d7d182-4f5e-4217-8067-14e0238d19fe\",\"type\":\"BasicTicker\"}},\"id\":\"d8406431-93c6-417f-98a3-4549d4cfeb7a\",\"type\":\"LinearAxis\"},{\"attributes\":{\"fill_alpha\":{\"value\":0.2},\"line_alpha\":{\"value\":0.2},\"plot\":null,\"size\":10},\"id\":\"7a127f95-615c-4cb9-9ddc-f89627f43a31\",\"type\":\"NormalHead\"},{\"attributes\":{\"fill_alpha\":{\"value\":0.2},\"line_alpha\":{\"value\":0.2},\"plot\":null,\"size\":10},\"id\":\"90780347-959c-4519-926d-bf325ba72850\",\"type\":\"NormalHead\"},{\"attributes\":{\"fill_alpha\":{\"value\":0.2},\"line_alpha\":{\"value\":0.2},\"plot\":null,\"size\":10},\"id\":\"94a7cbf3-84be-45d3-be34-4c8996f7b2f0\",\"type\":\"NormalHead\"},{\"attributes\":{\"end\":{\"id\":\"d1040aa6-1a6f-4eb2-88fd-31aaf1315ed5\",\"type\":\"NormalHead\"},\"line_alpha\":{\"value\":0.2},\"line_width\":{\"value\":3},\"plot\":{\"id\":\"be9facaa-aa39-4dee-95fc-ad21874b513c\",\"subtype\":\"Figure\",\"type\":\"Plot\"},\"source\":null,\"start\":null,\"x_end\":{\"value\":-0.745129747166037},\"x_start\":{\"value\":0},\"y_end\":{\"value\":-0.1892110486644647},\"y_start\":{\"value\":0}},\"id\":\"ede9f082-4197-4e37-8fa9-56be2a302cea\",\"type\":\"Arrow\"},{\"attributes\":{\"end\":{\"id\":\"b06cf12e-e8c1-4198-a5a5-2fb01916d5f5\",\"type\":\"NormalHead\"},\"line_alpha\":{\"value\":0.2},\"line_width\":{\"value\":3},\"plot\":{\"id\":\"be9facaa-aa39-4dee-95fc-ad21874b513c\",\"subtype\":\"Figure\",\"type\":\"Plot\"},\"source\":null,\"start\":null,\"x_end\":{\"value\":0.003717039044914827},\"x_start\":{\"value\":0},\"y_end\":{\"value\":3.5382899657779205},\"y_start\":{\"value\":0}},\"id\":\"bb556dd7-c59d-4c6f-9925-1d01f8e86649\",\"type\":\"Arrow\"},{\"attributes\":{},\"id\":\"f5d7d182-4f5e-4217-8067-14e0238d19fe\",\"type\":\"BasicTicker\"},{\"attributes\":{},\"id\":\"c2111c37-9e91-4d65-b30c-df25990cfa9e\",\"type\":\"LinearScale\"},{\"attributes\":{\"fill_alpha\":{\"value\":0.2},\"line_alpha\":{\"value\":0.2},\"plot\":null,\"size\":10},\"id\":\"f1ed5d16-e2fa-4857-a6f0-aa941720dc85\",\"type\":\"NormalHead\"},{\"attributes\":{\"end\":{\"id\":\"f6fd3ae8-13a6-4929-94e5-f51b6b0d1671\",\"type\":\"NormalHead\"},\"line_alpha\":{\"value\":0.2},\"line_width\":{\"value\":3},\"plot\":{\"id\":\"be9facaa-aa39-4dee-95fc-ad21874b513c\",\"subtype\":\"Figure\",\"type\":\"Plot\"},\"source\":null,\"start\":null,\"x_end\":{\"value\":1.8929883232389795},\"x_start\":{\"value\":0},\"y_end\":{\"value\":1.0676385744915304},\"y_start\":{\"value\":0}},\"id\":\"4f899496-2b9e-4b37-8773-d7b7dba357d5\",\"type\":\"Arrow\"},{\"attributes\":{\"plot\":{\"id\":\"be9facaa-aa39-4dee-95fc-ad21874b513c\",\"subtype\":\"Figure\",\"type\":\"Plot\"},\"ticker\":{\"id\":\"f5d7d182-4f5e-4217-8067-14e0238d19fe\",\"type\":\"BasicTicker\"}},\"id\":\"d24818dc-f15d-4601-8cf1-d1982b4d4ff7\",\"type\":\"Grid\"},{\"attributes\":{\"end\":{\"id\":\"ff3ed0e4-197a-4828-9584-f37b5285ad0f\",\"type\":\"NormalHead\"},\"line_alpha\":{\"value\":0.2},\"line_width\":{\"value\":3},\"plot\":{\"id\":\"be9facaa-aa39-4dee-95fc-ad21874b513c\",\"subtype\":\"Figure\",\"type\":\"Plot\"},\"source\":null,\"start\":null,\"x_end\":{\"value\":3.5546616774301114},\"x_start\":{\"value\":0},\"y_end\":{\"value\":1.308220700502135},\"y_start\":{\"value\":0}},\"id\":\"5d2790ce-b57f-4348-819a-6105a75359c4\",\"type\":\"Arrow\"},{\"attributes\":{\"callback\":null,\"end\":5.6,\"start\":-5.6},\"id\":\"d3e9cdca-923a-47c2-a82d-ce3f2ae03b57\",\"type\":\"Range1d\"},{\"attributes\":{\"fill_alpha\":{\"value\":0.2},\"line_alpha\":{\"value\":0.2},\"plot\":null,\"size\":10},\"id\":\"6ffdd7ff-99e7-41e0-92de-1903b94c92d4\",\"type\":\"NormalHead\"},{\"attributes\":{\"end\":{\"id\":\"90780347-959c-4519-926d-bf325ba72850\",\"type\":\"NormalHead\"},\"line_alpha\":{\"value\":0.2},\"line_width\":{\"value\":3},\"plot\":{\"id\":\"be9facaa-aa39-4dee-95fc-ad21874b513c\",\"subtype\":\"Figure\",\"type\":\"Plot\"},\"source\":null,\"start\":null,\"x_end\":{\"value\":-1.1514266993643352},\"x_start\":{\"value\":0},\"y_end\":{\"value\":2.6397547413366187},\"y_start\":{\"value\":0}},\"id\":\"a41f39b1-8321-4600-b299-6f9e18851d8f\",\"type\":\"Arrow\"},{\"attributes\":{\"fill_alpha\":{\"value\":0.2},\"line_alpha\":{\"value\":0.2},\"plot\":null,\"size\":10},\"id\":\"e83f1971-8fae-4716-83df-fe567bb7b72d\",\"type\":\"NormalHead\"},{\"attributes\":{\"fill_alpha\":{\"value\":0.2},\"line_alpha\":{\"value\":0.2},\"plot\":null,\"size\":10},\"id\":\"ff3ed0e4-197a-4828-9584-f37b5285ad0f\",\"type\":\"NormalHead\"},{\"attributes\":{\"fill_alpha\":{\"value\":0.2},\"line_alpha\":{\"value\":0.2},\"plot\":null,\"size\":10},\"id\":\"616d76e1-5b99-4bbe-92ad-8ae57ea26766\",\"type\":\"NormalHead\"},{\"attributes\":{\"formatter\":{\"id\":\"72d3c7b4-8877-4161-a359-035f4f883b99\",\"type\":\"BasicTickFormatter\"},\"plot\":{\"id\":\"be9facaa-aa39-4dee-95fc-ad21874b513c\",\"subtype\":\"Figure\",\"type\":\"Plot\"},\"ticker\":{\"id\":\"daa7dfbf-85d5-433d-b281-bd7b5b48cdec\",\"type\":\"BasicTicker\"}},\"id\":\"149449ac-01a3-4ed7-b8c0-7b7c28de1394\",\"type\":\"LinearAxis\"},{\"attributes\":{\"end\":{\"id\":\"6ffdd7ff-99e7-41e0-92de-1903b94c92d4\",\"type\":\"NormalHead\"},\"line_alpha\":{\"value\":0.2},\"line_width\":{\"value\":3},\"plot\":{\"id\":\"be9facaa-aa39-4dee-95fc-ad21874b513c\",\"subtype\":\"Figure\",\"type\":\"Plot\"},\"source\":null,\"start\":null,\"x_end\":{\"value\":-4.310782504562235},\"x_start\":{\"value\":0},\"y_end\":{\"value\":0.9205022784186436},\"y_start\":{\"value\":0}},\"id\":\"5390c090-e94c-4a95-a294-56f00e993255\",\"type\":\"Arrow\"},{\"attributes\":{\"fill_alpha\":{\"value\":0.2},\"line_alpha\":{\"value\":0.2},\"plot\":null,\"size\":10},\"id\":\"c1f966f7-ca4a-4298-bfe1-2d6da2b6fc48\",\"type\":\"NormalHead\"},{\"attributes\":{\"fill_alpha\":{\"value\":0.2},\"line_alpha\":{\"value\":0.2},\"plot\":null,\"size\":10},\"id\":\"b0680c5c-796a-47e9-bb7c-27d5b0cacf42\",\"type\":\"NormalHead\"},{\"attributes\":{\"fill_alpha\":{\"value\":0.2},\"line_alpha\":{\"value\":0.2},\"plot\":null,\"size\":10},\"id\":\"4e2417ea-840c-4baa-9518-fb1d3afe12d8\",\"type\":\"NormalHead\"},{\"attributes\":{\"fill_alpha\":{\"value\":0.2},\"line_alpha\":{\"value\":0.2},\"plot\":null,\"size\":10},\"id\":\"1eb85ee2-f2b2-4b2c-aaf1-ba78becb9b12\",\"type\":\"NormalHead\"},{\"attributes\":{\"end\":{\"id\":\"c1897efc-7091-49e5-8057-07c5c9550780\",\"type\":\"NormalHead\"},\"line_alpha\":{\"value\":0.2},\"line_width\":{\"value\":3},\"plot\":{\"id\":\"be9facaa-aa39-4dee-95fc-ad21874b513c\",\"subtype\":\"Figure\",\"type\":\"Plot\"},\"source\":null,\"start\":null,\"x_end\":{\"value\":4.473149930518192},\"x_start\":{\"value\":0},\"y_end\":{\"value\":2.988640142576079},\"y_start\":{\"value\":0}},\"id\":\"d1efa2b7-829e-4370-86e5-1dbae5246a6e\",\"type\":\"Arrow\"},{\"attributes\":{\"end\":{\"id\":\"aa33be43-07d4-4b8d-ad74-81e5e0daea77\",\"type\":\"NormalHead\"},\"line_alpha\":{\"value\":0.2},\"line_width\":{\"value\":3},\"plot\":{\"id\":\"be9facaa-aa39-4dee-95fc-ad21874b513c\",\"subtype\":\"Figure\",\"type\":\"Plot\"},\"source\":null,\"start\":null,\"x_end\":{\"value\":3.3663160296723813},\"x_start\":{\"value\":0},\"y_end\":{\"value\":-3.848634042611688},\"y_start\":{\"value\":0}},\"id\":\"761edcc3-2248-4016-bd25-867e02ed12f4\",\"type\":\"Arrow\"},{\"attributes\":{\"end\":{\"id\":\"b0680c5c-796a-47e9-bb7c-27d5b0cacf42\",\"type\":\"NormalHead\"},\"line_alpha\":{\"value\":0.2},\"line_width\":{\"value\":3},\"plot\":{\"id\":\"be9facaa-aa39-4dee-95fc-ad21874b513c\",\"subtype\":\"Figure\",\"type\":\"Plot\"},\"source\":null,\"start\":null,\"x_end\":{\"value\":0.6078648326744851},\"x_start\":{\"value\":0},\"y_end\":{\"value\":3.3966934533954873},\"y_start\":{\"value\":0}},\"id\":\"c6d007e6-9e0f-4db3-8b64-d73f6cfd495d\",\"type\":\"Arrow\"},{\"attributes\":{\"callback\":null,\"data\":{\"x\":[0,0],\"y\":[-8,8]},\"selected\":{\"id\":\"2b40592d-1069-41a2-8bcb-d9538a6090c6\",\"type\":\"Selection\"},\"selection_policy\":{\"id\":\"cb994ec2-38b6-4218-a51b-a954b18d84ed\",\"type\":\"UnionRenderers\"}},\"id\":\"70a3c072-f8f2-4b86-91a0-d2dae9b736de\",\"type\":\"ColumnDataSource\"},{\"attributes\":{\"end\":{\"id\":\"c1f966f7-ca4a-4298-bfe1-2d6da2b6fc48\",\"type\":\"NormalHead\"},\"line_alpha\":{\"value\":0.2},\"line_width\":{\"value\":3},\"plot\":{\"id\":\"be9facaa-aa39-4dee-95fc-ad21874b513c\",\"subtype\":\"Figure\",\"type\":\"Plot\"},\"source\":null,\"start\":null,\"x_end\":{\"value\":-4.161894676918517},\"x_start\":{\"value\":0},\"y_end\":{\"value\":-0.3226743106033112},\"y_start\":{\"value\":0}},\"id\":\"301d7248-f417-4ce1-bdb9-ee3aa679f07e\",\"type\":\"Arrow\"},{\"attributes\":{\"fill_color\":{\"value\":\"blue\"},\"line_color\":{\"value\":\"blue\"},\"plot\":null,\"size\":10},\"id\":\"904442ff-d76b-4509-a3d7-d7a91d5f16d2\",\"type\":\"NormalHead\"},{\"attributes\":{\"fill_alpha\":{\"value\":0.2},\"line_alpha\":{\"value\":0.2},\"plot\":null,\"size\":10},\"id\":\"08570c76-b6d5-47cd-9c4b-ff9afdbf2700\",\"type\":\"NormalHead\"},{\"attributes\":{\"active_drag\":\"auto\",\"active_inspect\":\"auto\",\"active_multi\":null,\"active_scroll\":\"auto\",\"active_tap\":\"auto\",\"tools\":[{\"id\":\"8abcdc4e-89d2-4b95-b4c6-5f634c718980\",\"type\":\"WheelZoomTool\"},{\"id\":\"9f655d56-c9bf-4f90-b4fb-9821751f062c\",\"type\":\"PanTool\"},{\"id\":\"75420f20-a900-4f2f-b1c0-a9c9adec1014\",\"type\":\"ResetTool\"}]},\"id\":\"f6f2f268-972f-4276-8d6c-19be95e3fb8a\",\"type\":\"Toolbar\"},{\"attributes\":{\"end\":{\"id\":\"616d76e1-5b99-4bbe-92ad-8ae57ea26766\",\"type\":\"NormalHead\"},\"line_alpha\":{\"value\":0.2},\"line_width\":{\"value\":3},\"plot\":{\"id\":\"be9facaa-aa39-4dee-95fc-ad21874b513c\",\"subtype\":\"Figure\",\"type\":\"Plot\"},\"source\":null,\"start\":null,\"x_end\":{\"value\":0.569152632639538},\"x_start\":{\"value\":0},\"y_end\":{\"value\":0.15194202342462138},\"y_start\":{\"value\":0}},\"id\":\"39d111ca-f5e0-4192-9439-a9484d665ad8\",\"type\":\"Arrow\"},{\"attributes\":{\"fill_alpha\":{\"value\":0.2},\"line_alpha\":{\"value\":0.2},\"plot\":null,\"size\":10},\"id\":\"9f15176d-9c95-4803-9335-e008b6609c5c\",\"type\":\"NormalHead\"},{\"attributes\":{\"end\":{\"id\":\"e83f1971-8fae-4716-83df-fe567bb7b72d\",\"type\":\"NormalHead\"},\"line_alpha\":{\"value\":0.2},\"line_width\":{\"value\":3},\"plot\":{\"id\":\"be9facaa-aa39-4dee-95fc-ad21874b513c\",\"subtype\":\"Figure\",\"type\":\"Plot\"},\"source\":null,\"start\":null,\"x_end\":{\"value\":0.27203280019834253},\"x_start\":{\"value\":0},\"y_end\":{\"value\":1.326914892220187},\"y_start\":{\"value\":0}},\"id\":\"a3828629-1d91-487c-8f3a-c7f91539f901\",\"type\":\"Arrow\"},{\"attributes\":{\"end\":{\"id\":\"fdfe1aba-adbd-40ec-9578-2fece5861f20\",\"type\":\"NormalHead\"},\"line_alpha\":{\"value\":0.2},\"line_width\":{\"value\":3},\"plot\":{\"id\":\"be9facaa-aa39-4dee-95fc-ad21874b513c\",\"subtype\":\"Figure\",\"type\":\"Plot\"},\"source\":null,\"start\":null,\"x_end\":{\"value\":-3.717926286791889},\"x_start\":{\"value\":0},\"y_end\":{\"value\":-4.3779597834564745},\"y_start\":{\"value\":0}},\"id\":\"aab2e82e-6fa5-4869-876d-73fc6deaf2e5\",\"type\":\"Arrow\"},{\"attributes\":{},\"id\":\"cb09b09b-ef41-4622-a520-c5d872f10b93\",\"type\":\"LinearScale\"},{\"attributes\":{\"fill_alpha\":{\"value\":0.2},\"line_alpha\":{\"value\":0.2},\"plot\":null,\"size\":10},\"id\":\"b06cf12e-e8c1-4198-a5a5-2fb01916d5f5\",\"type\":\"NormalHead\"},{\"attributes\":{\"fill_alpha\":{\"value\":0.2},\"line_alpha\":{\"value\":0.2},\"plot\":null,\"size\":10},\"id\":\"df51ac4a-d1d3-493a-b4bb-d18970c0b6ca\",\"type\":\"NormalHead\"},{\"attributes\":{\"end\":{\"id\":\"9f15176d-9c95-4803-9335-e008b6609c5c\",\"type\":\"NormalHead\"},\"line_alpha\":{\"value\":0.2},\"line_width\":{\"value\":3},\"plot\":{\"id\":\"be9facaa-aa39-4dee-95fc-ad21874b513c\",\"subtype\":\"Figure\",\"type\":\"Plot\"},\"source\":null,\"start\":null,\"x_end\":{\"value\":-2.9600719790681342},\"x_start\":{\"value\":0},\"y_end\":{\"value\":0.9394605776835965},\"y_start\":{\"value\":0}},\"id\":\"77f07350-6c74-4aef-9f25-c3b035d7ea61\",\"type\":\"Arrow\"},{\"attributes\":{\"end\":{\"id\":\"c6430b88-3d29-4684-8301-205cf9292ad4\",\"type\":\"NormalHead\"},\"line_alpha\":{\"value\":0.2},\"line_width\":{\"value\":3},\"plot\":{\"id\":\"be9facaa-aa39-4dee-95fc-ad21874b513c\",\"subtype\":\"Figure\",\"type\":\"Plot\"},\"source\":null,\"start\":null,\"x_end\":{\"value\":4.048396939647565},\"x_start\":{\"value\":0},\"y_end\":{\"value\":0.7002062714817994},\"y_start\":{\"value\":0}},\"id\":\"21556ea9-acca-4bbb-8373-85c4ab266e1e\",\"type\":\"Arrow\"},{\"attributes\":{\"end\":{\"id\":\"1eb85ee2-f2b2-4b2c-aaf1-ba78becb9b12\",\"type\":\"NormalHead\"},\"line_alpha\":{\"value\":0.2},\"line_width\":{\"value\":3},\"plot\":{\"id\":\"be9facaa-aa39-4dee-95fc-ad21874b513c\",\"subtype\":\"Figure\",\"type\":\"Plot\"},\"source\":null,\"start\":null,\"x_end\":{\"value\":3.3157954265136027},\"x_start\":{\"value\":0},\"y_end\":{\"value\":3.5815842662291093},\"y_start\":{\"value\":0}},\"id\":\"3ba08076-4706-4412-bc78-699996d69e40\",\"type\":\"Arrow\"},{\"attributes\":{\"end\":{\"id\":\"4e2417ea-840c-4baa-9518-fb1d3afe12d8\",\"type\":\"NormalHead\"},\"line_alpha\":{\"value\":0.2},\"line_width\":{\"value\":3},\"plot\":{\"id\":\"be9facaa-aa39-4dee-95fc-ad21874b513c\",\"subtype\":\"Figure\",\"type\":\"Plot\"},\"source\":null,\"start\":null,\"x_end\":{\"value\":4.898933491966233},\"x_start\":{\"value\":0},\"y_end\":{\"value\":0.8692778568177539},\"y_start\":{\"value\":0}},\"id\":\"3cfe0bfb-241f-4ead-bf0c-f002c84d2de6\",\"type\":\"Arrow\"},{\"attributes\":{\"end\":{\"id\":\"08570c76-b6d5-47cd-9c4b-ff9afdbf2700\",\"type\":\"NormalHead\"},\"line_alpha\":{\"value\":0.2},\"line_width\":{\"value\":3},\"plot\":{\"id\":\"be9facaa-aa39-4dee-95fc-ad21874b513c\",\"subtype\":\"Figure\",\"type\":\"Plot\"},\"source\":null,\"start\":null,\"x_end\":{\"value\":-4.491536192389434},\"x_start\":{\"value\":0},\"y_end\":{\"value\":3.0173652278277334},\"y_start\":{\"value\":0}},\"id\":\"5ab35b46-2e02-46ba-9bf1-39c6d8bf170a\",\"type\":\"Arrow\"},{\"attributes\":{\"fill_alpha\":{\"value\":0.2},\"line_alpha\":{\"value\":0.2},\"plot\":null,\"size\":10},\"id\":\"aa33be43-07d4-4b8d-ad74-81e5e0daea77\",\"type\":\"NormalHead\"},{\"attributes\":{\"below\":[{\"id\":\"d8406431-93c6-417f-98a3-4549d4cfeb7a\",\"type\":\"LinearAxis\"}],\"left\":[{\"id\":\"149449ac-01a3-4ed7-b8c0-7b7c28de1394\",\"type\":\"LinearAxis\"}],\"plot_height\":400,\"plot_width\":400,\"renderers\":[{\"id\":\"d8406431-93c6-417f-98a3-4549d4cfeb7a\",\"type\":\"LinearAxis\"},{\"id\":\"d24818dc-f15d-4601-8cf1-d1982b4d4ff7\",\"type\":\"Grid\"},{\"id\":\"149449ac-01a3-4ed7-b8c0-7b7c28de1394\",\"type\":\"LinearAxis\"},{\"id\":\"33de4333-5faf-4ebf-a72e-b0ee291cc5cf\",\"type\":\"Grid\"},{\"id\":\"87f0b017-2cf4-4694-b11d-000d92a95323\",\"type\":\"GlyphRenderer\"},{\"id\":\"2b73cb3d-a1c0-4314-a73a-4ebfe697626a\",\"type\":\"GlyphRenderer\"},{\"id\":\"b6db67ab-6933-4dff-b76e-0eefd4e0a95d\",\"type\":\"Arrow\"},{\"id\":\"ad85ceba-d5e3-43f2-a40e-23b195cff172\",\"type\":\"Arrow\"},{\"id\":\"301d7248-f417-4ce1-bdb9-ee3aa679f07e\",\"type\":\"Arrow\"},{\"id\":\"a3828629-1d91-487c-8f3a-c7f91539f901\",\"type\":\"Arrow\"},{\"id\":\"761edcc3-2248-4016-bd25-867e02ed12f4\",\"type\":\"Arrow\"},{\"id\":\"77f07350-6c74-4aef-9f25-c3b035d7ea61\",\"type\":\"Arrow\"},{\"id\":\"3cfe0bfb-241f-4ead-bf0c-f002c84d2de6\",\"type\":\"Arrow\"},{\"id\":\"ad130691-5b98-4764-9357-42505382c664\",\"type\":\"Arrow\"},{\"id\":\"bb556dd7-c59d-4c6f-9925-1d01f8e86649\",\"type\":\"Arrow\"},{\"id\":\"ede9f082-4197-4e37-8fa9-56be2a302cea\",\"type\":\"Arrow\"},{\"id\":\"c0b584f0-bdc0-454d-afb8-8dd849f690b8\",\"type\":\"Arrow\"},{\"id\":\"c20456e3-7341-4952-9b22-646c22427d2d\",\"type\":\"Arrow\"},{\"id\":\"a41f39b1-8321-4600-b299-6f9e18851d8f\",\"type\":\"Arrow\"},{\"id\":\"5d2790ce-b57f-4348-819a-6105a75359c4\",\"type\":\"Arrow\"},{\"id\":\"5390c090-e94c-4a95-a294-56f00e993255\",\"type\":\"Arrow\"},{\"id\":\"c6d007e6-9e0f-4db3-8b64-d73f6cfd495d\",\"type\":\"Arrow\"},{\"id\":\"39d111ca-f5e0-4192-9439-a9484d665ad8\",\"type\":\"Arrow\"},{\"id\":\"d1efa2b7-829e-4370-86e5-1dbae5246a6e\",\"type\":\"Arrow\"},{\"id\":\"3ba08076-4706-4412-bc78-699996d69e40\",\"type\":\"Arrow\"},{\"id\":\"5ab35b46-2e02-46ba-9bf1-39c6d8bf170a\",\"type\":\"Arrow\"},{\"id\":\"21556ea9-acca-4bbb-8373-85c4ab266e1e\",\"type\":\"Arrow\"},{\"id\":\"aab2e82e-6fa5-4869-876d-73fc6deaf2e5\",\"type\":\"Arrow\"},{\"id\":\"f1be6ada-6e9d-4c9c-9a01-26f6ff8901f8\",\"type\":\"Arrow\"},{\"id\":\"15a432e2-622a-471f-82ee-f8099de0dae8\",\"type\":\"Arrow\"},{\"id\":\"4f899496-2b9e-4b37-8773-d7b7dba357d5\",\"type\":\"Arrow\"},{\"id\":\"c83536ce-9b0b-43e3-a630-e816b9a332fa\",\"type\":\"Arrow\"},{\"id\":\"2c9482d5-3067-4a58-9831-3a75be624bc6\",\"type\":\"Arrow\"},{\"id\":\"cef6c869-75e7-4c3b-a5b6-0294d52fee6f\",\"type\":\"Arrow\"},{\"id\":\"ee723890-78c6-4a14-b7fc-89536efc4133\",\"type\":\"Arrow\"},{\"id\":\"0d2deaa5-26a2-4026-bb6e-705781613834\",\"type\":\"Arrow\"},{\"id\":\"a9f0c1d1-0698-44dc-9685-471c61f179a0\",\"type\":\"Arrow\"},{\"id\":\"17c9b268-6773-4740-8244-06578acc4dce\",\"type\":\"Arrow\"},{\"id\":\"e0cc6917-8a51-4cdf-864b-cb5d57267f1d\",\"type\":\"Arrow\"},{\"id\":\"6ca531f7-c0d1-4ae0-b10a-50f4de47ccfa\",\"type\":\"Arrow\"},{\"id\":\"1a862d81-b6ae-46e3-b03b-2999ed003bd5\",\"type\":\"Arrow\"},{\"id\":\"f6119add-17f3-49e3-ac1e-318e692c08f6\",\"type\":\"Arrow\"},{\"id\":\"841ed357-d2e1-4b8f-8faa-4da9b1abf596\",\"type\":\"Arrow\"},{\"id\":\"355977c1-6b79-4219-9535-a636f4bcc63c\",\"type\":\"Arrow\"},{\"id\":\"34c2a6eb-8a67-483c-bd0f-22fea85be6f0\",\"type\":\"Arrow\"},{\"id\":\"e5813fa3-38cb-462c-8cc5-01f5e46980bd\",\"type\":\"Arrow\"},{\"id\":\"19ef8a3c-f05d-474e-970e-d1cf58c20d5a\",\"type\":\"Arrow\"},{\"id\":\"ac476b6f-e0cb-4758-a389-b6e3dbba29ad\",\"type\":\"Arrow\"},{\"id\":\"6d019d20-c3f5-44c8-b027-2f47d6a8019b\",\"type\":\"Arrow\"},{\"id\":\"f0d7b2a2-daa4-45f8-bb80-f31484e68d95\",\"type\":\"Arrow\"},{\"id\":\"1b2d4958-9534-4112-bc3a-164b4eb3a9ca\",\"type\":\"Arrow\"},{\"id\":\"76b0500a-0d79-4dc5-b37b-4d28901ac327\",\"type\":\"Arrow\"},{\"id\":\"531ba310-4d78-4394-b373-8b51ab4d1075\",\"type\":\"Arrow\"},{\"id\":\"c9edc3f1-c11d-4b6c-a063-cef98bf6be25\",\"type\":\"Arrow\"},{\"id\":\"d73832ec-65b8-4067-a495-a0d2472d3d02\",\"type\":\"Arrow\"},{\"id\":\"b7242450-5e81-49f4-bcdb-257798875b2d\",\"type\":\"Arrow\"},{\"id\":\"1472a149-ddad-4348-aea1-9fb134f80f3b\",\"type\":\"Arrow\"},{\"id\":\"285d06c8-5eb1-4e5d-b1c3-62e39ee18553\",\"type\":\"Arrow\"},{\"id\":\"f714d49b-ebf9-4a2c-98e4-f5f7208430ee\",\"type\":\"Arrow\"}],\"title\":{\"id\":\"09b7703f-bd52-485a-ac73-a1a5ee86031c\",\"type\":\"Title\"},\"toolbar\":{\"id\":\"f6f2f268-972f-4276-8d6c-19be95e3fb8a\",\"type\":\"Toolbar\"},\"x_range\":{\"id\":\"d3e9cdca-923a-47c2-a82d-ce3f2ae03b57\",\"type\":\"Range1d\"},\"x_scale\":{\"id\":\"c2111c37-9e91-4d65-b30c-df25990cfa9e\",\"type\":\"LinearScale\"},\"y_range\":{\"id\":\"f06d2615-d522-454f-a812-63802df0e266\",\"type\":\"Range1d\"},\"y_scale\":{\"id\":\"cb09b09b-ef41-4622-a520-c5d872f10b93\",\"type\":\"LinearScale\"}},\"id\":\"be9facaa-aa39-4dee-95fc-ad21874b513c\",\"subtype\":\"Figure\",\"type\":\"Plot\"},{\"attributes\":{\"fill_alpha\":{\"value\":0.2},\"line_alpha\":{\"value\":0.2},\"plot\":null,\"size\":10},\"id\":\"c92dcd48-7780-4c8d-a15a-2f517ed80637\",\"type\":\"NormalHead\"},{\"attributes\":{\"fill_alpha\":{\"value\":0.2},\"line_alpha\":{\"value\":0.2},\"plot\":null,\"size\":10},\"id\":\"c6430b88-3d29-4684-8301-205cf9292ad4\",\"type\":\"NormalHead\"},{\"attributes\":{\"end\":{\"id\":\"94a7cbf3-84be-45d3-be34-4c8996f7b2f0\",\"type\":\"NormalHead\"},\"line_alpha\":{\"value\":0.2},\"line_width\":{\"value\":3},\"plot\":{\"id\":\"be9facaa-aa39-4dee-95fc-ad21874b513c\",\"subtype\":\"Figure\",\"type\":\"Plot\"},\"source\":null,\"start\":null,\"x_end\":{\"value\":0.11679937855759803},\"x_start\":{\"value\":0},\"y_end\":{\"value\":0.9168474084583309},\"y_start\":{\"value\":0}},\"id\":\"c0b584f0-bdc0-454d-afb8-8dd849f690b8\",\"type\":\"Arrow\"},{\"attributes\":{\"fill_alpha\":{\"value\":0.2},\"line_alpha\":{\"value\":0.2},\"plot\":null,\"size\":10},\"id\":\"9c0c53f7-0e1f-4f09-bc5c-19b4e4aea0ed\",\"type\":\"NormalHead\"},{\"attributes\":{\"end\":{\"id\":\"f1ed5d16-e2fa-4857-a6f0-aa941720dc85\",\"type\":\"NormalHead\"},\"line_alpha\":{\"value\":0.2},\"line_width\":{\"value\":3},\"plot\":{\"id\":\"be9facaa-aa39-4dee-95fc-ad21874b513c\",\"subtype\":\"Figure\",\"type\":\"Plot\"},\"source\":null,\"start\":null,\"x_end\":{\"value\":-4.216138837472262},\"x_start\":{\"value\":0},\"y_end\":{\"value\":3.840542976517467},\"y_start\":{\"value\":0}},\"id\":\"15a432e2-622a-471f-82ee-f8099de0dae8\",\"type\":\"Arrow\"},{\"attributes\":{},\"id\":\"daa7dfbf-85d5-433d-b281-bd7b5b48cdec\",\"type\":\"BasicTicker\"},{\"attributes\":{\"fill_alpha\":{\"value\":0.2},\"line_alpha\":{\"value\":0.2},\"plot\":null,\"size\":10},\"id\":\"d1040aa6-1a6f-4eb2-88fd-31aaf1315ed5\",\"type\":\"NormalHead\"},{\"attributes\":{\"fill_alpha\":{\"value\":0.2},\"line_alpha\":{\"value\":0.2},\"plot\":null,\"size\":10},\"id\":\"0a40d587-026d-4f1b-b446-896cd3b327d2\",\"type\":\"NormalHead\"},{\"attributes\":{\"fill_alpha\":{\"value\":0.2},\"line_alpha\":{\"value\":0.2},\"plot\":null,\"size\":10},\"id\":\"f6fd3ae8-13a6-4929-94e5-f51b6b0d1671\",\"type\":\"NormalHead\"},{\"attributes\":{\"end\":{\"id\":\"7a127f95-615c-4cb9-9ddc-f89627f43a31\",\"type\":\"NormalHead\"},\"line_alpha\":{\"value\":0.2},\"line_width\":{\"value\":3},\"plot\":{\"id\":\"be9facaa-aa39-4dee-95fc-ad21874b513c\",\"subtype\":\"Figure\",\"type\":\"Plot\"},\"source\":null,\"start\":null,\"x_end\":{\"value\":4.9529279261130945},\"x_start\":{\"value\":0},\"y_end\":{\"value\":2.814697667386003},\"y_start\":{\"value\":0}},\"id\":\"f1be6ada-6e9d-4c9c-9a01-26f6ff8901f8\",\"type\":\"Arrow\"},{\"attributes\":{\"end\":{\"id\":\"0a40d587-026d-4f1b-b446-896cd3b327d2\",\"type\":\"NormalHead\"},\"line_alpha\":{\"value\":0.2},\"line_width\":{\"value\":3},\"plot\":{\"id\":\"be9facaa-aa39-4dee-95fc-ad21874b513c\",\"subtype\":\"Figure\",\"type\":\"Plot\"},\"source\":null,\"start\":null,\"x_end\":{\"value\":-2.5685268377839874},\"x_start\":{\"value\":0},\"y_end\":{\"value\":0.7335809452110986},\"y_start\":{\"value\":0}},\"id\":\"ad130691-5b98-4764-9357-42505382c664\",\"type\":\"Arrow\"},{\"attributes\":{\"end\":{\"id\":\"9c0c53f7-0e1f-4f09-bc5c-19b4e4aea0ed\",\"type\":\"NormalHead\"},\"line_alpha\":{\"value\":0.2},\"line_width\":{\"value\":3},\"plot\":{\"id\":\"be9facaa-aa39-4dee-95fc-ad21874b513c\",\"subtype\":\"Figure\",\"type\":\"Plot\"},\"source\":null,\"start\":null,\"x_end\":{\"value\":-1.3737279957867852},\"x_start\":{\"value\":0},\"y_end\":{\"value\":0.815545894823682},\"y_start\":{\"value\":0}},\"id\":\"c83536ce-9b0b-43e3-a630-e816b9a332fa\",\"type\":\"Arrow\"},{\"attributes\":{\"fill_alpha\":{\"value\":0.2},\"line_alpha\":{\"value\":0.2},\"plot\":null,\"size\":10},\"id\":\"02b4e9ed-32bf-4398-82eb-4507a561357c\",\"type\":\"NormalHead\"},{\"attributes\":{\"end\":{\"id\":\"df51ac4a-d1d3-493a-b4bb-d18970c0b6ca\",\"type\":\"NormalHead\"},\"line_alpha\":{\"value\":0.2},\"line_width\":{\"value\":3},\"plot\":{\"id\":\"be9facaa-aa39-4dee-95fc-ad21874b513c\",\"subtype\":\"Figure\",\"type\":\"Plot\"},\"source\":null,\"start\":null,\"x_end\":{\"value\":-0.4211163961458517},\"x_start\":{\"value\":0},\"y_end\":{\"value\":0.8486329356004134},\"y_start\":{\"value\":0}},\"id\":\"2c9482d5-3067-4a58-9831-3a75be624bc6\",\"type\":\"Arrow\"},{\"attributes\":{\"fill_alpha\":{\"value\":0.2},\"line_alpha\":{\"value\":0.2},\"plot\":null,\"size\":10},\"id\":\"dd798835-d96f-4ccb-a4d5-583e6db8954c\",\"type\":\"NormalHead\"},{\"attributes\":{\"end\":{\"id\":\"02b4e9ed-32bf-4398-82eb-4507a561357c\",\"type\":\"NormalHead\"},\"line_alpha\":{\"value\":0.2},\"line_width\":{\"value\":3},\"plot\":{\"id\":\"be9facaa-aa39-4dee-95fc-ad21874b513c\",\"subtype\":\"Figure\",\"type\":\"Plot\"},\"source\":null,\"start\":null,\"x_end\":{\"value\":-0.26991336014110523},\"x_start\":{\"value\":0},\"y_end\":{\"value\":1.5677285069813713},\"y_start\":{\"value\":0}},\"id\":\"cef6c869-75e7-4c3b-a5b6-0294d52fee6f\",\"type\":\"Arrow\"},{\"attributes\":{\"fill_alpha\":{\"value\":0.2},\"line_alpha\":{\"value\":0.2},\"plot\":null,\"size\":10},\"id\":\"ea08fda5-f2d7-4c5f-9103-e46456c44989\",\"type\":\"NormalHead\"},{\"attributes\":{\"end\":{\"id\":\"dd798835-d96f-4ccb-a4d5-583e6db8954c\",\"type\":\"NormalHead\"},\"line_alpha\":{\"value\":0.2},\"line_width\":{\"value\":3},\"plot\":{\"id\":\"be9facaa-aa39-4dee-95fc-ad21874b513c\",\"subtype\":\"Figure\",\"type\":\"Plot\"},\"source\":null,\"start\":null,\"x_end\":{\"value\":1.7408435652749574},\"x_start\":{\"value\":0},\"y_end\":{\"value\":-4.333590409721182},\"y_start\":{\"value\":0}},\"id\":\"ee723890-78c6-4a14-b7fc-89536efc4133\",\"type\":\"Arrow\"},{\"attributes\":{\"fill_alpha\":{\"value\":0.2},\"line_alpha\":{\"value\":0.2},\"plot\":null,\"size\":10},\"id\":\"2ba32979-b291-4b26-9d07-6713317ba917\",\"type\":\"NormalHead\"},{\"attributes\":{\"end\":{\"id\":\"ea08fda5-f2d7-4c5f-9103-e46456c44989\",\"type\":\"NormalHead\"},\"line_alpha\":{\"value\":0.2},\"line_width\":{\"value\":3},\"plot\":{\"id\":\"be9facaa-aa39-4dee-95fc-ad21874b513c\",\"subtype\":\"Figure\",\"type\":\"Plot\"},\"source\":null,\"start\":null,\"x_end\":{\"value\":2.8267758775873357},\"x_start\":{\"value\":0},\"y_end\":{\"value\":4.9892983762065395},\"y_start\":{\"value\":0}},\"id\":\"0d2deaa5-26a2-4026-bb6e-705781613834\",\"type\":\"Arrow\"},{\"attributes\":{\"fill_alpha\":{\"value\":0.2},\"line_alpha\":{\"value\":0.2},\"plot\":null,\"size\":10},\"id\":\"9c8620fa-ab10-458e-84d7-8619d95d65b2\",\"type\":\"NormalHead\"},{\"attributes\":{\"end\":{\"id\":\"2ba32979-b291-4b26-9d07-6713317ba917\",\"type\":\"NormalHead\"},\"line_alpha\":{\"value\":0.2},\"line_width\":{\"value\":3},\"plot\":{\"id\":\"be9facaa-aa39-4dee-95fc-ad21874b513c\",\"subtype\":\"Figure\",\"type\":\"Plot\"},\"source\":null,\"start\":null,\"x_end\":{\"value\":-4.847011957066266},\"x_start\":{\"value\":0},\"y_end\":{\"value\":2.7394782791038814},\"y_start\":{\"value\":0}},\"id\":\"a9f0c1d1-0698-44dc-9685-471c61f179a0\",\"type\":\"Arrow\"},{\"attributes\":{\"fill_alpha\":{\"value\":0.2},\"line_alpha\":{\"value\":0.2},\"plot\":null,\"size\":10},\"id\":\"25ed479b-a6f8-4dd1-8882-ea2b16310cc0\",\"type\":\"NormalHead\"},{\"attributes\":{\"end\":{\"id\":\"9c8620fa-ab10-458e-84d7-8619d95d65b2\",\"type\":\"NormalHead\"},\"line_alpha\":{\"value\":0.2},\"line_width\":{\"value\":3},\"plot\":{\"id\":\"be9facaa-aa39-4dee-95fc-ad21874b513c\",\"subtype\":\"Figure\",\"type\":\"Plot\"},\"source\":null,\"start\":null,\"x_end\":{\"value\":0.053985059986483286},\"x_start\":{\"value\":0},\"y_end\":{\"value\":-4.168534903371319},\"y_start\":{\"value\":0}},\"id\":\"17c9b268-6773-4740-8244-06578acc4dce\",\"type\":\"Arrow\"},{\"attributes\":{\"fill_alpha\":{\"value\":0.2},\"line_alpha\":{\"value\":0.2},\"plot\":null,\"size\":10},\"id\":\"75c59d7d-750a-4c1b-a9a7-561ba7dde499\",\"type\":\"NormalHead\"},{\"attributes\":{\"end\":{\"id\":\"25ed479b-a6f8-4dd1-8882-ea2b16310cc0\",\"type\":\"NormalHead\"},\"line_alpha\":{\"value\":0.2},\"line_width\":{\"value\":3},\"plot\":{\"id\":\"be9facaa-aa39-4dee-95fc-ad21874b513c\",\"subtype\":\"Figure\",\"type\":\"Plot\"},\"source\":null,\"start\":null,\"x_end\":{\"value\":2.8922269161460887},\"x_start\":{\"value\":0},\"y_end\":{\"value\":3.7684127082141696},\"y_start\":{\"value\":0}},\"id\":\"e0cc6917-8a51-4cdf-864b-cb5d57267f1d\",\"type\":\"Arrow\"},{\"attributes\":{\"fill_alpha\":{\"value\":0.2},\"line_alpha\":{\"value\":0.2},\"plot\":null,\"size\":10},\"id\":\"0c508776-e53b-450a-b2bd-18a668a45477\",\"type\":\"NormalHead\"},{\"attributes\":{\"end\":{\"id\":\"75c59d7d-750a-4c1b-a9a7-561ba7dde499\",\"type\":\"NormalHead\"},\"line_alpha\":{\"value\":0.2},\"line_width\":{\"value\":3},\"plot\":{\"id\":\"be9facaa-aa39-4dee-95fc-ad21874b513c\",\"subtype\":\"Figure\",\"type\":\"Plot\"},\"source\":null,\"start\":null,\"x_end\":{\"value\":4.122111490326969},\"x_start\":{\"value\":0},\"y_end\":{\"value\":4.020348803504833},\"y_start\":{\"value\":0}},\"id\":\"6ca531f7-c0d1-4ae0-b10a-50f4de47ccfa\",\"type\":\"Arrow\"},{\"attributes\":{\"fill_alpha\":{\"value\":0.2},\"line_alpha\":{\"value\":0.2},\"plot\":null,\"size\":10},\"id\":\"edb683d0-1ceb-4dfd-b241-1a01aec2f4b5\",\"type\":\"NormalHead\"},{\"attributes\":{\"end\":{\"id\":\"0c508776-e53b-450a-b2bd-18a668a45477\",\"type\":\"NormalHead\"},\"line_alpha\":{\"value\":0.2},\"line_width\":{\"value\":3},\"plot\":{\"id\":\"be9facaa-aa39-4dee-95fc-ad21874b513c\",\"subtype\":\"Figure\",\"type\":\"Plot\"},\"source\":null,\"start\":null,\"x_end\":{\"value\":1.5219651581241251},\"x_start\":{\"value\":0},\"y_end\":{\"value\":0.7068291563542806},\"y_start\":{\"value\":0}},\"id\":\"1a862d81-b6ae-46e3-b03b-2999ed003bd5\",\"type\":\"Arrow\"},{\"attributes\":{\"fill_alpha\":{\"value\":0.2},\"line_alpha\":{\"value\":0.2},\"plot\":null,\"size\":10},\"id\":\"ed7df5f0-b558-4ffa-93d4-e4f59ab36df6\",\"type\":\"NormalHead\"},{\"attributes\":{\"end\":{\"id\":\"edb683d0-1ceb-4dfd-b241-1a01aec2f4b5\",\"type\":\"NormalHead\"},\"line_alpha\":{\"value\":0.2},\"line_width\":{\"value\":3},\"plot\":{\"id\":\"be9facaa-aa39-4dee-95fc-ad21874b513c\",\"subtype\":\"Figure\",\"type\":\"Plot\"},\"source\":null,\"start\":null,\"x_end\":{\"value\":-1.4627896708033852},\"x_start\":{\"value\":0},\"y_end\":{\"value\":-1.1918028103981526},\"y_start\":{\"value\":0}},\"id\":\"f6119add-17f3-49e3-ac1e-318e692c08f6\",\"type\":\"Arrow\"},{\"attributes\":{\"fill_alpha\":{\"value\":0.2},\"line_alpha\":{\"value\":0.2},\"plot\":null,\"size\":10},\"id\":\"a35c548a-62aa-45b1-b0c4-c3664055d5e3\",\"type\":\"NormalHead\"},{\"attributes\":{\"end\":{\"id\":\"ed7df5f0-b558-4ffa-93d4-e4f59ab36df6\",\"type\":\"NormalHead\"},\"line_alpha\":{\"value\":0.2},\"line_width\":{\"value\":3},\"plot\":{\"id\":\"be9facaa-aa39-4dee-95fc-ad21874b513c\",\"subtype\":\"Figure\",\"type\":\"Plot\"},\"source\":null,\"start\":null,\"x_end\":{\"value\":-2.0025283985048112},\"x_start\":{\"value\":0},\"y_end\":{\"value\":-2.6261494902219686},\"y_start\":{\"value\":0}},\"id\":\"841ed357-d2e1-4b8f-8faa-4da9b1abf596\",\"type\":\"Arrow\"},{\"attributes\":{\"fill_alpha\":{\"value\":0.2},\"line_alpha\":{\"value\":0.2},\"plot\":null,\"size\":10},\"id\":\"e216d9a0-efeb-4045-8017-fbb27ce9dc31\",\"type\":\"NormalHead\"},{\"attributes\":{\"end\":{\"id\":\"a35c548a-62aa-45b1-b0c4-c3664055d5e3\",\"type\":\"NormalHead\"},\"line_alpha\":{\"value\":0.2},\"line_width\":{\"value\":3},\"plot\":{\"id\":\"be9facaa-aa39-4dee-95fc-ad21874b513c\",\"subtype\":\"Figure\",\"type\":\"Plot\"},\"source\":null,\"start\":null,\"x_end\":{\"value\":-4.597419916789934},\"x_start\":{\"value\":0},\"y_end\":{\"value\":3.232806821682896},\"y_start\":{\"value\":0}},\"id\":\"355977c1-6b79-4219-9535-a636f4bcc63c\",\"type\":\"Arrow\"},{\"attributes\":{\"fill_alpha\":{\"value\":0.2},\"line_alpha\":{\"value\":0.2},\"plot\":null,\"size\":10},\"id\":\"9355de75-44de-4749-8d54-27f126c3502a\",\"type\":\"NormalHead\"},{\"attributes\":{\"end\":{\"id\":\"e216d9a0-efeb-4045-8017-fbb27ce9dc31\",\"type\":\"NormalHead\"},\"line_alpha\":{\"value\":0.2},\"line_width\":{\"value\":3},\"plot\":{\"id\":\"be9facaa-aa39-4dee-95fc-ad21874b513c\",\"subtype\":\"Figure\",\"type\":\"Plot\"},\"source\":null,\"start\":null,\"x_end\":{\"value\":-4.1735976854313375},\"x_start\":{\"value\":0},\"y_end\":{\"value\":-3.9806718752244894},\"y_start\":{\"value\":0}},\"id\":\"34c2a6eb-8a67-483c-bd0f-22fea85be6f0\",\"type\":\"Arrow\"},{\"attributes\":{\"fill_alpha\":{\"value\":0.2},\"line_alpha\":{\"value\":0.2},\"plot\":null,\"size\":10},\"id\":\"ba6a92ba-ede8-479e-89ef-33331732660e\",\"type\":\"NormalHead\"},{\"attributes\":{\"end\":{\"id\":\"9355de75-44de-4749-8d54-27f126c3502a\",\"type\":\"NormalHead\"},\"line_alpha\":{\"value\":0.2},\"line_width\":{\"value\":3},\"plot\":{\"id\":\"be9facaa-aa39-4dee-95fc-ad21874b513c\",\"subtype\":\"Figure\",\"type\":\"Plot\"},\"source\":null,\"start\":null,\"x_end\":{\"value\":-0.5829595161580183},\"x_start\":{\"value\":0},\"y_end\":{\"value\":-2.471311134985077},\"y_start\":{\"value\":0}},\"id\":\"e5813fa3-38cb-462c-8cc5-01f5e46980bd\",\"type\":\"Arrow\"},{\"attributes\":{\"fill_alpha\":{\"value\":0.2},\"line_alpha\":{\"value\":0.2},\"plot\":null,\"size\":10},\"id\":\"86c182bb-43a0-473b-bd9c-cce1c9bbf64a\",\"type\":\"NormalHead\"},{\"attributes\":{\"end\":{\"id\":\"ba6a92ba-ede8-479e-89ef-33331732660e\",\"type\":\"NormalHead\"},\"line_alpha\":{\"value\":0.2},\"line_width\":{\"value\":3},\"plot\":{\"id\":\"be9facaa-aa39-4dee-95fc-ad21874b513c\",\"subtype\":\"Figure\",\"type\":\"Plot\"},\"source\":null,\"start\":null,\"x_end\":{\"value\":2.5074396162116708},\"x_start\":{\"value\":0},\"y_end\":{\"value\":-3.492319929823875},\"y_start\":{\"value\":0}},\"id\":\"19ef8a3c-f05d-474e-970e-d1cf58c20d5a\",\"type\":\"Arrow\"},{\"attributes\":{\"fill_alpha\":{\"value\":0.2},\"line_alpha\":{\"value\":0.2},\"plot\":null,\"size\":10},\"id\":\"e0fb83ae-ca7f-4afb-8f5d-f98b8d2d6a5d\",\"type\":\"NormalHead\"},{\"attributes\":{\"end\":{\"id\":\"86c182bb-43a0-473b-bd9c-cce1c9bbf64a\",\"type\":\"NormalHead\"},\"line_alpha\":{\"value\":0.2},\"line_width\":{\"value\":3},\"plot\":{\"id\":\"be9facaa-aa39-4dee-95fc-ad21874b513c\",\"subtype\":\"Figure\",\"type\":\"Plot\"},\"source\":null,\"start\":null,\"x_end\":{\"value\":-0.4829340830774367},\"x_start\":{\"value\":0},\"y_end\":{\"value\":1.0399780542945916},\"y_start\":{\"value\":0}},\"id\":\"ac476b6f-e0cb-4758-a389-b6e3dbba29ad\",\"type\":\"Arrow\"},{\"attributes\":{\"fill_alpha\":{\"value\":0.2},\"line_alpha\":{\"value\":0.2},\"plot\":null,\"size\":10},\"id\":\"37f600bf-dc3c-4672-aacd-19d9a1a2a574\",\"type\":\"NormalHead\"},{\"attributes\":{\"end\":{\"id\":\"e0fb83ae-ca7f-4afb-8f5d-f98b8d2d6a5d\",\"type\":\"NormalHead\"},\"line_alpha\":{\"value\":0.2},\"line_width\":{\"value\":3},\"plot\":{\"id\":\"be9facaa-aa39-4dee-95fc-ad21874b513c\",\"subtype\":\"Figure\",\"type\":\"Plot\"},\"source\":null,\"start\":null,\"x_end\":{\"value\":-2.885721657971436},\"x_start\":{\"value\":0},\"y_end\":{\"value\":-3.4757899961270144},\"y_start\":{\"value\":0}},\"id\":\"6d019d20-c3f5-44c8-b027-2f47d6a8019b\",\"type\":\"Arrow\"},{\"attributes\":{\"fill_alpha\":{\"value\":0.2},\"line_alpha\":{\"value\":0.2},\"plot\":null,\"size\":10},\"id\":\"caf3aab9-a629-43c3-b623-cf4073191f58\",\"type\":\"NormalHead\"},{\"attributes\":{\"end\":{\"id\":\"37f600bf-dc3c-4672-aacd-19d9a1a2a574\",\"type\":\"NormalHead\"},\"line_alpha\":{\"value\":0.2},\"line_width\":{\"value\":3},\"plot\":{\"id\":\"be9facaa-aa39-4dee-95fc-ad21874b513c\",\"subtype\":\"Figure\",\"type\":\"Plot\"},\"source\":null,\"start\":null,\"x_end\":{\"value\":-0.40828677490709264},\"x_start\":{\"value\":0},\"y_end\":{\"value\":-0.07074621753956212},\"y_start\":{\"value\":0}},\"id\":\"f0d7b2a2-daa4-45f8-bb80-f31484e68d95\",\"type\":\"Arrow\"},{\"attributes\":{\"fill_alpha\":{\"value\":0.2},\"line_alpha\":{\"value\":0.2},\"plot\":null,\"size\":10},\"id\":\"8eeb9cd3-5104-445c-b8a4-9604c3c1b2ba\",\"type\":\"NormalHead\"},{\"attributes\":{\"end\":{\"id\":\"caf3aab9-a629-43c3-b623-cf4073191f58\",\"type\":\"NormalHead\"},\"line_alpha\":{\"value\":0.2},\"line_width\":{\"value\":3},\"plot\":{\"id\":\"be9facaa-aa39-4dee-95fc-ad21874b513c\",\"subtype\":\"Figure\",\"type\":\"Plot\"},\"source\":null,\"start\":null,\"x_end\":{\"value\":-4.0378211683345775},\"x_start\":{\"value\":0},\"y_end\":{\"value\":3.069623043437401},\"y_start\":{\"value\":0}},\"id\":\"1b2d4958-9534-4112-bc3a-164b4eb3a9ca\",\"type\":\"Arrow\"},{\"attributes\":{\"fill_alpha\":{\"value\":0.2},\"line_alpha\":{\"value\":0.2},\"plot\":null,\"size\":10},\"id\":\"0d2d2d86-c9eb-4b84-a822-0013e4cb2a4f\",\"type\":\"NormalHead\"},{\"attributes\":{\"end\":{\"id\":\"8eeb9cd3-5104-445c-b8a4-9604c3c1b2ba\",\"type\":\"NormalHead\"},\"line_alpha\":{\"value\":0.2},\"line_width\":{\"value\":3},\"plot\":{\"id\":\"be9facaa-aa39-4dee-95fc-ad21874b513c\",\"subtype\":\"Figure\",\"type\":\"Plot\"},\"source\":null,\"start\":null,\"x_end\":{\"value\":4.230635867902523},\"x_start\":{\"value\":0},\"y_end\":{\"value\":-3.1468094040328296},\"y_start\":{\"value\":0}},\"id\":\"76b0500a-0d79-4dc5-b37b-4d28901ac327\",\"type\":\"Arrow\"},{\"attributes\":{\"fill_alpha\":{\"value\":0.2},\"line_alpha\":{\"value\":0.2},\"plot\":null,\"size\":10},\"id\":\"89753d6c-77ca-40c5-bf37-29c58a764080\",\"type\":\"NormalHead\"},{\"attributes\":{\"end\":{\"id\":\"0d2d2d86-c9eb-4b84-a822-0013e4cb2a4f\",\"type\":\"NormalHead\"},\"line_alpha\":{\"value\":0.2},\"line_width\":{\"value\":3},\"plot\":{\"id\":\"be9facaa-aa39-4dee-95fc-ad21874b513c\",\"subtype\":\"Figure\",\"type\":\"Plot\"},\"source\":null,\"start\":null,\"x_end\":{\"value\":-2.401006357609703},\"x_start\":{\"value\":0},\"y_end\":{\"value\":-0.03933982958393045},\"y_start\":{\"value\":0}},\"id\":\"531ba310-4d78-4394-b373-8b51ab4d1075\",\"type\":\"Arrow\"},{\"attributes\":{\"fill_alpha\":{\"value\":0.2},\"line_alpha\":{\"value\":0.2},\"plot\":null,\"size\":10},\"id\":\"db955554-cf2d-4d70-9b5a-bf5f20bbf42c\",\"type\":\"NormalHead\"},{\"attributes\":{\"end\":{\"id\":\"89753d6c-77ca-40c5-bf37-29c58a764080\",\"type\":\"NormalHead\"},\"line_alpha\":{\"value\":0.2},\"line_width\":{\"value\":3},\"plot\":{\"id\":\"be9facaa-aa39-4dee-95fc-ad21874b513c\",\"subtype\":\"Figure\",\"type\":\"Plot\"},\"source\":null,\"start\":null,\"x_end\":{\"value\":3.3134187841186815},\"x_start\":{\"value\":0},\"y_end\":{\"value\":2.2593321329513962},\"y_start\":{\"value\":0}},\"id\":\"c9edc3f1-c11d-4b6c-a063-cef98bf6be25\",\"type\":\"Arrow\"},{\"attributes\":{\"fill_alpha\":{\"value\":0.2},\"line_alpha\":{\"value\":0.2},\"plot\":null,\"size\":10},\"id\":\"c2d1b0f0-2e3c-4f06-be65-6cc435724fb5\",\"type\":\"NormalHead\"},{\"attributes\":{\"end\":{\"id\":\"db955554-cf2d-4d70-9b5a-bf5f20bbf42c\",\"type\":\"NormalHead\"},\"line_alpha\":{\"value\":0.2},\"line_width\":{\"value\":3},\"plot\":{\"id\":\"be9facaa-aa39-4dee-95fc-ad21874b513c\",\"subtype\":\"Figure\",\"type\":\"Plot\"},\"source\":null,\"start\":null,\"x_end\":{\"value\":4.333741952440068},\"x_start\":{\"value\":0},\"y_end\":{\"value\":-3.276463893824162},\"y_start\":{\"value\":0}},\"id\":\"d73832ec-65b8-4067-a495-a0d2472d3d02\",\"type\":\"Arrow\"},{\"attributes\":{\"fill_alpha\":{\"value\":0.2},\"line_alpha\":{\"value\":0.2},\"plot\":null,\"size\":10},\"id\":\"4f96c2f5-cc7a-452b-96ec-f6e4dcee17df\",\"type\":\"NormalHead\"},{\"attributes\":{\"end\":{\"id\":\"c2d1b0f0-2e3c-4f06-be65-6cc435724fb5\",\"type\":\"NormalHead\"},\"line_alpha\":{\"value\":0.2},\"line_width\":{\"value\":3},\"plot\":{\"id\":\"be9facaa-aa39-4dee-95fc-ad21874b513c\",\"subtype\":\"Figure\",\"type\":\"Plot\"},\"source\":null,\"start\":null,\"x_end\":{\"value\":-0.40971082570591477},\"x_start\":{\"value\":0},\"y_end\":{\"value\":-2.961893526560674},\"y_start\":{\"value\":0}},\"id\":\"b7242450-5e81-49f4-bcdb-257798875b2d\",\"type\":\"Arrow\"},{\"attributes\":{\"fill_alpha\":{\"value\":0.2},\"line_alpha\":{\"value\":0.2},\"plot\":null,\"size\":10},\"id\":\"de3150e4-97a8-448c-ada6-041e2e45ed9d\",\"type\":\"NormalHead\"},{\"attributes\":{\"end\":{\"id\":\"4f96c2f5-cc7a-452b-96ec-f6e4dcee17df\",\"type\":\"NormalHead\"},\"line_alpha\":{\"value\":0.2},\"line_width\":{\"value\":3},\"plot\":{\"id\":\"be9facaa-aa39-4dee-95fc-ad21874b513c\",\"subtype\":\"Figure\",\"type\":\"Plot\"},\"source\":null,\"start\":null,\"x_end\":{\"value\":-2.195999783032716},\"x_start\":{\"value\":0},\"y_end\":{\"value\":0.4834804030556503},\"y_start\":{\"value\":0}},\"id\":\"1472a149-ddad-4348-aea1-9fb134f80f3b\",\"type\":\"Arrow\"},{\"attributes\":{\"fill_alpha\":{\"value\":0.2},\"line_alpha\":{\"value\":0.2},\"plot\":null,\"size\":10},\"id\":\"55da4218-6c7d-4369-a630-f1f44eff670c\",\"type\":\"NormalHead\"},{\"attributes\":{\"end\":{\"id\":\"de3150e4-97a8-448c-ada6-041e2e45ed9d\",\"type\":\"NormalHead\"},\"line_alpha\":{\"value\":0.2},\"line_width\":{\"value\":3},\"plot\":{\"id\":\"be9facaa-aa39-4dee-95fc-ad21874b513c\",\"subtype\":\"Figure\",\"type\":\"Plot\"},\"source\":null,\"start\":null,\"x_end\":{\"value\":-0.9303628086614264},\"x_start\":{\"value\":0},\"y_end\":{\"value\":4.260999868949231},\"y_start\":{\"value\":0}},\"id\":\"285d06c8-5eb1-4e5d-b1c3-62e39ee18553\",\"type\":\"Arrow\"},{\"attributes\":{\"end\":{\"id\":\"55da4218-6c7d-4369-a630-f1f44eff670c\",\"type\":\"NormalHead\"},\"line_alpha\":{\"value\":0.2},\"line_width\":{\"value\":3},\"plot\":{\"id\":\"be9facaa-aa39-4dee-95fc-ad21874b513c\",\"subtype\":\"Figure\",\"type\":\"Plot\"},\"source\":null,\"start\":null,\"x_end\":{\"value\":0.10001155933382044},\"x_start\":{\"value\":0},\"y_end\":{\"value\":-1.8747192119451839},\"y_start\":{\"value\":0}},\"id\":\"f714d49b-ebf9-4a2c-98e4-f5f7208430ee\",\"type\":\"Arrow\"}],\"root_ids\":[\"be9facaa-aa39-4dee-95fc-ad21874b513c\"]},\"title\":\"Bokeh Application\",\"version\":\"0.13.0\"}};\n",
       "  var render_items = [{\"docid\":\"dd62d601-388c-43eb-96c5-58acfb21d50d\",\"roots\":{\"be9facaa-aa39-4dee-95fc-ad21874b513c\":\"60ac7e44-59dc-4629-9159-5fcd14721f74\"}}];\n",
       "  root.Bokeh.embed.embed_items_notebook(docs_json, render_items);\n",
       "\n",
       "  }\n",
       "  if (root.Bokeh !== undefined) {\n",
       "    embed_document(root);\n",
       "  } else {\n",
       "    var attempts = 0;\n",
       "    var timer = setInterval(function(root) {\n",
       "      if (root.Bokeh !== undefined) {\n",
       "        embed_document(root);\n",
       "        clearInterval(timer);\n",
       "      }\n",
       "      attempts++;\n",
       "      if (attempts > 100) {\n",
       "        console.log(\"Bokeh: ERROR: Unable to run BokehJS code because BokehJS library is missing\")\n",
       "        clearInterval(timer);\n",
       "      }\n",
       "    }, 10, root)\n",
       "  }\n",
       "})(window);"
      ],
      "application/vnd.bokehjs_exec.v0+json": ""
     },
     "metadata": {
      "application/vnd.bokehjs_exec.v0+json": {
       "id": "be9facaa-aa39-4dee-95fc-ad21874b513c"
      }
     },
     "output_type": "display_data"
    }
   ],
   "source": [
    "plot.show()"
   ]
  },
  {
   "cell_type": "markdown",
   "metadata": {},
   "source": [
    "As the figure above loosely demonstrates, a set of vectors **spans** a vector space if every vector in that vector space can be written as a linear combination of vectors from that set. A set of linearly independent vectors that span a vector space define a **basis** for that vector space. \n",
    "\n",
    "The reason why linear independence is so important is that we are interested in the minimum number of spanning vectors among a set of vectors, which tells us the dimension of that vector space. The **dimension** of a vector space is equal to the number of vectors in its basis."
   ]
  }
 ],
 "metadata": {
  "kernelspec": {
   "display_name": "Python 3",
   "language": "python",
   "name": "python3"
  },
  "language_info": {
   "codemirror_mode": {
    "name": "ipython",
    "version": 3
   },
   "file_extension": ".py",
   "mimetype": "text/x-python",
   "name": "python",
   "nbconvert_exporter": "python",
   "pygments_lexer": "ipython3",
   "version": "3.7.0"
  }
 },
 "nbformat": 4,
 "nbformat_minor": 2
}

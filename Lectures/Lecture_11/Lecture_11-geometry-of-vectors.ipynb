{
 "cells": [
  {
   "cell_type": "markdown",
   "metadata": {},
   "source": [
    "<h1><center> PPOLS564: Foundations of Data Science </center><h1>\n",
    "<h3><center> Lecture 11 <br><br><font color='grey'> Trigonometry of Vectors </font></center></h3>"
   ]
  },
  {
   "cell_type": "markdown",
   "metadata": {},
   "source": [
    "# Concepts For today:\n",
    "\n",
    "- Vector Dot Product\n",
    "- Orthogonality\n",
    "- Projection\n",
    "- Normalizing vectors\n",
    "- Example: Comparing the text documents\n",
    "\n",
    "## Note\n",
    "In the following lectures, we'll delve into exploring linear algebra. Note that I'll be using some code to help generate some interactive visualizes for some concepts. To use this code yourself, two things must be true: (1) the `bokeh` module must be installed, and (2) the `visualize.py` script must be in the same file director as this notebook and the jupyter notebook must be activated from that location.\n",
    "\n",
    "Finally, note that these lecture slides are intended to be supplementary to the lectures and readings."
   ]
  },
  {
   "cell_type": "code",
   "execution_count": 1,
   "metadata": {},
   "outputs": [
    {
     "data": {
      "text/html": [
       "\n",
       "    <div class=\"bk-root\">\n",
       "        <a href=\"https://bokeh.pydata.org\" target=\"_blank\" class=\"bk-logo bk-logo-small bk-logo-notebook\"></a>\n",
       "        <span id=\"59d85589-ea1b-407c-82ee-e3e8ddbbfe67\">Loading BokehJS ...</span>\n",
       "    </div>"
      ]
     },
     "metadata": {},
     "output_type": "display_data"
    },
    {
     "data": {
      "application/javascript": [
       "\n",
       "(function(root) {\n",
       "  function now() {\n",
       "    return new Date();\n",
       "  }\n",
       "\n",
       "  var force = true;\n",
       "\n",
       "  if (typeof (root._bokeh_onload_callbacks) === \"undefined\" || force === true) {\n",
       "    root._bokeh_onload_callbacks = [];\n",
       "    root._bokeh_is_loading = undefined;\n",
       "  }\n",
       "\n",
       "  var JS_MIME_TYPE = 'application/javascript';\n",
       "  var HTML_MIME_TYPE = 'text/html';\n",
       "  var EXEC_MIME_TYPE = 'application/vnd.bokehjs_exec.v0+json';\n",
       "  var CLASS_NAME = 'output_bokeh rendered_html';\n",
       "\n",
       "  /**\n",
       "   * Render data to the DOM node\n",
       "   */\n",
       "  function render(props, node) {\n",
       "    var script = document.createElement(\"script\");\n",
       "    node.appendChild(script);\n",
       "  }\n",
       "\n",
       "  /**\n",
       "   * Handle when an output is cleared or removed\n",
       "   */\n",
       "  function handleClearOutput(event, handle) {\n",
       "    var cell = handle.cell;\n",
       "\n",
       "    var id = cell.output_area._bokeh_element_id;\n",
       "    var server_id = cell.output_area._bokeh_server_id;\n",
       "    // Clean up Bokeh references\n",
       "    if (id != null && id in Bokeh.index) {\n",
       "      Bokeh.index[id].model.document.clear();\n",
       "      delete Bokeh.index[id];\n",
       "    }\n",
       "\n",
       "    if (server_id !== undefined) {\n",
       "      // Clean up Bokeh references\n",
       "      var cmd = \"from bokeh.io.state import curstate; print(curstate().uuid_to_server['\" + server_id + \"'].get_sessions()[0].document.roots[0]._id)\";\n",
       "      cell.notebook.kernel.execute(cmd, {\n",
       "        iopub: {\n",
       "          output: function(msg) {\n",
       "            var id = msg.content.text.trim();\n",
       "            if (id in Bokeh.index) {\n",
       "              Bokeh.index[id].model.document.clear();\n",
       "              delete Bokeh.index[id];\n",
       "            }\n",
       "          }\n",
       "        }\n",
       "      });\n",
       "      // Destroy server and session\n",
       "      var cmd = \"import bokeh.io.notebook as ion; ion.destroy_server('\" + server_id + \"')\";\n",
       "      cell.notebook.kernel.execute(cmd);\n",
       "    }\n",
       "  }\n",
       "\n",
       "  /**\n",
       "   * Handle when a new output is added\n",
       "   */\n",
       "  function handleAddOutput(event, handle) {\n",
       "    var output_area = handle.output_area;\n",
       "    var output = handle.output;\n",
       "\n",
       "    // limit handleAddOutput to display_data with EXEC_MIME_TYPE content only\n",
       "    if ((output.output_type != \"display_data\") || (!output.data.hasOwnProperty(EXEC_MIME_TYPE))) {\n",
       "      return\n",
       "    }\n",
       "\n",
       "    var toinsert = output_area.element.find(\".\" + CLASS_NAME.split(' ')[0]);\n",
       "\n",
       "    if (output.metadata[EXEC_MIME_TYPE][\"id\"] !== undefined) {\n",
       "      toinsert[toinsert.length - 1].firstChild.textContent = output.data[JS_MIME_TYPE];\n",
       "      // store reference to embed id on output_area\n",
       "      output_area._bokeh_element_id = output.metadata[EXEC_MIME_TYPE][\"id\"];\n",
       "    }\n",
       "    if (output.metadata[EXEC_MIME_TYPE][\"server_id\"] !== undefined) {\n",
       "      var bk_div = document.createElement(\"div\");\n",
       "      bk_div.innerHTML = output.data[HTML_MIME_TYPE];\n",
       "      var script_attrs = bk_div.children[0].attributes;\n",
       "      for (var i = 0; i < script_attrs.length; i++) {\n",
       "        toinsert[toinsert.length - 1].firstChild.setAttribute(script_attrs[i].name, script_attrs[i].value);\n",
       "      }\n",
       "      // store reference to server id on output_area\n",
       "      output_area._bokeh_server_id = output.metadata[EXEC_MIME_TYPE][\"server_id\"];\n",
       "    }\n",
       "  }\n",
       "\n",
       "  function register_renderer(events, OutputArea) {\n",
       "\n",
       "    function append_mime(data, metadata, element) {\n",
       "      // create a DOM node to render to\n",
       "      var toinsert = this.create_output_subarea(\n",
       "        metadata,\n",
       "        CLASS_NAME,\n",
       "        EXEC_MIME_TYPE\n",
       "      );\n",
       "      this.keyboard_manager.register_events(toinsert);\n",
       "      // Render to node\n",
       "      var props = {data: data, metadata: metadata[EXEC_MIME_TYPE]};\n",
       "      render(props, toinsert[toinsert.length - 1]);\n",
       "      element.append(toinsert);\n",
       "      return toinsert\n",
       "    }\n",
       "\n",
       "    /* Handle when an output is cleared or removed */\n",
       "    events.on('clear_output.CodeCell', handleClearOutput);\n",
       "    events.on('delete.Cell', handleClearOutput);\n",
       "\n",
       "    /* Handle when a new output is added */\n",
       "    events.on('output_added.OutputArea', handleAddOutput);\n",
       "\n",
       "    /**\n",
       "     * Register the mime type and append_mime function with output_area\n",
       "     */\n",
       "    OutputArea.prototype.register_mime_type(EXEC_MIME_TYPE, append_mime, {\n",
       "      /* Is output safe? */\n",
       "      safe: true,\n",
       "      /* Index of renderer in `output_area.display_order` */\n",
       "      index: 0\n",
       "    });\n",
       "  }\n",
       "\n",
       "  // register the mime type if in Jupyter Notebook environment and previously unregistered\n",
       "  if (root.Jupyter !== undefined) {\n",
       "    var events = require('base/js/events');\n",
       "    var OutputArea = require('notebook/js/outputarea').OutputArea;\n",
       "\n",
       "    if (OutputArea.prototype.mime_types().indexOf(EXEC_MIME_TYPE) == -1) {\n",
       "      register_renderer(events, OutputArea);\n",
       "    }\n",
       "  }\n",
       "\n",
       "  \n",
       "  if (typeof (root._bokeh_timeout) === \"undefined\" || force === true) {\n",
       "    root._bokeh_timeout = Date.now() + 5000;\n",
       "    root._bokeh_failed_load = false;\n",
       "  }\n",
       "\n",
       "  var NB_LOAD_WARNING = {'data': {'text/html':\n",
       "     \"<div style='background-color: #fdd'>\\n\"+\n",
       "     \"<p>\\n\"+\n",
       "     \"BokehJS does not appear to have successfully loaded. If loading BokehJS from CDN, this \\n\"+\n",
       "     \"may be due to a slow or bad network connection. Possible fixes:\\n\"+\n",
       "     \"</p>\\n\"+\n",
       "     \"<ul>\\n\"+\n",
       "     \"<li>re-rerun `output_notebook()` to attempt to load from CDN again, or</li>\\n\"+\n",
       "     \"<li>use INLINE resources instead, as so:</li>\\n\"+\n",
       "     \"</ul>\\n\"+\n",
       "     \"<code>\\n\"+\n",
       "     \"from bokeh.resources import INLINE\\n\"+\n",
       "     \"output_notebook(resources=INLINE)\\n\"+\n",
       "     \"</code>\\n\"+\n",
       "     \"</div>\"}};\n",
       "\n",
       "  function display_loaded() {\n",
       "    var el = document.getElementById(\"59d85589-ea1b-407c-82ee-e3e8ddbbfe67\");\n",
       "    if (el != null) {\n",
       "      el.textContent = \"BokehJS is loading...\";\n",
       "    }\n",
       "    if (root.Bokeh !== undefined) {\n",
       "      if (el != null) {\n",
       "        el.textContent = \"BokehJS \" + root.Bokeh.version + \" successfully loaded.\";\n",
       "      }\n",
       "    } else if (Date.now() < root._bokeh_timeout) {\n",
       "      setTimeout(display_loaded, 100)\n",
       "    }\n",
       "  }\n",
       "\n",
       "\n",
       "  function run_callbacks() {\n",
       "    try {\n",
       "      root._bokeh_onload_callbacks.forEach(function(callback) { callback() });\n",
       "    }\n",
       "    finally {\n",
       "      delete root._bokeh_onload_callbacks\n",
       "    }\n",
       "    console.info(\"Bokeh: all callbacks have finished\");\n",
       "  }\n",
       "\n",
       "  function load_libs(js_urls, callback) {\n",
       "    root._bokeh_onload_callbacks.push(callback);\n",
       "    if (root._bokeh_is_loading > 0) {\n",
       "      console.log(\"Bokeh: BokehJS is being loaded, scheduling callback at\", now());\n",
       "      return null;\n",
       "    }\n",
       "    if (js_urls == null || js_urls.length === 0) {\n",
       "      run_callbacks();\n",
       "      return null;\n",
       "    }\n",
       "    console.log(\"Bokeh: BokehJS not loaded, scheduling load and callback at\", now());\n",
       "    root._bokeh_is_loading = js_urls.length;\n",
       "    for (var i = 0; i < js_urls.length; i++) {\n",
       "      var url = js_urls[i];\n",
       "      var s = document.createElement('script');\n",
       "      s.src = url;\n",
       "      s.async = false;\n",
       "      s.onreadystatechange = s.onload = function() {\n",
       "        root._bokeh_is_loading--;\n",
       "        if (root._bokeh_is_loading === 0) {\n",
       "          console.log(\"Bokeh: all BokehJS libraries loaded\");\n",
       "          run_callbacks()\n",
       "        }\n",
       "      };\n",
       "      s.onerror = function() {\n",
       "        console.warn(\"failed to load library \" + url);\n",
       "      };\n",
       "      console.log(\"Bokeh: injecting script tag for BokehJS library: \", url);\n",
       "      document.getElementsByTagName(\"head\")[0].appendChild(s);\n",
       "    }\n",
       "  };var element = document.getElementById(\"59d85589-ea1b-407c-82ee-e3e8ddbbfe67\");\n",
       "  if (element == null) {\n",
       "    console.log(\"Bokeh: ERROR: autoload.js configured with elementid '59d85589-ea1b-407c-82ee-e3e8ddbbfe67' but no matching script tag was found. \")\n",
       "    return false;\n",
       "  }\n",
       "\n",
       "  var js_urls = [\"https://cdn.pydata.org/bokeh/release/bokeh-0.13.0.min.js\", \"https://cdn.pydata.org/bokeh/release/bokeh-widgets-0.13.0.min.js\", \"https://cdn.pydata.org/bokeh/release/bokeh-tables-0.13.0.min.js\", \"https://cdn.pydata.org/bokeh/release/bokeh-gl-0.13.0.min.js\"];\n",
       "\n",
       "  var inline_js = [\n",
       "    function(Bokeh) {\n",
       "      Bokeh.set_log_level(\"info\");\n",
       "    },\n",
       "    \n",
       "    function(Bokeh) {\n",
       "      \n",
       "    },\n",
       "    function(Bokeh) {\n",
       "      console.log(\"Bokeh: injecting CSS: https://cdn.pydata.org/bokeh/release/bokeh-0.13.0.min.css\");\n",
       "      Bokeh.embed.inject_css(\"https://cdn.pydata.org/bokeh/release/bokeh-0.13.0.min.css\");\n",
       "      console.log(\"Bokeh: injecting CSS: https://cdn.pydata.org/bokeh/release/bokeh-widgets-0.13.0.min.css\");\n",
       "      Bokeh.embed.inject_css(\"https://cdn.pydata.org/bokeh/release/bokeh-widgets-0.13.0.min.css\");\n",
       "      console.log(\"Bokeh: injecting CSS: https://cdn.pydata.org/bokeh/release/bokeh-tables-0.13.0.min.css\");\n",
       "      Bokeh.embed.inject_css(\"https://cdn.pydata.org/bokeh/release/bokeh-tables-0.13.0.min.css\");\n",
       "    }\n",
       "  ];\n",
       "\n",
       "  function run_inline_js() {\n",
       "    \n",
       "    if ((root.Bokeh !== undefined) || (force === true)) {\n",
       "      for (var i = 0; i < inline_js.length; i++) {\n",
       "        inline_js[i].call(root, root.Bokeh);\n",
       "      }if (force === true) {\n",
       "        display_loaded();\n",
       "      }} else if (Date.now() < root._bokeh_timeout) {\n",
       "      setTimeout(run_inline_js, 100);\n",
       "    } else if (!root._bokeh_failed_load) {\n",
       "      console.log(\"Bokeh: BokehJS failed to load within specified timeout.\");\n",
       "      root._bokeh_failed_load = true;\n",
       "    } else if (force !== true) {\n",
       "      var cell = $(document.getElementById(\"59d85589-ea1b-407c-82ee-e3e8ddbbfe67\")).parents('.cell').data().cell;\n",
       "      cell.output_area.append_execute_result(NB_LOAD_WARNING)\n",
       "    }\n",
       "\n",
       "  }\n",
       "\n",
       "  if (root._bokeh_is_loading === 0) {\n",
       "    console.log(\"Bokeh: BokehJS loaded, going straight to plotting\");\n",
       "    run_inline_js();\n",
       "  } else {\n",
       "    load_libs(js_urls, function() {\n",
       "      console.log(\"Bokeh: BokehJS plotting callback run at\", now());\n",
       "      run_inline_js();\n",
       "    });\n",
       "  }\n",
       "}(window));"
      ],
      "application/vnd.bokehjs_load.v0+json": "\n(function(root) {\n  function now() {\n    return new Date();\n  }\n\n  var force = true;\n\n  if (typeof (root._bokeh_onload_callbacks) === \"undefined\" || force === true) {\n    root._bokeh_onload_callbacks = [];\n    root._bokeh_is_loading = undefined;\n  }\n\n  \n\n  \n  if (typeof (root._bokeh_timeout) === \"undefined\" || force === true) {\n    root._bokeh_timeout = Date.now() + 5000;\n    root._bokeh_failed_load = false;\n  }\n\n  var NB_LOAD_WARNING = {'data': {'text/html':\n     \"<div style='background-color: #fdd'>\\n\"+\n     \"<p>\\n\"+\n     \"BokehJS does not appear to have successfully loaded. If loading BokehJS from CDN, this \\n\"+\n     \"may be due to a slow or bad network connection. Possible fixes:\\n\"+\n     \"</p>\\n\"+\n     \"<ul>\\n\"+\n     \"<li>re-rerun `output_notebook()` to attempt to load from CDN again, or</li>\\n\"+\n     \"<li>use INLINE resources instead, as so:</li>\\n\"+\n     \"</ul>\\n\"+\n     \"<code>\\n\"+\n     \"from bokeh.resources import INLINE\\n\"+\n     \"output_notebook(resources=INLINE)\\n\"+\n     \"</code>\\n\"+\n     \"</div>\"}};\n\n  function display_loaded() {\n    var el = document.getElementById(\"59d85589-ea1b-407c-82ee-e3e8ddbbfe67\");\n    if (el != null) {\n      el.textContent = \"BokehJS is loading...\";\n    }\n    if (root.Bokeh !== undefined) {\n      if (el != null) {\n        el.textContent = \"BokehJS \" + root.Bokeh.version + \" successfully loaded.\";\n      }\n    } else if (Date.now() < root._bokeh_timeout) {\n      setTimeout(display_loaded, 100)\n    }\n  }\n\n\n  function run_callbacks() {\n    try {\n      root._bokeh_onload_callbacks.forEach(function(callback) { callback() });\n    }\n    finally {\n      delete root._bokeh_onload_callbacks\n    }\n    console.info(\"Bokeh: all callbacks have finished\");\n  }\n\n  function load_libs(js_urls, callback) {\n    root._bokeh_onload_callbacks.push(callback);\n    if (root._bokeh_is_loading > 0) {\n      console.log(\"Bokeh: BokehJS is being loaded, scheduling callback at\", now());\n      return null;\n    }\n    if (js_urls == null || js_urls.length === 0) {\n      run_callbacks();\n      return null;\n    }\n    console.log(\"Bokeh: BokehJS not loaded, scheduling load and callback at\", now());\n    root._bokeh_is_loading = js_urls.length;\n    for (var i = 0; i < js_urls.length; i++) {\n      var url = js_urls[i];\n      var s = document.createElement('script');\n      s.src = url;\n      s.async = false;\n      s.onreadystatechange = s.onload = function() {\n        root._bokeh_is_loading--;\n        if (root._bokeh_is_loading === 0) {\n          console.log(\"Bokeh: all BokehJS libraries loaded\");\n          run_callbacks()\n        }\n      };\n      s.onerror = function() {\n        console.warn(\"failed to load library \" + url);\n      };\n      console.log(\"Bokeh: injecting script tag for BokehJS library: \", url);\n      document.getElementsByTagName(\"head\")[0].appendChild(s);\n    }\n  };var element = document.getElementById(\"59d85589-ea1b-407c-82ee-e3e8ddbbfe67\");\n  if (element == null) {\n    console.log(\"Bokeh: ERROR: autoload.js configured with elementid '59d85589-ea1b-407c-82ee-e3e8ddbbfe67' but no matching script tag was found. \")\n    return false;\n  }\n\n  var js_urls = [\"https://cdn.pydata.org/bokeh/release/bokeh-0.13.0.min.js\", \"https://cdn.pydata.org/bokeh/release/bokeh-widgets-0.13.0.min.js\", \"https://cdn.pydata.org/bokeh/release/bokeh-tables-0.13.0.min.js\", \"https://cdn.pydata.org/bokeh/release/bokeh-gl-0.13.0.min.js\"];\n\n  var inline_js = [\n    function(Bokeh) {\n      Bokeh.set_log_level(\"info\");\n    },\n    \n    function(Bokeh) {\n      \n    },\n    function(Bokeh) {\n      console.log(\"Bokeh: injecting CSS: https://cdn.pydata.org/bokeh/release/bokeh-0.13.0.min.css\");\n      Bokeh.embed.inject_css(\"https://cdn.pydata.org/bokeh/release/bokeh-0.13.0.min.css\");\n      console.log(\"Bokeh: injecting CSS: https://cdn.pydata.org/bokeh/release/bokeh-widgets-0.13.0.min.css\");\n      Bokeh.embed.inject_css(\"https://cdn.pydata.org/bokeh/release/bokeh-widgets-0.13.0.min.css\");\n      console.log(\"Bokeh: injecting CSS: https://cdn.pydata.org/bokeh/release/bokeh-tables-0.13.0.min.css\");\n      Bokeh.embed.inject_css(\"https://cdn.pydata.org/bokeh/release/bokeh-tables-0.13.0.min.css\");\n    }\n  ];\n\n  function run_inline_js() {\n    \n    if ((root.Bokeh !== undefined) || (force === true)) {\n      for (var i = 0; i < inline_js.length; i++) {\n        inline_js[i].call(root, root.Bokeh);\n      }if (force === true) {\n        display_loaded();\n      }} else if (Date.now() < root._bokeh_timeout) {\n      setTimeout(run_inline_js, 100);\n    } else if (!root._bokeh_failed_load) {\n      console.log(\"Bokeh: BokehJS failed to load within specified timeout.\");\n      root._bokeh_failed_load = true;\n    } else if (force !== true) {\n      var cell = $(document.getElementById(\"59d85589-ea1b-407c-82ee-e3e8ddbbfe67\")).parents('.cell').data().cell;\n      cell.output_area.append_execute_result(NB_LOAD_WARNING)\n    }\n\n  }\n\n  if (root._bokeh_is_loading === 0) {\n    console.log(\"Bokeh: BokehJS loaded, going straight to plotting\");\n    run_inline_js();\n  } else {\n    load_libs(js_urls, function() {\n      console.log(\"Bokeh: BokehJS plotting callback run at\", now());\n      run_inline_js();\n    });\n  }\n}(window));"
     },
     "metadata": {},
     "output_type": "display_data"
    }
   ],
   "source": [
    "import numpy as np\n",
    "from visualize import LinearAlgebra as vla"
   ]
  },
  {
   "cell_type": "markdown",
   "metadata": {},
   "source": [
    "# Vector Multiplication (Vector Dot Product)"
   ]
  },
  {
   "cell_type": "markdown",
   "metadata": {},
   "source": [
    "Given $\\vec{a}, \\vec{b} \\in \\Re^n$\n",
    "\n",
    "\n",
    "\n",
    "$$ \\vec{a} \\cdot \\vec{b} $$\n",
    "\n",
    "$$ \\begin{bmatrix}  a_1 \\\\ a_2 \\\\  \\vdots \\\\ a_n  \\end{bmatrix} \\cdot \n",
    "\\begin{bmatrix}  b_1 \\\\ b_2 \\\\  \\vdots \\\\ b_n  \\end{bmatrix}$$\n",
    "\n",
    "$$ a_1 b_1 + a_2 b_2 + \\dots + a_n b_n $$\n",
    "\n",
    "$$ \\vec{a} \\cdot \\vec{b} = \\sum_{i=1}^n a_i b_i$$\n",
    "\n",
    "The dot product between two column vectors produces a scalar ($c$)."
   ]
  },
  {
   "cell_type": "code",
   "execution_count": 34,
   "metadata": {},
   "outputs": [
    {
     "name": "stdout",
     "output_type": "stream",
     "text": [
      "4\n",
      "4\n",
      "4\n"
     ]
    }
   ],
   "source": [
    "# Computationally \n",
    "a = np.array([1,2])\n",
    "b = np.array([2,1])\n",
    "\n",
    "# Two ways to take the dot product using numpy\n",
    "print(a.dot(b))\n",
    "\n",
    "# or \n",
    "\n",
    "print(np.dot(a,b))\n",
    "\n",
    "# or\n",
    "\n",
    "print(a @ b)"
   ]
  },
  {
   "cell_type": "markdown",
   "metadata": {},
   "source": [
    "## Properties \n",
    "\n",
    "|Property| Expression|\n",
    "|-------------|---------------|\n",
    "| **Communicative** | $\\vec{a} \\cdot \\vec{b} = \\vec{b} \\cdot \\vec{a} $|\n",
    "| **Distributive** | $ \\vec{v} \\cdot (\\vec{a} + \\vec{b}) = \\vec{v} \\cdot \\vec{a} + \\vec{v} \\cdot \\vec{b} $|\n",
    "| **Associative** | $ c(\\vec{a}) \\cdot \\vec{b} = c(\\vec{a} \\cdot \\vec{b}) $|"
   ]
  },
  {
   "cell_type": "markdown",
   "metadata": {},
   "source": [
    "# Magnitude (Length) of a Vector \n",
    "\n",
    "What is the length of $\\vec{c}$?"
   ]
  },
  {
   "cell_type": "code",
   "execution_count": 3,
   "metadata": {},
   "outputs": [
    {
     "data": {
      "text/html": [
       "\n",
       "\n",
       "\n",
       "\n",
       "\n",
       "\n",
       "  <div class=\"bk-root\" id=\"b9bb4e5e-3d3a-4d4c-a8ab-488c0a2ed0bf\"></div>\n"
      ]
     },
     "metadata": {},
     "output_type": "display_data"
    },
    {
     "data": {
      "application/javascript": [
       "(function(root) {\n",
       "  function embed_document(root) {\n",
       "    \n",
       "  var docs_json = {\"4d453fda-aba5-495e-b6ad-dfa64ab51db6\":{\"roots\":{\"references\":[{\"attributes\":{},\"id\":\"c9589b8b-c651-4846-9cbd-201289da965d\",\"type\":\"WheelZoomTool\"},{\"attributes\":{},\"id\":\"045d3786-4603-4845-9f4b-b9b502928f77\",\"type\":\"PanTool\"},{\"attributes\":{},\"id\":\"c275ac38-c702-402a-826d-c92e989efef5\",\"type\":\"ResetTool\"},{\"attributes\":{},\"id\":\"85c7504f-bac3-441a-9bfd-411e2bd49844\",\"type\":\"LinearScale\"},{\"attributes\":{\"line_alpha\":0.1,\"line_color\":\"#1f77b4\",\"line_width\":1.5,\"x\":{\"field\":\"x\"},\"y\":{\"field\":\"y\"}},\"id\":\"b34d03b1-a623-4ab0-9bad-d729fce75542\",\"type\":\"Line\"},{\"attributes\":{\"line_width\":1.5,\"x\":{\"field\":\"x\"},\"y\":{\"field\":\"y\"}},\"id\":\"293fe7de-a157-4634-9f85-cc2af9564d14\",\"type\":\"Line\"},{\"attributes\":{\"line_alpha\":0.1,\"line_color\":\"#1f77b4\",\"line_width\":1.5,\"x\":{\"field\":\"x\"},\"y\":{\"field\":\"y\"}},\"id\":\"fa923782-89b2-4e47-a9f5-adc12ee0bacc\",\"type\":\"Line\"},{\"attributes\":{\"data_source\":{\"id\":\"d314781d-4dc5-4a97-b59f-bfb04507063a\",\"type\":\"ColumnDataSource\"},\"glyph\":{\"id\":\"293fe7de-a157-4634-9f85-cc2af9564d14\",\"type\":\"Line\"},\"hover_glyph\":null,\"muted_glyph\":null,\"nonselection_glyph\":{\"id\":\"fa923782-89b2-4e47-a9f5-adc12ee0bacc\",\"type\":\"Line\"},\"selection_glyph\":null,\"view\":{\"id\":\"e54d2743-c68b-4756-8d0e-572d24d5fdba\",\"type\":\"CDSView\"}},\"id\":\"a8b99a99-fbd6-4501-8ae2-e2fb94bfb333\",\"type\":\"GlyphRenderer\"},{\"attributes\":{\"source\":{\"id\":\"d314781d-4dc5-4a97-b59f-bfb04507063a\",\"type\":\"ColumnDataSource\"}},\"id\":\"e54d2743-c68b-4756-8d0e-572d24d5fdba\",\"type\":\"CDSView\"},{\"attributes\":{\"end\":{\"id\":\"d139c778-71c2-40fd-bcc9-fb956fb0d191\",\"type\":\"NormalHead\"},\"line_color\":{\"value\":\"blue\"},\"line_width\":{\"value\":3},\"plot\":{\"id\":\"db980087-215a-40c0-be26-745e26a13f8f\",\"subtype\":\"Figure\",\"type\":\"Plot\"},\"source\":null,\"start\":null,\"x_end\":{\"value\":1},\"x_start\":{\"value\":0},\"y_end\":{\"value\":2},\"y_start\":{\"value\":0}},\"id\":\"ea833074-e5c5-4501-8958-e3bb6635ec66\",\"type\":\"Arrow\"},{\"attributes\":{\"fill_color\":{\"value\":\"blue\"},\"line_color\":{\"value\":\"blue\"},\"plot\":null,\"size\":10},\"id\":\"d139c778-71c2-40fd-bcc9-fb956fb0d191\",\"type\":\"NormalHead\"},{\"attributes\":{},\"id\":\"c220c01f-38ca-4338-89e4-3827889c6f0d\",\"type\":\"BasicTickFormatter\"},{\"attributes\":{\"active_drag\":\"auto\",\"active_inspect\":\"auto\",\"active_multi\":null,\"active_scroll\":\"auto\",\"active_tap\":\"auto\",\"tools\":[{\"id\":\"c9589b8b-c651-4846-9cbd-201289da965d\",\"type\":\"WheelZoomTool\"},{\"id\":\"045d3786-4603-4845-9f4b-b9b502928f77\",\"type\":\"PanTool\"},{\"id\":\"c275ac38-c702-402a-826d-c92e989efef5\",\"type\":\"ResetTool\"}]},\"id\":\"6829a205-7026-4846-b123-a5af998501a7\",\"type\":\"Toolbar\"},{\"attributes\":{},\"id\":\"921eed43-01d9-4839-b4f1-8bd8a03ef8c8\",\"type\":\"BasicTickFormatter\"},{\"attributes\":{\"below\":[{\"id\":\"30f7f336-350c-44dd-a39b-10dce25d2582\",\"type\":\"LinearAxis\"}],\"left\":[{\"id\":\"46860612-da74-4085-94d1-67c2eae5e26f\",\"type\":\"LinearAxis\"}],\"plot_height\":400,\"plot_width\":400,\"renderers\":[{\"id\":\"30f7f336-350c-44dd-a39b-10dce25d2582\",\"type\":\"LinearAxis\"},{\"id\":\"2b46aca2-dfd0-479c-ab4e-7a0b5150c2e1\",\"type\":\"Grid\"},{\"id\":\"46860612-da74-4085-94d1-67c2eae5e26f\",\"type\":\"LinearAxis\"},{\"id\":\"af67dda0-6d86-4d78-ab3d-7920c8a17869\",\"type\":\"Grid\"},{\"id\":\"159c0fd0-e80e-4e9b-9ea3-143df5322b6b\",\"type\":\"GlyphRenderer\"},{\"id\":\"a8b99a99-fbd6-4501-8ae2-e2fb94bfb333\",\"type\":\"GlyphRenderer\"},{\"id\":\"ea833074-e5c5-4501-8958-e3bb6635ec66\",\"type\":\"Arrow\"}],\"title\":{\"id\":\"18c8dcc1-0a52-4880-915b-c82740a648e6\",\"type\":\"Title\"},\"toolbar\":{\"id\":\"6829a205-7026-4846-b123-a5af998501a7\",\"type\":\"Toolbar\"},\"x_range\":{\"id\":\"7abda7f9-4d11-467e-901a-f93a1ee8b2a4\",\"type\":\"Range1d\"},\"x_scale\":{\"id\":\"5fa70cdc-a843-4008-b9d4-bb4ac8ca334b\",\"type\":\"LinearScale\"},\"y_range\":{\"id\":\"89af768d-b3b8-4b33-b4bd-55ef987520db\",\"type\":\"Range1d\"},\"y_scale\":{\"id\":\"85c7504f-bac3-441a-9bfd-411e2bd49844\",\"type\":\"LinearScale\"}},\"id\":\"db980087-215a-40c0-be26-745e26a13f8f\",\"subtype\":\"Figure\",\"type\":\"Plot\"},{\"attributes\":{},\"id\":\"8407996a-c52f-4ede-88c2-19ea4f84ee43\",\"type\":\"UnionRenderers\"},{\"attributes\":{\"line_width\":1.5,\"x\":{\"field\":\"x\"},\"y\":{\"field\":\"y\"}},\"id\":\"c06648c4-578d-4df9-b8b7-f7fc0dcf99ce\",\"type\":\"Line\"},{\"attributes\":{},\"id\":\"7b1929f0-8789-42eb-ad71-7da49c14b0a7\",\"type\":\"Selection\"},{\"attributes\":{\"callback\":null,\"end\":3.5,\"start\":-3.5},\"id\":\"7abda7f9-4d11-467e-901a-f93a1ee8b2a4\",\"type\":\"Range1d\"},{\"attributes\":{},\"id\":\"d2a778ab-dff5-4f57-a3e9-e93a6f246089\",\"type\":\"UnionRenderers\"},{\"attributes\":{},\"id\":\"1530e504-cba4-4b28-80df-4a5a5a646eb8\",\"type\":\"Selection\"},{\"attributes\":{},\"id\":\"5fa70cdc-a843-4008-b9d4-bb4ac8ca334b\",\"type\":\"LinearScale\"},{\"attributes\":{\"formatter\":{\"id\":\"921eed43-01d9-4839-b4f1-8bd8a03ef8c8\",\"type\":\"BasicTickFormatter\"},\"plot\":{\"id\":\"db980087-215a-40c0-be26-745e26a13f8f\",\"subtype\":\"Figure\",\"type\":\"Plot\"},\"ticker\":{\"id\":\"4639dcfb-702b-4146-b45e-9e53e44ea5ab\",\"type\":\"BasicTicker\"}},\"id\":\"30f7f336-350c-44dd-a39b-10dce25d2582\",\"type\":\"LinearAxis\"},{\"attributes\":{\"callback\":null,\"data\":{\"x\":[0,0],\"y\":[-5,5]},\"selected\":{\"id\":\"7b1929f0-8789-42eb-ad71-7da49c14b0a7\",\"type\":\"Selection\"},\"selection_policy\":{\"id\":\"8407996a-c52f-4ede-88c2-19ea4f84ee43\",\"type\":\"UnionRenderers\"}},\"id\":\"aa192adf-e439-41a8-9222-e50333906e71\",\"type\":\"ColumnDataSource\"},{\"attributes\":{\"plot\":null,\"text\":\"\"},\"id\":\"18c8dcc1-0a52-4880-915b-c82740a648e6\",\"type\":\"Title\"},{\"attributes\":{},\"id\":\"4639dcfb-702b-4146-b45e-9e53e44ea5ab\",\"type\":\"BasicTicker\"},{\"attributes\":{\"plot\":{\"id\":\"db980087-215a-40c0-be26-745e26a13f8f\",\"subtype\":\"Figure\",\"type\":\"Plot\"},\"ticker\":{\"id\":\"4639dcfb-702b-4146-b45e-9e53e44ea5ab\",\"type\":\"BasicTicker\"}},\"id\":\"2b46aca2-dfd0-479c-ab4e-7a0b5150c2e1\",\"type\":\"Grid\"},{\"attributes\":{\"callback\":null,\"end\":3.5,\"start\":-3.5},\"id\":\"89af768d-b3b8-4b33-b4bd-55ef987520db\",\"type\":\"Range1d\"},{\"attributes\":{\"formatter\":{\"id\":\"c220c01f-38ca-4338-89e4-3827889c6f0d\",\"type\":\"BasicTickFormatter\"},\"plot\":{\"id\":\"db980087-215a-40c0-be26-745e26a13f8f\",\"subtype\":\"Figure\",\"type\":\"Plot\"},\"ticker\":{\"id\":\"2128b3b7-9de1-42a4-b11e-a207f71f9629\",\"type\":\"BasicTicker\"}},\"id\":\"46860612-da74-4085-94d1-67c2eae5e26f\",\"type\":\"LinearAxis\"},{\"attributes\":{},\"id\":\"2128b3b7-9de1-42a4-b11e-a207f71f9629\",\"type\":\"BasicTicker\"},{\"attributes\":{\"dimension\":1,\"plot\":{\"id\":\"db980087-215a-40c0-be26-745e26a13f8f\",\"subtype\":\"Figure\",\"type\":\"Plot\"},\"ticker\":{\"id\":\"2128b3b7-9de1-42a4-b11e-a207f71f9629\",\"type\":\"BasicTicker\"}},\"id\":\"af67dda0-6d86-4d78-ab3d-7920c8a17869\",\"type\":\"Grid\"},{\"attributes\":{\"source\":{\"id\":\"aa192adf-e439-41a8-9222-e50333906e71\",\"type\":\"ColumnDataSource\"}},\"id\":\"7e7cc46a-6b5f-417b-abfa-8c13aa352cd0\",\"type\":\"CDSView\"},{\"attributes\":{\"data_source\":{\"id\":\"aa192adf-e439-41a8-9222-e50333906e71\",\"type\":\"ColumnDataSource\"},\"glyph\":{\"id\":\"c06648c4-578d-4df9-b8b7-f7fc0dcf99ce\",\"type\":\"Line\"},\"hover_glyph\":null,\"muted_glyph\":null,\"nonselection_glyph\":{\"id\":\"b34d03b1-a623-4ab0-9bad-d729fce75542\",\"type\":\"Line\"},\"selection_glyph\":null,\"view\":{\"id\":\"7e7cc46a-6b5f-417b-abfa-8c13aa352cd0\",\"type\":\"CDSView\"}},\"id\":\"159c0fd0-e80e-4e9b-9ea3-143df5322b6b\",\"type\":\"GlyphRenderer\"},{\"attributes\":{\"callback\":null,\"data\":{\"x\":[-5,5],\"y\":[0,0]},\"selected\":{\"id\":\"1530e504-cba4-4b28-80df-4a5a5a646eb8\",\"type\":\"Selection\"},\"selection_policy\":{\"id\":\"d2a778ab-dff5-4f57-a3e9-e93a6f246089\",\"type\":\"UnionRenderers\"}},\"id\":\"d314781d-4dc5-4a97-b59f-bfb04507063a\",\"type\":\"ColumnDataSource\"}],\"root_ids\":[\"db980087-215a-40c0-be26-745e26a13f8f\"]},\"title\":\"Bokeh Application\",\"version\":\"0.13.0\"}};\n",
       "  var render_items = [{\"docid\":\"4d453fda-aba5-495e-b6ad-dfa64ab51db6\",\"roots\":{\"db980087-215a-40c0-be26-745e26a13f8f\":\"b9bb4e5e-3d3a-4d4c-a8ab-488c0a2ed0bf\"}}];\n",
       "  root.Bokeh.embed.embed_items_notebook(docs_json, render_items);\n",
       "\n",
       "  }\n",
       "  if (root.Bokeh !== undefined) {\n",
       "    embed_document(root);\n",
       "  } else {\n",
       "    var attempts = 0;\n",
       "    var timer = setInterval(function(root) {\n",
       "      if (root.Bokeh !== undefined) {\n",
       "        embed_document(root);\n",
       "        clearInterval(timer);\n",
       "      }\n",
       "      attempts++;\n",
       "      if (attempts > 100) {\n",
       "        console.log(\"Bokeh: ERROR: Unable to run BokehJS code because BokehJS library is missing\")\n",
       "        clearInterval(timer);\n",
       "      }\n",
       "    }, 10, root)\n",
       "  }\n",
       "})(window);"
      ],
      "application/vnd.bokehjs_exec.v0+json": ""
     },
     "metadata": {
      "application/vnd.bokehjs_exec.v0+json": {
       "id": "db980087-215a-40c0-be26-745e26a13f8f"
      }
     },
     "output_type": "display_data"
    }
   ],
   "source": [
    "# Vector a\n",
    "c = np.array([1,2])\n",
    "\n",
    "# Plot the vector\n",
    "plot = vla()\n",
    "plot.graph()\n",
    "plot.vector(c)\n",
    "plot.show()"
   ]
  },
  {
   "cell_type": "markdown",
   "metadata": {},
   "source": [
    "Now recall our discussion of unit vectors\""
   ]
  },
  {
   "cell_type": "code",
   "execution_count": 4,
   "metadata": {},
   "outputs": [
    {
     "data": {
      "text/plain": [
       "array([1, 2])"
      ]
     },
     "execution_count": 4,
     "metadata": {},
     "output_type": "execute_result"
    }
   ],
   "source": [
    "i = np.array([1,0])\n",
    "j = np.array([0,1])\n",
    "\n",
    "(1*i) + (2*j) "
   ]
  },
  {
   "cell_type": "code",
   "execution_count": 5,
   "metadata": {},
   "outputs": [
    {
     "data": {
      "text/html": [
       "\n",
       "\n",
       "\n",
       "\n",
       "\n",
       "\n",
       "  <div class=\"bk-root\" id=\"b0ace732-1a2b-4872-a2ba-8c608167a174\"></div>\n"
      ]
     },
     "metadata": {},
     "output_type": "display_data"
    },
    {
     "data": {
      "application/javascript": [
       "(function(root) {\n",
       "  function embed_document(root) {\n",
       "    \n",
       "  var docs_json = {\"60c32abc-a6fd-435b-8cc5-3a005d14a489\":{\"roots\":{\"references\":[{\"attributes\":{},\"id\":\"c9589b8b-c651-4846-9cbd-201289da965d\",\"type\":\"WheelZoomTool\"},{\"attributes\":{},\"id\":\"045d3786-4603-4845-9f4b-b9b502928f77\",\"type\":\"PanTool\"},{\"attributes\":{},\"id\":\"c275ac38-c702-402a-826d-c92e989efef5\",\"type\":\"ResetTool\"},{\"attributes\":{},\"id\":\"85c7504f-bac3-441a-9bfd-411e2bd49844\",\"type\":\"LinearScale\"},{\"attributes\":{\"line_alpha\":0.1,\"line_color\":\"#1f77b4\",\"line_width\":1.5,\"x\":{\"field\":\"x\"},\"y\":{\"field\":\"y\"}},\"id\":\"b34d03b1-a623-4ab0-9bad-d729fce75542\",\"type\":\"Line\"},{\"attributes\":{\"line_width\":1.5,\"x\":{\"field\":\"x\"},\"y\":{\"field\":\"y\"}},\"id\":\"293fe7de-a157-4634-9f85-cc2af9564d14\",\"type\":\"Line\"},{\"attributes\":{\"line_alpha\":0.1,\"line_color\":\"#1f77b4\",\"line_width\":1.5,\"x\":{\"field\":\"x\"},\"y\":{\"field\":\"y\"}},\"id\":\"fa923782-89b2-4e47-a9f5-adc12ee0bacc\",\"type\":\"Line\"},{\"attributes\":{\"data_source\":{\"id\":\"d314781d-4dc5-4a97-b59f-bfb04507063a\",\"type\":\"ColumnDataSource\"},\"glyph\":{\"id\":\"293fe7de-a157-4634-9f85-cc2af9564d14\",\"type\":\"Line\"},\"hover_glyph\":null,\"muted_glyph\":null,\"nonselection_glyph\":{\"id\":\"fa923782-89b2-4e47-a9f5-adc12ee0bacc\",\"type\":\"Line\"},\"selection_glyph\":null,\"view\":{\"id\":\"e54d2743-c68b-4756-8d0e-572d24d5fdba\",\"type\":\"CDSView\"}},\"id\":\"a8b99a99-fbd6-4501-8ae2-e2fb94bfb333\",\"type\":\"GlyphRenderer\"},{\"attributes\":{\"source\":{\"id\":\"d314781d-4dc5-4a97-b59f-bfb04507063a\",\"type\":\"ColumnDataSource\"}},\"id\":\"e54d2743-c68b-4756-8d0e-572d24d5fdba\",\"type\":\"CDSView\"},{\"attributes\":{\"fill_color\":{\"value\":\"green\"},\"line_color\":{\"value\":\"green\"},\"plot\":null,\"size\":10},\"id\":\"8bead0cd-f324-4a89-9db3-390a40a82837\",\"type\":\"NormalHead\"},{\"attributes\":{\"end\":{\"id\":\"d139c778-71c2-40fd-bcc9-fb956fb0d191\",\"type\":\"NormalHead\"},\"line_color\":{\"value\":\"blue\"},\"line_width\":{\"value\":3},\"plot\":{\"id\":\"db980087-215a-40c0-be26-745e26a13f8f\",\"subtype\":\"Figure\",\"type\":\"Plot\"},\"source\":null,\"start\":null,\"x_end\":{\"value\":1},\"x_start\":{\"value\":0},\"y_end\":{\"value\":2},\"y_start\":{\"value\":0}},\"id\":\"ea833074-e5c5-4501-8958-e3bb6635ec66\",\"type\":\"Arrow\"},{\"attributes\":{\"end\":{\"id\":\"8bead0cd-f324-4a89-9db3-390a40a82837\",\"type\":\"NormalHead\"},\"line_color\":{\"value\":\"green\"},\"line_width\":{\"value\":3},\"plot\":{\"id\":\"db980087-215a-40c0-be26-745e26a13f8f\",\"subtype\":\"Figure\",\"type\":\"Plot\"},\"source\":null,\"start\":null,\"x_end\":{\"value\":1},\"x_start\":{\"value\":1},\"y_end\":{\"value\":2},\"y_start\":{\"value\":0}},\"id\":\"48a9a98f-5988-4187-ba82-dbedb155a769\",\"type\":\"Arrow\"},{\"attributes\":{\"fill_color\":{\"value\":\"blue\"},\"line_color\":{\"value\":\"blue\"},\"plot\":null,\"size\":10},\"id\":\"d139c778-71c2-40fd-bcc9-fb956fb0d191\",\"type\":\"NormalHead\"},{\"attributes\":{},\"id\":\"c220c01f-38ca-4338-89e4-3827889c6f0d\",\"type\":\"BasicTickFormatter\"},{\"attributes\":{\"active_drag\":\"auto\",\"active_inspect\":\"auto\",\"active_multi\":null,\"active_scroll\":\"auto\",\"active_tap\":\"auto\",\"tools\":[{\"id\":\"c9589b8b-c651-4846-9cbd-201289da965d\",\"type\":\"WheelZoomTool\"},{\"id\":\"045d3786-4603-4845-9f4b-b9b502928f77\",\"type\":\"PanTool\"},{\"id\":\"c275ac38-c702-402a-826d-c92e989efef5\",\"type\":\"ResetTool\"}]},\"id\":\"6829a205-7026-4846-b123-a5af998501a7\",\"type\":\"Toolbar\"},{\"attributes\":{},\"id\":\"921eed43-01d9-4839-b4f1-8bd8a03ef8c8\",\"type\":\"BasicTickFormatter\"},{\"attributes\":{\"below\":[{\"id\":\"30f7f336-350c-44dd-a39b-10dce25d2582\",\"type\":\"LinearAxis\"}],\"left\":[{\"id\":\"46860612-da74-4085-94d1-67c2eae5e26f\",\"type\":\"LinearAxis\"}],\"plot_height\":400,\"plot_width\":400,\"renderers\":[{\"id\":\"30f7f336-350c-44dd-a39b-10dce25d2582\",\"type\":\"LinearAxis\"},{\"id\":\"2b46aca2-dfd0-479c-ab4e-7a0b5150c2e1\",\"type\":\"Grid\"},{\"id\":\"46860612-da74-4085-94d1-67c2eae5e26f\",\"type\":\"LinearAxis\"},{\"id\":\"af67dda0-6d86-4d78-ab3d-7920c8a17869\",\"type\":\"Grid\"},{\"id\":\"159c0fd0-e80e-4e9b-9ea3-143df5322b6b\",\"type\":\"GlyphRenderer\"},{\"id\":\"a8b99a99-fbd6-4501-8ae2-e2fb94bfb333\",\"type\":\"GlyphRenderer\"},{\"id\":\"ea833074-e5c5-4501-8958-e3bb6635ec66\",\"type\":\"Arrow\"},{\"id\":\"a62394a3-6ddb-49dd-9269-c4d1938365cf\",\"type\":\"Arrow\"},{\"id\":\"48a9a98f-5988-4187-ba82-dbedb155a769\",\"type\":\"Arrow\"}],\"title\":{\"id\":\"18c8dcc1-0a52-4880-915b-c82740a648e6\",\"type\":\"Title\"},\"toolbar\":{\"id\":\"6829a205-7026-4846-b123-a5af998501a7\",\"type\":\"Toolbar\"},\"x_range\":{\"id\":\"7abda7f9-4d11-467e-901a-f93a1ee8b2a4\",\"type\":\"Range1d\"},\"x_scale\":{\"id\":\"5fa70cdc-a843-4008-b9d4-bb4ac8ca334b\",\"type\":\"LinearScale\"},\"y_range\":{\"id\":\"89af768d-b3b8-4b33-b4bd-55ef987520db\",\"type\":\"Range1d\"},\"y_scale\":{\"id\":\"85c7504f-bac3-441a-9bfd-411e2bd49844\",\"type\":\"LinearScale\"}},\"id\":\"db980087-215a-40c0-be26-745e26a13f8f\",\"subtype\":\"Figure\",\"type\":\"Plot\"},{\"attributes\":{},\"id\":\"8407996a-c52f-4ede-88c2-19ea4f84ee43\",\"type\":\"UnionRenderers\"},{\"attributes\":{\"line_width\":1.5,\"x\":{\"field\":\"x\"},\"y\":{\"field\":\"y\"}},\"id\":\"c06648c4-578d-4df9-b8b7-f7fc0dcf99ce\",\"type\":\"Line\"},{\"attributes\":{\"fill_color\":{\"value\":\"red\"},\"line_color\":{\"value\":\"red\"},\"plot\":null,\"size\":10},\"id\":\"9c26d3dc-d302-43d5-8341-ce3ddcdabb4f\",\"type\":\"NormalHead\"},{\"attributes\":{},\"id\":\"7b1929f0-8789-42eb-ad71-7da49c14b0a7\",\"type\":\"Selection\"},{\"attributes\":{\"callback\":null,\"end\":3.5,\"start\":-3.5},\"id\":\"7abda7f9-4d11-467e-901a-f93a1ee8b2a4\",\"type\":\"Range1d\"},{\"attributes\":{},\"id\":\"d2a778ab-dff5-4f57-a3e9-e93a6f246089\",\"type\":\"UnionRenderers\"},{\"attributes\":{},\"id\":\"1530e504-cba4-4b28-80df-4a5a5a646eb8\",\"type\":\"Selection\"},{\"attributes\":{},\"id\":\"5fa70cdc-a843-4008-b9d4-bb4ac8ca334b\",\"type\":\"LinearScale\"},{\"attributes\":{\"formatter\":{\"id\":\"921eed43-01d9-4839-b4f1-8bd8a03ef8c8\",\"type\":\"BasicTickFormatter\"},\"plot\":{\"id\":\"db980087-215a-40c0-be26-745e26a13f8f\",\"subtype\":\"Figure\",\"type\":\"Plot\"},\"ticker\":{\"id\":\"4639dcfb-702b-4146-b45e-9e53e44ea5ab\",\"type\":\"BasicTicker\"}},\"id\":\"30f7f336-350c-44dd-a39b-10dce25d2582\",\"type\":\"LinearAxis\"},{\"attributes\":{\"callback\":null,\"data\":{\"x\":[0,0],\"y\":[-5,5]},\"selected\":{\"id\":\"7b1929f0-8789-42eb-ad71-7da49c14b0a7\",\"type\":\"Selection\"},\"selection_policy\":{\"id\":\"8407996a-c52f-4ede-88c2-19ea4f84ee43\",\"type\":\"UnionRenderers\"}},\"id\":\"aa192adf-e439-41a8-9222-e50333906e71\",\"type\":\"ColumnDataSource\"},{\"attributes\":{\"plot\":null,\"text\":\"\"},\"id\":\"18c8dcc1-0a52-4880-915b-c82740a648e6\",\"type\":\"Title\"},{\"attributes\":{},\"id\":\"4639dcfb-702b-4146-b45e-9e53e44ea5ab\",\"type\":\"BasicTicker\"},{\"attributes\":{\"plot\":{\"id\":\"db980087-215a-40c0-be26-745e26a13f8f\",\"subtype\":\"Figure\",\"type\":\"Plot\"},\"ticker\":{\"id\":\"4639dcfb-702b-4146-b45e-9e53e44ea5ab\",\"type\":\"BasicTicker\"}},\"id\":\"2b46aca2-dfd0-479c-ab4e-7a0b5150c2e1\",\"type\":\"Grid\"},{\"attributes\":{\"callback\":null,\"end\":3.5,\"start\":-3.5},\"id\":\"89af768d-b3b8-4b33-b4bd-55ef987520db\",\"type\":\"Range1d\"},{\"attributes\":{\"formatter\":{\"id\":\"c220c01f-38ca-4338-89e4-3827889c6f0d\",\"type\":\"BasicTickFormatter\"},\"plot\":{\"id\":\"db980087-215a-40c0-be26-745e26a13f8f\",\"subtype\":\"Figure\",\"type\":\"Plot\"},\"ticker\":{\"id\":\"2128b3b7-9de1-42a4-b11e-a207f71f9629\",\"type\":\"BasicTicker\"}},\"id\":\"46860612-da74-4085-94d1-67c2eae5e26f\",\"type\":\"LinearAxis\"},{\"attributes\":{},\"id\":\"2128b3b7-9de1-42a4-b11e-a207f71f9629\",\"type\":\"BasicTicker\"},{\"attributes\":{\"dimension\":1,\"plot\":{\"id\":\"db980087-215a-40c0-be26-745e26a13f8f\",\"subtype\":\"Figure\",\"type\":\"Plot\"},\"ticker\":{\"id\":\"2128b3b7-9de1-42a4-b11e-a207f71f9629\",\"type\":\"BasicTicker\"}},\"id\":\"af67dda0-6d86-4d78-ab3d-7920c8a17869\",\"type\":\"Grid\"},{\"attributes\":{\"source\":{\"id\":\"aa192adf-e439-41a8-9222-e50333906e71\",\"type\":\"ColumnDataSource\"}},\"id\":\"7e7cc46a-6b5f-417b-abfa-8c13aa352cd0\",\"type\":\"CDSView\"},{\"attributes\":{\"end\":{\"id\":\"9c26d3dc-d302-43d5-8341-ce3ddcdabb4f\",\"type\":\"NormalHead\"},\"line_color\":{\"value\":\"red\"},\"line_width\":{\"value\":3},\"plot\":{\"id\":\"db980087-215a-40c0-be26-745e26a13f8f\",\"subtype\":\"Figure\",\"type\":\"Plot\"},\"source\":null,\"start\":null,\"x_end\":{\"value\":1},\"x_start\":{\"value\":0},\"y_end\":{\"value\":0},\"y_start\":{\"value\":0}},\"id\":\"a62394a3-6ddb-49dd-9269-c4d1938365cf\",\"type\":\"Arrow\"},{\"attributes\":{\"data_source\":{\"id\":\"aa192adf-e439-41a8-9222-e50333906e71\",\"type\":\"ColumnDataSource\"},\"glyph\":{\"id\":\"c06648c4-578d-4df9-b8b7-f7fc0dcf99ce\",\"type\":\"Line\"},\"hover_glyph\":null,\"muted_glyph\":null,\"nonselection_glyph\":{\"id\":\"b34d03b1-a623-4ab0-9bad-d729fce75542\",\"type\":\"Line\"},\"selection_glyph\":null,\"view\":{\"id\":\"7e7cc46a-6b5f-417b-abfa-8c13aa352cd0\",\"type\":\"CDSView\"}},\"id\":\"159c0fd0-e80e-4e9b-9ea3-143df5322b6b\",\"type\":\"GlyphRenderer\"},{\"attributes\":{\"callback\":null,\"data\":{\"x\":[-5,5],\"y\":[0,0]},\"selected\":{\"id\":\"1530e504-cba4-4b28-80df-4a5a5a646eb8\",\"type\":\"Selection\"},\"selection_policy\":{\"id\":\"d2a778ab-dff5-4f57-a3e9-e93a6f246089\",\"type\":\"UnionRenderers\"}},\"id\":\"d314781d-4dc5-4a97-b59f-bfb04507063a\",\"type\":\"ColumnDataSource\"}],\"root_ids\":[\"db980087-215a-40c0-be26-745e26a13f8f\"]},\"title\":\"Bokeh Application\",\"version\":\"0.13.0\"}};\n",
       "  var render_items = [{\"docid\":\"60c32abc-a6fd-435b-8cc5-3a005d14a489\",\"roots\":{\"db980087-215a-40c0-be26-745e26a13f8f\":\"b0ace732-1a2b-4872-a2ba-8c608167a174\"}}];\n",
       "  root.Bokeh.embed.embed_items_notebook(docs_json, render_items);\n",
       "\n",
       "  }\n",
       "  if (root.Bokeh !== undefined) {\n",
       "    embed_document(root);\n",
       "  } else {\n",
       "    var attempts = 0;\n",
       "    var timer = setInterval(function(root) {\n",
       "      if (root.Bokeh !== undefined) {\n",
       "        embed_document(root);\n",
       "        clearInterval(timer);\n",
       "      }\n",
       "      attempts++;\n",
       "      if (attempts > 100) {\n",
       "        console.log(\"Bokeh: ERROR: Unable to run BokehJS code because BokehJS library is missing\")\n",
       "        clearInterval(timer);\n",
       "      }\n",
       "    }, 10, root)\n",
       "  }\n",
       "})(window);"
      ],
      "application/vnd.bokehjs_exec.v0+json": ""
     },
     "metadata": {
      "application/vnd.bokehjs_exec.v0+json": {
       "id": "db980087-215a-40c0-be26-745e26a13f8f"
      }
     },
     "output_type": "display_data"
    }
   ],
   "source": [
    "# Create our scaled unit vectors\n",
    "a = i\n",
    "b = 2*j\n",
    "\n",
    "plot.vector(a)\n",
    "plot.change_origin(i)\n",
    "plot.vector(b)\n",
    "plot.show()"
   ]
  },
  {
   "cell_type": "markdown",
   "metadata": {},
   "source": [
    "Recall the Pythagorean Theorem\n",
    "\n",
    "$$ a^2 + b^2 = c^2 $$\n",
    "\n",
    "$$ \\left\\| a \\right\\|^2 + \\left\\| b \\right\\|^2 = \\left\\| c \\right\\|^2 $$"
   ]
  },
  {
   "cell_type": "code",
   "execution_count": 6,
   "metadata": {},
   "outputs": [
    {
     "data": {
      "text/plain": [
       "5"
      ]
     },
     "execution_count": 6,
     "metadata": {},
     "output_type": "execute_result"
    }
   ],
   "source": [
    "a.dot(a) + b.dot(b)"
   ]
  },
  {
   "cell_type": "markdown",
   "metadata": {},
   "source": [
    "\n",
    "\n",
    "$$ \\begin{bmatrix}  c_1 \\\\ c_2 \\\\  \\vdots \\\\ c_n  \\end{bmatrix} \\cdot \n",
    "\\begin{bmatrix}  c_1 \\\\ c_2 \\\\  \\vdots \\\\ c_n  \\end{bmatrix}$$\n",
    "\n",
    "$$ c_1 c_1 + c_2 c_2 + \\dots + c_n c_n $$ \n",
    "\n",
    "$$ c_1^2 + c_2^2 + \\dots + c_n^2 =  \\left\\| c \\right\\|^2 $$ \n",
    "\n",
    "$$ \\sqrt{\\vec{c} \\cdot \\vec{c}} = \\left\\| c \\right\\|  $$ "
   ]
  },
  {
   "cell_type": "markdown",
   "metadata": {},
   "source": [
    "For example,\n",
    "\n",
    "$$ \\vec{c} = \\begin{bmatrix}  1 \\\\ 2 \\end{bmatrix} $$\n",
    "\n",
    "$$ \\begin{bmatrix}  1 \\\\ 2 \\end{bmatrix} \\cdot \n",
    "\\begin{bmatrix}  1 \\\\ 2 \\\\ \\end{bmatrix}$$\n",
    "\n",
    "$$ 1(1) + 2(2) $$ \n",
    "\n",
    "$$ 1 + 4 $$ \n",
    "\n",
    "$$ \\left\\| c \\right\\|^2 = 5$$ \n",
    "\n",
    "$$ \\sqrt{\\left\\| c \\right\\|^2} = \\sqrt{5}$$ \n",
    "\n",
    "$$ \\left\\| c \\right\\| = 2.24 $$"
   ]
  },
  {
   "cell_type": "code",
   "execution_count": 7,
   "metadata": {},
   "outputs": [
    {
     "data": {
      "text/plain": [
       "2.23606797749979"
      ]
     },
     "execution_count": 7,
     "metadata": {},
     "output_type": "execute_result"
    }
   ],
   "source": [
    "np.sqrt(c.dot(c))"
   ]
  },
  {
   "cell_type": "code",
   "execution_count": 8,
   "metadata": {},
   "outputs": [
    {
     "data": {
      "text/plain": [
       "2.23606797749979"
      ]
     },
     "execution_count": 8,
     "metadata": {},
     "output_type": "execute_result"
    }
   ],
   "source": [
    "np.linalg.norm(c)"
   ]
  },
  {
   "cell_type": "markdown",
   "metadata": {},
   "source": [
    "# Angles between Vectors"
   ]
  },
  {
   "cell_type": "code",
   "execution_count": 9,
   "metadata": {},
   "outputs": [
    {
     "data": {
      "text/html": [
       "\n",
       "\n",
       "\n",
       "\n",
       "\n",
       "\n",
       "  <div class=\"bk-root\" id=\"31227217-355d-4661-9b12-349c04c1e941\"></div>\n"
      ]
     },
     "metadata": {},
     "output_type": "display_data"
    },
    {
     "data": {
      "application/javascript": [
       "(function(root) {\n",
       "  function embed_document(root) {\n",
       "    \n",
       "  var docs_json = {\"9a19f9f9-52b7-4dbf-908e-511e38c94d19\":{\"roots\":{\"references\":[{\"attributes\":{\"fill_color\":{\"value\":\"red\"},\"line_color\":{\"value\":\"red\"},\"plot\":null,\"size\":10},\"id\":\"0188c9f4-9fbc-4314-9e80-71f6e7b079e1\",\"type\":\"NormalHead\"},{\"attributes\":{\"callback\":null,\"data\":{\"x\":[-7,7],\"y\":[0,0]},\"selected\":{\"id\":\"fee3b925-ec45-482c-8fea-3f22161a5ab9\",\"type\":\"Selection\"},\"selection_policy\":{\"id\":\"3554887c-37ba-4cce-9bc5-fd7c1fac9f64\",\"type\":\"UnionRenderers\"}},\"id\":\"70f5b0b8-e818-4042-846e-5121bcdc2eac\",\"type\":\"ColumnDataSource\"},{\"attributes\":{\"line_width\":1.5,\"x\":{\"field\":\"x\"},\"y\":{\"field\":\"y\"}},\"id\":\"d2d78dd0-d37a-4962-8364-bb93d20306f1\",\"type\":\"Line\"},{\"attributes\":{},\"id\":\"1da058c4-7198-4604-9ae7-30a1b8022ac6\",\"type\":\"WheelZoomTool\"},{\"attributes\":{\"end\":{\"id\":\"0188c9f4-9fbc-4314-9e80-71f6e7b079e1\",\"type\":\"NormalHead\"},\"line_color\":{\"value\":\"red\"},\"line_width\":{\"value\":3},\"plot\":{\"id\":\"556d0d06-9404-42ed-a87d-be030528e986\",\"subtype\":\"Figure\",\"type\":\"Plot\"},\"source\":null,\"start\":null,\"x_end\":{\"value\":1},\"x_start\":{\"value\":0},\"y_end\":{\"value\":2},\"y_start\":{\"value\":0}},\"id\":\"732074a5-8235-4881-99ab-5f257bcd4a9e\",\"type\":\"Arrow\"},{\"attributes\":{},\"id\":\"c81dc392-55fa-4e7f-9710-efaedba2a49a\",\"type\":\"UnionRenderers\"},{\"attributes\":{\"line_alpha\":0.1,\"line_color\":\"#1f77b4\",\"line_width\":1.5,\"x\":{\"field\":\"x\"},\"y\":{\"field\":\"y\"}},\"id\":\"bb5851a0-4f03-4fd9-a7bc-f0f7366d35bd\",\"type\":\"Line\"},{\"attributes\":{\"active_drag\":\"auto\",\"active_inspect\":\"auto\",\"active_multi\":null,\"active_scroll\":\"auto\",\"active_tap\":\"auto\",\"tools\":[{\"id\":\"1da058c4-7198-4604-9ae7-30a1b8022ac6\",\"type\":\"WheelZoomTool\"},{\"id\":\"8f799e4e-ffe9-4d84-88a3-e40c76992c82\",\"type\":\"PanTool\"},{\"id\":\"aafac7b8-bbf2-4cda-982a-36966d9d09a1\",\"type\":\"ResetTool\"}]},\"id\":\"0653d02e-c4bd-482a-8634-d1a39829549a\",\"type\":\"Toolbar\"},{\"attributes\":{\"formatter\":{\"id\":\"fbdfdb66-8241-49ee-bbf9-b670a024a6ed\",\"type\":\"BasicTickFormatter\"},\"plot\":{\"id\":\"556d0d06-9404-42ed-a87d-be030528e986\",\"subtype\":\"Figure\",\"type\":\"Plot\"},\"ticker\":{\"id\":\"baf2bdd1-6c46-4420-9f25-0a061a6a4acb\",\"type\":\"BasicTicker\"}},\"id\":\"4cfd6df3-b5f3-4d5e-8aa6-97373f028e36\",\"type\":\"LinearAxis\"},{\"attributes\":{},\"id\":\"3554887c-37ba-4cce-9bc5-fd7c1fac9f64\",\"type\":\"UnionRenderers\"},{\"attributes\":{},\"id\":\"6d9ac166-a67f-4f9c-a9d9-5d6d416721fd\",\"type\":\"Selection\"},{\"attributes\":{},\"id\":\"e2d6c505-aa95-4832-81fc-2a5179c2885b\",\"type\":\"BasicTickFormatter\"},{\"attributes\":{\"dimension\":1,\"plot\":{\"id\":\"556d0d06-9404-42ed-a87d-be030528e986\",\"subtype\":\"Figure\",\"type\":\"Plot\"},\"ticker\":{\"id\":\"553cd114-83d8-474c-9a48-66b9cee98566\",\"type\":\"BasicTicker\"}},\"id\":\"4d66b09d-7244-4cbe-88b4-785f27d675e5\",\"type\":\"Grid\"},{\"attributes\":{},\"id\":\"aafac7b8-bbf2-4cda-982a-36966d9d09a1\",\"type\":\"ResetTool\"},{\"attributes\":{},\"id\":\"fbdfdb66-8241-49ee-bbf9-b670a024a6ed\",\"type\":\"BasicTickFormatter\"},{\"attributes\":{\"callback\":null,\"end\":4.8999999999999995,\"start\":-4.8999999999999995},\"id\":\"4dd80c60-7296-42fe-a002-2009da3cb721\",\"type\":\"Range1d\"},{\"attributes\":{\"plot\":{\"id\":\"556d0d06-9404-42ed-a87d-be030528e986\",\"subtype\":\"Figure\",\"type\":\"Plot\"},\"ticker\":{\"id\":\"baf2bdd1-6c46-4420-9f25-0a061a6a4acb\",\"type\":\"BasicTicker\"}},\"id\":\"863fec6f-628d-43a2-9667-890df34815cb\",\"type\":\"Grid\"},{\"attributes\":{\"source\":{\"id\":\"9e325b81-6200-420b-8fcf-e563d0cde1e5\",\"type\":\"ColumnDataSource\"}},\"id\":\"a18840e0-36ed-4415-b025-f530760d8c6b\",\"type\":\"CDSView\"},{\"attributes\":{\"data_source\":{\"id\":\"70f5b0b8-e818-4042-846e-5121bcdc2eac\",\"type\":\"ColumnDataSource\"},\"glyph\":{\"id\":\"d2d78dd0-d37a-4962-8364-bb93d20306f1\",\"type\":\"Line\"},\"hover_glyph\":null,\"muted_glyph\":null,\"nonselection_glyph\":{\"id\":\"bb5851a0-4f03-4fd9-a7bc-f0f7366d35bd\",\"type\":\"Line\"},\"selection_glyph\":null,\"view\":{\"id\":\"fff93bc8-8eae-4a98-bff0-0c6da2e852d0\",\"type\":\"CDSView\"}},\"id\":\"d7da6461-abc6-42af-a8ec-700ccef74cab\",\"type\":\"GlyphRenderer\"},{\"attributes\":{},\"id\":\"8f799e4e-ffe9-4d84-88a3-e40c76992c82\",\"type\":\"PanTool\"},{\"attributes\":{},\"id\":\"553cd114-83d8-474c-9a48-66b9cee98566\",\"type\":\"BasicTicker\"},{\"attributes\":{\"plot\":null,\"text\":\"\"},\"id\":\"30057763-0cf4-4910-a353-55e9cf81b4bd\",\"type\":\"Title\"},{\"attributes\":{\"source\":{\"id\":\"70f5b0b8-e818-4042-846e-5121bcdc2eac\",\"type\":\"ColumnDataSource\"}},\"id\":\"fff93bc8-8eae-4a98-bff0-0c6da2e852d0\",\"type\":\"CDSView\"},{\"attributes\":{\"formatter\":{\"id\":\"e2d6c505-aa95-4832-81fc-2a5179c2885b\",\"type\":\"BasicTickFormatter\"},\"plot\":{\"id\":\"556d0d06-9404-42ed-a87d-be030528e986\",\"subtype\":\"Figure\",\"type\":\"Plot\"},\"ticker\":{\"id\":\"553cd114-83d8-474c-9a48-66b9cee98566\",\"type\":\"BasicTicker\"}},\"id\":\"6089820e-5823-41f5-90c9-08309ef7a957\",\"type\":\"LinearAxis\"},{\"attributes\":{\"data_source\":{\"id\":\"9e325b81-6200-420b-8fcf-e563d0cde1e5\",\"type\":\"ColumnDataSource\"},\"glyph\":{\"id\":\"5a4fa5c9-426f-4508-b0a2-249c2a23c068\",\"type\":\"Line\"},\"hover_glyph\":null,\"muted_glyph\":null,\"nonselection_glyph\":{\"id\":\"59645523-aba8-4a02-b700-6200f5535dfa\",\"type\":\"Line\"},\"selection_glyph\":null,\"view\":{\"id\":\"a18840e0-36ed-4415-b025-f530760d8c6b\",\"type\":\"CDSView\"}},\"id\":\"507fc9be-3992-4ff5-9819-fe3d54ab19c3\",\"type\":\"GlyphRenderer\"},{\"attributes\":{},\"id\":\"f0919e5f-db3e-4b2d-ba5e-18df83c51fef\",\"type\":\"LinearScale\"},{\"attributes\":{},\"id\":\"ee82dd8a-5fa1-4517-b8fd-ec77784696c3\",\"type\":\"LinearScale\"},{\"attributes\":{\"callback\":null,\"end\":4.8999999999999995,\"start\":-4.8999999999999995},\"id\":\"2d9a3585-dde8-4475-927b-369c8c90f215\",\"type\":\"Range1d\"},{\"attributes\":{\"line_alpha\":0.1,\"line_color\":\"#1f77b4\",\"line_width\":1.5,\"x\":{\"field\":\"x\"},\"y\":{\"field\":\"y\"}},\"id\":\"59645523-aba8-4a02-b700-6200f5535dfa\",\"type\":\"Line\"},{\"attributes\":{\"callback\":null,\"data\":{\"x\":[0,0],\"y\":[-7,7]},\"selected\":{\"id\":\"6d9ac166-a67f-4f9c-a9d9-5d6d416721fd\",\"type\":\"Selection\"},\"selection_policy\":{\"id\":\"c81dc392-55fa-4e7f-9710-efaedba2a49a\",\"type\":\"UnionRenderers\"}},\"id\":\"9e325b81-6200-420b-8fcf-e563d0cde1e5\",\"type\":\"ColumnDataSource\"},{\"attributes\":{\"fill_color\":{\"value\":\"blue\"},\"line_color\":{\"value\":\"blue\"},\"plot\":null,\"size\":10},\"id\":\"814b5cc2-4cd7-4eb5-ab60-2c7f5edd656a\",\"type\":\"NormalHead\"},{\"attributes\":{\"below\":[{\"id\":\"4cfd6df3-b5f3-4d5e-8aa6-97373f028e36\",\"type\":\"LinearAxis\"}],\"left\":[{\"id\":\"6089820e-5823-41f5-90c9-08309ef7a957\",\"type\":\"LinearAxis\"}],\"plot_height\":400,\"plot_width\":400,\"renderers\":[{\"id\":\"4cfd6df3-b5f3-4d5e-8aa6-97373f028e36\",\"type\":\"LinearAxis\"},{\"id\":\"863fec6f-628d-43a2-9667-890df34815cb\",\"type\":\"Grid\"},{\"id\":\"6089820e-5823-41f5-90c9-08309ef7a957\",\"type\":\"LinearAxis\"},{\"id\":\"4d66b09d-7244-4cbe-88b4-785f27d675e5\",\"type\":\"Grid\"},{\"id\":\"507fc9be-3992-4ff5-9819-fe3d54ab19c3\",\"type\":\"GlyphRenderer\"},{\"id\":\"d7da6461-abc6-42af-a8ec-700ccef74cab\",\"type\":\"GlyphRenderer\"},{\"id\":\"54fdd962-f048-4a8a-8bb5-72e88532c33e\",\"type\":\"Arrow\"},{\"id\":\"732074a5-8235-4881-99ab-5f257bcd4a9e\",\"type\":\"Arrow\"}],\"title\":{\"id\":\"30057763-0cf4-4910-a353-55e9cf81b4bd\",\"type\":\"Title\"},\"toolbar\":{\"id\":\"0653d02e-c4bd-482a-8634-d1a39829549a\",\"type\":\"Toolbar\"},\"x_range\":{\"id\":\"4dd80c60-7296-42fe-a002-2009da3cb721\",\"type\":\"Range1d\"},\"x_scale\":{\"id\":\"ee82dd8a-5fa1-4517-b8fd-ec77784696c3\",\"type\":\"LinearScale\"},\"y_range\":{\"id\":\"2d9a3585-dde8-4475-927b-369c8c90f215\",\"type\":\"Range1d\"},\"y_scale\":{\"id\":\"f0919e5f-db3e-4b2d-ba5e-18df83c51fef\",\"type\":\"LinearScale\"}},\"id\":\"556d0d06-9404-42ed-a87d-be030528e986\",\"subtype\":\"Figure\",\"type\":\"Plot\"},{\"attributes\":{\"end\":{\"id\":\"814b5cc2-4cd7-4eb5-ab60-2c7f5edd656a\",\"type\":\"NormalHead\"},\"line_color\":{\"value\":\"blue\"},\"line_width\":{\"value\":3},\"plot\":{\"id\":\"556d0d06-9404-42ed-a87d-be030528e986\",\"subtype\":\"Figure\",\"type\":\"Plot\"},\"source\":null,\"start\":null,\"x_end\":{\"value\":4},\"x_start\":{\"value\":0},\"y_end\":{\"value\":1},\"y_start\":{\"value\":0}},\"id\":\"54fdd962-f048-4a8a-8bb5-72e88532c33e\",\"type\":\"Arrow\"},{\"attributes\":{},\"id\":\"fee3b925-ec45-482c-8fea-3f22161a5ab9\",\"type\":\"Selection\"},{\"attributes\":{\"line_width\":1.5,\"x\":{\"field\":\"x\"},\"y\":{\"field\":\"y\"}},\"id\":\"5a4fa5c9-426f-4508-b0a2-249c2a23c068\",\"type\":\"Line\"},{\"attributes\":{},\"id\":\"baf2bdd1-6c46-4420-9f25-0a061a6a4acb\",\"type\":\"BasicTicker\"}],\"root_ids\":[\"556d0d06-9404-42ed-a87d-be030528e986\"]},\"title\":\"Bokeh Application\",\"version\":\"0.13.0\"}};\n",
       "  var render_items = [{\"docid\":\"9a19f9f9-52b7-4dbf-908e-511e38c94d19\",\"roots\":{\"556d0d06-9404-42ed-a87d-be030528e986\":\"31227217-355d-4661-9b12-349c04c1e941\"}}];\n",
       "  root.Bokeh.embed.embed_items_notebook(docs_json, render_items);\n",
       "\n",
       "  }\n",
       "  if (root.Bokeh !== undefined) {\n",
       "    embed_document(root);\n",
       "  } else {\n",
       "    var attempts = 0;\n",
       "    var timer = setInterval(function(root) {\n",
       "      if (root.Bokeh !== undefined) {\n",
       "        embed_document(root);\n",
       "        clearInterval(timer);\n",
       "      }\n",
       "      attempts++;\n",
       "      if (attempts > 100) {\n",
       "        console.log(\"Bokeh: ERROR: Unable to run BokehJS code because BokehJS library is missing\")\n",
       "        clearInterval(timer);\n",
       "      }\n",
       "    }, 10, root)\n",
       "  }\n",
       "})(window);"
      ],
      "application/vnd.bokehjs_exec.v0+json": ""
     },
     "metadata": {
      "application/vnd.bokehjs_exec.v0+json": {
       "id": "556d0d06-9404-42ed-a87d-be030528e986"
      }
     },
     "output_type": "display_data"
    }
   ],
   "source": [
    "a = np.array([4,1])\n",
    "b = np.array([1,2])\n",
    "\n",
    "plot.clear().graph(7)\n",
    "plot.vector(a)\n",
    "plot.vector(b)\n",
    "plot.show()"
   ]
  },
  {
   "cell_type": "markdown",
   "metadata": {},
   "source": [
    "### Law of Cosines\n",
    "\n",
    "$$ c^2 = a^2 + b^2 - 2ab\\cos{\\theta} $$"
   ]
  },
  {
   "cell_type": "code",
   "execution_count": 10,
   "metadata": {},
   "outputs": [
    {
     "data": {
      "text/html": [
       "\n",
       "\n",
       "\n",
       "\n",
       "\n",
       "\n",
       "  <div class=\"bk-root\" id=\"b68e6b94-a8e1-46e4-ac8e-ae353afec111\"></div>\n"
      ]
     },
     "metadata": {},
     "output_type": "display_data"
    },
    {
     "data": {
      "application/javascript": [
       "(function(root) {\n",
       "  function embed_document(root) {\n",
       "    \n",
       "  var docs_json = {\"94a60734-3c00-4580-8217-6702127ef58c\":{\"roots\":{\"references\":[{\"attributes\":{\"fill_color\":{\"value\":\"red\"},\"line_color\":{\"value\":\"red\"},\"plot\":null,\"size\":10},\"id\":\"0188c9f4-9fbc-4314-9e80-71f6e7b079e1\",\"type\":\"NormalHead\"},{\"attributes\":{\"callback\":null,\"data\":{\"x\":[-7,7],\"y\":[0,0]},\"selected\":{\"id\":\"fee3b925-ec45-482c-8fea-3f22161a5ab9\",\"type\":\"Selection\"},\"selection_policy\":{\"id\":\"3554887c-37ba-4cce-9bc5-fd7c1fac9f64\",\"type\":\"UnionRenderers\"}},\"id\":\"70f5b0b8-e818-4042-846e-5121bcdc2eac\",\"type\":\"ColumnDataSource\"},{\"attributes\":{\"line_width\":1.5,\"x\":{\"field\":\"x\"},\"y\":{\"field\":\"y\"}},\"id\":\"d2d78dd0-d37a-4962-8364-bb93d20306f1\",\"type\":\"Line\"},{\"attributes\":{},\"id\":\"1da058c4-7198-4604-9ae7-30a1b8022ac6\",\"type\":\"WheelZoomTool\"},{\"attributes\":{\"end\":{\"id\":\"0188c9f4-9fbc-4314-9e80-71f6e7b079e1\",\"type\":\"NormalHead\"},\"line_color\":{\"value\":\"red\"},\"line_width\":{\"value\":3},\"plot\":{\"id\":\"556d0d06-9404-42ed-a87d-be030528e986\",\"subtype\":\"Figure\",\"type\":\"Plot\"},\"source\":null,\"start\":null,\"x_end\":{\"value\":1},\"x_start\":{\"value\":0},\"y_end\":{\"value\":2},\"y_start\":{\"value\":0}},\"id\":\"732074a5-8235-4881-99ab-5f257bcd4a9e\",\"type\":\"Arrow\"},{\"attributes\":{\"fill_color\":{\"value\":\"green\"},\"line_color\":{\"value\":\"green\"},\"plot\":null,\"size\":10},\"id\":\"e244331b-95b5-493a-bf27-2c919ce43f2e\",\"type\":\"NormalHead\"},{\"attributes\":{\"end\":{\"id\":\"1067b22f-02ea-4668-8c9d-f14870ee6588\",\"type\":\"NormalHead\"},\"line_color\":{\"value\":\"orange\"},\"line_width\":{\"value\":3},\"plot\":{\"id\":\"556d0d06-9404-42ed-a87d-be030528e986\",\"subtype\":\"Figure\",\"type\":\"Plot\"},\"source\":null,\"start\":null,\"x_end\":{\"value\":1},\"x_start\":{\"value\":0},\"y_end\":{\"value\":2},\"y_start\":{\"value\":0}},\"id\":\"214b1c97-0482-4ab8-bd8d-148c0cd7f9f6\",\"type\":\"Arrow\"},{\"attributes\":{},\"id\":\"c81dc392-55fa-4e7f-9710-efaedba2a49a\",\"type\":\"UnionRenderers\"},{\"attributes\":{\"line_alpha\":0.1,\"line_color\":\"#1f77b4\",\"line_width\":1.5,\"x\":{\"field\":\"x\"},\"y\":{\"field\":\"y\"}},\"id\":\"bb5851a0-4f03-4fd9-a7bc-f0f7366d35bd\",\"type\":\"Line\"},{\"attributes\":{\"active_drag\":\"auto\",\"active_inspect\":\"auto\",\"active_multi\":null,\"active_scroll\":\"auto\",\"active_tap\":\"auto\",\"tools\":[{\"id\":\"1da058c4-7198-4604-9ae7-30a1b8022ac6\",\"type\":\"WheelZoomTool\"},{\"id\":\"8f799e4e-ffe9-4d84-88a3-e40c76992c82\",\"type\":\"PanTool\"},{\"id\":\"aafac7b8-bbf2-4cda-982a-36966d9d09a1\",\"type\":\"ResetTool\"}]},\"id\":\"0653d02e-c4bd-482a-8634-d1a39829549a\",\"type\":\"Toolbar\"},{\"attributes\":{\"formatter\":{\"id\":\"fbdfdb66-8241-49ee-bbf9-b670a024a6ed\",\"type\":\"BasicTickFormatter\"},\"plot\":{\"id\":\"556d0d06-9404-42ed-a87d-be030528e986\",\"subtype\":\"Figure\",\"type\":\"Plot\"},\"ticker\":{\"id\":\"baf2bdd1-6c46-4420-9f25-0a061a6a4acb\",\"type\":\"BasicTicker\"}},\"id\":\"4cfd6df3-b5f3-4d5e-8aa6-97373f028e36\",\"type\":\"LinearAxis\"},{\"attributes\":{},\"id\":\"3554887c-37ba-4cce-9bc5-fd7c1fac9f64\",\"type\":\"UnionRenderers\"},{\"attributes\":{},\"id\":\"6d9ac166-a67f-4f9c-a9d9-5d6d416721fd\",\"type\":\"Selection\"},{\"attributes\":{\"end\":{\"id\":\"3eb64216-0d9d-46a3-af83-97aab812504e\",\"type\":\"NormalHead\"},\"line_alpha\":{\"value\":0.3},\"line_color\":{\"value\":\"purple\"},\"line_width\":{\"value\":3},\"plot\":{\"id\":\"556d0d06-9404-42ed-a87d-be030528e986\",\"subtype\":\"Figure\",\"type\":\"Plot\"},\"source\":null,\"start\":null,\"x_end\":{\"value\":4},\"x_start\":{\"value\":1},\"y_end\":{\"value\":1},\"y_start\":{\"value\":2}},\"id\":\"95bf4368-c006-4434-b68d-2205a68c8740\",\"type\":\"Arrow\"},{\"attributes\":{},\"id\":\"e2d6c505-aa95-4832-81fc-2a5179c2885b\",\"type\":\"BasicTickFormatter\"},{\"attributes\":{\"dimension\":1,\"plot\":{\"id\":\"556d0d06-9404-42ed-a87d-be030528e986\",\"subtype\":\"Figure\",\"type\":\"Plot\"},\"ticker\":{\"id\":\"553cd114-83d8-474c-9a48-66b9cee98566\",\"type\":\"BasicTicker\"}},\"id\":\"4d66b09d-7244-4cbe-88b4-785f27d675e5\",\"type\":\"Grid\"},{\"attributes\":{\"fill_alpha\":{\"value\":0.3},\"fill_color\":{\"value\":\"purple\"},\"line_alpha\":{\"value\":0.3},\"line_color\":{\"value\":\"purple\"},\"plot\":null,\"size\":10},\"id\":\"3eb64216-0d9d-46a3-af83-97aab812504e\",\"type\":\"NormalHead\"},{\"attributes\":{},\"id\":\"aafac7b8-bbf2-4cda-982a-36966d9d09a1\",\"type\":\"ResetTool\"},{\"attributes\":{},\"id\":\"fbdfdb66-8241-49ee-bbf9-b670a024a6ed\",\"type\":\"BasicTickFormatter\"},{\"attributes\":{\"callback\":null,\"end\":4.8999999999999995,\"start\":-4.8999999999999995},\"id\":\"4dd80c60-7296-42fe-a002-2009da3cb721\",\"type\":\"Range1d\"},{\"attributes\":{\"plot\":{\"id\":\"556d0d06-9404-42ed-a87d-be030528e986\",\"subtype\":\"Figure\",\"type\":\"Plot\"},\"ticker\":{\"id\":\"baf2bdd1-6c46-4420-9f25-0a061a6a4acb\",\"type\":\"BasicTicker\"}},\"id\":\"863fec6f-628d-43a2-9667-890df34815cb\",\"type\":\"Grid\"},{\"attributes\":{\"source\":{\"id\":\"9e325b81-6200-420b-8fcf-e563d0cde1e5\",\"type\":\"ColumnDataSource\"}},\"id\":\"a18840e0-36ed-4415-b025-f530760d8c6b\",\"type\":\"CDSView\"},{\"attributes\":{\"data_source\":{\"id\":\"70f5b0b8-e818-4042-846e-5121bcdc2eac\",\"type\":\"ColumnDataSource\"},\"glyph\":{\"id\":\"d2d78dd0-d37a-4962-8364-bb93d20306f1\",\"type\":\"Line\"},\"hover_glyph\":null,\"muted_glyph\":null,\"nonselection_glyph\":{\"id\":\"bb5851a0-4f03-4fd9-a7bc-f0f7366d35bd\",\"type\":\"Line\"},\"selection_glyph\":null,\"view\":{\"id\":\"fff93bc8-8eae-4a98-bff0-0c6da2e852d0\",\"type\":\"CDSView\"}},\"id\":\"d7da6461-abc6-42af-a8ec-700ccef74cab\",\"type\":\"GlyphRenderer\"},{\"attributes\":{},\"id\":\"8f799e4e-ffe9-4d84-88a3-e40c76992c82\",\"type\":\"PanTool\"},{\"attributes\":{},\"id\":\"553cd114-83d8-474c-9a48-66b9cee98566\",\"type\":\"BasicTicker\"},{\"attributes\":{\"plot\":null,\"text\":\"\"},\"id\":\"30057763-0cf4-4910-a353-55e9cf81b4bd\",\"type\":\"Title\"},{\"attributes\":{\"source\":{\"id\":\"70f5b0b8-e818-4042-846e-5121bcdc2eac\",\"type\":\"ColumnDataSource\"}},\"id\":\"fff93bc8-8eae-4a98-bff0-0c6da2e852d0\",\"type\":\"CDSView\"},{\"attributes\":{\"formatter\":{\"id\":\"e2d6c505-aa95-4832-81fc-2a5179c2885b\",\"type\":\"BasicTickFormatter\"},\"plot\":{\"id\":\"556d0d06-9404-42ed-a87d-be030528e986\",\"subtype\":\"Figure\",\"type\":\"Plot\"},\"ticker\":{\"id\":\"553cd114-83d8-474c-9a48-66b9cee98566\",\"type\":\"BasicTicker\"}},\"id\":\"6089820e-5823-41f5-90c9-08309ef7a957\",\"type\":\"LinearAxis\"},{\"attributes\":{\"data_source\":{\"id\":\"9e325b81-6200-420b-8fcf-e563d0cde1e5\",\"type\":\"ColumnDataSource\"},\"glyph\":{\"id\":\"5a4fa5c9-426f-4508-b0a2-249c2a23c068\",\"type\":\"Line\"},\"hover_glyph\":null,\"muted_glyph\":null,\"nonselection_glyph\":{\"id\":\"59645523-aba8-4a02-b700-6200f5535dfa\",\"type\":\"Line\"},\"selection_glyph\":null,\"view\":{\"id\":\"a18840e0-36ed-4415-b025-f530760d8c6b\",\"type\":\"CDSView\"}},\"id\":\"507fc9be-3992-4ff5-9819-fe3d54ab19c3\",\"type\":\"GlyphRenderer\"},{\"attributes\":{},\"id\":\"f0919e5f-db3e-4b2d-ba5e-18df83c51fef\",\"type\":\"LinearScale\"},{\"attributes\":{},\"id\":\"ee82dd8a-5fa1-4517-b8fd-ec77784696c3\",\"type\":\"LinearScale\"},{\"attributes\":{\"callback\":null,\"end\":4.8999999999999995,\"start\":-4.8999999999999995},\"id\":\"2d9a3585-dde8-4475-927b-369c8c90f215\",\"type\":\"Range1d\"},{\"attributes\":{\"line_alpha\":0.1,\"line_color\":\"#1f77b4\",\"line_width\":1.5,\"x\":{\"field\":\"x\"},\"y\":{\"field\":\"y\"}},\"id\":\"59645523-aba8-4a02-b700-6200f5535dfa\",\"type\":\"Line\"},{\"attributes\":{\"callback\":null,\"data\":{\"x\":[0,0],\"y\":[-7,7]},\"selected\":{\"id\":\"6d9ac166-a67f-4f9c-a9d9-5d6d416721fd\",\"type\":\"Selection\"},\"selection_policy\":{\"id\":\"c81dc392-55fa-4e7f-9710-efaedba2a49a\",\"type\":\"UnionRenderers\"}},\"id\":\"9e325b81-6200-420b-8fcf-e563d0cde1e5\",\"type\":\"ColumnDataSource\"},{\"attributes\":{\"fill_color\":{\"value\":\"blue\"},\"line_color\":{\"value\":\"blue\"},\"plot\":null,\"size\":10},\"id\":\"814b5cc2-4cd7-4eb5-ab60-2c7f5edd656a\",\"type\":\"NormalHead\"},{\"attributes\":{\"below\":[{\"id\":\"4cfd6df3-b5f3-4d5e-8aa6-97373f028e36\",\"type\":\"LinearAxis\"}],\"left\":[{\"id\":\"6089820e-5823-41f5-90c9-08309ef7a957\",\"type\":\"LinearAxis\"}],\"plot_height\":400,\"plot_width\":400,\"renderers\":[{\"id\":\"4cfd6df3-b5f3-4d5e-8aa6-97373f028e36\",\"type\":\"LinearAxis\"},{\"id\":\"863fec6f-628d-43a2-9667-890df34815cb\",\"type\":\"Grid\"},{\"id\":\"6089820e-5823-41f5-90c9-08309ef7a957\",\"type\":\"LinearAxis\"},{\"id\":\"4d66b09d-7244-4cbe-88b4-785f27d675e5\",\"type\":\"Grid\"},{\"id\":\"507fc9be-3992-4ff5-9819-fe3d54ab19c3\",\"type\":\"GlyphRenderer\"},{\"id\":\"d7da6461-abc6-42af-a8ec-700ccef74cab\",\"type\":\"GlyphRenderer\"},{\"id\":\"54fdd962-f048-4a8a-8bb5-72e88532c33e\",\"type\":\"Arrow\"},{\"id\":\"732074a5-8235-4881-99ab-5f257bcd4a9e\",\"type\":\"Arrow\"},{\"id\":\"ceb4c4d0-ecdd-43c1-9afa-b63189f29b14\",\"type\":\"Arrow\"},{\"id\":\"214b1c97-0482-4ab8-bd8d-148c0cd7f9f6\",\"type\":\"Arrow\"},{\"id\":\"95bf4368-c006-4434-b68d-2205a68c8740\",\"type\":\"Arrow\"}],\"title\":{\"id\":\"30057763-0cf4-4910-a353-55e9cf81b4bd\",\"type\":\"Title\"},\"toolbar\":{\"id\":\"0653d02e-c4bd-482a-8634-d1a39829549a\",\"type\":\"Toolbar\"},\"x_range\":{\"id\":\"4dd80c60-7296-42fe-a002-2009da3cb721\",\"type\":\"Range1d\"},\"x_scale\":{\"id\":\"ee82dd8a-5fa1-4517-b8fd-ec77784696c3\",\"type\":\"LinearScale\"},\"y_range\":{\"id\":\"2d9a3585-dde8-4475-927b-369c8c90f215\",\"type\":\"Range1d\"},\"y_scale\":{\"id\":\"f0919e5f-db3e-4b2d-ba5e-18df83c51fef\",\"type\":\"LinearScale\"}},\"id\":\"556d0d06-9404-42ed-a87d-be030528e986\",\"subtype\":\"Figure\",\"type\":\"Plot\"},{\"attributes\":{\"fill_color\":{\"value\":\"orange\"},\"line_color\":{\"value\":\"orange\"},\"plot\":null,\"size\":10},\"id\":\"1067b22f-02ea-4668-8c9d-f14870ee6588\",\"type\":\"NormalHead\"},{\"attributes\":{\"end\":{\"id\":\"e244331b-95b5-493a-bf27-2c919ce43f2e\",\"type\":\"NormalHead\"},\"line_color\":{\"value\":\"green\"},\"line_width\":{\"value\":3},\"plot\":{\"id\":\"556d0d06-9404-42ed-a87d-be030528e986\",\"subtype\":\"Figure\",\"type\":\"Plot\"},\"source\":null,\"start\":null,\"x_end\":{\"value\":4},\"x_start\":{\"value\":0},\"y_end\":{\"value\":1},\"y_start\":{\"value\":0}},\"id\":\"ceb4c4d0-ecdd-43c1-9afa-b63189f29b14\",\"type\":\"Arrow\"},{\"attributes\":{\"end\":{\"id\":\"814b5cc2-4cd7-4eb5-ab60-2c7f5edd656a\",\"type\":\"NormalHead\"},\"line_color\":{\"value\":\"blue\"},\"line_width\":{\"value\":3},\"plot\":{\"id\":\"556d0d06-9404-42ed-a87d-be030528e986\",\"subtype\":\"Figure\",\"type\":\"Plot\"},\"source\":null,\"start\":null,\"x_end\":{\"value\":4},\"x_start\":{\"value\":0},\"y_end\":{\"value\":1},\"y_start\":{\"value\":0}},\"id\":\"54fdd962-f048-4a8a-8bb5-72e88532c33e\",\"type\":\"Arrow\"},{\"attributes\":{},\"id\":\"fee3b925-ec45-482c-8fea-3f22161a5ab9\",\"type\":\"Selection\"},{\"attributes\":{\"line_width\":1.5,\"x\":{\"field\":\"x\"},\"y\":{\"field\":\"y\"}},\"id\":\"5a4fa5c9-426f-4508-b0a2-249c2a23c068\",\"type\":\"Line\"},{\"attributes\":{},\"id\":\"baf2bdd1-6c46-4420-9f25-0a061a6a4acb\",\"type\":\"BasicTicker\"}],\"root_ids\":[\"556d0d06-9404-42ed-a87d-be030528e986\"]},\"title\":\"Bokeh Application\",\"version\":\"0.13.0\"}};\n",
       "  var render_items = [{\"docid\":\"94a60734-3c00-4580-8217-6702127ef58c\",\"roots\":{\"556d0d06-9404-42ed-a87d-be030528e986\":\"b68e6b94-a8e1-46e4-ac8e-ae353afec111\"}}];\n",
       "  root.Bokeh.embed.embed_items_notebook(docs_json, render_items);\n",
       "\n",
       "  }\n",
       "  if (root.Bokeh !== undefined) {\n",
       "    embed_document(root);\n",
       "  } else {\n",
       "    var attempts = 0;\n",
       "    var timer = setInterval(function(root) {\n",
       "      if (root.Bokeh !== undefined) {\n",
       "        embed_document(root);\n",
       "        clearInterval(timer);\n",
       "      }\n",
       "      attempts++;\n",
       "      if (attempts > 100) {\n",
       "        console.log(\"Bokeh: ERROR: Unable to run BokehJS code because BokehJS library is missing\")\n",
       "        clearInterval(timer);\n",
       "      }\n",
       "    }, 10, root)\n",
       "  }\n",
       "})(window);"
      ],
      "application/vnd.bokehjs_exec.v0+json": ""
     },
     "metadata": {
      "application/vnd.bokehjs_exec.v0+json": {
       "id": "556d0d06-9404-42ed-a87d-be030528e986"
      }
     },
     "output_type": "display_data"
    }
   ],
   "source": [
    "# Let's subtract the two vectors to get \n",
    "plot.subtract_vectors(a,b)\n",
    "plot.show()"
   ]
  },
  {
   "cell_type": "markdown",
   "metadata": {},
   "source": [
    "$$  \\left\\|  a - b \\right\\|^2 = \\left\\|  a \\right\\|^2 + \\left\\| b  \\right\\|^2 - 2\\left\\| a \\right\\| \\left\\| b \\right\\|\\cos{\\theta}  $$\n",
    "\n",
    "$$ (\\vec{a} - \\vec{b}) \\cdot (\\vec{a} - \\vec{b}) = \\left\\|  a \\right\\|^2 + \\left\\| b  \\right\\|^2 - 2\\left\\| a \\right\\| \\left\\| b \\right\\|\\cos{\\theta}  $$\n",
    "\n",
    "$$ \\vec{a}\\vec{a} - 2(\\vec{a} \\cdot \\vec{b}) + \\vec{b}\\vec{b} = \\left\\|  a \\right\\|^2 + \\left\\| b  \\right\\|^2 - 2\\left\\| a \\right\\| \\left\\| b \\right\\|\\cos{\\theta}  $$\n",
    "\n",
    "$$  \\left\\| a \\right\\|^2 - 2(\\vec{a} \\cdot \\vec{b}) + \\left\\| b \\right\\|^2 = \\left\\|  a \\right\\|^2 + \\left\\| b  \\right\\|^2 - 2\\left\\| a \\right\\| \\left\\| b \\right\\|\\cos{\\theta}  $$\n",
    "\n",
    "$$ \\vec{a} \\cdot \\vec{b} =  \\left\\| a \\right\\| \\left\\| b \\right\\|\\cos{\\theta} $$ "
   ]
  },
  {
   "cell_type": "markdown",
   "metadata": {},
   "source": [
    "#### In words, the dot product of two vectors is equal to the product of their lengths times the cosine of the angle between them. "
   ]
  },
  {
   "cell_type": "markdown",
   "metadata": {},
   "source": [
    "## Triangle Inequality\n",
    "\n",
    "An important rule to keep in mind: the sum of two sides of a triangle must always be greater than or equal to the third length. In linear algebra, we take this important property from trigonometry and apply it to N-dimensional space.\n",
    "\n",
    "$$ \\left\\| \\vec{a} + \\vec{b} \\right\\| \\le \\left\\| \\vec{a} \\right\\| + \\left\\|\\vec{b} \\right\\| $$"
   ]
  },
  {
   "cell_type": "markdown",
   "metadata": {},
   "source": [
    "## Orthogonal Vectors \n",
    "\n",
    "When the angle between two vectors is 90 degrees (i.e. when the vectors are pointing in the **opposite direction**) the $\\cos{\\theta} = 0$"
   ]
  },
  {
   "cell_type": "code",
   "execution_count": 11,
   "metadata": {},
   "outputs": [
    {
     "data": {
      "text/html": [
       "\n",
       "\n",
       "\n",
       "\n",
       "\n",
       "\n",
       "  <div class=\"bk-root\" id=\"bbb93b49-8d17-42e8-9a95-3eb546ac4b37\"></div>\n"
      ]
     },
     "metadata": {},
     "output_type": "display_data"
    },
    {
     "data": {
      "application/javascript": [
       "(function(root) {\n",
       "  function embed_document(root) {\n",
       "    \n",
       "  var docs_json = {\"e7058490-9f37-4e22-b7e5-bec0fc77b982\":{\"roots\":{\"references\":[{\"attributes\":{},\"id\":\"c7da15e8-31a6-40c7-b0ae-2b2a9ee87753\",\"type\":\"PanTool\"},{\"attributes\":{\"fill_color\":{\"value\":\"red\"},\"line_color\":{\"value\":\"red\"},\"plot\":null,\"size\":10},\"id\":\"b7557b6e-f45c-4dba-bfda-096b7252cd52\",\"type\":\"NormalHead\"},{\"attributes\":{\"source\":{\"id\":\"92af14c2-f05f-430e-8e91-3b88965de12b\",\"type\":\"ColumnDataSource\"}},\"id\":\"f1b28c49-2f22-46c4-8b16-12851405d396\",\"type\":\"CDSView\"},{\"attributes\":{\"data_source\":{\"id\":\"696c129c-83c8-42c8-8812-8d7534f31fcd\",\"type\":\"ColumnDataSource\"},\"glyph\":{\"id\":\"c5c548b3-ba34-41d1-86b7-e63f564cb7f3\",\"type\":\"Line\"},\"hover_glyph\":null,\"muted_glyph\":null,\"nonselection_glyph\":{\"id\":\"72774b0c-2873-4337-8205-ae9c9c21b7c6\",\"type\":\"Line\"},\"selection_glyph\":null,\"view\":{\"id\":\"cea64bf1-6543-4ec0-804f-0fbf1daeff98\",\"type\":\"CDSView\"}},\"id\":\"c6cbd589-0ef4-4afc-bc6c-11188efefca2\",\"type\":\"GlyphRenderer\"},{\"attributes\":{},\"id\":\"537702bc-6c7f-4fd6-b22c-772f3d59266c\",\"type\":\"BasicTicker\"},{\"attributes\":{},\"id\":\"356bb9e3-4046-4b38-a295-c051d116c26d\",\"type\":\"BasicTicker\"},{\"attributes\":{\"line_alpha\":0.1,\"line_color\":\"#1f77b4\",\"line_width\":1.5,\"x\":{\"field\":\"x\"},\"y\":{\"field\":\"y\"}},\"id\":\"72774b0c-2873-4337-8205-ae9c9c21b7c6\",\"type\":\"Line\"},{\"attributes\":{\"line_alpha\":0.1,\"line_color\":\"#1f77b4\",\"line_width\":1.5,\"x\":{\"field\":\"x\"},\"y\":{\"field\":\"y\"}},\"id\":\"dc62ecc4-97ba-4ad3-a067-98f110ef07f2\",\"type\":\"Line\"},{\"attributes\":{},\"id\":\"d5034e0c-e503-4d8e-b9b9-3e36e5a4b17c\",\"type\":\"UnionRenderers\"},{\"attributes\":{\"source\":{\"id\":\"696c129c-83c8-42c8-8812-8d7534f31fcd\",\"type\":\"ColumnDataSource\"}},\"id\":\"cea64bf1-6543-4ec0-804f-0fbf1daeff98\",\"type\":\"CDSView\"},{\"attributes\":{\"data_source\":{\"id\":\"92af14c2-f05f-430e-8e91-3b88965de12b\",\"type\":\"ColumnDataSource\"},\"glyph\":{\"id\":\"dace7935-4f19-4205-954b-bf1dd213e373\",\"type\":\"Line\"},\"hover_glyph\":null,\"muted_glyph\":null,\"nonselection_glyph\":{\"id\":\"dc62ecc4-97ba-4ad3-a067-98f110ef07f2\",\"type\":\"Line\"},\"selection_glyph\":null,\"view\":{\"id\":\"f1b28c49-2f22-46c4-8b16-12851405d396\",\"type\":\"CDSView\"}},\"id\":\"4afbb582-6b28-4ce7-9c7f-a23ebdfcd4c2\",\"type\":\"GlyphRenderer\"},{\"attributes\":{},\"id\":\"a300bf39-9ce9-4345-bea4-0913de29c5ba\",\"type\":\"BasicTickFormatter\"},{\"attributes\":{},\"id\":\"a19a8f63-bada-4038-9a05-fecfbcdb75ee\",\"type\":\"WheelZoomTool\"},{\"attributes\":{\"end\":{\"id\":\"12607c82-f007-479b-9466-8f2a73c9cb9f\",\"type\":\"NormalHead\"},\"line_color\":{\"value\":\"blue\"},\"line_width\":{\"value\":3},\"plot\":{\"id\":\"d9e9215f-1574-4e1e-b4b6-91675fc24035\",\"subtype\":\"Figure\",\"type\":\"Plot\"},\"source\":null,\"start\":null,\"x_end\":{\"value\":4},\"x_start\":{\"value\":0},\"y_end\":{\"value\":0},\"y_start\":{\"value\":0}},\"id\":\"e9eeed40-8f4a-49a2-9c6f-5ba30d88ff52\",\"type\":\"Arrow\"},{\"attributes\":{\"callback\":null,\"end\":7.0,\"start\":-7.0},\"id\":\"d8ef46a0-3246-4ae1-b611-2b4354153b19\",\"type\":\"Range1d\"},{\"attributes\":{},\"id\":\"7f4d1e13-e5d8-4c98-b6bd-fb43a4f83ed0\",\"type\":\"LinearScale\"},{\"attributes\":{\"dimension\":1,\"plot\":{\"id\":\"d9e9215f-1574-4e1e-b4b6-91675fc24035\",\"subtype\":\"Figure\",\"type\":\"Plot\"},\"ticker\":{\"id\":\"356bb9e3-4046-4b38-a295-c051d116c26d\",\"type\":\"BasicTicker\"}},\"id\":\"f183aa47-23b4-45ef-b028-074e537c3ed6\",\"type\":\"Grid\"},{\"attributes\":{},\"id\":\"83e11a38-c4f5-46ea-b85e-52481682e192\",\"type\":\"BasicTickFormatter\"},{\"attributes\":{\"plot\":{\"id\":\"d9e9215f-1574-4e1e-b4b6-91675fc24035\",\"subtype\":\"Figure\",\"type\":\"Plot\"},\"ticker\":{\"id\":\"537702bc-6c7f-4fd6-b22c-772f3d59266c\",\"type\":\"BasicTicker\"}},\"id\":\"4b20b8e8-ad84-4a2e-b1eb-46616e0f6af2\",\"type\":\"Grid\"},{\"attributes\":{\"line_width\":1.5,\"x\":{\"field\":\"x\"},\"y\":{\"field\":\"y\"}},\"id\":\"c5c548b3-ba34-41d1-86b7-e63f564cb7f3\",\"type\":\"Line\"},{\"attributes\":{\"line_width\":1.5,\"x\":{\"field\":\"x\"},\"y\":{\"field\":\"y\"}},\"id\":\"dace7935-4f19-4205-954b-bf1dd213e373\",\"type\":\"Line\"},{\"attributes\":{},\"id\":\"30caeb02-b8da-4b02-b4b4-162d8c808630\",\"type\":\"LinearScale\"},{\"attributes\":{},\"id\":\"f2fa3164-bcc3-4a6b-a478-3e53b697cd6b\",\"type\":\"ResetTool\"},{\"attributes\":{\"formatter\":{\"id\":\"83e11a38-c4f5-46ea-b85e-52481682e192\",\"type\":\"BasicTickFormatter\"},\"plot\":{\"id\":\"d9e9215f-1574-4e1e-b4b6-91675fc24035\",\"subtype\":\"Figure\",\"type\":\"Plot\"},\"ticker\":{\"id\":\"537702bc-6c7f-4fd6-b22c-772f3d59266c\",\"type\":\"BasicTicker\"}},\"id\":\"a16b65fc-45fa-461d-adce-435149c0ad5e\",\"type\":\"LinearAxis\"},{\"attributes\":{\"active_drag\":\"auto\",\"active_inspect\":\"auto\",\"active_multi\":null,\"active_scroll\":\"auto\",\"active_tap\":\"auto\",\"tools\":[{\"id\":\"a19a8f63-bada-4038-9a05-fecfbcdb75ee\",\"type\":\"WheelZoomTool\"},{\"id\":\"c7da15e8-31a6-40c7-b0ae-2b2a9ee87753\",\"type\":\"PanTool\"},{\"id\":\"f2fa3164-bcc3-4a6b-a478-3e53b697cd6b\",\"type\":\"ResetTool\"}]},\"id\":\"d25b468f-f31e-4208-9243-9b57ddd87edc\",\"type\":\"Toolbar\"},{\"attributes\":{\"plot\":null,\"text\":\"\"},\"id\":\"c6247dca-8a0a-4a25-ab6e-963456d43ff6\",\"type\":\"Title\"},{\"attributes\":{\"callback\":null,\"end\":7.0,\"start\":-7.0},\"id\":\"bf5ac818-08f5-42b9-ac18-bd47009087d1\",\"type\":\"Range1d\"},{\"attributes\":{\"fill_color\":{\"value\":\"blue\"},\"line_color\":{\"value\":\"blue\"},\"plot\":null,\"size\":10},\"id\":\"12607c82-f007-479b-9466-8f2a73c9cb9f\",\"type\":\"NormalHead\"},{\"attributes\":{\"formatter\":{\"id\":\"a300bf39-9ce9-4345-bea4-0913de29c5ba\",\"type\":\"BasicTickFormatter\"},\"plot\":{\"id\":\"d9e9215f-1574-4e1e-b4b6-91675fc24035\",\"subtype\":\"Figure\",\"type\":\"Plot\"},\"ticker\":{\"id\":\"356bb9e3-4046-4b38-a295-c051d116c26d\",\"type\":\"BasicTicker\"}},\"id\":\"9d38ecfd-d67d-4a89-8f82-2125d28ad984\",\"type\":\"LinearAxis\"},{\"attributes\":{\"callback\":null,\"data\":{\"x\":[0,0],\"y\":[-10,10]},\"selected\":{\"id\":\"9ce80e2c-a396-4088-b581-12859106633e\",\"type\":\"Selection\"},\"selection_policy\":{\"id\":\"b3951b31-2478-416d-9b9d-90b9288e9ce5\",\"type\":\"UnionRenderers\"}},\"id\":\"696c129c-83c8-42c8-8812-8d7534f31fcd\",\"type\":\"ColumnDataSource\"},{\"attributes\":{\"callback\":null,\"data\":{\"x\":[-10,10],\"y\":[0,0]},\"selected\":{\"id\":\"1424ce51-5cb9-4fd9-bf4b-f6a4d848fe22\",\"type\":\"Selection\"},\"selection_policy\":{\"id\":\"d5034e0c-e503-4d8e-b9b9-3e36e5a4b17c\",\"type\":\"UnionRenderers\"}},\"id\":\"92af14c2-f05f-430e-8e91-3b88965de12b\",\"type\":\"ColumnDataSource\"},{\"attributes\":{\"below\":[{\"id\":\"a16b65fc-45fa-461d-adce-435149c0ad5e\",\"type\":\"LinearAxis\"}],\"left\":[{\"id\":\"9d38ecfd-d67d-4a89-8f82-2125d28ad984\",\"type\":\"LinearAxis\"}],\"plot_height\":400,\"plot_width\":400,\"renderers\":[{\"id\":\"a16b65fc-45fa-461d-adce-435149c0ad5e\",\"type\":\"LinearAxis\"},{\"id\":\"4b20b8e8-ad84-4a2e-b1eb-46616e0f6af2\",\"type\":\"Grid\"},{\"id\":\"9d38ecfd-d67d-4a89-8f82-2125d28ad984\",\"type\":\"LinearAxis\"},{\"id\":\"f183aa47-23b4-45ef-b028-074e537c3ed6\",\"type\":\"Grid\"},{\"id\":\"c6cbd589-0ef4-4afc-bc6c-11188efefca2\",\"type\":\"GlyphRenderer\"},{\"id\":\"4afbb582-6b28-4ce7-9c7f-a23ebdfcd4c2\",\"type\":\"GlyphRenderer\"},{\"id\":\"e9eeed40-8f4a-49a2-9c6f-5ba30d88ff52\",\"type\":\"Arrow\"},{\"id\":\"d1352ef1-8b60-44ca-83ed-5916f7da4ed6\",\"type\":\"Arrow\"}],\"title\":{\"id\":\"c6247dca-8a0a-4a25-ab6e-963456d43ff6\",\"type\":\"Title\"},\"toolbar\":{\"id\":\"d25b468f-f31e-4208-9243-9b57ddd87edc\",\"type\":\"Toolbar\"},\"x_range\":{\"id\":\"bf5ac818-08f5-42b9-ac18-bd47009087d1\",\"type\":\"Range1d\"},\"x_scale\":{\"id\":\"7f4d1e13-e5d8-4c98-b6bd-fb43a4f83ed0\",\"type\":\"LinearScale\"},\"y_range\":{\"id\":\"d8ef46a0-3246-4ae1-b611-2b4354153b19\",\"type\":\"Range1d\"},\"y_scale\":{\"id\":\"30caeb02-b8da-4b02-b4b4-162d8c808630\",\"type\":\"LinearScale\"}},\"id\":\"d9e9215f-1574-4e1e-b4b6-91675fc24035\",\"subtype\":\"Figure\",\"type\":\"Plot\"},{\"attributes\":{\"end\":{\"id\":\"b7557b6e-f45c-4dba-bfda-096b7252cd52\",\"type\":\"NormalHead\"},\"line_color\":{\"value\":\"red\"},\"line_width\":{\"value\":3},\"plot\":{\"id\":\"d9e9215f-1574-4e1e-b4b6-91675fc24035\",\"subtype\":\"Figure\",\"type\":\"Plot\"},\"source\":null,\"start\":null,\"x_end\":{\"value\":0},\"x_start\":{\"value\":0},\"y_end\":{\"value\":5},\"y_start\":{\"value\":0}},\"id\":\"d1352ef1-8b60-44ca-83ed-5916f7da4ed6\",\"type\":\"Arrow\"},{\"attributes\":{},\"id\":\"1424ce51-5cb9-4fd9-bf4b-f6a4d848fe22\",\"type\":\"Selection\"},{\"attributes\":{},\"id\":\"b3951b31-2478-416d-9b9d-90b9288e9ce5\",\"type\":\"UnionRenderers\"},{\"attributes\":{},\"id\":\"9ce80e2c-a396-4088-b581-12859106633e\",\"type\":\"Selection\"}],\"root_ids\":[\"d9e9215f-1574-4e1e-b4b6-91675fc24035\"]},\"title\":\"Bokeh Application\",\"version\":\"0.13.0\"}};\n",
       "  var render_items = [{\"docid\":\"e7058490-9f37-4e22-b7e5-bec0fc77b982\",\"roots\":{\"d9e9215f-1574-4e1e-b4b6-91675fc24035\":\"bbb93b49-8d17-42e8-9a95-3eb546ac4b37\"}}];\n",
       "  root.Bokeh.embed.embed_items_notebook(docs_json, render_items);\n",
       "\n",
       "  }\n",
       "  if (root.Bokeh !== undefined) {\n",
       "    embed_document(root);\n",
       "  } else {\n",
       "    var attempts = 0;\n",
       "    var timer = setInterval(function(root) {\n",
       "      if (root.Bokeh !== undefined) {\n",
       "        embed_document(root);\n",
       "        clearInterval(timer);\n",
       "      }\n",
       "      attempts++;\n",
       "      if (attempts > 100) {\n",
       "        console.log(\"Bokeh: ERROR: Unable to run BokehJS code because BokehJS library is missing\")\n",
       "        clearInterval(timer);\n",
       "      }\n",
       "    }, 10, root)\n",
       "  }\n",
       "})(window);"
      ],
      "application/vnd.bokehjs_exec.v0+json": ""
     },
     "metadata": {
      "application/vnd.bokehjs_exec.v0+json": {
       "id": "d9e9215f-1574-4e1e-b4b6-91675fc24035"
      }
     },
     "output_type": "display_data"
    }
   ],
   "source": [
    "a = np.array([4,0])\n",
    "b = np.array([0,5])\n",
    "\n",
    "plot.clear().graph(10)\n",
    "plot.vector(a)\n",
    "plot.vector(b)\n",
    "plot.show()"
   ]
  },
  {
   "cell_type": "markdown",
   "metadata": {},
   "source": [
    "$$ \\vec{a} \\cdot \\vec{b} =  \\left\\| a \\right\\| \\left\\| b \\right\\|\\cos{90}$$ \n",
    "\n",
    "$$ \\vec{a} \\cdot \\vec{b} =  \\left\\| a \\right\\| \\left\\| b \\right\\|0$$ \n",
    "\n",
    "$$ \\vec{a} \\cdot \\vec{b} =  0 $$ "
   ]
  },
  {
   "cell_type": "code",
   "execution_count": 12,
   "metadata": {},
   "outputs": [
    {
     "data": {
      "text/plain": [
       "0"
      ]
     },
     "execution_count": 12,
     "metadata": {},
     "output_type": "execute_result"
    }
   ],
   "source": [
    "np.dot(a,b)"
   ]
  },
  {
   "cell_type": "markdown",
   "metadata": {},
   "source": [
    "This when we take the dot product between two vectors and they're corresponding dot product is 0, we know that the two vectors are orthogonal to one another."
   ]
  },
  {
   "cell_type": "code",
   "execution_count": 13,
   "metadata": {},
   "outputs": [
    {
     "data": {
      "text/html": [
       "\n",
       "\n",
       "\n",
       "\n",
       "\n",
       "\n",
       "  <div class=\"bk-root\" id=\"5ca1c395-a351-4bc7-a1da-7849c716383b\"></div>\n"
      ]
     },
     "metadata": {},
     "output_type": "display_data"
    },
    {
     "data": {
      "application/javascript": [
       "(function(root) {\n",
       "  function embed_document(root) {\n",
       "    \n",
       "  var docs_json = {\"ca2ead0d-ebf8-4a10-985e-1ef65c4b4c17\":{\"roots\":{\"references\":[{\"attributes\":{\"line_width\":1.5,\"x\":{\"field\":\"x\"},\"y\":{\"field\":\"y\"}},\"id\":\"83b425bf-de67-49b8-8ac4-df6f8a08dce9\",\"type\":\"Line\"},{\"attributes\":{\"active_drag\":\"auto\",\"active_inspect\":\"auto\",\"active_multi\":null,\"active_scroll\":\"auto\",\"active_tap\":\"auto\",\"tools\":[{\"id\":\"20dba8e3-e2ce-422e-b7a8-7d65fe78e406\",\"type\":\"WheelZoomTool\"},{\"id\":\"0cda87e6-2f32-4b22-8d4c-1eb2f2efa25f\",\"type\":\"PanTool\"},{\"id\":\"f3ca705d-3dbe-4933-b68f-827e02fb33d6\",\"type\":\"ResetTool\"}]},\"id\":\"d1c21877-72e7-4a7e-ac9b-e8db114632ce\",\"type\":\"Toolbar\"},{\"attributes\":{\"formatter\":{\"id\":\"fa462542-39cf-4893-add7-df9fa309d9c5\",\"type\":\"BasicTickFormatter\"},\"plot\":{\"id\":\"fee51d7c-5721-4dee-82b5-657e2856e933\",\"subtype\":\"Figure\",\"type\":\"Plot\"},\"ticker\":{\"id\":\"38edf062-1487-43db-aaed-268a666ec98f\",\"type\":\"BasicTicker\"}},\"id\":\"df020dcc-ee0a-400f-ba92-a36e347ce6e6\",\"type\":\"LinearAxis\"},{\"attributes\":{\"callback\":null,\"end\":7.0,\"start\":-7.0},\"id\":\"c8dab549-56f3-4980-9dae-b36f7af001c8\",\"type\":\"Range1d\"},{\"attributes\":{},\"id\":\"46cb9f3f-6742-4f79-b1b6-14972414a847\",\"type\":\"LinearScale\"},{\"attributes\":{\"plot\":null,\"text\":\"\"},\"id\":\"064b3b1e-74e2-496c-8d2a-009a3b42f9b5\",\"type\":\"Title\"},{\"attributes\":{\"plot\":{\"id\":\"fee51d7c-5721-4dee-82b5-657e2856e933\",\"subtype\":\"Figure\",\"type\":\"Plot\"},\"ticker\":{\"id\":\"7df2b56a-6ce5-424c-8178-bd54419c7fd5\",\"type\":\"BasicTicker\"}},\"id\":\"7460ab92-4984-4d88-989e-8721106c9a09\",\"type\":\"Grid\"},{\"attributes\":{\"callback\":null,\"end\":7.0,\"start\":-7.0},\"id\":\"f98c2e9e-a93f-476b-becc-45da93ba38e6\",\"type\":\"Range1d\"},{\"attributes\":{},\"id\":\"7df2b56a-6ce5-424c-8178-bd54419c7fd5\",\"type\":\"BasicTicker\"},{\"attributes\":{\"below\":[{\"id\":\"72c6e594-65ca-46dd-bb04-c2b3d805a294\",\"type\":\"LinearAxis\"}],\"left\":[{\"id\":\"df020dcc-ee0a-400f-ba92-a36e347ce6e6\",\"type\":\"LinearAxis\"}],\"plot_height\":400,\"plot_width\":400,\"renderers\":[{\"id\":\"72c6e594-65ca-46dd-bb04-c2b3d805a294\",\"type\":\"LinearAxis\"},{\"id\":\"7460ab92-4984-4d88-989e-8721106c9a09\",\"type\":\"Grid\"},{\"id\":\"df020dcc-ee0a-400f-ba92-a36e347ce6e6\",\"type\":\"LinearAxis\"},{\"id\":\"8728f59a-bb65-442a-a154-3da3b5008a97\",\"type\":\"Grid\"},{\"id\":\"9ac5fd3b-7423-4740-a36d-93c59970fffa\",\"type\":\"GlyphRenderer\"},{\"id\":\"66979451-e9e2-4716-8a2e-f1b754ccef67\",\"type\":\"GlyphRenderer\"},{\"id\":\"b6a3b6ea-7832-4cc3-9af4-6b432abcb351\",\"type\":\"Arrow\"},{\"id\":\"79e123aa-51d6-429c-9487-ece9431623b5\",\"type\":\"Arrow\"}],\"title\":{\"id\":\"064b3b1e-74e2-496c-8d2a-009a3b42f9b5\",\"type\":\"Title\"},\"toolbar\":{\"id\":\"d1c21877-72e7-4a7e-ac9b-e8db114632ce\",\"type\":\"Toolbar\"},\"x_range\":{\"id\":\"c8dab549-56f3-4980-9dae-b36f7af001c8\",\"type\":\"Range1d\"},\"x_scale\":{\"id\":\"80398b04-9561-4f67-aa17-c6db968ca112\",\"type\":\"LinearScale\"},\"y_range\":{\"id\":\"f98c2e9e-a93f-476b-becc-45da93ba38e6\",\"type\":\"Range1d\"},\"y_scale\":{\"id\":\"46cb9f3f-6742-4f79-b1b6-14972414a847\",\"type\":\"LinearScale\"}},\"id\":\"fee51d7c-5721-4dee-82b5-657e2856e933\",\"subtype\":\"Figure\",\"type\":\"Plot\"},{\"attributes\":{},\"id\":\"80398b04-9561-4f67-aa17-c6db968ca112\",\"type\":\"LinearScale\"},{\"attributes\":{\"callback\":null,\"data\":{\"x\":[0,0],\"y\":[-10,10]},\"selected\":{\"id\":\"20f150b1-3522-49cd-89c5-fea21c76c8b4\",\"type\":\"Selection\"},\"selection_policy\":{\"id\":\"6aa27c33-01ea-4ac1-88dc-345430a3b448\",\"type\":\"UnionRenderers\"}},\"id\":\"1e5a7adb-d98c-4c75-b005-f744c243a355\",\"type\":\"ColumnDataSource\"},{\"attributes\":{},\"id\":\"38edf062-1487-43db-aaed-268a666ec98f\",\"type\":\"BasicTicker\"},{\"attributes\":{\"dimension\":1,\"plot\":{\"id\":\"fee51d7c-5721-4dee-82b5-657e2856e933\",\"subtype\":\"Figure\",\"type\":\"Plot\"},\"ticker\":{\"id\":\"38edf062-1487-43db-aaed-268a666ec98f\",\"type\":\"BasicTicker\"}},\"id\":\"8728f59a-bb65-442a-a154-3da3b5008a97\",\"type\":\"Grid\"},{\"attributes\":{\"callback\":null,\"data\":{\"x\":[-10,10],\"y\":[0,0]},\"selected\":{\"id\":\"c128c8fc-9896-4e37-b83d-366cf38df23e\",\"type\":\"Selection\"},\"selection_policy\":{\"id\":\"c6b568aa-2aaa-406a-9072-905385ca9ae8\",\"type\":\"UnionRenderers\"}},\"id\":\"b71b90df-e859-49c8-ba36-0f83128537af\",\"type\":\"ColumnDataSource\"},{\"attributes\":{\"data_source\":{\"id\":\"1e5a7adb-d98c-4c75-b005-f744c243a355\",\"type\":\"ColumnDataSource\"},\"glyph\":{\"id\":\"83b425bf-de67-49b8-8ac4-df6f8a08dce9\",\"type\":\"Line\"},\"hover_glyph\":null,\"muted_glyph\":null,\"nonselection_glyph\":{\"id\":\"2b9d7504-6336-426f-8383-166e9f5d83cb\",\"type\":\"Line\"},\"selection_glyph\":null,\"view\":{\"id\":\"468b8330-e516-4b7f-b2e2-70bc90c57df6\",\"type\":\"CDSView\"}},\"id\":\"9ac5fd3b-7423-4740-a36d-93c59970fffa\",\"type\":\"GlyphRenderer\"},{\"attributes\":{},\"id\":\"20dba8e3-e2ce-422e-b7a8-7d65fe78e406\",\"type\":\"WheelZoomTool\"},{\"attributes\":{\"source\":{\"id\":\"1e5a7adb-d98c-4c75-b005-f744c243a355\",\"type\":\"ColumnDataSource\"}},\"id\":\"468b8330-e516-4b7f-b2e2-70bc90c57df6\",\"type\":\"CDSView\"},{\"attributes\":{},\"id\":\"0cda87e6-2f32-4b22-8d4c-1eb2f2efa25f\",\"type\":\"PanTool\"},{\"attributes\":{},\"id\":\"f3ca705d-3dbe-4933-b68f-827e02fb33d6\",\"type\":\"ResetTool\"},{\"attributes\":{\"line_alpha\":0.1,\"line_color\":\"#1f77b4\",\"line_width\":1.5,\"x\":{\"field\":\"x\"},\"y\":{\"field\":\"y\"}},\"id\":\"2b9d7504-6336-426f-8383-166e9f5d83cb\",\"type\":\"Line\"},{\"attributes\":{\"line_width\":1.5,\"x\":{\"field\":\"x\"},\"y\":{\"field\":\"y\"}},\"id\":\"13413dd8-d07d-469b-9a9a-9558893792ec\",\"type\":\"Line\"},{\"attributes\":{\"line_alpha\":0.1,\"line_color\":\"#1f77b4\",\"line_width\":1.5,\"x\":{\"field\":\"x\"},\"y\":{\"field\":\"y\"}},\"id\":\"3607c82e-fcfd-4a4c-9f4e-b1c2f5e3c262\",\"type\":\"Line\"},{\"attributes\":{\"data_source\":{\"id\":\"b71b90df-e859-49c8-ba36-0f83128537af\",\"type\":\"ColumnDataSource\"},\"glyph\":{\"id\":\"13413dd8-d07d-469b-9a9a-9558893792ec\",\"type\":\"Line\"},\"hover_glyph\":null,\"muted_glyph\":null,\"nonselection_glyph\":{\"id\":\"3607c82e-fcfd-4a4c-9f4e-b1c2f5e3c262\",\"type\":\"Line\"},\"selection_glyph\":null,\"view\":{\"id\":\"985de441-287f-4ee5-b3e5-c9a3f3cd6b2e\",\"type\":\"CDSView\"}},\"id\":\"66979451-e9e2-4716-8a2e-f1b754ccef67\",\"type\":\"GlyphRenderer\"},{\"attributes\":{\"source\":{\"id\":\"b71b90df-e859-49c8-ba36-0f83128537af\",\"type\":\"ColumnDataSource\"}},\"id\":\"985de441-287f-4ee5-b3e5-c9a3f3cd6b2e\",\"type\":\"CDSView\"},{\"attributes\":{\"formatter\":{\"id\":\"92f50738-8291-4e6d-8ddc-24dae7a3a758\",\"type\":\"BasicTickFormatter\"},\"plot\":{\"id\":\"fee51d7c-5721-4dee-82b5-657e2856e933\",\"subtype\":\"Figure\",\"type\":\"Plot\"},\"ticker\":{\"id\":\"7df2b56a-6ce5-424c-8178-bd54419c7fd5\",\"type\":\"BasicTicker\"}},\"id\":\"72c6e594-65ca-46dd-bb04-c2b3d805a294\",\"type\":\"LinearAxis\"},{\"attributes\":{\"fill_color\":{\"value\":\"red\"},\"line_color\":{\"value\":\"red\"},\"plot\":null,\"size\":10},\"id\":\"57aeb257-766a-4346-8e36-c4da97f89dd4\",\"type\":\"NormalHead\"},{\"attributes\":{\"end\":{\"id\":\"e75fe39c-56ef-4399-b275-b565c35a3124\",\"type\":\"NormalHead\"},\"line_color\":{\"value\":\"blue\"},\"line_width\":{\"value\":3},\"plot\":{\"id\":\"fee51d7c-5721-4dee-82b5-657e2856e933\",\"subtype\":\"Figure\",\"type\":\"Plot\"},\"source\":null,\"start\":null,\"x_end\":{\"value\":4},\"x_start\":{\"value\":0},\"y_end\":{\"value\":1},\"y_start\":{\"value\":0}},\"id\":\"b6a3b6ea-7832-4cc3-9af4-6b432abcb351\",\"type\":\"Arrow\"},{\"attributes\":{\"end\":{\"id\":\"57aeb257-766a-4346-8e36-c4da97f89dd4\",\"type\":\"NormalHead\"},\"line_color\":{\"value\":\"red\"},\"line_width\":{\"value\":3},\"plot\":{\"id\":\"fee51d7c-5721-4dee-82b5-657e2856e933\",\"subtype\":\"Figure\",\"type\":\"Plot\"},\"source\":null,\"start\":null,\"x_end\":{\"value\":1},\"x_start\":{\"value\":0},\"y_end\":{\"value\":5},\"y_start\":{\"value\":0}},\"id\":\"79e123aa-51d6-429c-9487-ece9431623b5\",\"type\":\"Arrow\"},{\"attributes\":{\"fill_color\":{\"value\":\"blue\"},\"line_color\":{\"value\":\"blue\"},\"plot\":null,\"size\":10},\"id\":\"e75fe39c-56ef-4399-b275-b565c35a3124\",\"type\":\"NormalHead\"},{\"attributes\":{},\"id\":\"6aa27c33-01ea-4ac1-88dc-345430a3b448\",\"type\":\"UnionRenderers\"},{\"attributes\":{},\"id\":\"92f50738-8291-4e6d-8ddc-24dae7a3a758\",\"type\":\"BasicTickFormatter\"},{\"attributes\":{},\"id\":\"fa462542-39cf-4893-add7-df9fa309d9c5\",\"type\":\"BasicTickFormatter\"},{\"attributes\":{},\"id\":\"20f150b1-3522-49cd-89c5-fea21c76c8b4\",\"type\":\"Selection\"},{\"attributes\":{},\"id\":\"c6b568aa-2aaa-406a-9072-905385ca9ae8\",\"type\":\"UnionRenderers\"},{\"attributes\":{},\"id\":\"c128c8fc-9896-4e37-b83d-366cf38df23e\",\"type\":\"Selection\"}],\"root_ids\":[\"fee51d7c-5721-4dee-82b5-657e2856e933\"]},\"title\":\"Bokeh Application\",\"version\":\"0.13.0\"}};\n",
       "  var render_items = [{\"docid\":\"ca2ead0d-ebf8-4a10-985e-1ef65c4b4c17\",\"roots\":{\"fee51d7c-5721-4dee-82b5-657e2856e933\":\"5ca1c395-a351-4bc7-a1da-7849c716383b\"}}];\n",
       "  root.Bokeh.embed.embed_items_notebook(docs_json, render_items);\n",
       "\n",
       "  }\n",
       "  if (root.Bokeh !== undefined) {\n",
       "    embed_document(root);\n",
       "  } else {\n",
       "    var attempts = 0;\n",
       "    var timer = setInterval(function(root) {\n",
       "      if (root.Bokeh !== undefined) {\n",
       "        embed_document(root);\n",
       "        clearInterval(timer);\n",
       "      }\n",
       "      attempts++;\n",
       "      if (attempts > 100) {\n",
       "        console.log(\"Bokeh: ERROR: Unable to run BokehJS code because BokehJS library is missing\")\n",
       "        clearInterval(timer);\n",
       "      }\n",
       "    }, 10, root)\n",
       "  }\n",
       "})(window);"
      ],
      "application/vnd.bokehjs_exec.v0+json": ""
     },
     "metadata": {
      "application/vnd.bokehjs_exec.v0+json": {
       "id": "fee51d7c-5721-4dee-82b5-657e2856e933"
      }
     },
     "output_type": "display_data"
    }
   ],
   "source": [
    "a = np.array([4,1])\n",
    "b = np.array([1,5])\n",
    "\n",
    "plot.clear().graph(10)\n",
    "plot.vector(a)\n",
    "plot.vector(b)\n",
    "plot.show()"
   ]
  },
  {
   "cell_type": "code",
   "execution_count": 14,
   "metadata": {},
   "outputs": [
    {
     "data": {
      "text/plain": [
       "9"
      ]
     },
     "execution_count": 14,
     "metadata": {},
     "output_type": "execute_result"
    }
   ],
   "source": [
    "np.dot(a,b)"
   ]
  },
  {
   "cell_type": "markdown",
   "metadata": {},
   "source": [
    "### Calculating the cosine\n",
    "\n",
    "$$ \\vec{a} \\cdot \\vec{b} =  \\left\\| a \\right\\| \\left\\| b \\right\\|\\cos{\\theta}$$\n",
    "\n",
    "$$ \\cos{\\theta} =  \\frac{\\vec{a} \\cdot \\vec{b}}{\\left\\| a \\right\\| \\left\\| b \\right\\|}$$"
   ]
  },
  {
   "cell_type": "code",
   "execution_count": 15,
   "metadata": {},
   "outputs": [],
   "source": [
    "def cosine(a,b):\n",
    "    cos = np.dot(a,b)/(np.sqrt(np.dot(a,a)) * np.sqrt(np.dot(b,b))  )\n",
    "    return cos"
   ]
  },
  {
   "cell_type": "code",
   "execution_count": 16,
   "metadata": {},
   "outputs": [
    {
     "data": {
      "text/plain": [
       "0.428"
      ]
     },
     "execution_count": 16,
     "metadata": {},
     "output_type": "execute_result"
    }
   ],
   "source": [
    "round(cosine(a,b),3)"
   ]
  },
  {
   "cell_type": "code",
   "execution_count": 17,
   "metadata": {},
   "outputs": [
    {
     "data": {
      "text/plain": [
       "9.0"
      ]
     },
     "execution_count": 17,
     "metadata": {},
     "output_type": "execute_result"
    }
   ],
   "source": [
    "# Let's reverse engineer this to get the dot product again.\n",
    "np.sqrt(a.dot(a)) * np.sqrt(b.dot(b)) * cosine(a,b)"
   ]
  },
  {
   "cell_type": "markdown",
   "metadata": {},
   "source": [
    "# Dot product as a projection\n",
    "\n",
    "We can think of the dot product of two vectors as the length of two vectors that **moves in the same direction**\n",
    "\n",
    "Imagine we cast a vector down from the tip of $\\vec{a}$ onto $\\vec{b}$ such that the angle between that vector (which we'll call $\\vec{v}$) and vector $\\vec{b}$ is orthogonal (90 degrees). "
   ]
  },
  {
   "cell_type": "code",
   "execution_count": 18,
   "metadata": {},
   "outputs": [
    {
     "data": {
      "text/html": [
       "\n",
       "\n",
       "\n",
       "\n",
       "\n",
       "\n",
       "  <div class=\"bk-root\" id=\"2b254c2a-d1b6-49e4-9edd-c2b99254dd35\"></div>\n"
      ]
     },
     "metadata": {},
     "output_type": "display_data"
    },
    {
     "data": {
      "application/javascript": [
       "(function(root) {\n",
       "  function embed_document(root) {\n",
       "    \n",
       "  var docs_json = {\"fefe278d-a0af-4cfd-9b76-f5e2fed87c9e\":{\"roots\":{\"references\":[{\"attributes\":{\"source\":{\"id\":\"09958c7c-4c65-4cb4-94d7-345eb00a40bc\",\"type\":\"ColumnDataSource\"}},\"id\":\"2edf606e-4cfc-4523-ac43-c4917eb69b20\",\"type\":\"CDSView\"},{\"attributes\":{},\"id\":\"32dc7dc4-a304-4fac-b432-e974bac7681b\",\"type\":\"BasicTickFormatter\"},{\"attributes\":{\"plot\":{\"id\":\"f6266c31-9e31-4797-a566-5d82953138c3\",\"subtype\":\"Figure\",\"type\":\"Plot\"},\"ticker\":{\"id\":\"58f3e8a2-9cc9-4073-85ee-3aeda3455c92\",\"type\":\"BasicTicker\"}},\"id\":\"17f45f88-fd79-4540-b57d-548c95310cf0\",\"type\":\"Grid\"},{\"attributes\":{},\"id\":\"d991cbad-52b7-403c-bc8c-99786605c14e\",\"type\":\"UnionRenderers\"},{\"attributes\":{\"callback\":null,\"end\":5.6,\"start\":-5.6},\"id\":\"ab87054d-489f-4e75-b749-9c5f47f6fab5\",\"type\":\"Range1d\"},{\"attributes\":{\"end\":{\"id\":\"f3e1adb9-d50b-4187-83d6-4ab52df7c629\",\"type\":\"NormalHead\"},\"line_alpha\":{\"value\":0.7},\"line_color\":{\"value\":\"blue\"},\"line_width\":{\"value\":3},\"plot\":{\"id\":\"f6266c31-9e31-4797-a566-5d82953138c3\",\"subtype\":\"Figure\",\"type\":\"Plot\"},\"source\":null,\"start\":null,\"x_end\":{\"value\":4},\"x_start\":{\"value\":0},\"y_end\":{\"value\":1},\"y_start\":{\"value\":0}},\"id\":\"fb6fc526-716e-4c43-b1e3-0b4ee1929ff9\",\"type\":\"Arrow\"},{\"attributes\":{\"fill_alpha\":{\"value\":0.4},\"fill_color\":{\"value\":\"grey\"},\"line_alpha\":{\"value\":0.4},\"line_color\":{\"value\":\"grey\"},\"plot\":null,\"size\":10},\"id\":\"899a4061-4c25-4118-89e1-eda8f2bef758\",\"type\":\"NormalHead\"},{\"attributes\":{},\"id\":\"aa649a7b-9ca6-407e-bf3a-9c275db3b4c8\",\"type\":\"Selection\"},{\"attributes\":{},\"id\":\"01513fce-c0e1-4014-8eff-71f606aabac7\",\"type\":\"LinearScale\"},{\"attributes\":{},\"id\":\"90cdfcbd-2180-4851-9217-ebeac5061112\",\"type\":\"Selection\"},{\"attributes\":{\"fill_alpha\":{\"value\":0.7},\"fill_color\":{\"value\":\"blue\"},\"line_alpha\":{\"value\":0.7},\"line_color\":{\"value\":\"blue\"},\"plot\":null,\"size\":10},\"id\":\"f3e1adb9-d50b-4187-83d6-4ab52df7c629\",\"type\":\"NormalHead\"},{\"attributes\":{},\"id\":\"6787ff4e-ad85-4b67-baad-917d0bac6a45\",\"type\":\"UnionRenderers\"},{\"attributes\":{\"source\":{\"id\":\"eecc4860-cb56-4204-98ad-53e3318056a4\",\"type\":\"ColumnDataSource\"}},\"id\":\"a5216f43-6e9c-4ed4-869b-a3059318dd65\",\"type\":\"CDSView\"},{\"attributes\":{\"end\":{\"id\":\"899a4061-4c25-4118-89e1-eda8f2bef758\",\"type\":\"NormalHead\"},\"line_alpha\":{\"value\":0.4},\"line_color\":{\"value\":\"grey\"},\"line_width\":{\"value\":3},\"plot\":{\"id\":\"f6266c31-9e31-4797-a566-5d82953138c3\",\"subtype\":\"Figure\",\"type\":\"Plot\"},\"source\":null,\"start\":null,\"x_end\":{\"value\":2.1176470588235294},\"x_start\":{\"value\":1},\"y_end\":{\"value\":0.5294117647058822},\"y_start\":{\"value\":5}},\"id\":\"8c36024e-cc21-4886-a09a-0322fcdc075d\",\"type\":\"Arrow\"},{\"attributes\":{\"below\":[{\"id\":\"4f419ae1-544d-43a3-9fc3-e518ec53f3a7\",\"type\":\"LinearAxis\"}],\"left\":[{\"id\":\"32e53dc1-6eb2-4e61-b60f-e02ba9ab011b\",\"type\":\"LinearAxis\"}],\"plot_height\":400,\"plot_width\":400,\"renderers\":[{\"id\":\"4f419ae1-544d-43a3-9fc3-e518ec53f3a7\",\"type\":\"LinearAxis\"},{\"id\":\"17f45f88-fd79-4540-b57d-548c95310cf0\",\"type\":\"Grid\"},{\"id\":\"32e53dc1-6eb2-4e61-b60f-e02ba9ab011b\",\"type\":\"LinearAxis\"},{\"id\":\"7c2f2c9c-592a-4ee1-9a41-f4ec24e99e44\",\"type\":\"Grid\"},{\"id\":\"0c008d56-d0b0-4f69-bc15-32fc285f4883\",\"type\":\"GlyphRenderer\"},{\"id\":\"fcf4ef59-d976-4364-aec8-d7868e4b3fac\",\"type\":\"GlyphRenderer\"},{\"id\":\"fb6fc526-716e-4c43-b1e3-0b4ee1929ff9\",\"type\":\"Arrow\"},{\"id\":\"3b8ea091-ab59-44e5-b736-50a9af0819f4\",\"type\":\"Arrow\"},{\"id\":\"9cc775c1-5880-41ec-a333-96028de4ce1f\",\"type\":\"Arrow\"},{\"id\":\"8c36024e-cc21-4886-a09a-0322fcdc075d\",\"type\":\"Arrow\"}],\"title\":{\"id\":\"dcb14722-e8a3-4836-92c8-7cde76da3b95\",\"type\":\"Title\"},\"toolbar\":{\"id\":\"b69931c3-365b-4397-b22d-ba5d05029fdb\",\"type\":\"Toolbar\"},\"x_range\":{\"id\":\"3f4bef08-c558-4fb1-9b88-7c939618b920\",\"type\":\"Range1d\"},\"x_scale\":{\"id\":\"014a7be7-75ba-4bfa-9867-52fad0eae732\",\"type\":\"LinearScale\"},\"y_range\":{\"id\":\"ab87054d-489f-4e75-b749-9c5f47f6fab5\",\"type\":\"Range1d\"},\"y_scale\":{\"id\":\"01513fce-c0e1-4014-8eff-71f606aabac7\",\"type\":\"LinearScale\"}},\"id\":\"f6266c31-9e31-4797-a566-5d82953138c3\",\"subtype\":\"Figure\",\"type\":\"Plot\"},{\"attributes\":{\"data_source\":{\"id\":\"09958c7c-4c65-4cb4-94d7-345eb00a40bc\",\"type\":\"ColumnDataSource\"},\"glyph\":{\"id\":\"a4d74e7a-c660-4dc2-a5fc-05e77e7c5264\",\"type\":\"Line\"},\"hover_glyph\":null,\"muted_glyph\":null,\"nonselection_glyph\":{\"id\":\"896e4f51-8d45-485f-ab98-ff07a68fb0e1\",\"type\":\"Line\"},\"selection_glyph\":null,\"view\":{\"id\":\"2edf606e-4cfc-4523-ac43-c4917eb69b20\",\"type\":\"CDSView\"}},\"id\":\"fcf4ef59-d976-4364-aec8-d7868e4b3fac\",\"type\":\"GlyphRenderer\"},{\"attributes\":{\"active_drag\":\"auto\",\"active_inspect\":\"auto\",\"active_multi\":null,\"active_scroll\":\"auto\",\"active_tap\":\"auto\",\"tools\":[{\"id\":\"0f6d22e8-66a0-49fe-bad1-5f1b9f8ab315\",\"type\":\"WheelZoomTool\"},{\"id\":\"e25da818-cc0b-48db-8911-d0c5b2c2ce39\",\"type\":\"PanTool\"},{\"id\":\"43ce3076-fd6b-408b-bd73-b664a80d941c\",\"type\":\"ResetTool\"}]},\"id\":\"b69931c3-365b-4397-b22d-ba5d05029fdb\",\"type\":\"Toolbar\"},{\"attributes\":{\"line_width\":1.5,\"x\":{\"field\":\"x\"},\"y\":{\"field\":\"y\"}},\"id\":\"a4d74e7a-c660-4dc2-a5fc-05e77e7c5264\",\"type\":\"Line\"},{\"attributes\":{},\"id\":\"e44d11d0-2a89-4544-88a5-8010ba9c835d\",\"type\":\"BasicTickFormatter\"},{\"attributes\":{\"end\":{\"id\":\"06cc75a7-1abb-4449-91ed-89b742ee7a60\",\"type\":\"NormalHead\"},\"line_width\":{\"value\":4},\"plot\":{\"id\":\"f6266c31-9e31-4797-a566-5d82953138c3\",\"subtype\":\"Figure\",\"type\":\"Plot\"},\"source\":null,\"start\":null,\"x_end\":{\"value\":2.1176470588235294},\"x_start\":{\"value\":0},\"y_end\":{\"value\":0.5294117647058824},\"y_start\":{\"value\":0}},\"id\":\"9cc775c1-5880-41ec-a333-96028de4ce1f\",\"type\":\"Arrow\"},{\"attributes\":{\"fill_alpha\":{\"value\":0.7},\"fill_color\":{\"value\":\"red\"},\"line_alpha\":{\"value\":0.7},\"line_color\":{\"value\":\"red\"},\"plot\":null,\"size\":10},\"id\":\"fb67937c-8e1c-4e92-8c07-1fbfc23f81f2\",\"type\":\"NormalHead\"},{\"attributes\":{\"line_alpha\":0.1,\"line_color\":\"#1f77b4\",\"line_width\":1.5,\"x\":{\"field\":\"x\"},\"y\":{\"field\":\"y\"}},\"id\":\"896e4f51-8d45-485f-ab98-ff07a68fb0e1\",\"type\":\"Line\"},{\"attributes\":{\"line_width\":1.5,\"x\":{\"field\":\"x\"},\"y\":{\"field\":\"y\"}},\"id\":\"15232c08-04d8-4f45-82a8-34596ee78327\",\"type\":\"Line\"},{\"attributes\":{\"callback\":null,\"data\":{\"x\":[-8,8],\"y\":[0,0]},\"selected\":{\"id\":\"aa649a7b-9ca6-407e-bf3a-9c275db3b4c8\",\"type\":\"Selection\"},\"selection_policy\":{\"id\":\"6787ff4e-ad85-4b67-baad-917d0bac6a45\",\"type\":\"UnionRenderers\"}},\"id\":\"09958c7c-4c65-4cb4-94d7-345eb00a40bc\",\"type\":\"ColumnDataSource\"},{\"attributes\":{\"formatter\":{\"id\":\"32dc7dc4-a304-4fac-b432-e974bac7681b\",\"type\":\"BasicTickFormatter\"},\"plot\":{\"id\":\"f6266c31-9e31-4797-a566-5d82953138c3\",\"subtype\":\"Figure\",\"type\":\"Plot\"},\"ticker\":{\"id\":\"58f3e8a2-9cc9-4073-85ee-3aeda3455c92\",\"type\":\"BasicTicker\"}},\"id\":\"4f419ae1-544d-43a3-9fc3-e518ec53f3a7\",\"type\":\"LinearAxis\"},{\"attributes\":{\"callback\":null,\"data\":{\"x\":[0,0],\"y\":[-8,8]},\"selected\":{\"id\":\"90cdfcbd-2180-4851-9217-ebeac5061112\",\"type\":\"Selection\"},\"selection_policy\":{\"id\":\"d991cbad-52b7-403c-bc8c-99786605c14e\",\"type\":\"UnionRenderers\"}},\"id\":\"eecc4860-cb56-4204-98ad-53e3318056a4\",\"type\":\"ColumnDataSource\"},{\"attributes\":{\"callback\":null,\"end\":5.6,\"start\":-5.6},\"id\":\"3f4bef08-c558-4fb1-9b88-7c939618b920\",\"type\":\"Range1d\"},{\"attributes\":{},\"id\":\"58f3e8a2-9cc9-4073-85ee-3aeda3455c92\",\"type\":\"BasicTicker\"},{\"attributes\":{\"formatter\":{\"id\":\"e44d11d0-2a89-4544-88a5-8010ba9c835d\",\"type\":\"BasicTickFormatter\"},\"plot\":{\"id\":\"f6266c31-9e31-4797-a566-5d82953138c3\",\"subtype\":\"Figure\",\"type\":\"Plot\"},\"ticker\":{\"id\":\"3e037350-5bb9-4f15-8c7d-b1c3a83b7763\",\"type\":\"BasicTicker\"}},\"id\":\"32e53dc1-6eb2-4e61-b60f-e02ba9ab011b\",\"type\":\"LinearAxis\"},{\"attributes\":{},\"id\":\"3e037350-5bb9-4f15-8c7d-b1c3a83b7763\",\"type\":\"BasicTicker\"},{\"attributes\":{},\"id\":\"43ce3076-fd6b-408b-bd73-b664a80d941c\",\"type\":\"ResetTool\"},{\"attributes\":{},\"id\":\"e25da818-cc0b-48db-8911-d0c5b2c2ce39\",\"type\":\"PanTool\"},{\"attributes\":{\"plot\":null,\"text\":\"\"},\"id\":\"dcb14722-e8a3-4836-92c8-7cde76da3b95\",\"type\":\"Title\"},{\"attributes\":{\"dimension\":1,\"plot\":{\"id\":\"f6266c31-9e31-4797-a566-5d82953138c3\",\"subtype\":\"Figure\",\"type\":\"Plot\"},\"ticker\":{\"id\":\"3e037350-5bb9-4f15-8c7d-b1c3a83b7763\",\"type\":\"BasicTicker\"}},\"id\":\"7c2f2c9c-592a-4ee1-9a41-f4ec24e99e44\",\"type\":\"Grid\"},{\"attributes\":{\"data_source\":{\"id\":\"eecc4860-cb56-4204-98ad-53e3318056a4\",\"type\":\"ColumnDataSource\"},\"glyph\":{\"id\":\"15232c08-04d8-4f45-82a8-34596ee78327\",\"type\":\"Line\"},\"hover_glyph\":null,\"muted_glyph\":null,\"nonselection_glyph\":{\"id\":\"21c8d881-64e8-45e9-a0e7-8d7ba6e0b25e\",\"type\":\"Line\"},\"selection_glyph\":null,\"view\":{\"id\":\"a5216f43-6e9c-4ed4-869b-a3059318dd65\",\"type\":\"CDSView\"}},\"id\":\"0c008d56-d0b0-4f69-bc15-32fc285f4883\",\"type\":\"GlyphRenderer\"},{\"attributes\":{},\"id\":\"014a7be7-75ba-4bfa-9867-52fad0eae732\",\"type\":\"LinearScale\"},{\"attributes\":{\"line_alpha\":0.1,\"line_color\":\"#1f77b4\",\"line_width\":1.5,\"x\":{\"field\":\"x\"},\"y\":{\"field\":\"y\"}},\"id\":\"21c8d881-64e8-45e9-a0e7-8d7ba6e0b25e\",\"type\":\"Line\"},{\"attributes\":{},\"id\":\"0f6d22e8-66a0-49fe-bad1-5f1b9f8ab315\",\"type\":\"WheelZoomTool\"},{\"attributes\":{\"plot\":null,\"size\":10},\"id\":\"06cc75a7-1abb-4449-91ed-89b742ee7a60\",\"type\":\"NormalHead\"},{\"attributes\":{\"end\":{\"id\":\"fb67937c-8e1c-4e92-8c07-1fbfc23f81f2\",\"type\":\"NormalHead\"},\"line_alpha\":{\"value\":0.7},\"line_color\":{\"value\":\"red\"},\"line_width\":{\"value\":3},\"plot\":{\"id\":\"f6266c31-9e31-4797-a566-5d82953138c3\",\"subtype\":\"Figure\",\"type\":\"Plot\"},\"source\":null,\"start\":null,\"x_end\":{\"value\":1},\"x_start\":{\"value\":0},\"y_end\":{\"value\":5},\"y_start\":{\"value\":0}},\"id\":\"3b8ea091-ab59-44e5-b736-50a9af0819f4\",\"type\":\"Arrow\"}],\"root_ids\":[\"f6266c31-9e31-4797-a566-5d82953138c3\"]},\"title\":\"Bokeh Application\",\"version\":\"0.13.0\"}};\n",
       "  var render_items = [{\"docid\":\"fefe278d-a0af-4cfd-9b76-f5e2fed87c9e\",\"roots\":{\"f6266c31-9e31-4797-a566-5d82953138c3\":\"2b254c2a-d1b6-49e4-9edd-c2b99254dd35\"}}];\n",
       "  root.Bokeh.embed.embed_items_notebook(docs_json, render_items);\n",
       "\n",
       "  }\n",
       "  if (root.Bokeh !== undefined) {\n",
       "    embed_document(root);\n",
       "  } else {\n",
       "    var attempts = 0;\n",
       "    var timer = setInterval(function(root) {\n",
       "      if (root.Bokeh !== undefined) {\n",
       "        embed_document(root);\n",
       "        clearInterval(timer);\n",
       "      }\n",
       "      attempts++;\n",
       "      if (attempts > 100) {\n",
       "        console.log(\"Bokeh: ERROR: Unable to run BokehJS code because BokehJS library is missing\")\n",
       "        clearInterval(timer);\n",
       "      }\n",
       "    }, 10, root)\n",
       "  }\n",
       "})(window);"
      ],
      "application/vnd.bokehjs_exec.v0+json": ""
     },
     "metadata": {
      "application/vnd.bokehjs_exec.v0+json": {
       "id": "f6266c31-9e31-4797-a566-5d82953138c3"
      }
     },
     "output_type": "display_data"
    }
   ],
   "source": [
    "plot.clear().graph(8)\n",
    "plot.projection(a,b)\n",
    "plot.show()"
   ]
  },
  {
   "cell_type": "markdown",
   "metadata": {},
   "source": [
    "What is the size the \"shadow\" cast by that vector onto $\\vec{b}$?\n",
    "\n",
    "$$ \\vec{v} = \\vec{a} - c\\vec{b} $$\n",
    "\n",
    "by design, $\\vec{b} \\cdot \\vec{v} = 0$\n",
    "\n",
    "\n",
    "$$ (\\vec{a}-c\\vec{b}) \\cdot \\vec{b}  = 0 $$ \n",
    "\n",
    "$$ \\vec{a} \\cdot \\vec{b} -c\\vec{b} \\cdot \\vec{b}  = 0 $$ \n",
    "\n",
    "$$ \\vec{a} \\cdot \\vec{b} = c\\vec{b} \\cdot \\vec{b}  $$ \n",
    "\n",
    "$$ \\frac{\\vec{a} \\cdot \\vec{b}}{\\vec{b} \\cdot \\vec{b}} = c  $$ \n",
    "\n",
    "$$ c = \\frac{\\vec{a} \\cdot \\vec{b}}{\\left\\| b \\right\\|^2} $$ \n",
    "\n",
    "\n",
    "Thus, our \"shadow\" vector is merely a scaled version of $\\vec{b}$\n",
    "\n",
    "$$ shadow = c\\vec{b}$$\n",
    "\n",
    "$\\vec{a}$ is moving in the direction of $\\vec{b}$ by  $c\\vec{b}$\n",
    "\n",
    "\n",
    "\n",
    "\n",
    "**Applied**: What is the size of the projection of $\\vec{a}$ onto $\\vec{b}$ ?"
   ]
  },
  {
   "cell_type": "code",
   "execution_count": 33,
   "metadata": {},
   "outputs": [
    {
     "data": {
      "text/plain": [
       "array([0.34615385, 1.73076923])"
      ]
     },
     "execution_count": 33,
     "metadata": {},
     "output_type": "execute_result"
    }
   ],
   "source": [
    "c = np.dot(a,b)/np.dot(b,b)\n",
    "projection_vector = c*b\n",
    "\n",
    "projection_vector"
   ]
  },
  {
   "cell_type": "markdown",
   "metadata": {},
   "source": [
    "### What is this really?\n",
    "The projection is equal to the cosine if we normalize the vectors. That is, if we reset the vectors so that their lengths are equal to 1. This puts the vectors onto the unit circle.\n",
    "\n",
    "To **normalize** a vector, we scale the vector by its length.\n",
    "\n",
    "$$ \\vec{a}_{norm} = \\frac{1}{\\left\\| a \\right\\|} \\vec{a} $$\n",
    "\n",
    "where \n",
    "\n",
    "$$ \\left\\| \\vec{a}_{norm} \\right\\| = 1 $$"
   ]
  },
  {
   "cell_type": "code",
   "execution_count": 19,
   "metadata": {},
   "outputs": [],
   "source": [
    "a_norm = 1/np.sqrt(np.dot(a,a))*a\n",
    "b_norm = 1/np.sqrt(np.dot(b,b))*b"
   ]
  },
  {
   "cell_type": "code",
   "execution_count": 20,
   "metadata": {},
   "outputs": [
    {
     "data": {
      "text/html": [
       "\n",
       "\n",
       "\n",
       "\n",
       "\n",
       "\n",
       "  <div class=\"bk-root\" id=\"e2c53855-c763-47dc-b197-39766e02d140\"></div>\n"
      ]
     },
     "metadata": {},
     "output_type": "display_data"
    },
    {
     "data": {
      "application/javascript": [
       "(function(root) {\n",
       "  function embed_document(root) {\n",
       "    \n",
       "  var docs_json = {\"ef30f961-20ed-4a6d-958d-318ed1c489fc\":{\"roots\":{\"references\":[{\"attributes\":{},\"id\":\"66d418a8-c8f2-4901-a4f0-ee385e45356e\",\"type\":\"LinearScale\"},{\"attributes\":{\"end\":{\"id\":\"9a297b1a-0bb0-416a-a6df-8212ad0de1a1\",\"type\":\"NormalHead\"},\"line_alpha\":{\"value\":0.7},\"line_color\":{\"value\":\"blue\"},\"line_width\":{\"value\":3},\"plot\":{\"id\":\"11d67713-e10a-4d3c-a03e-c6f84e3dd470\",\"subtype\":\"Figure\",\"type\":\"Plot\"},\"source\":null,\"start\":null,\"x_end\":{\"value\":0.9701425001453319},\"x_start\":{\"value\":0},\"y_end\":{\"value\":0.24253562503633297},\"y_start\":{\"value\":0}},\"id\":\"486c8720-ef0a-40fe-8715-b85d4ce993a9\",\"type\":\"Arrow\"},{\"attributes\":{},\"id\":\"1f370fdf-9730-49aa-b787-7b89b31706aa\",\"type\":\"LinearScale\"},{\"attributes\":{\"callback\":null,\"data\":{\"x\":[0,0],\"y\":[-2,2]},\"selected\":{\"id\":\"f84dd895-ff27-4ced-960a-8ecafc703240\",\"type\":\"Selection\"},\"selection_policy\":{\"id\":\"3f71d0d1-f8c1-4681-b2af-f463ad959554\",\"type\":\"UnionRenderers\"}},\"id\":\"40b8b5e3-4f3e-4ad4-8dbe-4e142914522c\",\"type\":\"ColumnDataSource\"},{\"attributes\":{\"formatter\":{\"id\":\"1f98aa8d-185c-47ae-bd62-0f203a3ad465\",\"type\":\"BasicTickFormatter\"},\"plot\":{\"id\":\"11d67713-e10a-4d3c-a03e-c6f84e3dd470\",\"subtype\":\"Figure\",\"type\":\"Plot\"},\"ticker\":{\"id\":\"0ef08b27-760b-411d-bf60-21a863cffa99\",\"type\":\"BasicTicker\"}},\"id\":\"435d4a46-58d7-4327-bcde-c361361ecf5e\",\"type\":\"LinearAxis\"},{\"attributes\":{},\"id\":\"7dcd80af-e2c3-4812-be39-580d4d5629ce\",\"type\":\"WheelZoomTool\"},{\"attributes\":{\"source\":{\"id\":\"40b8b5e3-4f3e-4ad4-8dbe-4e142914522c\",\"type\":\"ColumnDataSource\"}},\"id\":\"b208a7b2-5b70-4308-9cc9-09c9debad59e\",\"type\":\"CDSView\"},{\"attributes\":{\"end\":{\"id\":\"0fbf8b9b-f6aa-485e-b714-471ada799b3c\",\"type\":\"NormalHead\"},\"line_alpha\":{\"value\":0.4},\"line_color\":{\"value\":\"grey\"},\"line_width\":{\"value\":3},\"plot\":{\"id\":\"11d67713-e10a-4d3c-a03e-c6f84e3dd470\",\"subtype\":\"Figure\",\"type\":\"Plot\"},\"source\":null,\"start\":null,\"x_end\":{\"value\":0.41530475676321327},\"x_start\":{\"value\":0.19611613513818404},\"y_end\":{\"value\":0.10382618919080333},\"y_start\":{\"value\":0.9805806756909202}},\"id\":\"3ed56212-3efb-4670-b8d5-c22dfee40cdd\",\"type\":\"Arrow\"},{\"attributes\":{\"fill_alpha\":{\"value\":0.7},\"fill_color\":{\"value\":\"red\"},\"line_alpha\":{\"value\":0.7},\"line_color\":{\"value\":\"red\"},\"plot\":null,\"size\":10},\"id\":\"927b6606-6eb6-4561-a70d-15b7be8f7b41\",\"type\":\"NormalHead\"},{\"attributes\":{\"data_source\":{\"id\":\"175baf5f-d83c-46e9-8fc8-088cf374ea78\",\"type\":\"ColumnDataSource\"},\"glyph\":{\"id\":\"f757dd03-7156-4f59-9382-0d25738f79db\",\"type\":\"Line\"},\"hover_glyph\":null,\"muted_glyph\":null,\"nonselection_glyph\":{\"id\":\"24fc99e7-e043-4996-a3bc-89457cc3f918\",\"type\":\"Line\"},\"selection_glyph\":null,\"view\":{\"id\":\"22c6c215-1f8b-4008-a6a1-c57e9d857810\",\"type\":\"CDSView\"}},\"id\":\"d87c24c1-843a-4dd3-a505-e0cc7180f7d4\",\"type\":\"GlyphRenderer\"},{\"attributes\":{\"line_alpha\":0.1,\"line_color\":\"#1f77b4\",\"line_width\":1.5,\"x\":{\"field\":\"x\"},\"y\":{\"field\":\"y\"}},\"id\":\"ac191480-e705-4e35-bf2c-9e9ef181b6d0\",\"type\":\"Line\"},{\"attributes\":{\"line_width\":1.5,\"x\":{\"field\":\"x\"},\"y\":{\"field\":\"y\"}},\"id\":\"f757dd03-7156-4f59-9382-0d25738f79db\",\"type\":\"Line\"},{\"attributes\":{\"line_alpha\":0.1,\"line_color\":\"#1f77b4\",\"line_width\":1.5,\"x\":{\"field\":\"x\"},\"y\":{\"field\":\"y\"}},\"id\":\"24fc99e7-e043-4996-a3bc-89457cc3f918\",\"type\":\"Line\"},{\"attributes\":{\"source\":{\"id\":\"175baf5f-d83c-46e9-8fc8-088cf374ea78\",\"type\":\"ColumnDataSource\"}},\"id\":\"22c6c215-1f8b-4008-a6a1-c57e9d857810\",\"type\":\"CDSView\"},{\"attributes\":{},\"id\":\"f53736da-77e3-47e1-897b-1f13ba15464d\",\"type\":\"PanTool\"},{\"attributes\":{},\"id\":\"1f98aa8d-185c-47ae-bd62-0f203a3ad465\",\"type\":\"BasicTickFormatter\"},{\"attributes\":{\"formatter\":{\"id\":\"7749306d-897f-439b-851e-813d273e1492\",\"type\":\"BasicTickFormatter\"},\"plot\":{\"id\":\"11d67713-e10a-4d3c-a03e-c6f84e3dd470\",\"subtype\":\"Figure\",\"type\":\"Plot\"},\"ticker\":{\"id\":\"17998e85-bcd8-4bab-85b6-b56dc6f0b372\",\"type\":\"BasicTicker\"}},\"id\":\"e7f6faa4-7524-454b-b8ea-302d6bb50d95\",\"type\":\"LinearAxis\"},{\"attributes\":{\"callback\":null,\"end\":1.4,\"start\":-1.4},\"id\":\"cfd4c773-5b78-4027-ad5d-897b47c3e38b\",\"type\":\"Range1d\"},{\"attributes\":{},\"id\":\"9a97eee2-49ff-4044-99b8-3fb22ce80b60\",\"type\":\"ResetTool\"},{\"attributes\":{},\"id\":\"3f71d0d1-f8c1-4681-b2af-f463ad959554\",\"type\":\"UnionRenderers\"},{\"attributes\":{},\"id\":\"17998e85-bcd8-4bab-85b6-b56dc6f0b372\",\"type\":\"BasicTicker\"},{\"attributes\":{\"active_drag\":\"auto\",\"active_inspect\":\"auto\",\"active_multi\":null,\"active_scroll\":\"auto\",\"active_tap\":\"auto\",\"tools\":[{\"id\":\"7dcd80af-e2c3-4812-be39-580d4d5629ce\",\"type\":\"WheelZoomTool\"},{\"id\":\"f53736da-77e3-47e1-897b-1f13ba15464d\",\"type\":\"PanTool\"},{\"id\":\"9a97eee2-49ff-4044-99b8-3fb22ce80b60\",\"type\":\"ResetTool\"}]},\"id\":\"634d52a6-55b1-472f-8a97-7aa6bc3862f5\",\"type\":\"Toolbar\"},{\"attributes\":{\"data_source\":{\"id\":\"40b8b5e3-4f3e-4ad4-8dbe-4e142914522c\",\"type\":\"ColumnDataSource\"},\"glyph\":{\"id\":\"bfc52ab5-ae5b-474f-9cee-25eba5da5b2b\",\"type\":\"Line\"},\"hover_glyph\":null,\"muted_glyph\":null,\"nonselection_glyph\":{\"id\":\"ac191480-e705-4e35-bf2c-9e9ef181b6d0\",\"type\":\"Line\"},\"selection_glyph\":null,\"view\":{\"id\":\"b208a7b2-5b70-4308-9cc9-09c9debad59e\",\"type\":\"CDSView\"}},\"id\":\"1feeb494-e5d5-4415-8395-69487a3809a0\",\"type\":\"GlyphRenderer\"},{\"attributes\":{\"callback\":null,\"data\":{\"x\":[-2,2],\"y\":[0,0]},\"selected\":{\"id\":\"792c50ce-f81b-42dc-9423-5a1cb8d88a06\",\"type\":\"Selection\"},\"selection_policy\":{\"id\":\"d75d7fd5-d96a-4620-8a44-c17e83e14fef\",\"type\":\"UnionRenderers\"}},\"id\":\"175baf5f-d83c-46e9-8fc8-088cf374ea78\",\"type\":\"ColumnDataSource\"},{\"attributes\":{\"callback\":null,\"end\":1.4,\"start\":-1.4},\"id\":\"a0786c78-bdd2-4ab9-b889-613916333fae\",\"type\":\"Range1d\"},{\"attributes\":{},\"id\":\"792c50ce-f81b-42dc-9423-5a1cb8d88a06\",\"type\":\"Selection\"},{\"attributes\":{},\"id\":\"0ef08b27-760b-411d-bf60-21a863cffa99\",\"type\":\"BasicTicker\"},{\"attributes\":{\"fill_alpha\":{\"value\":0.7},\"fill_color\":{\"value\":\"blue\"},\"line_alpha\":{\"value\":0.7},\"line_color\":{\"value\":\"blue\"},\"plot\":null,\"size\":10},\"id\":\"9a297b1a-0bb0-416a-a6df-8212ad0de1a1\",\"type\":\"NormalHead\"},{\"attributes\":{},\"id\":\"d75d7fd5-d96a-4620-8a44-c17e83e14fef\",\"type\":\"UnionRenderers\"},{\"attributes\":{\"plot\":null,\"text\":\"\"},\"id\":\"fa0b846a-9018-43a2-bf83-1e30f0e3398b\",\"type\":\"Title\"},{\"attributes\":{\"line_width\":1.5,\"x\":{\"field\":\"x\"},\"y\":{\"field\":\"y\"}},\"id\":\"bfc52ab5-ae5b-474f-9cee-25eba5da5b2b\",\"type\":\"Line\"},{\"attributes\":{},\"id\":\"f84dd895-ff27-4ced-960a-8ecafc703240\",\"type\":\"Selection\"},{\"attributes\":{\"end\":{\"id\":\"05c5935f-8e97-4212-8896-381a0b4770bc\",\"type\":\"NormalHead\"},\"line_width\":{\"value\":4},\"plot\":{\"id\":\"11d67713-e10a-4d3c-a03e-c6f84e3dd470\",\"subtype\":\"Figure\",\"type\":\"Plot\"},\"source\":null,\"start\":null,\"x_end\":{\"value\":0.41530475676321327},\"x_start\":{\"value\":0},\"y_end\":{\"value\":0.10382618919080332},\"y_start\":{\"value\":0}},\"id\":\"4f175bae-66f8-4a2f-bdde-85fed3e954b4\",\"type\":\"Arrow\"},{\"attributes\":{\"below\":[{\"id\":\"435d4a46-58d7-4327-bcde-c361361ecf5e\",\"type\":\"LinearAxis\"}],\"left\":[{\"id\":\"e7f6faa4-7524-454b-b8ea-302d6bb50d95\",\"type\":\"LinearAxis\"}],\"plot_height\":400,\"plot_width\":400,\"renderers\":[{\"id\":\"435d4a46-58d7-4327-bcde-c361361ecf5e\",\"type\":\"LinearAxis\"},{\"id\":\"8d9fa4b2-e0bb-40a6-bc2d-1395e7a9ec4f\",\"type\":\"Grid\"},{\"id\":\"e7f6faa4-7524-454b-b8ea-302d6bb50d95\",\"type\":\"LinearAxis\"},{\"id\":\"cd47241a-3366-40bf-b24c-edf79d6c5ebe\",\"type\":\"Grid\"},{\"id\":\"1feeb494-e5d5-4415-8395-69487a3809a0\",\"type\":\"GlyphRenderer\"},{\"id\":\"d87c24c1-843a-4dd3-a505-e0cc7180f7d4\",\"type\":\"GlyphRenderer\"},{\"id\":\"486c8720-ef0a-40fe-8715-b85d4ce993a9\",\"type\":\"Arrow\"},{\"id\":\"9876fbdf-805a-4735-92f6-2428519c5e05\",\"type\":\"Arrow\"},{\"id\":\"4f175bae-66f8-4a2f-bdde-85fed3e954b4\",\"type\":\"Arrow\"},{\"id\":\"3ed56212-3efb-4670-b8d5-c22dfee40cdd\",\"type\":\"Arrow\"}],\"title\":{\"id\":\"fa0b846a-9018-43a2-bf83-1e30f0e3398b\",\"type\":\"Title\"},\"toolbar\":{\"id\":\"634d52a6-55b1-472f-8a97-7aa6bc3862f5\",\"type\":\"Toolbar\"},\"x_range\":{\"id\":\"a0786c78-bdd2-4ab9-b889-613916333fae\",\"type\":\"Range1d\"},\"x_scale\":{\"id\":\"1f370fdf-9730-49aa-b787-7b89b31706aa\",\"type\":\"LinearScale\"},\"y_range\":{\"id\":\"cfd4c773-5b78-4027-ad5d-897b47c3e38b\",\"type\":\"Range1d\"},\"y_scale\":{\"id\":\"66d418a8-c8f2-4901-a4f0-ee385e45356e\",\"type\":\"LinearScale\"}},\"id\":\"11d67713-e10a-4d3c-a03e-c6f84e3dd470\",\"subtype\":\"Figure\",\"type\":\"Plot\"},{\"attributes\":{\"fill_alpha\":{\"value\":0.4},\"fill_color\":{\"value\":\"grey\"},\"line_alpha\":{\"value\":0.4},\"line_color\":{\"value\":\"grey\"},\"plot\":null,\"size\":10},\"id\":\"0fbf8b9b-f6aa-485e-b714-471ada799b3c\",\"type\":\"NormalHead\"},{\"attributes\":{\"end\":{\"id\":\"927b6606-6eb6-4561-a70d-15b7be8f7b41\",\"type\":\"NormalHead\"},\"line_alpha\":{\"value\":0.7},\"line_color\":{\"value\":\"red\"},\"line_width\":{\"value\":3},\"plot\":{\"id\":\"11d67713-e10a-4d3c-a03e-c6f84e3dd470\",\"subtype\":\"Figure\",\"type\":\"Plot\"},\"source\":null,\"start\":null,\"x_end\":{\"value\":0.19611613513818404},\"x_start\":{\"value\":0},\"y_end\":{\"value\":0.9805806756909202},\"y_start\":{\"value\":0}},\"id\":\"9876fbdf-805a-4735-92f6-2428519c5e05\",\"type\":\"Arrow\"},{\"attributes\":{\"plot\":{\"id\":\"11d67713-e10a-4d3c-a03e-c6f84e3dd470\",\"subtype\":\"Figure\",\"type\":\"Plot\"},\"ticker\":{\"id\":\"0ef08b27-760b-411d-bf60-21a863cffa99\",\"type\":\"BasicTicker\"}},\"id\":\"8d9fa4b2-e0bb-40a6-bc2d-1395e7a9ec4f\",\"type\":\"Grid\"},{\"attributes\":{\"plot\":null,\"size\":10},\"id\":\"05c5935f-8e97-4212-8896-381a0b4770bc\",\"type\":\"NormalHead\"},{\"attributes\":{\"dimension\":1,\"plot\":{\"id\":\"11d67713-e10a-4d3c-a03e-c6f84e3dd470\",\"subtype\":\"Figure\",\"type\":\"Plot\"},\"ticker\":{\"id\":\"17998e85-bcd8-4bab-85b6-b56dc6f0b372\",\"type\":\"BasicTicker\"}},\"id\":\"cd47241a-3366-40bf-b24c-edf79d6c5ebe\",\"type\":\"Grid\"},{\"attributes\":{},\"id\":\"7749306d-897f-439b-851e-813d273e1492\",\"type\":\"BasicTickFormatter\"}],\"root_ids\":[\"11d67713-e10a-4d3c-a03e-c6f84e3dd470\"]},\"title\":\"Bokeh Application\",\"version\":\"0.13.0\"}};\n",
       "  var render_items = [{\"docid\":\"ef30f961-20ed-4a6d-958d-318ed1c489fc\",\"roots\":{\"11d67713-e10a-4d3c-a03e-c6f84e3dd470\":\"e2c53855-c763-47dc-b197-39766e02d140\"}}];\n",
       "  root.Bokeh.embed.embed_items_notebook(docs_json, render_items);\n",
       "\n",
       "  }\n",
       "  if (root.Bokeh !== undefined) {\n",
       "    embed_document(root);\n",
       "  } else {\n",
       "    var attempts = 0;\n",
       "    var timer = setInterval(function(root) {\n",
       "      if (root.Bokeh !== undefined) {\n",
       "        embed_document(root);\n",
       "        clearInterval(timer);\n",
       "      }\n",
       "      attempts++;\n",
       "      if (attempts > 100) {\n",
       "        console.log(\"Bokeh: ERROR: Unable to run BokehJS code because BokehJS library is missing\")\n",
       "        clearInterval(timer);\n",
       "      }\n",
       "    }, 10, root)\n",
       "  }\n",
       "})(window);"
      ],
      "application/vnd.bokehjs_exec.v0+json": ""
     },
     "metadata": {
      "application/vnd.bokehjs_exec.v0+json": {
       "id": "11d67713-e10a-4d3c-a03e-c6f84e3dd470"
      }
     },
     "output_type": "display_data"
    }
   ],
   "source": [
    "plot.clear().graph(2)\n",
    "plot.projection(a_norm,b_norm)\n",
    "plot.show()"
   ]
  },
  {
   "cell_type": "code",
   "execution_count": 21,
   "metadata": {},
   "outputs": [
    {
     "data": {
      "text/plain": [
       "0.4280863447390447"
      ]
     },
     "execution_count": 21,
     "metadata": {},
     "output_type": "execute_result"
    }
   ],
   "source": [
    "c = np.dot(a_norm,b_norm)/np.dot(a_norm,a_norm)\n",
    "c"
   ]
  },
  {
   "cell_type": "code",
   "execution_count": 22,
   "metadata": {},
   "outputs": [
    {
     "data": {
      "text/plain": [
       "0.4280863447390447"
      ]
     },
     "execution_count": 22,
     "metadata": {},
     "output_type": "execute_result"
    }
   ],
   "source": [
    "cosine(a,b)"
   ]
  },
  {
   "cell_type": "markdown",
   "metadata": {},
   "source": [
    "# Applied Example: How similar are these two statements?"
   ]
  },
  {
   "cell_type": "code",
   "execution_count": 172,
   "metadata": {},
   "outputs": [],
   "source": [
    "import pandas as pd\n",
    "from collections import Counter"
   ]
  },
  {
   "cell_type": "code",
   "execution_count": 173,
   "metadata": {},
   "outputs": [],
   "source": [
    "descrip1 = \"This is a speech given by current President Trump about Trump.\"\n",
    "descrip2 = \"This is a speech given by former President Obama about Trump.\""
   ]
  },
  {
   "cell_type": "code",
   "execution_count": 174,
   "metadata": {},
   "outputs": [],
   "source": [
    "def tokenize(text=None):\n",
    "    text = text.lower()\n",
    "    text = text.replace('.','')\n",
    "    text_list = text.split()\n",
    "    return text_list"
   ]
  },
  {
   "cell_type": "code",
   "execution_count": 175,
   "metadata": {},
   "outputs": [
    {
     "data": {
      "text/plain": [
       "['this',\n",
       " 'is',\n",
       " 'a',\n",
       " 'speech',\n",
       " 'given',\n",
       " 'by',\n",
       " 'current',\n",
       " 'president',\n",
       " 'trump',\n",
       " 'about',\n",
       " 'trump']"
      ]
     },
     "execution_count": 175,
     "metadata": {},
     "output_type": "execute_result"
    }
   ],
   "source": [
    "tokenize(descrip1)"
   ]
  },
  {
   "cell_type": "code",
   "execution_count": 176,
   "metadata": {},
   "outputs": [
    {
     "data": {
      "text/plain": [
       "Counter({'this': [1],\n",
       "         'is': [1],\n",
       "         'a': [1],\n",
       "         'speech': [1],\n",
       "         'given': [1],\n",
       "         'by': [1],\n",
       "         'current': [1],\n",
       "         'president': [1],\n",
       "         'trump': [2],\n",
       "         'about': [1]})"
      ]
     },
     "execution_count": 176,
     "metadata": {},
     "output_type": "execute_result"
    }
   ],
   "source": [
    "d = Counter(tokenize(descrip1))\n",
    "for key in d:\n",
    "    d[key] = [d[key]]\n",
    "d"
   ]
  },
  {
   "cell_type": "code",
   "execution_count": 177,
   "metadata": {},
   "outputs": [
    {
     "data": {
      "text/html": [
       "<div>\n",
       "<style scoped>\n",
       "    .dataframe tbody tr th:only-of-type {\n",
       "        vertical-align: middle;\n",
       "    }\n",
       "\n",
       "    .dataframe tbody tr th {\n",
       "        vertical-align: top;\n",
       "    }\n",
       "\n",
       "    .dataframe thead th {\n",
       "        text-align: right;\n",
       "    }\n",
       "</style>\n",
       "<table border=\"1\" class=\"dataframe\">\n",
       "  <thead>\n",
       "    <tr style=\"text-align: right;\">\n",
       "      <th></th>\n",
       "      <th>this</th>\n",
       "      <th>is</th>\n",
       "      <th>a</th>\n",
       "      <th>speech</th>\n",
       "      <th>given</th>\n",
       "      <th>by</th>\n",
       "      <th>current</th>\n",
       "      <th>president</th>\n",
       "      <th>trump</th>\n",
       "      <th>about</th>\n",
       "    </tr>\n",
       "  </thead>\n",
       "  <tbody>\n",
       "    <tr>\n",
       "      <th>0</th>\n",
       "      <td>1</td>\n",
       "      <td>1</td>\n",
       "      <td>1</td>\n",
       "      <td>1</td>\n",
       "      <td>1</td>\n",
       "      <td>1</td>\n",
       "      <td>1</td>\n",
       "      <td>1</td>\n",
       "      <td>2</td>\n",
       "      <td>1</td>\n",
       "    </tr>\n",
       "  </tbody>\n",
       "</table>\n",
       "</div>"
      ],
      "text/plain": [
       "   this  is  a  speech  given  by  current  president  trump  about\n",
       "0     1   1  1       1      1   1        1          1      2      1"
      ]
     },
     "execution_count": 177,
     "metadata": {},
     "output_type": "execute_result"
    }
   ],
   "source": [
    "DTM = pd.DataFrame(d)\n",
    "DTM"
   ]
  },
  {
   "cell_type": "code",
   "execution_count": 178,
   "metadata": {},
   "outputs": [
    {
     "data": {
      "text/html": [
       "<div>\n",
       "<style scoped>\n",
       "    .dataframe tbody tr th:only-of-type {\n",
       "        vertical-align: middle;\n",
       "    }\n",
       "\n",
       "    .dataframe tbody tr th {\n",
       "        vertical-align: top;\n",
       "    }\n",
       "\n",
       "    .dataframe thead th {\n",
       "        text-align: right;\n",
       "    }\n",
       "</style>\n",
       "<table border=\"1\" class=\"dataframe\">\n",
       "  <thead>\n",
       "    <tr style=\"text-align: right;\">\n",
       "      <th></th>\n",
       "      <th>this</th>\n",
       "      <th>is</th>\n",
       "      <th>a</th>\n",
       "      <th>speech</th>\n",
       "      <th>given</th>\n",
       "      <th>by</th>\n",
       "      <th>current</th>\n",
       "      <th>president</th>\n",
       "      <th>trump</th>\n",
       "      <th>about</th>\n",
       "    </tr>\n",
       "  </thead>\n",
       "  <tbody>\n",
       "    <tr>\n",
       "      <th>0</th>\n",
       "      <td>1</td>\n",
       "      <td>1</td>\n",
       "      <td>1</td>\n",
       "      <td>1</td>\n",
       "      <td>1</td>\n",
       "      <td>1</td>\n",
       "      <td>1</td>\n",
       "      <td>1</td>\n",
       "      <td>2</td>\n",
       "      <td>1</td>\n",
       "    </tr>\n",
       "  </tbody>\n",
       "</table>\n",
       "</div>"
      ],
      "text/plain": [
       "   this  is  a  speech  given  by  current  president  trump  about\n",
       "0     1   1  1       1      1   1        1          1      2      1"
      ]
     },
     "execution_count": 178,
     "metadata": {},
     "output_type": "execute_result"
    }
   ],
   "source": [
    "def convert_tokens_to_entry(tokens):\n",
    "    '''\n",
    "    Converts tokens into count entries for a document term matrix.\n",
    "    '''\n",
    "    d = {key:[value] for key,value in Counter(tokens).items()}\n",
    "    return pd.DataFrame(d)\n",
    "\n",
    "d = tokenize(descrip1)\n",
    "convert_tokens_to_entry(d)"
   ]
  },
  {
   "cell_type": "code",
   "execution_count": 179,
   "metadata": {},
   "outputs": [
    {
     "data": {
      "text/html": [
       "<div>\n",
       "<style scoped>\n",
       "    .dataframe tbody tr th:only-of-type {\n",
       "        vertical-align: middle;\n",
       "    }\n",
       "\n",
       "    .dataframe tbody tr th {\n",
       "        vertical-align: top;\n",
       "    }\n",
       "\n",
       "    .dataframe thead th {\n",
       "        text-align: right;\n",
       "    }\n",
       "</style>\n",
       "<table border=\"1\" class=\"dataframe\">\n",
       "  <thead>\n",
       "    <tr style=\"text-align: right;\">\n",
       "      <th></th>\n",
       "      <th>a</th>\n",
       "      <th>about</th>\n",
       "      <th>by</th>\n",
       "      <th>current</th>\n",
       "      <th>former</th>\n",
       "      <th>given</th>\n",
       "      <th>is</th>\n",
       "      <th>obama</th>\n",
       "      <th>president</th>\n",
       "      <th>speech</th>\n",
       "      <th>this</th>\n",
       "      <th>trump</th>\n",
       "    </tr>\n",
       "  </thead>\n",
       "  <tbody>\n",
       "    <tr>\n",
       "      <th>0</th>\n",
       "      <td>1</td>\n",
       "      <td>1</td>\n",
       "      <td>1</td>\n",
       "      <td>1.0</td>\n",
       "      <td>0.0</td>\n",
       "      <td>1</td>\n",
       "      <td>1</td>\n",
       "      <td>0.0</td>\n",
       "      <td>1</td>\n",
       "      <td>1</td>\n",
       "      <td>1</td>\n",
       "      <td>2</td>\n",
       "    </tr>\n",
       "    <tr>\n",
       "      <th>1</th>\n",
       "      <td>1</td>\n",
       "      <td>1</td>\n",
       "      <td>1</td>\n",
       "      <td>0.0</td>\n",
       "      <td>1.0</td>\n",
       "      <td>1</td>\n",
       "      <td>1</td>\n",
       "      <td>1.0</td>\n",
       "      <td>1</td>\n",
       "      <td>1</td>\n",
       "      <td>1</td>\n",
       "      <td>1</td>\n",
       "    </tr>\n",
       "  </tbody>\n",
       "</table>\n",
       "</div>"
      ],
      "text/plain": [
       "   a  about  by  current  former  given  is  obama  president  speech  this  \\\n",
       "0  1      1   1      1.0     0.0      1   1    0.0          1       1     1   \n",
       "1  1      1   1      0.0     1.0      1   1    1.0          1       1     1   \n",
       "\n",
       "   trump  \n",
       "0      2  \n",
       "1      1  "
      ]
     },
     "execution_count": 179,
     "metadata": {},
     "output_type": "execute_result"
    }
   ],
   "source": [
    "# Now build a function that does this for a list of texts\n",
    "def gen_DTM(texts=None):\n",
    "    '''\n",
    "    Generate a document term matrix\n",
    "    '''\n",
    "    DTM = pd.DataFrame()\n",
    "    for text in texts:\n",
    "        tokens = tokenize(text)\n",
    "        entry = convert_tokens_to_entry(tokens)\n",
    "        \n",
    "        # Append (row bind) the current entry onto the existing data frame\n",
    "        DTM = DTM.append(pd.DataFrame(entry),ignore_index=True,sort=True)\n",
    "    \n",
    "    # Fill in any missing values with 0s (i.e. when a word is in one text but not another)\n",
    "    DTM.fillna(0, inplace=True)\n",
    "    return DTM\n",
    "\n",
    "# Test it out!        \n",
    "gen_DTM([descrip1,descrip2]) "
   ]
  },
  {
   "cell_type": "markdown",
   "metadata": {},
   "source": [
    "How similar are these two statements?"
   ]
  },
  {
   "cell_type": "code",
   "execution_count": 180,
   "metadata": {},
   "outputs": [
    {
     "data": {
      "text/plain": [
       "array([1., 1., 1., 1., 0., 1., 1., 0., 1., 1., 1., 2.])"
      ]
     },
     "execution_count": 180,
     "metadata": {},
     "output_type": "execute_result"
    }
   ],
   "source": [
    "D = gen_DTM([descrip1,descrip2]) \n",
    "\n",
    "# We can index the pandas dataframe to draw out a numpy array ( a vector! )\n",
    "D.iloc[0].values"
   ]
  },
  {
   "cell_type": "code",
   "execution_count": 181,
   "metadata": {},
   "outputs": [],
   "source": [
    "a = D.iloc[0].values\n",
    "b = D.iloc[1].values"
   ]
  },
  {
   "cell_type": "markdown",
   "metadata": {},
   "source": [
    "Let's use cosine similarity to understand the relationship between these two statements."
   ]
  },
  {
   "cell_type": "code",
   "execution_count": 182,
   "metadata": {},
   "outputs": [
    {
     "data": {
      "text/plain": [
       "0.8362420100070909"
      ]
     },
     "execution_count": 182,
     "metadata": {},
     "output_type": "execute_result"
    }
   ],
   "source": [
    "cosine(a,b)"
   ]
  },
  {
   "cell_type": "markdown",
   "metadata": {},
   "source": [
    "Pretty similar!\n",
    "\n",
    "Now, to really run home the intuition, how similar are these two statements?"
   ]
  },
  {
   "cell_type": "code",
   "execution_count": 183,
   "metadata": {},
   "outputs": [],
   "source": [
    "docs = [\n",
    "    \"On Saturday, Samantha likes to go shopping at the mall.\",\n",
    "    \"The results show that the marginal effect of x on y was trivial and overstated by the original authors.\"\n",
    "]"
   ]
  },
  {
   "cell_type": "code",
   "execution_count": 184,
   "metadata": {},
   "outputs": [
    {
     "data": {
      "text/html": [
       "<div>\n",
       "<style scoped>\n",
       "    .dataframe tbody tr th:only-of-type {\n",
       "        vertical-align: middle;\n",
       "    }\n",
       "\n",
       "    .dataframe tbody tr th {\n",
       "        vertical-align: top;\n",
       "    }\n",
       "\n",
       "    .dataframe thead th {\n",
       "        text-align: right;\n",
       "    }\n",
       "</style>\n",
       "<table border=\"1\" class=\"dataframe\">\n",
       "  <thead>\n",
       "    <tr style=\"text-align: right;\">\n",
       "      <th></th>\n",
       "      <th>and</th>\n",
       "      <th>at</th>\n",
       "      <th>authors</th>\n",
       "      <th>by</th>\n",
       "      <th>effect</th>\n",
       "      <th>go</th>\n",
       "      <th>likes</th>\n",
       "      <th>mall</th>\n",
       "      <th>marginal</th>\n",
       "      <th>of</th>\n",
       "      <th>...</th>\n",
       "      <th>saturday,</th>\n",
       "      <th>shopping</th>\n",
       "      <th>show</th>\n",
       "      <th>that</th>\n",
       "      <th>the</th>\n",
       "      <th>to</th>\n",
       "      <th>trivial</th>\n",
       "      <th>was</th>\n",
       "      <th>x</th>\n",
       "      <th>y</th>\n",
       "    </tr>\n",
       "  </thead>\n",
       "  <tbody>\n",
       "    <tr>\n",
       "      <th>0</th>\n",
       "      <td>0.0</td>\n",
       "      <td>1.0</td>\n",
       "      <td>0.0</td>\n",
       "      <td>0.0</td>\n",
       "      <td>0.0</td>\n",
       "      <td>1.0</td>\n",
       "      <td>1.0</td>\n",
       "      <td>1.0</td>\n",
       "      <td>0.0</td>\n",
       "      <td>0.0</td>\n",
       "      <td>...</td>\n",
       "      <td>1.0</td>\n",
       "      <td>1.0</td>\n",
       "      <td>0.0</td>\n",
       "      <td>0.0</td>\n",
       "      <td>1</td>\n",
       "      <td>1.0</td>\n",
       "      <td>0.0</td>\n",
       "      <td>0.0</td>\n",
       "      <td>0.0</td>\n",
       "      <td>0.0</td>\n",
       "    </tr>\n",
       "    <tr>\n",
       "      <th>1</th>\n",
       "      <td>1.0</td>\n",
       "      <td>0.0</td>\n",
       "      <td>1.0</td>\n",
       "      <td>1.0</td>\n",
       "      <td>1.0</td>\n",
       "      <td>0.0</td>\n",
       "      <td>0.0</td>\n",
       "      <td>0.0</td>\n",
       "      <td>1.0</td>\n",
       "      <td>1.0</td>\n",
       "      <td>...</td>\n",
       "      <td>0.0</td>\n",
       "      <td>0.0</td>\n",
       "      <td>1.0</td>\n",
       "      <td>1.0</td>\n",
       "      <td>3</td>\n",
       "      <td>0.0</td>\n",
       "      <td>1.0</td>\n",
       "      <td>1.0</td>\n",
       "      <td>1.0</td>\n",
       "      <td>1.0</td>\n",
       "    </tr>\n",
       "  </tbody>\n",
       "</table>\n",
       "<p>2 rows × 25 columns</p>\n",
       "</div>"
      ],
      "text/plain": [
       "   and   at  authors   by  effect   go  likes  mall  marginal   of ...   \\\n",
       "0  0.0  1.0      0.0  0.0     0.0  1.0    1.0   1.0       0.0  0.0 ...    \n",
       "1  1.0  0.0      1.0  1.0     1.0  0.0    0.0   0.0       1.0  1.0 ...    \n",
       "\n",
       "   saturday,  shopping  show  that  the   to  trivial  was    x    y  \n",
       "0        1.0       1.0   0.0   0.0    1  1.0      0.0  0.0  0.0  0.0  \n",
       "1        0.0       0.0   1.0   1.0    3  0.0      1.0  1.0  1.0  1.0  \n",
       "\n",
       "[2 rows x 25 columns]"
      ]
     },
     "execution_count": 184,
     "metadata": {},
     "output_type": "execute_result"
    }
   ],
   "source": [
    "D = gen_DTM(docs)\n",
    "D # note how pandas (and numpy) use the elipses for abreviation."
   ]
  },
  {
   "cell_type": "code",
   "execution_count": 185,
   "metadata": {},
   "outputs": [
    {
     "data": {
      "text/plain": [
       "0.25298221281347033"
      ]
     },
     "execution_count": 185,
     "metadata": {},
     "output_type": "execute_result"
    }
   ],
   "source": [
    "a = D.iloc[0].values\n",
    "b = D.iloc[1].values\n",
    "cosine(a,b) "
   ]
  },
  {
   "cell_type": "markdown",
   "metadata": {},
   "source": [
    "Much less a alike! Actually the only real similarity between these two statements is the parts of speech. If we were to clean those out, we'd find that there was very little in common between these two statements. Let's do that!"
   ]
  },
  {
   "cell_type": "markdown",
   "metadata": {},
   "source": [
    "**Removing Stopwords**"
   ]
  },
  {
   "cell_type": "code",
   "execution_count": 186,
   "metadata": {},
   "outputs": [],
   "source": [
    "stopwords = pd.read_csv('stop_words.csv')"
   ]
  },
  {
   "cell_type": "code",
   "execution_count": 187,
   "metadata": {},
   "outputs": [
    {
     "data": {
      "text/html": [
       "<div>\n",
       "<style scoped>\n",
       "    .dataframe tbody tr th:only-of-type {\n",
       "        vertical-align: middle;\n",
       "    }\n",
       "\n",
       "    .dataframe tbody tr th {\n",
       "        vertical-align: top;\n",
       "    }\n",
       "\n",
       "    .dataframe thead th {\n",
       "        text-align: right;\n",
       "    }\n",
       "</style>\n",
       "<table border=\"1\" class=\"dataframe\">\n",
       "  <thead>\n",
       "    <tr style=\"text-align: right;\">\n",
       "      <th></th>\n",
       "      <th>word</th>\n",
       "      <th>lexicon</th>\n",
       "    </tr>\n",
       "  </thead>\n",
       "  <tbody>\n",
       "    <tr>\n",
       "      <th>0</th>\n",
       "      <td>a</td>\n",
       "      <td>SMART</td>\n",
       "    </tr>\n",
       "    <tr>\n",
       "      <th>1</th>\n",
       "      <td>a's</td>\n",
       "      <td>SMART</td>\n",
       "    </tr>\n",
       "    <tr>\n",
       "      <th>2</th>\n",
       "      <td>able</td>\n",
       "      <td>SMART</td>\n",
       "    </tr>\n",
       "    <tr>\n",
       "      <th>3</th>\n",
       "      <td>about</td>\n",
       "      <td>SMART</td>\n",
       "    </tr>\n",
       "    <tr>\n",
       "      <th>4</th>\n",
       "      <td>above</td>\n",
       "      <td>SMART</td>\n",
       "    </tr>\n",
       "  </tbody>\n",
       "</table>\n",
       "</div>"
      ],
      "text/plain": [
       "    word lexicon\n",
       "0      a   SMART\n",
       "1    a's   SMART\n",
       "2   able   SMART\n",
       "3  about   SMART\n",
       "4  above   SMART"
      ]
     },
     "execution_count": 187,
     "metadata": {},
     "output_type": "execute_result"
    }
   ],
   "source": [
    "stopwords.head()"
   ]
  },
  {
   "cell_type": "code",
   "execution_count": 188,
   "metadata": {},
   "outputs": [
    {
     "data": {
      "text/plain": [
       "[\"a's\", 'able', 'about', 'above']"
      ]
     },
     "execution_count": 188,
     "metadata": {},
     "output_type": "execute_result"
    }
   ],
   "source": [
    "# convert to a list\n",
    "sw_list = list(stopwords['word'].values)\n",
    "sw_list[1:5]"
   ]
  },
  {
   "cell_type": "code",
   "execution_count": 189,
   "metadata": {},
   "outputs": [
    {
     "name": "stdout",
     "output_type": "stream",
     "text": [
      "['saturday,', 'samantha', 'likes', 'shopping', 'mall']\n",
      "['results', 'marginal', 'effect', 'trivial', 'overstated', 'original', 'authors']\n"
     ]
    }
   ],
   "source": [
    "# Rewrite our token function to clean out these words\n",
    "def tokenize(text=None):\n",
    "    text = text.lower()\n",
    "    text = text.replace('.','')\n",
    "    text_list = text.split()\n",
    "    text_list2 = [word for word in text_list if word not in sw_list]\n",
    "    return text_list2\n",
    "\n",
    "print(tokenize(docs[0]))\n",
    "print(tokenize(docs[1]))"
   ]
  },
  {
   "cell_type": "code",
   "execution_count": 190,
   "metadata": {},
   "outputs": [
    {
     "data": {
      "text/plain": [
       "0.0"
      ]
     },
     "execution_count": 190,
     "metadata": {},
     "output_type": "execute_result"
    }
   ],
   "source": [
    "D = gen_DTM(docs)\n",
    "a = D.iloc[0].values\n",
    "b = D.iloc[1].values\n",
    "cosine(a,b) "
   ]
  },
  {
   "cell_type": "markdown",
   "metadata": {},
   "source": [
    "The two statements are **completely orthogonal**! They go in completely different directions, substantively speaking. \n",
    "\n",
    "Given this conceptualization, we could think of any document in this way! Our knowledge of vectors helps us make substantive comparisons between unstructured text. Pretty neat!"
   ]
  }
 ],
 "metadata": {
  "kernelspec": {
   "display_name": "Python 3",
   "language": "python",
   "name": "python3"
  },
  "language_info": {
   "codemirror_mode": {
    "name": "ipython",
    "version": 3
   },
   "file_extension": ".py",
   "mimetype": "text/x-python",
   "name": "python",
   "nbconvert_exporter": "python",
   "pygments_lexer": "ipython3",
   "version": "3.7.0"
  },
  "toc": {
   "base_numbering": 1,
   "nav_menu": {},
   "number_sections": false,
   "sideBar": false,
   "skip_h1_title": false,
   "title_cell": "Table of Contents",
   "title_sidebar": "Contents",
   "toc_cell": false,
   "toc_position": {},
   "toc_section_display": true,
   "toc_window_display": false
  }
 },
 "nbformat": 4,
 "nbformat_minor": 2
}

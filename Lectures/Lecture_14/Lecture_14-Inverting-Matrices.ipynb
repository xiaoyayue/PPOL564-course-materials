{
 "cells": [
  {
   "cell_type": "markdown",
   "metadata": {},
   "source": [
    "<h1><center> PPOLS564: Foundations of Data Science </center><h1>\n",
    "<h3><center> Lecture 14 <br><br><font color='grey'> Inverting Matrices </font></center></h3>"
   ]
  },
  {
   "cell_type": "markdown",
   "metadata": {},
   "source": [
    "# Concepts For today:\n",
    "\n",
    "- (delve briefly into) solving for systems of linear equations\n",
    "- Reduced Row Echelon Form as a Matrix Transformation\n",
    "- Invertability"
   ]
  },
  {
   "cell_type": "code",
   "execution_count": 1,
   "metadata": {},
   "outputs": [],
   "source": [
    "import numpy as np"
   ]
  },
  {
   "cell_type": "markdown",
   "metadata": {},
   "source": [
    "# Solving for a System of Linear Equations"
   ]
  },
  {
   "cell_type": "markdown",
   "metadata": {},
   "source": [
    "$$ x + y = 7 $$\n",
    "$$ x + 2y = 11 $$\n",
    "\n",
    "To solve for a system of equations, we must have as many equations as unknowns. The idea is to leverage the equations to isolate values for the unknowns. \n",
    "\n",
    "Three potential outcomes:\n",
    "\n",
    "1. We'll find many solutions (potentially an infinite number of solutions for potential values of $x$ and $y$\n",
    "2. We'll find one solution.\n",
    "3. We'll find no solution. \n",
    "\n",
    "Essentially, we are trying to locate the point (or set of points) where these two lines intersect.\n",
    "\n",
    "> Note: The far deeper discussion on how solve a system of linear equations is covered in the reading."
   ]
  },
  {
   "cell_type": "markdown",
   "metadata": {},
   "source": [
    "Let's solve the above system. \n",
    "\n",
    "\\begin{equation}\n",
    "x + y = 7\\\\\n",
    "x + 2y = 11\n",
    "\\end{equation}\n",
    "\n",
    "\\begin{equation}\n",
    "x = 7 - y \\\\\n",
    "x + 2y = 11\n",
    "\\end{equation}\n",
    "\n",
    "\\begin{equation}\n",
    "x = 7 - y \\\\\n",
    "(7 - y) + 2y = 11\n",
    "\\end{equation}\n",
    "\n",
    "\\begin{equation}\n",
    "x = 7 - y \\\\\n",
    "y = 4\n",
    "\\end{equation}\n",
    "\n",
    "\\begin{equation}\n",
    "x = 7 - (4) \\\\\n",
    "y = 4\n",
    "\\end{equation}\n",
    "\n",
    "\\begin{equation}\n",
    "x = 3 \\\\\n",
    "y = 4\n",
    "\\end{equation}"
   ]
  },
  {
   "cell_type": "markdown",
   "metadata": {},
   "source": [
    "Let's plug these values back in to get see if they work.\n",
    "\n",
    "\\begin{equation}\n",
    "(3) + (4) = 7\\\\\n",
    "(3) + 2(4) = 11\n",
    "\\end{equation}\n",
    "\n",
    "Looks good!"
   ]
  },
  {
   "cell_type": "markdown",
   "metadata": {},
   "source": [
    "## System of Linear Equations in Matrix Form"
   ]
  },
  {
   "cell_type": "markdown",
   "metadata": {},
   "source": [
    "\\begin{equation}\n",
    "1x + 1y = 7\\\\\n",
    "1x + 2y = 11\n",
    "\\end{equation}\n",
    "\n",
    "\n",
    "\\begin{equation}\n",
    "\\begin{bmatrix}\n",
    "1 & 1\\\\ 1 & 2\n",
    "\\end{bmatrix}\n",
    "\\begin{bmatrix}\n",
    "x \\\\ y\n",
    "\\end{bmatrix} = \n",
    "\\begin{bmatrix}\n",
    "7 \\\\ 11\n",
    "\\end{bmatrix}\n",
    "\\end{equation}\n",
    "\n",
    "\\begin{equation}\n",
    "\\textbf{A} \\textbf{x} = \\textbf{b}\n",
    "\\end{equation}\n",
    "\n",
    "Where:\n",
    "\n",
    "- $\\textbf{A}$ can be thought of as our data\n",
    "- $\\textbf{x}$ can be thought of as our unknown coefficients\n",
    "- $\\textbf{b}$ can be thought of as our outcomes for which we are trying to solve for"
   ]
  },
  {
   "cell_type": "markdown",
   "metadata": {},
   "source": [
    "We can express this matrix as an \"**augmented matrix**\" (which will help as we perform row-wise operations)"
   ]
  },
  {
   "cell_type": "markdown",
   "metadata": {},
   "source": [
    "\\begin{equation}\n",
    "\\left|\n",
    "\\begin{array}{cc|c}\n",
    "1 & 1 & 7  \\\\ \n",
    "1 & 2 & 11 \\\\ \n",
    "\\end{array}\n",
    "\\right|\n",
    "\\end{equation}"
   ]
  },
  {
   "cell_type": "markdown",
   "metadata": {},
   "source": [
    "## Reduced Row Echelon Form (rref)\n",
    "\n",
    "The goal of rref is to use row-wise addition/subtraction and scaling to reduce each column so that 1 of the row entries equals one and the rest of the entries equal 0.\n",
    "\n",
    "In essence, we want $\\textbf{A}$ to resemble $\\textbf{I}$.\n",
    "\n",
    "\\begin{equation}\n",
    "\\begin{bmatrix}\n",
    "1 & 1\\\\ 1 & 2\n",
    "\\end{bmatrix}\n",
    "\\rightarrow\n",
    "\\begin{bmatrix}\n",
    "1 & 0\\\\ 0 & 1\n",
    "\\end{bmatrix}\n",
    "\\end{equation}\n",
    "\n",
    "We'll perform the row-wise operations on both sides of the augmented matrix. The result will be the solution to our linear equation (if a solution exists). \n",
    "\n",
    "> Again, this is a simplification of rref and solving for systems of equations. Check out the reading for a more involved discussion. The point is to get the intuition of what is going on here."
   ]
  },
  {
   "cell_type": "markdown",
   "metadata": {},
   "source": [
    "### Solve the system using rref"
   ]
  },
  {
   "cell_type": "markdown",
   "metadata": {},
   "source": [
    "\\begin{equation}\n",
    "\\left|\n",
    "\\begin{array}{cc|c}\n",
    "1 & 1 & 7  \\\\ \n",
    "1 & 2 & 11 \\\\ \n",
    "\\end{array}\n",
    "\\right|\n",
    "\\end{equation}\n",
    "\n",
    "Hold the first row fixed. How do we get position (2,1) in the matrix to be zero? Subtract the first row from the second.\n",
    "\n",
    "\\begin{equation}\n",
    "\\left|\n",
    "\\begin{array}{cc|c}\n",
    "1 & 1 & 7  \\\\ \n",
    "1 - 1 & 2 - 1 & 11 - 7 \\\\ \n",
    "\\end{array}\n",
    "\\right|\n",
    "\\end{equation}\n",
    "\n",
    "\n",
    "\\begin{equation}\n",
    "\\left|\n",
    "\\begin{array}{cc|c}\n",
    "1 & 1 & 7  \\\\ \n",
    "0 & 1 & 4 \\\\ \n",
    "\\end{array}\n",
    "\\right|\n",
    "\\end{equation}\n",
    "\n",
    "Holding the second row fixed. How do we get position (1,2) in the matrix to be zero? Subtract the second row from the first.\n",
    "\n",
    "\\begin{equation}\n",
    "\\left|\n",
    "\\begin{array}{cc|c}\n",
    "1-0 & 1-1 & 7-4  \\\\ \n",
    "0 & 1 & 4 \\\\ \n",
    "\\end{array}\n",
    "\\right|\n",
    "\\end{equation}\n",
    "\n",
    "\n",
    "\\begin{equation}\n",
    "\\left|\n",
    "\\begin{array}{cc|c}\n",
    "1 & 0 & 3  \\\\ \n",
    "0 & 1 & 4 \\\\ \n",
    "\\end{array}\n",
    "\\right|\n",
    "\\end{equation}\n",
    "\n",
    "\n",
    "**We've found our solution!**"
   ]
  },
  {
   "cell_type": "markdown",
   "metadata": {},
   "source": [
    "Let's check it.\n",
    "\n",
    "\n",
    "\\begin{equation}\n",
    "\\begin{bmatrix}\n",
    "1 & 1\\\\ 1 & 2\n",
    "\\end{bmatrix}\n",
    "\\begin{bmatrix}\n",
    "3 \\\\ 4\n",
    "\\end{bmatrix} = \n",
    "\\begin{bmatrix}\n",
    "1(3) + 1(4)\\\\ 1(3) + 2(4)\n",
    "\\end{bmatrix} =\n",
    "\\begin{bmatrix}\n",
    "7 \\\\ 11\n",
    "\\end{bmatrix}\n",
    "\\end{equation}"
   ]
  },
  {
   "cell_type": "code",
   "execution_count": 2,
   "metadata": {},
   "outputs": [
    {
     "data": {
      "text/plain": [
       "array([ 7, 11])"
      ]
     },
     "execution_count": 2,
     "metadata": {},
     "output_type": "execute_result"
    }
   ],
   "source": [
    "A = np.array([[1,1],[1,2]])\n",
    "x = np.array([3,4])\n",
    "b = A.dot(x)\n",
    "b"
   ]
  },
  {
   "cell_type": "markdown",
   "metadata": {},
   "source": [
    "### RREF as a matrix transformation\n",
    "\n",
    "We can encode these instructions to reduce the data down as a matrix transformation (just as we did when we first introduced matrices). We'll perform our instructions on the identity matrix, $\\textbf{I}$, like we did before. \n",
    "\n",
    "Our instructions:\n",
    "\n",
    "1. Hold the first row constant and subtract the first row from the second row\n",
    "\n",
    "$$ f_1(x) = \\begin{bmatrix} x_1\\\\x_2 - x_1\\end{bmatrix} $$\n",
    "\n",
    "2. Hold the second row constant and subtract the second row from the first row\n",
    "\n",
    "$$ f_2(x) = \\begin{bmatrix} x_1 - x_2 \\\\x_2\\end{bmatrix} $$"
   ]
  },
  {
   "cell_type": "markdown",
   "metadata": {},
   "source": [
    "Let's perform these operations on our identity matrix.\n",
    "\n",
    "$$\\textbf{I} = \\begin{bmatrix}\n",
    "1 & 0\\\\ 0 & 1\n",
    "\\end{bmatrix}$$\n",
    "\n",
    "\\begin{equation}\n",
    "f_1(\\textbf{I}) = \\begin{bmatrix} 1 & 0\\\\0-1 & 1-0\\end{bmatrix} =  \\begin{bmatrix} 1 & 0\\\\-1 & 1\\end{bmatrix}\n",
    "\\end{equation}\n",
    "\n",
    "\n",
    "\\begin{equation}\n",
    "f_2(\\begin{bmatrix} 1 & 0\\\\-1 & 1\\end{bmatrix}) = \\begin{bmatrix} 1-(-1) & 0-1 \\\\-1 & 1\\end{bmatrix}=  \\begin{bmatrix} 2 & -1\\\\-1 & 1\\end{bmatrix}  = \\textbf{S}\n",
    "\\end{equation}"
   ]
  },
  {
   "cell_type": "markdown",
   "metadata": {},
   "source": [
    "As before, we can represent this as two transformation matrices that we multiply together"
   ]
  },
  {
   "cell_type": "code",
   "execution_count": 3,
   "metadata": {},
   "outputs": [
    {
     "name": "stdout",
     "output_type": "stream",
     "text": [
      "Our first tranformation matrix\n",
      "\n",
      "[[ 1  0]\n",
      " [-1  1]]\n",
      "\n",
      "Our second tranformation matrix\n",
      "\n",
      "[[ 1 -1]\n",
      " [ 0  1]]\n"
     ]
    }
   ],
   "source": [
    "T1 = np.array([[1,0],[-1,1]])\n",
    "print(\"Our first tranformation matrix\\n\")\n",
    "print(T1)\n",
    "T2 = np.array([[1,-1],[0,1]])\n",
    "print(\"\\nOur second tranformation matrix\\n\")\n",
    "print(T2)"
   ]
  },
  {
   "cell_type": "code",
   "execution_count": 4,
   "metadata": {},
   "outputs": [
    {
     "name": "stdout",
     "output_type": "stream",
     "text": [
      "T1 . T2 = S\n",
      "\n"
     ]
    },
    {
     "data": {
      "text/plain": [
       "array([[ 2, -1],\n",
       "       [-1,  1]])"
      ]
     },
     "execution_count": 4,
     "metadata": {},
     "output_type": "execute_result"
    }
   ],
   "source": [
    "print(\"T1 . T2 = S\\n\")\n",
    "T2.dot(T1)"
   ]
  },
  {
   "cell_type": "markdown",
   "metadata": {},
   "source": [
    "What is this matrix $\\textbf{S}$? It's the inverse of matrix $\\textbf{A}$! \n",
    "\n",
    "Put formally, \n",
    "\n",
    "$$\\textbf{S}  = \\textbf{A}^{-1}$$\n",
    "\n",
    "$$\\textbf{A} = \\begin{bmatrix}1 & 1\\\\ 1 & 2\\end{bmatrix}$$\n",
    "\n",
    "$$\\textbf{A}^{-1} = \\begin{bmatrix} 2 & -1\\\\-1 & 1\\end{bmatrix}$$\n",
    "\n",
    "---\n",
    "\\begin{equation}\n",
    "\\textbf{A}^{-1}\\textbf{b} = \\begin{bmatrix} 2 & -1\\\\-1 & 1\\end{bmatrix} \\begin{bmatrix}7\\\\11\\end{bmatrix} = \\begin{bmatrix}3\\\\4\\end{bmatrix} = \\textbf{x}\n",
    "\\end{equation}\n",
    "\n",
    "\\begin{equation}\n",
    "\\textbf{A}\\textbf{x} = \\begin{bmatrix}1 & 1\\\\ 1 & 2\\end{bmatrix} \\begin{bmatrix}3\\\\4\\end{bmatrix} = \\begin{bmatrix}7\\\\11\\end{bmatrix} = \\textbf{b}\n",
    "\\end{equation}\n",
    "\n",
    "We can use this inverse transformation to take use **_back_** to where we started. We can think of the inverse transformation as numerical instructions to solve for a system of linear equations!"
   ]
  },
  {
   "cell_type": "code",
   "execution_count": 5,
   "metadata": {},
   "outputs": [
    {
     "data": {
      "text/plain": [
       "array([[ 2, -1],\n",
       "       [-1,  1]])"
      ]
     },
     "execution_count": 5,
     "metadata": {},
     "output_type": "execute_result"
    }
   ],
   "source": [
    "A_inv = T2.dot(T1)\n",
    "A_inv"
   ]
  },
  {
   "cell_type": "code",
   "execution_count": 6,
   "metadata": {},
   "outputs": [
    {
     "data": {
      "text/plain": [
       "array([ 7, 11])"
      ]
     },
     "execution_count": 6,
     "metadata": {},
     "output_type": "execute_result"
    }
   ],
   "source": [
    "b"
   ]
  },
  {
   "cell_type": "code",
   "execution_count": 16,
   "metadata": {},
   "outputs": [
    {
     "data": {
      "text/plain": [
       "array([3, 4])"
      ]
     },
     "execution_count": 16,
     "metadata": {},
     "output_type": "execute_result"
    }
   ],
   "source": [
    "A_inv.dot(b)"
   ]
  },
  {
   "cell_type": "markdown",
   "metadata": {},
   "source": [
    "And where $\\textbf{A}$ dotted with its inverse $\\textbf{A}^{-1}$ transforms us back to $\\textbf{I}$"
   ]
  },
  {
   "cell_type": "code",
   "execution_count": 8,
   "metadata": {},
   "outputs": [
    {
     "data": {
      "text/plain": [
       "array([[1, 0],\n",
       "       [0, 1]])"
      ]
     },
     "execution_count": 8,
     "metadata": {},
     "output_type": "execute_result"
    }
   ],
   "source": [
    "A_inv.dot(A)"
   ]
  },
  {
   "cell_type": "markdown",
   "metadata": {},
   "source": [
    "# Invertible Functions"
   ]
  },
  {
   "cell_type": "markdown",
   "metadata": {},
   "source": [
    "Recall that matrix multiplication is really just a linear transformation. "
   ]
  },
  {
   "cell_type": "markdown",
   "metadata": {},
   "source": [
    "$$ f: x \\mapsto y $$"
   ]
  },
  {
   "cell_type": "markdown",
   "metadata": {},
   "source": [
    "An inverse function takes us **back** from our codomain $y$ to our original domain $x$ \n",
    "\n",
    "$$ f^{-1}: y \\mapsto x $$"
   ]
  },
  {
   "cell_type": "markdown",
   "metadata": {},
   "source": [
    "But we can only do this for a function that is **surjective** and **injective**. \n",
    "\n",
    "- **surjective**: there exists a mapping for every value of set $\\textbf{x}$ \"onto\" set $\\textbf{y}$. That is, every value from one set maps onto a value in the other set.\n",
    "\n",
    "\n",
    "```\n",
    "Surjective!\n",
    "\n",
    "        X    Y\n",
    "        -    -\n",
    "        a => z\n",
    "        b => y\n",
    "        c => x\n",
    "        d => x\n",
    "\n",
    "Not Surjective\n",
    "        X    Y\n",
    "        -    -\n",
    "        a => z\n",
    "        b => y\n",
    "        c => x\n",
    "        d \n",
    "```\n",
    "\n",
    "- **injective**: there exists a \"one-to-one\" mapping of values in set $\\textbf{x}$ onto set $\\textbf{y}$. That is. there exists a unique mapping for each $\\textbf{x}$ onto $\\textbf{y}$\n",
    "\n",
    "```\n",
    "Injective!\n",
    "\n",
    "        X    Y\n",
    "        -    -\n",
    "        a => z\n",
    "        b => y\n",
    "        c => x\n",
    "        d => z\n",
    "\n",
    "Not injective\n",
    "        X    Y\n",
    "        -    -\n",
    "        a => z\n",
    "        b => y\n",
    "        c => x\n",
    "        d => x\n",
    "```\n",
    "\n",
    "**The idea is that every value of $x$ maps onto a unique value of $y$.**"
   ]
  },
  {
   "cell_type": "markdown",
   "metadata": {},
   "source": [
    "In addition, recall that we can only solve for a system where there is as many equations as there are unknowns."
   ]
  },
  {
   "cell_type": "markdown",
   "metadata": {},
   "source": [
    "We _cannot_ solve this...\n",
    "\\begin{equation}\n",
    "x + y - 3z = -10\\\\\n",
    "x - y + 2z = 3\n",
    "\\end{equation}\n",
    "\n",
    "But we could potentially solve this...\n",
    "\n",
    "\\begin{equation}\n",
    "x + y - 3z = -10\\\\\n",
    "x - y + 2z = 3 \\\\\n",
    "2x + y - z = -6 \n",
    "\\end{equation}\n",
    "\n",
    "What does this mean for us in linear algebra land?\n",
    "\n",
    "$$ \\begin{bmatrix} 1 & 1 & -3 \\\\1 & -1 & 2 \\\\ 2 & 1 & -1\\end{bmatrix} \\begin{bmatrix} x\\\\y\\\\z\\end{bmatrix} = \\begin{bmatrix} -10\\\\2\\\\-6\\end{bmatrix}  $$\n",
    "\n",
    "The matrix we are inverting must always be a **square matrix**. That is, the rank of the column space must be equal to the rank of the row space. (Recall this is just a fancy way of saying that none of the column vectors are a linear combination of another column vector, i.e. they are linearly independent. And likewise with the row vectors.)\n",
    "\n",
    "$$ Rank(colspace(\\textbf{A})) = Rank(rowspace(\\textbf{A}))$$\n",
    "$$ N~Cols = N~Rows$$\n",
    "\n",
    "Another way to think about this, if a matrix transformation reduces a vector or matrix into a lower dimension (dimension reduction), then we can't walk back to where we started. **_Dimension reduction always results in a loss of information._**"
   ]
  },
  {
   "cell_type": "markdown",
   "metadata": {},
   "source": [
    "#### What to do if our matrix isn't square?\n",
    "\n",
    "Recall from the last lecture that we can always generate a square matrix by projecting it back onto itself."
   ]
  },
  {
   "cell_type": "code",
   "execution_count": 9,
   "metadata": {},
   "outputs": [
    {
     "data": {
      "text/plain": [
       "(5, 3)"
      ]
     },
     "execution_count": 9,
     "metadata": {},
     "output_type": "execute_result"
    }
   ],
   "source": [
    "B = np.random.randn(5,3)\n",
    "B.shape"
   ]
  },
  {
   "cell_type": "code",
   "execution_count": 10,
   "metadata": {},
   "outputs": [
    {
     "data": {
      "text/plain": [
       "(5, 5)"
      ]
     },
     "execution_count": 10,
     "metadata": {},
     "output_type": "execute_result"
    }
   ],
   "source": [
    "B.dot(B.T).shape"
   ]
  },
  {
   "cell_type": "code",
   "execution_count": 11,
   "metadata": {},
   "outputs": [
    {
     "data": {
      "text/plain": [
       "(3, 3)"
      ]
     },
     "execution_count": 11,
     "metadata": {},
     "output_type": "execute_result"
    }
   ],
   "source": [
    "B.T.dot(B).shape"
   ]
  },
  {
   "cell_type": "markdown",
   "metadata": {},
   "source": [
    "## How to determine if a matrix is invertible"
   ]
  },
  {
   "cell_type": "markdown",
   "metadata": {},
   "source": [
    "Recall above that we encoded instructions regarding how to convert a $2 \\times 2$ matrix into RREF. Let's do this again but more generally. "
   ]
  },
  {
   "cell_type": "markdown",
   "metadata": {},
   "source": [
    "\\begin{equation}\n",
    "\\textbf{A} =  \n",
    "\\begin{bmatrix}\n",
    "a & b \\\\ c & d\n",
    "\\end{bmatrix} = \n",
    "\\begin{bmatrix}\n",
    "R_1 \\\\ R_2\n",
    "\\end{bmatrix}\n",
    "\\end{equation}\n",
    "\n",
    "Let's put it in augmented matrix form, and perform our row-wise manipulations simultaneously on $\\textbf{I}$\n",
    "\n",
    "\\begin{equation}\n",
    "\\left|\n",
    "\\begin{array}{cc|cc}\n",
    "a & b & 1 & 0  \\\\ \n",
    "c & d & 0 & 1 \\\\ \n",
    "\\end{array}\n",
    "\\right|\n",
    "\\end{equation}\n",
    "\n",
    "\n",
    "**Transformation 1**:\n",
    "\n",
    "\\begin{equation}\n",
    "\\textbf{T}_1 =  \n",
    "\\begin{bmatrix}\n",
    "R_1 \\\\ aR_2 - cR_1\n",
    " \\end{bmatrix}\n",
    "\\end{equation}\n",
    "\n",
    "\n",
    "\\begin{equation}\n",
    "\\left|\n",
    "\\begin{array}{cc|cc}\n",
    "a & b & 1 & 0  \\\\ \n",
    "0 & ad - bc & -c & a \\\\ \n",
    "\\end{array}\n",
    "\\right|\n",
    "\\end{equation}\n",
    "\n",
    "**Transformation 2**:\n",
    "\n",
    "\\begin{equation}\n",
    "\\textbf{T}_2 =  \n",
    "\\begin{bmatrix}\n",
    "(ad-bc)R_1 - bR_2 \\\\ R_2 \n",
    " \\end{bmatrix}\n",
    "\\end{equation}\n",
    "\n",
    "\n",
    "\\begin{equation}\n",
    "\\left|\n",
    "\\begin{array}{cc|cc}\n",
    "a(ad-bc) & 0 & ad & -ab  \\\\ \n",
    "0 & ad - bc & -c & a \\\\ \n",
    "\\end{array}\n",
    "\\right|\n",
    "\\end{equation}\n",
    "\n",
    "\n",
    "**Transformation 3**: ensure the diagonals equal 1\n",
    "\n",
    "\\begin{equation}\n",
    "\\textbf{T}_3 =  \n",
    "\\begin{bmatrix}\n",
    "\\frac{R_1}{a(ad-bc)} \\\\ \\frac{R_2}{(ad-bc)}\n",
    " \\end{bmatrix}\n",
    "\\end{equation}\n",
    "\n",
    "\n",
    "\n",
    "\\begin{equation}\n",
    "\\left|\n",
    "\\begin{array}{cc|cc}\n",
    "1 & 0 & \\frac{d}{(ad-bc)} & \\frac{-b}{(ad-bc)}  \\\\ \n",
    "0 & 1 & \\frac{-c}{(ad-bc)} & \\frac{a}{(ad-bc)} \\\\ \n",
    "\\end{array}\n",
    "\\right|\n",
    "\\end{equation}\n",
    "\n",
    "This yields the formula for the inverse of a $2 \\times 2 $ matrix.\n",
    "\n",
    "\\begin{equation}\n",
    "\\frac{1}{ad-bc}\n",
    "\\begin{bmatrix}\n",
    "d & -b \\\\ -c & a\n",
    " \\end{bmatrix}\n",
    "\\end{equation}"
   ]
  },
  {
   "cell_type": "markdown",
   "metadata": {},
   "source": [
    "What is $ad-bc$?\n",
    "\n",
    "#### The Determinant!\n",
    "\n",
    "$$ det(\\textbf{A}) = |\\textbf{A}| =  ad-bc $$\n",
    "\n",
    "The determinant of matrix $\\textbf{A}$ tells us if a (square) matrix is invertible. When we examine the above equation, it's obvious why this is. We can't solve a fraction when the denominator is $0$. \n",
    "\n",
    "But what does this actually mean? \n",
    "\n",
    "It means that the vectors composing the square matrix are **_not_ linearly independent**."
   ]
  },
  {
   "cell_type": "code",
   "execution_count": 12,
   "metadata": {},
   "outputs": [
    {
     "data": {
      "text/plain": [
       "array([[1, 2],\n",
       "       [2, 4]])"
      ]
     },
     "execution_count": 12,
     "metadata": {},
     "output_type": "execute_result"
    }
   ],
   "source": [
    "A = np.array([[1,2],[2,4]])\n",
    "A"
   ]
  },
  {
   "cell_type": "code",
   "execution_count": 13,
   "metadata": {},
   "outputs": [
    {
     "data": {
      "text/plain": [
       "0.0"
      ]
     },
     "execution_count": 13,
     "metadata": {},
     "output_type": "execute_result"
    }
   ],
   "source": [
    "np.linalg.det(A)"
   ]
  },
  {
   "cell_type": "markdown",
   "metadata": {},
   "source": [
    "To give a better intuition of what is going on, think of the determinant as the **area of a square** (when in $\\Re^2$) generated by our two basis vectors. When we transform these vectors, that area grows and shrinks. When that area goes to zero, it means that we've collapsed to a lower dimension (i.e. down to a line if we were in $\\Re^2$). Thus, the determinant tells us if there is sufficient information in the matrix to take us back to where we started (i.e. if the column and row space of our square matrix are actually linearly independent). \n",
    "\n",
    "Note that when the determinant of a matrix is 0 we call it **singular**."
   ]
  },
  {
   "cell_type": "markdown",
   "metadata": {},
   "source": [
    "> NOTE: that finding the determinant for an $n \\times n$ matrix is more involved! See the reading for a deeper discussion on this. We'll be reallying on our computers to compute these values, but it's useful to have a deeper understanding of the steps. "
   ]
  },
  {
   "cell_type": "markdown",
   "metadata": {},
   "source": [
    "### Which of these matrices are invertible?"
   ]
  },
  {
   "cell_type": "code",
   "execution_count": 14,
   "metadata": {},
   "outputs": [
    {
     "name": "stdout",
     "output_type": "stream",
     "text": [
      "[[14 -7]\n",
      " [ 2 -1]] \n",
      "\n",
      "[[ 0.77779745 -0.17091718 -0.12806878 -1.69963388  1.24676357]\n",
      " [-0.28142446  2.07175298 -2.28949965 -0.10746434 -2.01481466]\n",
      " [-1.6150838  -0.33371972  0.42910805 -1.4224432  -0.50361778]\n",
      " [ 0.81800728  0.54981972 -2.67746079  0.93390451  1.49761176]] \n",
      "\n",
      "[[0 0 0 0]\n",
      " [1 0 0 1]\n",
      " [0 1 0 0]] \n",
      "\n"
     ]
    }
   ],
   "source": [
    "X = np.array([[14,-7],[2,-1]])\n",
    "Y = np.random.randn(4,5)\n",
    "Z = np.array([[0,0,0,0],\n",
    "              [1,0,0,1],\n",
    "              [0,1,0,0]])\n",
    "print(X,\"\\n\");print(Y,\"\\n\");print(Z,\"\\n\")"
   ]
  }
 ],
 "metadata": {
  "kernelspec": {
   "display_name": "Python 3",
   "language": "python",
   "name": "python3"
  },
  "language_info": {
   "codemirror_mode": {
    "name": "ipython",
    "version": 3
   },
   "file_extension": ".py",
   "mimetype": "text/x-python",
   "name": "python",
   "nbconvert_exporter": "python",
   "pygments_lexer": "ipython3",
   "version": "3.7.0"
  },
  "toc": {
   "base_numbering": 1,
   "nav_menu": {},
   "number_sections": false,
   "sideBar": false,
   "skip_h1_title": false,
   "title_cell": "Table of Contents",
   "title_sidebar": "Contents",
   "toc_cell": false,
   "toc_position": {},
   "toc_section_display": true,
   "toc_window_display": false
  }
 },
 "nbformat": 4,
 "nbformat_minor": 2
}

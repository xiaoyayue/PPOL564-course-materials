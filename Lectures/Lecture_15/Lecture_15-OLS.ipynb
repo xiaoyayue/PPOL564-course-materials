{
 "cells": [
  {
   "cell_type": "markdown",
   "metadata": {},
   "source": [
    "<h1><center> PPOLS564: Foundations of Data Science </center><h1>\n",
    "<h3><center> Lecture 15 <br><br><font color='grey'> A Geometric Interpretation of Ordinary Least Squares Regression </font></center></h3>"
   ]
  },
  {
   "cell_type": "code",
   "execution_count": 124,
   "metadata": {},
   "outputs": [],
   "source": [
    "import numpy as np\n",
    "import numpy.linalg as la\n",
    "import matplotlib.pyplot as plt\n",
    "import statsmodels.formula.api as smf\n",
    "import pandas as pd"
   ]
  },
  {
   "cell_type": "markdown",
   "metadata": {},
   "source": [
    "## Generating Fake Data \n",
    "\n",
    "Let's generate some fake data where we know the true coefficient values. "
   ]
  },
  {
   "cell_type": "code",
   "execution_count": 42,
   "metadata": {},
   "outputs": [],
   "source": [
    "np.random.seed(123)         # set seed to repoduce results\n",
    "N = 100                     # set sample size\n",
    "x = np.random.normal(0,1,N) # simulate a random variable\n",
    "e = np.random.normal(0,1,N) # simulate error\n",
    "y = 1 +  3*x + e            # generate some y that is a function of x and random error"
   ]
  },
  {
   "cell_type": "code",
   "execution_count": 43,
   "metadata": {},
   "outputs": [
    {
     "data": {
      "text/plain": [
       "array([[ 1.        ,  0.99734545],\n",
       "       [ 1.        ,  0.2829785 ],\n",
       "       [ 1.        , -1.50629471],\n",
       "       [ 1.        , -0.57860025]])"
      ]
     },
     "execution_count": 43,
     "metadata": {},
     "output_type": "execute_result"
    }
   ],
   "source": [
    "# Combine X in into a design matrix with a columns of ones (for the constant)\n",
    "X  = np.vstack([np.ones(N),x]).T\n",
    "X[1:5,:]"
   ]
  },
  {
   "cell_type": "markdown",
   "metadata": {},
   "source": [
    "Plot the data to get a feel for what is going on."
   ]
  },
  {
   "cell_type": "code",
   "execution_count": 44,
   "metadata": {},
   "outputs": [
    {
     "data": {
      "image/png": "[encoded data removed]",
      "text/plain": [
       "<Figure size 504x360 with 1 Axes>"
      ]
     },
     "metadata": {},
     "output_type": "display_data"
    }
   ],
   "source": [
    "plt.figure(figsize=(7,5))\n",
    "plt.scatter(X[:,1],y)\n",
    "plt.show()"
   ]
  },
  {
   "cell_type": "markdown",
   "metadata": {},
   "source": [
    "# Geometric Interpretation of OLS\n",
    "\n",
    "The following discussion will tie together what we've learned up to this point about linear algebra and apply it one of the most commonly used statistical model in our tool kit. "
   ]
  },
  {
   "cell_type": "markdown",
   "metadata": {},
   "source": [
    "## Column Space of a Matrix of Explanatory Variables"
   ]
  },
  {
   "cell_type": "markdown",
   "metadata": {},
   "source": [
    "Say we had a some variables in matrix $\\textbf{X}$ that we wanted to use to predict some outcome $\\textbf{y}$. \n",
    "\n",
    "$\\textbf{X}_{n\\times p}$ is a matrix with dimensions $n$ (the number of observations) and $p$ (the number of variables).\n",
    "\n",
    "First, as we've learned, if the column space of $\\textbf{X}$ --- $C(\\textbf{X})$ --- is of full rank (meaning each column vector is linearly independent) then we can think of $C(\\textbf{X})$ as spanning the space in $\\Re^p$ (which we'll represent for the sake of convenience as a two dimensional plane in $\\Re^2$)"
   ]
  },
  {
   "cell_type": "markdown",
   "metadata": {},
   "source": [
    "![](figures/col-space-fig.png)"
   ]
  },
  {
   "cell_type": "markdown",
   "metadata": {},
   "source": [
    "## Outcome as a Vector "
   ]
  },
  {
   "cell_type": "markdown",
   "metadata": {},
   "source": [
    "As we've seen in previous lectures, our outcome variable can be represented as a column vector $\\vec{\\textbf{y}}$ with some magnitude and direction.\n",
    "\n",
    "The dimensions of this column vector are $\\textbf{y}_{n\\times 1}$, where $n$ corresponds with the number of observations. "
   ]
  },
  {
   "cell_type": "markdown",
   "metadata": {},
   "source": [
    "##  Using a linear combination of $\\textbf{X}_{n\\times p}$ to approximate $\\textbf{y}_{n\\times 1}$"
   ]
  },
  {
   "cell_type": "markdown",
   "metadata": {},
   "source": [
    "Our goal is to find a linear combination of the vectors in matrix $\\textbf{X}_{n\\times p}$ that yields $\\textbf{y}_{n\\times 1}$.\n",
    "\n",
    "However, there might not be enough information in $\\textbf{X}_{n\\times p}$ to do this. \n",
    "\n",
    "Put differently, $\\textbf{y}_{n\\times 1}$ could be thought of as shooting off the plane of $\\textbf{X}_{n\\times p}$. "
   ]
  },
  {
   "cell_type": "markdown",
   "metadata": {},
   "source": [
    "![](figures/outcome-vec-fig.png)"
   ]
  },
  {
   "cell_type": "markdown",
   "metadata": {},
   "source": [
    "Given that we can't find a linear combination of $\\textbf{X}_{n\\times p}$ to get to   $\\textbf{y}_{n\\times 1}$. We can approximate the relationship by taking the **projection** of $\\textbf{y}_{n\\times 1}$ ( $\\hat{\\textbf{y}}$) on $C(\\textbf{X}_{n\\times p})$.\n",
    "\n",
    "This projection is going to be some **linear combination** of the column vectors of $\\textbf{X}$. Recall that we can get anywhere in the span of $\\textbf{X}$ by arbitrarily scaling and adding the linearly independent vectors.\n",
    "\n",
    "$$ c_1\\vec{x}_1 +  c_2\\vec{x}_2 + \\dots + c_p\\vec{x}_p $$\n",
    "\n",
    "We want to find the constants that generate the projection of $\\hat{\\textbf{y}}$. We'll call this vector $\\beta$."
   ]
  },
  {
   "cell_type": "markdown",
   "metadata": {},
   "source": [
    "## Finding $\\beta$"
   ]
  },
  {
   "cell_type": "markdown",
   "metadata": {},
   "source": [
    "Recall that to find the projection of $\\textbf{y}_{n\\times 1}$ onto $C(\\textbf{X}_{n\\times p})$, we need to shoot an **orthogonal vector** from our plane to the vector $\\textbf{y}_{n\\times 1}$. "
   ]
  },
  {
   "cell_type": "markdown",
   "metadata": {},
   "source": [
    "![](figures/full-fig.png)"
   ]
  },
  {
   "cell_type": "markdown",
   "metadata": {},
   "source": [
    "We'll call this vector $\\epsilon$. Well, it's the distance between our vectors $\\textbf{y}$ and $\\hat{\\textbf{y}}$\n",
    "\n",
    "\\begin{equation}\n",
    "\\epsilon_{n \\times 1} = \\textbf{y}_{n \\times 1} - \\hat{\\textbf{y}}_{n \\times 1}\n",
    "\\end{equation}\n",
    "\n",
    "Which we can re-express as\n",
    "\n",
    "\n",
    "\\begin{equation}\n",
    "\\epsilon_{n \\times 1} = \\textbf{y} - \\textbf{X}\\beta\n",
    "\\end{equation}\n",
    "\n",
    "Recall that two vectors are **perpendicular (orthogonal) to one another when their dot products equal 0**. Do you recall why?\n",
    "\n",
    "We want $\\epsilon$ epsilon to be orthogonal to the span of $\\textbf{X}_{n\\times p}$. Note that we must transpose $\\textbf{X}_{n\\times p}$ to multiply it by $\\epsilon_{n\\times 1}$\n",
    "\n",
    "\n",
    "\\begin{equation}\n",
    "\\textbf{X}_{p \\times n}^T \\cdot \\epsilon_{n \\times 1} = 0\n",
    "\\end{equation}\n",
    "\n",
    "Now, let's rearrange so that we can isolate our vector $\\beta$.\n",
    "\n",
    "\\begin{equation}\n",
    "\\textbf{X}_{p \\times n}^T  \\cdot ( \\textbf{y}_{n \\times 1} - \\textbf{X}_{n \\times p} \\beta_{p \\times 1} ) = 0\n",
    "\\end{equation}\n",
    "\n",
    "\\begin{equation}\n",
    "\\textbf{X}_{p \\times n}^T \\textbf{y}_{n \\times 1} - \\textbf{X}_{p \\times n}^T \\textbf{X}_{n \\times p} \\beta_{p \\times 1} = 0\n",
    "\\end{equation}\n",
    "\n",
    "\n",
    "\\begin{equation}\n",
    "\\textbf{X}_{p \\times n}^T \\textbf{y}_{n \\times 1} = \\textbf{X}_{p \\times n}^T \\textbf{X}_{n \\times p} \\beta_{p \\times 1}\n",
    "\\end{equation}\n",
    "\n",
    "\n",
    "\\begin{equation}\n",
    "(\\textbf{X}_{p \\times n}^T \\textbf{X}_{n \\times p})^{-1} \\textbf{X}_{p \\times n}^T \\textbf{y}_{n \\times 1} = \\beta_{p \\times 1}\n",
    "\\end{equation}\n",
    "\n",
    "\n",
    "This provides a formula to find our constants for the linear combination of $\\textbf{X}$ that generates our projection $\\hat{\\textbf{y}}$\n",
    "\n",
    "$$ \\beta = (\\textbf{X}^T \\textbf{X})^{-1} \\textbf{X}^T \\textbf{y}$$"
   ]
  },
  {
   "cell_type": "code",
   "execution_count": 46,
   "metadata": {},
   "outputs": [
    {
     "data": {
      "text/plain": [
       "array([0.98091425, 2.98340745])"
      ]
     },
     "execution_count": 46,
     "metadata": {},
     "output_type": "execute_result"
    }
   ],
   "source": [
    "B = la.inv(X.T.dot(X)).dot(X.T.dot(y))\n",
    "B"
   ]
  },
  {
   "cell_type": "markdown",
   "metadata": {},
   "source": [
    "## Generating $\\hat{\\textbf{y}}$\n",
    "\n",
    "As we've seen earlier, we can now generate a projection of $\\textbf{y}$ by dotting the vector $\\beta$ by $\\textbf{X}$.\n",
    "\n",
    "$$ \\hat{\\textbf{y}}_{n \\times p} = \\textbf{X}_{n \\times p} \\cdot \\beta_{p \\times 1}$$"
   ]
  },
  {
   "cell_type": "code",
   "execution_count": 48,
   "metadata": {},
   "outputs": [],
   "source": [
    "y_hat = X.dot(B)"
   ]
  },
  {
   "cell_type": "markdown",
   "metadata": {},
   "source": [
    "Let's plot this "
   ]
  },
  {
   "cell_type": "code",
   "execution_count": 49,
   "metadata": {},
   "outputs": [
    {
     "data": {
      "image/png": "[encoded data removed]",
      "text/plain": [
       "<Figure size 504x360 with 1 Axes>"
      ]
     },
     "metadata": {},
     "output_type": "display_data"
    }
   ],
   "source": [
    "plt.figure(figsize=(7,5))\n",
    "plt.scatter(X[:,1],y)\n",
    "plt.plot(X[:,1],y_hat,color=\"orange\")\n",
    "plt.show()"
   ]
  },
  {
   "cell_type": "markdown",
   "metadata": {},
   "source": [
    "## What is $\\epsilon$? \n",
    "\n",
    "It's our error! We can think of it as the distance between our approximation of $\\textbf{y}$ and the actual observed $\\textbf{y}$. Can you see why $\\epsilon$ minimizes the squared distance? \n",
    "\n",
    "Recall that we can get a vectors squared length by dotting the vector by itself.\n",
    "\n",
    "$$ \\epsilon_{1 \\times n}^T \\cdot \\epsilon_{n \\times 1} = ||\\epsilon||^2$$\n",
    "\n",
    "When $\\epsilon$ is orthogonal to $\\textbf{X}$ we're minimizing the length of $\\epsilon$. Any other (non-orthogonal) vector would have a greater length than our current vector $\\epsilon$."
   ]
  },
  {
   "cell_type": "markdown",
   "metadata": {},
   "source": [
    "![](figures/alt-epsilon-fig.png)"
   ]
  },
  {
   "cell_type": "code",
   "execution_count": null,
   "metadata": {},
   "outputs": [],
   "source": [
    "e = y - y_hat"
   ]
  },
  {
   "cell_type": "code",
   "execution_count": 174,
   "metadata": {},
   "outputs": [
    {
     "data": {
      "image/png": "[encoded data removed]",
      "text/plain": [
       "<Figure size 504x360 with 1 Axes>"
      ]
     },
     "metadata": {},
     "output_type": "display_data"
    }
   ],
   "source": [
    "plt.figure(figsize=(7,5))\n",
    "plt.hist(e,alpha=.6)\n",
    "plt.show()"
   ]
  },
  {
   "cell_type": "markdown",
   "metadata": {},
   "source": [
    "## Assessing Fit: R-Squared"
   ]
  },
  {
   "cell_type": "markdown",
   "metadata": {
    "variables": {
     "y": "array([0.12, 0.11, 0.19, 0.13, 0.1 , 0.  , 0.21, 0.21, 0.13, 0.18, 0.29,\n       0.08, 0.25, 0.19, 0.12, 0.19, 0.14, 0.18, 0.1 , 0.11, 0.17, 0.17,\n       0.22, 0.12, 0.3 , 0.21, 0.1 , 0.  , 0.31, 0.13, 0.23, 0.12, 0.18,\n       0.18, 0.16, 0.17, 0.12, 0.13, 0.14, 0.15, 0.14, 0.17, 0.13, 0.24,\n       0.15, 0.17, 0.12, 0.31, 0.22, 0.25, 0.13, 0.35, 0.12, 0.11, 0.24,\n       0.2 , 0.15, 0.2 , 0.23, 0.13, 0.14, 0.17, 0.12, 0.13, 0.22, 0.12,\n       0.32, 0.12])"
    }
   },
   "source": [
    "Recall a projection is really a scaled version of the vector being projected. This provides an intuitive way to think of model fit. \n",
    "\n",
    "We'll first need to center $\\textbf{y}^* = \\textbf{y}-\\bar{y} $ and $\\hat{\\textbf{y}}^* = \\hat{\\textbf{y}} - \\bar{\\hat{{y}}}$.\n",
    "\n",
    "\n",
    "We can take the length of the projection and divided it by the length of the observed vector. \n",
    "\n",
    "$$ \\frac{||\\hat{\\textbf{y}}^*||^2}{||\\textbf{y}^* ||^2}$$\n",
    "\n",
    "\n",
    "If the lengths are the same, then this ratio will equal 1. That is, if $\\textbf{y}$ lands on the plane created by $C(\\textbf{X})$, then our projection and $\\textbf{y}$ are equivalent (i.e. $\\textbf{y}$ is a linear dependent on $C(\\textbf{X})$). If the length don't project onto one another at all then this ratio will equal 0 (meaning that all $C(\\textbf{X})$ is completely orthogonal to our outcome vector $\\textbf{y}$).\n",
    "\n",
    "This ratio is our **R-Squared**, which we use to assess model fit."
   ]
  },
  {
   "cell_type": "code",
   "execution_count": 64,
   "metadata": {},
   "outputs": [
    {
     "data": {
      "text/plain": [
       "0.9233409734326694"
      ]
     },
     "execution_count": 64,
     "metadata": {},
     "output_type": "execute_result"
    }
   ],
   "source": [
    "y_hat_center = y_hat - y_hat.mean()\n",
    "y_center = y - y.mean()\n",
    "\n",
    "# R Squared\n",
    "r_squared = y_hat_center.dot(y_hat_center)/y_center.dot(y_center)\n",
    "r_squared"
   ]
  },
  {
   "cell_type": "markdown",
   "metadata": {},
   "source": [
    "In fact, we can think of the length of $||\\textbf{y}^*||^2$ as being scaled by the angle (i.e. the cosine/correlation) between $\\textbf{y}^*$ and our projection $\\hat{\\textbf{y}}^*$\n",
    "\n",
    "$$ ||\\hat{\\textbf{y}}^*||^2 = ||\\textbf{y}^*\\cos{\\theta} ||^2 $$\n",
    "\n",
    "$$ ||\\hat{\\textbf{y}}^*||^2 = ||\\textbf{y}^*corr(\\textbf{y}^*,\\hat{\\textbf{y}}^*)||^2 $$"
   ]
  },
  {
   "cell_type": "code",
   "execution_count": 60,
   "metadata": {},
   "outputs": [
    {
     "data": {
      "text/plain": [
       "0.9609063291667237"
      ]
     },
     "execution_count": 60,
     "metadata": {},
     "output_type": "execute_result"
    }
   ],
   "source": [
    "def cosine(a,b):\n",
    "    '''Our function calculating cosine between two vectors\n",
    "    '''\n",
    "    cos = np.dot(a,b)/(np.sqrt(np.dot(a,a)) * np.sqrt(np.dot(b,b))  )\n",
    "    return cos\n",
    "\n",
    "\n",
    "# The correlation between our observed value and our prediction\n",
    "cos = cosine(y_hat_center,y_center)\n",
    "cos"
   ]
  },
  {
   "cell_type": "code",
   "execution_count": 62,
   "metadata": {},
   "outputs": [
    {
     "data": {
      "text/plain": [
       "0.9233409734326679"
      ]
     },
     "execution_count": 62,
     "metadata": {},
     "output_type": "execute_result"
    }
   ],
   "source": [
    "u = y_center*cos\n",
    "u.dot(u)/y_center.dot(y_center)"
   ]
  },
  {
   "cell_type": "markdown",
   "metadata": {},
   "source": [
    "Finally, an alternative specification using the error instead."
   ]
  },
  {
   "cell_type": "code",
   "execution_count": 63,
   "metadata": {},
   "outputs": [
    {
     "data": {
      "text/plain": [
       "0.9233409734326684"
      ]
     },
     "execution_count": 63,
     "metadata": {},
     "output_type": "execute_result"
    }
   ],
   "source": [
    "1 - (e.dot(e)/y_center.dot(y_center))"
   ]
  },
  {
   "cell_type": "markdown",
   "metadata": {},
   "source": [
    "## Calculating Uncertainty\n",
    "\n",
    "Calculating the uncertainty in our estimates of $\\beta$ relies on the Gauss-Markov assumptions and some manipulations of the resulting equations. (We won't not cover these in class, but see [here](https://web.stanford.edu/~mrosenfe/soc_meth_proj3/matrix_OLS_NYU_notes.pdf) for more details on how these estimates are derived and why they are unbiased given the assumptions). That said, let's think through how to calculate the uncertainty. \n",
    "\n",
    "Recall that our orthogonal vector $\\textbf{e}$ is the error in the model. \n",
    "\n",
    "We can calculate our estimate of uncertainty by taking the length of $\\textbf{e}$ and dividing it by our sample size $N$ adjusted for our degrees of freedom (i.e. the number of parameters we had $p$). \n",
    "\n",
    "$$\\hat{\\sigma}^2 = \\frac{||e||^2}{n-p}   = \\frac{e^T\\cdot e}{n-p}  $$\n",
    "\n",
    "This will provide use with a scalar that we'll then apply to our matrix of explanatory variables to calculate the **standard error** of our coefficients $\\beta$.\n",
    "\n",
    "$$ cov(\\beta) = \\hat{\\sigma}^2 (\\textbf{X}^T \\textbf{X})^{-1} $$\n",
    "\n",
    "$$ D = diag(cov(\\beta)) $$\n",
    "\n",
    "$$ se(\\beta) = \\sqrt{D} $$\n"
   ]
  },
  {
   "cell_type": "code",
   "execution_count": 66,
   "metadata": {},
   "outputs": [
    {
     "data": {
      "text/plain": [
       "0.9598505223222047"
      ]
     },
     "execution_count": 66,
     "metadata": {},
     "output_type": "execute_result"
    }
   ],
   "source": [
    "# Let's calculate the uncertainty\n",
    "n = X.shape[0]\n",
    "p = X.shape[1]\n",
    "sigma2 = e.T.dot(e)/(n-p)\n",
    "sigma2"
   ]
  },
  {
   "cell_type": "code",
   "execution_count": 107,
   "metadata": {},
   "outputs": [
    {
     "data": {
      "text/plain": [
       "array([[ 0.00960405, -0.00020442],\n",
       "       [-0.00020442,  0.0075405 ]])"
      ]
     },
     "execution_count": 107,
     "metadata": {},
     "output_type": "execute_result"
    }
   ],
   "source": [
    "cov_B = sigma2*la.inv(X.T.dot(X))\n",
    "cov_B"
   ]
  },
  {
   "cell_type": "code",
   "execution_count": 108,
   "metadata": {},
   "outputs": [
    {
     "data": {
      "text/plain": [
       "array([0.00960405, 0.0075405 ])"
      ]
     },
     "execution_count": 108,
     "metadata": {},
     "output_type": "execute_result"
    }
   ],
   "source": [
    "D = cov_B.diagonal()\n",
    "D"
   ]
  },
  {
   "cell_type": "code",
   "execution_count": 109,
   "metadata": {},
   "outputs": [
    {
     "data": {
      "text/plain": [
       "array([0.09800024, 0.08683606])"
      ]
     },
     "execution_count": 109,
     "metadata": {},
     "output_type": "execute_result"
    }
   ],
   "source": [
    "se = np.sqrt(D)\n",
    "se"
   ]
  },
  {
   "cell_type": "markdown",
   "metadata": {},
   "source": [
    "### How did we do?\n",
    "\n",
    "Let's compare our calculations those yielded by the statsmodels package."
   ]
  },
  {
   "cell_type": "code",
   "execution_count": 110,
   "metadata": {},
   "outputs": [
    {
     "name": "stdout",
     "output_type": "stream",
     "text": [
      "\n",
      "Our Manually Generated Values:\n",
      "\n",
      "    Intercept: 0.9809 (0.098)\n",
      "            x: 2.9834 (0.087)\n",
      "\n",
      "    R-Squared: 0.923\n",
      "\n"
     ]
    }
   ],
   "source": [
    "# Use \n",
    "\n",
    "print(f'''\n",
    "Our Manually Generated Values:\n",
    "\n",
    "    Intercept: {B[0].round(4)} ({se[0].round(3)})\n",
    "            x: {B[1].round(4)} ({se[1].round(3)})\n",
    "\n",
    "    R-Squared: {r_squared.round(3)}\n",
    "''')"
   ]
  },
  {
   "cell_type": "code",
   "execution_count": 111,
   "metadata": {},
   "outputs": [
    {
     "data": {
      "text/html": [
       "<table class=\"simpletable\">\n",
       "<caption>OLS Regression Results</caption>\n",
       "<tr>\n",
       "  <th>Dep. Variable:</th>            <td>y</td>        <th>  R-squared:         </th> <td>   0.923</td>\n",
       "</tr>\n",
       "<tr>\n",
       "  <th>Model:</th>                   <td>OLS</td>       <th>  Adj. R-squared:    </th> <td>   0.923</td>\n",
       "</tr>\n",
       "<tr>\n",
       "  <th>Method:</th>             <td>Least Squares</td>  <th>  F-statistic:       </th> <td>   1180.</td>\n",
       "</tr>\n",
       "<tr>\n",
       "  <th>Date:</th>             <td>Sun, 04 Nov 2018</td> <th>  Prob (F-statistic):</th> <td>1.84e-56</td>\n",
       "</tr>\n",
       "<tr>\n",
       "  <th>Time:</th>                 <td>18:28:37</td>     <th>  Log-Likelihood:    </th> <td> -138.83</td>\n",
       "</tr>\n",
       "<tr>\n",
       "  <th>No. Observations:</th>      <td>   100</td>      <th>  AIC:               </th> <td>   281.7</td>\n",
       "</tr>\n",
       "<tr>\n",
       "  <th>Df Residuals:</th>          <td>    98</td>      <th>  BIC:               </th> <td>   286.9</td>\n",
       "</tr>\n",
       "<tr>\n",
       "  <th>Df Model:</th>              <td>     1</td>      <th>                     </th>     <td> </td>   \n",
       "</tr>\n",
       "<tr>\n",
       "  <th>Covariance Type:</th>      <td>nonrobust</td>    <th>                     </th>     <td> </td>   \n",
       "</tr>\n",
       "</table>\n",
       "<table class=\"simpletable\">\n",
       "<tr>\n",
       "      <td></td>         <th>coef</th>     <th>std err</th>      <th>t</th>      <th>P>|t|</th>  <th>[0.025</th>    <th>0.975]</th>  \n",
       "</tr>\n",
       "<tr>\n",
       "  <th>Intercept</th> <td>    0.9809</td> <td>    0.098</td> <td>   10.009</td> <td> 0.000</td> <td>    0.786</td> <td>    1.175</td>\n",
       "</tr>\n",
       "<tr>\n",
       "  <th>x</th>         <td>    2.9834</td> <td>    0.087</td> <td>   34.357</td> <td> 0.000</td> <td>    2.811</td> <td>    3.156</td>\n",
       "</tr>\n",
       "</table>\n",
       "<table class=\"simpletable\">\n",
       "<tr>\n",
       "  <th>Omnibus:</th>       <td> 5.027</td> <th>  Durbin-Watson:     </th> <td>   1.860</td>\n",
       "</tr>\n",
       "<tr>\n",
       "  <th>Prob(Omnibus):</th> <td> 0.081</td> <th>  Jarque-Bera (JB):  </th> <td>   5.131</td>\n",
       "</tr>\n",
       "<tr>\n",
       "  <th>Skew:</th>          <td>-0.308</td> <th>  Prob(JB):          </th> <td>  0.0769</td>\n",
       "</tr>\n",
       "<tr>\n",
       "  <th>Kurtosis:</th>      <td> 3.924</td> <th>  Cond. No.          </th> <td>    1.13</td>\n",
       "</tr>\n",
       "</table><br/><br/>Warnings:<br/>[1] Standard Errors assume that the covariance matrix of the errors is correctly specified."
      ],
      "text/plain": [
       "<class 'statsmodels.iolib.summary.Summary'>\n",
       "\"\"\"\n",
       "                            OLS Regression Results                            \n",
       "==============================================================================\n",
       "Dep. Variable:                      y   R-squared:                       0.923\n",
       "Model:                            OLS   Adj. R-squared:                  0.923\n",
       "Method:                 Least Squares   F-statistic:                     1180.\n",
       "Date:                Sun, 04 Nov 2018   Prob (F-statistic):           1.84e-56\n",
       "Time:                        18:28:37   Log-Likelihood:                -138.83\n",
       "No. Observations:                 100   AIC:                             281.7\n",
       "Df Residuals:                      98   BIC:                             286.9\n",
       "Df Model:                           1                                         \n",
       "Covariance Type:            nonrobust                                         \n",
       "==============================================================================\n",
       "                 coef    std err          t      P>|t|      [0.025      0.975]\n",
       "------------------------------------------------------------------------------\n",
       "Intercept      0.9809      0.098     10.009      0.000       0.786       1.175\n",
       "x              2.9834      0.087     34.357      0.000       2.811       3.156\n",
       "==============================================================================\n",
       "Omnibus:                        5.027   Durbin-Watson:                   1.860\n",
       "Prob(Omnibus):                  0.081   Jarque-Bera (JB):                5.131\n",
       "Skew:                          -0.308   Prob(JB):                       0.0769\n",
       "Kurtosis:                       3.924   Cond. No.                         1.13\n",
       "==============================================================================\n",
       "\n",
       "Warnings:\n",
       "[1] Standard Errors assume that the covariance matrix of the errors is correctly specified.\n",
       "\"\"\""
      ]
     },
     "execution_count": 111,
     "metadata": {},
     "output_type": "execute_result"
    }
   ],
   "source": [
    "model = smf.ols('y ~ x', data=pd.DataFrame(dict(y=y,x=X[:,1]))).fit()\n",
    "model.summary()"
   ]
  },
  {
   "cell_type": "markdown",
   "metadata": {},
   "source": [
    "# OLS as transformation matrices\n",
    "\n",
    "We've seen that we can generate a projection of $\\textbf{y}$ onto $C(\\textbf{X})$ using the following formula.\n",
    "\n",
    "$$\\hat{\\textbf{y}} = \\textbf{X}\\beta$$\n",
    "\n",
    "Where \n",
    "\n",
    "$$ \\beta = (\\textbf{X}^T \\textbf{X})^{-1} \\textbf{X}^T \\textbf{y}$$\n",
    "\n",
    "So we can re-write this as \n",
    "\n",
    "$$\\hat{\\textbf{y}} = \\textbf{X}(\\textbf{X}^T \\textbf{X})^{-1} \\textbf{X}^T \\textbf{y}$$\n",
    "\n",
    "$$\\hat{\\textbf{y}} = \\textbf{H} \\textbf{y}$$\n",
    "\n",
    "$\\textbf{H}$ is known as the \"Hat Matrix\". $\\textbf{H}$ transforms the vector $\\textbf{y}$ into $\\hat{\\textbf{y}}$."
   ]
  },
  {
   "cell_type": "code",
   "execution_count": 99,
   "metadata": {},
   "outputs": [],
   "source": [
    "H = X.dot(la.inv(X.T.dot(X)).dot(X.T))\n",
    "y_hat2 = H.dot(y)"
   ]
  },
  {
   "cell_type": "code",
   "execution_count": 121,
   "metadata": {},
   "outputs": [
    {
     "data": {
      "image/png": "[encoded data removed]",
      "text/plain": [
       "<Figure size 720x288 with 1 Axes>"
      ]
     },
     "metadata": {},
     "output_type": "display_data"
    }
   ],
   "source": [
    "plt.figure(figsize=(10,4))\n",
    "plt.scatter(y_hat,y_hat2)\n",
    "plt.xlabel('Y Hat via our matrix transformation')\n",
    "plt.ylabel('Y Hat via XB')\n",
    "plt.show()"
   ]
  },
  {
   "cell_type": "markdown",
   "metadata": {},
   "source": [
    "Likewise, consider the formula for our orthogonal vector $e$, our error. \n",
    "\n",
    "$$\\textbf{e} = \\textbf{y} - \\textbf{X}\\beta$$\n",
    "\n",
    "$$\\textbf{e} = \\textbf{y} - \\textbf{X}(\\textbf{X}^T \\textbf{X})^{-1} \\textbf{X}^T \\textbf{y}$$\n",
    "\n",
    "We can factor out $\\textbf{y}$\n",
    "\n",
    "$$\\textbf{e} = (\\textbf{I} - \\textbf{X}(\\textbf{X}^T \\textbf{X})^{-1} \\textbf{X}^T) \\textbf{y}$$\n",
    "\n",
    "$$\\textbf{e} = \\textbf{M}\\textbf{y}$$\n",
    "\n",
    "$\\textbf{M}$ transforms the vector $\\textbf{y}$ into $\\textbf{e}$.\n",
    "\n",
    "\n",
    "Thus, we can decompose $\\textbf{y}$ to the following expression.\n",
    "\n",
    "$$ \\textbf{y} =  \\textbf{H} \\textbf{y} + \\textbf{M}\\textbf{y} $$\n",
    "\n",
    "```\n",
    "                              outcome = prediction + error\n",
    "```"
   ]
  },
  {
   "cell_type": "code",
   "execution_count": 120,
   "metadata": {},
   "outputs": [
    {
     "data": {
      "image/png": "[encoded data removed]",
      "text/plain": [
       "<Figure size 720x288 with 1 Axes>"
      ]
     },
     "metadata": {},
     "output_type": "display_data"
    }
   ],
   "source": [
    "M = np.eye(N) - X.dot(la.inv(X.T.dot(X)).dot(X.T))\n",
    "e2 = M.dot(y)\n",
    "plt.figure(figsize=(10,4))\n",
    "plt.scatter(e,e2)\n",
    "plt.xlabel('Error via our matrix transformation')\n",
    "plt.ylabel('Error via XB')\n",
    "plt.show()"
   ]
  },
  {
   "cell_type": "markdown",
   "metadata": {},
   "source": [
    "$\\textbf{H}$ and  $\\textbf{M}$ have some interesting properties.\n",
    "\n",
    "\n",
    "1. They're orthogonal to one another. \n",
    "\n",
    "$$ \\textbf{H}\\textbf{M} = 0 $$"
   ]
  },
  {
   "cell_type": "markdown",
   "metadata": {},
   "source": [
    "2. They're idempotent\n",
    "\n",
    "$$ \\textbf{H}\\textbf{H} = \\textbf{H} $$\n",
    "\n",
    "$$ \\textbf{M}\\textbf{M} = \\textbf{M} $$"
   ]
  },
  {
   "cell_type": "markdown",
   "metadata": {},
   "source": [
    "3. When combined, they yield an identity matrix.\n",
    "\n",
    "$$ \\textbf{H} + \\textbf{M} = \\textbf{I} $$"
   ]
  },
  {
   "cell_type": "markdown",
   "metadata": {},
   "source": [
    "Again, the point is to reinforce that when performing some operation on a vector, we can express that operation (function) as a matrix. "
   ]
  },
  {
   "cell_type": "markdown",
   "metadata": {},
   "source": [
    "# Applied Example\n",
    "\n",
    "Let's take what we've just learned and apply it to a real world dataset. The following is our **Chicago Crime Data** that we curated in the last assignment.\n",
    "\n",
    "**_Question_**: Does violent crimes lead to a higher arrest rate?"
   ]
  },
  {
   "cell_type": "code",
   "execution_count": 127,
   "metadata": {},
   "outputs": [
    {
     "data": {
      "text/html": [
       "<div>\n",
       "<style scoped>\n",
       "    .dataframe tbody tr th:only-of-type {\n",
       "        vertical-align: middle;\n",
       "    }\n",
       "\n",
       "    .dataframe tbody tr th {\n",
       "        vertical-align: top;\n",
       "    }\n",
       "\n",
       "    .dataframe thead th {\n",
       "        text-align: right;\n",
       "    }\n",
       "</style>\n",
       "<table border=\"1\" class=\"dataframe\">\n",
       "  <thead>\n",
       "    <tr style=\"text-align: right;\">\n",
       "      <th></th>\n",
       "      <th>district</th>\n",
       "      <th>month</th>\n",
       "      <th>N_crimes</th>\n",
       "      <th>N_violent_crimes</th>\n",
       "      <th>N_nonviolent_crimes</th>\n",
       "      <th>crime_rate</th>\n",
       "      <th>arrest_rate</th>\n",
       "    </tr>\n",
       "  </thead>\n",
       "  <tbody>\n",
       "    <tr>\n",
       "      <th>0</th>\n",
       "      <td>19</td>\n",
       "      <td>8</td>\n",
       "      <td>1177</td>\n",
       "      <td>218.0</td>\n",
       "      <td>959</td>\n",
       "      <td>average</td>\n",
       "      <td>0.12</td>\n",
       "    </tr>\n",
       "    <tr>\n",
       "      <th>1</th>\n",
       "      <td>16</td>\n",
       "      <td>6</td>\n",
       "      <td>727</td>\n",
       "      <td>189.0</td>\n",
       "      <td>538</td>\n",
       "      <td>average</td>\n",
       "      <td>0.11</td>\n",
       "    </tr>\n",
       "    <tr>\n",
       "      <th>2</th>\n",
       "      <td>4</td>\n",
       "      <td>7</td>\n",
       "      <td>1266</td>\n",
       "      <td>435.0</td>\n",
       "      <td>831</td>\n",
       "      <td>average</td>\n",
       "      <td>0.19</td>\n",
       "    </tr>\n",
       "    <tr>\n",
       "      <th>3</th>\n",
       "      <td>24</td>\n",
       "      <td>8</td>\n",
       "      <td>771</td>\n",
       "      <td>174.0</td>\n",
       "      <td>597</td>\n",
       "      <td>average</td>\n",
       "      <td>0.13</td>\n",
       "    </tr>\n",
       "    <tr>\n",
       "      <th>4</th>\n",
       "      <td>17</td>\n",
       "      <td>8</td>\n",
       "      <td>635</td>\n",
       "      <td>159.0</td>\n",
       "      <td>476</td>\n",
       "      <td>low</td>\n",
       "      <td>0.10</td>\n",
       "    </tr>\n",
       "  </tbody>\n",
       "</table>\n",
       "</div>"
      ],
      "text/plain": [
       "   district  month  N_crimes  N_violent_crimes  N_nonviolent_crimes  \\\n",
       "0        19      8      1177             218.0                  959   \n",
       "1        16      6       727             189.0                  538   \n",
       "2         4      7      1266             435.0                  831   \n",
       "3        24      8       771             174.0                  597   \n",
       "4        17      8       635             159.0                  476   \n",
       "\n",
       "  crime_rate  arrest_rate  \n",
       "0    average         0.12  \n",
       "1    average         0.11  \n",
       "2    average         0.19  \n",
       "3    average         0.13  \n",
       "4        low         0.10  "
      ]
     },
     "execution_count": 127,
     "metadata": {},
     "output_type": "execute_result"
    }
   ],
   "source": [
    "dat = pd.read_csv('crime-disctrict-month.csv')\n",
    "dat.head()"
   ]
  },
  {
   "cell_type": "code",
   "execution_count": 162,
   "metadata": {},
   "outputs": [],
   "source": [
    "# Generate new proportion variable\n",
    "dat['prop_viol'] = dat['N_violent_crimes']/dat['N_crimes']"
   ]
  },
  {
   "cell_type": "code",
   "execution_count": 163,
   "metadata": {},
   "outputs": [
    {
     "data": {
      "text/html": [
       "<div>\n",
       "<style scoped>\n",
       "    .dataframe tbody tr th:only-of-type {\n",
       "        vertical-align: middle;\n",
       "    }\n",
       "\n",
       "    .dataframe tbody tr th {\n",
       "        vertical-align: top;\n",
       "    }\n",
       "\n",
       "    .dataframe thead th {\n",
       "        text-align: right;\n",
       "    }\n",
       "</style>\n",
       "<table border=\"1\" class=\"dataframe\">\n",
       "  <thead>\n",
       "    <tr style=\"text-align: right;\">\n",
       "      <th></th>\n",
       "      <th>arrest_rate</th>\n",
       "      <th>prop_viol</th>\n",
       "      <th>N_crimes</th>\n",
       "    </tr>\n",
       "  </thead>\n",
       "  <tbody>\n",
       "    <tr>\n",
       "      <th>arrest_rate</th>\n",
       "      <td>1.000000</td>\n",
       "      <td>0.388906</td>\n",
       "      <td>0.599844</td>\n",
       "    </tr>\n",
       "    <tr>\n",
       "      <th>prop_viol</th>\n",
       "      <td>0.388906</td>\n",
       "      <td>1.000000</td>\n",
       "      <td>-0.113937</td>\n",
       "    </tr>\n",
       "    <tr>\n",
       "      <th>N_crimes</th>\n",
       "      <td>0.599844</td>\n",
       "      <td>-0.113937</td>\n",
       "      <td>1.000000</td>\n",
       "    </tr>\n",
       "  </tbody>\n",
       "</table>\n",
       "</div>"
      ],
      "text/plain": [
       "             arrest_rate  prop_viol  N_crimes\n",
       "arrest_rate     1.000000   0.388906  0.599844\n",
       "prop_viol       0.388906   1.000000 -0.113937\n",
       "N_crimes        0.599844  -0.113937  1.000000"
      ]
     },
     "execution_count": 163,
     "metadata": {},
     "output_type": "execute_result"
    }
   ],
   "source": [
    "D = dat[['arrest_rate','prop_viol','N_crimes']]\n",
    "D.corr()"
   ]
  },
  {
   "cell_type": "code",
   "execution_count": 168,
   "metadata": {},
   "outputs": [
    {
     "data": {
      "image/png": "[encoded data removed]",
      "text/plain": [
       "<Figure size 576x576 with 9 Axes>"
      ]
     },
     "metadata": {},
     "output_type": "display_data"
    }
   ],
   "source": [
    "axes = pd.plotting.scatter_matrix(D, alpha=0.8,figsize=(8,8))"
   ]
  },
  {
   "cell_type": "markdown",
   "metadata": {},
   "source": [
    "Let's use the above discussion to estimate this relationship using what we've just learned!"
   ]
  }
 ],
 "metadata": {
  "kernelspec": {
   "display_name": "Python 3",
   "language": "python",
   "name": "python3"
  },
  "language_info": {
   "codemirror_mode": {
    "name": "ipython",
    "version": 3
   },
   "file_extension": ".py",
   "mimetype": "text/x-python",
   "name": "python",
   "nbconvert_exporter": "python",
   "pygments_lexer": "ipython3",
   "version": "3.7.0"
  },
  "toc": {
   "base_numbering": 1,
   "nav_menu": {},
   "number_sections": false,
   "sideBar": false,
   "skip_h1_title": false,
   "title_cell": "Table of Contents",
   "title_sidebar": "Contents",
   "toc_cell": false,
   "toc_position": {},
   "toc_section_display": true,
   "toc_window_display": false
  }
 },
 "nbformat": 4,
 "nbformat_minor": 2
}

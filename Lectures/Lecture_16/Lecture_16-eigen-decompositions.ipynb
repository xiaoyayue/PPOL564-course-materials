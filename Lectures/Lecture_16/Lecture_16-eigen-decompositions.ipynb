{
 "cells": [
  {
   "cell_type": "markdown",
   "metadata": {},
   "source": [
    "<h1><center> PPOLS564: Foundations of Data Science </center><h1>\n",
    "<h3><center> Lecture 16 <br><br><font color='grey'> Eigen Decompositions </font></center></h3>\n",
    "\n",
    "# Concepts Covered:\n",
    "\n",
    "- Intuition of what eigenvalues and eigenvectors are\n",
    "- Deriving eigenvalues and eigenvectors\n",
    "- Eigendecompositions\n",
    "- Properties of the Eigens"
   ]
  },
  {
   "cell_type": "code",
   "execution_count": 1,
   "metadata": {},
   "outputs": [
    {
     "data": {
      "text/html": [
       "\n",
       "    <div class=\"bk-root\">\n",
       "        <a href=\"https://bokeh.pydata.org\" target=\"_blank\" class=\"bk-logo bk-logo-small bk-logo-notebook\"></a>\n",
       "        <span id=\"5ff4b62e-03b9-4425-8bc4-d203ab0deeee\">Loading BokehJS ...</span>\n",
       "    </div>"
      ]
     },
     "metadata": {},
     "output_type": "display_data"
    },
    {
     "data": {
      "application/javascript": [
       "\n",
       "(function(root) {\n",
       "  function now() {\n",
       "    return new Date();\n",
       "  }\n",
       "\n",
       "  var force = true;\n",
       "\n",
       "  if (typeof (root._bokeh_onload_callbacks) === \"undefined\" || force === true) {\n",
       "    root._bokeh_onload_callbacks = [];\n",
       "    root._bokeh_is_loading = undefined;\n",
       "  }\n",
       "\n",
       "  var JS_MIME_TYPE = 'application/javascript';\n",
       "  var HTML_MIME_TYPE = 'text/html';\n",
       "  var EXEC_MIME_TYPE = 'application/vnd.bokehjs_exec.v0+json';\n",
       "  var CLASS_NAME = 'output_bokeh rendered_html';\n",
       "\n",
       "  /**\n",
       "   * Render data to the DOM node\n",
       "   */\n",
       "  function render(props, node) {\n",
       "    var script = document.createElement(\"script\");\n",
       "    node.appendChild(script);\n",
       "  }\n",
       "\n",
       "  /**\n",
       "   * Handle when an output is cleared or removed\n",
       "   */\n",
       "  function handleClearOutput(event, handle) {\n",
       "    var cell = handle.cell;\n",
       "\n",
       "    var id = cell.output_area._bokeh_element_id;\n",
       "    var server_id = cell.output_area._bokeh_server_id;\n",
       "    // Clean up Bokeh references\n",
       "    if (id != null && id in Bokeh.index) {\n",
       "      Bokeh.index[id].model.document.clear();\n",
       "      delete Bokeh.index[id];\n",
       "    }\n",
       "\n",
       "    if (server_id !== undefined) {\n",
       "      // Clean up Bokeh references\n",
       "      var cmd = \"from bokeh.io.state import curstate; print(curstate().uuid_to_server['\" + server_id + \"'].get_sessions()[0].document.roots[0]._id)\";\n",
       "      cell.notebook.kernel.execute(cmd, {\n",
       "        iopub: {\n",
       "          output: function(msg) {\n",
       "            var id = msg.content.text.trim();\n",
       "            if (id in Bokeh.index) {\n",
       "              Bokeh.index[id].model.document.clear();\n",
       "              delete Bokeh.index[id];\n",
       "            }\n",
       "          }\n",
       "        }\n",
       "      });\n",
       "      // Destroy server and session\n",
       "      var cmd = \"import bokeh.io.notebook as ion; ion.destroy_server('\" + server_id + \"')\";\n",
       "      cell.notebook.kernel.execute(cmd);\n",
       "    }\n",
       "  }\n",
       "\n",
       "  /**\n",
       "   * Handle when a new output is added\n",
       "   */\n",
       "  function handleAddOutput(event, handle) {\n",
       "    var output_area = handle.output_area;\n",
       "    var output = handle.output;\n",
       "\n",
       "    // limit handleAddOutput to display_data with EXEC_MIME_TYPE content only\n",
       "    if ((output.output_type != \"display_data\") || (!output.data.hasOwnProperty(EXEC_MIME_TYPE))) {\n",
       "      return\n",
       "    }\n",
       "\n",
       "    var toinsert = output_area.element.find(\".\" + CLASS_NAME.split(' ')[0]);\n",
       "\n",
       "    if (output.metadata[EXEC_MIME_TYPE][\"id\"] !== undefined) {\n",
       "      toinsert[toinsert.length - 1].firstChild.textContent = output.data[JS_MIME_TYPE];\n",
       "      // store reference to embed id on output_area\n",
       "      output_area._bokeh_element_id = output.metadata[EXEC_MIME_TYPE][\"id\"];\n",
       "    }\n",
       "    if (output.metadata[EXEC_MIME_TYPE][\"server_id\"] !== undefined) {\n",
       "      var bk_div = document.createElement(\"div\");\n",
       "      bk_div.innerHTML = output.data[HTML_MIME_TYPE];\n",
       "      var script_attrs = bk_div.children[0].attributes;\n",
       "      for (var i = 0; i < script_attrs.length; i++) {\n",
       "        toinsert[toinsert.length - 1].firstChild.setAttribute(script_attrs[i].name, script_attrs[i].value);\n",
       "      }\n",
       "      // store reference to server id on output_area\n",
       "      output_area._bokeh_server_id = output.metadata[EXEC_MIME_TYPE][\"server_id\"];\n",
       "    }\n",
       "  }\n",
       "\n",
       "  function register_renderer(events, OutputArea) {\n",
       "\n",
       "    function append_mime(data, metadata, element) {\n",
       "      // create a DOM node to render to\n",
       "      var toinsert = this.create_output_subarea(\n",
       "        metadata,\n",
       "        CLASS_NAME,\n",
       "        EXEC_MIME_TYPE\n",
       "      );\n",
       "      this.keyboard_manager.register_events(toinsert);\n",
       "      // Render to node\n",
       "      var props = {data: data, metadata: metadata[EXEC_MIME_TYPE]};\n",
       "      render(props, toinsert[toinsert.length - 1]);\n",
       "      element.append(toinsert);\n",
       "      return toinsert\n",
       "    }\n",
       "\n",
       "    /* Handle when an output is cleared or removed */\n",
       "    events.on('clear_output.CodeCell', handleClearOutput);\n",
       "    events.on('delete.Cell', handleClearOutput);\n",
       "\n",
       "    /* Handle when a new output is added */\n",
       "    events.on('output_added.OutputArea', handleAddOutput);\n",
       "\n",
       "    /**\n",
       "     * Register the mime type and append_mime function with output_area\n",
       "     */\n",
       "    OutputArea.prototype.register_mime_type(EXEC_MIME_TYPE, append_mime, {\n",
       "      /* Is output safe? */\n",
       "      safe: true,\n",
       "      /* Index of renderer in `output_area.display_order` */\n",
       "      index: 0\n",
       "    });\n",
       "  }\n",
       "\n",
       "  // register the mime type if in Jupyter Notebook environment and previously unregistered\n",
       "  if (root.Jupyter !== undefined) {\n",
       "    var events = require('base/js/events');\n",
       "    var OutputArea = require('notebook/js/outputarea').OutputArea;\n",
       "\n",
       "    if (OutputArea.prototype.mime_types().indexOf(EXEC_MIME_TYPE) == -1) {\n",
       "      register_renderer(events, OutputArea);\n",
       "    }\n",
       "  }\n",
       "\n",
       "  \n",
       "  if (typeof (root._bokeh_timeout) === \"undefined\" || force === true) {\n",
       "    root._bokeh_timeout = Date.now() + 5000;\n",
       "    root._bokeh_failed_load = false;\n",
       "  }\n",
       "\n",
       "  var NB_LOAD_WARNING = {'data': {'text/html':\n",
       "     \"<div style='background-color: #fdd'>\\n\"+\n",
       "     \"<p>\\n\"+\n",
       "     \"BokehJS does not appear to have successfully loaded. If loading BokehJS from CDN, this \\n\"+\n",
       "     \"may be due to a slow or bad network connection. Possible fixes:\\n\"+\n",
       "     \"</p>\\n\"+\n",
       "     \"<ul>\\n\"+\n",
       "     \"<li>re-rerun `output_notebook()` to attempt to load from CDN again, or</li>\\n\"+\n",
       "     \"<li>use INLINE resources instead, as so:</li>\\n\"+\n",
       "     \"</ul>\\n\"+\n",
       "     \"<code>\\n\"+\n",
       "     \"from bokeh.resources import INLINE\\n\"+\n",
       "     \"output_notebook(resources=INLINE)\\n\"+\n",
       "     \"</code>\\n\"+\n",
       "     \"</div>\"}};\n",
       "\n",
       "  function display_loaded() {\n",
       "    var el = document.getElementById(\"5ff4b62e-03b9-4425-8bc4-d203ab0deeee\");\n",
       "    if (el != null) {\n",
       "      el.textContent = \"BokehJS is loading...\";\n",
       "    }\n",
       "    if (root.Bokeh !== undefined) {\n",
       "      if (el != null) {\n",
       "        el.textContent = \"BokehJS \" + root.Bokeh.version + \" successfully loaded.\";\n",
       "      }\n",
       "    } else if (Date.now() < root._bokeh_timeout) {\n",
       "      setTimeout(display_loaded, 100)\n",
       "    }\n",
       "  }\n",
       "\n",
       "\n",
       "  function run_callbacks() {\n",
       "    try {\n",
       "      root._bokeh_onload_callbacks.forEach(function(callback) { callback() });\n",
       "    }\n",
       "    finally {\n",
       "      delete root._bokeh_onload_callbacks\n",
       "    }\n",
       "    console.info(\"Bokeh: all callbacks have finished\");\n",
       "  }\n",
       "\n",
       "  function load_libs(js_urls, callback) {\n",
       "    root._bokeh_onload_callbacks.push(callback);\n",
       "    if (root._bokeh_is_loading > 0) {\n",
       "      console.log(\"Bokeh: BokehJS is being loaded, scheduling callback at\", now());\n",
       "      return null;\n",
       "    }\n",
       "    if (js_urls == null || js_urls.length === 0) {\n",
       "      run_callbacks();\n",
       "      return null;\n",
       "    }\n",
       "    console.log(\"Bokeh: BokehJS not loaded, scheduling load and callback at\", now());\n",
       "    root._bokeh_is_loading = js_urls.length;\n",
       "    for (var i = 0; i < js_urls.length; i++) {\n",
       "      var url = js_urls[i];\n",
       "      var s = document.createElement('script');\n",
       "      s.src = url;\n",
       "      s.async = false;\n",
       "      s.onreadystatechange = s.onload = function() {\n",
       "        root._bokeh_is_loading--;\n",
       "        if (root._bokeh_is_loading === 0) {\n",
       "          console.log(\"Bokeh: all BokehJS libraries loaded\");\n",
       "          run_callbacks()\n",
       "        }\n",
       "      };\n",
       "      s.onerror = function() {\n",
       "        console.warn(\"failed to load library \" + url);\n",
       "      };\n",
       "      console.log(\"Bokeh: injecting script tag for BokehJS library: \", url);\n",
       "      document.getElementsByTagName(\"head\")[0].appendChild(s);\n",
       "    }\n",
       "  };var element = document.getElementById(\"5ff4b62e-03b9-4425-8bc4-d203ab0deeee\");\n",
       "  if (element == null) {\n",
       "    console.log(\"Bokeh: ERROR: autoload.js configured with elementid '5ff4b62e-03b9-4425-8bc4-d203ab0deeee' but no matching script tag was found. \")\n",
       "    return false;\n",
       "  }\n",
       "\n",
       "  var js_urls = [\"https://cdn.pydata.org/bokeh/release/bokeh-0.13.0.min.js\", \"https://cdn.pydata.org/bokeh/release/bokeh-widgets-0.13.0.min.js\", \"https://cdn.pydata.org/bokeh/release/bokeh-tables-0.13.0.min.js\", \"https://cdn.pydata.org/bokeh/release/bokeh-gl-0.13.0.min.js\"];\n",
       "\n",
       "  var inline_js = [\n",
       "    function(Bokeh) {\n",
       "      Bokeh.set_log_level(\"info\");\n",
       "    },\n",
       "    \n",
       "    function(Bokeh) {\n",
       "      \n",
       "    },\n",
       "    function(Bokeh) {\n",
       "      console.log(\"Bokeh: injecting CSS: https://cdn.pydata.org/bokeh/release/bokeh-0.13.0.min.css\");\n",
       "      Bokeh.embed.inject_css(\"https://cdn.pydata.org/bokeh/release/bokeh-0.13.0.min.css\");\n",
       "      console.log(\"Bokeh: injecting CSS: https://cdn.pydata.org/bokeh/release/bokeh-widgets-0.13.0.min.css\");\n",
       "      Bokeh.embed.inject_css(\"https://cdn.pydata.org/bokeh/release/bokeh-widgets-0.13.0.min.css\");\n",
       "      console.log(\"Bokeh: injecting CSS: https://cdn.pydata.org/bokeh/release/bokeh-tables-0.13.0.min.css\");\n",
       "      Bokeh.embed.inject_css(\"https://cdn.pydata.org/bokeh/release/bokeh-tables-0.13.0.min.css\");\n",
       "    }\n",
       "  ];\n",
       "\n",
       "  function run_inline_js() {\n",
       "    \n",
       "    if ((root.Bokeh !== undefined) || (force === true)) {\n",
       "      for (var i = 0; i < inline_js.length; i++) {\n",
       "        inline_js[i].call(root, root.Bokeh);\n",
       "      }if (force === true) {\n",
       "        display_loaded();\n",
       "      }} else if (Date.now() < root._bokeh_timeout) {\n",
       "      setTimeout(run_inline_js, 100);\n",
       "    } else if (!root._bokeh_failed_load) {\n",
       "      console.log(\"Bokeh: BokehJS failed to load within specified timeout.\");\n",
       "      root._bokeh_failed_load = true;\n",
       "    } else if (force !== true) {\n",
       "      var cell = $(document.getElementById(\"5ff4b62e-03b9-4425-8bc4-d203ab0deeee\")).parents('.cell').data().cell;\n",
       "      cell.output_area.append_execute_result(NB_LOAD_WARNING)\n",
       "    }\n",
       "\n",
       "  }\n",
       "\n",
       "  if (root._bokeh_is_loading === 0) {\n",
       "    console.log(\"Bokeh: BokehJS loaded, going straight to plotting\");\n",
       "    run_inline_js();\n",
       "  } else {\n",
       "    load_libs(js_urls, function() {\n",
       "      console.log(\"Bokeh: BokehJS plotting callback run at\", now());\n",
       "      run_inline_js();\n",
       "    });\n",
       "  }\n",
       "}(window));"
      ],
      "application/vnd.bokehjs_load.v0+json": "\n(function(root) {\n  function now() {\n    return new Date();\n  }\n\n  var force = true;\n\n  if (typeof (root._bokeh_onload_callbacks) === \"undefined\" || force === true) {\n    root._bokeh_onload_callbacks = [];\n    root._bokeh_is_loading = undefined;\n  }\n\n  \n\n  \n  if (typeof (root._bokeh_timeout) === \"undefined\" || force === true) {\n    root._bokeh_timeout = Date.now() + 5000;\n    root._bokeh_failed_load = false;\n  }\n\n  var NB_LOAD_WARNING = {'data': {'text/html':\n     \"<div style='background-color: #fdd'>\\n\"+\n     \"<p>\\n\"+\n     \"BokehJS does not appear to have successfully loaded. If loading BokehJS from CDN, this \\n\"+\n     \"may be due to a slow or bad network connection. Possible fixes:\\n\"+\n     \"</p>\\n\"+\n     \"<ul>\\n\"+\n     \"<li>re-rerun `output_notebook()` to attempt to load from CDN again, or</li>\\n\"+\n     \"<li>use INLINE resources instead, as so:</li>\\n\"+\n     \"</ul>\\n\"+\n     \"<code>\\n\"+\n     \"from bokeh.resources import INLINE\\n\"+\n     \"output_notebook(resources=INLINE)\\n\"+\n     \"</code>\\n\"+\n     \"</div>\"}};\n\n  function display_loaded() {\n    var el = document.getElementById(\"5ff4b62e-03b9-4425-8bc4-d203ab0deeee\");\n    if (el != null) {\n      el.textContent = \"BokehJS is loading...\";\n    }\n    if (root.Bokeh !== undefined) {\n      if (el != null) {\n        el.textContent = \"BokehJS \" + root.Bokeh.version + \" successfully loaded.\";\n      }\n    } else if (Date.now() < root._bokeh_timeout) {\n      setTimeout(display_loaded, 100)\n    }\n  }\n\n\n  function run_callbacks() {\n    try {\n      root._bokeh_onload_callbacks.forEach(function(callback) { callback() });\n    }\n    finally {\n      delete root._bokeh_onload_callbacks\n    }\n    console.info(\"Bokeh: all callbacks have finished\");\n  }\n\n  function load_libs(js_urls, callback) {\n    root._bokeh_onload_callbacks.push(callback);\n    if (root._bokeh_is_loading > 0) {\n      console.log(\"Bokeh: BokehJS is being loaded, scheduling callback at\", now());\n      return null;\n    }\n    if (js_urls == null || js_urls.length === 0) {\n      run_callbacks();\n      return null;\n    }\n    console.log(\"Bokeh: BokehJS not loaded, scheduling load and callback at\", now());\n    root._bokeh_is_loading = js_urls.length;\n    for (var i = 0; i < js_urls.length; i++) {\n      var url = js_urls[i];\n      var s = document.createElement('script');\n      s.src = url;\n      s.async = false;\n      s.onreadystatechange = s.onload = function() {\n        root._bokeh_is_loading--;\n        if (root._bokeh_is_loading === 0) {\n          console.log(\"Bokeh: all BokehJS libraries loaded\");\n          run_callbacks()\n        }\n      };\n      s.onerror = function() {\n        console.warn(\"failed to load library \" + url);\n      };\n      console.log(\"Bokeh: injecting script tag for BokehJS library: \", url);\n      document.getElementsByTagName(\"head\")[0].appendChild(s);\n    }\n  };var element = document.getElementById(\"5ff4b62e-03b9-4425-8bc4-d203ab0deeee\");\n  if (element == null) {\n    console.log(\"Bokeh: ERROR: autoload.js configured with elementid '5ff4b62e-03b9-4425-8bc4-d203ab0deeee' but no matching script tag was found. \")\n    return false;\n  }\n\n  var js_urls = [\"https://cdn.pydata.org/bokeh/release/bokeh-0.13.0.min.js\", \"https://cdn.pydata.org/bokeh/release/bokeh-widgets-0.13.0.min.js\", \"https://cdn.pydata.org/bokeh/release/bokeh-tables-0.13.0.min.js\", \"https://cdn.pydata.org/bokeh/release/bokeh-gl-0.13.0.min.js\"];\n\n  var inline_js = [\n    function(Bokeh) {\n      Bokeh.set_log_level(\"info\");\n    },\n    \n    function(Bokeh) {\n      \n    },\n    function(Bokeh) {\n      console.log(\"Bokeh: injecting CSS: https://cdn.pydata.org/bokeh/release/bokeh-0.13.0.min.css\");\n      Bokeh.embed.inject_css(\"https://cdn.pydata.org/bokeh/release/bokeh-0.13.0.min.css\");\n      console.log(\"Bokeh: injecting CSS: https://cdn.pydata.org/bokeh/release/bokeh-widgets-0.13.0.min.css\");\n      Bokeh.embed.inject_css(\"https://cdn.pydata.org/bokeh/release/bokeh-widgets-0.13.0.min.css\");\n      console.log(\"Bokeh: injecting CSS: https://cdn.pydata.org/bokeh/release/bokeh-tables-0.13.0.min.css\");\n      Bokeh.embed.inject_css(\"https://cdn.pydata.org/bokeh/release/bokeh-tables-0.13.0.min.css\");\n    }\n  ];\n\n  function run_inline_js() {\n    \n    if ((root.Bokeh !== undefined) || (force === true)) {\n      for (var i = 0; i < inline_js.length; i++) {\n        inline_js[i].call(root, root.Bokeh);\n      }if (force === true) {\n        display_loaded();\n      }} else if (Date.now() < root._bokeh_timeout) {\n      setTimeout(run_inline_js, 100);\n    } else if (!root._bokeh_failed_load) {\n      console.log(\"Bokeh: BokehJS failed to load within specified timeout.\");\n      root._bokeh_failed_load = true;\n    } else if (force !== true) {\n      var cell = $(document.getElementById(\"5ff4b62e-03b9-4425-8bc4-d203ab0deeee\")).parents('.cell').data().cell;\n      cell.output_area.append_execute_result(NB_LOAD_WARNING)\n    }\n\n  }\n\n  if (root._bokeh_is_loading === 0) {\n    console.log(\"Bokeh: BokehJS loaded, going straight to plotting\");\n    run_inline_js();\n  } else {\n    load_libs(js_urls, function() {\n      console.log(\"Bokeh: BokehJS plotting callback run at\", now());\n      run_inline_js();\n    });\n  }\n}(window));"
     },
     "metadata": {},
     "output_type": "display_data"
    }
   ],
   "source": [
    "import numpy as np\n",
    "import numpy.linalg as la\n",
    "import matplotlib.pyplot as plt\n",
    "from visualize import LinearAlgebra as vla\n",
    "plot = vla()"
   ]
  },
  {
   "cell_type": "markdown",
   "metadata": {},
   "source": [
    "# What are Eigen Vectors and Values?"
   ]
  },
  {
   "cell_type": "markdown",
   "metadata": {},
   "source": [
    "Say we have some transformation matrix $\\textbf{A}$."
   ]
  },
  {
   "cell_type": "code",
   "execution_count": 2,
   "metadata": {},
   "outputs": [
    {
     "data": {
      "text/plain": [
       "array([[1, 2],\n",
       "       [2, 1]])"
      ]
     },
     "execution_count": 2,
     "metadata": {},
     "output_type": "execute_result"
    }
   ],
   "source": [
    "A = np.array([[1,2],\n",
    "              [2,1]])\n",
    "A"
   ]
  },
  {
   "cell_type": "markdown",
   "metadata": {},
   "source": [
    "Let's transform some vector $\\vec{x}$ by $\\textbf{A}$."
   ]
  },
  {
   "cell_type": "code",
   "execution_count": 3,
   "metadata": {},
   "outputs": [
    {
     "name": "stdout",
     "output_type": "stream",
     "text": [
      "Original vector x\n",
      "[-0.3  0.1]\n",
      "\n",
      "Ax\n",
      "[-0.1 -0.5]\n",
      "\n",
      "AAx\n",
      "[-1.1 -0.7]\n",
      "\n",
      "AAAx\n",
      "[-2.5 -2.9]\n"
     ]
    }
   ],
   "source": [
    "x = np.array([-.3,.1])\n",
    "\n",
    "print('Original vector x')\n",
    "print(x)\n",
    "\n",
    "# What happens to as we transform x by matrix A?\n",
    "print(\"\\nAx\")\n",
    "print(A.dot(x))\n",
    "print(\"\\nAAx\")\n",
    "print(A.dot(A.dot(x)))\n",
    "print(\"\\nAAAx\")\n",
    "print(A.dot(A.dot(A.dot(x))))"
   ]
  },
  {
   "cell_type": "markdown",
   "metadata": {},
   "source": [
    "Let's do the same thing again with vector $\\vec{v}$"
   ]
  },
  {
   "cell_type": "code",
   "execution_count": 4,
   "metadata": {},
   "outputs": [
    {
     "name": "stdout",
     "output_type": "stream",
     "text": [
      "Original vector v\n",
      "[0.7 0.7]\n",
      "\n",
      "Av\n",
      "[2.1 2.1]\n",
      "\n",
      "AAv\n",
      "[6.3 6.3]\n",
      "\n",
      "AAAv\n",
      "[18.9 18.9]\n"
     ]
    }
   ],
   "source": [
    "v = np.array([.7,.7])\n",
    "\n",
    "print('Original vector v')\n",
    "print(v)\n",
    "\n",
    "\n",
    "# What happens to as we transform v by matrix A?\n",
    "print(\"\\nAv\")\n",
    "print(A.dot(v))\n",
    "print(\"\\nAAv\")\n",
    "print(A.dot(A.dot(v)))\n",
    "print(\"\\nAAAv\")\n",
    "print(A.dot(A.dot(A.dot(v))))"
   ]
  },
  {
   "cell_type": "markdown",
   "metadata": {},
   "source": [
    "Let's visualize this..."
   ]
  },
  {
   "cell_type": "code",
   "execution_count": 5,
   "metadata": {},
   "outputs": [
    {
     "data": {
      "text/html": [
       "\n",
       "\n",
       "\n",
       "\n",
       "\n",
       "\n",
       "  <div class=\"bk-root\" id=\"1033401b-d1d5-49c8-a6ab-ed00ef719b8a\"></div>\n"
      ]
     },
     "metadata": {},
     "output_type": "display_data"
    },
    {
     "data": {
      "application/javascript": [
       "(function(root) {\n",
       "  function embed_document(root) {\n",
       "    \n",
       "  var docs_json = {\"ed48575c-6568-412b-be53-44a8f6b9babf\":{\"roots\":{\"references\":[{\"attributes\":{},\"id\":\"aefff93e-c740-48b1-bfaf-de5bd9ec9370\",\"type\":\"Selection\"},{\"attributes\":{\"callback\":null,\"end\":3.5,\"start\":-3.5},\"id\":\"3252b6a0-3b85-419e-b863-6d7a135f5114\",\"type\":\"Range1d\"},{\"attributes\":{},\"id\":\"a96127b0-60b2-4e0c-856f-83a0e27df622\",\"type\":\"LinearScale\"},{\"attributes\":{},\"id\":\"69de1ea7-4013-44c5-9efa-32348090d4f5\",\"type\":\"LinearScale\"},{\"attributes\":{\"formatter\":{\"id\":\"635f8120-5081-4b19-b48e-146a835700e1\",\"type\":\"BasicTickFormatter\"},\"plot\":{\"id\":\"a0d35cdc-799a-4d91-a9ec-759d5ed874c3\",\"subtype\":\"Figure\",\"type\":\"Plot\"},\"ticker\":{\"id\":\"a451e2f3-4403-48e2-85f0-697cd1af6f4b\",\"type\":\"BasicTicker\"}},\"id\":\"ccb60640-49e6-4d68-9631-093012888990\",\"type\":\"LinearAxis\"},{\"attributes\":{\"plot\":{\"id\":\"a0d35cdc-799a-4d91-a9ec-759d5ed874c3\",\"subtype\":\"Figure\",\"type\":\"Plot\"},\"ticker\":{\"id\":\"24ec4ad2-b687-41ce-97ea-a9b5fd70403d\",\"type\":\"BasicTicker\"}},\"id\":\"ff46c26f-bc63-43f7-aa32-d6f57639da7f\",\"type\":\"Grid\"},{\"attributes\":{\"source\":{\"id\":\"83dfd951-bbb0-4a59-ab9d-090a007464b5\",\"type\":\"ColumnDataSource\"}},\"id\":\"9cc03af0-c467-42a7-9f2a-2cdf73b1993a\",\"type\":\"CDSView\"},{\"attributes\":{\"formatter\":{\"id\":\"5e553465-9b57-470c-a64f-bba7e89385a6\",\"type\":\"BasicTickFormatter\"},\"plot\":{\"id\":\"a0d35cdc-799a-4d91-a9ec-759d5ed874c3\",\"subtype\":\"Figure\",\"type\":\"Plot\"},\"ticker\":{\"id\":\"24ec4ad2-b687-41ce-97ea-a9b5fd70403d\",\"type\":\"BasicTicker\"}},\"id\":\"86c68361-3db1-4266-a250-e4e6ca8bc60e\",\"type\":\"LinearAxis\"},{\"attributes\":{\"callback\":null,\"data\":{\"x\":[-5.0,5.0],\"y\":[0.0,0.0]},\"selected\":{\"id\":\"aefff93e-c740-48b1-bfaf-de5bd9ec9370\",\"type\":\"Selection\"},\"selection_policy\":{\"id\":\"6798ed37-a2fc-418c-a3ca-4091d3a310a3\",\"type\":\"UnionRenderers\"}},\"id\":\"83dfd951-bbb0-4a59-ab9d-090a007464b5\",\"type\":\"ColumnDataSource\"},{\"attributes\":{\"data_source\":{\"id\":\"83dfd951-bbb0-4a59-ab9d-090a007464b5\",\"type\":\"ColumnDataSource\"},\"glyph\":{\"id\":\"ab47263a-183a-42a1-aa1f-0847a2de73f8\",\"type\":\"Line\"},\"hover_glyph\":null,\"muted_glyph\":null,\"nonselection_glyph\":{\"id\":\"69aefccb-9b6b-4c22-b994-9923b11c0584\",\"type\":\"Line\"},\"selection_glyph\":null,\"view\":{\"id\":\"9cc03af0-c467-42a7-9f2a-2cdf73b1993a\",\"type\":\"CDSView\"}},\"id\":\"0924085b-dca5-41d0-aaa6-d0381963125c\",\"type\":\"GlyphRenderer\"},{\"attributes\":{},\"id\":\"e48c8499-8cb5-4596-8548-2e6de6e2db68\",\"type\":\"Selection\"},{\"attributes\":{\"dimension\":1,\"plot\":{\"id\":\"a0d35cdc-799a-4d91-a9ec-759d5ed874c3\",\"subtype\":\"Figure\",\"type\":\"Plot\"},\"ticker\":{\"id\":\"a451e2f3-4403-48e2-85f0-697cd1af6f4b\",\"type\":\"BasicTicker\"}},\"id\":\"09dfa851-a245-4a1e-a5a0-f4b170f88574\",\"type\":\"Grid\"},{\"attributes\":{\"plot\":null,\"text\":\"\"},\"id\":\"74d4c9f1-66dd-47d5-9520-d5c30d8c21fe\",\"type\":\"Title\"},{\"attributes\":{},\"id\":\"a451e2f3-4403-48e2-85f0-697cd1af6f4b\",\"type\":\"BasicTicker\"},{\"attributes\":{\"callback\":null,\"data\":{\"x\":[0.0,0.0],\"y\":[-5.0,5.0]},\"selected\":{\"id\":\"e48c8499-8cb5-4596-8548-2e6de6e2db68\",\"type\":\"Selection\"},\"selection_policy\":{\"id\":\"bbbe71e0-4d51-45f8-b57f-ae56460d2061\",\"type\":\"UnionRenderers\"}},\"id\":\"cad81183-4b1c-4bea-91d8-bd3a5109202b\",\"type\":\"ColumnDataSource\"},{\"attributes\":{},\"id\":\"477195d4-03e7-4cc7-a768-fbf6eef3a6a7\",\"type\":\"WheelZoomTool\"},{\"attributes\":{},\"id\":\"a708d7d2-1a31-4cea-a371-3f70c8a592e2\",\"type\":\"PanTool\"},{\"attributes\":{},\"id\":\"d1ddb666-eb36-4c96-93de-368d764b180c\",\"type\":\"ResetTool\"},{\"attributes\":{\"below\":[{\"id\":\"86c68361-3db1-4266-a250-e4e6ca8bc60e\",\"type\":\"LinearAxis\"}],\"left\":[{\"id\":\"ccb60640-49e6-4d68-9631-093012888990\",\"type\":\"LinearAxis\"}],\"plot_height\":400,\"plot_width\":400,\"renderers\":[{\"id\":\"86c68361-3db1-4266-a250-e4e6ca8bc60e\",\"type\":\"LinearAxis\"},{\"id\":\"ff46c26f-bc63-43f7-aa32-d6f57639da7f\",\"type\":\"Grid\"},{\"id\":\"ccb60640-49e6-4d68-9631-093012888990\",\"type\":\"LinearAxis\"},{\"id\":\"09dfa851-a245-4a1e-a5a0-f4b170f88574\",\"type\":\"Grid\"},{\"id\":\"0924085b-dca5-41d0-aaa6-d0381963125c\",\"type\":\"GlyphRenderer\"},{\"id\":\"f2e874ba-ccaa-4ea4-a1f4-8298ae1ec625\",\"type\":\"GlyphRenderer\"},{\"id\":\"35289a8d-d72d-4d03-b5d7-40c3f014ffc1\",\"type\":\"Arrow\"},{\"id\":\"2d5c3234-f10f-4e38-8d7a-ce3b389c8804\",\"type\":\"Arrow\"}],\"title\":{\"id\":\"74d4c9f1-66dd-47d5-9520-d5c30d8c21fe\",\"type\":\"Title\"},\"toolbar\":{\"id\":\"1f51fbf9-fb62-4186-98d6-47729c330e2d\",\"type\":\"Toolbar\"},\"x_range\":{\"id\":\"f1070a2e-9d03-4dc2-a896-47bd3bf15d1f\",\"type\":\"Range1d\"},\"x_scale\":{\"id\":\"a96127b0-60b2-4e0c-856f-83a0e27df622\",\"type\":\"LinearScale\"},\"y_range\":{\"id\":\"3252b6a0-3b85-419e-b863-6d7a135f5114\",\"type\":\"Range1d\"},\"y_scale\":{\"id\":\"69de1ea7-4013-44c5-9efa-32348090d4f5\",\"type\":\"LinearScale\"}},\"id\":\"a0d35cdc-799a-4d91-a9ec-759d5ed874c3\",\"subtype\":\"Figure\",\"type\":\"Plot\"},{\"attributes\":{\"line_alpha\":0.1,\"line_color\":\"#1f77b4\",\"line_width\":1.5,\"x\":{\"field\":\"x\"},\"y\":{\"field\":\"y\"}},\"id\":\"69aefccb-9b6b-4c22-b994-9923b11c0584\",\"type\":\"Line\"},{\"attributes\":{\"data_source\":{\"id\":\"cad81183-4b1c-4bea-91d8-bd3a5109202b\",\"type\":\"ColumnDataSource\"},\"glyph\":{\"id\":\"16193e4c-f913-4d16-b262-3ace780dc90f\",\"type\":\"Line\"},\"hover_glyph\":null,\"muted_glyph\":null,\"nonselection_glyph\":{\"id\":\"d93d305b-ea79-4b34-a1b2-41e5693051ab\",\"type\":\"Line\"},\"selection_glyph\":null,\"view\":{\"id\":\"abfb5153-2f1c-490f-9132-a5b7e4e4104a\",\"type\":\"CDSView\"}},\"id\":\"f2e874ba-ccaa-4ea4-a1f4-8298ae1ec625\",\"type\":\"GlyphRenderer\"},{\"attributes\":{},\"id\":\"5e553465-9b57-470c-a64f-bba7e89385a6\",\"type\":\"BasicTickFormatter\"},{\"attributes\":{},\"id\":\"bbbe71e0-4d51-45f8-b57f-ae56460d2061\",\"type\":\"UnionRenderers\"},{\"attributes\":{\"source\":{\"id\":\"cad81183-4b1c-4bea-91d8-bd3a5109202b\",\"type\":\"ColumnDataSource\"}},\"id\":\"abfb5153-2f1c-490f-9132-a5b7e4e4104a\",\"type\":\"CDSView\"},{\"attributes\":{},\"id\":\"635f8120-5081-4b19-b48e-146a835700e1\",\"type\":\"BasicTickFormatter\"},{\"attributes\":{\"fill_color\":{\"value\":\"blue\"},\"line_color\":{\"value\":\"blue\"},\"plot\":null,\"size\":10},\"id\":\"5780a9dc-f70d-44e7-bc72-3593ddccefad\",\"type\":\"NormalHead\"},{\"attributes\":{\"line_alpha\":0.1,\"line_color\":\"#1f77b4\",\"line_width\":1.5,\"x\":{\"field\":\"x\"},\"y\":{\"field\":\"y\"}},\"id\":\"d93d305b-ea79-4b34-a1b2-41e5693051ab\",\"type\":\"Line\"},{\"attributes\":{\"plot\":null,\"size\":10},\"id\":\"198f8f9f-2b70-457f-af6f-78b9657236b8\",\"type\":\"NormalHead\"},{\"attributes\":{\"end\":{\"id\":\"5780a9dc-f70d-44e7-bc72-3593ddccefad\",\"type\":\"NormalHead\"},\"line_color\":{\"value\":\"blue\"},\"line_width\":{\"value\":3},\"plot\":{\"id\":\"a0d35cdc-799a-4d91-a9ec-759d5ed874c3\",\"subtype\":\"Figure\",\"type\":\"Plot\"},\"source\":null,\"start\":null,\"x_end\":{\"value\":0.7},\"x_start\":{\"value\":0.0},\"y_end\":{\"value\":0.7},\"y_start\":{\"value\":0.0}},\"id\":\"2d5c3234-f10f-4e38-8d7a-ce3b389c8804\",\"type\":\"Arrow\"},{\"attributes\":{\"line_width\":1.5,\"x\":{\"field\":\"x\"},\"y\":{\"field\":\"y\"}},\"id\":\"16193e4c-f913-4d16-b262-3ace780dc90f\",\"type\":\"Line\"},{\"attributes\":{\"end\":{\"id\":\"198f8f9f-2b70-457f-af6f-78b9657236b8\",\"type\":\"NormalHead\"},\"line_width\":{\"value\":3},\"plot\":{\"id\":\"a0d35cdc-799a-4d91-a9ec-759d5ed874c3\",\"subtype\":\"Figure\",\"type\":\"Plot\"},\"source\":null,\"start\":null,\"x_end\":{\"value\":-0.3},\"x_start\":{\"value\":0.0},\"y_end\":{\"value\":0.1},\"y_start\":{\"value\":0.0}},\"id\":\"35289a8d-d72d-4d03-b5d7-40c3f014ffc1\",\"type\":\"Arrow\"},{\"attributes\":{},\"id\":\"6798ed37-a2fc-418c-a3ca-4091d3a310a3\",\"type\":\"UnionRenderers\"},{\"attributes\":{\"active_drag\":\"auto\",\"active_inspect\":\"auto\",\"active_multi\":null,\"active_scroll\":\"auto\",\"active_tap\":\"auto\",\"tools\":[{\"id\":\"477195d4-03e7-4cc7-a768-fbf6eef3a6a7\",\"type\":\"WheelZoomTool\"},{\"id\":\"a708d7d2-1a31-4cea-a371-3f70c8a592e2\",\"type\":\"PanTool\"},{\"id\":\"d1ddb666-eb36-4c96-93de-368d764b180c\",\"type\":\"ResetTool\"}]},\"id\":\"1f51fbf9-fb62-4186-98d6-47729c330e2d\",\"type\":\"Toolbar\"},{\"attributes\":{\"line_width\":1.5,\"x\":{\"field\":\"x\"},\"y\":{\"field\":\"y\"}},\"id\":\"ab47263a-183a-42a1-aa1f-0847a2de73f8\",\"type\":\"Line\"},{\"attributes\":{\"callback\":null,\"end\":3.5,\"start\":-3.5},\"id\":\"f1070a2e-9d03-4dc2-a896-47bd3bf15d1f\",\"type\":\"Range1d\"},{\"attributes\":{},\"id\":\"24ec4ad2-b687-41ce-97ea-a9b5fd70403d\",\"type\":\"BasicTicker\"}],\"root_ids\":[\"a0d35cdc-799a-4d91-a9ec-759d5ed874c3\"]},\"title\":\"Bokeh Application\",\"version\":\"0.13.0\"}};\n",
       "  var render_items = [{\"docid\":\"ed48575c-6568-412b-be53-44a8f6b9babf\",\"roots\":{\"a0d35cdc-799a-4d91-a9ec-759d5ed874c3\":\"1033401b-d1d5-49c8-a6ab-ed00ef719b8a\"}}];\n",
       "  root.Bokeh.embed.embed_items_notebook(docs_json, render_items);\n",
       "\n",
       "  }\n",
       "  if (root.Bokeh !== undefined) {\n",
       "    embed_document(root);\n",
       "  } else {\n",
       "    var attempts = 0;\n",
       "    var timer = setInterval(function(root) {\n",
       "      if (root.Bokeh !== undefined) {\n",
       "        embed_document(root);\n",
       "        clearInterval(timer);\n",
       "      }\n",
       "      attempts++;\n",
       "      if (attempts > 100) {\n",
       "        console.log(\"Bokeh: ERROR: Unable to run BokehJS code because BokehJS library is missing\")\n",
       "        clearInterval(timer);\n",
       "      }\n",
       "    }, 10, root)\n",
       "  }\n",
       "})(window);"
      ],
      "application/vnd.bokehjs_exec.v0+json": ""
     },
     "metadata": {
      "application/vnd.bokehjs_exec.v0+json": {
       "id": "a0d35cdc-799a-4d91-a9ec-759d5ed874c3"
      }
     },
     "output_type": "display_data"
    }
   ],
   "source": [
    "plot.graph(extent=5)\n",
    "plot.vector(x,add_color=\"black\")\n",
    "plot.vector(v,add_color=\"blue\")\n",
    "plot.show()"
   ]
  },
  {
   "cell_type": "code",
   "execution_count": 6,
   "metadata": {},
   "outputs": [
    {
     "data": {
      "text/html": [
       "\n",
       "\n",
       "\n",
       "\n",
       "\n",
       "\n",
       "  <div class=\"bk-root\" id=\"2ac28249-d217-4b5e-84b4-b3c13e5952c1\"></div>\n"
      ]
     },
     "metadata": {},
     "output_type": "display_data"
    },
    {
     "data": {
      "application/javascript": [
       "(function(root) {\n",
       "  function embed_document(root) {\n",
       "    \n",
       "  var docs_json = {\"c21386cd-acb2-4426-a297-ff07fbed3550\":{\"roots\":{\"references\":[{\"attributes\":{},\"id\":\"aefff93e-c740-48b1-bfaf-de5bd9ec9370\",\"type\":\"Selection\"},{\"attributes\":{\"callback\":null,\"end\":3.5,\"start\":-3.5},\"id\":\"3252b6a0-3b85-419e-b863-6d7a135f5114\",\"type\":\"Range1d\"},{\"attributes\":{},\"id\":\"a96127b0-60b2-4e0c-856f-83a0e27df622\",\"type\":\"LinearScale\"},{\"attributes\":{},\"id\":\"69de1ea7-4013-44c5-9efa-32348090d4f5\",\"type\":\"LinearScale\"},{\"attributes\":{\"end\":{\"id\":\"198c33e8-03cf-4f0c-89ad-0bbf09451b61\",\"type\":\"NormalHead\"},\"line_alpha\":{\"value\":0.2},\"line_color\":{\"value\":\"blue\"},\"line_width\":{\"value\":3},\"plot\":{\"id\":\"a0d35cdc-799a-4d91-a9ec-759d5ed874c3\",\"subtype\":\"Figure\",\"type\":\"Plot\"},\"source\":null,\"start\":null,\"x_end\":{\"value\":6.299999999999999},\"x_start\":{\"value\":0.0},\"y_end\":{\"value\":6.299999999999999},\"y_start\":{\"value\":0.0}},\"id\":\"718957e8-f25d-4916-822b-30d8bee54969\",\"type\":\"Arrow\"},{\"attributes\":{\"formatter\":{\"id\":\"635f8120-5081-4b19-b48e-146a835700e1\",\"type\":\"BasicTickFormatter\"},\"plot\":{\"id\":\"a0d35cdc-799a-4d91-a9ec-759d5ed874c3\",\"subtype\":\"Figure\",\"type\":\"Plot\"},\"ticker\":{\"id\":\"a451e2f3-4403-48e2-85f0-697cd1af6f4b\",\"type\":\"BasicTicker\"}},\"id\":\"ccb60640-49e6-4d68-9631-093012888990\",\"type\":\"LinearAxis\"},{\"attributes\":{\"plot\":{\"id\":\"a0d35cdc-799a-4d91-a9ec-759d5ed874c3\",\"subtype\":\"Figure\",\"type\":\"Plot\"},\"ticker\":{\"id\":\"24ec4ad2-b687-41ce-97ea-a9b5fd70403d\",\"type\":\"BasicTicker\"}},\"id\":\"ff46c26f-bc63-43f7-aa32-d6f57639da7f\",\"type\":\"Grid\"},{\"attributes\":{\"end\":{\"id\":\"166fce81-76fb-452f-9b15-c3c0d6051f58\",\"type\":\"NormalHead\"},\"line_alpha\":{\"value\":0.2},\"line_color\":{\"value\":\"blue\"},\"line_width\":{\"value\":3},\"plot\":{\"id\":\"a0d35cdc-799a-4d91-a9ec-759d5ed874c3\",\"subtype\":\"Figure\",\"type\":\"Plot\"},\"source\":null,\"start\":null,\"x_end\":{\"value\":18.9},\"x_start\":{\"value\":0.0},\"y_end\":{\"value\":18.9},\"y_start\":{\"value\":0.0}},\"id\":\"ba35dfd0-a813-46e8-a1b7-2513abbc3d90\",\"type\":\"Arrow\"},{\"attributes\":{\"source\":{\"id\":\"83dfd951-bbb0-4a59-ab9d-090a007464b5\",\"type\":\"ColumnDataSource\"}},\"id\":\"9cc03af0-c467-42a7-9f2a-2cdf73b1993a\",\"type\":\"CDSView\"},{\"attributes\":{\"fill_alpha\":{\"value\":0.2},\"line_alpha\":{\"value\":0.2},\"plot\":null,\"size\":10},\"id\":\"2823d5de-98b4-4108-8a29-ac30feea8b9f\",\"type\":\"NormalHead\"},{\"attributes\":{\"formatter\":{\"id\":\"5e553465-9b57-470c-a64f-bba7e89385a6\",\"type\":\"BasicTickFormatter\"},\"plot\":{\"id\":\"a0d35cdc-799a-4d91-a9ec-759d5ed874c3\",\"subtype\":\"Figure\",\"type\":\"Plot\"},\"ticker\":{\"id\":\"24ec4ad2-b687-41ce-97ea-a9b5fd70403d\",\"type\":\"BasicTicker\"}},\"id\":\"86c68361-3db1-4266-a250-e4e6ca8bc60e\",\"type\":\"LinearAxis\"},{\"attributes\":{\"callback\":null,\"data\":{\"x\":[-5.0,5.0],\"y\":[0.0,0.0]},\"selected\":{\"id\":\"aefff93e-c740-48b1-bfaf-de5bd9ec9370\",\"type\":\"Selection\"},\"selection_policy\":{\"id\":\"6798ed37-a2fc-418c-a3ca-4091d3a310a3\",\"type\":\"UnionRenderers\"}},\"id\":\"83dfd951-bbb0-4a59-ab9d-090a007464b5\",\"type\":\"ColumnDataSource\"},{\"attributes\":{\"data_source\":{\"id\":\"83dfd951-bbb0-4a59-ab9d-090a007464b5\",\"type\":\"ColumnDataSource\"},\"glyph\":{\"id\":\"ab47263a-183a-42a1-aa1f-0847a2de73f8\",\"type\":\"Line\"},\"hover_glyph\":null,\"muted_glyph\":null,\"nonselection_glyph\":{\"id\":\"69aefccb-9b6b-4c22-b994-9923b11c0584\",\"type\":\"Line\"},\"selection_glyph\":null,\"view\":{\"id\":\"9cc03af0-c467-42a7-9f2a-2cdf73b1993a\",\"type\":\"CDSView\"}},\"id\":\"0924085b-dca5-41d0-aaa6-d0381963125c\",\"type\":\"GlyphRenderer\"},{\"attributes\":{},\"id\":\"e48c8499-8cb5-4596-8548-2e6de6e2db68\",\"type\":\"Selection\"},{\"attributes\":{\"dimension\":1,\"plot\":{\"id\":\"a0d35cdc-799a-4d91-a9ec-759d5ed874c3\",\"subtype\":\"Figure\",\"type\":\"Plot\"},\"ticker\":{\"id\":\"a451e2f3-4403-48e2-85f0-697cd1af6f4b\",\"type\":\"BasicTicker\"}},\"id\":\"09dfa851-a245-4a1e-a5a0-f4b170f88574\",\"type\":\"Grid\"},{\"attributes\":{\"plot\":null,\"text\":\"\"},\"id\":\"74d4c9f1-66dd-47d5-9520-d5c30d8c21fe\",\"type\":\"Title\"},{\"attributes\":{},\"id\":\"a451e2f3-4403-48e2-85f0-697cd1af6f4b\",\"type\":\"BasicTicker\"},{\"attributes\":{\"fill_alpha\":{\"value\":0.2},\"line_alpha\":{\"value\":0.2},\"plot\":null,\"size\":10},\"id\":\"e0a56260-86f4-4257-8217-82059e5535b2\",\"type\":\"NormalHead\"},{\"attributes\":{\"fill_alpha\":{\"value\":0.2},\"fill_color\":{\"value\":\"blue\"},\"line_alpha\":{\"value\":0.2},\"line_color\":{\"value\":\"blue\"},\"plot\":null,\"size\":10},\"id\":\"198c33e8-03cf-4f0c-89ad-0bbf09451b61\",\"type\":\"NormalHead\"},{\"attributes\":{\"callback\":null,\"data\":{\"x\":[0.0,0.0],\"y\":[-5.0,5.0]},\"selected\":{\"id\":\"e48c8499-8cb5-4596-8548-2e6de6e2db68\",\"type\":\"Selection\"},\"selection_policy\":{\"id\":\"bbbe71e0-4d51-45f8-b57f-ae56460d2061\",\"type\":\"UnionRenderers\"}},\"id\":\"cad81183-4b1c-4bea-91d8-bd3a5109202b\",\"type\":\"ColumnDataSource\"},{\"attributes\":{},\"id\":\"477195d4-03e7-4cc7-a768-fbf6eef3a6a7\",\"type\":\"WheelZoomTool\"},{\"attributes\":{},\"id\":\"a708d7d2-1a31-4cea-a371-3f70c8a592e2\",\"type\":\"PanTool\"},{\"attributes\":{\"fill_alpha\":{\"value\":0.2},\"line_alpha\":{\"value\":0.2},\"plot\":null,\"size\":10},\"id\":\"7f4bdf4f-5f6f-4af3-a47c-e88824c43baa\",\"type\":\"NormalHead\"},{\"attributes\":{},\"id\":\"d1ddb666-eb36-4c96-93de-368d764b180c\",\"type\":\"ResetTool\"},{\"attributes\":{\"end\":{\"id\":\"e0a56260-86f4-4257-8217-82059e5535b2\",\"type\":\"NormalHead\"},\"line_alpha\":{\"value\":0.2},\"line_width\":{\"value\":3},\"plot\":{\"id\":\"a0d35cdc-799a-4d91-a9ec-759d5ed874c3\",\"subtype\":\"Figure\",\"type\":\"Plot\"},\"source\":null,\"start\":null,\"x_end\":{\"value\":-1.1},\"x_start\":{\"value\":0.0},\"y_end\":{\"value\":-0.7},\"y_start\":{\"value\":0.0}},\"id\":\"2716eb0e-dd3d-468c-b100-3ad9f72b47e9\",\"type\":\"Arrow\"},{\"attributes\":{\"below\":[{\"id\":\"86c68361-3db1-4266-a250-e4e6ca8bc60e\",\"type\":\"LinearAxis\"}],\"left\":[{\"id\":\"ccb60640-49e6-4d68-9631-093012888990\",\"type\":\"LinearAxis\"}],\"plot_height\":400,\"plot_width\":400,\"renderers\":[{\"id\":\"86c68361-3db1-4266-a250-e4e6ca8bc60e\",\"type\":\"LinearAxis\"},{\"id\":\"ff46c26f-bc63-43f7-aa32-d6f57639da7f\",\"type\":\"Grid\"},{\"id\":\"ccb60640-49e6-4d68-9631-093012888990\",\"type\":\"LinearAxis\"},{\"id\":\"09dfa851-a245-4a1e-a5a0-f4b170f88574\",\"type\":\"Grid\"},{\"id\":\"0924085b-dca5-41d0-aaa6-d0381963125c\",\"type\":\"GlyphRenderer\"},{\"id\":\"f2e874ba-ccaa-4ea4-a1f4-8298ae1ec625\",\"type\":\"GlyphRenderer\"},{\"id\":\"35289a8d-d72d-4d03-b5d7-40c3f014ffc1\",\"type\":\"Arrow\"},{\"id\":\"2d5c3234-f10f-4e38-8d7a-ce3b389c8804\",\"type\":\"Arrow\"},{\"id\":\"85ade867-3211-4b48-b460-3e1a251fe2f4\",\"type\":\"Arrow\"},{\"id\":\"2716eb0e-dd3d-468c-b100-3ad9f72b47e9\",\"type\":\"Arrow\"},{\"id\":\"b7c9d8c7-c09f-4a1e-a1a9-e122ddd62808\",\"type\":\"Arrow\"},{\"id\":\"7104813e-29c0-4d37-b672-3889bc6b7370\",\"type\":\"Arrow\"},{\"id\":\"718957e8-f25d-4916-822b-30d8bee54969\",\"type\":\"Arrow\"},{\"id\":\"ba35dfd0-a813-46e8-a1b7-2513abbc3d90\",\"type\":\"Arrow\"}],\"title\":{\"id\":\"74d4c9f1-66dd-47d5-9520-d5c30d8c21fe\",\"type\":\"Title\"},\"toolbar\":{\"id\":\"1f51fbf9-fb62-4186-98d6-47729c330e2d\",\"type\":\"Toolbar\"},\"x_range\":{\"id\":\"f1070a2e-9d03-4dc2-a896-47bd3bf15d1f\",\"type\":\"Range1d\"},\"x_scale\":{\"id\":\"a96127b0-60b2-4e0c-856f-83a0e27df622\",\"type\":\"LinearScale\"},\"y_range\":{\"id\":\"3252b6a0-3b85-419e-b863-6d7a135f5114\",\"type\":\"Range1d\"},\"y_scale\":{\"id\":\"69de1ea7-4013-44c5-9efa-32348090d4f5\",\"type\":\"LinearScale\"}},\"id\":\"a0d35cdc-799a-4d91-a9ec-759d5ed874c3\",\"subtype\":\"Figure\",\"type\":\"Plot\"},{\"attributes\":{\"line_alpha\":0.1,\"line_color\":\"#1f77b4\",\"line_width\":1.5,\"x\":{\"field\":\"x\"},\"y\":{\"field\":\"y\"}},\"id\":\"69aefccb-9b6b-4c22-b994-9923b11c0584\",\"type\":\"Line\"},{\"attributes\":{\"fill_alpha\":{\"value\":0.2},\"fill_color\":{\"value\":\"blue\"},\"line_alpha\":{\"value\":0.2},\"line_color\":{\"value\":\"blue\"},\"plot\":null,\"size\":10},\"id\":\"f201fea6-6742-403c-aeeb-d10f0507b6a3\",\"type\":\"NormalHead\"},{\"attributes\":{\"data_source\":{\"id\":\"cad81183-4b1c-4bea-91d8-bd3a5109202b\",\"type\":\"ColumnDataSource\"},\"glyph\":{\"id\":\"16193e4c-f913-4d16-b262-3ace780dc90f\",\"type\":\"Line\"},\"hover_glyph\":null,\"muted_glyph\":null,\"nonselection_glyph\":{\"id\":\"d93d305b-ea79-4b34-a1b2-41e5693051ab\",\"type\":\"Line\"},\"selection_glyph\":null,\"view\":{\"id\":\"abfb5153-2f1c-490f-9132-a5b7e4e4104a\",\"type\":\"CDSView\"}},\"id\":\"f2e874ba-ccaa-4ea4-a1f4-8298ae1ec625\",\"type\":\"GlyphRenderer\"},{\"attributes\":{\"end\":{\"id\":\"f201fea6-6742-403c-aeeb-d10f0507b6a3\",\"type\":\"NormalHead\"},\"line_alpha\":{\"value\":0.2},\"line_color\":{\"value\":\"blue\"},\"line_width\":{\"value\":3},\"plot\":{\"id\":\"a0d35cdc-799a-4d91-a9ec-759d5ed874c3\",\"subtype\":\"Figure\",\"type\":\"Plot\"},\"source\":null,\"start\":null,\"x_end\":{\"value\":2.0999999999999996},\"x_start\":{\"value\":0.0},\"y_end\":{\"value\":2.0999999999999996},\"y_start\":{\"value\":0.0}},\"id\":\"7104813e-29c0-4d37-b672-3889bc6b7370\",\"type\":\"Arrow\"},{\"attributes\":{},\"id\":\"5e553465-9b57-470c-a64f-bba7e89385a6\",\"type\":\"BasicTickFormatter\"},{\"attributes\":{},\"id\":\"bbbe71e0-4d51-45f8-b57f-ae56460d2061\",\"type\":\"UnionRenderers\"},{\"attributes\":{\"source\":{\"id\":\"cad81183-4b1c-4bea-91d8-bd3a5109202b\",\"type\":\"ColumnDataSource\"}},\"id\":\"abfb5153-2f1c-490f-9132-a5b7e4e4104a\",\"type\":\"CDSView\"},{\"attributes\":{\"fill_alpha\":{\"value\":0.2},\"fill_color\":{\"value\":\"blue\"},\"line_alpha\":{\"value\":0.2},\"line_color\":{\"value\":\"blue\"},\"plot\":null,\"size\":10},\"id\":\"166fce81-76fb-452f-9b15-c3c0d6051f58\",\"type\":\"NormalHead\"},{\"attributes\":{},\"id\":\"635f8120-5081-4b19-b48e-146a835700e1\",\"type\":\"BasicTickFormatter\"},{\"attributes\":{\"fill_color\":{\"value\":\"blue\"},\"line_color\":{\"value\":\"blue\"},\"plot\":null,\"size\":10},\"id\":\"5780a9dc-f70d-44e7-bc72-3593ddccefad\",\"type\":\"NormalHead\"},{\"attributes\":{\"end\":{\"id\":\"7f4bdf4f-5f6f-4af3-a47c-e88824c43baa\",\"type\":\"NormalHead\"},\"line_alpha\":{\"value\":0.2},\"line_width\":{\"value\":3},\"plot\":{\"id\":\"a0d35cdc-799a-4d91-a9ec-759d5ed874c3\",\"subtype\":\"Figure\",\"type\":\"Plot\"},\"source\":null,\"start\":null,\"x_end\":{\"value\":-0.09999999999999998},\"x_start\":{\"value\":0.0},\"y_end\":{\"value\":-0.5},\"y_start\":{\"value\":0.0}},\"id\":\"85ade867-3211-4b48-b460-3e1a251fe2f4\",\"type\":\"Arrow\"},{\"attributes\":{\"line_alpha\":0.1,\"line_color\":\"#1f77b4\",\"line_width\":1.5,\"x\":{\"field\":\"x\"},\"y\":{\"field\":\"y\"}},\"id\":\"d93d305b-ea79-4b34-a1b2-41e5693051ab\",\"type\":\"Line\"},{\"attributes\":{\"plot\":null,\"size\":10},\"id\":\"198f8f9f-2b70-457f-af6f-78b9657236b8\",\"type\":\"NormalHead\"},{\"attributes\":{\"end\":{\"id\":\"5780a9dc-f70d-44e7-bc72-3593ddccefad\",\"type\":\"NormalHead\"},\"line_color\":{\"value\":\"blue\"},\"line_width\":{\"value\":3},\"plot\":{\"id\":\"a0d35cdc-799a-4d91-a9ec-759d5ed874c3\",\"subtype\":\"Figure\",\"type\":\"Plot\"},\"source\":null,\"start\":null,\"x_end\":{\"value\":0.7},\"x_start\":{\"value\":0.0},\"y_end\":{\"value\":0.7},\"y_start\":{\"value\":0.0}},\"id\":\"2d5c3234-f10f-4e38-8d7a-ce3b389c8804\",\"type\":\"Arrow\"},{\"attributes\":{\"line_width\":1.5,\"x\":{\"field\":\"x\"},\"y\":{\"field\":\"y\"}},\"id\":\"16193e4c-f913-4d16-b262-3ace780dc90f\",\"type\":\"Line\"},{\"attributes\":{\"end\":{\"id\":\"198f8f9f-2b70-457f-af6f-78b9657236b8\",\"type\":\"NormalHead\"},\"line_width\":{\"value\":3},\"plot\":{\"id\":\"a0d35cdc-799a-4d91-a9ec-759d5ed874c3\",\"subtype\":\"Figure\",\"type\":\"Plot\"},\"source\":null,\"start\":null,\"x_end\":{\"value\":-0.3},\"x_start\":{\"value\":0.0},\"y_end\":{\"value\":0.1},\"y_start\":{\"value\":0.0}},\"id\":\"35289a8d-d72d-4d03-b5d7-40c3f014ffc1\",\"type\":\"Arrow\"},{\"attributes\":{},\"id\":\"6798ed37-a2fc-418c-a3ca-4091d3a310a3\",\"type\":\"UnionRenderers\"},{\"attributes\":{\"active_drag\":\"auto\",\"active_inspect\":\"auto\",\"active_multi\":null,\"active_scroll\":\"auto\",\"active_tap\":\"auto\",\"tools\":[{\"id\":\"477195d4-03e7-4cc7-a768-fbf6eef3a6a7\",\"type\":\"WheelZoomTool\"},{\"id\":\"a708d7d2-1a31-4cea-a371-3f70c8a592e2\",\"type\":\"PanTool\"},{\"id\":\"d1ddb666-eb36-4c96-93de-368d764b180c\",\"type\":\"ResetTool\"}]},\"id\":\"1f51fbf9-fb62-4186-98d6-47729c330e2d\",\"type\":\"Toolbar\"},{\"attributes\":{\"end\":{\"id\":\"2823d5de-98b4-4108-8a29-ac30feea8b9f\",\"type\":\"NormalHead\"},\"line_alpha\":{\"value\":0.2},\"line_width\":{\"value\":3},\"plot\":{\"id\":\"a0d35cdc-799a-4d91-a9ec-759d5ed874c3\",\"subtype\":\"Figure\",\"type\":\"Plot\"},\"source\":null,\"start\":null,\"x_end\":{\"value\":-2.5},\"x_start\":{\"value\":0.0},\"y_end\":{\"value\":-2.9000000000000004},\"y_start\":{\"value\":0.0}},\"id\":\"b7c9d8c7-c09f-4a1e-a1a9-e122ddd62808\",\"type\":\"Arrow\"},{\"attributes\":{\"line_width\":1.5,\"x\":{\"field\":\"x\"},\"y\":{\"field\":\"y\"}},\"id\":\"ab47263a-183a-42a1-aa1f-0847a2de73f8\",\"type\":\"Line\"},{\"attributes\":{\"callback\":null,\"end\":3.5,\"start\":-3.5},\"id\":\"f1070a2e-9d03-4dc2-a896-47bd3bf15d1f\",\"type\":\"Range1d\"},{\"attributes\":{},\"id\":\"24ec4ad2-b687-41ce-97ea-a9b5fd70403d\",\"type\":\"BasicTicker\"}],\"root_ids\":[\"a0d35cdc-799a-4d91-a9ec-759d5ed874c3\"]},\"title\":\"Bokeh Application\",\"version\":\"0.13.0\"}};\n",
       "  var render_items = [{\"docid\":\"c21386cd-acb2-4426-a297-ff07fbed3550\",\"roots\":{\"a0d35cdc-799a-4d91-a9ec-759d5ed874c3\":\"2ac28249-d217-4b5e-84b4-b3c13e5952c1\"}}];\n",
       "  root.Bokeh.embed.embed_items_notebook(docs_json, render_items);\n",
       "\n",
       "  }\n",
       "  if (root.Bokeh !== undefined) {\n",
       "    embed_document(root);\n",
       "  } else {\n",
       "    var attempts = 0;\n",
       "    var timer = setInterval(function(root) {\n",
       "      if (root.Bokeh !== undefined) {\n",
       "        embed_document(root);\n",
       "        clearInterval(timer);\n",
       "      }\n",
       "      attempts++;\n",
       "      if (attempts > 100) {\n",
       "        console.log(\"Bokeh: ERROR: Unable to run BokehJS code because BokehJS library is missing\")\n",
       "        clearInterval(timer);\n",
       "      }\n",
       "    }, 10, root)\n",
       "  }\n",
       "})(window);"
      ],
      "application/vnd.bokehjs_exec.v0+json": ""
     },
     "metadata": {
      "application/vnd.bokehjs_exec.v0+json": {
       "id": "a0d35cdc-799a-4d91-a9ec-759d5ed874c3"
      }
     },
     "output_type": "display_data"
    }
   ],
   "source": [
    "# Plot vector x and all its transformations\n",
    "plot.vector(A.dot(x),add_color=\"black\",alpha=.2)\n",
    "plot.vector(A.dot(A.dot(x)),add_color=\"black\",alpha=.2)\n",
    "plot.vector(A.dot(A.dot(A.dot(x))),add_color=\"black\",alpha=.2)\n",
    "\n",
    "# Plot vector v and all its transformations\n",
    "plot.vector(A.dot(v),add_color=\"blue\",alpha=.2)\n",
    "plot.vector(A.dot(A.dot(v)),add_color=\"blue\",alpha=.2)\n",
    "plot.vector(A.dot(A.dot(A.dot(v))),add_color=\"blue\",alpha=.2)\n",
    "plot.show()"
   ]
  },
  {
   "cell_type": "markdown",
   "metadata": {},
   "source": [
    "**_What is going on here?_**\n",
    "\n",
    "$\\vec{v}$ isn't being transformed like $\\vec{x}$ is each time; rather, it's being scaled!"
   ]
  },
  {
   "cell_type": "code",
   "execution_count": 7,
   "metadata": {},
   "outputs": [
    {
     "name": "stdout",
     "output_type": "stream",
     "text": [
      "[0.7 0.7]\n",
      "[2.1 2.1]\n",
      "[6.3 6.3]\n",
      "[18.9 18.9]\n"
     ]
    }
   ],
   "source": [
    "print(v)\n",
    "print(v*3)\n",
    "print(v*(3**2))\n",
    "print(v*(3**3))"
   ]
  },
  {
   "cell_type": "markdown",
   "metadata": {},
   "source": [
    "Why? \n",
    "\n",
    "$\\vec{v}$ is an **Eigenvector**! "
   ]
  },
  {
   "cell_type": "markdown",
   "metadata": {},
   "source": [
    "\n",
    "\n",
    "An Eigen vector is a vector that only expands or shrinks when undergoing a linear transformation. An eigenvector (or the **_characteristic vector of a linear transformation_**) is a _non-zero vector_ that changes by only a scalar factor when that linear transformation is applied to it. \n",
    "\n",
    "The factor by which that Eigenvector shrinks or expands is called its **Eigenvalue**, which we denote with $\\lambda$."
   ]
  },
  {
   "cell_type": "markdown",
   "metadata": {},
   "source": [
    "# Finding Eigenvalues and Eigenvectors \n",
    "\n",
    "\n",
    "The equation for locating an Eigenvalue and Eigenvector is as follows.\n",
    "\n",
    "\\begin{equation}\n",
    "\\textbf{A}\\vec{v} = \\lambda \\vec{v}\n",
    "\\end{equation}\n",
    "\n",
    "We want to locate some $\\vec{v}$ where the transformation of that vector simply yields a scaled version of that original vector. \n",
    "\n",
    "Think about this: our transformation matrix $\\textbf{A}$ collapses to a _single scalar value_ when applied on $\\vec{v}$!\n",
    "\n",
    "#### We are interested in finding two things:\n",
    "\n",
    "1. what is this $\\vec{v}$ (the eigenvector)\n",
    "2. what is that scalar $\\lambda$ (the eigenvector) that $\\vec{v}$ is being scaled by?"
   ]
  },
  {
   "cell_type": "markdown",
   "metadata": {},
   "source": [
    "First, let's do a little re-arranging \n",
    "\n",
    "\n",
    "We're going from matrix multiplication to scalar multiplication, which is odd. To get around this, we can turn a scalar into a matrix by taking the scalar product of the identity matrix. \n",
    "\n",
    "$$ \\lambda \\textbf{I}$$\n",
    "\n",
    "$$ \\lambda \\begin{bmatrix}1 & 0 \\\\ 0 & 1 \\end{bmatrix}$$\n",
    "\n",
    "$$ \\begin{bmatrix}\\lambda  & 0 \\\\ 0 & \\lambda  \\end{bmatrix}$$"
   ]
  },
  {
   "cell_type": "markdown",
   "metadata": {},
   "source": [
    "Also, $\\vec{v}$ is on both sides of the equation, so let's re-arrange things.\n",
    "\n",
    "$$ \\textbf{A}\\vec{v} = \\lambda \\textbf{I} \\vec{v} $$\n",
    "\n",
    "$$ \\textbf{A}\\vec{v} - \\lambda \\textbf{I} \\vec{v}  = 0$$\n",
    "\n",
    "$$ (\\textbf{A} - \\lambda \\textbf{I})\\vec{v}  = 0$$\n",
    "\n",
    "Assuming that $\\textbf{A}$ is a $2 \\times 2$ matrix\n",
    "\n",
    "$$ ( \\begin{bmatrix} a_{11}  & a_{12} \\\\ a_{21} & a_{22} \\end{bmatrix} -  \\begin{bmatrix}\\lambda  & 0 \\\\ 0 & \\lambda  \\end{bmatrix})\\vec{v}  = 0$$\n",
    "\n",
    "$$ \\begin{bmatrix} a_{11} - \\lambda & a_{12} \\\\ a_{21} & a_{22} - \\lambda \\end{bmatrix}\\vec{v}  = 0$$"
   ]
  },
  {
   "cell_type": "markdown",
   "metadata": {},
   "source": [
    "## Finding the eigenvalues\n",
    "\n",
    "Recall that what we are aiming for is locating an instance when $ \\begin{bmatrix} a_{11} - \\lambda & a_{12} \\\\ a_{21} & a_{22} - \\lambda \\end{bmatrix}$ collapses down into a _singular value_. \n",
    "\n",
    "Put differently, we are looking for values of $\\lambda$ that result in the determinant of our new matrix equaling zero."
   ]
  },
  {
   "cell_type": "markdown",
   "metadata": {},
   "source": [
    "$$ det(\\textbf{A} - \\lambda \\textbf{I})  = 0$$"
   ]
  },
  {
   "cell_type": "markdown",
   "metadata": {},
   "source": [
    "So, we merely need to plug in values for $\\lambda$ where this condition holds."
   ]
  },
  {
   "cell_type": "code",
   "execution_count": 8,
   "metadata": {},
   "outputs": [],
   "source": [
    "# Let's try this the **brute force** way by just plugging in values\n",
    "# and having the computer do the work.\n",
    "def find_lambdas(A,start,end):\n",
    "    store = []\n",
    "    for lamb in np.arange(start,end+1,.5):\n",
    "        det = la.det(A - (lamb*np.eye(2)))\n",
    "        store.append([lamb,det])\n",
    "    return np.array(store)"
   ]
  },
  {
   "cell_type": "code",
   "execution_count": 9,
   "metadata": {},
   "outputs": [
    {
     "data": {
      "image/png": "[encoded data removed]",
      "text/plain": [
       "<Figure size 432x288 with 1 Axes>"
      ]
     },
     "metadata": {},
     "output_type": "display_data"
    }
   ],
   "source": [
    "# Scan between -5 and 5\n",
    "vals = find_lambdas(A,-5,5)\n",
    "\n",
    "# Let's plot this \n",
    "plt.figure()\n",
    "plt.ylabel('Determinant')\n",
    "plt.xlabel('Lambda')\n",
    "plt.axhline(0,color=\"black\")\n",
    "plt.plot(vals[:,0],vals[:,1],\n",
    "         linewidth=3,color=\"orange\",alpha=.5)\n",
    "\n",
    "# Plot instances when det == 0\n",
    "plt.scatter(vals[np.where(vals[:,1]==0),0],\n",
    "           vals[np.where(vals[:,1]==0),1],\n",
    "           color=\"black\") \n",
    "plt.show()"
   ]
  },
  {
   "cell_type": "code",
   "execution_count": 10,
   "metadata": {},
   "outputs": [
    {
     "data": {
      "text/plain": [
       "array([[[-1.,  0.],\n",
       "        [ 3.,  0.]]])"
      ]
     },
     "execution_count": 10,
     "metadata": {},
     "output_type": "execute_result"
    }
   ],
   "source": [
    "# What are these values where the det == 0??\n",
    "vals[np.where(vals[:,1]==0),:]"
   ]
  },
  {
   "cell_type": "markdown",
   "metadata": {},
   "source": [
    "Naturally, we could also derive these values algebraically given what we learned in Lecture 14.\n",
    "\n",
    "\\begin{equation}\n",
    "det(\\begin{bmatrix} 1 - \\lambda & 2 \\\\ 2 & 1 - \\lambda \\end{bmatrix}) = 0\n",
    "\\end{equation}\n",
    "\n",
    "\\begin{equation}\n",
    "(1 - \\lambda)(1 - \\lambda) - (2)(2)= 0\n",
    "\\end{equation}\n",
    "\n",
    "\\begin{equation}\n",
    "\\lambda^2 - 2\\lambda - 3 = 0\n",
    "\\end{equation}\n",
    "\n",
    "The above equation is known as the \"characteristic polynomial\".\n",
    "\n",
    "\\begin{equation}\n",
    "(\\lambda + 1)(\\lambda - 3) = 0\n",
    "\\end{equation}\n",
    "\n",
    "\n",
    "\\begin{equation}\n",
    "\\lambda = - 1 \\\\ \\lambda = 3\n",
    "\\end{equation}\n"
   ]
  },
  {
   "cell_type": "markdown",
   "metadata": {},
   "source": [
    "## Finding the eigenvectors\n",
    "\n",
    "Let's now find the eigenvector that corresponds with each eigenvalue. We can do this easily by \n",
    "\n",
    "1. plugging in our respective eigenvalues, and \n",
    "2. Solving for the values of $v$ in equation 1\n",
    "\n",
    "\\begin{equation}\n",
    "\\begin{bmatrix} 1 - \\lambda & 2 \\\\ 2 & 1 - \\lambda \\end{bmatrix} \\begin{bmatrix}v_1\\\\v_2\\end{bmatrix} = \\begin{bmatrix}0\\\\0\\end{bmatrix}\n",
    "\\end{equation}"
   ]
  },
  {
   "cell_type": "markdown",
   "metadata": {},
   "source": [
    "**Solving for the eigenvector when $\\lambda = 3$**, using reduced row echelon form to solve the system of equations (see Lecture 14 if you're shaky on this).\n",
    "\n",
    "\\begin{equation}\n",
    "\\left|\n",
    "\\begin{array}{cc|c}\n",
    "1 - (3) & 2 & 0  \\\\ \n",
    "2 & 1 -(3) & 0 \\\\ \n",
    "\\end{array}\n",
    "\\right|\n",
    "\\end{equation}\n",
    "\n",
    "\\begin{equation}\n",
    "\\left|\n",
    "\\begin{array}{cc|c}\n",
    "-2 & 2 & 0  \\\\ \n",
    "2 & -2 & 0 \\\\ \n",
    "\\end{array}\n",
    "\\right|\n",
    "\\end{equation}\n",
    "\n",
    "Add the first row to the second and divide the first row by -2.\n",
    "\n",
    "\\begin{equation}\n",
    "\\left|\n",
    "\\begin{array}{cc|c}\n",
    "1 & -1 & 0  \\\\ \n",
    "0 & 0 & 0 \\\\ \n",
    "\\end{array}\n",
    "\\right|\n",
    "\\end{equation}\n",
    "\n",
    "\n",
    "\\begin{equation}\n",
    "v_1 - v_2 = 0 \\\\\n",
    "v_1 = v_2 \n",
    "\\end{equation}\n",
    "\n",
    "Thus, the eigenvector $\\vec{e}_{\\lambda = 3}$ is all vectors that span  the vector $\\begin{bmatrix} 1 \\\\1  \\end{bmatrix}$"
   ]
  },
  {
   "cell_type": "markdown",
   "metadata": {},
   "source": [
    "Now, **Solving for the eigenvector when $\\lambda = -1$**\n",
    "\n",
    "\\begin{equation}\n",
    "\\left|\n",
    "\\begin{array}{cc|c}\n",
    "1 - (-1) & 2 & 0  \\\\ \n",
    "2 & 1 -(-1) & 0 \\\\ \n",
    "\\end{array}\n",
    "\\right|\n",
    "\\end{equation}\n",
    "\n",
    "\\begin{equation}\n",
    "\\left|\n",
    "\\begin{array}{cc|c}\n",
    "2 & 2 & 0  \\\\ \n",
    "2 & 2 & 0 \\\\ \n",
    "\\end{array}\n",
    "\\right|\n",
    "\\end{equation}\n",
    "\n",
    "Let's subtract the first row from the second and divide the first row by 2. \n",
    "\n",
    "\\begin{equation}\n",
    "\\left|\n",
    "\\begin{array}{cc|c}\n",
    "1 & 1 & 0  \\\\ \n",
    "0 & 0 & 0 \\\\ \n",
    "\\end{array}\n",
    "\\right|\n",
    "\\end{equation}\n",
    "\n",
    "\\begin{equation}\n",
    "v_1 + v_2 = 0 \\\\\n",
    "v_1 = -v_2 \n",
    "\\end{equation}\n",
    "\n",
    "Thus, the eigenvector $\\vec{e}_{\\lambda = -1}$ is all vectors that span  the vector $\\begin{bmatrix} -1 \\\\1  \\end{bmatrix}$"
   ]
  },
  {
   "cell_type": "markdown",
   "metadata": {},
   "source": [
    "Let's visualize these two vectors to see how we did."
   ]
  },
  {
   "cell_type": "code",
   "execution_count": 11,
   "metadata": {},
   "outputs": [
    {
     "data": {
      "text/html": [
       "\n",
       "\n",
       "\n",
       "\n",
       "\n",
       "\n",
       "  <div class=\"bk-root\" id=\"5182d093-137b-4f04-9423-37b07670a340\"></div>\n"
      ]
     },
     "metadata": {},
     "output_type": "display_data"
    },
    {
     "data": {
      "application/javascript": [
       "(function(root) {\n",
       "  function embed_document(root) {\n",
       "    \n",
       "  var docs_json = {\"b2842546-bf18-41a8-bb2f-17e6df1fa1fd\":{\"roots\":{\"references\":[{\"attributes\":{\"below\":[{\"id\":\"e645bc82-933b-4724-b441-f12709701ba0\",\"type\":\"LinearAxis\"}],\"left\":[{\"id\":\"35b46c7f-2c78-4f83-899d-31080d6b29e3\",\"type\":\"LinearAxis\"}],\"plot_height\":400,\"plot_width\":400,\"renderers\":[{\"id\":\"e645bc82-933b-4724-b441-f12709701ba0\",\"type\":\"LinearAxis\"},{\"id\":\"b3e3740e-c89d-401b-bb10-1bd038abb8a4\",\"type\":\"Grid\"},{\"id\":\"35b46c7f-2c78-4f83-899d-31080d6b29e3\",\"type\":\"LinearAxis\"},{\"id\":\"1a392294-a33e-4b7a-a5bc-cd1305b16a4f\",\"type\":\"Grid\"},{\"id\":\"dac3f6c4-0aed-4e06-971c-5f6a9eca39e3\",\"type\":\"GlyphRenderer\"},{\"id\":\"6bc2e167-a660-4290-a473-159324ddce29\",\"type\":\"GlyphRenderer\"},{\"id\":\"886ad1e8-7838-4aa7-a726-02823beb5036\",\"type\":\"Arrow\"},{\"id\":\"950de3ae-aef9-4c46-ab11-812da3da26c5\",\"type\":\"Arrow\"},{\"id\":\"752f4b74-ade6-4918-801d-53e73d6172ac\",\"type\":\"Arrow\"},{\"id\":\"2a70ecd8-9c64-4cb1-b239-aff821b91df2\",\"type\":\"Arrow\"},{\"id\":\"0345fe16-dd1c-4aa0-8002-b15c12ad6729\",\"type\":\"Arrow\"},{\"id\":\"80f193d2-d17b-416a-9381-400ec1f6e5a7\",\"type\":\"Arrow\"}],\"title\":{\"id\":\"66e04a98-f5ca-4cd5-915f-1955e81c8ff5\",\"type\":\"Title\"},\"toolbar\":{\"id\":\"22124123-ffed-42bf-b91f-60b7877668c2\",\"type\":\"Toolbar\"},\"x_range\":{\"id\":\"40a3641e-4dde-4464-afd4-dc3c3b2588fa\",\"type\":\"Range1d\"},\"x_scale\":{\"id\":\"7a61ed08-50b6-41c6-889d-af51f5257d55\",\"type\":\"LinearScale\"},\"y_range\":{\"id\":\"5b06018c-3b2d-4ba1-b385-5b579dccdf69\",\"type\":\"Range1d\"},\"y_scale\":{\"id\":\"95dd912a-7ac3-4ba4-b4ed-9c0cadc12ced\",\"type\":\"LinearScale\"}},\"id\":\"e3402d84-7acd-4c3c-ac28-87a06a0b074f\",\"subtype\":\"Figure\",\"type\":\"Plot\"},{\"attributes\":{},\"id\":\"6cb68250-ac51-452b-b0b5-fc653897cbb9\",\"type\":\"BasicTickFormatter\"},{\"attributes\":{},\"id\":\"ca78293f-f873-4f97-bc2d-b9f9d9a36f93\",\"type\":\"BasicTickFormatter\"},{\"attributes\":{\"line_alpha\":0.1,\"line_color\":\"#1f77b4\",\"line_width\":1.5,\"x\":{\"field\":\"x\"},\"y\":{\"field\":\"y\"}},\"id\":\"bab276a1-d5b2-4172-95e4-56954c682e50\",\"type\":\"Line\"},{\"attributes\":{\"source\":{\"id\":\"0f34d2cd-b15e-4523-aaf7-a72482a90394\",\"type\":\"ColumnDataSource\"}},\"id\":\"d160b708-5650-406a-b45f-8c5619bfb8b8\",\"type\":\"CDSView\"},{\"attributes\":{\"data_source\":{\"id\":\"d62e5e22-23c3-46d7-b61d-c262a75cd767\",\"type\":\"ColumnDataSource\"},\"glyph\":{\"id\":\"a6265357-aae0-40bd-9c22-c706d9a759a4\",\"type\":\"Line\"},\"hover_glyph\":null,\"muted_glyph\":null,\"nonselection_glyph\":{\"id\":\"bab276a1-d5b2-4172-95e4-56954c682e50\",\"type\":\"Line\"},\"selection_glyph\":null,\"view\":{\"id\":\"4aff0602-cb94-4280-a959-088788c8e36a\",\"type\":\"CDSView\"}},\"id\":\"6bc2e167-a660-4290-a473-159324ddce29\",\"type\":\"GlyphRenderer\"},{\"attributes\":{\"data_source\":{\"id\":\"0f34d2cd-b15e-4523-aaf7-a72482a90394\",\"type\":\"ColumnDataSource\"},\"glyph\":{\"id\":\"d0187ff5-adca-43c8-a3e5-fad6c29c758e\",\"type\":\"Line\"},\"hover_glyph\":null,\"muted_glyph\":null,\"nonselection_glyph\":{\"id\":\"75547cb5-88f1-40a0-a899-ad53e7295a8b\",\"type\":\"Line\"},\"selection_glyph\":null,\"view\":{\"id\":\"d160b708-5650-406a-b45f-8c5619bfb8b8\",\"type\":\"CDSView\"}},\"id\":\"dac3f6c4-0aed-4e06-971c-5f6a9eca39e3\",\"type\":\"GlyphRenderer\"},{\"attributes\":{\"end\":{\"id\":\"c2ea4610-674d-492d-8be5-1943e32a8543\",\"type\":\"NormalHead\"},\"line_alpha\":{\"value\":0.2},\"line_color\":{\"value\":\"blue\"},\"line_width\":{\"value\":3},\"plot\":{\"id\":\"e3402d84-7acd-4c3c-ac28-87a06a0b074f\",\"subtype\":\"Figure\",\"type\":\"Plot\"},\"source\":null,\"start\":null,\"x_end\":{\"value\":27},\"x_start\":{\"value\":0.0},\"y_end\":{\"value\":27},\"y_start\":{\"value\":0.0}},\"id\":\"752f4b74-ade6-4918-801d-53e73d6172ac\",\"type\":\"Arrow\"},{\"attributes\":{\"line_width\":1.5,\"x\":{\"field\":\"x\"},\"y\":{\"field\":\"y\"}},\"id\":\"d0187ff5-adca-43c8-a3e5-fad6c29c758e\",\"type\":\"Line\"},{\"attributes\":{\"fill_alpha\":{\"value\":0.2},\"fill_color\":{\"value\":\"blue\"},\"line_alpha\":{\"value\":0.2},\"line_color\":{\"value\":\"blue\"},\"plot\":null,\"size\":10},\"id\":\"c720730a-0d1d-4ad8-9ea9-f92ad0b4ca23\",\"type\":\"NormalHead\"},{\"attributes\":{\"fill_alpha\":{\"value\":0.2},\"fill_color\":{\"value\":\"red\"},\"line_alpha\":{\"value\":0.2},\"line_color\":{\"value\":\"red\"},\"plot\":null,\"size\":10},\"id\":\"b3d79d8c-805c-4c28-ba69-1fb44cdb3b06\",\"type\":\"NormalHead\"},{\"attributes\":{\"source\":{\"id\":\"d62e5e22-23c3-46d7-b61d-c262a75cd767\",\"type\":\"ColumnDataSource\"}},\"id\":\"4aff0602-cb94-4280-a959-088788c8e36a\",\"type\":\"CDSView\"},{\"attributes\":{},\"id\":\"7a61ed08-50b6-41c6-889d-af51f5257d55\",\"type\":\"LinearScale\"},{\"attributes\":{},\"id\":\"95dd912a-7ac3-4ba4-b4ed-9c0cadc12ced\",\"type\":\"LinearScale\"},{\"attributes\":{\"end\":{\"id\":\"71a9c774-66fa-489f-a217-0139c3fc6f46\",\"type\":\"NormalHead\"},\"line_alpha\":{\"value\":0.2},\"line_color\":{\"value\":\"blue\"},\"line_width\":{\"value\":3},\"plot\":{\"id\":\"e3402d84-7acd-4c3c-ac28-87a06a0b074f\",\"subtype\":\"Figure\",\"type\":\"Plot\"},\"source\":null,\"start\":null,\"x_end\":{\"value\":9},\"x_start\":{\"value\":0.0},\"y_end\":{\"value\":9},\"y_start\":{\"value\":0.0}},\"id\":\"950de3ae-aef9-4c46-ab11-812da3da26c5\",\"type\":\"Arrow\"},{\"attributes\":{},\"id\":\"bbe7be5c-acac-43e2-9dc4-8813ad3da4a5\",\"type\":\"ResetTool\"},{\"attributes\":{\"fill_alpha\":{\"value\":0.2},\"fill_color\":{\"value\":\"red\"},\"line_alpha\":{\"value\":0.2},\"line_color\":{\"value\":\"red\"},\"plot\":null,\"size\":10},\"id\":\"5c37fecc-5baf-43c7-ad47-f7698d115e37\",\"type\":\"NormalHead\"},{\"attributes\":{\"fill_alpha\":{\"value\":0.2},\"fill_color\":{\"value\":\"red\"},\"line_alpha\":{\"value\":0.2},\"line_color\":{\"value\":\"red\"},\"plot\":null,\"size\":10},\"id\":\"b5ef595f-be45-4a44-837e-e878c5325c64\",\"type\":\"NormalHead\"},{\"attributes\":{\"end\":{\"id\":\"c720730a-0d1d-4ad8-9ea9-f92ad0b4ca23\",\"type\":\"NormalHead\"},\"line_alpha\":{\"value\":0.2},\"line_color\":{\"value\":\"blue\"},\"line_width\":{\"value\":3},\"plot\":{\"id\":\"e3402d84-7acd-4c3c-ac28-87a06a0b074f\",\"subtype\":\"Figure\",\"type\":\"Plot\"},\"source\":null,\"start\":null,\"x_end\":{\"value\":3},\"x_start\":{\"value\":0.0},\"y_end\":{\"value\":3},\"y_start\":{\"value\":0.0}},\"id\":\"886ad1e8-7838-4aa7-a726-02823beb5036\",\"type\":\"Arrow\"},{\"attributes\":{},\"id\":\"8640bdd8-912f-4729-8684-78eb29c1cacc\",\"type\":\"UnionRenderers\"},{\"attributes\":{\"line_alpha\":0.1,\"line_color\":\"#1f77b4\",\"line_width\":1.5,\"x\":{\"field\":\"x\"},\"y\":{\"field\":\"y\"}},\"id\":\"75547cb5-88f1-40a0-a899-ad53e7295a8b\",\"type\":\"Line\"},{\"attributes\":{},\"id\":\"38d757a6-5d88-4513-95e9-269bcbe7a3a5\",\"type\":\"Selection\"},{\"attributes\":{},\"id\":\"6e724c41-6ada-4843-b9c8-388b8403c0c8\",\"type\":\"PanTool\"},{\"attributes\":{\"fill_alpha\":{\"value\":0.2},\"fill_color\":{\"value\":\"blue\"},\"line_alpha\":{\"value\":0.2},\"line_color\":{\"value\":\"blue\"},\"plot\":null,\"size\":10},\"id\":\"71a9c774-66fa-489f-a217-0139c3fc6f46\",\"type\":\"NormalHead\"},{\"attributes\":{\"callback\":null,\"end\":14.0,\"start\":-14.0},\"id\":\"40a3641e-4dde-4464-afd4-dc3c3b2588fa\",\"type\":\"Range1d\"},{\"attributes\":{\"end\":{\"id\":\"b3d79d8c-805c-4c28-ba69-1fb44cdb3b06\",\"type\":\"NormalHead\"},\"line_alpha\":{\"value\":0.2},\"line_color\":{\"value\":\"red\"},\"line_width\":{\"value\":3},\"plot\":{\"id\":\"e3402d84-7acd-4c3c-ac28-87a06a0b074f\",\"subtype\":\"Figure\",\"type\":\"Plot\"},\"source\":null,\"start\":null,\"x_end\":{\"value\":1},\"x_start\":{\"value\":0.0},\"y_end\":{\"value\":-1},\"y_start\":{\"value\":0.0}},\"id\":\"2a70ecd8-9c64-4cb1-b239-aff821b91df2\",\"type\":\"Arrow\"},{\"attributes\":{\"plot\":null,\"text\":\"\"},\"id\":\"66e04a98-f5ca-4cd5-915f-1955e81c8ff5\",\"type\":\"Title\"},{\"attributes\":{\"plot\":{\"id\":\"e3402d84-7acd-4c3c-ac28-87a06a0b074f\",\"subtype\":\"Figure\",\"type\":\"Plot\"},\"ticker\":{\"id\":\"fde838f4-418c-4455-a2ed-c64aac77414b\",\"type\":\"BasicTicker\"}},\"id\":\"b3e3740e-c89d-401b-bb10-1bd038abb8a4\",\"type\":\"Grid\"},{\"attributes\":{},\"id\":\"c3edfc89-1030-4b56-a3b4-cba35926bdf7\",\"type\":\"WheelZoomTool\"},{\"attributes\":{},\"id\":\"9ff34142-0e9d-453f-b3f0-33063010f227\",\"type\":\"Selection\"},{\"attributes\":{\"formatter\":{\"id\":\"6cb68250-ac51-452b-b0b5-fc653897cbb9\",\"type\":\"BasicTickFormatter\"},\"plot\":{\"id\":\"e3402d84-7acd-4c3c-ac28-87a06a0b074f\",\"subtype\":\"Figure\",\"type\":\"Plot\"},\"ticker\":{\"id\":\"dc04b027-0630-453b-a0f3-83bb6e2b0510\",\"type\":\"BasicTicker\"}},\"id\":\"35b46c7f-2c78-4f83-899d-31080d6b29e3\",\"type\":\"LinearAxis\"},{\"attributes\":{\"callback\":null,\"end\":14.0,\"start\":-14.0},\"id\":\"5b06018c-3b2d-4ba1-b385-5b579dccdf69\",\"type\":\"Range1d\"},{\"attributes\":{},\"id\":\"dc04b027-0630-453b-a0f3-83bb6e2b0510\",\"type\":\"BasicTicker\"},{\"attributes\":{\"end\":{\"id\":\"b5ef595f-be45-4a44-837e-e878c5325c64\",\"type\":\"NormalHead\"},\"line_alpha\":{\"value\":0.2},\"line_color\":{\"value\":\"red\"},\"line_width\":{\"value\":3},\"plot\":{\"id\":\"e3402d84-7acd-4c3c-ac28-87a06a0b074f\",\"subtype\":\"Figure\",\"type\":\"Plot\"},\"source\":null,\"start\":null,\"x_end\":{\"value\":-1},\"x_start\":{\"value\":0.0},\"y_end\":{\"value\":1},\"y_start\":{\"value\":0.0}},\"id\":\"0345fe16-dd1c-4aa0-8002-b15c12ad6729\",\"type\":\"Arrow\"},{\"attributes\":{\"callback\":null,\"data\":{\"x\":[-20.0,20.0],\"y\":[0.0,0.0]},\"selected\":{\"id\":\"38d757a6-5d88-4513-95e9-269bcbe7a3a5\",\"type\":\"Selection\"},\"selection_policy\":{\"id\":\"2c4a41b6-db64-40c6-beb6-b7ab4597346f\",\"type\":\"UnionRenderers\"}},\"id\":\"0f34d2cd-b15e-4523-aaf7-a72482a90394\",\"type\":\"ColumnDataSource\"},{\"attributes\":{\"callback\":null,\"data\":{\"x\":[0.0,0.0],\"y\":[-20.0,20.0]},\"selected\":{\"id\":\"9ff34142-0e9d-453f-b3f0-33063010f227\",\"type\":\"Selection\"},\"selection_policy\":{\"id\":\"8640bdd8-912f-4729-8684-78eb29c1cacc\",\"type\":\"UnionRenderers\"}},\"id\":\"d62e5e22-23c3-46d7-b61d-c262a75cd767\",\"type\":\"ColumnDataSource\"},{\"attributes\":{\"formatter\":{\"id\":\"ca78293f-f873-4f97-bc2d-b9f9d9a36f93\",\"type\":\"BasicTickFormatter\"},\"plot\":{\"id\":\"e3402d84-7acd-4c3c-ac28-87a06a0b074f\",\"subtype\":\"Figure\",\"type\":\"Plot\"},\"ticker\":{\"id\":\"fde838f4-418c-4455-a2ed-c64aac77414b\",\"type\":\"BasicTicker\"}},\"id\":\"e645bc82-933b-4724-b441-f12709701ba0\",\"type\":\"LinearAxis\"},{\"attributes\":{\"active_drag\":\"auto\",\"active_inspect\":\"auto\",\"active_multi\":null,\"active_scroll\":\"auto\",\"active_tap\":\"auto\",\"tools\":[{\"id\":\"c3edfc89-1030-4b56-a3b4-cba35926bdf7\",\"type\":\"WheelZoomTool\"},{\"id\":\"6e724c41-6ada-4843-b9c8-388b8403c0c8\",\"type\":\"PanTool\"},{\"id\":\"bbe7be5c-acac-43e2-9dc4-8813ad3da4a5\",\"type\":\"ResetTool\"}]},\"id\":\"22124123-ffed-42bf-b91f-60b7877668c2\",\"type\":\"Toolbar\"},{\"attributes\":{},\"id\":\"2c4a41b6-db64-40c6-beb6-b7ab4597346f\",\"type\":\"UnionRenderers\"},{\"attributes\":{\"dimension\":1,\"plot\":{\"id\":\"e3402d84-7acd-4c3c-ac28-87a06a0b074f\",\"subtype\":\"Figure\",\"type\":\"Plot\"},\"ticker\":{\"id\":\"dc04b027-0630-453b-a0f3-83bb6e2b0510\",\"type\":\"BasicTicker\"}},\"id\":\"1a392294-a33e-4b7a-a5bc-cd1305b16a4f\",\"type\":\"Grid\"},{\"attributes\":{\"fill_alpha\":{\"value\":0.2},\"fill_color\":{\"value\":\"blue\"},\"line_alpha\":{\"value\":0.2},\"line_color\":{\"value\":\"blue\"},\"plot\":null,\"size\":10},\"id\":\"c2ea4610-674d-492d-8be5-1943e32a8543\",\"type\":\"NormalHead\"},{\"attributes\":{\"line_width\":1.5,\"x\":{\"field\":\"x\"},\"y\":{\"field\":\"y\"}},\"id\":\"a6265357-aae0-40bd-9c22-c706d9a759a4\",\"type\":\"Line\"},{\"attributes\":{\"end\":{\"id\":\"5c37fecc-5baf-43c7-ad47-f7698d115e37\",\"type\":\"NormalHead\"},\"line_alpha\":{\"value\":0.2},\"line_color\":{\"value\":\"red\"},\"line_width\":{\"value\":3},\"plot\":{\"id\":\"e3402d84-7acd-4c3c-ac28-87a06a0b074f\",\"subtype\":\"Figure\",\"type\":\"Plot\"},\"source\":null,\"start\":null,\"x_end\":{\"value\":1},\"x_start\":{\"value\":0.0},\"y_end\":{\"value\":-1},\"y_start\":{\"value\":0.0}},\"id\":\"80f193d2-d17b-416a-9381-400ec1f6e5a7\",\"type\":\"Arrow\"},{\"attributes\":{},\"id\":\"fde838f4-418c-4455-a2ed-c64aac77414b\",\"type\":\"BasicTicker\"}],\"root_ids\":[\"e3402d84-7acd-4c3c-ac28-87a06a0b074f\"]},\"title\":\"Bokeh Application\",\"version\":\"0.13.0\"}};\n",
       "  var render_items = [{\"docid\":\"b2842546-bf18-41a8-bb2f-17e6df1fa1fd\",\"roots\":{\"e3402d84-7acd-4c3c-ac28-87a06a0b074f\":\"5182d093-137b-4f04-9423-37b07670a340\"}}];\n",
       "  root.Bokeh.embed.embed_items_notebook(docs_json, render_items);\n",
       "\n",
       "  }\n",
       "  if (root.Bokeh !== undefined) {\n",
       "    embed_document(root);\n",
       "  } else {\n",
       "    var attempts = 0;\n",
       "    var timer = setInterval(function(root) {\n",
       "      if (root.Bokeh !== undefined) {\n",
       "        embed_document(root);\n",
       "        clearInterval(timer);\n",
       "      }\n",
       "      attempts++;\n",
       "      if (attempts > 100) {\n",
       "        console.log(\"Bokeh: ERROR: Unable to run BokehJS code because BokehJS library is missing\")\n",
       "        clearInterval(timer);\n",
       "      }\n",
       "    }, 10, root)\n",
       "  }\n",
       "})(window);"
      ],
      "application/vnd.bokehjs_exec.v0+json": ""
     },
     "metadata": {
      "application/vnd.bokehjs_exec.v0+json": {
       "id": "e3402d84-7acd-4c3c-ac28-87a06a0b074f"
      }
     },
     "output_type": "display_data"
    }
   ],
   "source": [
    "e1 = np.array([1,1])\n",
    "e2 = np.array([-1,1])\n",
    "\n",
    "# Generate Graphic\n",
    "plot.clear().graph(20)\n",
    "plot.vector(A.dot(e1),add_color=\"blue\",alpha=.2)\n",
    "plot.vector(A.dot(A.dot(e1)),add_color=\"blue\",alpha=.2)\n",
    "plot.vector(A.dot(A.dot(A.dot(e1))),add_color=\"blue\",alpha=.2)\n",
    "plot.vector(A.dot(e2),add_color=\"red\",alpha=.2)\n",
    "plot.vector(A.dot(A.dot(e2)),add_color=\"red\",alpha=.2)\n",
    "plot.vector(A.dot(A.dot(A.dot(e2))),add_color=\"red\",alpha=.2)\n",
    "plot.show()"
   ]
  },
  {
   "cell_type": "markdown",
   "metadata": {},
   "source": [
    "What sorts of conclusions can we draw from these two eigenvectors and their corresponding eigenvalues?\n",
    "\n",
    "With each transformation, eigenvector that corresponds with the eigen value 3 grows, whereas the eigenvector that corresponds with the eigen value -1 is stable. This information is really useful when studying a system to know if some process is shrinking, growing, or at equilibrium (see the reading for examples!)"
   ]
  },
  {
   "cell_type": "markdown",
   "metadata": {},
   "source": [
    "### Deriving the Eigenvalues and Vectors using `numpy`"
   ]
  },
  {
   "cell_type": "code",
   "execution_count": 12,
   "metadata": {},
   "outputs": [],
   "source": [
    "evals, evecs = la.eig(A)"
   ]
  },
  {
   "cell_type": "code",
   "execution_count": 13,
   "metadata": {},
   "outputs": [
    {
     "data": {
      "text/plain": [
       "array([ 3., -1.])"
      ]
     },
     "execution_count": 13,
     "metadata": {},
     "output_type": "execute_result"
    }
   ],
   "source": [
    "evals"
   ]
  },
  {
   "cell_type": "code",
   "execution_count": 14,
   "metadata": {},
   "outputs": [
    {
     "data": {
      "text/plain": [
       "array([[ 0.70710678, -0.70710678],\n",
       "       [ 0.70710678,  0.70710678]])"
      ]
     },
     "execution_count": 14,
     "metadata": {},
     "output_type": "execute_result"
    }
   ],
   "source": [
    "evecs"
   ]
  },
  {
   "cell_type": "markdown",
   "metadata": {},
   "source": [
    "Why do these eigenvectors differ slightly from the ones we located manually?"
   ]
  },
  {
   "cell_type": "code",
   "execution_count": 15,
   "metadata": {},
   "outputs": [
    {
     "name": "stdout",
     "output_type": "stream",
     "text": [
      "Our Eigenvectors\n",
      "\n",
      "[[ 1 -1]\n",
      " [ 1  1]]\n",
      "\n",
      "Our Eigenvectors normalized\n",
      "\n",
      "E1 = [0.70710678 0.70710678]\n",
      "E2 = [-0.70710678  0.70710678]\n"
     ]
    }
   ],
   "source": [
    "our_evecs = np.array([[1,-1],[1,1]])\n",
    "\n",
    "print(\"Our Eigenvectors\\n\")\n",
    "print(our_evecs)\n",
    "\n",
    "print(\"\\nOur Eigenvectors normalized\\n\")\n",
    "\n",
    "print('E1 =',our_evecs[:,0]/la.norm(our_evecs[:,0]))\n",
    "print('E2 =',our_evecs[:,1]/la.norm(our_evecs[:,1]))"
   ]
  },
  {
   "cell_type": "code",
   "execution_count": 16,
   "metadata": {},
   "outputs": [
    {
     "data": {
      "text/plain": [
       "array([-0.70710678,  0.70710678])"
      ]
     },
     "execution_count": 16,
     "metadata": {},
     "output_type": "execute_result"
    }
   ],
   "source": [
    "our_evecs = np.array([[1,-1],[1,1]])\n",
    "our_evecs\n",
    "(our_evecs[:,1]/la.norm(our_evecs[:,1]))\n",
    "# our_evecs"
   ]
  },
  {
   "cell_type": "markdown",
   "metadata": {},
   "source": [
    "# Eigen Decomposition\n",
    "\n",
    "Building off the above where we derived each eigenvalue and eigenvector individually, we can express some matrix $\\textbf{A}$ as three matrices. This process of breaking down a matrix into the product of other matrices is known as factorization or a **decomposition**. \n",
    "\n",
    "Matrix decompositions come in [many flavors](https://en.wikipedia.org/wiki/Matrix_decomposition) in linear algebra and you might run into different ones to help resolve different types of problems. "
   ]
  },
  {
   "cell_type": "markdown",
   "metadata": {},
   "source": [
    "If $\\textbf{A}$ is an $n \\times n$ matrix (with $n$ linearly independent eigenvectors), then we can express the decomposition as follows.\n",
    "\n",
    "\\begin{equation}\n",
    "\\textbf{A}\\textbf{V} = \\textbf{V}\\Lambda\n",
    "\\end{equation}\n",
    "\n",
    "\\begin{equation}\n",
    "\\textbf{A} = \\textbf{V}\\Lambda\\textbf{V}^{-1}\n",
    "\\end{equation}\n",
    "\n",
    "where $\\textbf{V}$ is a matrix of eigenvectors and $\\Lambda$ is a diagonal matrix of eigenvalues."
   ]
  },
  {
   "cell_type": "code",
   "execution_count": 17,
   "metadata": {},
   "outputs": [
    {
     "name": "stdout",
     "output_type": "stream",
     "text": [
      "Original Matrix A\n",
      "\n",
      "[[1 2]\n",
      " [2 1]]\n",
      "\n",
      "Decomposed Parts\n",
      "\n",
      "Eigenvectors V\n",
      "\n",
      "[[ 0.71 -0.71]\n",
      " [ 0.71  0.71]]\n",
      "\n",
      "Eigenvalues L\n",
      "\n",
      "[[ 3.  0.]\n",
      " [ 0. -1.]]\n",
      "\n",
      "Eigenvectors Inverse V^-1\n",
      "\n",
      "[[ 0.71  0.71]\n",
      " [-0.71  0.71]]\n",
      "\n",
      "Recomposed Matrix VLV^-1\n",
      "\n",
      "[[1. 2.]\n",
      " [2. 1.]]\n"
     ]
    }
   ],
   "source": [
    "L = np.diag(evals)\n",
    "V = evecs\n",
    "V_inv = la.inv(V)\n",
    "\n",
    "print('Original Matrix A\\n')\n",
    "print(A)\n",
    "\n",
    "print('\\nDecomposed Parts\\n')\n",
    "\n",
    "print('Eigenvectors V\\n')\n",
    "print(V.round(2))\n",
    "\n",
    "print('\\nEigenvalues L\\n')\n",
    "print(L.round(2))\n",
    "\n",
    "print('\\nEigenvectors Inverse V^-1\\n')\n",
    "print(V_inv.round(2))\n",
    "\n",
    "print('\\nRecomposed Matrix VLV^-1\\n')\n",
    "print(V.dot(L).dot(V_inv))"
   ]
  },
  {
   "cell_type": "markdown",
   "metadata": {},
   "source": [
    "# Properties of the Eigens\n",
    "\n",
    "#### Multiplicity\n",
    "\n",
    "Eigen decompositions have some very interesting properties, one of the most interesting features is that if we want to apply a transformation multiple times, we merely need to take a polynomial of our eigenvalues! In way, we already saw this in the initial example above.\n",
    "\n",
    "\\begin{equation}\n",
    "\\textbf{A} = \\textbf{V}\\Lambda\\textbf{V}^{-1}\n",
    "\\end{equation}\n",
    "\n",
    "\\begin{equation}\n",
    "\\textbf{A}\\textbf{A} = \\textbf{A}^2 = \\textbf{V}\\Lambda(\\textbf{V}^{-1} \\textbf{V})\\Lambda\\textbf{V}^{-1} = \\textbf{V}\\Lambda^2\\textbf{V}^{-1} \n",
    "\\end{equation}\n",
    "\n",
    "\n",
    "\\begin{equation}\n",
    "\\textbf{A}^n = \\textbf{V}\\Lambda^n\\textbf{V}^{-1} \n",
    "\\end{equation}\n",
    "\n",
    "This can greatly ease some computations, such as [Markov chains](http://setosa.io/ev/markov-chains/)!"
   ]
  },
  {
   "cell_type": "code",
   "execution_count": 18,
   "metadata": {},
   "outputs": [
    {
     "data": {
      "text/plain": [
       "array([[41, 40],\n",
       "       [40, 41]])"
      ]
     },
     "execution_count": 18,
     "metadata": {},
     "output_type": "execute_result"
    }
   ],
   "source": [
    "A.dot(A.dot(A.dot(A)))"
   ]
  },
  {
   "cell_type": "code",
   "execution_count": 19,
   "metadata": {},
   "outputs": [
    {
     "data": {
      "text/plain": [
       "array([[41., 40.],\n",
       "       [40., 41.]])"
      ]
     },
     "execution_count": 19,
     "metadata": {},
     "output_type": "execute_result"
    }
   ],
   "source": [
    "V.dot(L**4).dot(V_inv)"
   ]
  },
  {
   "cell_type": "markdown",
   "metadata": {},
   "source": [
    "So we needed to transform $\\vec{x}$ by $\\textbf{A}$ 25 times we could just do this."
   ]
  },
  {
   "cell_type": "code",
   "execution_count": 20,
   "metadata": {},
   "outputs": [
    {
     "data": {
      "text/plain": [
       "array([-8.47288609e+10, -8.47288609e+10])"
      ]
     },
     "execution_count": 20,
     "metadata": {},
     "output_type": "execute_result"
    }
   ],
   "source": [
    "A_25 = V.dot(L**25).dot(V_inv)\n",
    "A_25.dot(x)"
   ]
  },
  {
   "cell_type": "markdown",
   "metadata": {},
   "source": [
    "#### The product of the eigenvalues is equal to the determinant of $\\textbf{A}$"
   ]
  },
  {
   "cell_type": "code",
   "execution_count": 21,
   "metadata": {},
   "outputs": [
    {
     "data": {
      "text/plain": [
       "-2.9999999999999996"
      ]
     },
     "execution_count": 21,
     "metadata": {},
     "output_type": "execute_result"
    }
   ],
   "source": [
    "la.det(A)"
   ]
  },
  {
   "cell_type": "code",
   "execution_count": 22,
   "metadata": {},
   "outputs": [
    {
     "data": {
      "text/plain": [
       "-2.999999999999999"
      ]
     },
     "execution_count": 22,
     "metadata": {},
     "output_type": "execute_result"
    }
   ],
   "source": [
    "evals.prod()"
   ]
  },
  {
   "cell_type": "markdown",
   "metadata": {},
   "source": [
    "#### The sum of the eigenvalues is equal to the trace of $\\textbf{A}$ (i.e. the sum of the values along the diagonal of $\\textbf{A}$) "
   ]
  },
  {
   "cell_type": "code",
   "execution_count": 23,
   "metadata": {},
   "outputs": [
    {
     "data": {
      "text/plain": [
       "2"
      ]
     },
     "execution_count": 23,
     "metadata": {},
     "output_type": "execute_result"
    }
   ],
   "source": [
    "A.trace()"
   ]
  },
  {
   "cell_type": "code",
   "execution_count": 24,
   "metadata": {},
   "outputs": [
    {
     "data": {
      "text/plain": [
       "2.000000000000001"
      ]
     },
     "execution_count": 24,
     "metadata": {},
     "output_type": "execute_result"
    }
   ],
   "source": [
    "sum(evals)"
   ]
  },
  {
   "cell_type": "markdown",
   "metadata": {},
   "source": [
    "#### If $\\textbf{A}$  is invertible, then the eigenvalues of the inverse of $\\textbf{A}$  are inverted"
   ]
  },
  {
   "cell_type": "code",
   "execution_count": 25,
   "metadata": {},
   "outputs": [
    {
     "data": {
      "text/plain": [
       "array([ 3., -1.])"
      ]
     },
     "execution_count": 25,
     "metadata": {},
     "output_type": "execute_result"
    }
   ],
   "source": [
    "evals"
   ]
  },
  {
   "cell_type": "code",
   "execution_count": 26,
   "metadata": {},
   "outputs": [
    {
     "data": {
      "text/plain": [
       "array([ 0.33333333, -1.        ])"
      ]
     },
     "execution_count": 26,
     "metadata": {},
     "output_type": "execute_result"
    }
   ],
   "source": [
    "la.eigvals(la.inv(A))"
   ]
  },
  {
   "cell_type": "markdown",
   "metadata": {},
   "source": [
    "#### Eigenvectors are orthogonal to one another\n",
    "\n",
    "This means each eigenvector describes a unique dimension!"
   ]
  },
  {
   "cell_type": "code",
   "execution_count": 27,
   "metadata": {},
   "outputs": [
    {
     "data": {
      "text/plain": [
       "0.0"
      ]
     },
     "execution_count": 27,
     "metadata": {},
     "output_type": "execute_result"
    }
   ],
   "source": [
    "evecs[:,0].dot(evecs[:,1])"
   ]
  },
  {
   "cell_type": "markdown",
   "metadata": {},
   "source": [
    "This means that eigenvectors can make for good a basis!"
   ]
  }
 ],
 "metadata": {
  "kernelspec": {
   "display_name": "Python 3",
   "language": "python",
   "name": "python3"
  },
  "language_info": {
   "codemirror_mode": {
    "name": "ipython",
    "version": 3
   },
   "file_extension": ".py",
   "mimetype": "text/x-python",
   "name": "python",
   "nbconvert_exporter": "python",
   "pygments_lexer": "ipython3",
   "version": "3.7.0"
  }
 },
 "nbformat": 4,
 "nbformat_minor": 2
}

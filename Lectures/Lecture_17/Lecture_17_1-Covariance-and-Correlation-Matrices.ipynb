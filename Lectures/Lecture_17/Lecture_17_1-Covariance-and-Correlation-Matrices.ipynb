{
 "cells": [
  {
   "cell_type": "markdown",
   "metadata": {},
   "source": [
    "<h1><center> PPOLS564: Foundations of Data Science </center><h1>\n",
    "<h3><center> Lecture 17 <br><br><font color='grey'>Variance-Covariance and Correlation Matrices </font></center></h3>"
   ]
  },
  {
   "cell_type": "markdown",
   "metadata": {},
   "source": [
    "## Refreshers \n",
    "\n",
    "Let's quickly review again two really important matrices that appear a lot in applied data science and statistics: the variance-covariance matrix and the correlation matrix."
   ]
  },
  {
   "cell_type": "code",
   "execution_count": 1,
   "metadata": {},
   "outputs": [
    {
     "data": {
      "text/html": [
       "\n",
       "    <div class=\"bk-root\">\n",
       "        <a href=\"https://bokeh.pydata.org\" target=\"_blank\" class=\"bk-logo bk-logo-small bk-logo-notebook\"></a>\n",
       "        <span id=\"df763fc5-1c4f-4448-bc7d-c1a7eae633fd\">Loading BokehJS ...</span>\n",
       "    </div>"
      ]
     },
     "metadata": {},
     "output_type": "display_data"
    },
    {
     "data": {
      "application/javascript": [
       "\n",
       "(function(root) {\n",
       "  function now() {\n",
       "    return new Date();\n",
       "  }\n",
       "\n",
       "  var force = true;\n",
       "\n",
       "  if (typeof (root._bokeh_onload_callbacks) === \"undefined\" || force === true) {\n",
       "    root._bokeh_onload_callbacks = [];\n",
       "    root._bokeh_is_loading = undefined;\n",
       "  }\n",
       "\n",
       "  var JS_MIME_TYPE = 'application/javascript';\n",
       "  var HTML_MIME_TYPE = 'text/html';\n",
       "  var EXEC_MIME_TYPE = 'application/vnd.bokehjs_exec.v0+json';\n",
       "  var CLASS_NAME = 'output_bokeh rendered_html';\n",
       "\n",
       "  /**\n",
       "   * Render data to the DOM node\n",
       "   */\n",
       "  function render(props, node) {\n",
       "    var script = document.createElement(\"script\");\n",
       "    node.appendChild(script);\n",
       "  }\n",
       "\n",
       "  /**\n",
       "   * Handle when an output is cleared or removed\n",
       "   */\n",
       "  function handleClearOutput(event, handle) {\n",
       "    var cell = handle.cell;\n",
       "\n",
       "    var id = cell.output_area._bokeh_element_id;\n",
       "    var server_id = cell.output_area._bokeh_server_id;\n",
       "    // Clean up Bokeh references\n",
       "    if (id != null && id in Bokeh.index) {\n",
       "      Bokeh.index[id].model.document.clear();\n",
       "      delete Bokeh.index[id];\n",
       "    }\n",
       "\n",
       "    if (server_id !== undefined) {\n",
       "      // Clean up Bokeh references\n",
       "      var cmd = \"from bokeh.io.state import curstate; print(curstate().uuid_to_server['\" + server_id + \"'].get_sessions()[0].document.roots[0]._id)\";\n",
       "      cell.notebook.kernel.execute(cmd, {\n",
       "        iopub: {\n",
       "          output: function(msg) {\n",
       "            var id = msg.content.text.trim();\n",
       "            if (id in Bokeh.index) {\n",
       "              Bokeh.index[id].model.document.clear();\n",
       "              delete Bokeh.index[id];\n",
       "            }\n",
       "          }\n",
       "        }\n",
       "      });\n",
       "      // Destroy server and session\n",
       "      var cmd = \"import bokeh.io.notebook as ion; ion.destroy_server('\" + server_id + \"')\";\n",
       "      cell.notebook.kernel.execute(cmd);\n",
       "    }\n",
       "  }\n",
       "\n",
       "  /**\n",
       "   * Handle when a new output is added\n",
       "   */\n",
       "  function handleAddOutput(event, handle) {\n",
       "    var output_area = handle.output_area;\n",
       "    var output = handle.output;\n",
       "\n",
       "    // limit handleAddOutput to display_data with EXEC_MIME_TYPE content only\n",
       "    if ((output.output_type != \"display_data\") || (!output.data.hasOwnProperty(EXEC_MIME_TYPE))) {\n",
       "      return\n",
       "    }\n",
       "\n",
       "    var toinsert = output_area.element.find(\".\" + CLASS_NAME.split(' ')[0]);\n",
       "\n",
       "    if (output.metadata[EXEC_MIME_TYPE][\"id\"] !== undefined) {\n",
       "      toinsert[toinsert.length - 1].firstChild.textContent = output.data[JS_MIME_TYPE];\n",
       "      // store reference to embed id on output_area\n",
       "      output_area._bokeh_element_id = output.metadata[EXEC_MIME_TYPE][\"id\"];\n",
       "    }\n",
       "    if (output.metadata[EXEC_MIME_TYPE][\"server_id\"] !== undefined) {\n",
       "      var bk_div = document.createElement(\"div\");\n",
       "      bk_div.innerHTML = output.data[HTML_MIME_TYPE];\n",
       "      var script_attrs = bk_div.children[0].attributes;\n",
       "      for (var i = 0; i < script_attrs.length; i++) {\n",
       "        toinsert[toinsert.length - 1].firstChild.setAttribute(script_attrs[i].name, script_attrs[i].value);\n",
       "      }\n",
       "      // store reference to server id on output_area\n",
       "      output_area._bokeh_server_id = output.metadata[EXEC_MIME_TYPE][\"server_id\"];\n",
       "    }\n",
       "  }\n",
       "\n",
       "  function register_renderer(events, OutputArea) {\n",
       "\n",
       "    function append_mime(data, metadata, element) {\n",
       "      // create a DOM node to render to\n",
       "      var toinsert = this.create_output_subarea(\n",
       "        metadata,\n",
       "        CLASS_NAME,\n",
       "        EXEC_MIME_TYPE\n",
       "      );\n",
       "      this.keyboard_manager.register_events(toinsert);\n",
       "      // Render to node\n",
       "      var props = {data: data, metadata: metadata[EXEC_MIME_TYPE]};\n",
       "      render(props, toinsert[toinsert.length - 1]);\n",
       "      element.append(toinsert);\n",
       "      return toinsert\n",
       "    }\n",
       "\n",
       "    /* Handle when an output is cleared or removed */\n",
       "    events.on('clear_output.CodeCell', handleClearOutput);\n",
       "    events.on('delete.Cell', handleClearOutput);\n",
       "\n",
       "    /* Handle when a new output is added */\n",
       "    events.on('output_added.OutputArea', handleAddOutput);\n",
       "\n",
       "    /**\n",
       "     * Register the mime type and append_mime function with output_area\n",
       "     */\n",
       "    OutputArea.prototype.register_mime_type(EXEC_MIME_TYPE, append_mime, {\n",
       "      /* Is output safe? */\n",
       "      safe: true,\n",
       "      /* Index of renderer in `output_area.display_order` */\n",
       "      index: 0\n",
       "    });\n",
       "  }\n",
       "\n",
       "  // register the mime type if in Jupyter Notebook environment and previously unregistered\n",
       "  if (root.Jupyter !== undefined) {\n",
       "    var events = require('base/js/events');\n",
       "    var OutputArea = require('notebook/js/outputarea').OutputArea;\n",
       "\n",
       "    if (OutputArea.prototype.mime_types().indexOf(EXEC_MIME_TYPE) == -1) {\n",
       "      register_renderer(events, OutputArea);\n",
       "    }\n",
       "  }\n",
       "\n",
       "  \n",
       "  if (typeof (root._bokeh_timeout) === \"undefined\" || force === true) {\n",
       "    root._bokeh_timeout = Date.now() + 5000;\n",
       "    root._bokeh_failed_load = false;\n",
       "  }\n",
       "\n",
       "  var NB_LOAD_WARNING = {'data': {'text/html':\n",
       "     \"<div style='background-color: #fdd'>\\n\"+\n",
       "     \"<p>\\n\"+\n",
       "     \"BokehJS does not appear to have successfully loaded. If loading BokehJS from CDN, this \\n\"+\n",
       "     \"may be due to a slow or bad network connection. Possible fixes:\\n\"+\n",
       "     \"</p>\\n\"+\n",
       "     \"<ul>\\n\"+\n",
       "     \"<li>re-rerun `output_notebook()` to attempt to load from CDN again, or</li>\\n\"+\n",
       "     \"<li>use INLINE resources instead, as so:</li>\\n\"+\n",
       "     \"</ul>\\n\"+\n",
       "     \"<code>\\n\"+\n",
       "     \"from bokeh.resources import INLINE\\n\"+\n",
       "     \"output_notebook(resources=INLINE)\\n\"+\n",
       "     \"</code>\\n\"+\n",
       "     \"</div>\"}};\n",
       "\n",
       "  function display_loaded() {\n",
       "    var el = document.getElementById(\"df763fc5-1c4f-4448-bc7d-c1a7eae633fd\");\n",
       "    if (el != null) {\n",
       "      el.textContent = \"BokehJS is loading...\";\n",
       "    }\n",
       "    if (root.Bokeh !== undefined) {\n",
       "      if (el != null) {\n",
       "        el.textContent = \"BokehJS \" + root.Bokeh.version + \" successfully loaded.\";\n",
       "      }\n",
       "    } else if (Date.now() < root._bokeh_timeout) {\n",
       "      setTimeout(display_loaded, 100)\n",
       "    }\n",
       "  }\n",
       "\n",
       "\n",
       "  function run_callbacks() {\n",
       "    try {\n",
       "      root._bokeh_onload_callbacks.forEach(function(callback) { callback() });\n",
       "    }\n",
       "    finally {\n",
       "      delete root._bokeh_onload_callbacks\n",
       "    }\n",
       "    console.info(\"Bokeh: all callbacks have finished\");\n",
       "  }\n",
       "\n",
       "  function load_libs(js_urls, callback) {\n",
       "    root._bokeh_onload_callbacks.push(callback);\n",
       "    if (root._bokeh_is_loading > 0) {\n",
       "      console.log(\"Bokeh: BokehJS is being loaded, scheduling callback at\", now());\n",
       "      return null;\n",
       "    }\n",
       "    if (js_urls == null || js_urls.length === 0) {\n",
       "      run_callbacks();\n",
       "      return null;\n",
       "    }\n",
       "    console.log(\"Bokeh: BokehJS not loaded, scheduling load and callback at\", now());\n",
       "    root._bokeh_is_loading = js_urls.length;\n",
       "    for (var i = 0; i < js_urls.length; i++) {\n",
       "      var url = js_urls[i];\n",
       "      var s = document.createElement('script');\n",
       "      s.src = url;\n",
       "      s.async = false;\n",
       "      s.onreadystatechange = s.onload = function() {\n",
       "        root._bokeh_is_loading--;\n",
       "        if (root._bokeh_is_loading === 0) {\n",
       "          console.log(\"Bokeh: all BokehJS libraries loaded\");\n",
       "          run_callbacks()\n",
       "        }\n",
       "      };\n",
       "      s.onerror = function() {\n",
       "        console.warn(\"failed to load library \" + url);\n",
       "      };\n",
       "      console.log(\"Bokeh: injecting script tag for BokehJS library: \", url);\n",
       "      document.getElementsByTagName(\"head\")[0].appendChild(s);\n",
       "    }\n",
       "  };var element = document.getElementById(\"df763fc5-1c4f-4448-bc7d-c1a7eae633fd\");\n",
       "  if (element == null) {\n",
       "    console.log(\"Bokeh: ERROR: autoload.js configured with elementid 'df763fc5-1c4f-4448-bc7d-c1a7eae633fd' but no matching script tag was found. \")\n",
       "    return false;\n",
       "  }\n",
       "\n",
       "  var js_urls = [\"https://cdn.pydata.org/bokeh/release/bokeh-0.13.0.min.js\", \"https://cdn.pydata.org/bokeh/release/bokeh-widgets-0.13.0.min.js\", \"https://cdn.pydata.org/bokeh/release/bokeh-tables-0.13.0.min.js\", \"https://cdn.pydata.org/bokeh/release/bokeh-gl-0.13.0.min.js\"];\n",
       "\n",
       "  var inline_js = [\n",
       "    function(Bokeh) {\n",
       "      Bokeh.set_log_level(\"info\");\n",
       "    },\n",
       "    \n",
       "    function(Bokeh) {\n",
       "      \n",
       "    },\n",
       "    function(Bokeh) {\n",
       "      console.log(\"Bokeh: injecting CSS: https://cdn.pydata.org/bokeh/release/bokeh-0.13.0.min.css\");\n",
       "      Bokeh.embed.inject_css(\"https://cdn.pydata.org/bokeh/release/bokeh-0.13.0.min.css\");\n",
       "      console.log(\"Bokeh: injecting CSS: https://cdn.pydata.org/bokeh/release/bokeh-widgets-0.13.0.min.css\");\n",
       "      Bokeh.embed.inject_css(\"https://cdn.pydata.org/bokeh/release/bokeh-widgets-0.13.0.min.css\");\n",
       "      console.log(\"Bokeh: injecting CSS: https://cdn.pydata.org/bokeh/release/bokeh-tables-0.13.0.min.css\");\n",
       "      Bokeh.embed.inject_css(\"https://cdn.pydata.org/bokeh/release/bokeh-tables-0.13.0.min.css\");\n",
       "    }\n",
       "  ];\n",
       "\n",
       "  function run_inline_js() {\n",
       "    \n",
       "    if ((root.Bokeh !== undefined) || (force === true)) {\n",
       "      for (var i = 0; i < inline_js.length; i++) {\n",
       "        inline_js[i].call(root, root.Bokeh);\n",
       "      }if (force === true) {\n",
       "        display_loaded();\n",
       "      }} else if (Date.now() < root._bokeh_timeout) {\n",
       "      setTimeout(run_inline_js, 100);\n",
       "    } else if (!root._bokeh_failed_load) {\n",
       "      console.log(\"Bokeh: BokehJS failed to load within specified timeout.\");\n",
       "      root._bokeh_failed_load = true;\n",
       "    } else if (force !== true) {\n",
       "      var cell = $(document.getElementById(\"df763fc5-1c4f-4448-bc7d-c1a7eae633fd\")).parents('.cell').data().cell;\n",
       "      cell.output_area.append_execute_result(NB_LOAD_WARNING)\n",
       "    }\n",
       "\n",
       "  }\n",
       "\n",
       "  if (root._bokeh_is_loading === 0) {\n",
       "    console.log(\"Bokeh: BokehJS loaded, going straight to plotting\");\n",
       "    run_inline_js();\n",
       "  } else {\n",
       "    load_libs(js_urls, function() {\n",
       "      console.log(\"Bokeh: BokehJS plotting callback run at\", now());\n",
       "      run_inline_js();\n",
       "    });\n",
       "  }\n",
       "}(window));"
      ],
      "application/vnd.bokehjs_load.v0+json": "\n(function(root) {\n  function now() {\n    return new Date();\n  }\n\n  var force = true;\n\n  if (typeof (root._bokeh_onload_callbacks) === \"undefined\" || force === true) {\n    root._bokeh_onload_callbacks = [];\n    root._bokeh_is_loading = undefined;\n  }\n\n  \n\n  \n  if (typeof (root._bokeh_timeout) === \"undefined\" || force === true) {\n    root._bokeh_timeout = Date.now() + 5000;\n    root._bokeh_failed_load = false;\n  }\n\n  var NB_LOAD_WARNING = {'data': {'text/html':\n     \"<div style='background-color: #fdd'>\\n\"+\n     \"<p>\\n\"+\n     \"BokehJS does not appear to have successfully loaded. If loading BokehJS from CDN, this \\n\"+\n     \"may be due to a slow or bad network connection. Possible fixes:\\n\"+\n     \"</p>\\n\"+\n     \"<ul>\\n\"+\n     \"<li>re-rerun `output_notebook()` to attempt to load from CDN again, or</li>\\n\"+\n     \"<li>use INLINE resources instead, as so:</li>\\n\"+\n     \"</ul>\\n\"+\n     \"<code>\\n\"+\n     \"from bokeh.resources import INLINE\\n\"+\n     \"output_notebook(resources=INLINE)\\n\"+\n     \"</code>\\n\"+\n     \"</div>\"}};\n\n  function display_loaded() {\n    var el = document.getElementById(\"df763fc5-1c4f-4448-bc7d-c1a7eae633fd\");\n    if (el != null) {\n      el.textContent = \"BokehJS is loading...\";\n    }\n    if (root.Bokeh !== undefined) {\n      if (el != null) {\n        el.textContent = \"BokehJS \" + root.Bokeh.version + \" successfully loaded.\";\n      }\n    } else if (Date.now() < root._bokeh_timeout) {\n      setTimeout(display_loaded, 100)\n    }\n  }\n\n\n  function run_callbacks() {\n    try {\n      root._bokeh_onload_callbacks.forEach(function(callback) { callback() });\n    }\n    finally {\n      delete root._bokeh_onload_callbacks\n    }\n    console.info(\"Bokeh: all callbacks have finished\");\n  }\n\n  function load_libs(js_urls, callback) {\n    root._bokeh_onload_callbacks.push(callback);\n    if (root._bokeh_is_loading > 0) {\n      console.log(\"Bokeh: BokehJS is being loaded, scheduling callback at\", now());\n      return null;\n    }\n    if (js_urls == null || js_urls.length === 0) {\n      run_callbacks();\n      return null;\n    }\n    console.log(\"Bokeh: BokehJS not loaded, scheduling load and callback at\", now());\n    root._bokeh_is_loading = js_urls.length;\n    for (var i = 0; i < js_urls.length; i++) {\n      var url = js_urls[i];\n      var s = document.createElement('script');\n      s.src = url;\n      s.async = false;\n      s.onreadystatechange = s.onload = function() {\n        root._bokeh_is_loading--;\n        if (root._bokeh_is_loading === 0) {\n          console.log(\"Bokeh: all BokehJS libraries loaded\");\n          run_callbacks()\n        }\n      };\n      s.onerror = function() {\n        console.warn(\"failed to load library \" + url);\n      };\n      console.log(\"Bokeh: injecting script tag for BokehJS library: \", url);\n      document.getElementsByTagName(\"head\")[0].appendChild(s);\n    }\n  };var element = document.getElementById(\"df763fc5-1c4f-4448-bc7d-c1a7eae633fd\");\n  if (element == null) {\n    console.log(\"Bokeh: ERROR: autoload.js configured with elementid 'df763fc5-1c4f-4448-bc7d-c1a7eae633fd' but no matching script tag was found. \")\n    return false;\n  }\n\n  var js_urls = [\"https://cdn.pydata.org/bokeh/release/bokeh-0.13.0.min.js\", \"https://cdn.pydata.org/bokeh/release/bokeh-widgets-0.13.0.min.js\", \"https://cdn.pydata.org/bokeh/release/bokeh-tables-0.13.0.min.js\", \"https://cdn.pydata.org/bokeh/release/bokeh-gl-0.13.0.min.js\"];\n\n  var inline_js = [\n    function(Bokeh) {\n      Bokeh.set_log_level(\"info\");\n    },\n    \n    function(Bokeh) {\n      \n    },\n    function(Bokeh) {\n      console.log(\"Bokeh: injecting CSS: https://cdn.pydata.org/bokeh/release/bokeh-0.13.0.min.css\");\n      Bokeh.embed.inject_css(\"https://cdn.pydata.org/bokeh/release/bokeh-0.13.0.min.css\");\n      console.log(\"Bokeh: injecting CSS: https://cdn.pydata.org/bokeh/release/bokeh-widgets-0.13.0.min.css\");\n      Bokeh.embed.inject_css(\"https://cdn.pydata.org/bokeh/release/bokeh-widgets-0.13.0.min.css\");\n      console.log(\"Bokeh: injecting CSS: https://cdn.pydata.org/bokeh/release/bokeh-tables-0.13.0.min.css\");\n      Bokeh.embed.inject_css(\"https://cdn.pydata.org/bokeh/release/bokeh-tables-0.13.0.min.css\");\n    }\n  ];\n\n  function run_inline_js() {\n    \n    if ((root.Bokeh !== undefined) || (force === true)) {\n      for (var i = 0; i < inline_js.length; i++) {\n        inline_js[i].call(root, root.Bokeh);\n      }if (force === true) {\n        display_loaded();\n      }} else if (Date.now() < root._bokeh_timeout) {\n      setTimeout(run_inline_js, 100);\n    } else if (!root._bokeh_failed_load) {\n      console.log(\"Bokeh: BokehJS failed to load within specified timeout.\");\n      root._bokeh_failed_load = true;\n    } else if (force !== true) {\n      var cell = $(document.getElementById(\"df763fc5-1c4f-4448-bc7d-c1a7eae633fd\")).parents('.cell').data().cell;\n      cell.output_area.append_execute_result(NB_LOAD_WARNING)\n    }\n\n  }\n\n  if (root._bokeh_is_loading === 0) {\n    console.log(\"Bokeh: BokehJS loaded, going straight to plotting\");\n    run_inline_js();\n  } else {\n    load_libs(js_urls, function() {\n      console.log(\"Bokeh: BokehJS plotting callback run at\", now());\n      run_inline_js();\n    });\n  }\n}(window));"
     },
     "metadata": {},
     "output_type": "display_data"
    }
   ],
   "source": [
    "import numpy as np\n",
    "import numpy.linalg as la\n",
    "from visualize import LinearAlgebra as vla\n",
    "plot = vla()"
   ]
  },
  {
   "cell_type": "markdown",
   "metadata": {},
   "source": [
    "## Simulate Data "
   ]
  },
  {
   "cell_type": "code",
   "execution_count": 2,
   "metadata": {},
   "outputs": [
    {
     "name": "stdout",
     "output_type": "stream",
     "text": [
      "The dimensions of X\n",
      " (10, 2)\n",
      "\n",
      "X\n",
      " [[1.91 4.  ]\n",
      " [3.28 1.49]\n",
      " [2.42 4.65]\n",
      " [0.57 2.57]\n",
      " [4.27 2.13]\n",
      " [2.32 2.91]\n",
      " [4.49 2.36]\n",
      " [2.56 2.57]\n",
      " [5.21 5.19]\n",
      " [4.   3.39]]\n"
     ]
    }
   ],
   "source": [
    "np.random.seed(123) # To reproduce simulation \n",
    "N = 10              # Number of observations\n",
    "P = 2               # Number of variables\n",
    "X = np.random.normal(3,1,N*P).reshape(N,P).round(2) # Draw from a normal distribution\n",
    "\n",
    "print('The dimensions of X\\n',X.shape)\n",
    "print('\\nX\\n',X)"
   ]
  },
  {
   "cell_type": "code",
   "execution_count": 3,
   "metadata": {},
   "outputs": [
    {
     "name": "stdout",
     "output_type": "stream",
     "text": [
      "Visual representation of our simulated data as vectors\n",
      "\n"
     ]
    },
    {
     "data": {
      "text/html": [
       "\n",
       "\n",
       "\n",
       "\n",
       "\n",
       "\n",
       "  <div class=\"bk-root\" id=\"2ab9df48-a36d-45bd-95e9-657a9588f17a\"></div>\n"
      ]
     },
     "metadata": {},
     "output_type": "display_data"
    },
    {
     "data": {
      "application/javascript": [
       "(function(root) {\n",
       "  function embed_document(root) {\n",
       "    \n",
       "  var docs_json = {\"27836580-8ab2-4543-aab1-5b3809431389\":{\"roots\":{\"references\":[{\"attributes\":{\"fill_color\":{\"value\":\"black\"},\"x\":{\"value\":4.49},\"y\":{\"value\":2.36}},\"id\":\"61712924-e97a-4912-9abe-aad07185f74c\",\"type\":\"Circle\"},{\"attributes\":{\"plot\":null,\"text\":\"\"},\"id\":\"b1afc347-92d8-47e6-b1fc-253874c47f6a\",\"type\":\"Title\"},{\"attributes\":{\"line_width\":1.5,\"x\":{\"field\":\"x\"},\"y\":{\"field\":\"y\"}},\"id\":\"a75cbbc5-df2d-47aa-b6e5-526087968d7e\",\"type\":\"Line\"},{\"attributes\":{},\"id\":\"a1756bca-5aef-41b0-9c0c-0f96e8fbbdb6\",\"type\":\"LinearScale\"},{\"attributes\":{\"fill_alpha\":{\"value\":0.1},\"fill_color\":{\"value\":\"#1f77b4\"},\"line_alpha\":{\"value\":0.1},\"line_color\":{\"value\":\"#1f77b4\"},\"x\":{\"value\":4.49},\"y\":{\"value\":2.36}},\"id\":\"970263d5-2aa2-43f1-9a38-817f7e01dff0\",\"type\":\"Circle\"},{\"attributes\":{\"data_source\":{\"id\":\"9d928ea8-9383-4f25-922a-ed415b466225\",\"type\":\"ColumnDataSource\"},\"glyph\":{\"id\":\"61712924-e97a-4912-9abe-aad07185f74c\",\"type\":\"Circle\"},\"hover_glyph\":null,\"muted_glyph\":null,\"nonselection_glyph\":{\"id\":\"970263d5-2aa2-43f1-9a38-817f7e01dff0\",\"type\":\"Circle\"},\"selection_glyph\":null,\"view\":{\"id\":\"12854b11-8862-49a7-aef4-9c65960e4d88\",\"type\":\"CDSView\"}},\"id\":\"e0ff6021-7a62-4f7a-aa98-c1a6e8bb9981\",\"type\":\"GlyphRenderer\"},{\"attributes\":{\"callback\":null,\"data\":{\"x\":[-10.0,10.0],\"y\":[0.0,0.0]},\"selected\":{\"id\":\"2cd18017-2678-496b-bc08-e850d4f1953b\",\"type\":\"Selection\"},\"selection_policy\":{\"id\":\"d9688cb2-f834-4334-ab68-c56d72efd902\",\"type\":\"UnionRenderers\"}},\"id\":\"df28e33e-3692-40a3-806f-3dbfb80aa51b\",\"type\":\"ColumnDataSource\"},{\"attributes\":{},\"id\":\"cb26f246-28ed-4b49-8645-b5cc6ae5727b\",\"type\":\"BasicTicker\"},{\"attributes\":{\"source\":{\"id\":\"9d928ea8-9383-4f25-922a-ed415b466225\",\"type\":\"ColumnDataSource\"}},\"id\":\"12854b11-8862-49a7-aef4-9c65960e4d88\",\"type\":\"CDSView\"},{\"attributes\":{},\"id\":\"5a9868fb-9774-4f73-88ac-52371c92ae05\",\"type\":\"BasicTicker\"},{\"attributes\":{\"fill_alpha\":{\"value\":0.1},\"line_alpha\":{\"value\":0.1},\"plot\":null,\"size\":10},\"id\":\"2384bcc4-14d7-441d-ac05-983532b66e00\",\"type\":\"NormalHead\"},{\"attributes\":{\"end\":{\"id\":\"2384bcc4-14d7-441d-ac05-983532b66e00\",\"type\":\"NormalHead\"},\"line_alpha\":{\"value\":0.1},\"line_width\":{\"value\":3},\"plot\":{\"id\":\"20ff3861-78cd-423f-b0f7-a07af8d38069\",\"subtype\":\"Figure\",\"type\":\"Plot\"},\"source\":null,\"start\":null,\"x_end\":{\"value\":2.56},\"x_start\":{\"value\":0.0},\"y_end\":{\"value\":2.57},\"y_start\":{\"value\":0.0}},\"id\":\"96992ce3-c371-4c3a-81fb-927c6a3421a1\",\"type\":\"Arrow\"},{\"attributes\":{\"callback\":null,\"data\":{},\"selected\":{\"id\":\"c3e828a3-0f6c-432f-b0ec-db1c77d2659a\",\"type\":\"Selection\"},\"selection_policy\":{\"id\":\"c2ef20a3-9a94-487b-b0c9-735855015cc5\",\"type\":\"UnionRenderers\"}},\"id\":\"9d928ea8-9383-4f25-922a-ed415b466225\",\"type\":\"ColumnDataSource\"},{\"attributes\":{\"active_drag\":\"auto\",\"active_inspect\":\"auto\",\"active_multi\":null,\"active_scroll\":\"auto\",\"active_tap\":\"auto\",\"tools\":[{\"id\":\"aaf2a34d-ff3b-45be-9d83-91fdb352cae1\",\"type\":\"WheelZoomTool\"},{\"id\":\"6cec0690-53c6-4b48-8e1b-169d4c086126\",\"type\":\"PanTool\"},{\"id\":\"ff5203e7-b11c-46b6-8d72-b35f8bbc2c7d\",\"type\":\"ResetTool\"}]},\"id\":\"4177e3fa-650a-4276-925f-125726f388aa\",\"type\":\"Toolbar\"},{\"attributes\":{\"callback\":null,\"data\":{},\"selected\":{\"id\":\"5930192b-f716-400f-9316-114b3b1c2aca\",\"type\":\"Selection\"},\"selection_policy\":{\"id\":\"4b60d381-25af-41f1-be92-822f213127f1\",\"type\":\"UnionRenderers\"}},\"id\":\"bc9dea33-d8de-4cfc-8bbd-c51aae2e8b75\",\"type\":\"ColumnDataSource\"},{\"attributes\":{\"callback\":null,\"end\":7.0,\"start\":-7.0},\"id\":\"60e41697-89a7-4e04-8389-0e578adbd99a\",\"type\":\"Range1d\"},{\"attributes\":{\"fill_alpha\":{\"value\":0.1},\"fill_color\":{\"value\":\"#1f77b4\"},\"line_alpha\":{\"value\":0.1},\"line_color\":{\"value\":\"#1f77b4\"},\"x\":{\"value\":2.56},\"y\":{\"value\":2.57}},\"id\":\"f520871b-2819-491b-a286-563cfe0a6908\",\"type\":\"Circle\"},{\"attributes\":{\"formatter\":{\"id\":\"0a5407a0-1b37-4408-9b50-b912d83315b5\",\"type\":\"BasicTickFormatter\"},\"plot\":{\"id\":\"20ff3861-78cd-423f-b0f7-a07af8d38069\",\"subtype\":\"Figure\",\"type\":\"Plot\"},\"ticker\":{\"id\":\"cb26f246-28ed-4b49-8645-b5cc6ae5727b\",\"type\":\"BasicTicker\"}},\"id\":\"d502bf94-2c2c-4712-8742-88fd639b1b05\",\"type\":\"LinearAxis\"},{\"attributes\":{\"fill_color\":{\"value\":\"black\"},\"x\":{\"value\":2.56},\"y\":{\"value\":2.57}},\"id\":\"74dfe78a-9b2a-40f6-ba7a-5d4376224cc9\",\"type\":\"Circle\"},{\"attributes\":{\"below\":[{\"id\":\"d502bf94-2c2c-4712-8742-88fd639b1b05\",\"type\":\"LinearAxis\"}],\"left\":[{\"id\":\"5c74b2c3-ca7f-49a1-8273-a276007284c2\",\"type\":\"LinearAxis\"}],\"plot_height\":400,\"plot_width\":400,\"renderers\":[{\"id\":\"d502bf94-2c2c-4712-8742-88fd639b1b05\",\"type\":\"LinearAxis\"},{\"id\":\"b724db27-bb25-4462-bb65-4b498a3164c0\",\"type\":\"Grid\"},{\"id\":\"5c74b2c3-ca7f-49a1-8273-a276007284c2\",\"type\":\"LinearAxis\"},{\"id\":\"52b80536-8ab3-4eda-875e-1f4650d153b5\",\"type\":\"Grid\"},{\"id\":\"abed8277-c68f-416a-add1-2c7fb2a9b3e6\",\"type\":\"GlyphRenderer\"},{\"id\":\"58cd70a5-096e-4183-9995-22de927934ba\",\"type\":\"GlyphRenderer\"},{\"id\":\"1c279daf-9b7f-4d05-a732-1b743ea0fe3e\",\"type\":\"Arrow\"},{\"id\":\"2d90b81e-3236-4ac4-a17f-b2e7e9e489a4\",\"type\":\"GlyphRenderer\"},{\"id\":\"d1e1c502-789d-4511-96ff-f8f319e1e89b\",\"type\":\"Arrow\"},{\"id\":\"2b548a1b-a06d-463a-a3e1-eecddd0c51c2\",\"type\":\"GlyphRenderer\"},{\"id\":\"747b28bf-f982-4acb-b1f5-e8a7cacf734e\",\"type\":\"Arrow\"},{\"id\":\"d76c9009-bfb9-4f52-a6a5-c56a112526e1\",\"type\":\"GlyphRenderer\"},{\"id\":\"b2fe8cf3-2937-4ffa-bdf9-82eb7cbca0c0\",\"type\":\"Arrow\"},{\"id\":\"342b298a-3fda-4a1e-b9d3-5ab81364aed6\",\"type\":\"GlyphRenderer\"},{\"id\":\"52b69f8c-2c57-4edb-b290-cf0e617ed61b\",\"type\":\"Arrow\"},{\"id\":\"74a5a0de-a5bc-469b-bd15-d42b0fd87356\",\"type\":\"GlyphRenderer\"},{\"id\":\"477a6402-434b-4079-991e-e9b81db739b3\",\"type\":\"Arrow\"},{\"id\":\"aa3ed9b8-3fb6-4891-84f5-be668cf948c6\",\"type\":\"GlyphRenderer\"},{\"id\":\"a335696e-efd9-457e-9af6-d7ac41ac50cc\",\"type\":\"Arrow\"},{\"id\":\"e0ff6021-7a62-4f7a-aa98-c1a6e8bb9981\",\"type\":\"GlyphRenderer\"},{\"id\":\"96992ce3-c371-4c3a-81fb-927c6a3421a1\",\"type\":\"Arrow\"},{\"id\":\"f8675e69-dbc6-4efe-8330-164f8a82d5bb\",\"type\":\"GlyphRenderer\"},{\"id\":\"50c213c4-3fdf-4c2c-bd88-4f7838304c87\",\"type\":\"Arrow\"},{\"id\":\"eb59affe-ee09-4d74-9d40-60e2f7b290c7\",\"type\":\"GlyphRenderer\"},{\"id\":\"0c59befa-d26d-4732-a4aa-a46066f15a31\",\"type\":\"Arrow\"},{\"id\":\"c46e9cbf-f53e-4401-bae5-523b385e1a87\",\"type\":\"GlyphRenderer\"}],\"title\":{\"id\":\"b1afc347-92d8-47e6-b1fc-253874c47f6a\",\"type\":\"Title\"},\"toolbar\":{\"id\":\"4177e3fa-650a-4276-925f-125726f388aa\",\"type\":\"Toolbar\"},\"x_range\":{\"id\":\"115e9391-e9ab-47f2-91f1-57eebaf4eb6f\",\"type\":\"Range1d\"},\"x_scale\":{\"id\":\"a1756bca-5aef-41b0-9c0c-0f96e8fbbdb6\",\"type\":\"LinearScale\"},\"y_range\":{\"id\":\"60e41697-89a7-4e04-8389-0e578adbd99a\",\"type\":\"Range1d\"},\"y_scale\":{\"id\":\"6155273e-43f7-4240-a1fc-a3ed0b5a7201\",\"type\":\"LinearScale\"}},\"id\":\"20ff3861-78cd-423f-b0f7-a07af8d38069\",\"subtype\":\"Figure\",\"type\":\"Plot\"},{\"attributes\":{\"data_source\":{\"id\":\"bc9dea33-d8de-4cfc-8bbd-c51aae2e8b75\",\"type\":\"ColumnDataSource\"},\"glyph\":{\"id\":\"74dfe78a-9b2a-40f6-ba7a-5d4376224cc9\",\"type\":\"Circle\"},\"hover_glyph\":null,\"muted_glyph\":null,\"nonselection_glyph\":{\"id\":\"f520871b-2819-491b-a286-563cfe0a6908\",\"type\":\"Circle\"},\"selection_glyph\":null,\"view\":{\"id\":\"12069eb5-87a9-4cb9-abc2-50892d4ac0de\",\"type\":\"CDSView\"}},\"id\":\"f8675e69-dbc6-4efe-8330-164f8a82d5bb\",\"type\":\"GlyphRenderer\"},{\"attributes\":{\"fill_alpha\":{\"value\":0.1},\"line_alpha\":{\"value\":0.1},\"plot\":null,\"size\":10},\"id\":\"7fb760ad-b962-4e79-8bd1-a6a1876e804f\",\"type\":\"NormalHead\"},{\"attributes\":{\"source\":{\"id\":\"bc9dea33-d8de-4cfc-8bbd-c51aae2e8b75\",\"type\":\"ColumnDataSource\"}},\"id\":\"12069eb5-87a9-4cb9-abc2-50892d4ac0de\",\"type\":\"CDSView\"},{\"attributes\":{\"fill_alpha\":{\"value\":0.1},\"line_alpha\":{\"value\":0.1},\"plot\":null,\"size\":10},\"id\":\"fe4e2bea-a246-4f80-8f18-a83126df694e\",\"type\":\"NormalHead\"},{\"attributes\":{\"formatter\":{\"id\":\"3a6ccac7-91d1-4597-a7cb-661664d3349e\",\"type\":\"BasicTickFormatter\"},\"plot\":{\"id\":\"20ff3861-78cd-423f-b0f7-a07af8d38069\",\"subtype\":\"Figure\",\"type\":\"Plot\"},\"ticker\":{\"id\":\"5a9868fb-9774-4f73-88ac-52371c92ae05\",\"type\":\"BasicTicker\"}},\"id\":\"5c74b2c3-ca7f-49a1-8273-a276007284c2\",\"type\":\"LinearAxis\"},{\"attributes\":{\"end\":{\"id\":\"fe4e2bea-a246-4f80-8f18-a83126df694e\",\"type\":\"NormalHead\"},\"line_alpha\":{\"value\":0.1},\"line_width\":{\"value\":3},\"plot\":{\"id\":\"20ff3861-78cd-423f-b0f7-a07af8d38069\",\"subtype\":\"Figure\",\"type\":\"Plot\"},\"source\":null,\"start\":null,\"x_end\":{\"value\":5.21},\"x_start\":{\"value\":0.0},\"y_end\":{\"value\":5.19},\"y_start\":{\"value\":0.0}},\"id\":\"50c213c4-3fdf-4c2c-bd88-4f7838304c87\",\"type\":\"Arrow\"},{\"attributes\":{\"callback\":null,\"data\":{},\"selected\":{\"id\":\"4c3df70f-8b2a-4bc8-9646-7913043d1601\",\"type\":\"Selection\"},\"selection_policy\":{\"id\":\"7e99dc64-eb89-4e16-be39-e885ef8bf255\",\"type\":\"UnionRenderers\"}},\"id\":\"8178d8a6-95a1-49f8-b00a-5d8fff7a0f1c\",\"type\":\"ColumnDataSource\"},{\"attributes\":{\"data_source\":{\"id\":\"df28e33e-3692-40a3-806f-3dbfb80aa51b\",\"type\":\"ColumnDataSource\"},\"glyph\":{\"id\":\"a75cbbc5-df2d-47aa-b6e5-526087968d7e\",\"type\":\"Line\"},\"hover_glyph\":null,\"muted_glyph\":null,\"nonselection_glyph\":{\"id\":\"78ff24e9-a2d4-4e41-9630-9c1c02abb8c0\",\"type\":\"Line\"},\"selection_glyph\":null,\"view\":{\"id\":\"9c7ca059-cda2-44f2-9163-bea408d8be3c\",\"type\":\"CDSView\"}},\"id\":\"abed8277-c68f-416a-add1-2c7fb2a9b3e6\",\"type\":\"GlyphRenderer\"},{\"attributes\":{\"fill_alpha\":{\"value\":0.1},\"fill_color\":{\"value\":\"#1f77b4\"},\"line_alpha\":{\"value\":0.1},\"line_color\":{\"value\":\"#1f77b4\"},\"x\":{\"value\":5.21},\"y\":{\"value\":5.19}},\"id\":\"d82fb059-54a1-43ac-8eb1-c73fcbafd28c\",\"type\":\"Circle\"},{\"attributes\":{\"dimension\":1,\"plot\":{\"id\":\"20ff3861-78cd-423f-b0f7-a07af8d38069\",\"subtype\":\"Figure\",\"type\":\"Plot\"},\"ticker\":{\"id\":\"5a9868fb-9774-4f73-88ac-52371c92ae05\",\"type\":\"BasicTicker\"}},\"id\":\"52b80536-8ab3-4eda-875e-1f4650d153b5\",\"type\":\"Grid\"},{\"attributes\":{\"fill_color\":{\"value\":\"black\"},\"x\":{\"value\":5.21},\"y\":{\"value\":5.19}},\"id\":\"21932975-d573-43c5-8618-357a041e0869\",\"type\":\"Circle\"},{\"attributes\":{\"data_source\":{\"id\":\"8178d8a6-95a1-49f8-b00a-5d8fff7a0f1c\",\"type\":\"ColumnDataSource\"},\"glyph\":{\"id\":\"21932975-d573-43c5-8618-357a041e0869\",\"type\":\"Circle\"},\"hover_glyph\":null,\"muted_glyph\":null,\"nonselection_glyph\":{\"id\":\"d82fb059-54a1-43ac-8eb1-c73fcbafd28c\",\"type\":\"Circle\"},\"selection_glyph\":null,\"view\":{\"id\":\"72b513d3-846a-4048-a10c-9ed466dd7ed9\",\"type\":\"CDSView\"}},\"id\":\"eb59affe-ee09-4d74-9d40-60e2f7b290c7\",\"type\":\"GlyphRenderer\"},{\"attributes\":{\"line_width\":1.5,\"x\":{\"field\":\"x\"},\"y\":{\"field\":\"y\"}},\"id\":\"ba7ababd-1e8d-4c83-bedd-47534f9dcfab\",\"type\":\"Line\"},{\"attributes\":{\"callback\":null,\"data\":{\"x\":[0.0,0.0],\"y\":[-10.0,10.0]},\"selected\":{\"id\":\"7582e4a1-1b7b-4617-89b6-3239d1f86008\",\"type\":\"Selection\"},\"selection_policy\":{\"id\":\"cdcf3039-66dc-4360-aec7-05a30bc605eb\",\"type\":\"UnionRenderers\"}},\"id\":\"ffc46c76-29ea-4e12-9ddc-7934516259a7\",\"type\":\"ColumnDataSource\"},{\"attributes\":{\"source\":{\"id\":\"8178d8a6-95a1-49f8-b00a-5d8fff7a0f1c\",\"type\":\"ColumnDataSource\"}},\"id\":\"72b513d3-846a-4048-a10c-9ed466dd7ed9\",\"type\":\"CDSView\"},{\"attributes\":{\"fill_alpha\":{\"value\":0.1},\"line_alpha\":{\"value\":0.1},\"plot\":null,\"size\":10},\"id\":\"a69e2890-8698-40e9-80f0-3ccf2ca637ac\",\"type\":\"NormalHead\"},{\"attributes\":{},\"id\":\"aaf2a34d-ff3b-45be-9d83-91fdb352cae1\",\"type\":\"WheelZoomTool\"},{\"attributes\":{\"end\":{\"id\":\"a69e2890-8698-40e9-80f0-3ccf2ca637ac\",\"type\":\"NormalHead\"},\"line_alpha\":{\"value\":0.1},\"line_width\":{\"value\":3},\"plot\":{\"id\":\"20ff3861-78cd-423f-b0f7-a07af8d38069\",\"subtype\":\"Figure\",\"type\":\"Plot\"},\"source\":null,\"start\":null,\"x_end\":{\"value\":4.0},\"x_start\":{\"value\":0.0},\"y_end\":{\"value\":3.39},\"y_start\":{\"value\":0.0}},\"id\":\"0c59befa-d26d-4732-a4aa-a46066f15a31\",\"type\":\"Arrow\"},{\"attributes\":{},\"id\":\"6cec0690-53c6-4b48-8e1b-169d4c086126\",\"type\":\"PanTool\"},{\"attributes\":{\"line_alpha\":0.1,\"line_color\":\"#1f77b4\",\"line_width\":1.5,\"x\":{\"field\":\"x\"},\"y\":{\"field\":\"y\"}},\"id\":\"0aaa007e-294a-48ba-af16-a8f7dec75eea\",\"type\":\"Line\"},{\"attributes\":{\"callback\":null,\"data\":{},\"selected\":{\"id\":\"9a0c75df-b783-44c7-b74f-141df9203590\",\"type\":\"Selection\"},\"selection_policy\":{\"id\":\"d1331785-5d2f-4f8e-87c9-2b58b56400de\",\"type\":\"UnionRenderers\"}},\"id\":\"8cc375e9-f043-4e7d-b5a1-fda54957a0c9\",\"type\":\"ColumnDataSource\"},{\"attributes\":{\"fill_alpha\":{\"value\":0.1},\"fill_color\":{\"value\":\"#1f77b4\"},\"line_alpha\":{\"value\":0.1},\"line_color\":{\"value\":\"#1f77b4\"},\"x\":{\"value\":4.0},\"y\":{\"value\":3.39}},\"id\":\"a0a5be20-ec18-411c-9d01-f811d5ffb1d0\",\"type\":\"Circle\"},{\"attributes\":{},\"id\":\"ff5203e7-b11c-46b6-8d72-b35f8bbc2c7d\",\"type\":\"ResetTool\"},{\"attributes\":{\"line_alpha\":0.1,\"line_color\":\"#1f77b4\",\"line_width\":1.5,\"x\":{\"field\":\"x\"},\"y\":{\"field\":\"y\"}},\"id\":\"78ff24e9-a2d4-4e41-9630-9c1c02abb8c0\",\"type\":\"Line\"},{\"attributes\":{\"fill_color\":{\"value\":\"black\"},\"x\":{\"value\":4.0},\"y\":{\"value\":3.39}},\"id\":\"ad48500d-c310-4c81-bc55-3ae9bff5dc91\",\"type\":\"Circle\"},{\"attributes\":{\"data_source\":{\"id\":\"8cc375e9-f043-4e7d-b5a1-fda54957a0c9\",\"type\":\"ColumnDataSource\"},\"glyph\":{\"id\":\"ad48500d-c310-4c81-bc55-3ae9bff5dc91\",\"type\":\"Circle\"},\"hover_glyph\":null,\"muted_glyph\":null,\"nonselection_glyph\":{\"id\":\"a0a5be20-ec18-411c-9d01-f811d5ffb1d0\",\"type\":\"Circle\"},\"selection_glyph\":null,\"view\":{\"id\":\"84a4b8b1-2d35-4593-a318-d51648814813\",\"type\":\"CDSView\"}},\"id\":\"c46e9cbf-f53e-4401-bae5-523b385e1a87\",\"type\":\"GlyphRenderer\"},{\"attributes\":{\"source\":{\"id\":\"ffc46c76-29ea-4e12-9ddc-7934516259a7\",\"type\":\"ColumnDataSource\"}},\"id\":\"a346d324-bbb7-446f-965d-569c4e164c3d\",\"type\":\"CDSView\"},{\"attributes\":{\"source\":{\"id\":\"8cc375e9-f043-4e7d-b5a1-fda54957a0c9\",\"type\":\"ColumnDataSource\"}},\"id\":\"84a4b8b1-2d35-4593-a318-d51648814813\",\"type\":\"CDSView\"},{\"attributes\":{\"data_source\":{\"id\":\"388b5fdd-bea5-4494-87d3-9f50a440ec93\",\"type\":\"ColumnDataSource\"},\"glyph\":{\"id\":\"d1eede5b-afcd-4148-9a5f-f018fddb8af5\",\"type\":\"Circle\"},\"hover_glyph\":null,\"muted_glyph\":null,\"nonselection_glyph\":{\"id\":\"63c3dae7-e88e-4f09-9200-447d9fc2f5e7\",\"type\":\"Circle\"},\"selection_glyph\":null,\"view\":{\"id\":\"d2188665-420c-45d4-a481-d54622807421\",\"type\":\"CDSView\"}},\"id\":\"2d90b81e-3236-4ac4-a17f-b2e7e9e489a4\",\"type\":\"GlyphRenderer\"},{\"attributes\":{\"plot\":{\"id\":\"20ff3861-78cd-423f-b0f7-a07af8d38069\",\"subtype\":\"Figure\",\"type\":\"Plot\"},\"ticker\":{\"id\":\"cb26f246-28ed-4b49-8645-b5cc6ae5727b\",\"type\":\"BasicTicker\"}},\"id\":\"b724db27-bb25-4462-bb65-4b498a3164c0\",\"type\":\"Grid\"},{\"attributes\":{\"end\":{\"id\":\"7fb760ad-b962-4e79-8bd1-a6a1876e804f\",\"type\":\"NormalHead\"},\"line_alpha\":{\"value\":0.1},\"line_width\":{\"value\":3},\"plot\":{\"id\":\"20ff3861-78cd-423f-b0f7-a07af8d38069\",\"subtype\":\"Figure\",\"type\":\"Plot\"},\"source\":null,\"start\":null,\"x_end\":{\"value\":1.91},\"x_start\":{\"value\":0.0},\"y_end\":{\"value\":4.0},\"y_start\":{\"value\":0.0}},\"id\":\"1c279daf-9b7f-4d05-a732-1b743ea0fe3e\",\"type\":\"Arrow\"},{\"attributes\":{},\"id\":\"3a6ccac7-91d1-4597-a7cb-661664d3349e\",\"type\":\"BasicTickFormatter\"},{\"attributes\":{},\"id\":\"0a5407a0-1b37-4408-9b50-b912d83315b5\",\"type\":\"BasicTickFormatter\"},{\"attributes\":{\"fill_alpha\":{\"value\":0.1},\"fill_color\":{\"value\":\"#1f77b4\"},\"line_alpha\":{\"value\":0.1},\"line_color\":{\"value\":\"#1f77b4\"},\"x\":{\"value\":1.91},\"y\":{\"value\":4.0}},\"id\":\"63c3dae7-e88e-4f09-9200-447d9fc2f5e7\",\"type\":\"Circle\"},{\"attributes\":{},\"id\":\"2cd18017-2678-496b-bc08-e850d4f1953b\",\"type\":\"Selection\"},{\"attributes\":{\"source\":{\"id\":\"ffed4885-9942-4847-8a8b-00085c74642f\",\"type\":\"ColumnDataSource\"}},\"id\":\"0f516ba0-d915-4b81-9e9e-ad3ee1593eb7\",\"type\":\"CDSView\"},{\"attributes\":{},\"id\":\"6155273e-43f7-4240-a1fc-a3ed0b5a7201\",\"type\":\"LinearScale\"},{\"attributes\":{},\"id\":\"d9688cb2-f834-4334-ab68-c56d72efd902\",\"type\":\"UnionRenderers\"},{\"attributes\":{\"data_source\":{\"id\":\"ffc46c76-29ea-4e12-9ddc-7934516259a7\",\"type\":\"ColumnDataSource\"},\"glyph\":{\"id\":\"ba7ababd-1e8d-4c83-bedd-47534f9dcfab\",\"type\":\"Line\"},\"hover_glyph\":null,\"muted_glyph\":null,\"nonselection_glyph\":{\"id\":\"0aaa007e-294a-48ba-af16-a8f7dec75eea\",\"type\":\"Line\"},\"selection_glyph\":null,\"view\":{\"id\":\"a346d324-bbb7-446f-965d-569c4e164c3d\",\"type\":\"CDSView\"}},\"id\":\"58cd70a5-096e-4183-9995-22de927934ba\",\"type\":\"GlyphRenderer\"},{\"attributes\":{},\"id\":\"7582e4a1-1b7b-4617-89b6-3239d1f86008\",\"type\":\"Selection\"},{\"attributes\":{\"fill_color\":{\"value\":\"black\"},\"x\":{\"value\":1.91},\"y\":{\"value\":4.0}},\"id\":\"d1eede5b-afcd-4148-9a5f-f018fddb8af5\",\"type\":\"Circle\"},{\"attributes\":{},\"id\":\"cdcf3039-66dc-4360-aec7-05a30bc605eb\",\"type\":\"UnionRenderers\"},{\"attributes\":{\"callback\":null,\"data\":{},\"selected\":{\"id\":\"4e4f39b8-2321-4e91-81fd-4c4dbb45e42c\",\"type\":\"Selection\"},\"selection_policy\":{\"id\":\"02d9d2c1-a9c0-4c2f-8f24-7000bb90e6b2\",\"type\":\"UnionRenderers\"}},\"id\":\"388b5fdd-bea5-4494-87d3-9f50a440ec93\",\"type\":\"ColumnDataSource\"},{\"attributes\":{},\"id\":\"4e4f39b8-2321-4e91-81fd-4c4dbb45e42c\",\"type\":\"Selection\"},{\"attributes\":{\"source\":{\"id\":\"388b5fdd-bea5-4494-87d3-9f50a440ec93\",\"type\":\"ColumnDataSource\"}},\"id\":\"d2188665-420c-45d4-a481-d54622807421\",\"type\":\"CDSView\"},{\"attributes\":{},\"id\":\"02d9d2c1-a9c0-4c2f-8f24-7000bb90e6b2\",\"type\":\"UnionRenderers\"},{\"attributes\":{\"fill_alpha\":{\"value\":0.1},\"line_alpha\":{\"value\":0.1},\"plot\":null,\"size\":10},\"id\":\"8e6ba10d-0be8-4791-8c59-54e5c246fd93\",\"type\":\"NormalHead\"},{\"attributes\":{},\"id\":\"779bd848-24c4-42ce-8ac1-8faf91c8896b\",\"type\":\"Selection\"},{\"attributes\":{\"end\":{\"id\":\"8e6ba10d-0be8-4791-8c59-54e5c246fd93\",\"type\":\"NormalHead\"},\"line_alpha\":{\"value\":0.1},\"line_width\":{\"value\":3},\"plot\":{\"id\":\"20ff3861-78cd-423f-b0f7-a07af8d38069\",\"subtype\":\"Figure\",\"type\":\"Plot\"},\"source\":null,\"start\":null,\"x_end\":{\"value\":3.28},\"x_start\":{\"value\":0.0},\"y_end\":{\"value\":1.49},\"y_start\":{\"value\":0.0}},\"id\":\"d1e1c502-789d-4511-96ff-f8f319e1e89b\",\"type\":\"Arrow\"},{\"attributes\":{},\"id\":\"d4e73cdc-bf7b-4a48-a332-e034ed29a9b9\",\"type\":\"UnionRenderers\"},{\"attributes\":{\"callback\":null,\"data\":{},\"selected\":{\"id\":\"779bd848-24c4-42ce-8ac1-8faf91c8896b\",\"type\":\"Selection\"},\"selection_policy\":{\"id\":\"d4e73cdc-bf7b-4a48-a332-e034ed29a9b9\",\"type\":\"UnionRenderers\"}},\"id\":\"e2bb5e6f-3453-4d1a-ab9c-a87f864ebaf8\",\"type\":\"ColumnDataSource\"},{\"attributes\":{},\"id\":\"209fd7a8-dd94-4338-babf-e84eed58fdff\",\"type\":\"Selection\"},{\"attributes\":{\"fill_alpha\":{\"value\":0.1},\"fill_color\":{\"value\":\"#1f77b4\"},\"line_alpha\":{\"value\":0.1},\"line_color\":{\"value\":\"#1f77b4\"},\"x\":{\"value\":3.28},\"y\":{\"value\":1.49}},\"id\":\"70d7b534-bed0-4805-9e5e-3ed7c7695576\",\"type\":\"Circle\"},{\"attributes\":{},\"id\":\"f1e928fe-353b-496d-a7a2-dfb395d08592\",\"type\":\"UnionRenderers\"},{\"attributes\":{\"fill_color\":{\"value\":\"black\"},\"x\":{\"value\":3.28},\"y\":{\"value\":1.49}},\"id\":\"e2c4529e-6f30-4499-a74e-7f2491175469\",\"type\":\"Circle\"},{\"attributes\":{},\"id\":\"7ccc3431-efff-40e2-b699-1072f8af2643\",\"type\":\"Selection\"},{\"attributes\":{\"data_source\":{\"id\":\"e2bb5e6f-3453-4d1a-ab9c-a87f864ebaf8\",\"type\":\"ColumnDataSource\"},\"glyph\":{\"id\":\"e2c4529e-6f30-4499-a74e-7f2491175469\",\"type\":\"Circle\"},\"hover_glyph\":null,\"muted_glyph\":null,\"nonselection_glyph\":{\"id\":\"70d7b534-bed0-4805-9e5e-3ed7c7695576\",\"type\":\"Circle\"},\"selection_glyph\":null,\"view\":{\"id\":\"1b8bf938-3e2a-4927-b8fe-0dd996837ef8\",\"type\":\"CDSView\"}},\"id\":\"2b548a1b-a06d-463a-a3e1-eecddd0c51c2\",\"type\":\"GlyphRenderer\"},{\"attributes\":{},\"id\":\"e92d787a-0311-4931-86c2-ff16f24e1d3b\",\"type\":\"UnionRenderers\"},{\"attributes\":{\"source\":{\"id\":\"e2bb5e6f-3453-4d1a-ab9c-a87f864ebaf8\",\"type\":\"ColumnDataSource\"}},\"id\":\"1b8bf938-3e2a-4927-b8fe-0dd996837ef8\",\"type\":\"CDSView\"},{\"attributes\":{},\"id\":\"378c6d6f-d96a-4bba-9575-3602bb773e91\",\"type\":\"Selection\"},{\"attributes\":{\"fill_alpha\":{\"value\":0.1},\"line_alpha\":{\"value\":0.1},\"plot\":null,\"size\":10},\"id\":\"64c4f6e3-da8e-4246-a7f4-8f1cd3fb0747\",\"type\":\"NormalHead\"},{\"attributes\":{},\"id\":\"97a6826a-f685-4fc3-a131-64f249cd34c2\",\"type\":\"UnionRenderers\"},{\"attributes\":{\"end\":{\"id\":\"64c4f6e3-da8e-4246-a7f4-8f1cd3fb0747\",\"type\":\"NormalHead\"},\"line_alpha\":{\"value\":0.1},\"line_width\":{\"value\":3},\"plot\":{\"id\":\"20ff3861-78cd-423f-b0f7-a07af8d38069\",\"subtype\":\"Figure\",\"type\":\"Plot\"},\"source\":null,\"start\":null,\"x_end\":{\"value\":2.42},\"x_start\":{\"value\":0.0},\"y_end\":{\"value\":4.65},\"y_start\":{\"value\":0.0}},\"id\":\"747b28bf-f982-4acb-b1f5-e8a7cacf734e\",\"type\":\"Arrow\"},{\"attributes\":{},\"id\":\"31985133-6df5-453c-8cfe-39c8b7c52833\",\"type\":\"Selection\"},{\"attributes\":{\"callback\":null,\"data\":{},\"selected\":{\"id\":\"209fd7a8-dd94-4338-babf-e84eed58fdff\",\"type\":\"Selection\"},\"selection_policy\":{\"id\":\"f1e928fe-353b-496d-a7a2-dfb395d08592\",\"type\":\"UnionRenderers\"}},\"id\":\"ffed4885-9942-4847-8a8b-00085c74642f\",\"type\":\"ColumnDataSource\"},{\"attributes\":{},\"id\":\"5261847b-d21b-4176-b20c-5fc998770bfb\",\"type\":\"UnionRenderers\"},{\"attributes\":{\"fill_alpha\":{\"value\":0.1},\"fill_color\":{\"value\":\"#1f77b4\"},\"line_alpha\":{\"value\":0.1},\"line_color\":{\"value\":\"#1f77b4\"},\"x\":{\"value\":2.42},\"y\":{\"value\":4.65}},\"id\":\"0be5b3df-c3ca-4b5a-8acb-96bcfe9d9acd\",\"type\":\"Circle\"},{\"attributes\":{},\"id\":\"c3e828a3-0f6c-432f-b0ec-db1c77d2659a\",\"type\":\"Selection\"},{\"attributes\":{\"data_source\":{\"id\":\"ffed4885-9942-4847-8a8b-00085c74642f\",\"type\":\"ColumnDataSource\"},\"glyph\":{\"id\":\"9cefc844-72ea-4b2c-b9b0-4e4e46dc97dc\",\"type\":\"Circle\"},\"hover_glyph\":null,\"muted_glyph\":null,\"nonselection_glyph\":{\"id\":\"0be5b3df-c3ca-4b5a-8acb-96bcfe9d9acd\",\"type\":\"Circle\"},\"selection_glyph\":null,\"view\":{\"id\":\"0f516ba0-d915-4b81-9e9e-ad3ee1593eb7\",\"type\":\"CDSView\"}},\"id\":\"d76c9009-bfb9-4f52-a6a5-c56a112526e1\",\"type\":\"GlyphRenderer\"},{\"attributes\":{\"source\":{\"id\":\"df28e33e-3692-40a3-806f-3dbfb80aa51b\",\"type\":\"ColumnDataSource\"}},\"id\":\"9c7ca059-cda2-44f2-9163-bea408d8be3c\",\"type\":\"CDSView\"},{\"attributes\":{},\"id\":\"c2ef20a3-9a94-487b-b0c9-735855015cc5\",\"type\":\"UnionRenderers\"},{\"attributes\":{\"fill_color\":{\"value\":\"black\"},\"x\":{\"value\":2.42},\"y\":{\"value\":4.65}},\"id\":\"9cefc844-72ea-4b2c-b9b0-4e4e46dc97dc\",\"type\":\"Circle\"},{\"attributes\":{},\"id\":\"5930192b-f716-400f-9316-114b3b1c2aca\",\"type\":\"Selection\"},{\"attributes\":{\"fill_alpha\":{\"value\":0.1},\"line_alpha\":{\"value\":0.1},\"plot\":null,\"size\":10},\"id\":\"6e2be49e-d625-4217-9db5-76eba3148493\",\"type\":\"NormalHead\"},{\"attributes\":{},\"id\":\"4b60d381-25af-41f1-be92-822f213127f1\",\"type\":\"UnionRenderers\"},{\"attributes\":{\"end\":{\"id\":\"6e2be49e-d625-4217-9db5-76eba3148493\",\"type\":\"NormalHead\"},\"line_alpha\":{\"value\":0.1},\"line_width\":{\"value\":3},\"plot\":{\"id\":\"20ff3861-78cd-423f-b0f7-a07af8d38069\",\"subtype\":\"Figure\",\"type\":\"Plot\"},\"source\":null,\"start\":null,\"x_end\":{\"value\":0.57},\"x_start\":{\"value\":0.0},\"y_end\":{\"value\":2.57},\"y_start\":{\"value\":0.0}},\"id\":\"b2fe8cf3-2937-4ffa-bdf9-82eb7cbca0c0\",\"type\":\"Arrow\"},{\"attributes\":{},\"id\":\"4c3df70f-8b2a-4bc8-9646-7913043d1601\",\"type\":\"Selection\"},{\"attributes\":{\"callback\":null,\"data\":{},\"selected\":{\"id\":\"7ccc3431-efff-40e2-b699-1072f8af2643\",\"type\":\"Selection\"},\"selection_policy\":{\"id\":\"e92d787a-0311-4931-86c2-ff16f24e1d3b\",\"type\":\"UnionRenderers\"}},\"id\":\"1f764dbe-1bc8-4236-a04c-949629399d9c\",\"type\":\"ColumnDataSource\"},{\"attributes\":{},\"id\":\"7e99dc64-eb89-4e16-be39-e885ef8bf255\",\"type\":\"UnionRenderers\"},{\"attributes\":{\"fill_alpha\":{\"value\":0.1},\"fill_color\":{\"value\":\"#1f77b4\"},\"line_alpha\":{\"value\":0.1},\"line_color\":{\"value\":\"#1f77b4\"},\"x\":{\"value\":0.57},\"y\":{\"value\":2.57}},\"id\":\"4df6faff-d74e-482e-825d-af7a9a454a9b\",\"type\":\"Circle\"},{\"attributes\":{},\"id\":\"9a0c75df-b783-44c7-b74f-141df9203590\",\"type\":\"Selection\"},{\"attributes\":{\"fill_color\":{\"value\":\"black\"},\"x\":{\"value\":0.57},\"y\":{\"value\":2.57}},\"id\":\"ac3eab6e-92c7-48f6-8d51-a4175da4a880\",\"type\":\"Circle\"},{\"attributes\":{},\"id\":\"d1331785-5d2f-4f8e-87c9-2b58b56400de\",\"type\":\"UnionRenderers\"},{\"attributes\":{\"data_source\":{\"id\":\"1f764dbe-1bc8-4236-a04c-949629399d9c\",\"type\":\"ColumnDataSource\"},\"glyph\":{\"id\":\"ac3eab6e-92c7-48f6-8d51-a4175da4a880\",\"type\":\"Circle\"},\"hover_glyph\":null,\"muted_glyph\":null,\"nonselection_glyph\":{\"id\":\"4df6faff-d74e-482e-825d-af7a9a454a9b\",\"type\":\"Circle\"},\"selection_glyph\":null,\"view\":{\"id\":\"885f92d5-c386-4e50-bb19-70345832aa46\",\"type\":\"CDSView\"}},\"id\":\"342b298a-3fda-4a1e-b9d3-5ab81364aed6\",\"type\":\"GlyphRenderer\"},{\"attributes\":{\"source\":{\"id\":\"1f764dbe-1bc8-4236-a04c-949629399d9c\",\"type\":\"ColumnDataSource\"}},\"id\":\"885f92d5-c386-4e50-bb19-70345832aa46\",\"type\":\"CDSView\"},{\"attributes\":{\"fill_alpha\":{\"value\":0.1},\"line_alpha\":{\"value\":0.1},\"plot\":null,\"size\":10},\"id\":\"fc6fac99-d4a2-4927-ae63-30f929388d2b\",\"type\":\"NormalHead\"},{\"attributes\":{\"end\":{\"id\":\"fc6fac99-d4a2-4927-ae63-30f929388d2b\",\"type\":\"NormalHead\"},\"line_alpha\":{\"value\":0.1},\"line_width\":{\"value\":3},\"plot\":{\"id\":\"20ff3861-78cd-423f-b0f7-a07af8d38069\",\"subtype\":\"Figure\",\"type\":\"Plot\"},\"source\":null,\"start\":null,\"x_end\":{\"value\":4.27},\"x_start\":{\"value\":0.0},\"y_end\":{\"value\":2.13},\"y_start\":{\"value\":0.0}},\"id\":\"52b69f8c-2c57-4edb-b290-cf0e617ed61b\",\"type\":\"Arrow\"},{\"attributes\":{\"callback\":null,\"data\":{},\"selected\":{\"id\":\"378c6d6f-d96a-4bba-9575-3602bb773e91\",\"type\":\"Selection\"},\"selection_policy\":{\"id\":\"97a6826a-f685-4fc3-a131-64f249cd34c2\",\"type\":\"UnionRenderers\"}},\"id\":\"3aee0c54-d781-40ec-aa07-ace70efb2447\",\"type\":\"ColumnDataSource\"},{\"attributes\":{\"fill_alpha\":{\"value\":0.1},\"fill_color\":{\"value\":\"#1f77b4\"},\"line_alpha\":{\"value\":0.1},\"line_color\":{\"value\":\"#1f77b4\"},\"x\":{\"value\":4.27},\"y\":{\"value\":2.13}},\"id\":\"6e903665-2ad2-4788-b8bd-6b6890b61bb7\",\"type\":\"Circle\"},{\"attributes\":{\"fill_color\":{\"value\":\"black\"},\"x\":{\"value\":4.27},\"y\":{\"value\":2.13}},\"id\":\"7d138e0d-ff19-4cde-8383-9956a2b05100\",\"type\":\"Circle\"},{\"attributes\":{\"data_source\":{\"id\":\"3aee0c54-d781-40ec-aa07-ace70efb2447\",\"type\":\"ColumnDataSource\"},\"glyph\":{\"id\":\"7d138e0d-ff19-4cde-8383-9956a2b05100\",\"type\":\"Circle\"},\"hover_glyph\":null,\"muted_glyph\":null,\"nonselection_glyph\":{\"id\":\"6e903665-2ad2-4788-b8bd-6b6890b61bb7\",\"type\":\"Circle\"},\"selection_glyph\":null,\"view\":{\"id\":\"6cc3f96e-11da-4215-a840-8021962e459e\",\"type\":\"CDSView\"}},\"id\":\"74a5a0de-a5bc-469b-bd15-d42b0fd87356\",\"type\":\"GlyphRenderer\"},{\"attributes\":{\"source\":{\"id\":\"3aee0c54-d781-40ec-aa07-ace70efb2447\",\"type\":\"ColumnDataSource\"}},\"id\":\"6cc3f96e-11da-4215-a840-8021962e459e\",\"type\":\"CDSView\"},{\"attributes\":{\"callback\":null,\"end\":7.0,\"start\":-7.0},\"id\":\"115e9391-e9ab-47f2-91f1-57eebaf4eb6f\",\"type\":\"Range1d\"},{\"attributes\":{\"fill_alpha\":{\"value\":0.1},\"line_alpha\":{\"value\":0.1},\"plot\":null,\"size\":10},\"id\":\"0090f69d-9b25-46ef-8b2e-7e61bc61456d\",\"type\":\"NormalHead\"},{\"attributes\":{\"end\":{\"id\":\"0090f69d-9b25-46ef-8b2e-7e61bc61456d\",\"type\":\"NormalHead\"},\"line_alpha\":{\"value\":0.1},\"line_width\":{\"value\":3},\"plot\":{\"id\":\"20ff3861-78cd-423f-b0f7-a07af8d38069\",\"subtype\":\"Figure\",\"type\":\"Plot\"},\"source\":null,\"start\":null,\"x_end\":{\"value\":2.32},\"x_start\":{\"value\":0.0},\"y_end\":{\"value\":2.91},\"y_start\":{\"value\":0.0}},\"id\":\"477a6402-434b-4079-991e-e9b81db739b3\",\"type\":\"Arrow\"},{\"attributes\":{\"callback\":null,\"data\":{},\"selected\":{\"id\":\"31985133-6df5-453c-8cfe-39c8b7c52833\",\"type\":\"Selection\"},\"selection_policy\":{\"id\":\"5261847b-d21b-4176-b20c-5fc998770bfb\",\"type\":\"UnionRenderers\"}},\"id\":\"a9535c31-1bb6-49fa-bfd9-7d62761d35a4\",\"type\":\"ColumnDataSource\"},{\"attributes\":{\"fill_alpha\":{\"value\":0.1},\"fill_color\":{\"value\":\"#1f77b4\"},\"line_alpha\":{\"value\":0.1},\"line_color\":{\"value\":\"#1f77b4\"},\"x\":{\"value\":2.32},\"y\":{\"value\":2.91}},\"id\":\"5c8a2d53-b3e5-4dbd-8790-7287c47915be\",\"type\":\"Circle\"},{\"attributes\":{\"fill_color\":{\"value\":\"black\"},\"x\":{\"value\":2.32},\"y\":{\"value\":2.91}},\"id\":\"aa541094-b726-4f26-a92b-0cfe7607095e\",\"type\":\"Circle\"},{\"attributes\":{\"data_source\":{\"id\":\"a9535c31-1bb6-49fa-bfd9-7d62761d35a4\",\"type\":\"ColumnDataSource\"},\"glyph\":{\"id\":\"aa541094-b726-4f26-a92b-0cfe7607095e\",\"type\":\"Circle\"},\"hover_glyph\":null,\"muted_glyph\":null,\"nonselection_glyph\":{\"id\":\"5c8a2d53-b3e5-4dbd-8790-7287c47915be\",\"type\":\"Circle\"},\"selection_glyph\":null,\"view\":{\"id\":\"edbd331a-a152-4c57-885c-246a7d6b13f8\",\"type\":\"CDSView\"}},\"id\":\"aa3ed9b8-3fb6-4891-84f5-be668cf948c6\",\"type\":\"GlyphRenderer\"},{\"attributes\":{\"source\":{\"id\":\"a9535c31-1bb6-49fa-bfd9-7d62761d35a4\",\"type\":\"ColumnDataSource\"}},\"id\":\"edbd331a-a152-4c57-885c-246a7d6b13f8\",\"type\":\"CDSView\"},{\"attributes\":{\"fill_alpha\":{\"value\":0.1},\"line_alpha\":{\"value\":0.1},\"plot\":null,\"size\":10},\"id\":\"64e0f696-b617-4fa6-b8ab-1c8023df258f\",\"type\":\"NormalHead\"},{\"attributes\":{\"end\":{\"id\":\"64e0f696-b617-4fa6-b8ab-1c8023df258f\",\"type\":\"NormalHead\"},\"line_alpha\":{\"value\":0.1},\"line_width\":{\"value\":3},\"plot\":{\"id\":\"20ff3861-78cd-423f-b0f7-a07af8d38069\",\"subtype\":\"Figure\",\"type\":\"Plot\"},\"source\":null,\"start\":null,\"x_end\":{\"value\":4.49},\"x_start\":{\"value\":0.0},\"y_end\":{\"value\":2.36},\"y_start\":{\"value\":0.0}},\"id\":\"a335696e-efd9-457e-9af6-d7ac41ac50cc\",\"type\":\"Arrow\"}],\"root_ids\":[\"20ff3861-78cd-423f-b0f7-a07af8d38069\"]},\"title\":\"Bokeh Application\",\"version\":\"0.13.0\"}};\n",
       "  var render_items = [{\"docid\":\"27836580-8ab2-4543-aab1-5b3809431389\",\"roots\":{\"20ff3861-78cd-423f-b0f7-a07af8d38069\":\"2ab9df48-a36d-45bd-95e9-657a9588f17a\"}}];\n",
       "  root.Bokeh.embed.embed_items_notebook(docs_json, render_items);\n",
       "\n",
       "  }\n",
       "  if (root.Bokeh !== undefined) {\n",
       "    embed_document(root);\n",
       "  } else {\n",
       "    var attempts = 0;\n",
       "    var timer = setInterval(function(root) {\n",
       "      if (root.Bokeh !== undefined) {\n",
       "        embed_document(root);\n",
       "        clearInterval(timer);\n",
       "      }\n",
       "      attempts++;\n",
       "      if (attempts > 100) {\n",
       "        console.log(\"Bokeh: ERROR: Unable to run BokehJS code because BokehJS library is missing\")\n",
       "        clearInterval(timer);\n",
       "      }\n",
       "    }, 10, root)\n",
       "  }\n",
       "})(window);"
      ],
      "application/vnd.bokehjs_exec.v0+json": ""
     },
     "metadata": {
      "application/vnd.bokehjs_exec.v0+json": {
       "id": "20ff3861-78cd-423f-b0f7-a07af8d38069"
      }
     },
     "output_type": "display_data"
    }
   ],
   "source": [
    "print(\"Visual representation of our simulated data as vectors\\n\")\n",
    "plot.graph(10)\n",
    "plot.vec_w_point(X)\n",
    "plot.show()"
   ]
  },
  {
   "cell_type": "markdown",
   "metadata": {},
   "source": [
    "## Variance-Covariance Matrix\n",
    "\n",
    "Covariance is the sum of the squared deviations of two (or more) variables from their respective the means.\n",
    "\n",
    "$$ cov(x,y) = \\frac{\\sum^{N}_{i=1} (x_i - \\bar{x})(y_i - \\bar{y})}{N-1} = \\Sigma $$"
   ]
  },
  {
   "cell_type": "markdown",
   "metadata": {},
   "source": [
    "As we saw before, we can express the above equation in matrix form. \n",
    "\n",
    "$$\\Sigma = \\frac{1}{N-1} (\\textbf{X} - \\bar{\\textbf{X}})^T(\\textbf{X} - \\bar{\\textbf{X}}) $$\n",
    "\n",
    "Where $\\textbf{X}_{n \\times p}$ is our data matrix, $\\textbf{1}$ is a $n \\times 1$ column vector of ones."
   ]
  },
  {
   "cell_type": "markdown",
   "metadata": {},
   "source": [
    "## Let's unpack this..."
   ]
  },
  {
   "cell_type": "markdown",
   "metadata": {},
   "source": [
    "### Mean\n",
    "\n",
    "The mean is the central tendency of our vector of points. Spatially, we can think of the mean as the \"centroid\" (the central point within a scatter of points)\n",
    "\n",
    "In vector form,\n",
    "$$\\bar{x} = \\frac{\\sum_{i=1}^{N} x_i}{N} $$\n",
    "\n",
    "In matrix form,\n",
    "$$ \\bar{\\textbf{x}} = \\frac{1}{N}\\textbf{1}\\textbf{X}$$"
   ]
  },
  {
   "cell_type": "code",
   "execution_count": 4,
   "metadata": {},
   "outputs": [
    {
     "data": {
      "text/plain": [
       "array([3.103, 3.126])"
      ]
     },
     "execution_count": 4,
     "metadata": {},
     "output_type": "execute_result"
    }
   ],
   "source": [
    "X_means = (np.ones(N).dot(X))/N  # Means of each column vector\n",
    "X_means"
   ]
  },
  {
   "cell_type": "code",
   "execution_count": 5,
   "metadata": {},
   "outputs": [
    {
     "data": {
      "text/html": [
       "\n",
       "\n",
       "\n",
       "\n",
       "\n",
       "\n",
       "  <div class=\"bk-root\" id=\"fc33925f-c18a-42af-89bf-cf8aa17b9c05\"></div>\n"
      ]
     },
     "metadata": {},
     "output_type": "display_data"
    },
    {
     "data": {
      "application/javascript": [
       "(function(root) {\n",
       "  function embed_document(root) {\n",
       "    \n",
       "  var docs_json = {\"a0edefe7-b465-45a8-b7e7-92a751b44883\":{\"roots\":{\"references\":[{\"attributes\":{\"plot\":{\"id\":\"20ff3861-78cd-423f-b0f7-a07af8d38069\",\"subtype\":\"Figure\",\"type\":\"Plot\"},\"ticker\":{\"id\":\"cb26f246-28ed-4b49-8645-b5cc6ae5727b\",\"type\":\"BasicTicker\"}},\"id\":\"b724db27-bb25-4462-bb65-4b498a3164c0\",\"type\":\"Grid\"},{\"attributes\":{\"fill_color\":{\"value\":\"black\"},\"x\":{\"value\":4.49},\"y\":{\"value\":2.36}},\"id\":\"61712924-e97a-4912-9abe-aad07185f74c\",\"type\":\"Circle\"},{\"attributes\":{\"fill_alpha\":{\"value\":0.3},\"fill_color\":{\"value\":\"blue\"},\"line_alpha\":{\"value\":0.3},\"line_color\":{\"value\":\"blue\"},\"plot\":null,\"size\":10},\"id\":\"471212ea-01b4-4f8d-9685-3ae3e1374c23\",\"type\":\"NormalHead\"},{\"attributes\":{\"plot\":null,\"text\":\"\"},\"id\":\"b1afc347-92d8-47e6-b1fc-253874c47f6a\",\"type\":\"Title\"},{\"attributes\":{\"line_width\":1.5,\"x\":{\"field\":\"x\"},\"y\":{\"field\":\"y\"}},\"id\":\"a75cbbc5-df2d-47aa-b6e5-526087968d7e\",\"type\":\"Line\"},{\"attributes\":{},\"id\":\"a1756bca-5aef-41b0-9c0c-0f96e8fbbdb6\",\"type\":\"LinearScale\"},{\"attributes\":{\"fill_alpha\":{\"value\":0.1},\"fill_color\":{\"value\":\"#1f77b4\"},\"line_alpha\":{\"value\":0.1},\"line_color\":{\"value\":\"#1f77b4\"},\"x\":{\"value\":4.49},\"y\":{\"value\":2.36}},\"id\":\"970263d5-2aa2-43f1-9a38-817f7e01dff0\",\"type\":\"Circle\"},{\"attributes\":{\"data_source\":{\"id\":\"9d928ea8-9383-4f25-922a-ed415b466225\",\"type\":\"ColumnDataSource\"},\"glyph\":{\"id\":\"61712924-e97a-4912-9abe-aad07185f74c\",\"type\":\"Circle\"},\"hover_glyph\":null,\"muted_glyph\":null,\"nonselection_glyph\":{\"id\":\"970263d5-2aa2-43f1-9a38-817f7e01dff0\",\"type\":\"Circle\"},\"selection_glyph\":null,\"view\":{\"id\":\"12854b11-8862-49a7-aef4-9c65960e4d88\",\"type\":\"CDSView\"}},\"id\":\"e0ff6021-7a62-4f7a-aa98-c1a6e8bb9981\",\"type\":\"GlyphRenderer\"},{\"attributes\":{\"callback\":null,\"data\":{\"x\":[-10.0,10.0],\"y\":[0.0,0.0]},\"selected\":{\"id\":\"2cd18017-2678-496b-bc08-e850d4f1953b\",\"type\":\"Selection\"},\"selection_policy\":{\"id\":\"d9688cb2-f834-4334-ab68-c56d72efd902\",\"type\":\"UnionRenderers\"}},\"id\":\"df28e33e-3692-40a3-806f-3dbfb80aa51b\",\"type\":\"ColumnDataSource\"},{\"attributes\":{},\"id\":\"cb26f246-28ed-4b49-8645-b5cc6ae5727b\",\"type\":\"BasicTicker\"},{\"attributes\":{\"source\":{\"id\":\"9d928ea8-9383-4f25-922a-ed415b466225\",\"type\":\"ColumnDataSource\"}},\"id\":\"12854b11-8862-49a7-aef4-9c65960e4d88\",\"type\":\"CDSView\"},{\"attributes\":{},\"id\":\"5a9868fb-9774-4f73-88ac-52371c92ae05\",\"type\":\"BasicTicker\"},{\"attributes\":{\"fill_alpha\":{\"value\":0.1},\"line_alpha\":{\"value\":0.1},\"plot\":null,\"size\":10},\"id\":\"2384bcc4-14d7-441d-ac05-983532b66e00\",\"type\":\"NormalHead\"},{\"attributes\":{\"end\":{\"id\":\"2384bcc4-14d7-441d-ac05-983532b66e00\",\"type\":\"NormalHead\"},\"line_alpha\":{\"value\":0.1},\"line_width\":{\"value\":3},\"plot\":{\"id\":\"20ff3861-78cd-423f-b0f7-a07af8d38069\",\"subtype\":\"Figure\",\"type\":\"Plot\"},\"source\":null,\"start\":null,\"x_end\":{\"value\":2.56},\"x_start\":{\"value\":0.0},\"y_end\":{\"value\":2.57},\"y_start\":{\"value\":0.0}},\"id\":\"96992ce3-c371-4c3a-81fb-927c6a3421a1\",\"type\":\"Arrow\"},{\"attributes\":{\"data_source\":{\"id\":\"1ba18938-3f8d-45f6-8b71-6c1b25a990df\",\"type\":\"ColumnDataSource\"},\"glyph\":{\"id\":\"ad6ed8dd-3817-4109-9066-fce379dcbdd5\",\"type\":\"Circle\"},\"hover_glyph\":null,\"muted_glyph\":null,\"nonselection_glyph\":{\"id\":\"40c00fd0-beae-4e5c-90e7-8e06171e25fd\",\"type\":\"Circle\"},\"selection_glyph\":null,\"view\":{\"id\":\"f8a8a2d1-9d30-4c55-9366-8b27cf27340b\",\"type\":\"CDSView\"}},\"id\":\"24cdf228-520d-43e9-a0b5-607748930ca4\",\"type\":\"GlyphRenderer\"},{\"attributes\":{\"callback\":null,\"data\":{},\"selected\":{\"id\":\"c3e828a3-0f6c-432f-b0ec-db1c77d2659a\",\"type\":\"Selection\"},\"selection_policy\":{\"id\":\"c2ef20a3-9a94-487b-b0c9-735855015cc5\",\"type\":\"UnionRenderers\"}},\"id\":\"9d928ea8-9383-4f25-922a-ed415b466225\",\"type\":\"ColumnDataSource\"},{\"attributes\":{\"active_drag\":\"auto\",\"active_inspect\":\"auto\",\"active_multi\":null,\"active_scroll\":\"auto\",\"active_tap\":\"auto\",\"tools\":[{\"id\":\"aaf2a34d-ff3b-45be-9d83-91fdb352cae1\",\"type\":\"WheelZoomTool\"},{\"id\":\"6cec0690-53c6-4b48-8e1b-169d4c086126\",\"type\":\"PanTool\"},{\"id\":\"ff5203e7-b11c-46b6-8d72-b35f8bbc2c7d\",\"type\":\"ResetTool\"}]},\"id\":\"4177e3fa-650a-4276-925f-125726f388aa\",\"type\":\"Toolbar\"},{\"attributes\":{\"callback\":null,\"data\":{},\"selected\":{\"id\":\"5930192b-f716-400f-9316-114b3b1c2aca\",\"type\":\"Selection\"},\"selection_policy\":{\"id\":\"4b60d381-25af-41f1-be92-822f213127f1\",\"type\":\"UnionRenderers\"}},\"id\":\"bc9dea33-d8de-4cfc-8bbd-c51aae2e8b75\",\"type\":\"ColumnDataSource\"},{\"attributes\":{\"callback\":null,\"end\":7.0,\"start\":-7.0},\"id\":\"60e41697-89a7-4e04-8389-0e578adbd99a\",\"type\":\"Range1d\"},{\"attributes\":{\"fill_alpha\":{\"value\":0.1},\"fill_color\":{\"value\":\"#1f77b4\"},\"line_alpha\":{\"value\":0.1},\"line_color\":{\"value\":\"#1f77b4\"},\"x\":{\"value\":2.56},\"y\":{\"value\":2.57}},\"id\":\"f520871b-2819-491b-a286-563cfe0a6908\",\"type\":\"Circle\"},{\"attributes\":{\"fill_alpha\":{\"value\":0.1},\"fill_color\":{\"value\":\"#1f77b4\"},\"line_alpha\":{\"value\":0.1},\"line_color\":{\"value\":\"#1f77b4\"},\"x\":{\"value\":3.103},\"y\":{\"value\":3.1260000000000003}},\"id\":\"40c00fd0-beae-4e5c-90e7-8e06171e25fd\",\"type\":\"Circle\"},{\"attributes\":{\"formatter\":{\"id\":\"0a5407a0-1b37-4408-9b50-b912d83315b5\",\"type\":\"BasicTickFormatter\"},\"plot\":{\"id\":\"20ff3861-78cd-423f-b0f7-a07af8d38069\",\"subtype\":\"Figure\",\"type\":\"Plot\"},\"ticker\":{\"id\":\"cb26f246-28ed-4b49-8645-b5cc6ae5727b\",\"type\":\"BasicTicker\"}},\"id\":\"d502bf94-2c2c-4712-8742-88fd639b1b05\",\"type\":\"LinearAxis\"},{\"attributes\":{\"end\":{\"id\":\"471212ea-01b4-4f8d-9685-3ae3e1374c23\",\"type\":\"NormalHead\"},\"line_alpha\":{\"value\":0.3},\"line_color\":{\"value\":\"blue\"},\"line_width\":{\"value\":3},\"plot\":{\"id\":\"20ff3861-78cd-423f-b0f7-a07af8d38069\",\"subtype\":\"Figure\",\"type\":\"Plot\"},\"source\":null,\"start\":null,\"x_end\":{\"value\":3.103},\"x_start\":{\"value\":0.0},\"y_end\":{\"value\":3.1260000000000003},\"y_start\":{\"value\":0.0}},\"id\":\"a40e677c-e79b-4648-8b58-43da2338493d\",\"type\":\"Arrow\"},{\"attributes\":{\"fill_color\":{\"value\":\"black\"},\"x\":{\"value\":2.56},\"y\":{\"value\":2.57}},\"id\":\"74dfe78a-9b2a-40f6-ba7a-5d4376224cc9\",\"type\":\"Circle\"},{\"attributes\":{\"below\":[{\"id\":\"d502bf94-2c2c-4712-8742-88fd639b1b05\",\"type\":\"LinearAxis\"}],\"left\":[{\"id\":\"5c74b2c3-ca7f-49a1-8273-a276007284c2\",\"type\":\"LinearAxis\"}],\"plot_height\":400,\"plot_width\":400,\"renderers\":[{\"id\":\"d502bf94-2c2c-4712-8742-88fd639b1b05\",\"type\":\"LinearAxis\"},{\"id\":\"b724db27-bb25-4462-bb65-4b498a3164c0\",\"type\":\"Grid\"},{\"id\":\"5c74b2c3-ca7f-49a1-8273-a276007284c2\",\"type\":\"LinearAxis\"},{\"id\":\"52b80536-8ab3-4eda-875e-1f4650d153b5\",\"type\":\"Grid\"},{\"id\":\"abed8277-c68f-416a-add1-2c7fb2a9b3e6\",\"type\":\"GlyphRenderer\"},{\"id\":\"58cd70a5-096e-4183-9995-22de927934ba\",\"type\":\"GlyphRenderer\"},{\"id\":\"1c279daf-9b7f-4d05-a732-1b743ea0fe3e\",\"type\":\"Arrow\"},{\"id\":\"2d90b81e-3236-4ac4-a17f-b2e7e9e489a4\",\"type\":\"GlyphRenderer\"},{\"id\":\"d1e1c502-789d-4511-96ff-f8f319e1e89b\",\"type\":\"Arrow\"},{\"id\":\"2b548a1b-a06d-463a-a3e1-eecddd0c51c2\",\"type\":\"GlyphRenderer\"},{\"id\":\"747b28bf-f982-4acb-b1f5-e8a7cacf734e\",\"type\":\"Arrow\"},{\"id\":\"d76c9009-bfb9-4f52-a6a5-c56a112526e1\",\"type\":\"GlyphRenderer\"},{\"id\":\"b2fe8cf3-2937-4ffa-bdf9-82eb7cbca0c0\",\"type\":\"Arrow\"},{\"id\":\"342b298a-3fda-4a1e-b9d3-5ab81364aed6\",\"type\":\"GlyphRenderer\"},{\"id\":\"52b69f8c-2c57-4edb-b290-cf0e617ed61b\",\"type\":\"Arrow\"},{\"id\":\"74a5a0de-a5bc-469b-bd15-d42b0fd87356\",\"type\":\"GlyphRenderer\"},{\"id\":\"477a6402-434b-4079-991e-e9b81db739b3\",\"type\":\"Arrow\"},{\"id\":\"aa3ed9b8-3fb6-4891-84f5-be668cf948c6\",\"type\":\"GlyphRenderer\"},{\"id\":\"a335696e-efd9-457e-9af6-d7ac41ac50cc\",\"type\":\"Arrow\"},{\"id\":\"e0ff6021-7a62-4f7a-aa98-c1a6e8bb9981\",\"type\":\"GlyphRenderer\"},{\"id\":\"96992ce3-c371-4c3a-81fb-927c6a3421a1\",\"type\":\"Arrow\"},{\"id\":\"f8675e69-dbc6-4efe-8330-164f8a82d5bb\",\"type\":\"GlyphRenderer\"},{\"id\":\"50c213c4-3fdf-4c2c-bd88-4f7838304c87\",\"type\":\"Arrow\"},{\"id\":\"eb59affe-ee09-4d74-9d40-60e2f7b290c7\",\"type\":\"GlyphRenderer\"},{\"id\":\"0c59befa-d26d-4732-a4aa-a46066f15a31\",\"type\":\"Arrow\"},{\"id\":\"c46e9cbf-f53e-4401-bae5-523b385e1a87\",\"type\":\"GlyphRenderer\"},{\"id\":\"a40e677c-e79b-4648-8b58-43da2338493d\",\"type\":\"Arrow\"},{\"id\":\"24cdf228-520d-43e9-a0b5-607748930ca4\",\"type\":\"GlyphRenderer\"}],\"title\":{\"id\":\"b1afc347-92d8-47e6-b1fc-253874c47f6a\",\"type\":\"Title\"},\"toolbar\":{\"id\":\"4177e3fa-650a-4276-925f-125726f388aa\",\"type\":\"Toolbar\"},\"x_range\":{\"id\":\"115e9391-e9ab-47f2-91f1-57eebaf4eb6f\",\"type\":\"Range1d\"},\"x_scale\":{\"id\":\"a1756bca-5aef-41b0-9c0c-0f96e8fbbdb6\",\"type\":\"LinearScale\"},\"y_range\":{\"id\":\"60e41697-89a7-4e04-8389-0e578adbd99a\",\"type\":\"Range1d\"},\"y_scale\":{\"id\":\"6155273e-43f7-4240-a1fc-a3ed0b5a7201\",\"type\":\"LinearScale\"}},\"id\":\"20ff3861-78cd-423f-b0f7-a07af8d38069\",\"subtype\":\"Figure\",\"type\":\"Plot\"},{\"attributes\":{\"data_source\":{\"id\":\"bc9dea33-d8de-4cfc-8bbd-c51aae2e8b75\",\"type\":\"ColumnDataSource\"},\"glyph\":{\"id\":\"74dfe78a-9b2a-40f6-ba7a-5d4376224cc9\",\"type\":\"Circle\"},\"hover_glyph\":null,\"muted_glyph\":null,\"nonselection_glyph\":{\"id\":\"f520871b-2819-491b-a286-563cfe0a6908\",\"type\":\"Circle\"},\"selection_glyph\":null,\"view\":{\"id\":\"12069eb5-87a9-4cb9-abc2-50892d4ac0de\",\"type\":\"CDSView\"}},\"id\":\"f8675e69-dbc6-4efe-8330-164f8a82d5bb\",\"type\":\"GlyphRenderer\"},{\"attributes\":{\"source\":{\"id\":\"1ba18938-3f8d-45f6-8b71-6c1b25a990df\",\"type\":\"ColumnDataSource\"}},\"id\":\"f8a8a2d1-9d30-4c55-9366-8b27cf27340b\",\"type\":\"CDSView\"},{\"attributes\":{\"fill_alpha\":{\"value\":0.1},\"line_alpha\":{\"value\":0.1},\"plot\":null,\"size\":10},\"id\":\"7fb760ad-b962-4e79-8bd1-a6a1876e804f\",\"type\":\"NormalHead\"},{\"attributes\":{\"source\":{\"id\":\"bc9dea33-d8de-4cfc-8bbd-c51aae2e8b75\",\"type\":\"ColumnDataSource\"}},\"id\":\"12069eb5-87a9-4cb9-abc2-50892d4ac0de\",\"type\":\"CDSView\"},{\"attributes\":{},\"id\":\"c801b109-4d3b-46d1-b239-5e70a3ba6b08\",\"type\":\"Selection\"},{\"attributes\":{\"fill_alpha\":{\"value\":0.1},\"line_alpha\":{\"value\":0.1},\"plot\":null,\"size\":10},\"id\":\"fe4e2bea-a246-4f80-8f18-a83126df694e\",\"type\":\"NormalHead\"},{\"attributes\":{\"formatter\":{\"id\":\"3a6ccac7-91d1-4597-a7cb-661664d3349e\",\"type\":\"BasicTickFormatter\"},\"plot\":{\"id\":\"20ff3861-78cd-423f-b0f7-a07af8d38069\",\"subtype\":\"Figure\",\"type\":\"Plot\"},\"ticker\":{\"id\":\"5a9868fb-9774-4f73-88ac-52371c92ae05\",\"type\":\"BasicTicker\"}},\"id\":\"5c74b2c3-ca7f-49a1-8273-a276007284c2\",\"type\":\"LinearAxis\"},{\"attributes\":{\"end\":{\"id\":\"fe4e2bea-a246-4f80-8f18-a83126df694e\",\"type\":\"NormalHead\"},\"line_alpha\":{\"value\":0.1},\"line_width\":{\"value\":3},\"plot\":{\"id\":\"20ff3861-78cd-423f-b0f7-a07af8d38069\",\"subtype\":\"Figure\",\"type\":\"Plot\"},\"source\":null,\"start\":null,\"x_end\":{\"value\":5.21},\"x_start\":{\"value\":0.0},\"y_end\":{\"value\":5.19},\"y_start\":{\"value\":0.0}},\"id\":\"50c213c4-3fdf-4c2c-bd88-4f7838304c87\",\"type\":\"Arrow\"},{\"attributes\":{},\"id\":\"13aa5490-c5af-4c65-9ed6-12398dd564f3\",\"type\":\"UnionRenderers\"},{\"attributes\":{\"callback\":null,\"data\":{},\"selected\":{\"id\":\"4c3df70f-8b2a-4bc8-9646-7913043d1601\",\"type\":\"Selection\"},\"selection_policy\":{\"id\":\"7e99dc64-eb89-4e16-be39-e885ef8bf255\",\"type\":\"UnionRenderers\"}},\"id\":\"8178d8a6-95a1-49f8-b00a-5d8fff7a0f1c\",\"type\":\"ColumnDataSource\"},{\"attributes\":{\"data_source\":{\"id\":\"df28e33e-3692-40a3-806f-3dbfb80aa51b\",\"type\":\"ColumnDataSource\"},\"glyph\":{\"id\":\"a75cbbc5-df2d-47aa-b6e5-526087968d7e\",\"type\":\"Line\"},\"hover_glyph\":null,\"muted_glyph\":null,\"nonselection_glyph\":{\"id\":\"78ff24e9-a2d4-4e41-9630-9c1c02abb8c0\",\"type\":\"Line\"},\"selection_glyph\":null,\"view\":{\"id\":\"9c7ca059-cda2-44f2-9163-bea408d8be3c\",\"type\":\"CDSView\"}},\"id\":\"abed8277-c68f-416a-add1-2c7fb2a9b3e6\",\"type\":\"GlyphRenderer\"},{\"attributes\":{\"fill_alpha\":{\"value\":0.1},\"fill_color\":{\"value\":\"#1f77b4\"},\"line_alpha\":{\"value\":0.1},\"line_color\":{\"value\":\"#1f77b4\"},\"x\":{\"value\":5.21},\"y\":{\"value\":5.19}},\"id\":\"d82fb059-54a1-43ac-8eb1-c73fcbafd28c\",\"type\":\"Circle\"},{\"attributes\":{\"dimension\":1,\"plot\":{\"id\":\"20ff3861-78cd-423f-b0f7-a07af8d38069\",\"subtype\":\"Figure\",\"type\":\"Plot\"},\"ticker\":{\"id\":\"5a9868fb-9774-4f73-88ac-52371c92ae05\",\"type\":\"BasicTicker\"}},\"id\":\"52b80536-8ab3-4eda-875e-1f4650d153b5\",\"type\":\"Grid\"},{\"attributes\":{\"fill_color\":{\"value\":\"black\"},\"x\":{\"value\":5.21},\"y\":{\"value\":5.19}},\"id\":\"21932975-d573-43c5-8618-357a041e0869\",\"type\":\"Circle\"},{\"attributes\":{\"data_source\":{\"id\":\"8178d8a6-95a1-49f8-b00a-5d8fff7a0f1c\",\"type\":\"ColumnDataSource\"},\"glyph\":{\"id\":\"21932975-d573-43c5-8618-357a041e0869\",\"type\":\"Circle\"},\"hover_glyph\":null,\"muted_glyph\":null,\"nonselection_glyph\":{\"id\":\"d82fb059-54a1-43ac-8eb1-c73fcbafd28c\",\"type\":\"Circle\"},\"selection_glyph\":null,\"view\":{\"id\":\"72b513d3-846a-4048-a10c-9ed466dd7ed9\",\"type\":\"CDSView\"}},\"id\":\"eb59affe-ee09-4d74-9d40-60e2f7b290c7\",\"type\":\"GlyphRenderer\"},{\"attributes\":{\"line_width\":1.5,\"x\":{\"field\":\"x\"},\"y\":{\"field\":\"y\"}},\"id\":\"ba7ababd-1e8d-4c83-bedd-47534f9dcfab\",\"type\":\"Line\"},{\"attributes\":{\"callback\":null,\"data\":{\"x\":[0.0,0.0],\"y\":[-10.0,10.0]},\"selected\":{\"id\":\"7582e4a1-1b7b-4617-89b6-3239d1f86008\",\"type\":\"Selection\"},\"selection_policy\":{\"id\":\"cdcf3039-66dc-4360-aec7-05a30bc605eb\",\"type\":\"UnionRenderers\"}},\"id\":\"ffc46c76-29ea-4e12-9ddc-7934516259a7\",\"type\":\"ColumnDataSource\"},{\"attributes\":{\"source\":{\"id\":\"8178d8a6-95a1-49f8-b00a-5d8fff7a0f1c\",\"type\":\"ColumnDataSource\"}},\"id\":\"72b513d3-846a-4048-a10c-9ed466dd7ed9\",\"type\":\"CDSView\"},{\"attributes\":{\"fill_alpha\":{\"value\":0.1},\"line_alpha\":{\"value\":0.1},\"plot\":null,\"size\":10},\"id\":\"a69e2890-8698-40e9-80f0-3ccf2ca637ac\",\"type\":\"NormalHead\"},{\"attributes\":{},\"id\":\"aaf2a34d-ff3b-45be-9d83-91fdb352cae1\",\"type\":\"WheelZoomTool\"},{\"attributes\":{\"end\":{\"id\":\"a69e2890-8698-40e9-80f0-3ccf2ca637ac\",\"type\":\"NormalHead\"},\"line_alpha\":{\"value\":0.1},\"line_width\":{\"value\":3},\"plot\":{\"id\":\"20ff3861-78cd-423f-b0f7-a07af8d38069\",\"subtype\":\"Figure\",\"type\":\"Plot\"},\"source\":null,\"start\":null,\"x_end\":{\"value\":4.0},\"x_start\":{\"value\":0.0},\"y_end\":{\"value\":3.39},\"y_start\":{\"value\":0.0}},\"id\":\"0c59befa-d26d-4732-a4aa-a46066f15a31\",\"type\":\"Arrow\"},{\"attributes\":{},\"id\":\"6cec0690-53c6-4b48-8e1b-169d4c086126\",\"type\":\"PanTool\"},{\"attributes\":{\"line_alpha\":0.1,\"line_color\":\"#1f77b4\",\"line_width\":1.5,\"x\":{\"field\":\"x\"},\"y\":{\"field\":\"y\"}},\"id\":\"0aaa007e-294a-48ba-af16-a8f7dec75eea\",\"type\":\"Line\"},{\"attributes\":{\"callback\":null,\"data\":{},\"selected\":{\"id\":\"9a0c75df-b783-44c7-b74f-141df9203590\",\"type\":\"Selection\"},\"selection_policy\":{\"id\":\"d1331785-5d2f-4f8e-87c9-2b58b56400de\",\"type\":\"UnionRenderers\"}},\"id\":\"8cc375e9-f043-4e7d-b5a1-fda54957a0c9\",\"type\":\"ColumnDataSource\"},{\"attributes\":{\"fill_alpha\":{\"value\":0.1},\"fill_color\":{\"value\":\"#1f77b4\"},\"line_alpha\":{\"value\":0.1},\"line_color\":{\"value\":\"#1f77b4\"},\"x\":{\"value\":4.0},\"y\":{\"value\":3.39}},\"id\":\"a0a5be20-ec18-411c-9d01-f811d5ffb1d0\",\"type\":\"Circle\"},{\"attributes\":{},\"id\":\"ff5203e7-b11c-46b6-8d72-b35f8bbc2c7d\",\"type\":\"ResetTool\"},{\"attributes\":{\"line_alpha\":0.1,\"line_color\":\"#1f77b4\",\"line_width\":1.5,\"x\":{\"field\":\"x\"},\"y\":{\"field\":\"y\"}},\"id\":\"78ff24e9-a2d4-4e41-9630-9c1c02abb8c0\",\"type\":\"Line\"},{\"attributes\":{\"fill_color\":{\"value\":\"black\"},\"x\":{\"value\":4.0},\"y\":{\"value\":3.39}},\"id\":\"ad48500d-c310-4c81-bc55-3ae9bff5dc91\",\"type\":\"Circle\"},{\"attributes\":{\"data_source\":{\"id\":\"8cc375e9-f043-4e7d-b5a1-fda54957a0c9\",\"type\":\"ColumnDataSource\"},\"glyph\":{\"id\":\"ad48500d-c310-4c81-bc55-3ae9bff5dc91\",\"type\":\"Circle\"},\"hover_glyph\":null,\"muted_glyph\":null,\"nonselection_glyph\":{\"id\":\"a0a5be20-ec18-411c-9d01-f811d5ffb1d0\",\"type\":\"Circle\"},\"selection_glyph\":null,\"view\":{\"id\":\"84a4b8b1-2d35-4593-a318-d51648814813\",\"type\":\"CDSView\"}},\"id\":\"c46e9cbf-f53e-4401-bae5-523b385e1a87\",\"type\":\"GlyphRenderer\"},{\"attributes\":{\"source\":{\"id\":\"ffc46c76-29ea-4e12-9ddc-7934516259a7\",\"type\":\"ColumnDataSource\"}},\"id\":\"a346d324-bbb7-446f-965d-569c4e164c3d\",\"type\":\"CDSView\"},{\"attributes\":{\"source\":{\"id\":\"8cc375e9-f043-4e7d-b5a1-fda54957a0c9\",\"type\":\"ColumnDataSource\"}},\"id\":\"84a4b8b1-2d35-4593-a318-d51648814813\",\"type\":\"CDSView\"},{\"attributes\":{\"data_source\":{\"id\":\"388b5fdd-bea5-4494-87d3-9f50a440ec93\",\"type\":\"ColumnDataSource\"},\"glyph\":{\"id\":\"d1eede5b-afcd-4148-9a5f-f018fddb8af5\",\"type\":\"Circle\"},\"hover_glyph\":null,\"muted_glyph\":null,\"nonselection_glyph\":{\"id\":\"63c3dae7-e88e-4f09-9200-447d9fc2f5e7\",\"type\":\"Circle\"},\"selection_glyph\":null,\"view\":{\"id\":\"d2188665-420c-45d4-a481-d54622807421\",\"type\":\"CDSView\"}},\"id\":\"2d90b81e-3236-4ac4-a17f-b2e7e9e489a4\",\"type\":\"GlyphRenderer\"},{\"attributes\":{\"end\":{\"id\":\"7fb760ad-b962-4e79-8bd1-a6a1876e804f\",\"type\":\"NormalHead\"},\"line_alpha\":{\"value\":0.1},\"line_width\":{\"value\":3},\"plot\":{\"id\":\"20ff3861-78cd-423f-b0f7-a07af8d38069\",\"subtype\":\"Figure\",\"type\":\"Plot\"},\"source\":null,\"start\":null,\"x_end\":{\"value\":1.91},\"x_start\":{\"value\":0.0},\"y_end\":{\"value\":4.0},\"y_start\":{\"value\":0.0}},\"id\":\"1c279daf-9b7f-4d05-a732-1b743ea0fe3e\",\"type\":\"Arrow\"},{\"attributes\":{},\"id\":\"3a6ccac7-91d1-4597-a7cb-661664d3349e\",\"type\":\"BasicTickFormatter\"},{\"attributes\":{},\"id\":\"0a5407a0-1b37-4408-9b50-b912d83315b5\",\"type\":\"BasicTickFormatter\"},{\"attributes\":{\"fill_alpha\":{\"value\":0.1},\"fill_color\":{\"value\":\"#1f77b4\"},\"line_alpha\":{\"value\":0.1},\"line_color\":{\"value\":\"#1f77b4\"},\"x\":{\"value\":1.91},\"y\":{\"value\":4.0}},\"id\":\"63c3dae7-e88e-4f09-9200-447d9fc2f5e7\",\"type\":\"Circle\"},{\"attributes\":{\"callback\":null,\"data\":{},\"selected\":{\"id\":\"c801b109-4d3b-46d1-b239-5e70a3ba6b08\",\"type\":\"Selection\"},\"selection_policy\":{\"id\":\"13aa5490-c5af-4c65-9ed6-12398dd564f3\",\"type\":\"UnionRenderers\"}},\"id\":\"1ba18938-3f8d-45f6-8b71-6c1b25a990df\",\"type\":\"ColumnDataSource\"},{\"attributes\":{},\"id\":\"2cd18017-2678-496b-bc08-e850d4f1953b\",\"type\":\"Selection\"},{\"attributes\":{\"source\":{\"id\":\"ffed4885-9942-4847-8a8b-00085c74642f\",\"type\":\"ColumnDataSource\"}},\"id\":\"0f516ba0-d915-4b81-9e9e-ad3ee1593eb7\",\"type\":\"CDSView\"},{\"attributes\":{},\"id\":\"6155273e-43f7-4240-a1fc-a3ed0b5a7201\",\"type\":\"LinearScale\"},{\"attributes\":{},\"id\":\"d9688cb2-f834-4334-ab68-c56d72efd902\",\"type\":\"UnionRenderers\"},{\"attributes\":{\"data_source\":{\"id\":\"ffc46c76-29ea-4e12-9ddc-7934516259a7\",\"type\":\"ColumnDataSource\"},\"glyph\":{\"id\":\"ba7ababd-1e8d-4c83-bedd-47534f9dcfab\",\"type\":\"Line\"},\"hover_glyph\":null,\"muted_glyph\":null,\"nonselection_glyph\":{\"id\":\"0aaa007e-294a-48ba-af16-a8f7dec75eea\",\"type\":\"Line\"},\"selection_glyph\":null,\"view\":{\"id\":\"a346d324-bbb7-446f-965d-569c4e164c3d\",\"type\":\"CDSView\"}},\"id\":\"58cd70a5-096e-4183-9995-22de927934ba\",\"type\":\"GlyphRenderer\"},{\"attributes\":{},\"id\":\"7582e4a1-1b7b-4617-89b6-3239d1f86008\",\"type\":\"Selection\"},{\"attributes\":{\"fill_color\":{\"value\":\"black\"},\"x\":{\"value\":1.91},\"y\":{\"value\":4.0}},\"id\":\"d1eede5b-afcd-4148-9a5f-f018fddb8af5\",\"type\":\"Circle\"},{\"attributes\":{},\"id\":\"cdcf3039-66dc-4360-aec7-05a30bc605eb\",\"type\":\"UnionRenderers\"},{\"attributes\":{\"callback\":null,\"data\":{},\"selected\":{\"id\":\"4e4f39b8-2321-4e91-81fd-4c4dbb45e42c\",\"type\":\"Selection\"},\"selection_policy\":{\"id\":\"02d9d2c1-a9c0-4c2f-8f24-7000bb90e6b2\",\"type\":\"UnionRenderers\"}},\"id\":\"388b5fdd-bea5-4494-87d3-9f50a440ec93\",\"type\":\"ColumnDataSource\"},{\"attributes\":{},\"id\":\"4e4f39b8-2321-4e91-81fd-4c4dbb45e42c\",\"type\":\"Selection\"},{\"attributes\":{\"source\":{\"id\":\"388b5fdd-bea5-4494-87d3-9f50a440ec93\",\"type\":\"ColumnDataSource\"}},\"id\":\"d2188665-420c-45d4-a481-d54622807421\",\"type\":\"CDSView\"},{\"attributes\":{},\"id\":\"02d9d2c1-a9c0-4c2f-8f24-7000bb90e6b2\",\"type\":\"UnionRenderers\"},{\"attributes\":{\"fill_alpha\":{\"value\":0.1},\"line_alpha\":{\"value\":0.1},\"plot\":null,\"size\":10},\"id\":\"8e6ba10d-0be8-4791-8c59-54e5c246fd93\",\"type\":\"NormalHead\"},{\"attributes\":{},\"id\":\"779bd848-24c4-42ce-8ac1-8faf91c8896b\",\"type\":\"Selection\"},{\"attributes\":{\"end\":{\"id\":\"8e6ba10d-0be8-4791-8c59-54e5c246fd93\",\"type\":\"NormalHead\"},\"line_alpha\":{\"value\":0.1},\"line_width\":{\"value\":3},\"plot\":{\"id\":\"20ff3861-78cd-423f-b0f7-a07af8d38069\",\"subtype\":\"Figure\",\"type\":\"Plot\"},\"source\":null,\"start\":null,\"x_end\":{\"value\":3.28},\"x_start\":{\"value\":0.0},\"y_end\":{\"value\":1.49},\"y_start\":{\"value\":0.0}},\"id\":\"d1e1c502-789d-4511-96ff-f8f319e1e89b\",\"type\":\"Arrow\"},{\"attributes\":{},\"id\":\"d4e73cdc-bf7b-4a48-a332-e034ed29a9b9\",\"type\":\"UnionRenderers\"},{\"attributes\":{\"callback\":null,\"data\":{},\"selected\":{\"id\":\"779bd848-24c4-42ce-8ac1-8faf91c8896b\",\"type\":\"Selection\"},\"selection_policy\":{\"id\":\"d4e73cdc-bf7b-4a48-a332-e034ed29a9b9\",\"type\":\"UnionRenderers\"}},\"id\":\"e2bb5e6f-3453-4d1a-ab9c-a87f864ebaf8\",\"type\":\"ColumnDataSource\"},{\"attributes\":{},\"id\":\"209fd7a8-dd94-4338-babf-e84eed58fdff\",\"type\":\"Selection\"},{\"attributes\":{\"fill_alpha\":{\"value\":0.1},\"fill_color\":{\"value\":\"#1f77b4\"},\"line_alpha\":{\"value\":0.1},\"line_color\":{\"value\":\"#1f77b4\"},\"x\":{\"value\":3.28},\"y\":{\"value\":1.49}},\"id\":\"70d7b534-bed0-4805-9e5e-3ed7c7695576\",\"type\":\"Circle\"},{\"attributes\":{},\"id\":\"f1e928fe-353b-496d-a7a2-dfb395d08592\",\"type\":\"UnionRenderers\"},{\"attributes\":{\"fill_color\":{\"value\":\"black\"},\"x\":{\"value\":3.28},\"y\":{\"value\":1.49}},\"id\":\"e2c4529e-6f30-4499-a74e-7f2491175469\",\"type\":\"Circle\"},{\"attributes\":{},\"id\":\"7ccc3431-efff-40e2-b699-1072f8af2643\",\"type\":\"Selection\"},{\"attributes\":{\"data_source\":{\"id\":\"e2bb5e6f-3453-4d1a-ab9c-a87f864ebaf8\",\"type\":\"ColumnDataSource\"},\"glyph\":{\"id\":\"e2c4529e-6f30-4499-a74e-7f2491175469\",\"type\":\"Circle\"},\"hover_glyph\":null,\"muted_glyph\":null,\"nonselection_glyph\":{\"id\":\"70d7b534-bed0-4805-9e5e-3ed7c7695576\",\"type\":\"Circle\"},\"selection_glyph\":null,\"view\":{\"id\":\"1b8bf938-3e2a-4927-b8fe-0dd996837ef8\",\"type\":\"CDSView\"}},\"id\":\"2b548a1b-a06d-463a-a3e1-eecddd0c51c2\",\"type\":\"GlyphRenderer\"},{\"attributes\":{},\"id\":\"e92d787a-0311-4931-86c2-ff16f24e1d3b\",\"type\":\"UnionRenderers\"},{\"attributes\":{\"source\":{\"id\":\"e2bb5e6f-3453-4d1a-ab9c-a87f864ebaf8\",\"type\":\"ColumnDataSource\"}},\"id\":\"1b8bf938-3e2a-4927-b8fe-0dd996837ef8\",\"type\":\"CDSView\"},{\"attributes\":{},\"id\":\"378c6d6f-d96a-4bba-9575-3602bb773e91\",\"type\":\"Selection\"},{\"attributes\":{\"fill_alpha\":{\"value\":0.1},\"line_alpha\":{\"value\":0.1},\"plot\":null,\"size\":10},\"id\":\"64c4f6e3-da8e-4246-a7f4-8f1cd3fb0747\",\"type\":\"NormalHead\"},{\"attributes\":{},\"id\":\"97a6826a-f685-4fc3-a131-64f249cd34c2\",\"type\":\"UnionRenderers\"},{\"attributes\":{\"end\":{\"id\":\"64c4f6e3-da8e-4246-a7f4-8f1cd3fb0747\",\"type\":\"NormalHead\"},\"line_alpha\":{\"value\":0.1},\"line_width\":{\"value\":3},\"plot\":{\"id\":\"20ff3861-78cd-423f-b0f7-a07af8d38069\",\"subtype\":\"Figure\",\"type\":\"Plot\"},\"source\":null,\"start\":null,\"x_end\":{\"value\":2.42},\"x_start\":{\"value\":0.0},\"y_end\":{\"value\":4.65},\"y_start\":{\"value\":0.0}},\"id\":\"747b28bf-f982-4acb-b1f5-e8a7cacf734e\",\"type\":\"Arrow\"},{\"attributes\":{},\"id\":\"31985133-6df5-453c-8cfe-39c8b7c52833\",\"type\":\"Selection\"},{\"attributes\":{\"callback\":null,\"data\":{},\"selected\":{\"id\":\"209fd7a8-dd94-4338-babf-e84eed58fdff\",\"type\":\"Selection\"},\"selection_policy\":{\"id\":\"f1e928fe-353b-496d-a7a2-dfb395d08592\",\"type\":\"UnionRenderers\"}},\"id\":\"ffed4885-9942-4847-8a8b-00085c74642f\",\"type\":\"ColumnDataSource\"},{\"attributes\":{},\"id\":\"5261847b-d21b-4176-b20c-5fc998770bfb\",\"type\":\"UnionRenderers\"},{\"attributes\":{\"fill_alpha\":{\"value\":0.1},\"fill_color\":{\"value\":\"#1f77b4\"},\"line_alpha\":{\"value\":0.1},\"line_color\":{\"value\":\"#1f77b4\"},\"x\":{\"value\":2.42},\"y\":{\"value\":4.65}},\"id\":\"0be5b3df-c3ca-4b5a-8acb-96bcfe9d9acd\",\"type\":\"Circle\"},{\"attributes\":{},\"id\":\"c3e828a3-0f6c-432f-b0ec-db1c77d2659a\",\"type\":\"Selection\"},{\"attributes\":{\"data_source\":{\"id\":\"ffed4885-9942-4847-8a8b-00085c74642f\",\"type\":\"ColumnDataSource\"},\"glyph\":{\"id\":\"9cefc844-72ea-4b2c-b9b0-4e4e46dc97dc\",\"type\":\"Circle\"},\"hover_glyph\":null,\"muted_glyph\":null,\"nonselection_glyph\":{\"id\":\"0be5b3df-c3ca-4b5a-8acb-96bcfe9d9acd\",\"type\":\"Circle\"},\"selection_glyph\":null,\"view\":{\"id\":\"0f516ba0-d915-4b81-9e9e-ad3ee1593eb7\",\"type\":\"CDSView\"}},\"id\":\"d76c9009-bfb9-4f52-a6a5-c56a112526e1\",\"type\":\"GlyphRenderer\"},{\"attributes\":{\"source\":{\"id\":\"df28e33e-3692-40a3-806f-3dbfb80aa51b\",\"type\":\"ColumnDataSource\"}},\"id\":\"9c7ca059-cda2-44f2-9163-bea408d8be3c\",\"type\":\"CDSView\"},{\"attributes\":{},\"id\":\"c2ef20a3-9a94-487b-b0c9-735855015cc5\",\"type\":\"UnionRenderers\"},{\"attributes\":{\"fill_color\":{\"value\":\"black\"},\"x\":{\"value\":2.42},\"y\":{\"value\":4.65}},\"id\":\"9cefc844-72ea-4b2c-b9b0-4e4e46dc97dc\",\"type\":\"Circle\"},{\"attributes\":{},\"id\":\"5930192b-f716-400f-9316-114b3b1c2aca\",\"type\":\"Selection\"},{\"attributes\":{\"fill_alpha\":{\"value\":0.1},\"line_alpha\":{\"value\":0.1},\"plot\":null,\"size\":10},\"id\":\"6e2be49e-d625-4217-9db5-76eba3148493\",\"type\":\"NormalHead\"},{\"attributes\":{},\"id\":\"4b60d381-25af-41f1-be92-822f213127f1\",\"type\":\"UnionRenderers\"},{\"attributes\":{\"end\":{\"id\":\"6e2be49e-d625-4217-9db5-76eba3148493\",\"type\":\"NormalHead\"},\"line_alpha\":{\"value\":0.1},\"line_width\":{\"value\":3},\"plot\":{\"id\":\"20ff3861-78cd-423f-b0f7-a07af8d38069\",\"subtype\":\"Figure\",\"type\":\"Plot\"},\"source\":null,\"start\":null,\"x_end\":{\"value\":0.57},\"x_start\":{\"value\":0.0},\"y_end\":{\"value\":2.57},\"y_start\":{\"value\":0.0}},\"id\":\"b2fe8cf3-2937-4ffa-bdf9-82eb7cbca0c0\",\"type\":\"Arrow\"},{\"attributes\":{},\"id\":\"4c3df70f-8b2a-4bc8-9646-7913043d1601\",\"type\":\"Selection\"},{\"attributes\":{\"callback\":null,\"data\":{},\"selected\":{\"id\":\"7ccc3431-efff-40e2-b699-1072f8af2643\",\"type\":\"Selection\"},\"selection_policy\":{\"id\":\"e92d787a-0311-4931-86c2-ff16f24e1d3b\",\"type\":\"UnionRenderers\"}},\"id\":\"1f764dbe-1bc8-4236-a04c-949629399d9c\",\"type\":\"ColumnDataSource\"},{\"attributes\":{},\"id\":\"7e99dc64-eb89-4e16-be39-e885ef8bf255\",\"type\":\"UnionRenderers\"},{\"attributes\":{\"fill_alpha\":{\"value\":0.1},\"fill_color\":{\"value\":\"#1f77b4\"},\"line_alpha\":{\"value\":0.1},\"line_color\":{\"value\":\"#1f77b4\"},\"x\":{\"value\":0.57},\"y\":{\"value\":2.57}},\"id\":\"4df6faff-d74e-482e-825d-af7a9a454a9b\",\"type\":\"Circle\"},{\"attributes\":{},\"id\":\"9a0c75df-b783-44c7-b74f-141df9203590\",\"type\":\"Selection\"},{\"attributes\":{\"fill_color\":{\"value\":\"black\"},\"x\":{\"value\":0.57},\"y\":{\"value\":2.57}},\"id\":\"ac3eab6e-92c7-48f6-8d51-a4175da4a880\",\"type\":\"Circle\"},{\"attributes\":{},\"id\":\"d1331785-5d2f-4f8e-87c9-2b58b56400de\",\"type\":\"UnionRenderers\"},{\"attributes\":{\"data_source\":{\"id\":\"1f764dbe-1bc8-4236-a04c-949629399d9c\",\"type\":\"ColumnDataSource\"},\"glyph\":{\"id\":\"ac3eab6e-92c7-48f6-8d51-a4175da4a880\",\"type\":\"Circle\"},\"hover_glyph\":null,\"muted_glyph\":null,\"nonselection_glyph\":{\"id\":\"4df6faff-d74e-482e-825d-af7a9a454a9b\",\"type\":\"Circle\"},\"selection_glyph\":null,\"view\":{\"id\":\"885f92d5-c386-4e50-bb19-70345832aa46\",\"type\":\"CDSView\"}},\"id\":\"342b298a-3fda-4a1e-b9d3-5ab81364aed6\",\"type\":\"GlyphRenderer\"},{\"attributes\":{\"source\":{\"id\":\"1f764dbe-1bc8-4236-a04c-949629399d9c\",\"type\":\"ColumnDataSource\"}},\"id\":\"885f92d5-c386-4e50-bb19-70345832aa46\",\"type\":\"CDSView\"},{\"attributes\":{\"fill_alpha\":{\"value\":0.1},\"line_alpha\":{\"value\":0.1},\"plot\":null,\"size\":10},\"id\":\"fc6fac99-d4a2-4927-ae63-30f929388d2b\",\"type\":\"NormalHead\"},{\"attributes\":{\"end\":{\"id\":\"fc6fac99-d4a2-4927-ae63-30f929388d2b\",\"type\":\"NormalHead\"},\"line_alpha\":{\"value\":0.1},\"line_width\":{\"value\":3},\"plot\":{\"id\":\"20ff3861-78cd-423f-b0f7-a07af8d38069\",\"subtype\":\"Figure\",\"type\":\"Plot\"},\"source\":null,\"start\":null,\"x_end\":{\"value\":4.27},\"x_start\":{\"value\":0.0},\"y_end\":{\"value\":2.13},\"y_start\":{\"value\":0.0}},\"id\":\"52b69f8c-2c57-4edb-b290-cf0e617ed61b\",\"type\":\"Arrow\"},{\"attributes\":{\"callback\":null,\"data\":{},\"selected\":{\"id\":\"378c6d6f-d96a-4bba-9575-3602bb773e91\",\"type\":\"Selection\"},\"selection_policy\":{\"id\":\"97a6826a-f685-4fc3-a131-64f249cd34c2\",\"type\":\"UnionRenderers\"}},\"id\":\"3aee0c54-d781-40ec-aa07-ace70efb2447\",\"type\":\"ColumnDataSource\"},{\"attributes\":{\"fill_alpha\":{\"value\":0.1},\"fill_color\":{\"value\":\"#1f77b4\"},\"line_alpha\":{\"value\":0.1},\"line_color\":{\"value\":\"#1f77b4\"},\"x\":{\"value\":4.27},\"y\":{\"value\":2.13}},\"id\":\"6e903665-2ad2-4788-b8bd-6b6890b61bb7\",\"type\":\"Circle\"},{\"attributes\":{\"fill_color\":{\"value\":\"black\"},\"x\":{\"value\":4.27},\"y\":{\"value\":2.13}},\"id\":\"7d138e0d-ff19-4cde-8383-9956a2b05100\",\"type\":\"Circle\"},{\"attributes\":{\"data_source\":{\"id\":\"3aee0c54-d781-40ec-aa07-ace70efb2447\",\"type\":\"ColumnDataSource\"},\"glyph\":{\"id\":\"7d138e0d-ff19-4cde-8383-9956a2b05100\",\"type\":\"Circle\"},\"hover_glyph\":null,\"muted_glyph\":null,\"nonselection_glyph\":{\"id\":\"6e903665-2ad2-4788-b8bd-6b6890b61bb7\",\"type\":\"Circle\"},\"selection_glyph\":null,\"view\":{\"id\":\"6cc3f96e-11da-4215-a840-8021962e459e\",\"type\":\"CDSView\"}},\"id\":\"74a5a0de-a5bc-469b-bd15-d42b0fd87356\",\"type\":\"GlyphRenderer\"},{\"attributes\":{\"source\":{\"id\":\"3aee0c54-d781-40ec-aa07-ace70efb2447\",\"type\":\"ColumnDataSource\"}},\"id\":\"6cc3f96e-11da-4215-a840-8021962e459e\",\"type\":\"CDSView\"},{\"attributes\":{\"callback\":null,\"end\":7.0,\"start\":-7.0},\"id\":\"115e9391-e9ab-47f2-91f1-57eebaf4eb6f\",\"type\":\"Range1d\"},{\"attributes\":{\"fill_alpha\":{\"value\":0.1},\"line_alpha\":{\"value\":0.1},\"plot\":null,\"size\":10},\"id\":\"0090f69d-9b25-46ef-8b2e-7e61bc61456d\",\"type\":\"NormalHead\"},{\"attributes\":{\"end\":{\"id\":\"0090f69d-9b25-46ef-8b2e-7e61bc61456d\",\"type\":\"NormalHead\"},\"line_alpha\":{\"value\":0.1},\"line_width\":{\"value\":3},\"plot\":{\"id\":\"20ff3861-78cd-423f-b0f7-a07af8d38069\",\"subtype\":\"Figure\",\"type\":\"Plot\"},\"source\":null,\"start\":null,\"x_end\":{\"value\":2.32},\"x_start\":{\"value\":0.0},\"y_end\":{\"value\":2.91},\"y_start\":{\"value\":0.0}},\"id\":\"477a6402-434b-4079-991e-e9b81db739b3\",\"type\":\"Arrow\"},{\"attributes\":{\"callback\":null,\"data\":{},\"selected\":{\"id\":\"31985133-6df5-453c-8cfe-39c8b7c52833\",\"type\":\"Selection\"},\"selection_policy\":{\"id\":\"5261847b-d21b-4176-b20c-5fc998770bfb\",\"type\":\"UnionRenderers\"}},\"id\":\"a9535c31-1bb6-49fa-bfd9-7d62761d35a4\",\"type\":\"ColumnDataSource\"},{\"attributes\":{\"fill_alpha\":{\"value\":0.1},\"fill_color\":{\"value\":\"#1f77b4\"},\"line_alpha\":{\"value\":0.1},\"line_color\":{\"value\":\"#1f77b4\"},\"x\":{\"value\":2.32},\"y\":{\"value\":2.91}},\"id\":\"5c8a2d53-b3e5-4dbd-8790-7287c47915be\",\"type\":\"Circle\"},{\"attributes\":{\"fill_color\":{\"value\":\"black\"},\"x\":{\"value\":2.32},\"y\":{\"value\":2.91}},\"id\":\"aa541094-b726-4f26-a92b-0cfe7607095e\",\"type\":\"Circle\"},{\"attributes\":{\"data_source\":{\"id\":\"a9535c31-1bb6-49fa-bfd9-7d62761d35a4\",\"type\":\"ColumnDataSource\"},\"glyph\":{\"id\":\"aa541094-b726-4f26-a92b-0cfe7607095e\",\"type\":\"Circle\"},\"hover_glyph\":null,\"muted_glyph\":null,\"nonselection_glyph\":{\"id\":\"5c8a2d53-b3e5-4dbd-8790-7287c47915be\",\"type\":\"Circle\"},\"selection_glyph\":null,\"view\":{\"id\":\"edbd331a-a152-4c57-885c-246a7d6b13f8\",\"type\":\"CDSView\"}},\"id\":\"aa3ed9b8-3fb6-4891-84f5-be668cf948c6\",\"type\":\"GlyphRenderer\"},{\"attributes\":{\"source\":{\"id\":\"a9535c31-1bb6-49fa-bfd9-7d62761d35a4\",\"type\":\"ColumnDataSource\"}},\"id\":\"edbd331a-a152-4c57-885c-246a7d6b13f8\",\"type\":\"CDSView\"},{\"attributes\":{\"fill_color\":{\"value\":\"blue\"},\"line_color\":{\"value\":\"blue\"},\"x\":{\"value\":3.103},\"y\":{\"value\":3.1260000000000003}},\"id\":\"ad6ed8dd-3817-4109-9066-fce379dcbdd5\",\"type\":\"Circle\"},{\"attributes\":{\"fill_alpha\":{\"value\":0.1},\"line_alpha\":{\"value\":0.1},\"plot\":null,\"size\":10},\"id\":\"64e0f696-b617-4fa6-b8ab-1c8023df258f\",\"type\":\"NormalHead\"},{\"attributes\":{\"end\":{\"id\":\"64e0f696-b617-4fa6-b8ab-1c8023df258f\",\"type\":\"NormalHead\"},\"line_alpha\":{\"value\":0.1},\"line_width\":{\"value\":3},\"plot\":{\"id\":\"20ff3861-78cd-423f-b0f7-a07af8d38069\",\"subtype\":\"Figure\",\"type\":\"Plot\"},\"source\":null,\"start\":null,\"x_end\":{\"value\":4.49},\"x_start\":{\"value\":0.0},\"y_end\":{\"value\":2.36},\"y_start\":{\"value\":0.0}},\"id\":\"a335696e-efd9-457e-9af6-d7ac41ac50cc\",\"type\":\"Arrow\"}],\"root_ids\":[\"20ff3861-78cd-423f-b0f7-a07af8d38069\"]},\"title\":\"Bokeh Application\",\"version\":\"0.13.0\"}};\n",
       "  var render_items = [{\"docid\":\"a0edefe7-b465-45a8-b7e7-92a751b44883\",\"roots\":{\"20ff3861-78cd-423f-b0f7-a07af8d38069\":\"fc33925f-c18a-42af-89bf-cf8aa17b9c05\"}}];\n",
       "  root.Bokeh.embed.embed_items_notebook(docs_json, render_items);\n",
       "\n",
       "  }\n",
       "  if (root.Bokeh !== undefined) {\n",
       "    embed_document(root);\n",
       "  } else {\n",
       "    var attempts = 0;\n",
       "    var timer = setInterval(function(root) {\n",
       "      if (root.Bokeh !== undefined) {\n",
       "        embed_document(root);\n",
       "        clearInterval(timer);\n",
       "      }\n",
       "      attempts++;\n",
       "      if (attempts > 100) {\n",
       "        console.log(\"Bokeh: ERROR: Unable to run BokehJS code because BokehJS library is missing\")\n",
       "        clearInterval(timer);\n",
       "      }\n",
       "    }, 10, root)\n",
       "  }\n",
       "})(window);"
      ],
      "application/vnd.bokehjs_exec.v0+json": ""
     },
     "metadata": {
      "application/vnd.bokehjs_exec.v0+json": {
       "id": "20ff3861-78cd-423f-b0f7-a07af8d38069"
      }
     },
     "output_type": "display_data"
    }
   ],
   "source": [
    "plot.vec_w_point(X_means,color=\"blue\",alpha=.3)\n",
    "plot.show()"
   ]
  },
  {
   "cell_type": "markdown",
   "metadata": {},
   "source": [
    "### Deviations from the mean\n",
    "\n",
    "$$ \\textbf{X} - \\bar{\\textbf{x}}$$"
   ]
  },
  {
   "cell_type": "code",
   "execution_count": 6,
   "metadata": {},
   "outputs": [
    {
     "data": {
      "text/plain": [
       "array([[-1.193,  0.874],\n",
       "       [ 0.177, -1.636],\n",
       "       [-0.683,  1.524],\n",
       "       [-2.533, -0.556],\n",
       "       [ 1.167, -0.996],\n",
       "       [-0.783, -0.216],\n",
       "       [ 1.387, -0.766],\n",
       "       [-0.543, -0.556],\n",
       "       [ 2.107,  2.064],\n",
       "       [ 0.897,  0.264]])"
      ]
     },
     "execution_count": 6,
     "metadata": {},
     "output_type": "execute_result"
    }
   ],
   "source": [
    "X_dev = (X - X_means)  \n",
    "X_dev"
   ]
  },
  {
   "cell_type": "code",
   "execution_count": 7,
   "metadata": {},
   "outputs": [
    {
     "data": {
      "text/html": [
       "\n",
       "\n",
       "\n",
       "\n",
       "\n",
       "\n",
       "  <div class=\"bk-root\" id=\"e9929a4d-cb84-4ec6-836d-7af1dca78b55\"></div>\n"
      ]
     },
     "metadata": {},
     "output_type": "display_data"
    },
    {
     "data": {
      "application/javascript": [
       "(function(root) {\n",
       "  function embed_document(root) {\n",
       "    \n",
       "  var docs_json = {\"7677af88-a21f-42c4-957e-c8425a49f61a\":{\"roots\":{\"references\":[{\"attributes\":{},\"id\":\"ce74f639-ff6f-4314-923f-394330fd2c0e\",\"type\":\"BasicTickFormatter\"},{\"attributes\":{},\"id\":\"8b17000c-b8d8-4017-ae6b-6fbe420f47d0\",\"type\":\"UnionRenderers\"},{\"attributes\":{\"data_source\":{\"id\":\"6ebacf6e-1d18-4f96-aabf-bffa5626de53\",\"type\":\"ColumnDataSource\"},\"glyph\":{\"id\":\"cd078544-e114-4333-abe1-8295abf362bc\",\"type\":\"Circle\"},\"hover_glyph\":null,\"muted_glyph\":null,\"nonselection_glyph\":{\"id\":\"d5f3d1ae-107a-4da8-ab2f-5fc570c2e4ce\",\"type\":\"Circle\"},\"selection_glyph\":null,\"view\":{\"id\":\"882af542-6cf3-4cc4-bf1a-30c8fbaa2b8f\",\"type\":\"CDSView\"}},\"id\":\"fbbf465c-919b-4c6d-9cfa-d195cf14fd1f\",\"type\":\"GlyphRenderer\"},{\"attributes\":{},\"id\":\"e318dde1-5f0c-4133-b910-6901ad224c9e\",\"type\":\"UnionRenderers\"},{\"attributes\":{\"source\":{\"id\":\"6ebacf6e-1d18-4f96-aabf-bffa5626de53\",\"type\":\"ColumnDataSource\"}},\"id\":\"882af542-6cf3-4cc4-bf1a-30c8fbaa2b8f\",\"type\":\"CDSView\"},{\"attributes\":{},\"id\":\"7c6a4392-20e1-404a-8483-fd31b9598eed\",\"type\":\"Selection\"},{\"attributes\":{\"fill_alpha\":{\"value\":0.2},\"fill_color\":{\"value\":\"orange\"},\"line_alpha\":{\"value\":0.2},\"line_color\":{\"value\":\"orange\"},\"plot\":null,\"size\":10},\"id\":\"757738c4-5014-4fad-9f1f-a5dcf2c1be94\",\"type\":\"NormalHead\"},{\"attributes\":{},\"id\":\"362165f7-e8cd-4e28-8f8f-5da91a9839f2\",\"type\":\"Selection\"},{\"attributes\":{\"end\":{\"id\":\"757738c4-5014-4fad-9f1f-a5dcf2c1be94\",\"type\":\"NormalHead\"},\"line_alpha\":{\"value\":0.2},\"line_color\":{\"value\":\"orange\"},\"line_width\":{\"value\":3},\"plot\":{\"id\":\"8316f6bf-dd90-4fc0-acf1-03d1c78ff9ca\",\"subtype\":\"Figure\",\"type\":\"Plot\"},\"source\":null,\"start\":null,\"x_end\":{\"value\":-0.6830000000000003},\"x_start\":{\"value\":0.0},\"y_end\":{\"value\":1.524},\"y_start\":{\"value\":0.0}},\"id\":\"592f42a2-6fc8-4185-9f10-9c4ea35d35c3\",\"type\":\"Arrow\"},{\"attributes\":{},\"id\":\"d6f0d2cb-2194-4933-9363-276b6184c0e6\",\"type\":\"UnionRenderers\"},{\"attributes\":{\"fill_color\":{\"value\":\"orange\"},\"line_color\":{\"value\":\"orange\"},\"x\":{\"value\":0.1769999999999996},\"y\":{\"value\":-1.6360000000000003}},\"id\":\"cd078544-e114-4333-abe1-8295abf362bc\",\"type\":\"Circle\"},{\"attributes\":{\"callback\":null,\"data\":{},\"selected\":{\"id\":\"17889849-745c-4de8-bee0-23420e5d13c6\",\"type\":\"Selection\"},\"selection_policy\":{\"id\":\"1a4fe354-4ba9-4880-aaab-dedb456d2605\",\"type\":\"UnionRenderers\"}},\"id\":\"c64955eb-6934-4ee1-94ce-7fca75ba8784\",\"type\":\"ColumnDataSource\"},{\"attributes\":{},\"id\":\"8aab3b6b-10cd-44d5-bfc0-ec4851002426\",\"type\":\"Selection\"},{\"attributes\":{\"fill_alpha\":{\"value\":0.1},\"fill_color\":{\"value\":\"#1f77b4\"},\"line_alpha\":{\"value\":0.1},\"line_color\":{\"value\":\"#1f77b4\"},\"x\":{\"value\":-0.6830000000000003},\"y\":{\"value\":1.524}},\"id\":\"01353f1e-3e5e-4b84-9e31-4b31921018c3\",\"type\":\"Circle\"},{\"attributes\":{},\"id\":\"5947c1c5-a77d-43ca-a62f-bd0cbeaba477\",\"type\":\"UnionRenderers\"},{\"attributes\":{\"fill_color\":{\"value\":\"orange\"},\"line_color\":{\"value\":\"orange\"},\"x\":{\"value\":-0.6830000000000003},\"y\":{\"value\":1.524}},\"id\":\"3952cefa-8ab5-4746-b654-d7b26b8699d5\",\"type\":\"Circle\"},{\"attributes\":{},\"id\":\"ea590aaf-6fa0-48d4-9c95-f33b154c10ab\",\"type\":\"Selection\"},{\"attributes\":{\"data_source\":{\"id\":\"c64955eb-6934-4ee1-94ce-7fca75ba8784\",\"type\":\"ColumnDataSource\"},\"glyph\":{\"id\":\"3952cefa-8ab5-4746-b654-d7b26b8699d5\",\"type\":\"Circle\"},\"hover_glyph\":null,\"muted_glyph\":null,\"nonselection_glyph\":{\"id\":\"01353f1e-3e5e-4b84-9e31-4b31921018c3\",\"type\":\"Circle\"},\"selection_glyph\":null,\"view\":{\"id\":\"4cbb8741-b261-4374-82f0-398ac6f68a2f\",\"type\":\"CDSView\"}},\"id\":\"0bea52a3-d42a-4851-8a3c-25acdeea980d\",\"type\":\"GlyphRenderer\"},{\"attributes\":{},\"id\":\"712b48af-fd66-41d6-bbb7-12f84cf6ce7c\",\"type\":\"UnionRenderers\"},{\"attributes\":{\"source\":{\"id\":\"c64955eb-6934-4ee1-94ce-7fca75ba8784\",\"type\":\"ColumnDataSource\"}},\"id\":\"4cbb8741-b261-4374-82f0-398ac6f68a2f\",\"type\":\"CDSView\"},{\"attributes\":{},\"id\":\"1985de09-4222-4410-9494-be2348957a88\",\"type\":\"Selection\"},{\"attributes\":{\"fill_alpha\":{\"value\":0.2},\"fill_color\":{\"value\":\"orange\"},\"line_alpha\":{\"value\":0.2},\"line_color\":{\"value\":\"orange\"},\"plot\":null,\"size\":10},\"id\":\"e23d8e30-cf77-4446-a76b-12eae41c8757\",\"type\":\"NormalHead\"},{\"attributes\":{\"end\":{\"id\":\"e23d8e30-cf77-4446-a76b-12eae41c8757\",\"type\":\"NormalHead\"},\"line_alpha\":{\"value\":0.2},\"line_color\":{\"value\":\"orange\"},\"line_width\":{\"value\":3},\"plot\":{\"id\":\"8316f6bf-dd90-4fc0-acf1-03d1c78ff9ca\",\"subtype\":\"Figure\",\"type\":\"Plot\"},\"source\":null,\"start\":null,\"x_end\":{\"value\":-2.5330000000000004},\"x_start\":{\"value\":0.0},\"y_end\":{\"value\":-0.5560000000000005},\"y_start\":{\"value\":0.0}},\"id\":\"cbeb6b1b-3aa4-4989-a2cc-5d6a1ed70fec\",\"type\":\"Arrow\"},{\"attributes\":{\"callback\":null,\"data\":{},\"selected\":{\"id\":\"bfa5c2ce-5b25-432f-9171-7d67e6e78663\",\"type\":\"Selection\"},\"selection_policy\":{\"id\":\"389096c3-3d14-4ea6-8e80-7ca6208ae069\",\"type\":\"UnionRenderers\"}},\"id\":\"6ebacf6e-1d18-4f96-aabf-bffa5626de53\",\"type\":\"ColumnDataSource\"},{\"attributes\":{\"callback\":null,\"data\":{},\"selected\":{\"id\":\"ef10dc3f-af3e-47b6-89d0-8963001946c9\",\"type\":\"Selection\"},\"selection_policy\":{\"id\":\"e318dde1-5f0c-4133-b910-6901ad224c9e\",\"type\":\"UnionRenderers\"}},\"id\":\"f12d9a0a-e73b-4dde-b189-bf942ea96636\",\"type\":\"ColumnDataSource\"},{\"attributes\":{},\"id\":\"9d2251f6-f900-4ecd-8550-5232f62467a6\",\"type\":\"UnionRenderers\"},{\"attributes\":{\"fill_alpha\":{\"value\":0.1},\"fill_color\":{\"value\":\"#1f77b4\"},\"line_alpha\":{\"value\":0.1},\"line_color\":{\"value\":\"#1f77b4\"},\"x\":{\"value\":-2.5330000000000004},\"y\":{\"value\":-0.5560000000000005}},\"id\":\"3acda4e4-4cd8-4ce3-b55c-431219dea3db\",\"type\":\"Circle\"},{\"attributes\":{},\"id\":\"81cf350e-59ed-476f-be59-4bc573731dc0\",\"type\":\"UnionRenderers\"},{\"attributes\":{\"fill_color\":{\"value\":\"orange\"},\"line_color\":{\"value\":\"orange\"},\"x\":{\"value\":-2.5330000000000004},\"y\":{\"value\":-0.5560000000000005}},\"id\":\"8f703fd2-0773-419e-95cc-80c3ebf9acf8\",\"type\":\"Circle\"},{\"attributes\":{},\"id\":\"4384377f-d854-4c07-bdbb-307475d3a4be\",\"type\":\"Selection\"},{\"attributes\":{\"data_source\":{\"id\":\"f12d9a0a-e73b-4dde-b189-bf942ea96636\",\"type\":\"ColumnDataSource\"},\"glyph\":{\"id\":\"8f703fd2-0773-419e-95cc-80c3ebf9acf8\",\"type\":\"Circle\"},\"hover_glyph\":null,\"muted_glyph\":null,\"nonselection_glyph\":{\"id\":\"3acda4e4-4cd8-4ce3-b55c-431219dea3db\",\"type\":\"Circle\"},\"selection_glyph\":null,\"view\":{\"id\":\"4f649f4c-4535-4519-8687-57cbe0f0a3e2\",\"type\":\"CDSView\"}},\"id\":\"539949a7-f14c-4535-a498-65b6c5aded7c\",\"type\":\"GlyphRenderer\"},{\"attributes\":{\"fill_alpha\":{\"value\":0.1},\"fill_color\":{\"value\":\"#1f77b4\"},\"line_alpha\":{\"value\":0.1},\"line_color\":{\"value\":\"#1f77b4\"},\"x\":{\"value\":-1.1930000000000003},\"y\":{\"value\":0.8739999999999997}},\"id\":\"54a052cb-770d-48b5-9823-ffaaf5bb0e2d\",\"type\":\"Circle\"},{\"attributes\":{\"source\":{\"id\":\"f12d9a0a-e73b-4dde-b189-bf942ea96636\",\"type\":\"ColumnDataSource\"}},\"id\":\"4f649f4c-4535-4519-8687-57cbe0f0a3e2\",\"type\":\"CDSView\"},{\"attributes\":{\"fill_color\":{\"value\":\"orange\"},\"line_color\":{\"value\":\"orange\"},\"x\":{\"value\":-1.1930000000000003},\"y\":{\"value\":0.8739999999999997}},\"id\":\"913d2e7b-60b4-4829-a2c8-4c6c497afc1f\",\"type\":\"Circle\"},{\"attributes\":{\"fill_alpha\":{\"value\":0.2},\"fill_color\":{\"value\":\"orange\"},\"line_alpha\":{\"value\":0.2},\"line_color\":{\"value\":\"orange\"},\"plot\":null,\"size\":10},\"id\":\"0212bbd4-8e98-4f68-95cf-c54dd174490c\",\"type\":\"NormalHead\"},{\"attributes\":{\"end\":{\"id\":\"0212bbd4-8e98-4f68-95cf-c54dd174490c\",\"type\":\"NormalHead\"},\"line_alpha\":{\"value\":0.2},\"line_color\":{\"value\":\"orange\"},\"line_width\":{\"value\":3},\"plot\":{\"id\":\"8316f6bf-dd90-4fc0-acf1-03d1c78ff9ca\",\"subtype\":\"Figure\",\"type\":\"Plot\"},\"source\":null,\"start\":null,\"x_end\":{\"value\":1.1669999999999994},\"x_start\":{\"value\":0.0},\"y_end\":{\"value\":-0.9960000000000004},\"y_start\":{\"value\":0.0}},\"id\":\"907e83a6-9610-466d-a62f-23f3decef162\",\"type\":\"Arrow\"},{\"attributes\":{\"formatter\":{\"id\":\"ce74f639-ff6f-4314-923f-394330fd2c0e\",\"type\":\"BasicTickFormatter\"},\"plot\":{\"id\":\"8316f6bf-dd90-4fc0-acf1-03d1c78ff9ca\",\"subtype\":\"Figure\",\"type\":\"Plot\"},\"ticker\":{\"id\":\"2eda6a0b-2880-4d5b-91ac-b7486d7665fc\",\"type\":\"BasicTicker\"}},\"id\":\"70bf8fd4-2b29-4b27-853c-adfc97e60a2e\",\"type\":\"LinearAxis\"},{\"attributes\":{\"callback\":null,\"data\":{},\"selected\":{\"id\":\"7c6a4392-20e1-404a-8483-fd31b9598eed\",\"type\":\"Selection\"},\"selection_policy\":{\"id\":\"d6f0d2cb-2194-4933-9363-276b6184c0e6\",\"type\":\"UnionRenderers\"}},\"id\":\"f58a64c5-11a0-4ea2-8b2a-769ff1ab263f\",\"type\":\"ColumnDataSource\"},{\"attributes\":{\"callback\":null,\"data\":{},\"selected\":{\"id\":\"27d4b0df-3f4f-4f19-aaa7-ae83b865188e\",\"type\":\"Selection\"},\"selection_policy\":{\"id\":\"d5da74d1-31df-4a85-b4a7-f1b9c330467f\",\"type\":\"UnionRenderers\"}},\"id\":\"e0a2e8f4-d7a1-4450-ba1a-f4b2efcc09f5\",\"type\":\"ColumnDataSource\"},{\"attributes\":{\"fill_alpha\":{\"value\":0.1},\"fill_color\":{\"value\":\"#1f77b4\"},\"line_alpha\":{\"value\":0.1},\"line_color\":{\"value\":\"#1f77b4\"},\"x\":{\"value\":1.1669999999999994},\"y\":{\"value\":-0.9960000000000004}},\"id\":\"dcc837db-ccf2-4a21-ad2d-37fb6628f29b\",\"type\":\"Circle\"},{\"attributes\":{\"data_source\":{\"id\":\"e0a2e8f4-d7a1-4450-ba1a-f4b2efcc09f5\",\"type\":\"ColumnDataSource\"},\"glyph\":{\"id\":\"913d2e7b-60b4-4829-a2c8-4c6c497afc1f\",\"type\":\"Circle\"},\"hover_glyph\":null,\"muted_glyph\":null,\"nonselection_glyph\":{\"id\":\"54a052cb-770d-48b5-9823-ffaaf5bb0e2d\",\"type\":\"Circle\"},\"selection_glyph\":null,\"view\":{\"id\":\"6a0ac923-b6af-4b5f-bb33-92bbe26aa5df\",\"type\":\"CDSView\"}},\"id\":\"3736f35e-c601-42fc-a1c6-9c19a5936953\",\"type\":\"GlyphRenderer\"},{\"attributes\":{\"fill_color\":{\"value\":\"orange\"},\"line_color\":{\"value\":\"orange\"},\"x\":{\"value\":1.1669999999999994},\"y\":{\"value\":-0.9960000000000004}},\"id\":\"6de220cb-95b0-4907-9e16-4d938328c58e\",\"type\":\"Circle\"},{\"attributes\":{\"data_source\":{\"id\":\"f58a64c5-11a0-4ea2-8b2a-769ff1ab263f\",\"type\":\"ColumnDataSource\"},\"glyph\":{\"id\":\"6de220cb-95b0-4907-9e16-4d938328c58e\",\"type\":\"Circle\"},\"hover_glyph\":null,\"muted_glyph\":null,\"nonselection_glyph\":{\"id\":\"dcc837db-ccf2-4a21-ad2d-37fb6628f29b\",\"type\":\"Circle\"},\"selection_glyph\":null,\"view\":{\"id\":\"ca45f0f1-ac14-42dc-9b5b-dd6958fc38eb\",\"type\":\"CDSView\"}},\"id\":\"8716bce6-4023-44f7-bcce-8b3cd1b7fc38\",\"type\":\"GlyphRenderer\"},{\"attributes\":{\"plot\":null,\"text\":\"\"},\"id\":\"9b1c5a36-8665-474b-9805-45e042ddc398\",\"type\":\"Title\"},{\"attributes\":{\"dimension\":1,\"plot\":{\"id\":\"8316f6bf-dd90-4fc0-acf1-03d1c78ff9ca\",\"subtype\":\"Figure\",\"type\":\"Plot\"},\"ticker\":{\"id\":\"aef48d36-6e80-4e07-bd38-9b7218e17c53\",\"type\":\"BasicTicker\"}},\"id\":\"5365dddf-d200-4e6a-ac2b-4723f6b16319\",\"type\":\"Grid\"},{\"attributes\":{\"source\":{\"id\":\"f58a64c5-11a0-4ea2-8b2a-769ff1ab263f\",\"type\":\"ColumnDataSource\"}},\"id\":\"ca45f0f1-ac14-42dc-9b5b-dd6958fc38eb\",\"type\":\"CDSView\"},{\"attributes\":{\"fill_alpha\":{\"value\":0.2},\"fill_color\":{\"value\":\"orange\"},\"line_alpha\":{\"value\":0.2},\"line_color\":{\"value\":\"orange\"},\"plot\":null,\"size\":10},\"id\":\"db253004-4259-4c4f-b9aa-025128b1569e\",\"type\":\"NormalHead\"},{\"attributes\":{\"end\":{\"id\":\"db253004-4259-4c4f-b9aa-025128b1569e\",\"type\":\"NormalHead\"},\"line_alpha\":{\"value\":0.2},\"line_color\":{\"value\":\"orange\"},\"line_width\":{\"value\":3},\"plot\":{\"id\":\"8316f6bf-dd90-4fc0-acf1-03d1c78ff9ca\",\"subtype\":\"Figure\",\"type\":\"Plot\"},\"source\":null,\"start\":null,\"x_end\":{\"value\":-0.7830000000000004},\"x_start\":{\"value\":0.0},\"y_end\":{\"value\":-0.2160000000000002},\"y_start\":{\"value\":0.0}},\"id\":\"98ccecb3-e66e-4f8a-ab00-0a94cd88d2ea\",\"type\":\"Arrow\"},{\"attributes\":{\"callback\":null,\"data\":{\"x\":[-5.0,5.0],\"y\":[0.0,0.0]},\"selected\":{\"id\":\"caa19ca7-d867-433a-96fe-5caace5865f4\",\"type\":\"Selection\"},\"selection_policy\":{\"id\":\"19f0b10d-3a5a-4b91-aa3d-0c0912ba8cf8\",\"type\":\"UnionRenderers\"}},\"id\":\"70b3b461-a2c1-4a8a-85eb-f431dc6c069c\",\"type\":\"ColumnDataSource\"},{\"attributes\":{\"callback\":null,\"data\":{},\"selected\":{\"id\":\"8aab3b6b-10cd-44d5-bfc0-ec4851002426\",\"type\":\"Selection\"},\"selection_policy\":{\"id\":\"8b17000c-b8d8-4017-ae6b-6fbe420f47d0\",\"type\":\"UnionRenderers\"}},\"id\":\"4aa01149-dfb4-4623-980a-2dd7ad2f7f72\",\"type\":\"ColumnDataSource\"},{\"attributes\":{\"below\":[{\"id\":\"70bf8fd4-2b29-4b27-853c-adfc97e60a2e\",\"type\":\"LinearAxis\"}],\"left\":[{\"id\":\"3f68b628-dc57-448b-a26b-8552acf6f2ef\",\"type\":\"LinearAxis\"}],\"plot_height\":400,\"plot_width\":400,\"renderers\":[{\"id\":\"70bf8fd4-2b29-4b27-853c-adfc97e60a2e\",\"type\":\"LinearAxis\"},{\"id\":\"08de509f-9706-4d7c-89dd-655d148d3297\",\"type\":\"Grid\"},{\"id\":\"3f68b628-dc57-448b-a26b-8552acf6f2ef\",\"type\":\"LinearAxis\"},{\"id\":\"5365dddf-d200-4e6a-ac2b-4723f6b16319\",\"type\":\"Grid\"},{\"id\":\"58b4c917-11c6-4a63-a780-e11cb57c0204\",\"type\":\"GlyphRenderer\"},{\"id\":\"52ce0b27-6b87-4891-9704-640e151a0175\",\"type\":\"GlyphRenderer\"},{\"id\":\"7afbdad6-9fc7-4980-ac93-d99fdb8922a0\",\"type\":\"Arrow\"},{\"id\":\"3736f35e-c601-42fc-a1c6-9c19a5936953\",\"type\":\"GlyphRenderer\"},{\"id\":\"78d9ca42-1190-4120-afee-fed7ea3b7ccf\",\"type\":\"Arrow\"},{\"id\":\"fbbf465c-919b-4c6d-9cfa-d195cf14fd1f\",\"type\":\"GlyphRenderer\"},{\"id\":\"592f42a2-6fc8-4185-9f10-9c4ea35d35c3\",\"type\":\"Arrow\"},{\"id\":\"0bea52a3-d42a-4851-8a3c-25acdeea980d\",\"type\":\"GlyphRenderer\"},{\"id\":\"cbeb6b1b-3aa4-4989-a2cc-5d6a1ed70fec\",\"type\":\"Arrow\"},{\"id\":\"539949a7-f14c-4535-a498-65b6c5aded7c\",\"type\":\"GlyphRenderer\"},{\"id\":\"907e83a6-9610-466d-a62f-23f3decef162\",\"type\":\"Arrow\"},{\"id\":\"8716bce6-4023-44f7-bcce-8b3cd1b7fc38\",\"type\":\"GlyphRenderer\"},{\"id\":\"98ccecb3-e66e-4f8a-ab00-0a94cd88d2ea\",\"type\":\"Arrow\"},{\"id\":\"77967e50-9c85-4f32-972d-d65fa277a1b9\",\"type\":\"GlyphRenderer\"},{\"id\":\"129a4bf1-8646-4426-999d-0d3fba9da902\",\"type\":\"Arrow\"},{\"id\":\"fb2364c3-2592-4cb7-9b9f-fc259d595b9c\",\"type\":\"GlyphRenderer\"},{\"id\":\"d529cb90-2308-4e4a-9286-853c816050e5\",\"type\":\"Arrow\"},{\"id\":\"7430afea-8b3d-4759-a0c6-6844eb812af5\",\"type\":\"GlyphRenderer\"},{\"id\":\"d896bccf-0194-4be8-8a98-d408dfc2c552\",\"type\":\"Arrow\"},{\"id\":\"8e46e5b0-7c84-4334-ab77-507f4f5ef420\",\"type\":\"GlyphRenderer\"},{\"id\":\"18e7e5cf-27bb-4251-a5e1-3cf68595f165\",\"type\":\"Arrow\"},{\"id\":\"e0754a42-f118-4531-80f4-183d86b7c661\",\"type\":\"GlyphRenderer\"}],\"title\":{\"id\":\"9b1c5a36-8665-474b-9805-45e042ddc398\",\"type\":\"Title\"},\"toolbar\":{\"id\":\"f205d6bb-0e9d-4c32-a7e5-cf1b582f4ba8\",\"type\":\"Toolbar\"},\"x_range\":{\"id\":\"1849bc40-c7c5-4a6f-8210-87a3b3d40df1\",\"type\":\"Range1d\"},\"x_scale\":{\"id\":\"8d81300d-a371-4a88-bd4b-8c8bb3f32cec\",\"type\":\"LinearScale\"},\"y_range\":{\"id\":\"bc867f11-5315-4daf-84bd-9a162a1ff274\",\"type\":\"Range1d\"},\"y_scale\":{\"id\":\"50e254e2-0431-4194-8e8f-2cd19b4f8f5c\",\"type\":\"LinearScale\"}},\"id\":\"8316f6bf-dd90-4fc0-acf1-03d1c78ff9ca\",\"subtype\":\"Figure\",\"type\":\"Plot\"},{\"attributes\":{\"fill_alpha\":{\"value\":0.1},\"fill_color\":{\"value\":\"#1f77b4\"},\"line_alpha\":{\"value\":0.1},\"line_color\":{\"value\":\"#1f77b4\"},\"x\":{\"value\":-0.7830000000000004},\"y\":{\"value\":-0.2160000000000002}},\"id\":\"980acf2a-cb3f-4976-9d7b-1bdf095b2cbf\",\"type\":\"Circle\"},{\"attributes\":{\"fill_color\":{\"value\":\"orange\"},\"line_color\":{\"value\":\"orange\"},\"x\":{\"value\":-0.7830000000000004},\"y\":{\"value\":-0.2160000000000002}},\"id\":\"8ff0563c-f81f-4d9e-8b01-de0ecf17043c\",\"type\":\"Circle\"},{\"attributes\":{\"data_source\":{\"id\":\"70b3b461-a2c1-4a8a-85eb-f431dc6c069c\",\"type\":\"ColumnDataSource\"},\"glyph\":{\"id\":\"75199c38-d781-43ad-8941-263794ad9e70\",\"type\":\"Line\"},\"hover_glyph\":null,\"muted_glyph\":null,\"nonselection_glyph\":{\"id\":\"ef705750-1685-49b6-ade9-e84f8a41f1c1\",\"type\":\"Line\"},\"selection_glyph\":null,\"view\":{\"id\":\"77577ef0-d19f-449e-9156-95898ed24866\",\"type\":\"CDSView\"}},\"id\":\"58b4c917-11c6-4a63-a780-e11cb57c0204\",\"type\":\"GlyphRenderer\"},{\"attributes\":{\"data_source\":{\"id\":\"4aa01149-dfb4-4623-980a-2dd7ad2f7f72\",\"type\":\"ColumnDataSource\"},\"glyph\":{\"id\":\"8ff0563c-f81f-4d9e-8b01-de0ecf17043c\",\"type\":\"Circle\"},\"hover_glyph\":null,\"muted_glyph\":null,\"nonselection_glyph\":{\"id\":\"980acf2a-cb3f-4976-9d7b-1bdf095b2cbf\",\"type\":\"Circle\"},\"selection_glyph\":null,\"view\":{\"id\":\"2443005e-6cfd-4068-90b7-219491a00cd5\",\"type\":\"CDSView\"}},\"id\":\"77967e50-9c85-4f32-972d-d65fa277a1b9\",\"type\":\"GlyphRenderer\"},{\"attributes\":{\"source\":{\"id\":\"4aa01149-dfb4-4623-980a-2dd7ad2f7f72\",\"type\":\"ColumnDataSource\"}},\"id\":\"2443005e-6cfd-4068-90b7-219491a00cd5\",\"type\":\"CDSView\"},{\"attributes\":{\"fill_alpha\":{\"value\":0.2},\"fill_color\":{\"value\":\"orange\"},\"line_alpha\":{\"value\":0.2},\"line_color\":{\"value\":\"orange\"},\"plot\":null,\"size\":10},\"id\":\"fdaf83b0-62c4-411b-95a5-9ef44ba4972e\",\"type\":\"NormalHead\"},{\"attributes\":{\"end\":{\"id\":\"fdaf83b0-62c4-411b-95a5-9ef44ba4972e\",\"type\":\"NormalHead\"},\"line_alpha\":{\"value\":0.2},\"line_color\":{\"value\":\"orange\"},\"line_width\":{\"value\":3},\"plot\":{\"id\":\"8316f6bf-dd90-4fc0-acf1-03d1c78ff9ca\",\"subtype\":\"Figure\",\"type\":\"Plot\"},\"source\":null,\"start\":null,\"x_end\":{\"value\":1.387},\"x_start\":{\"value\":0.0},\"y_end\":{\"value\":-0.7660000000000005},\"y_start\":{\"value\":0.0}},\"id\":\"129a4bf1-8646-4426-999d-0d3fba9da902\",\"type\":\"Arrow\"},{\"attributes\":{\"source\":{\"id\":\"70b3b461-a2c1-4a8a-85eb-f431dc6c069c\",\"type\":\"ColumnDataSource\"}},\"id\":\"77577ef0-d19f-449e-9156-95898ed24866\",\"type\":\"CDSView\"},{\"attributes\":{\"callback\":null,\"data\":{},\"selected\":{\"id\":\"362165f7-e8cd-4e28-8f8f-5da91a9839f2\",\"type\":\"Selection\"},\"selection_policy\":{\"id\":\"712b48af-fd66-41d6-bbb7-12f84cf6ce7c\",\"type\":\"UnionRenderers\"}},\"id\":\"7c99e83e-bb08-4c48-ae71-6d653f1c1486\",\"type\":\"ColumnDataSource\"},{\"attributes\":{\"fill_alpha\":{\"value\":0.1},\"fill_color\":{\"value\":\"#1f77b4\"},\"line_alpha\":{\"value\":0.1},\"line_color\":{\"value\":\"#1f77b4\"},\"x\":{\"value\":1.387},\"y\":{\"value\":-0.7660000000000005}},\"id\":\"fb0ca92d-1092-47a1-9d48-387bfc2c6217\",\"type\":\"Circle\"},{\"attributes\":{},\"id\":\"2dc92121-70cf-45f3-8494-c711953c916c\",\"type\":\"WheelZoomTool\"},{\"attributes\":{},\"id\":\"2eda6a0b-2880-4d5b-91ac-b7486d7665fc\",\"type\":\"BasicTicker\"},{\"attributes\":{\"fill_color\":{\"value\":\"orange\"},\"line_color\":{\"value\":\"orange\"},\"x\":{\"value\":1.387},\"y\":{\"value\":-0.7660000000000005}},\"id\":\"ffd257db-f3b3-4015-87bd-f13937da4971\",\"type\":\"Circle\"},{\"attributes\":{\"formatter\":{\"id\":\"ca265546-e819-451a-9d37-58a1b47b54e6\",\"type\":\"BasicTickFormatter\"},\"plot\":{\"id\":\"8316f6bf-dd90-4fc0-acf1-03d1c78ff9ca\",\"subtype\":\"Figure\",\"type\":\"Plot\"},\"ticker\":{\"id\":\"aef48d36-6e80-4e07-bd38-9b7218e17c53\",\"type\":\"BasicTicker\"}},\"id\":\"3f68b628-dc57-448b-a26b-8552acf6f2ef\",\"type\":\"LinearAxis\"},{\"attributes\":{\"data_source\":{\"id\":\"7c99e83e-bb08-4c48-ae71-6d653f1c1486\",\"type\":\"ColumnDataSource\"},\"glyph\":{\"id\":\"ffd257db-f3b3-4015-87bd-f13937da4971\",\"type\":\"Circle\"},\"hover_glyph\":null,\"muted_glyph\":null,\"nonselection_glyph\":{\"id\":\"fb0ca92d-1092-47a1-9d48-387bfc2c6217\",\"type\":\"Circle\"},\"selection_glyph\":null,\"view\":{\"id\":\"171a2a1a-8123-4620-9348-454913ac8843\",\"type\":\"CDSView\"}},\"id\":\"fb2364c3-2592-4cb7-9b9f-fc259d595b9c\",\"type\":\"GlyphRenderer\"},{\"attributes\":{\"active_drag\":\"auto\",\"active_inspect\":\"auto\",\"active_multi\":null,\"active_scroll\":\"auto\",\"active_tap\":\"auto\",\"tools\":[{\"id\":\"2dc92121-70cf-45f3-8494-c711953c916c\",\"type\":\"WheelZoomTool\"},{\"id\":\"ff37dfcf-7a4f-4a9a-9ab0-6ee91bea9e18\",\"type\":\"PanTool\"},{\"id\":\"078f2b94-010f-4f07-bb11-c554353b48b9\",\"type\":\"ResetTool\"}]},\"id\":\"f205d6bb-0e9d-4c32-a7e5-cf1b582f4ba8\",\"type\":\"Toolbar\"},{\"attributes\":{\"source\":{\"id\":\"7c99e83e-bb08-4c48-ae71-6d653f1c1486\",\"type\":\"ColumnDataSource\"}},\"id\":\"171a2a1a-8123-4620-9348-454913ac8843\",\"type\":\"CDSView\"},{\"attributes\":{\"fill_alpha\":{\"value\":0.2},\"fill_color\":{\"value\":\"orange\"},\"line_alpha\":{\"value\":0.2},\"line_color\":{\"value\":\"orange\"},\"plot\":null,\"size\":10},\"id\":\"ed350a10-eed4-46f6-8df6-b8d1c480d644\",\"type\":\"NormalHead\"},{\"attributes\":{\"end\":{\"id\":\"ed350a10-eed4-46f6-8df6-b8d1c480d644\",\"type\":\"NormalHead\"},\"line_alpha\":{\"value\":0.2},\"line_color\":{\"value\":\"orange\"},\"line_width\":{\"value\":3},\"plot\":{\"id\":\"8316f6bf-dd90-4fc0-acf1-03d1c78ff9ca\",\"subtype\":\"Figure\",\"type\":\"Plot\"},\"source\":null,\"start\":null,\"x_end\":{\"value\":-0.5430000000000001},\"x_start\":{\"value\":0.0},\"y_end\":{\"value\":-0.5560000000000005},\"y_start\":{\"value\":0.0}},\"id\":\"d529cb90-2308-4e4a-9286-853c816050e5\",\"type\":\"Arrow\"},{\"attributes\":{\"line_alpha\":0.1,\"line_color\":\"#1f77b4\",\"line_width\":1.5,\"x\":{\"field\":\"x\"},\"y\":{\"field\":\"y\"}},\"id\":\"ef705750-1685-49b6-ade9-e84f8a41f1c1\",\"type\":\"Line\"},{\"attributes\":{\"end\":{\"id\":\"40802827-fab8-423b-9758-de88a0d9bd1e\",\"type\":\"NormalHead\"},\"line_alpha\":{\"value\":0.2},\"line_color\":{\"value\":\"orange\"},\"line_width\":{\"value\":3},\"plot\":{\"id\":\"8316f6bf-dd90-4fc0-acf1-03d1c78ff9ca\",\"subtype\":\"Figure\",\"type\":\"Plot\"},\"source\":null,\"start\":null,\"x_end\":{\"value\":-1.1930000000000003},\"x_start\":{\"value\":0.0},\"y_end\":{\"value\":0.8739999999999997},\"y_start\":{\"value\":0.0}},\"id\":\"7afbdad6-9fc7-4980-ac93-d99fdb8922a0\",\"type\":\"Arrow\"},{\"attributes\":{\"callback\":null,\"data\":{},\"selected\":{\"id\":\"1985de09-4222-4410-9494-be2348957a88\",\"type\":\"Selection\"},\"selection_policy\":{\"id\":\"5947c1c5-a77d-43ca-a62f-bd0cbeaba477\",\"type\":\"UnionRenderers\"}},\"id\":\"46de53f6-2cca-4abb-a6d5-175df68370cd\",\"type\":\"ColumnDataSource\"},{\"attributes\":{},\"id\":\"50e254e2-0431-4194-8e8f-2cd19b4f8f5c\",\"type\":\"LinearScale\"},{\"attributes\":{\"fill_alpha\":{\"value\":0.1},\"fill_color\":{\"value\":\"#1f77b4\"},\"line_alpha\":{\"value\":0.1},\"line_color\":{\"value\":\"#1f77b4\"},\"x\":{\"value\":-0.5430000000000001},\"y\":{\"value\":-0.5560000000000005}},\"id\":\"f633a1b9-c009-4102-97c7-1b461779f34f\",\"type\":\"Circle\"},{\"attributes\":{\"fill_alpha\":{\"value\":0.1},\"fill_color\":{\"value\":\"#1f77b4\"},\"line_alpha\":{\"value\":0.1},\"line_color\":{\"value\":\"#1f77b4\"},\"x\":{\"value\":0.1769999999999996},\"y\":{\"value\":-1.6360000000000003}},\"id\":\"d5f3d1ae-107a-4da8-ab2f-5fc570c2e4ce\",\"type\":\"Circle\"},{\"attributes\":{\"fill_color\":{\"value\":\"orange\"},\"line_color\":{\"value\":\"orange\"},\"x\":{\"value\":-0.5430000000000001},\"y\":{\"value\":-0.5560000000000005}},\"id\":\"e89b6f10-5367-406e-9dc8-73942d80065e\",\"type\":\"Circle\"},{\"attributes\":{\"data_source\":{\"id\":\"46de53f6-2cca-4abb-a6d5-175df68370cd\",\"type\":\"ColumnDataSource\"},\"glyph\":{\"id\":\"e89b6f10-5367-406e-9dc8-73942d80065e\",\"type\":\"Circle\"},\"hover_glyph\":null,\"muted_glyph\":null,\"nonselection_glyph\":{\"id\":\"f633a1b9-c009-4102-97c7-1b461779f34f\",\"type\":\"Circle\"},\"selection_glyph\":null,\"view\":{\"id\":\"acedecee-2590-4ed7-a4aa-12f84fbbb745\",\"type\":\"CDSView\"}},\"id\":\"7430afea-8b3d-4759-a0c6-6844eb812af5\",\"type\":\"GlyphRenderer\"},{\"attributes\":{\"callback\":null,\"data\":{\"x\":[0.0,0.0],\"y\":[-5.0,5.0]},\"selected\":{\"id\":\"5b0ad32c-0640-43a8-b606-473a19ae1d36\",\"type\":\"Selection\"},\"selection_policy\":{\"id\":\"9bb6967f-f33f-4635-bfd7-a4c5b86817b2\",\"type\":\"UnionRenderers\"}},\"id\":\"ea950d03-e256-43df-b9ba-1bd7d6080807\",\"type\":\"ColumnDataSource\"},{\"attributes\":{\"source\":{\"id\":\"46de53f6-2cca-4abb-a6d5-175df68370cd\",\"type\":\"ColumnDataSource\"}},\"id\":\"acedecee-2590-4ed7-a4aa-12f84fbbb745\",\"type\":\"CDSView\"},{\"attributes\":{},\"id\":\"ff37dfcf-7a4f-4a9a-9ab0-6ee91bea9e18\",\"type\":\"PanTool\"},{\"attributes\":{\"fill_alpha\":{\"value\":0.2},\"fill_color\":{\"value\":\"orange\"},\"line_alpha\":{\"value\":0.2},\"line_color\":{\"value\":\"orange\"},\"plot\":null,\"size\":10},\"id\":\"33951d11-b4a8-4827-bb6c-e48e76d4cfdb\",\"type\":\"NormalHead\"},{\"attributes\":{},\"id\":\"078f2b94-010f-4f07-bb11-c554353b48b9\",\"type\":\"ResetTool\"},{\"attributes\":{\"end\":{\"id\":\"33951d11-b4a8-4827-bb6c-e48e76d4cfdb\",\"type\":\"NormalHead\"},\"line_alpha\":{\"value\":0.2},\"line_color\":{\"value\":\"orange\"},\"line_width\":{\"value\":3},\"plot\":{\"id\":\"8316f6bf-dd90-4fc0-acf1-03d1c78ff9ca\",\"subtype\":\"Figure\",\"type\":\"Plot\"},\"source\":null,\"start\":null,\"x_end\":{\"value\":2.1069999999999998},\"x_start\":{\"value\":0.0},\"y_end\":{\"value\":2.064},\"y_start\":{\"value\":0.0}},\"id\":\"d896bccf-0194-4be8-8a98-d408dfc2c552\",\"type\":\"Arrow\"},{\"attributes\":{\"callback\":null,\"data\":{},\"selected\":{\"id\":\"ea590aaf-6fa0-48d4-9c95-f33b154c10ab\",\"type\":\"Selection\"},\"selection_policy\":{\"id\":\"81cf350e-59ed-476f-be59-4bc573731dc0\",\"type\":\"UnionRenderers\"}},\"id\":\"bb66b925-56be-4208-9e41-ba23f18abe5b\",\"type\":\"ColumnDataSource\"},{\"attributes\":{\"line_width\":1.5,\"x\":{\"field\":\"x\"},\"y\":{\"field\":\"y\"}},\"id\":\"6d476c1c-6054-450b-a3e5-38f348a72042\",\"type\":\"Line\"},{\"attributes\":{\"fill_alpha\":{\"value\":0.1},\"fill_color\":{\"value\":\"#1f77b4\"},\"line_alpha\":{\"value\":0.1},\"line_color\":{\"value\":\"#1f77b4\"},\"x\":{\"value\":2.1069999999999998},\"y\":{\"value\":2.064}},\"id\":\"603dcfe9-2638-4eb9-a777-b0fc843cd460\",\"type\":\"Circle\"},{\"attributes\":{\"fill_alpha\":{\"value\":0.2},\"fill_color\":{\"value\":\"orange\"},\"line_alpha\":{\"value\":0.2},\"line_color\":{\"value\":\"orange\"},\"plot\":null,\"size\":10},\"id\":\"6aa1330f-ded7-4c71-833a-5d080de794f7\",\"type\":\"NormalHead\"},{\"attributes\":{\"fill_color\":{\"value\":\"orange\"},\"line_color\":{\"value\":\"orange\"},\"x\":{\"value\":2.1069999999999998},\"y\":{\"value\":2.064}},\"id\":\"7712ced4-908f-433d-a126-13e20057e497\",\"type\":\"Circle\"},{\"attributes\":{\"data_source\":{\"id\":\"bb66b925-56be-4208-9e41-ba23f18abe5b\",\"type\":\"ColumnDataSource\"},\"glyph\":{\"id\":\"7712ced4-908f-433d-a126-13e20057e497\",\"type\":\"Circle\"},\"hover_glyph\":null,\"muted_glyph\":null,\"nonselection_glyph\":{\"id\":\"603dcfe9-2638-4eb9-a777-b0fc843cd460\",\"type\":\"Circle\"},\"selection_glyph\":null,\"view\":{\"id\":\"9252793b-385f-4f90-87d2-f874ce4760f0\",\"type\":\"CDSView\"}},\"id\":\"8e46e5b0-7c84-4334-ab77-507f4f5ef420\",\"type\":\"GlyphRenderer\"},{\"attributes\":{\"callback\":null,\"end\":3.5,\"start\":-3.5},\"id\":\"bc867f11-5315-4daf-84bd-9a162a1ff274\",\"type\":\"Range1d\"},{\"attributes\":{\"source\":{\"id\":\"bb66b925-56be-4208-9e41-ba23f18abe5b\",\"type\":\"ColumnDataSource\"}},\"id\":\"9252793b-385f-4f90-87d2-f874ce4760f0\",\"type\":\"CDSView\"},{\"attributes\":{\"line_alpha\":0.1,\"line_color\":\"#1f77b4\",\"line_width\":1.5,\"x\":{\"field\":\"x\"},\"y\":{\"field\":\"y\"}},\"id\":\"7f9ed6bb-85bc-4ef7-a66b-dcdb0b37fddb\",\"type\":\"Line\"},{\"attributes\":{\"fill_alpha\":{\"value\":0.2},\"fill_color\":{\"value\":\"orange\"},\"line_alpha\":{\"value\":0.2},\"line_color\":{\"value\":\"orange\"},\"plot\":null,\"size\":10},\"id\":\"c981c864-3794-4884-a4ac-62b6c34bab68\",\"type\":\"NormalHead\"},{\"attributes\":{\"end\":{\"id\":\"c981c864-3794-4884-a4ac-62b6c34bab68\",\"type\":\"NormalHead\"},\"line_alpha\":{\"value\":0.2},\"line_color\":{\"value\":\"orange\"},\"line_width\":{\"value\":3},\"plot\":{\"id\":\"8316f6bf-dd90-4fc0-acf1-03d1c78ff9ca\",\"subtype\":\"Figure\",\"type\":\"Plot\"},\"source\":null,\"start\":null,\"x_end\":{\"value\":0.8969999999999998},\"x_start\":{\"value\":0.0},\"y_end\":{\"value\":0.2639999999999998},\"y_start\":{\"value\":0.0}},\"id\":\"18e7e5cf-27bb-4251-a5e1-3cf68595f165\",\"type\":\"Arrow\"},{\"attributes\":{\"callback\":null,\"data\":{},\"selected\":{\"id\":\"4384377f-d854-4c07-bdbb-307475d3a4be\",\"type\":\"Selection\"},\"selection_policy\":{\"id\":\"9d2251f6-f900-4ecd-8550-5232f62467a6\",\"type\":\"UnionRenderers\"}},\"id\":\"1c3f0e84-56cc-40f7-a05f-f2406aac9b4f\",\"type\":\"ColumnDataSource\"},{\"attributes\":{\"end\":{\"id\":\"6aa1330f-ded7-4c71-833a-5d080de794f7\",\"type\":\"NormalHead\"},\"line_alpha\":{\"value\":0.2},\"line_color\":{\"value\":\"orange\"},\"line_width\":{\"value\":3},\"plot\":{\"id\":\"8316f6bf-dd90-4fc0-acf1-03d1c78ff9ca\",\"subtype\":\"Figure\",\"type\":\"Plot\"},\"source\":null,\"start\":null,\"x_end\":{\"value\":0.1769999999999996},\"x_start\":{\"value\":0.0},\"y_end\":{\"value\":-1.6360000000000003},\"y_start\":{\"value\":0.0}},\"id\":\"78d9ca42-1190-4120-afee-fed7ea3b7ccf\",\"type\":\"Arrow\"},{\"attributes\":{\"fill_alpha\":{\"value\":0.1},\"fill_color\":{\"value\":\"#1f77b4\"},\"line_alpha\":{\"value\":0.1},\"line_color\":{\"value\":\"#1f77b4\"},\"x\":{\"value\":0.8969999999999998},\"y\":{\"value\":0.2639999999999998}},\"id\":\"297f8fef-5401-4644-8d8a-2f2fc378a841\",\"type\":\"Circle\"},{\"attributes\":{\"fill_color\":{\"value\":\"orange\"},\"line_color\":{\"value\":\"orange\"},\"x\":{\"value\":0.8969999999999998},\"y\":{\"value\":0.2639999999999998}},\"id\":\"f3ee842d-01be-4802-9736-a6dfee6d53c0\",\"type\":\"Circle\"},{\"attributes\":{\"data_source\":{\"id\":\"1c3f0e84-56cc-40f7-a05f-f2406aac9b4f\",\"type\":\"ColumnDataSource\"},\"glyph\":{\"id\":\"f3ee842d-01be-4802-9736-a6dfee6d53c0\",\"type\":\"Circle\"},\"hover_glyph\":null,\"muted_glyph\":null,\"nonselection_glyph\":{\"id\":\"297f8fef-5401-4644-8d8a-2f2fc378a841\",\"type\":\"Circle\"},\"selection_glyph\":null,\"view\":{\"id\":\"9b14e4ee-5a1e-4918-8308-8b2d9919ca70\",\"type\":\"CDSView\"}},\"id\":\"e0754a42-f118-4531-80f4-183d86b7c661\",\"type\":\"GlyphRenderer\"},{\"attributes\":{},\"id\":\"aef48d36-6e80-4e07-bd38-9b7218e17c53\",\"type\":\"BasicTicker\"},{\"attributes\":{\"source\":{\"id\":\"ea950d03-e256-43df-b9ba-1bd7d6080807\",\"type\":\"ColumnDataSource\"}},\"id\":\"f6ec29fb-2507-4e46-b9ed-0f67102ba182\",\"type\":\"CDSView\"},{\"attributes\":{\"source\":{\"id\":\"1c3f0e84-56cc-40f7-a05f-f2406aac9b4f\",\"type\":\"ColumnDataSource\"}},\"id\":\"9b14e4ee-5a1e-4918-8308-8b2d9919ca70\",\"type\":\"CDSView\"},{\"attributes\":{},\"id\":\"8d81300d-a371-4a88-bd4b-8c8bb3f32cec\",\"type\":\"LinearScale\"},{\"attributes\":{},\"id\":\"ca265546-e819-451a-9d37-58a1b47b54e6\",\"type\":\"BasicTickFormatter\"},{\"attributes\":{\"line_width\":1.5,\"x\":{\"field\":\"x\"},\"y\":{\"field\":\"y\"}},\"id\":\"75199c38-d781-43ad-8941-263794ad9e70\",\"type\":\"Line\"},{\"attributes\":{\"data_source\":{\"id\":\"ea950d03-e256-43df-b9ba-1bd7d6080807\",\"type\":\"ColumnDataSource\"},\"glyph\":{\"id\":\"6d476c1c-6054-450b-a3e5-38f348a72042\",\"type\":\"Line\"},\"hover_glyph\":null,\"muted_glyph\":null,\"nonselection_glyph\":{\"id\":\"7f9ed6bb-85bc-4ef7-a66b-dcdb0b37fddb\",\"type\":\"Line\"},\"selection_glyph\":null,\"view\":{\"id\":\"f6ec29fb-2507-4e46-b9ed-0f67102ba182\",\"type\":\"CDSView\"}},\"id\":\"52ce0b27-6b87-4891-9704-640e151a0175\",\"type\":\"GlyphRenderer\"},{\"attributes\":{},\"id\":\"caa19ca7-d867-433a-96fe-5caace5865f4\",\"type\":\"Selection\"},{\"attributes\":{},\"id\":\"ef10dc3f-af3e-47b6-89d0-8963001946c9\",\"type\":\"Selection\"},{\"attributes\":{\"plot\":{\"id\":\"8316f6bf-dd90-4fc0-acf1-03d1c78ff9ca\",\"subtype\":\"Figure\",\"type\":\"Plot\"},\"ticker\":{\"id\":\"2eda6a0b-2880-4d5b-91ac-b7486d7665fc\",\"type\":\"BasicTicker\"}},\"id\":\"08de509f-9706-4d7c-89dd-655d148d3297\",\"type\":\"Grid\"},{\"attributes\":{\"source\":{\"id\":\"e0a2e8f4-d7a1-4450-ba1a-f4b2efcc09f5\",\"type\":\"ColumnDataSource\"}},\"id\":\"6a0ac923-b6af-4b5f-bb33-92bbe26aa5df\",\"type\":\"CDSView\"},{\"attributes\":{},\"id\":\"19f0b10d-3a5a-4b91-aa3d-0c0912ba8cf8\",\"type\":\"UnionRenderers\"},{\"attributes\":{},\"id\":\"5b0ad32c-0640-43a8-b606-473a19ae1d36\",\"type\":\"Selection\"},{\"attributes\":{},\"id\":\"9bb6967f-f33f-4635-bfd7-a4c5b86817b2\",\"type\":\"UnionRenderers\"},{\"attributes\":{},\"id\":\"27d4b0df-3f4f-4f19-aaa7-ae83b865188e\",\"type\":\"Selection\"},{\"attributes\":{},\"id\":\"d5da74d1-31df-4a85-b4a7-f1b9c330467f\",\"type\":\"UnionRenderers\"},{\"attributes\":{\"fill_alpha\":{\"value\":0.2},\"fill_color\":{\"value\":\"orange\"},\"line_alpha\":{\"value\":0.2},\"line_color\":{\"value\":\"orange\"},\"plot\":null,\"size\":10},\"id\":\"40802827-fab8-423b-9758-de88a0d9bd1e\",\"type\":\"NormalHead\"},{\"attributes\":{},\"id\":\"bfa5c2ce-5b25-432f-9171-7d67e6e78663\",\"type\":\"Selection\"},{\"attributes\":{\"callback\":null,\"end\":3.5,\"start\":-3.5},\"id\":\"1849bc40-c7c5-4a6f-8210-87a3b3d40df1\",\"type\":\"Range1d\"},{\"attributes\":{},\"id\":\"389096c3-3d14-4ea6-8e80-7ca6208ae069\",\"type\":\"UnionRenderers\"},{\"attributes\":{},\"id\":\"17889849-745c-4de8-bee0-23420e5d13c6\",\"type\":\"Selection\"},{\"attributes\":{},\"id\":\"1a4fe354-4ba9-4880-aaab-dedb456d2605\",\"type\":\"UnionRenderers\"}],\"root_ids\":[\"8316f6bf-dd90-4fc0-acf1-03d1c78ff9ca\"]},\"title\":\"Bokeh Application\",\"version\":\"0.13.0\"}};\n",
       "  var render_items = [{\"docid\":\"7677af88-a21f-42c4-957e-c8425a49f61a\",\"roots\":{\"8316f6bf-dd90-4fc0-acf1-03d1c78ff9ca\":\"e9929a4d-cb84-4ec6-836d-7af1dca78b55\"}}];\n",
       "  root.Bokeh.embed.embed_items_notebook(docs_json, render_items);\n",
       "\n",
       "  }\n",
       "  if (root.Bokeh !== undefined) {\n",
       "    embed_document(root);\n",
       "  } else {\n",
       "    var attempts = 0;\n",
       "    var timer = setInterval(function(root) {\n",
       "      if (root.Bokeh !== undefined) {\n",
       "        embed_document(root);\n",
       "        clearInterval(timer);\n",
       "      }\n",
       "      attempts++;\n",
       "      if (attempts > 100) {\n",
       "        console.log(\"Bokeh: ERROR: Unable to run BokehJS code because BokehJS library is missing\")\n",
       "        clearInterval(timer);\n",
       "      }\n",
       "    }, 10, root)\n",
       "  }\n",
       "})(window);"
      ],
      "application/vnd.bokehjs_exec.v0+json": ""
     },
     "metadata": {
      "application/vnd.bokehjs_exec.v0+json": {
       "id": "8316f6bf-dd90-4fc0-acf1-03d1c78ff9ca"
      }
     },
     "output_type": "display_data"
    }
   ],
   "source": [
    "plot.clear().graph()\n",
    "plot.vec_w_point(X_dev,color=\"orange\",alpha=.2)\n",
    "plot.show()"
   ]
  },
  {
   "cell_type": "markdown",
   "metadata": {},
   "source": [
    "We can see that that centering:\n",
    "\n",
    "1. sets the mean (or central point) to 0.\n",
    "2. the lengths of each vector represent the distance from the mean. "
   ]
  },
  {
   "cell_type": "markdown",
   "metadata": {},
   "source": [
    "### Average squared deviations from the mean\n",
    "\n",
    "$$ \\frac{1}{N-1} (\\textbf{X} - \\bar{\\textbf{x}})^T(\\textbf{X} - \\bar{\\textbf{x}}) $$"
   ]
  },
  {
   "cell_type": "code",
   "execution_count": 8,
   "metadata": {},
   "outputs": [
    {
     "data": {
      "text/plain": [
       "array([[1.97497889, 0.20745778],\n",
       "       [0.20745778, 1.37071556]])"
      ]
     },
     "execution_count": 8,
     "metadata": {},
     "output_type": "execute_result"
    }
   ],
   "source": [
    "squared_dev = X_dev.T.dot(X_dev)\n",
    "sigma = squared_dev*(1/(N-1))\n",
    "sigma"
   ]
  },
  {
   "cell_type": "code",
   "execution_count": 9,
   "metadata": {},
   "outputs": [
    {
     "data": {
      "text/html": [
       "\n",
       "\n",
       "\n",
       "\n",
       "\n",
       "\n",
       "  <div class=\"bk-root\" id=\"6098fd21-20d2-4459-80c2-4db0bfa8417f\"></div>\n"
      ]
     },
     "metadata": {},
     "output_type": "display_data"
    },
    {
     "data": {
      "application/javascript": [
       "(function(root) {\n",
       "  function embed_document(root) {\n",
       "    \n",
       "  var docs_json = {\"efaf443f-36a0-48b9-883b-d66a83969e7e\":{\"roots\":{\"references\":[{\"attributes\":{},\"id\":\"ac782637-665a-4c9d-a08d-c3bd820006f1\",\"type\":\"Selection\"},{\"attributes\":{\"formatter\":{\"id\":\"e22cf282-bf8b-4b69-8a5d-5d0eb3a5c3ec\",\"type\":\"BasicTickFormatter\"},\"plot\":{\"id\":\"2416e59c-127c-4e3a-84a2-f2f0c5feb230\",\"subtype\":\"Figure\",\"type\":\"Plot\"},\"ticker\":{\"id\":\"a144bf43-f37d-4d21-8d84-effc30e0d62f\",\"type\":\"BasicTicker\"}},\"id\":\"5776b35e-90f0-490f-8a0c-7b79bdc527df\",\"type\":\"LinearAxis\"},{\"attributes\":{\"callback\":null,\"data\":{\"x\":[-5.0,5.0],\"y\":[0.0,0.0]},\"selected\":{\"id\":\"d5037dd4-f014-4119-bf8b-e7fe0ded46ea\",\"type\":\"Selection\"},\"selection_policy\":{\"id\":\"1ec7ceff-1d05-4573-b647-543bff2db093\",\"type\":\"UnionRenderers\"}},\"id\":\"edde52c1-469b-441b-a459-fe63016d183f\",\"type\":\"ColumnDataSource\"},{\"attributes\":{},\"id\":\"8ddb7755-d66e-45ca-8040-e9a5ba7d02de\",\"type\":\"UnionRenderers\"},{\"attributes\":{},\"id\":\"74889be0-01be-4df0-9b76-036e6a89e455\",\"type\":\"UnionRenderers\"},{\"attributes\":{},\"id\":\"7d6d87af-e13f-4029-a9fb-2d8ae500f1c0\",\"type\":\"Selection\"},{\"attributes\":{},\"id\":\"427cd4f5-2958-463d-a7a2-12695e38d7cc\",\"type\":\"LinearScale\"},{\"attributes\":{\"callback\":null,\"data\":{\"x\":[0.0,0.0],\"y\":[-5.0,5.0]},\"selected\":{\"id\":\"10a9793d-0a0a-4c06-9916-d7046ffbda26\",\"type\":\"Selection\"},\"selection_policy\":{\"id\":\"8ddb7755-d66e-45ca-8040-e9a5ba7d02de\",\"type\":\"UnionRenderers\"}},\"id\":\"e2b952d3-329f-4d5e-a867-af2c3450f026\",\"type\":\"ColumnDataSource\"},{\"attributes\":{\"line_width\":1.5,\"x\":{\"field\":\"x\"},\"y\":{\"field\":\"y\"}},\"id\":\"abcd5403-da17-4f12-9b57-75d2c092aaa9\",\"type\":\"Line\"},{\"attributes\":{},\"id\":\"d5037dd4-f014-4119-bf8b-e7fe0ded46ea\",\"type\":\"Selection\"},{\"attributes\":{},\"id\":\"d6280eb4-80b0-40d5-9696-3c689e71da1a\",\"type\":\"BasicTicker\"},{\"attributes\":{\"dimension\":1,\"plot\":{\"id\":\"2416e59c-127c-4e3a-84a2-f2f0c5feb230\",\"subtype\":\"Figure\",\"type\":\"Plot\"},\"ticker\":{\"id\":\"a144bf43-f37d-4d21-8d84-effc30e0d62f\",\"type\":\"BasicTicker\"}},\"id\":\"0fe76fa1-2208-44c4-882b-81b35f886732\",\"type\":\"Grid\"},{\"attributes\":{\"plot\":{\"id\":\"2416e59c-127c-4e3a-84a2-f2f0c5feb230\",\"subtype\":\"Figure\",\"type\":\"Plot\"},\"ticker\":{\"id\":\"d6280eb4-80b0-40d5-9696-3c689e71da1a\",\"type\":\"BasicTicker\"}},\"id\":\"6db27db5-f947-41b7-aa49-9d38f4b4d1de\",\"type\":\"Grid\"},{\"attributes\":{\"below\":[{\"id\":\"636c5974-4222-49e8-bd65-f65e1dd06017\",\"type\":\"LinearAxis\"}],\"left\":[{\"id\":\"5776b35e-90f0-490f-8a0c-7b79bdc527df\",\"type\":\"LinearAxis\"}],\"plot_height\":400,\"plot_width\":400,\"renderers\":[{\"id\":\"636c5974-4222-49e8-bd65-f65e1dd06017\",\"type\":\"LinearAxis\"},{\"id\":\"6db27db5-f947-41b7-aa49-9d38f4b4d1de\",\"type\":\"Grid\"},{\"id\":\"5776b35e-90f0-490f-8a0c-7b79bdc527df\",\"type\":\"LinearAxis\"},{\"id\":\"0fe76fa1-2208-44c4-882b-81b35f886732\",\"type\":\"Grid\"},{\"id\":\"dc8db31e-b4b4-49de-84cc-a814ff2d0b37\",\"type\":\"GlyphRenderer\"},{\"id\":\"4a9a1097-ebb0-4aaf-b34c-77a8c725d051\",\"type\":\"GlyphRenderer\"},{\"id\":\"1397c324-a97d-4ed3-8a75-688c5de1ec7f\",\"type\":\"Arrow\"},{\"id\":\"b45e634c-9cd3-45b0-8aa4-6f7b277bf44b\",\"type\":\"GlyphRenderer\"},{\"id\":\"e21eca8e-3544-48ef-9521-8b97fc707f36\",\"type\":\"Arrow\"},{\"id\":\"88625fcc-6183-47ee-86eb-81a594229e74\",\"type\":\"GlyphRenderer\"}],\"title\":{\"id\":\"e9f0bff9-fe2c-4516-96e0-d243591c2229\",\"type\":\"Title\"},\"toolbar\":{\"id\":\"d22f1a74-6115-4f16-a089-38fb1e0f3477\",\"type\":\"Toolbar\"},\"x_range\":{\"id\":\"64585ff3-91f3-4bca-8989-5124c4418fcf\",\"type\":\"Range1d\"},\"x_scale\":{\"id\":\"427cd4f5-2958-463d-a7a2-12695e38d7cc\",\"type\":\"LinearScale\"},\"y_range\":{\"id\":\"37fc2337-e1e3-4766-a74a-0cf77ab1f518\",\"type\":\"Range1d\"},\"y_scale\":{\"id\":\"f8ab9104-2b1e-4651-b25a-7263846f0f14\",\"type\":\"LinearScale\"}},\"id\":\"2416e59c-127c-4e3a-84a2-f2f0c5feb230\",\"subtype\":\"Figure\",\"type\":\"Plot\"},{\"attributes\":{\"active_drag\":\"auto\",\"active_inspect\":\"auto\",\"active_multi\":null,\"active_scroll\":\"auto\",\"active_tap\":\"auto\",\"tools\":[{\"id\":\"cfac03e7-3d2d-477c-83aa-e590b1d309ad\",\"type\":\"WheelZoomTool\"},{\"id\":\"9832f9ce-6ecf-4618-aae4-2fd05a4a591d\",\"type\":\"PanTool\"},{\"id\":\"522532d5-7151-4d45-bd71-b74fa48ecd11\",\"type\":\"ResetTool\"}]},\"id\":\"d22f1a74-6115-4f16-a089-38fb1e0f3477\",\"type\":\"Toolbar\"},{\"attributes\":{\"callback\":null,\"end\":3.5,\"start\":-3.5},\"id\":\"37fc2337-e1e3-4766-a74a-0cf77ab1f518\",\"type\":\"Range1d\"},{\"attributes\":{},\"id\":\"e22cf282-bf8b-4b69-8a5d-5d0eb3a5c3ec\",\"type\":\"BasicTickFormatter\"},{\"attributes\":{},\"id\":\"f8ab9104-2b1e-4651-b25a-7263846f0f14\",\"type\":\"LinearScale\"},{\"attributes\":{\"line_width\":1.5,\"x\":{\"field\":\"x\"},\"y\":{\"field\":\"y\"}},\"id\":\"b421937f-73dd-4da6-96aa-3dcec664aeb0\",\"type\":\"Line\"},{\"attributes\":{\"data_source\":{\"id\":\"1c3ce67d-a1dc-45db-b308-c8c41a874e36\",\"type\":\"ColumnDataSource\"},\"glyph\":{\"id\":\"cd479955-ad75-4d6f-8bd6-83a7c7028c92\",\"type\":\"Circle\"},\"hover_glyph\":null,\"muted_glyph\":null,\"nonselection_glyph\":{\"id\":\"25c2c586-c9f5-426e-b57d-cf2ed6fd04df\",\"type\":\"Circle\"},\"selection_glyph\":null,\"view\":{\"id\":\"fd104712-6450-4db5-902e-37101a47dfd9\",\"type\":\"CDSView\"}},\"id\":\"b45e634c-9cd3-45b0-8aa4-6f7b277bf44b\",\"type\":\"GlyphRenderer\"},{\"attributes\":{\"end\":{\"id\":\"31625943-a52a-40fd-bef3-1809a39707aa\",\"type\":\"NormalHead\"},\"line_alpha\":{\"value\":0.3},\"line_color\":{\"value\":\"red\"},\"line_width\":{\"value\":3},\"plot\":{\"id\":\"2416e59c-127c-4e3a-84a2-f2f0c5feb230\",\"subtype\":\"Figure\",\"type\":\"Plot\"},\"source\":null,\"start\":null,\"x_end\":{\"value\":1.9749788888888886},\"x_start\":{\"value\":0.0},\"y_end\":{\"value\":0.2074577777777779},\"y_start\":{\"value\":0.0}},\"id\":\"1397c324-a97d-4ed3-8a75-688c5de1ec7f\",\"type\":\"Arrow\"},{\"attributes\":{},\"id\":\"a144bf43-f37d-4d21-8d84-effc30e0d62f\",\"type\":\"BasicTicker\"},{\"attributes\":{\"data_source\":{\"id\":\"f09c75fd-83a3-494c-9197-df1bfd4cb1fd\",\"type\":\"ColumnDataSource\"},\"glyph\":{\"id\":\"6c749c41-76b9-4b65-9226-a5875fa14f38\",\"type\":\"Circle\"},\"hover_glyph\":null,\"muted_glyph\":null,\"nonselection_glyph\":{\"id\":\"2ee6cb4f-96c2-497e-a0d9-f4ba3edb262b\",\"type\":\"Circle\"},\"selection_glyph\":null,\"view\":{\"id\":\"f9c8e9b6-5242-4c0e-ae1f-0660c180d9b2\",\"type\":\"CDSView\"}},\"id\":\"88625fcc-6183-47ee-86eb-81a594229e74\",\"type\":\"GlyphRenderer\"},{\"attributes\":{\"fill_color\":{\"value\":\"red\"},\"line_color\":{\"value\":\"red\"},\"x\":{\"value\":0.2074577777777779},\"y\":{\"value\":1.3707155555555561}},\"id\":\"6c749c41-76b9-4b65-9226-a5875fa14f38\",\"type\":\"Circle\"},{\"attributes\":{\"formatter\":{\"id\":\"5a2e3ebc-dc88-4ccb-a7c3-e3df14bec31e\",\"type\":\"BasicTickFormatter\"},\"plot\":{\"id\":\"2416e59c-127c-4e3a-84a2-f2f0c5feb230\",\"subtype\":\"Figure\",\"type\":\"Plot\"},\"ticker\":{\"id\":\"d6280eb4-80b0-40d5-9696-3c689e71da1a\",\"type\":\"BasicTicker\"}},\"id\":\"636c5974-4222-49e8-bd65-f65e1dd06017\",\"type\":\"LinearAxis\"},{\"attributes\":{\"callback\":null,\"data\":{},\"selected\":{\"id\":\"ac782637-665a-4c9d-a08d-c3bd820006f1\",\"type\":\"Selection\"},\"selection_policy\":{\"id\":\"74889be0-01be-4df0-9b76-036e6a89e455\",\"type\":\"UnionRenderers\"}},\"id\":\"f09c75fd-83a3-494c-9197-df1bfd4cb1fd\",\"type\":\"ColumnDataSource\"},{\"attributes\":{},\"id\":\"cfac03e7-3d2d-477c-83aa-e590b1d309ad\",\"type\":\"WheelZoomTool\"},{\"attributes\":{\"source\":{\"id\":\"edde52c1-469b-441b-a459-fe63016d183f\",\"type\":\"ColumnDataSource\"}},\"id\":\"1a7250ad-c0c3-47bf-b30c-140c30aa7ee7\",\"type\":\"CDSView\"},{\"attributes\":{\"data_source\":{\"id\":\"edde52c1-469b-441b-a459-fe63016d183f\",\"type\":\"ColumnDataSource\"},\"glyph\":{\"id\":\"abcd5403-da17-4f12-9b57-75d2c092aaa9\",\"type\":\"Line\"},\"hover_glyph\":null,\"muted_glyph\":null,\"nonselection_glyph\":{\"id\":\"6fa5ed6c-6ba1-41fd-9201-a99609bb096b\",\"type\":\"Line\"},\"selection_glyph\":null,\"view\":{\"id\":\"1a7250ad-c0c3-47bf-b30c-140c30aa7ee7\",\"type\":\"CDSView\"}},\"id\":\"dc8db31e-b4b4-49de-84cc-a814ff2d0b37\",\"type\":\"GlyphRenderer\"},{\"attributes\":{\"end\":{\"id\":\"ca3fa10f-bfe3-4d00-88d6-1804370b483a\",\"type\":\"NormalHead\"},\"line_alpha\":{\"value\":0.3},\"line_color\":{\"value\":\"red\"},\"line_width\":{\"value\":3},\"plot\":{\"id\":\"2416e59c-127c-4e3a-84a2-f2f0c5feb230\",\"subtype\":\"Figure\",\"type\":\"Plot\"},\"source\":null,\"start\":null,\"x_end\":{\"value\":0.2074577777777779},\"x_start\":{\"value\":0.0},\"y_end\":{\"value\":1.3707155555555561},\"y_start\":{\"value\":0.0}},\"id\":\"e21eca8e-3544-48ef-9521-8b97fc707f36\",\"type\":\"Arrow\"},{\"attributes\":{\"source\":{\"id\":\"1c3ce67d-a1dc-45db-b308-c8c41a874e36\",\"type\":\"ColumnDataSource\"}},\"id\":\"fd104712-6450-4db5-902e-37101a47dfd9\",\"type\":\"CDSView\"},{\"attributes\":{},\"id\":\"9832f9ce-6ecf-4618-aae4-2fd05a4a591d\",\"type\":\"PanTool\"},{\"attributes\":{\"plot\":null,\"text\":\"\"},\"id\":\"e9f0bff9-fe2c-4516-96e0-d243591c2229\",\"type\":\"Title\"},{\"attributes\":{},\"id\":\"522532d5-7151-4d45-bd71-b74fa48ecd11\",\"type\":\"ResetTool\"},{\"attributes\":{\"line_alpha\":0.1,\"line_color\":\"#1f77b4\",\"line_width\":1.5,\"x\":{\"field\":\"x\"},\"y\":{\"field\":\"y\"}},\"id\":\"6fa5ed6c-6ba1-41fd-9201-a99609bb096b\",\"type\":\"Line\"},{\"attributes\":{\"callback\":null,\"end\":3.5,\"start\":-3.5},\"id\":\"64585ff3-91f3-4bca-8989-5124c4418fcf\",\"type\":\"Range1d\"},{\"attributes\":{\"data_source\":{\"id\":\"e2b952d3-329f-4d5e-a867-af2c3450f026\",\"type\":\"ColumnDataSource\"},\"glyph\":{\"id\":\"b421937f-73dd-4da6-96aa-3dcec664aeb0\",\"type\":\"Line\"},\"hover_glyph\":null,\"muted_glyph\":null,\"nonselection_glyph\":{\"id\":\"1608facc-0ade-4c99-a7fb-df45f36e7399\",\"type\":\"Line\"},\"selection_glyph\":null,\"view\":{\"id\":\"a7bad602-bdc0-4a8c-a94a-04b159942c69\",\"type\":\"CDSView\"}},\"id\":\"4a9a1097-ebb0-4aaf-b34c-77a8c725d051\",\"type\":\"GlyphRenderer\"},{\"attributes\":{},\"id\":\"dc10f53d-6a40-43b0-b5a6-90667ee97ee7\",\"type\":\"UnionRenderers\"},{\"attributes\":{},\"id\":\"5a2e3ebc-dc88-4ccb-a7c3-e3df14bec31e\",\"type\":\"BasicTickFormatter\"},{\"attributes\":{\"line_alpha\":0.1,\"line_color\":\"#1f77b4\",\"line_width\":1.5,\"x\":{\"field\":\"x\"},\"y\":{\"field\":\"y\"}},\"id\":\"1608facc-0ade-4c99-a7fb-df45f36e7399\",\"type\":\"Line\"},{\"attributes\":{\"fill_alpha\":{\"value\":0.1},\"fill_color\":{\"value\":\"#1f77b4\"},\"line_alpha\":{\"value\":0.1},\"line_color\":{\"value\":\"#1f77b4\"},\"x\":{\"value\":1.9749788888888886},\"y\":{\"value\":0.2074577777777779}},\"id\":\"25c2c586-c9f5-426e-b57d-cf2ed6fd04df\",\"type\":\"Circle\"},{\"attributes\":{\"source\":{\"id\":\"f09c75fd-83a3-494c-9197-df1bfd4cb1fd\",\"type\":\"ColumnDataSource\"}},\"id\":\"f9c8e9b6-5242-4c0e-ae1f-0660c180d9b2\",\"type\":\"CDSView\"},{\"attributes\":{},\"id\":\"1ec7ceff-1d05-4573-b647-543bff2db093\",\"type\":\"UnionRenderers\"},{\"attributes\":{\"fill_alpha\":{\"value\":0.3},\"fill_color\":{\"value\":\"red\"},\"line_alpha\":{\"value\":0.3},\"line_color\":{\"value\":\"red\"},\"plot\":null,\"size\":10},\"id\":\"ca3fa10f-bfe3-4d00-88d6-1804370b483a\",\"type\":\"NormalHead\"},{\"attributes\":{},\"id\":\"10a9793d-0a0a-4c06-9916-d7046ffbda26\",\"type\":\"Selection\"},{\"attributes\":{\"callback\":null,\"data\":{},\"selected\":{\"id\":\"7d6d87af-e13f-4029-a9fb-2d8ae500f1c0\",\"type\":\"Selection\"},\"selection_policy\":{\"id\":\"dc10f53d-6a40-43b0-b5a6-90667ee97ee7\",\"type\":\"UnionRenderers\"}},\"id\":\"1c3ce67d-a1dc-45db-b308-c8c41a874e36\",\"type\":\"ColumnDataSource\"},{\"attributes\":{\"fill_alpha\":{\"value\":0.1},\"fill_color\":{\"value\":\"#1f77b4\"},\"line_alpha\":{\"value\":0.1},\"line_color\":{\"value\":\"#1f77b4\"},\"x\":{\"value\":0.2074577777777779},\"y\":{\"value\":1.3707155555555561}},\"id\":\"2ee6cb4f-96c2-497e-a0d9-f4ba3edb262b\",\"type\":\"Circle\"},{\"attributes\":{\"source\":{\"id\":\"e2b952d3-329f-4d5e-a867-af2c3450f026\",\"type\":\"ColumnDataSource\"}},\"id\":\"a7bad602-bdc0-4a8c-a94a-04b159942c69\",\"type\":\"CDSView\"},{\"attributes\":{\"fill_color\":{\"value\":\"red\"},\"line_color\":{\"value\":\"red\"},\"x\":{\"value\":1.9749788888888886},\"y\":{\"value\":0.2074577777777779}},\"id\":\"cd479955-ad75-4d6f-8bd6-83a7c7028c92\",\"type\":\"Circle\"},{\"attributes\":{\"fill_alpha\":{\"value\":0.3},\"fill_color\":{\"value\":\"red\"},\"line_alpha\":{\"value\":0.3},\"line_color\":{\"value\":\"red\"},\"plot\":null,\"size\":10},\"id\":\"31625943-a52a-40fd-bef3-1809a39707aa\",\"type\":\"NormalHead\"}],\"root_ids\":[\"2416e59c-127c-4e3a-84a2-f2f0c5feb230\"]},\"title\":\"Bokeh Application\",\"version\":\"0.13.0\"}};\n",
       "  var render_items = [{\"docid\":\"efaf443f-36a0-48b9-883b-d66a83969e7e\",\"roots\":{\"2416e59c-127c-4e3a-84a2-f2f0c5feb230\":\"6098fd21-20d2-4459-80c2-4db0bfa8417f\"}}];\n",
       "  root.Bokeh.embed.embed_items_notebook(docs_json, render_items);\n",
       "\n",
       "  }\n",
       "  if (root.Bokeh !== undefined) {\n",
       "    embed_document(root);\n",
       "  } else {\n",
       "    var attempts = 0;\n",
       "    var timer = setInterval(function(root) {\n",
       "      if (root.Bokeh !== undefined) {\n",
       "        embed_document(root);\n",
       "        clearInterval(timer);\n",
       "      }\n",
       "      attempts++;\n",
       "      if (attempts > 100) {\n",
       "        console.log(\"Bokeh: ERROR: Unable to run BokehJS code because BokehJS library is missing\")\n",
       "        clearInterval(timer);\n",
       "      }\n",
       "    }, 10, root)\n",
       "  }\n",
       "})(window);"
      ],
      "application/vnd.bokehjs_exec.v0+json": ""
     },
     "metadata": {
      "application/vnd.bokehjs_exec.v0+json": {
       "id": "2416e59c-127c-4e3a-84a2-f2f0c5feb230"
      }
     },
     "output_type": "display_data"
    }
   ],
   "source": [
    "plot.clear().graph()\n",
    "plot.vec_w_point(sigma,color=\"red\",alpha=.3)\n",
    "plot.show()"
   ]
  },
  {
   "cell_type": "markdown",
   "metadata": {},
   "source": [
    "The distance in which we move in along the two axes, is the variance of our two variables. This information is captured along the **diagonal axis**."
   ]
  },
  {
   "cell_type": "code",
   "execution_count": 10,
   "metadata": {},
   "outputs": [
    {
     "data": {
      "text/plain": [
       "array([1.97497889, 1.37071556])"
      ]
     },
     "execution_count": 10,
     "metadata": {},
     "output_type": "execute_result"
    }
   ],
   "source": [
    "sigma.diagonal()"
   ]
  },
  {
   "cell_type": "code",
   "execution_count": 11,
   "metadata": {},
   "outputs": [
    {
     "data": {
      "text/html": [
       "\n",
       "\n",
       "\n",
       "\n",
       "\n",
       "\n",
       "  <div class=\"bk-root\" id=\"585a478a-cc05-4ba7-95dc-18f1657b5e82\"></div>\n"
      ]
     },
     "metadata": {},
     "output_type": "display_data"
    },
    {
     "data": {
      "application/javascript": [
       "(function(root) {\n",
       "  function embed_document(root) {\n",
       "    \n",
       "  var docs_json = {\"15aa5ef6-88d7-4de1-acca-ebf0ac08eded\":{\"roots\":{\"references\":[{\"attributes\":{},\"id\":\"ac782637-665a-4c9d-a08d-c3bd820006f1\",\"type\":\"Selection\"},{\"attributes\":{},\"id\":\"74889be0-01be-4df0-9b76-036e6a89e455\",\"type\":\"UnionRenderers\"},{\"attributes\":{},\"id\":\"7d6d87af-e13f-4029-a9fb-2d8ae500f1c0\",\"type\":\"Selection\"},{\"attributes\":{},\"id\":\"d5037dd4-f014-4119-bf8b-e7fe0ded46ea\",\"type\":\"Selection\"},{\"attributes\":{},\"id\":\"4447735c-630d-47ae-a588-bde706f79e69\",\"type\":\"Selection\"},{\"attributes\":{},\"id\":\"e22cf282-bf8b-4b69-8a5d-5d0eb3a5c3ec\",\"type\":\"BasicTickFormatter\"},{\"attributes\":{\"end\":{\"id\":\"f58a5b33-b11a-4498-a6f2-17f636340790\",\"type\":\"NormalHead\"},\"line_width\":{\"value\":3},\"plot\":{\"id\":\"2416e59c-127c-4e3a-84a2-f2f0c5feb230\",\"subtype\":\"Figure\",\"type\":\"Plot\"},\"source\":null,\"start\":null,\"x_end\":{\"value\":1.9749788888888886},\"x_start\":{\"value\":0.0},\"y_end\":{\"value\":0.0},\"y_start\":{\"value\":0.0}},\"id\":\"7eddb639-6548-49bf-9c96-01bb1b6588a0\",\"type\":\"Arrow\"},{\"attributes\":{\"data_source\":{\"id\":\"1c3ce67d-a1dc-45db-b308-c8c41a874e36\",\"type\":\"ColumnDataSource\"},\"glyph\":{\"id\":\"cd479955-ad75-4d6f-8bd6-83a7c7028c92\",\"type\":\"Circle\"},\"hover_glyph\":null,\"muted_glyph\":null,\"nonselection_glyph\":{\"id\":\"25c2c586-c9f5-426e-b57d-cf2ed6fd04df\",\"type\":\"Circle\"},\"selection_glyph\":null,\"view\":{\"id\":\"fd104712-6450-4db5-902e-37101a47dfd9\",\"type\":\"CDSView\"}},\"id\":\"b45e634c-9cd3-45b0-8aa4-6f7b277bf44b\",\"type\":\"GlyphRenderer\"},{\"attributes\":{\"data_source\":{\"id\":\"f09c75fd-83a3-494c-9197-df1bfd4cb1fd\",\"type\":\"ColumnDataSource\"},\"glyph\":{\"id\":\"6c749c41-76b9-4b65-9226-a5875fa14f38\",\"type\":\"Circle\"},\"hover_glyph\":null,\"muted_glyph\":null,\"nonselection_glyph\":{\"id\":\"2ee6cb4f-96c2-497e-a0d9-f4ba3edb262b\",\"type\":\"Circle\"},\"selection_glyph\":null,\"view\":{\"id\":\"f9c8e9b6-5242-4c0e-ae1f-0660c180d9b2\",\"type\":\"CDSView\"}},\"id\":\"88625fcc-6183-47ee-86eb-81a594229e74\",\"type\":\"GlyphRenderer\"},{\"attributes\":{\"fill_color\":{\"value\":\"red\"},\"line_color\":{\"value\":\"red\"},\"x\":{\"value\":0.2074577777777779},\"y\":{\"value\":1.3707155555555561}},\"id\":\"6c749c41-76b9-4b65-9226-a5875fa14f38\",\"type\":\"Circle\"},{\"attributes\":{\"callback\":null,\"data\":{},\"selected\":{\"id\":\"ac782637-665a-4c9d-a08d-c3bd820006f1\",\"type\":\"Selection\"},\"selection_policy\":{\"id\":\"74889be0-01be-4df0-9b76-036e6a89e455\",\"type\":\"UnionRenderers\"}},\"id\":\"f09c75fd-83a3-494c-9197-df1bfd4cb1fd\",\"type\":\"ColumnDataSource\"},{\"attributes\":{\"plot\":null,\"size\":10},\"id\":\"f58a5b33-b11a-4498-a6f2-17f636340790\",\"type\":\"NormalHead\"},{\"attributes\":{\"data_source\":{\"id\":\"a9fea7b0-818d-424c-bd93-d279854b0425\",\"type\":\"ColumnDataSource\"},\"glyph\":{\"id\":\"7fa47ddd-0e79-4802-a439-b0bc061cceee\",\"type\":\"Circle\"},\"hover_glyph\":null,\"muted_glyph\":null,\"nonselection_glyph\":{\"id\":\"fd9f6dd9-f5c4-46ad-9394-246e325c09d5\",\"type\":\"Circle\"},\"selection_glyph\":null,\"view\":{\"id\":\"1eac8184-d3c3-4a5a-a0c7-e6c0c9578e06\",\"type\":\"CDSView\"}},\"id\":\"266cd5ab-6fc0-4b75-9a3c-83d19b70a150\",\"type\":\"GlyphRenderer\"},{\"attributes\":{},\"id\":\"8be7c483-e517-432d-bd45-45eb5ab27337\",\"type\":\"UnionRenderers\"},{\"attributes\":{\"end\":{\"id\":\"ca3fa10f-bfe3-4d00-88d6-1804370b483a\",\"type\":\"NormalHead\"},\"line_alpha\":{\"value\":0.3},\"line_color\":{\"value\":\"red\"},\"line_width\":{\"value\":3},\"plot\":{\"id\":\"2416e59c-127c-4e3a-84a2-f2f0c5feb230\",\"subtype\":\"Figure\",\"type\":\"Plot\"},\"source\":null,\"start\":null,\"x_end\":{\"value\":0.2074577777777779},\"x_start\":{\"value\":0.0},\"y_end\":{\"value\":1.3707155555555561},\"y_start\":{\"value\":0.0}},\"id\":\"e21eca8e-3544-48ef-9521-8b97fc707f36\",\"type\":\"Arrow\"},{\"attributes\":{\"callback\":null,\"data\":{},\"selected\":{\"id\":\"7c17e677-a824-4408-9982-60ad64426a32\",\"type\":\"Selection\"},\"selection_policy\":{\"id\":\"8be7c483-e517-432d-bd45-45eb5ab27337\",\"type\":\"UnionRenderers\"}},\"id\":\"deec8ce0-87ac-4bcb-b00b-642701b3b9d6\",\"type\":\"ColumnDataSource\"},{\"attributes\":{\"source\":{\"id\":\"e2b952d3-329f-4d5e-a867-af2c3450f026\",\"type\":\"ColumnDataSource\"}},\"id\":\"a7bad602-bdc0-4a8c-a94a-04b159942c69\",\"type\":\"CDSView\"},{\"attributes\":{\"source\":{\"id\":\"a9fea7b0-818d-424c-bd93-d279854b0425\",\"type\":\"ColumnDataSource\"}},\"id\":\"1eac8184-d3c3-4a5a-a0c7-e6c0c9578e06\",\"type\":\"CDSView\"},{\"attributes\":{\"fill_alpha\":{\"value\":0.1},\"fill_color\":{\"value\":\"#1f77b4\"},\"line_alpha\":{\"value\":0.1},\"line_color\":{\"value\":\"#1f77b4\"},\"x\":{\"value\":1.9749788888888886},\"y\":{\"value\":0.0}},\"id\":\"fd9f6dd9-f5c4-46ad-9394-246e325c09d5\",\"type\":\"Circle\"},{\"attributes\":{\"callback\":null,\"end\":3.5,\"start\":-3.5},\"id\":\"64585ff3-91f3-4bca-8989-5124c4418fcf\",\"type\":\"Range1d\"},{\"attributes\":{},\"id\":\"dc10f53d-6a40-43b0-b5a6-90667ee97ee7\",\"type\":\"UnionRenderers\"},{\"attributes\":{},\"id\":\"5a2e3ebc-dc88-4ccb-a7c3-e3df14bec31e\",\"type\":\"BasicTickFormatter\"},{\"attributes\":{\"source\":{\"id\":\"f09c75fd-83a3-494c-9197-df1bfd4cb1fd\",\"type\":\"ColumnDataSource\"}},\"id\":\"f9c8e9b6-5242-4c0e-ae1f-0660c180d9b2\",\"type\":\"CDSView\"},{\"attributes\":{\"fill_color\":{\"value\":\"black\"},\"x\":{\"value\":1.9749788888888886},\"y\":{\"value\":0.0}},\"id\":\"7fa47ddd-0e79-4802-a439-b0bc061cceee\",\"type\":\"Circle\"},{\"attributes\":{},\"id\":\"1ec7ceff-1d05-4573-b647-543bff2db093\",\"type\":\"UnionRenderers\"},{\"attributes\":{},\"id\":\"10a9793d-0a0a-4c06-9916-d7046ffbda26\",\"type\":\"Selection\"},{\"attributes\":{\"fill_alpha\":{\"value\":0.1},\"fill_color\":{\"value\":\"#1f77b4\"},\"line_alpha\":{\"value\":0.1},\"line_color\":{\"value\":\"#1f77b4\"},\"x\":{\"value\":0.2074577777777779},\"y\":{\"value\":1.3707155555555561}},\"id\":\"2ee6cb4f-96c2-497e-a0d9-f4ba3edb262b\",\"type\":\"Circle\"},{\"attributes\":{\"source\":{\"id\":\"deec8ce0-87ac-4bcb-b00b-642701b3b9d6\",\"type\":\"ColumnDataSource\"}},\"id\":\"c73a8e1d-8d3a-41c8-b672-b8078ab8fa67\",\"type\":\"CDSView\"},{\"attributes\":{\"fill_alpha\":{\"value\":0.3},\"fill_color\":{\"value\":\"red\"},\"line_alpha\":{\"value\":0.3},\"line_color\":{\"value\":\"red\"},\"plot\":null,\"size\":10},\"id\":\"31625943-a52a-40fd-bef3-1809a39707aa\",\"type\":\"NormalHead\"},{\"attributes\":{\"data_source\":{\"id\":\"deec8ce0-87ac-4bcb-b00b-642701b3b9d6\",\"type\":\"ColumnDataSource\"},\"glyph\":{\"id\":\"2943ef18-fe7d-4e1a-9e01-f84e5eff5295\",\"type\":\"Circle\"},\"hover_glyph\":null,\"muted_glyph\":null,\"nonselection_glyph\":{\"id\":\"eadc06bc-c99c-4ec8-97ab-7df452e2e86a\",\"type\":\"Circle\"},\"selection_glyph\":null,\"view\":{\"id\":\"c73a8e1d-8d3a-41c8-b672-b8078ab8fa67\",\"type\":\"CDSView\"}},\"id\":\"e97017a0-c6f7-4e8e-90e9-dae3f312e038\",\"type\":\"GlyphRenderer\"},{\"attributes\":{\"fill_alpha\":{\"value\":0.1},\"fill_color\":{\"value\":\"#1f77b4\"},\"line_alpha\":{\"value\":0.1},\"line_color\":{\"value\":\"#1f77b4\"},\"x\":{\"value\":0.0},\"y\":{\"value\":1.3707155555555561}},\"id\":\"eadc06bc-c99c-4ec8-97ab-7df452e2e86a\",\"type\":\"Circle\"},{\"attributes\":{\"formatter\":{\"id\":\"e22cf282-bf8b-4b69-8a5d-5d0eb3a5c3ec\",\"type\":\"BasicTickFormatter\"},\"plot\":{\"id\":\"2416e59c-127c-4e3a-84a2-f2f0c5feb230\",\"subtype\":\"Figure\",\"type\":\"Plot\"},\"ticker\":{\"id\":\"a144bf43-f37d-4d21-8d84-effc30e0d62f\",\"type\":\"BasicTicker\"}},\"id\":\"5776b35e-90f0-490f-8a0c-7b79bdc527df\",\"type\":\"LinearAxis\"},{\"attributes\":{\"fill_color\":{\"value\":\"black\"},\"x\":{\"value\":0.0},\"y\":{\"value\":1.3707155555555561}},\"id\":\"2943ef18-fe7d-4e1a-9e01-f84e5eff5295\",\"type\":\"Circle\"},{\"attributes\":{\"callback\":null,\"data\":{\"x\":[-5.0,5.0],\"y\":[0.0,0.0]},\"selected\":{\"id\":\"d5037dd4-f014-4119-bf8b-e7fe0ded46ea\",\"type\":\"Selection\"},\"selection_policy\":{\"id\":\"1ec7ceff-1d05-4573-b647-543bff2db093\",\"type\":\"UnionRenderers\"}},\"id\":\"edde52c1-469b-441b-a459-fe63016d183f\",\"type\":\"ColumnDataSource\"},{\"attributes\":{},\"id\":\"8ddb7755-d66e-45ca-8040-e9a5ba7d02de\",\"type\":\"UnionRenderers\"},{\"attributes\":{},\"id\":\"7c17e677-a824-4408-9982-60ad64426a32\",\"type\":\"Selection\"},{\"attributes\":{\"end\":{\"id\":\"ce5d5753-43f6-4d49-b6c5-ca46f75e77c1\",\"type\":\"NormalHead\"},\"line_width\":{\"value\":3},\"plot\":{\"id\":\"2416e59c-127c-4e3a-84a2-f2f0c5feb230\",\"subtype\":\"Figure\",\"type\":\"Plot\"},\"source\":null,\"start\":null,\"x_end\":{\"value\":0.0},\"x_start\":{\"value\":0.0},\"y_end\":{\"value\":1.3707155555555561},\"y_start\":{\"value\":0.0}},\"id\":\"022f471f-287d-46f1-ba2d-b4c2c1ea0073\",\"type\":\"Arrow\"},{\"attributes\":{},\"id\":\"427cd4f5-2958-463d-a7a2-12695e38d7cc\",\"type\":\"LinearScale\"},{\"attributes\":{\"callback\":null,\"data\":{\"x\":[0.0,0.0],\"y\":[-5.0,5.0]},\"selected\":{\"id\":\"10a9793d-0a0a-4c06-9916-d7046ffbda26\",\"type\":\"Selection\"},\"selection_policy\":{\"id\":\"8ddb7755-d66e-45ca-8040-e9a5ba7d02de\",\"type\":\"UnionRenderers\"}},\"id\":\"e2b952d3-329f-4d5e-a867-af2c3450f026\",\"type\":\"ColumnDataSource\"},{\"attributes\":{},\"id\":\"a1574347-fb7a-419c-9df7-b130f572580d\",\"type\":\"UnionRenderers\"},{\"attributes\":{\"line_width\":1.5,\"x\":{\"field\":\"x\"},\"y\":{\"field\":\"y\"}},\"id\":\"abcd5403-da17-4f12-9b57-75d2c092aaa9\",\"type\":\"Line\"},{\"attributes\":{},\"id\":\"d6280eb4-80b0-40d5-9696-3c689e71da1a\",\"type\":\"BasicTicker\"},{\"attributes\":{\"dimension\":1,\"plot\":{\"id\":\"2416e59c-127c-4e3a-84a2-f2f0c5feb230\",\"subtype\":\"Figure\",\"type\":\"Plot\"},\"ticker\":{\"id\":\"a144bf43-f37d-4d21-8d84-effc30e0d62f\",\"type\":\"BasicTicker\"}},\"id\":\"0fe76fa1-2208-44c4-882b-81b35f886732\",\"type\":\"Grid\"},{\"attributes\":{\"plot\":{\"id\":\"2416e59c-127c-4e3a-84a2-f2f0c5feb230\",\"subtype\":\"Figure\",\"type\":\"Plot\"},\"ticker\":{\"id\":\"d6280eb4-80b0-40d5-9696-3c689e71da1a\",\"type\":\"BasicTicker\"}},\"id\":\"6db27db5-f947-41b7-aa49-9d38f4b4d1de\",\"type\":\"Grid\"},{\"attributes\":{\"below\":[{\"id\":\"636c5974-4222-49e8-bd65-f65e1dd06017\",\"type\":\"LinearAxis\"}],\"left\":[{\"id\":\"5776b35e-90f0-490f-8a0c-7b79bdc527df\",\"type\":\"LinearAxis\"}],\"plot_height\":400,\"plot_width\":400,\"renderers\":[{\"id\":\"636c5974-4222-49e8-bd65-f65e1dd06017\",\"type\":\"LinearAxis\"},{\"id\":\"6db27db5-f947-41b7-aa49-9d38f4b4d1de\",\"type\":\"Grid\"},{\"id\":\"5776b35e-90f0-490f-8a0c-7b79bdc527df\",\"type\":\"LinearAxis\"},{\"id\":\"0fe76fa1-2208-44c4-882b-81b35f886732\",\"type\":\"Grid\"},{\"id\":\"dc8db31e-b4b4-49de-84cc-a814ff2d0b37\",\"type\":\"GlyphRenderer\"},{\"id\":\"4a9a1097-ebb0-4aaf-b34c-77a8c725d051\",\"type\":\"GlyphRenderer\"},{\"id\":\"1397c324-a97d-4ed3-8a75-688c5de1ec7f\",\"type\":\"Arrow\"},{\"id\":\"b45e634c-9cd3-45b0-8aa4-6f7b277bf44b\",\"type\":\"GlyphRenderer\"},{\"id\":\"e21eca8e-3544-48ef-9521-8b97fc707f36\",\"type\":\"Arrow\"},{\"id\":\"88625fcc-6183-47ee-86eb-81a594229e74\",\"type\":\"GlyphRenderer\"},{\"id\":\"7eddb639-6548-49bf-9c96-01bb1b6588a0\",\"type\":\"Arrow\"},{\"id\":\"266cd5ab-6fc0-4b75-9a3c-83d19b70a150\",\"type\":\"GlyphRenderer\"},{\"id\":\"022f471f-287d-46f1-ba2d-b4c2c1ea0073\",\"type\":\"Arrow\"},{\"id\":\"e97017a0-c6f7-4e8e-90e9-dae3f312e038\",\"type\":\"GlyphRenderer\"}],\"title\":{\"id\":\"e9f0bff9-fe2c-4516-96e0-d243591c2229\",\"type\":\"Title\"},\"toolbar\":{\"id\":\"d22f1a74-6115-4f16-a089-38fb1e0f3477\",\"type\":\"Toolbar\"},\"x_range\":{\"id\":\"64585ff3-91f3-4bca-8989-5124c4418fcf\",\"type\":\"Range1d\"},\"x_scale\":{\"id\":\"427cd4f5-2958-463d-a7a2-12695e38d7cc\",\"type\":\"LinearScale\"},\"y_range\":{\"id\":\"37fc2337-e1e3-4766-a74a-0cf77ab1f518\",\"type\":\"Range1d\"},\"y_scale\":{\"id\":\"f8ab9104-2b1e-4651-b25a-7263846f0f14\",\"type\":\"LinearScale\"}},\"id\":\"2416e59c-127c-4e3a-84a2-f2f0c5feb230\",\"subtype\":\"Figure\",\"type\":\"Plot\"},{\"attributes\":{\"active_drag\":\"auto\",\"active_inspect\":\"auto\",\"active_multi\":null,\"active_scroll\":\"auto\",\"active_tap\":\"auto\",\"tools\":[{\"id\":\"cfac03e7-3d2d-477c-83aa-e590b1d309ad\",\"type\":\"WheelZoomTool\"},{\"id\":\"9832f9ce-6ecf-4618-aae4-2fd05a4a591d\",\"type\":\"PanTool\"},{\"id\":\"522532d5-7151-4d45-bd71-b74fa48ecd11\",\"type\":\"ResetTool\"}]},\"id\":\"d22f1a74-6115-4f16-a089-38fb1e0f3477\",\"type\":\"Toolbar\"},{\"attributes\":{\"callback\":null,\"end\":3.5,\"start\":-3.5},\"id\":\"37fc2337-e1e3-4766-a74a-0cf77ab1f518\",\"type\":\"Range1d\"},{\"attributes\":{},\"id\":\"f8ab9104-2b1e-4651-b25a-7263846f0f14\",\"type\":\"LinearScale\"},{\"attributes\":{\"line_width\":1.5,\"x\":{\"field\":\"x\"},\"y\":{\"field\":\"y\"}},\"id\":\"b421937f-73dd-4da6-96aa-3dcec664aeb0\",\"type\":\"Line\"},{\"attributes\":{\"end\":{\"id\":\"31625943-a52a-40fd-bef3-1809a39707aa\",\"type\":\"NormalHead\"},\"line_alpha\":{\"value\":0.3},\"line_color\":{\"value\":\"red\"},\"line_width\":{\"value\":3},\"plot\":{\"id\":\"2416e59c-127c-4e3a-84a2-f2f0c5feb230\",\"subtype\":\"Figure\",\"type\":\"Plot\"},\"source\":null,\"start\":null,\"x_end\":{\"value\":1.9749788888888886},\"x_start\":{\"value\":0.0},\"y_end\":{\"value\":0.2074577777777779},\"y_start\":{\"value\":0.0}},\"id\":\"1397c324-a97d-4ed3-8a75-688c5de1ec7f\",\"type\":\"Arrow\"},{\"attributes\":{},\"id\":\"a144bf43-f37d-4d21-8d84-effc30e0d62f\",\"type\":\"BasicTicker\"},{\"attributes\":{\"formatter\":{\"id\":\"5a2e3ebc-dc88-4ccb-a7c3-e3df14bec31e\",\"type\":\"BasicTickFormatter\"},\"plot\":{\"id\":\"2416e59c-127c-4e3a-84a2-f2f0c5feb230\",\"subtype\":\"Figure\",\"type\":\"Plot\"},\"ticker\":{\"id\":\"d6280eb4-80b0-40d5-9696-3c689e71da1a\",\"type\":\"BasicTicker\"}},\"id\":\"636c5974-4222-49e8-bd65-f65e1dd06017\",\"type\":\"LinearAxis\"},{\"attributes\":{},\"id\":\"cfac03e7-3d2d-477c-83aa-e590b1d309ad\",\"type\":\"WheelZoomTool\"},{\"attributes\":{\"source\":{\"id\":\"edde52c1-469b-441b-a459-fe63016d183f\",\"type\":\"ColumnDataSource\"}},\"id\":\"1a7250ad-c0c3-47bf-b30c-140c30aa7ee7\",\"type\":\"CDSView\"},{\"attributes\":{\"data_source\":{\"id\":\"edde52c1-469b-441b-a459-fe63016d183f\",\"type\":\"ColumnDataSource\"},\"glyph\":{\"id\":\"abcd5403-da17-4f12-9b57-75d2c092aaa9\",\"type\":\"Line\"},\"hover_glyph\":null,\"muted_glyph\":null,\"nonselection_glyph\":{\"id\":\"6fa5ed6c-6ba1-41fd-9201-a99609bb096b\",\"type\":\"Line\"},\"selection_glyph\":null,\"view\":{\"id\":\"1a7250ad-c0c3-47bf-b30c-140c30aa7ee7\",\"type\":\"CDSView\"}},\"id\":\"dc8db31e-b4b4-49de-84cc-a814ff2d0b37\",\"type\":\"GlyphRenderer\"},{\"attributes\":{\"source\":{\"id\":\"1c3ce67d-a1dc-45db-b308-c8c41a874e36\",\"type\":\"ColumnDataSource\"}},\"id\":\"fd104712-6450-4db5-902e-37101a47dfd9\",\"type\":\"CDSView\"},{\"attributes\":{},\"id\":\"9832f9ce-6ecf-4618-aae4-2fd05a4a591d\",\"type\":\"PanTool\"},{\"attributes\":{\"plot\":null,\"text\":\"\"},\"id\":\"e9f0bff9-fe2c-4516-96e0-d243591c2229\",\"type\":\"Title\"},{\"attributes\":{},\"id\":\"522532d5-7151-4d45-bd71-b74fa48ecd11\",\"type\":\"ResetTool\"},{\"attributes\":{\"line_alpha\":0.1,\"line_color\":\"#1f77b4\",\"line_width\":1.5,\"x\":{\"field\":\"x\"},\"y\":{\"field\":\"y\"}},\"id\":\"6fa5ed6c-6ba1-41fd-9201-a99609bb096b\",\"type\":\"Line\"},{\"attributes\":{\"data_source\":{\"id\":\"e2b952d3-329f-4d5e-a867-af2c3450f026\",\"type\":\"ColumnDataSource\"},\"glyph\":{\"id\":\"b421937f-73dd-4da6-96aa-3dcec664aeb0\",\"type\":\"Line\"},\"hover_glyph\":null,\"muted_glyph\":null,\"nonselection_glyph\":{\"id\":\"1608facc-0ade-4c99-a7fb-df45f36e7399\",\"type\":\"Line\"},\"selection_glyph\":null,\"view\":{\"id\":\"a7bad602-bdc0-4a8c-a94a-04b159942c69\",\"type\":\"CDSView\"}},\"id\":\"4a9a1097-ebb0-4aaf-b34c-77a8c725d051\",\"type\":\"GlyphRenderer\"},{\"attributes\":{\"line_alpha\":0.1,\"line_color\":\"#1f77b4\",\"line_width\":1.5,\"x\":{\"field\":\"x\"},\"y\":{\"field\":\"y\"}},\"id\":\"1608facc-0ade-4c99-a7fb-df45f36e7399\",\"type\":\"Line\"},{\"attributes\":{\"fill_alpha\":{\"value\":0.1},\"fill_color\":{\"value\":\"#1f77b4\"},\"line_alpha\":{\"value\":0.1},\"line_color\":{\"value\":\"#1f77b4\"},\"x\":{\"value\":1.9749788888888886},\"y\":{\"value\":0.2074577777777779}},\"id\":\"25c2c586-c9f5-426e-b57d-cf2ed6fd04df\",\"type\":\"Circle\"},{\"attributes\":{\"callback\":null,\"data\":{},\"selected\":{\"id\":\"4447735c-630d-47ae-a588-bde706f79e69\",\"type\":\"Selection\"},\"selection_policy\":{\"id\":\"a1574347-fb7a-419c-9df7-b130f572580d\",\"type\":\"UnionRenderers\"}},\"id\":\"a9fea7b0-818d-424c-bd93-d279854b0425\",\"type\":\"ColumnDataSource\"},{\"attributes\":{\"fill_alpha\":{\"value\":0.3},\"fill_color\":{\"value\":\"red\"},\"line_alpha\":{\"value\":0.3},\"line_color\":{\"value\":\"red\"},\"plot\":null,\"size\":10},\"id\":\"ca3fa10f-bfe3-4d00-88d6-1804370b483a\",\"type\":\"NormalHead\"},{\"attributes\":{\"callback\":null,\"data\":{},\"selected\":{\"id\":\"7d6d87af-e13f-4029-a9fb-2d8ae500f1c0\",\"type\":\"Selection\"},\"selection_policy\":{\"id\":\"dc10f53d-6a40-43b0-b5a6-90667ee97ee7\",\"type\":\"UnionRenderers\"}},\"id\":\"1c3ce67d-a1dc-45db-b308-c8c41a874e36\",\"type\":\"ColumnDataSource\"},{\"attributes\":{\"plot\":null,\"size\":10},\"id\":\"ce5d5753-43f6-4d49-b6c5-ca46f75e77c1\",\"type\":\"NormalHead\"},{\"attributes\":{\"fill_color\":{\"value\":\"red\"},\"line_color\":{\"value\":\"red\"},\"x\":{\"value\":1.9749788888888886},\"y\":{\"value\":0.2074577777777779}},\"id\":\"cd479955-ad75-4d6f-8bd6-83a7c7028c92\",\"type\":\"Circle\"}],\"root_ids\":[\"2416e59c-127c-4e3a-84a2-f2f0c5feb230\"]},\"title\":\"Bokeh Application\",\"version\":\"0.13.0\"}};\n",
       "  var render_items = [{\"docid\":\"15aa5ef6-88d7-4de1-acca-ebf0ac08eded\",\"roots\":{\"2416e59c-127c-4e3a-84a2-f2f0c5feb230\":\"585a478a-cc05-4ba7-95dc-18f1657b5e82\"}}];\n",
       "  root.Bokeh.embed.embed_items_notebook(docs_json, render_items);\n",
       "\n",
       "  }\n",
       "  if (root.Bokeh !== undefined) {\n",
       "    embed_document(root);\n",
       "  } else {\n",
       "    var attempts = 0;\n",
       "    var timer = setInterval(function(root) {\n",
       "      if (root.Bokeh !== undefined) {\n",
       "        embed_document(root);\n",
       "        clearInterval(timer);\n",
       "      }\n",
       "      attempts++;\n",
       "      if (attempts > 100) {\n",
       "        console.log(\"Bokeh: ERROR: Unable to run BokehJS code because BokehJS library is missing\")\n",
       "        clearInterval(timer);\n",
       "      }\n",
       "    }, 10, root)\n",
       "  }\n",
       "})(window);"
      ],
      "application/vnd.bokehjs_exec.v0+json": ""
     },
     "metadata": {
      "application/vnd.bokehjs_exec.v0+json": {
       "id": "2416e59c-127c-4e3a-84a2-f2f0c5feb230"
      }
     },
     "output_type": "display_data"
    }
   ],
   "source": [
    "var = np.diag(sigma.diagonal())\n",
    "plot.vec_w_point(var,alpha=1)\n",
    "plot.show()"
   ]
  },
  {
   "cell_type": "markdown",
   "metadata": {},
   "source": [
    "The off diagonals capture the length of the projection of the two variable, i.e. the degree the two variables move in the same direction."
   ]
  },
  {
   "cell_type": "code",
   "execution_count": 12,
   "metadata": {},
   "outputs": [
    {
     "data": {
      "text/html": [
       "\n",
       "\n",
       "\n",
       "\n",
       "\n",
       "\n",
       "  <div class=\"bk-root\" id=\"bcca5c07-7076-4ad5-b1a7-52b9a0547f79\"></div>\n"
      ]
     },
     "metadata": {},
     "output_type": "display_data"
    },
    {
     "data": {
      "application/javascript": [
       "(function(root) {\n",
       "  function embed_document(root) {\n",
       "    \n",
       "  var docs_json = {\"17331888-f4c0-4c5c-9460-ec63f40c3d81\":{\"roots\":{\"references\":[{\"attributes\":{\"source\":{\"id\":\"8c23636d-f80f-4d55-9c45-2c5a847ecb14\",\"type\":\"ColumnDataSource\"}},\"id\":\"0539d769-9bf7-45da-a2be-4641551d1943\",\"type\":\"CDSView\"},{\"attributes\":{\"fill_alpha\":{\"value\":0.7},\"fill_color\":{\"value\":\"blue\"},\"line_alpha\":{\"value\":0.7},\"line_color\":{\"value\":\"blue\"},\"plot\":null,\"size\":10},\"id\":\"3b2f5cdf-99b1-41ee-a060-2eeb3c398e14\",\"type\":\"NormalHead\"},{\"attributes\":{\"fill_alpha\":{\"value\":0.3},\"fill_color\":{\"value\":\"red\"},\"line_alpha\":{\"value\":0.3},\"line_color\":{\"value\":\"red\"},\"plot\":null,\"size\":10},\"id\":\"6e05da91-877b-41c0-988b-e2bd5d831938\",\"type\":\"NormalHead\"},{\"attributes\":{\"below\":[{\"id\":\"12afe97d-8879-4ff6-83f7-09bbaf65ce44\",\"type\":\"LinearAxis\"}],\"left\":[{\"id\":\"a6c21f6c-9efb-40fe-830b-5762a4ef5b0b\",\"type\":\"LinearAxis\"}],\"plot_height\":400,\"plot_width\":400,\"renderers\":[{\"id\":\"12afe97d-8879-4ff6-83f7-09bbaf65ce44\",\"type\":\"LinearAxis\"},{\"id\":\"5d3a2c37-09e6-49fc-b907-f61baa44dcdd\",\"type\":\"Grid\"},{\"id\":\"a6c21f6c-9efb-40fe-830b-5762a4ef5b0b\",\"type\":\"LinearAxis\"},{\"id\":\"799ef282-5e9f-48a8-8cf0-9939248e4589\",\"type\":\"Grid\"},{\"id\":\"a2faefb4-5607-40dc-aafa-5faec2b9c307\",\"type\":\"GlyphRenderer\"},{\"id\":\"4899f9a3-c8c0-4188-8cee-dfff566ea772\",\"type\":\"GlyphRenderer\"},{\"id\":\"9a178974-6a9d-4502-b4ae-e9bc9cf4032f\",\"type\":\"Arrow\"},{\"id\":\"c35db8e4-57f9-4437-b0e7-4b4900843317\",\"type\":\"GlyphRenderer\"},{\"id\":\"94c96078-2263-437e-8eda-2d46710ca0d4\",\"type\":\"Arrow\"},{\"id\":\"61d08cfe-e6e2-409d-b329-158fb880af81\",\"type\":\"GlyphRenderer\"},{\"id\":\"0da6a60c-acdf-4837-bc15-34a2a7400321\",\"type\":\"Arrow\"},{\"id\":\"9d3503d4-d605-46c9-b436-7ff8a7c724d7\",\"type\":\"Arrow\"},{\"id\":\"072cf8f6-7aed-44e8-8bf0-09e8ce22ff36\",\"type\":\"Arrow\"},{\"id\":\"a5fc3f05-5a49-4e3c-9e7e-d3c231f30782\",\"type\":\"Arrow\"}],\"title\":{\"id\":\"249508b1-37de-45c7-952d-340e99c51d45\",\"type\":\"Title\"},\"toolbar\":{\"id\":\"c146c1d7-532e-4762-9214-7ef591e33bfa\",\"type\":\"Toolbar\"},\"x_range\":{\"id\":\"c1c401a1-118f-47f6-9a3f-217454de0c2a\",\"type\":\"Range1d\"},\"x_scale\":{\"id\":\"f564a037-3dc5-4290-b6b8-59bcc412af48\",\"type\":\"LinearScale\"},\"y_range\":{\"id\":\"bdf9fab6-80f0-42ef-9b75-7743e607279b\",\"type\":\"Range1d\"},\"y_scale\":{\"id\":\"021fd02d-ec79-4175-b2cf-3a1b08e487c1\",\"type\":\"LinearScale\"}},\"id\":\"0b30e395-565e-4972-896b-cf0b765c8983\",\"subtype\":\"Figure\",\"type\":\"Plot\"},{\"attributes\":{\"end\":{\"id\":\"6e05da91-877b-41c0-988b-e2bd5d831938\",\"type\":\"NormalHead\"},\"line_alpha\":{\"value\":0.3},\"line_color\":{\"value\":\"red\"},\"line_width\":{\"value\":3},\"plot\":{\"id\":\"0b30e395-565e-4972-896b-cf0b765c8983\",\"subtype\":\"Figure\",\"type\":\"Plot\"},\"source\":null,\"start\":null,\"x_end\":{\"value\":0.2074577777777779},\"x_start\":{\"value\":0.0},\"y_end\":{\"value\":1.3707155555555561},\"y_start\":{\"value\":0.0}},\"id\":\"94c96078-2263-437e-8eda-2d46710ca0d4\",\"type\":\"Arrow\"},{\"attributes\":{\"end\":{\"id\":\"3b2f5cdf-99b1-41ee-a060-2eeb3c398e14\",\"type\":\"NormalHead\"},\"line_alpha\":{\"value\":0.7},\"line_color\":{\"value\":\"blue\"},\"line_width\":{\"value\":3},\"plot\":{\"id\":\"0b30e395-565e-4972-896b-cf0b765c8983\",\"subtype\":\"Figure\",\"type\":\"Plot\"},\"source\":null,\"start\":null,\"x_end\":{\"value\":1.9749788888888886},\"x_start\":{\"value\":0.0},\"y_end\":{\"value\":0.2074577777777779},\"y_start\":{\"value\":0.0}},\"id\":\"0da6a60c-acdf-4837-bc15-34a2a7400321\",\"type\":\"Arrow\"},{\"attributes\":{\"callback\":null,\"end\":3.5,\"start\":-3.5},\"id\":\"c1c401a1-118f-47f6-9a3f-217454de0c2a\",\"type\":\"Range1d\"},{\"attributes\":{\"callback\":null,\"data\":{},\"selected\":{\"id\":\"acfb63b0-e73b-410c-8de0-17dbd201b5bf\",\"type\":\"Selection\"},\"selection_policy\":{\"id\":\"d258b2a6-71ae-4093-a11a-240b207b0709\",\"type\":\"UnionRenderers\"}},\"id\":\"467c47c6-99ea-4969-a00a-ddeaec11f455\",\"type\":\"ColumnDataSource\"},{\"attributes\":{\"fill_alpha\":{\"value\":0.1},\"fill_color\":{\"value\":\"#1f77b4\"},\"line_alpha\":{\"value\":0.1},\"line_color\":{\"value\":\"#1f77b4\"},\"x\":{\"value\":0.2074577777777779},\"y\":{\"value\":1.3707155555555561}},\"id\":\"80ea643e-b601-4569-968d-8b6ef1aac45b\",\"type\":\"Circle\"},{\"attributes\":{\"fill_alpha\":{\"value\":0.3},\"fill_color\":{\"value\":\"red\"},\"line_alpha\":{\"value\":0.3},\"line_color\":{\"value\":\"red\"},\"plot\":null,\"size\":10},\"id\":\"d2b048f5-29f0-479d-9f28-c36e64443e35\",\"type\":\"NormalHead\"},{\"attributes\":{},\"id\":\"6f55d63a-1ae4-4cfe-ae34-d44ff1a73c45\",\"type\":\"PanTool\"},{\"attributes\":{\"fill_color\":{\"value\":\"red\"},\"line_color\":{\"value\":\"red\"},\"x\":{\"value\":0.2074577777777779},\"y\":{\"value\":1.3707155555555561}},\"id\":\"0ad21a5a-0f8e-460c-9aa5-eddbd2c9cd0b\",\"type\":\"Circle\"},{\"attributes\":{\"data_source\":{\"id\":\"467c47c6-99ea-4969-a00a-ddeaec11f455\",\"type\":\"ColumnDataSource\"},\"glyph\":{\"id\":\"0ad21a5a-0f8e-460c-9aa5-eddbd2c9cd0b\",\"type\":\"Circle\"},\"hover_glyph\":null,\"muted_glyph\":null,\"nonselection_glyph\":{\"id\":\"80ea643e-b601-4569-968d-8b6ef1aac45b\",\"type\":\"Circle\"},\"selection_glyph\":null,\"view\":{\"id\":\"a8d95004-97ff-477c-af8a-9d702b049814\",\"type\":\"CDSView\"}},\"id\":\"61d08cfe-e6e2-409d-b329-158fb880af81\",\"type\":\"GlyphRenderer\"},{\"attributes\":{\"line_width\":1.5,\"x\":{\"field\":\"x\"},\"y\":{\"field\":\"y\"}},\"id\":\"b23b13b4-483e-4897-8aed-a4cb945a6983\",\"type\":\"Line\"},{\"attributes\":{\"line_alpha\":0.1,\"line_color\":\"#1f77b4\",\"line_width\":1.5,\"x\":{\"field\":\"x\"},\"y\":{\"field\":\"y\"}},\"id\":\"b5f93a42-b5e8-4fa0-889a-f7f91b895074\",\"type\":\"Line\"},{\"attributes\":{\"source\":{\"id\":\"ae044243-e8f1-4294-8e50-94693d0f06a3\",\"type\":\"ColumnDataSource\"}},\"id\":\"325bc498-f850-4a3e-acf0-214c198c9e6c\",\"type\":\"CDSView\"},{\"attributes\":{\"source\":{\"id\":\"467c47c6-99ea-4969-a00a-ddeaec11f455\",\"type\":\"ColumnDataSource\"}},\"id\":\"a8d95004-97ff-477c-af8a-9d702b049814\",\"type\":\"CDSView\"},{\"attributes\":{\"fill_alpha\":{\"value\":0.7},\"fill_color\":{\"value\":\"red\"},\"line_alpha\":{\"value\":0.7},\"line_color\":{\"value\":\"red\"},\"plot\":null,\"size\":10},\"id\":\"d086c8f5-14f1-42da-91f4-c8712821c83d\",\"type\":\"NormalHead\"},{\"attributes\":{},\"id\":\"021fd02d-ec79-4175-b2cf-3a1b08e487c1\",\"type\":\"LinearScale\"},{\"attributes\":{\"plot\":null,\"size\":10},\"id\":\"e582d234-bf7d-401f-99fc-902b8b1347fe\",\"type\":\"NormalHead\"},{\"attributes\":{\"end\":{\"id\":\"d086c8f5-14f1-42da-91f4-c8712821c83d\",\"type\":\"NormalHead\"},\"line_alpha\":{\"value\":0.7},\"line_color\":{\"value\":\"red\"},\"line_width\":{\"value\":3},\"plot\":{\"id\":\"0b30e395-565e-4972-896b-cf0b765c8983\",\"subtype\":\"Figure\",\"type\":\"Plot\"},\"source\":null,\"start\":null,\"x_end\":{\"value\":0.2074577777777779},\"x_start\":{\"value\":0.0},\"y_end\":{\"value\":1.3707155555555561},\"y_start\":{\"value\":0.0}},\"id\":\"9d3503d4-d605-46c9-b436-7ff8a7c724d7\",\"type\":\"Arrow\"},{\"attributes\":{\"fill_alpha\":{\"value\":0.4},\"fill_color\":{\"value\":\"grey\"},\"line_alpha\":{\"value\":0.4},\"line_color\":{\"value\":\"grey\"},\"plot\":null,\"size\":10},\"id\":\"f6e48d81-3112-4b49-932c-f766ce717371\",\"type\":\"NormalHead\"},{\"attributes\":{\"end\":{\"id\":\"e582d234-bf7d-401f-99fc-902b8b1347fe\",\"type\":\"NormalHead\"},\"line_width\":{\"value\":4},\"plot\":{\"id\":\"0b30e395-565e-4972-896b-cf0b765c8983\",\"subtype\":\"Figure\",\"type\":\"Plot\"},\"source\":null,\"start\":null,\"x_end\":{\"value\":0.3476063980390613},\"x_start\":{\"value\":0.0},\"y_end\":{\"value\":0.03651363125156852},\"y_start\":{\"value\":0.0}},\"id\":\"072cf8f6-7aed-44e8-8bf0-09e8ce22ff36\",\"type\":\"Arrow\"},{\"attributes\":{\"end\":{\"id\":\"d2b048f5-29f0-479d-9f28-c36e64443e35\",\"type\":\"NormalHead\"},\"line_alpha\":{\"value\":0.3},\"line_color\":{\"value\":\"red\"},\"line_width\":{\"value\":3},\"plot\":{\"id\":\"0b30e395-565e-4972-896b-cf0b765c8983\",\"subtype\":\"Figure\",\"type\":\"Plot\"},\"source\":null,\"start\":null,\"x_end\":{\"value\":1.9749788888888886},\"x_start\":{\"value\":0.0},\"y_end\":{\"value\":0.2074577777777779},\"y_start\":{\"value\":0.0}},\"id\":\"9a178974-6a9d-4502-b4ae-e9bc9cf4032f\",\"type\":\"Arrow\"},{\"attributes\":{\"end\":{\"id\":\"f6e48d81-3112-4b49-932c-f766ce717371\",\"type\":\"NormalHead\"},\"line_alpha\":{\"value\":0.4},\"line_color\":{\"value\":\"grey\"},\"line_width\":{\"value\":3},\"plot\":{\"id\":\"0b30e395-565e-4972-896b-cf0b765c8983\",\"subtype\":\"Figure\",\"type\":\"Plot\"},\"source\":null,\"start\":null,\"x_end\":{\"value\":0.3476063980390613},\"x_start\":{\"value\":0.2074577777777779},\"y_end\":{\"value\":0.03651363125156859},\"y_start\":{\"value\":1.3707155555555561}},\"id\":\"a5fc3f05-5a49-4e3c-9e7e-d3c231f30782\",\"type\":\"Arrow\"},{\"attributes\":{},\"id\":\"29213922-955d-4ac0-b828-f76a9cc59443\",\"type\":\"BasicTickFormatter\"},{\"attributes\":{},\"id\":\"f564a037-3dc5-4290-b6b8-59bcc412af48\",\"type\":\"LinearScale\"},{\"attributes\":{\"plot\":null,\"text\":\"\"},\"id\":\"249508b1-37de-45c7-952d-340e99c51d45\",\"type\":\"Title\"},{\"attributes\":{\"fill_color\":{\"value\":\"red\"},\"line_color\":{\"value\":\"red\"},\"x\":{\"value\":1.9749788888888886},\"y\":{\"value\":0.2074577777777779}},\"id\":\"98a8d588-3493-4f49-af75-a819dd24cd6f\",\"type\":\"Circle\"},{\"attributes\":{},\"id\":\"b722d7b2-be3a-41ea-be55-971f46df673d\",\"type\":\"BasicTicker\"},{\"attributes\":{},\"id\":\"41d82eb8-f9ed-4f51-b306-a32cd52e9eef\",\"type\":\"BasicTickFormatter\"},{\"attributes\":{\"active_drag\":\"auto\",\"active_inspect\":\"auto\",\"active_multi\":null,\"active_scroll\":\"auto\",\"active_tap\":\"auto\",\"tools\":[{\"id\":\"33d323c8-1b3d-4a79-a216-2636104b8a69\",\"type\":\"WheelZoomTool\"},{\"id\":\"6f55d63a-1ae4-4cfe-ae34-d44ff1a73c45\",\"type\":\"PanTool\"},{\"id\":\"169dbe47-6df3-449d-9bc0-dcf6b02c5988\",\"type\":\"ResetTool\"}]},\"id\":\"c146c1d7-532e-4762-9214-7ef591e33bfa\",\"type\":\"Toolbar\"},{\"attributes\":{},\"id\":\"22bd1823-41b9-4982-8938-22a41fe0c38d\",\"type\":\"Selection\"},{\"attributes\":{\"callback\":null,\"data\":{\"x\":[0.0,0.0],\"y\":[-5.0,5.0]},\"selected\":{\"id\":\"02b26243-b62f-42c3-9ccc-02aeb9012bd6\",\"type\":\"Selection\"},\"selection_policy\":{\"id\":\"511b4e0a-4e9a-4744-9e6f-0c84df8e997c\",\"type\":\"UnionRenderers\"}},\"id\":\"ae044243-e8f1-4294-8e50-94693d0f06a3\",\"type\":\"ColumnDataSource\"},{\"attributes\":{\"line_width\":1.5,\"x\":{\"field\":\"x\"},\"y\":{\"field\":\"y\"}},\"id\":\"e05a8ceb-c093-447f-8a99-245e77623d9a\",\"type\":\"Line\"},{\"attributes\":{},\"id\":\"43497442-c639-4207-ab73-1b949a0e37ae\",\"type\":\"UnionRenderers\"},{\"attributes\":{\"callback\":null,\"end\":3.5,\"start\":-3.5},\"id\":\"bdf9fab6-80f0-42ef-9b75-7743e607279b\",\"type\":\"Range1d\"},{\"attributes\":{},\"id\":\"02b26243-b62f-42c3-9ccc-02aeb9012bd6\",\"type\":\"Selection\"},{\"attributes\":{\"plot\":{\"id\":\"0b30e395-565e-4972-896b-cf0b765c8983\",\"subtype\":\"Figure\",\"type\":\"Plot\"},\"ticker\":{\"id\":\"f038fe26-48ef-4c57-9e69-ac66df8837dd\",\"type\":\"BasicTicker\"}},\"id\":\"5d3a2c37-09e6-49fc-b907-f61baa44dcdd\",\"type\":\"Grid\"},{\"attributes\":{},\"id\":\"511b4e0a-4e9a-4744-9e6f-0c84df8e997c\",\"type\":\"UnionRenderers\"},{\"attributes\":{\"source\":{\"id\":\"9988555c-cd19-48db-b56b-56139c1536ff\",\"type\":\"ColumnDataSource\"}},\"id\":\"d5aeb9bd-8224-4ff6-b155-fcec86e3a86a\",\"type\":\"CDSView\"},{\"attributes\":{},\"id\":\"d92d3308-d8c7-4499-88af-689be257800d\",\"type\":\"Selection\"},{\"attributes\":{},\"id\":\"33d323c8-1b3d-4a79-a216-2636104b8a69\",\"type\":\"WheelZoomTool\"},{\"attributes\":{},\"id\":\"35bbc5eb-5e0b-447b-b88d-caf290e04869\",\"type\":\"UnionRenderers\"},{\"attributes\":{\"dimension\":1,\"plot\":{\"id\":\"0b30e395-565e-4972-896b-cf0b765c8983\",\"subtype\":\"Figure\",\"type\":\"Plot\"},\"ticker\":{\"id\":\"b722d7b2-be3a-41ea-be55-971f46df673d\",\"type\":\"BasicTicker\"}},\"id\":\"799ef282-5e9f-48a8-8cf0-9939248e4589\",\"type\":\"Grid\"},{\"attributes\":{\"data_source\":{\"id\":\"8c23636d-f80f-4d55-9c45-2c5a847ecb14\",\"type\":\"ColumnDataSource\"},\"glyph\":{\"id\":\"98a8d588-3493-4f49-af75-a819dd24cd6f\",\"type\":\"Circle\"},\"hover_glyph\":null,\"muted_glyph\":null,\"nonselection_glyph\":{\"id\":\"41540c52-bfbf-429a-a7fd-fafb81691534\",\"type\":\"Circle\"},\"selection_glyph\":null,\"view\":{\"id\":\"0539d769-9bf7-45da-a2be-4641551d1943\",\"type\":\"CDSView\"}},\"id\":\"c35db8e4-57f9-4437-b0e7-4b4900843317\",\"type\":\"GlyphRenderer\"},{\"attributes\":{\"formatter\":{\"id\":\"29213922-955d-4ac0-b828-f76a9cc59443\",\"type\":\"BasicTickFormatter\"},\"plot\":{\"id\":\"0b30e395-565e-4972-896b-cf0b765c8983\",\"subtype\":\"Figure\",\"type\":\"Plot\"},\"ticker\":{\"id\":\"f038fe26-48ef-4c57-9e69-ac66df8837dd\",\"type\":\"BasicTicker\"}},\"id\":\"12afe97d-8879-4ff6-83f7-09bbaf65ce44\",\"type\":\"LinearAxis\"},{\"attributes\":{},\"id\":\"acfb63b0-e73b-410c-8de0-17dbd201b5bf\",\"type\":\"Selection\"},{\"attributes\":{},\"id\":\"d258b2a6-71ae-4093-a11a-240b207b0709\",\"type\":\"UnionRenderers\"},{\"attributes\":{\"formatter\":{\"id\":\"41d82eb8-f9ed-4f51-b306-a32cd52e9eef\",\"type\":\"BasicTickFormatter\"},\"plot\":{\"id\":\"0b30e395-565e-4972-896b-cf0b765c8983\",\"subtype\":\"Figure\",\"type\":\"Plot\"},\"ticker\":{\"id\":\"b722d7b2-be3a-41ea-be55-971f46df673d\",\"type\":\"BasicTicker\"}},\"id\":\"a6c21f6c-9efb-40fe-830b-5762a4ef5b0b\",\"type\":\"LinearAxis\"},{\"attributes\":{\"callback\":null,\"data\":{},\"selected\":{\"id\":\"d92d3308-d8c7-4499-88af-689be257800d\",\"type\":\"Selection\"},\"selection_policy\":{\"id\":\"35bbc5eb-5e0b-447b-b88d-caf290e04869\",\"type\":\"UnionRenderers\"}},\"id\":\"8c23636d-f80f-4d55-9c45-2c5a847ecb14\",\"type\":\"ColumnDataSource\"},{\"attributes\":{\"callback\":null,\"data\":{\"x\":[-5.0,5.0],\"y\":[0.0,0.0]},\"selected\":{\"id\":\"22bd1823-41b9-4982-8938-22a41fe0c38d\",\"type\":\"Selection\"},\"selection_policy\":{\"id\":\"43497442-c639-4207-ab73-1b949a0e37ae\",\"type\":\"UnionRenderers\"}},\"id\":\"9988555c-cd19-48db-b56b-56139c1536ff\",\"type\":\"ColumnDataSource\"},{\"attributes\":{\"fill_alpha\":{\"value\":0.1},\"fill_color\":{\"value\":\"#1f77b4\"},\"line_alpha\":{\"value\":0.1},\"line_color\":{\"value\":\"#1f77b4\"},\"x\":{\"value\":1.9749788888888886},\"y\":{\"value\":0.2074577777777779}},\"id\":\"41540c52-bfbf-429a-a7fd-fafb81691534\",\"type\":\"Circle\"},{\"attributes\":{},\"id\":\"f038fe26-48ef-4c57-9e69-ac66df8837dd\",\"type\":\"BasicTicker\"},{\"attributes\":{},\"id\":\"169dbe47-6df3-449d-9bc0-dcf6b02c5988\",\"type\":\"ResetTool\"},{\"attributes\":{\"data_source\":{\"id\":\"ae044243-e8f1-4294-8e50-94693d0f06a3\",\"type\":\"ColumnDataSource\"},\"glyph\":{\"id\":\"e05a8ceb-c093-447f-8a99-245e77623d9a\",\"type\":\"Line\"},\"hover_glyph\":null,\"muted_glyph\":null,\"nonselection_glyph\":{\"id\":\"b5f93a42-b5e8-4fa0-889a-f7f91b895074\",\"type\":\"Line\"},\"selection_glyph\":null,\"view\":{\"id\":\"325bc498-f850-4a3e-acf0-214c198c9e6c\",\"type\":\"CDSView\"}},\"id\":\"4899f9a3-c8c0-4188-8cee-dfff566ea772\",\"type\":\"GlyphRenderer\"},{\"attributes\":{\"line_alpha\":0.1,\"line_color\":\"#1f77b4\",\"line_width\":1.5,\"x\":{\"field\":\"x\"},\"y\":{\"field\":\"y\"}},\"id\":\"1a45d3e6-32e2-44b6-822f-a57ebf14d055\",\"type\":\"Line\"},{\"attributes\":{\"data_source\":{\"id\":\"9988555c-cd19-48db-b56b-56139c1536ff\",\"type\":\"ColumnDataSource\"},\"glyph\":{\"id\":\"b23b13b4-483e-4897-8aed-a4cb945a6983\",\"type\":\"Line\"},\"hover_glyph\":null,\"muted_glyph\":null,\"nonselection_glyph\":{\"id\":\"1a45d3e6-32e2-44b6-822f-a57ebf14d055\",\"type\":\"Line\"},\"selection_glyph\":null,\"view\":{\"id\":\"d5aeb9bd-8224-4ff6-b155-fcec86e3a86a\",\"type\":\"CDSView\"}},\"id\":\"a2faefb4-5607-40dc-aafa-5faec2b9c307\",\"type\":\"GlyphRenderer\"}],\"root_ids\":[\"0b30e395-565e-4972-896b-cf0b765c8983\"]},\"title\":\"Bokeh Application\",\"version\":\"0.13.0\"}};\n",
       "  var render_items = [{\"docid\":\"17331888-f4c0-4c5c-9460-ec63f40c3d81\",\"roots\":{\"0b30e395-565e-4972-896b-cf0b765c8983\":\"bcca5c07-7076-4ad5-b1a7-52b9a0547f79\"}}];\n",
       "  root.Bokeh.embed.embed_items_notebook(docs_json, render_items);\n",
       "\n",
       "  }\n",
       "  if (root.Bokeh !== undefined) {\n",
       "    embed_document(root);\n",
       "  } else {\n",
       "    var attempts = 0;\n",
       "    var timer = setInterval(function(root) {\n",
       "      if (root.Bokeh !== undefined) {\n",
       "        embed_document(root);\n",
       "        clearInterval(timer);\n",
       "      }\n",
       "      attempts++;\n",
       "      if (attempts > 100) {\n",
       "        console.log(\"Bokeh: ERROR: Unable to run BokehJS code because BokehJS library is missing\")\n",
       "        clearInterval(timer);\n",
       "      }\n",
       "    }, 10, root)\n",
       "  }\n",
       "})(window);"
      ],
      "application/vnd.bokehjs_exec.v0+json": ""
     },
     "metadata": {
      "application/vnd.bokehjs_exec.v0+json": {
       "id": "0b30e395-565e-4972-896b-cf0b765c8983"
      }
     },
     "output_type": "display_data"
    }
   ],
   "source": [
    "plot.clear().graph()\n",
    "plot.vec_w_point(sigma,color=\"red\",alpha=.3)\n",
    "plot.projection(sigma[0],sigma[1])\n",
    "plot.show()"
   ]
  },
  {
   "cell_type": "markdown",
   "metadata": {},
   "source": [
    "#### All in one step"
   ]
  },
  {
   "cell_type": "code",
   "execution_count": 13,
   "metadata": {},
   "outputs": [
    {
     "data": {
      "text/plain": [
       "(2, 2)"
      ]
     },
     "execution_count": 13,
     "metadata": {},
     "output_type": "execute_result"
    }
   ],
   "source": [
    "N = X.shape[0]                         # Number of observations\n",
    "X_means = (np.ones(N).dot(X))/N        # Means of each column vector\n",
    "X_dev = (X - X_means)                  # Deviations from the mean\n",
    "squared_dev = X_dev.T.dot(X_dev)       # Squared Deviations from the mean\n",
    "sigma = (1/(N-1))*squared_dev          # Average (with df adjustment)\n",
    "sigma.shape "
   ]
  },
  {
   "cell_type": "code",
   "execution_count": 14,
   "metadata": {},
   "outputs": [
    {
     "name": "stdout",
     "output_type": "stream",
     "text": [
      "Our Variance-Covariance Matrix\n",
      "\n",
      "[[1.975 0.207]\n",
      " [0.207 1.371]]\n"
     ]
    }
   ],
   "source": [
    "print(\"Our Variance-Covariance Matrix\\n\")\n",
    "print(sigma.round(3))"
   ]
  },
  {
   "cell_type": "markdown",
   "metadata": {},
   "source": [
    "#### Using Numpy"
   ]
  },
  {
   "cell_type": "code",
   "execution_count": 15,
   "metadata": {},
   "outputs": [
    {
     "data": {
      "text/plain": [
       "array([[1.975, 0.207],\n",
       "       [0.207, 1.371]])"
      ]
     },
     "execution_count": 15,
     "metadata": {},
     "output_type": "execute_result"
    }
   ],
   "source": [
    "np.cov(X.T).round(3)"
   ]
  },
  {
   "cell_type": "markdown",
   "metadata": {},
   "source": [
    "## Correlation Matrix\n",
    "\n",
    "A correlation matrix is similar to our variance-covariance matrix except that we standardize the deviations from the mean by dividing each variable by it's respective standard deviation. This effectively puts the deviations of each varaible onto the same scale.\n",
    "\n",
    "$$ corr(x,y) = \\frac{1}{N-1}\\frac{\\sum^{N}_{i=1} (x_i - \\bar{x})(y_i - \\bar{y})}{\\sigma_x \\sigma_y} = \\rho $$\n",
    "\n",
    "In matrix form,\n",
    "\n",
    "$$\\rho  = \\frac{1}{N-1} \\frac{(\\textbf{X} - \\bar{\\textbf{x}})^T(\\textbf{X} - \\bar{\\textbf{x}})}{\\sqrt{diag(\\Sigma)}} $$\n",
    "\n",
    "> **Note**: Recall that the diagonal of covariance matrix corresponds with the variances. When we take the square root of the variance, we get the standard deviation. $\\sqrt{diag(\\Sigma)}$ is merely the matrix expression of this calculation."
   ]
  },
  {
   "cell_type": "markdown",
   "metadata": {},
   "source": [
    "### What this means?\n",
    "\n",
    "Like before, we are interested in the deviations from the mean..."
   ]
  },
  {
   "cell_type": "code",
   "execution_count": 16,
   "metadata": {},
   "outputs": [
    {
     "data": {
      "text/html": [
       "\n",
       "\n",
       "\n",
       "\n",
       "\n",
       "\n",
       "  <div class=\"bk-root\" id=\"13e3541a-5f5b-492f-b009-76315a125b5c\"></div>\n"
      ]
     },
     "metadata": {},
     "output_type": "display_data"
    },
    {
     "data": {
      "application/javascript": [
       "(function(root) {\n",
       "  function embed_document(root) {\n",
       "    \n",
       "  var docs_json = {\"4be5c08b-e9c3-49fd-a5d2-5a070f360f55\":{\"roots\":{\"references\":[{\"attributes\":{},\"id\":\"183384cc-627d-46c9-b25b-2f8f78c2af51\",\"type\":\"BasicTickFormatter\"},{\"attributes\":{},\"id\":\"b0e1eb75-9924-4b37-b0b4-3b293e3d522c\",\"type\":\"Selection\"},{\"attributes\":{\"fill_alpha\":{\"value\":0.1},\"fill_color\":{\"value\":\"#1f77b4\"},\"line_alpha\":{\"value\":0.1},\"line_color\":{\"value\":\"#1f77b4\"},\"x\":{\"value\":0.1769999999999996},\"y\":{\"value\":-1.6360000000000003}},\"id\":\"44e01fb8-b60c-41f4-ac53-7db3d1eccca5\",\"type\":\"Circle\"},{\"attributes\":{\"data_source\":{\"id\":\"26bbd01f-f5d9-4a15-94c2-7bbcafe943d4\",\"type\":\"ColumnDataSource\"},\"glyph\":{\"id\":\"d71b9619-0a7b-4a79-b275-b06f33f2c437\",\"type\":\"Circle\"},\"hover_glyph\":null,\"muted_glyph\":null,\"nonselection_glyph\":{\"id\":\"44e01fb8-b60c-41f4-ac53-7db3d1eccca5\",\"type\":\"Circle\"},\"selection_glyph\":null,\"view\":{\"id\":\"3a6407ce-37be-45d8-8c67-b1412ae5f1cf\",\"type\":\"CDSView\"}},\"id\":\"0362d996-c5db-4be3-8fb1-9a0b7f001cc6\",\"type\":\"GlyphRenderer\"},{\"attributes\":{},\"id\":\"fec13863-5775-4238-a313-b60194b6bc32\",\"type\":\"UnionRenderers\"},{\"attributes\":{\"source\":{\"id\":\"26bbd01f-f5d9-4a15-94c2-7bbcafe943d4\",\"type\":\"ColumnDataSource\"}},\"id\":\"3a6407ce-37be-45d8-8c67-b1412ae5f1cf\",\"type\":\"CDSView\"},{\"attributes\":{},\"id\":\"80574e0a-4a76-41a2-82c1-07337d33ca86\",\"type\":\"Selection\"},{\"attributes\":{\"fill_alpha\":{\"value\":0.2},\"fill_color\":{\"value\":\"orange\"},\"line_alpha\":{\"value\":0.2},\"line_color\":{\"value\":\"orange\"},\"plot\":null,\"size\":10},\"id\":\"30584731-0f9e-4d3c-8aed-176992957338\",\"type\":\"NormalHead\"},{\"attributes\":{},\"id\":\"e139ac66-d4b2-4827-b45d-5d45dd5b641d\",\"type\":\"UnionRenderers\"},{\"attributes\":{\"end\":{\"id\":\"30584731-0f9e-4d3c-8aed-176992957338\",\"type\":\"NormalHead\"},\"line_alpha\":{\"value\":0.2},\"line_color\":{\"value\":\"orange\"},\"line_width\":{\"value\":3},\"plot\":{\"id\":\"5c53654a-6bea-443c-9179-562ddfbc74a4\",\"subtype\":\"Figure\",\"type\":\"Plot\"},\"source\":null,\"start\":null,\"x_end\":{\"value\":-0.6830000000000003},\"x_start\":{\"value\":0.0},\"y_end\":{\"value\":1.524},\"y_start\":{\"value\":0.0}},\"id\":\"9d2f866b-b60b-4ab3-9fa6-88996b16ce19\",\"type\":\"Arrow\"},{\"attributes\":{},\"id\":\"6115a8e9-f72e-46b5-ae0a-d2c11a9c09d9\",\"type\":\"Selection\"},{\"attributes\":{\"callback\":null,\"data\":{},\"selected\":{\"id\":\"c366744a-77c9-4809-ae8b-28b4b20244f4\",\"type\":\"Selection\"},\"selection_policy\":{\"id\":\"cda2aef3-5968-4bf3-b325-3a8047ffadce\",\"type\":\"UnionRenderers\"}},\"id\":\"1256805e-1a90-4625-bf56-92d3d91ed775\",\"type\":\"ColumnDataSource\"},{\"attributes\":{\"data_source\":{\"id\":\"31c77f3f-22af-4ae5-8e21-51f6dd6daf1e\",\"type\":\"ColumnDataSource\"},\"glyph\":{\"id\":\"42848a79-64d3-49e2-87ae-67d7f4554cbb\",\"type\":\"Line\"},\"hover_glyph\":null,\"muted_glyph\":null,\"nonselection_glyph\":{\"id\":\"22996ca7-ce1e-407e-8c05-248c84b2a7c8\",\"type\":\"Line\"},\"selection_glyph\":null,\"view\":{\"id\":\"84b54ea6-b734-4ea3-b6f0-b47c19a8d6cb\",\"type\":\"CDSView\"}},\"id\":\"0f2f4e34-385d-4796-9f3e-d74f42baf6d4\",\"type\":\"GlyphRenderer\"},{\"attributes\":{},\"id\":\"4caa83e6-8ede-4f0d-aaf2-b8aef78f95f6\",\"type\":\"UnionRenderers\"},{\"attributes\":{\"fill_alpha\":{\"value\":0.1},\"fill_color\":{\"value\":\"#1f77b4\"},\"line_alpha\":{\"value\":0.1},\"line_color\":{\"value\":\"#1f77b4\"},\"x\":{\"value\":-0.6830000000000003},\"y\":{\"value\":1.524}},\"id\":\"cb7befbb-b945-49af-8a96-14bf9ed59cb8\",\"type\":\"Circle\"},{\"attributes\":{},\"id\":\"b6afef4a-36f3-45a0-b970-f61354a833ee\",\"type\":\"Selection\"},{\"attributes\":{\"fill_color\":{\"value\":\"orange\"},\"line_color\":{\"value\":\"orange\"},\"x\":{\"value\":-0.6830000000000003},\"y\":{\"value\":1.524}},\"id\":\"1ead5dfb-b8e8-470b-b175-25622c25aceb\",\"type\":\"Circle\"},{\"attributes\":{},\"id\":\"47d6524c-9a90-447e-956b-d2fb0f989ef6\",\"type\":\"UnionRenderers\"},{\"attributes\":{\"data_source\":{\"id\":\"1256805e-1a90-4625-bf56-92d3d91ed775\",\"type\":\"ColumnDataSource\"},\"glyph\":{\"id\":\"1ead5dfb-b8e8-470b-b175-25622c25aceb\",\"type\":\"Circle\"},\"hover_glyph\":null,\"muted_glyph\":null,\"nonselection_glyph\":{\"id\":\"cb7befbb-b945-49af-8a96-14bf9ed59cb8\",\"type\":\"Circle\"},\"selection_glyph\":null,\"view\":{\"id\":\"88f6c963-4071-4d68-b835-a59924d0f2ca\",\"type\":\"CDSView\"}},\"id\":\"3255a40b-8cf4-42f2-aa96-d3d344c576c6\",\"type\":\"GlyphRenderer\"},{\"attributes\":{\"source\":{\"id\":\"a03f759a-1f2e-43d3-9c72-9dcc4f3b1e8c\",\"type\":\"ColumnDataSource\"}},\"id\":\"3719742e-9ffe-4f24-8ad5-305d95cb5701\",\"type\":\"CDSView\"},{\"attributes\":{},\"id\":\"0d1ccf87-3335-4362-99ea-303cb0e444a5\",\"type\":\"WheelZoomTool\"},{\"attributes\":{\"source\":{\"id\":\"1256805e-1a90-4625-bf56-92d3d91ed775\",\"type\":\"ColumnDataSource\"}},\"id\":\"88f6c963-4071-4d68-b835-a59924d0f2ca\",\"type\":\"CDSView\"},{\"attributes\":{},\"id\":\"67f984be-7889-4d48-86ce-b730950d45b9\",\"type\":\"Selection\"},{\"attributes\":{},\"id\":\"d9740e2f-0bec-4544-aa1e-44531af9e82f\",\"type\":\"ResetTool\"},{\"attributes\":{},\"id\":\"0833ecdc-8509-40f5-b22a-62d95489cd9f\",\"type\":\"UnionRenderers\"},{\"attributes\":{\"fill_alpha\":{\"value\":0.2},\"fill_color\":{\"value\":\"orange\"},\"line_alpha\":{\"value\":0.2},\"line_color\":{\"value\":\"orange\"},\"plot\":null,\"size\":10},\"id\":\"c576ef0d-1085-4ae6-b10c-9df6318588e8\",\"type\":\"NormalHead\"},{\"attributes\":{},\"id\":\"7a68e3bc-23df-405d-a6fe-24fbc4afd05d\",\"type\":\"Selection\"},{\"attributes\":{\"end\":{\"id\":\"c576ef0d-1085-4ae6-b10c-9df6318588e8\",\"type\":\"NormalHead\"},\"line_alpha\":{\"value\":0.2},\"line_color\":{\"value\":\"orange\"},\"line_width\":{\"value\":3},\"plot\":{\"id\":\"5c53654a-6bea-443c-9179-562ddfbc74a4\",\"subtype\":\"Figure\",\"type\":\"Plot\"},\"source\":null,\"start\":null,\"x_end\":{\"value\":-2.5330000000000004},\"x_start\":{\"value\":0.0},\"y_end\":{\"value\":-0.5560000000000005},\"y_start\":{\"value\":0.0}},\"id\":\"ea249299-d904-4994-b765-65d6d8dacda5\",\"type\":\"Arrow\"},{\"attributes\":{\"callback\":null,\"data\":{},\"selected\":{\"id\":\"9238d521-5269-4cd9-9e33-69c878e656b2\",\"type\":\"Selection\"},\"selection_policy\":{\"id\":\"79b8ba5d-58bd-4dfb-8af8-4f9fe1d6eaba\",\"type\":\"UnionRenderers\"}},\"id\":\"3a926223-b49b-43f4-98eb-b30fda87cca8\",\"type\":\"ColumnDataSource\"},{\"attributes\":{},\"id\":\"83a11317-142d-4007-abd8-f98e3976da42\",\"type\":\"UnionRenderers\"},{\"attributes\":{\"callback\":null,\"data\":{},\"selected\":{\"id\":\"b0e1eb75-9924-4b37-b0b4-3b293e3d522c\",\"type\":\"Selection\"},\"selection_policy\":{\"id\":\"fec13863-5775-4238-a313-b60194b6bc32\",\"type\":\"UnionRenderers\"}},\"id\":\"8aced7af-5073-4d75-b594-f3b87a597355\",\"type\":\"ColumnDataSource\"},{\"attributes\":{},\"id\":\"300da3af-2ca0-4078-81e0-668685d6e83a\",\"type\":\"Selection\"},{\"attributes\":{\"fill_alpha\":{\"value\":0.1},\"fill_color\":{\"value\":\"#1f77b4\"},\"line_alpha\":{\"value\":0.1},\"line_color\":{\"value\":\"#1f77b4\"},\"x\":{\"value\":-2.5330000000000004},\"y\":{\"value\":-0.5560000000000005}},\"id\":\"0f7c6d2d-fa2c-45f3-abb8-a837801d6410\",\"type\":\"Circle\"},{\"attributes\":{\"line_width\":1.5,\"x\":{\"field\":\"x\"},\"y\":{\"field\":\"y\"}},\"id\":\"42848a79-64d3-49e2-87ae-67d7f4554cbb\",\"type\":\"Line\"},{\"attributes\":{},\"id\":\"81dbb8e4-80ae-4ff1-9ffd-5de7302e4e0f\",\"type\":\"UnionRenderers\"},{\"attributes\":{\"fill_color\":{\"value\":\"orange\"},\"line_color\":{\"value\":\"orange\"},\"x\":{\"value\":-2.5330000000000004},\"y\":{\"value\":-0.5560000000000005}},\"id\":\"0c612603-8fe4-42e8-a407-88b51fe45a9a\",\"type\":\"Circle\"},{\"attributes\":{\"data_source\":{\"id\":\"8aced7af-5073-4d75-b594-f3b87a597355\",\"type\":\"ColumnDataSource\"},\"glyph\":{\"id\":\"0c612603-8fe4-42e8-a407-88b51fe45a9a\",\"type\":\"Circle\"},\"hover_glyph\":null,\"muted_glyph\":null,\"nonselection_glyph\":{\"id\":\"0f7c6d2d-fa2c-45f3-abb8-a837801d6410\",\"type\":\"Circle\"},\"selection_glyph\":null,\"view\":{\"id\":\"5f3dfba3-3e3c-4c84-b9db-047c8c82a766\",\"type\":\"CDSView\"}},\"id\":\"e1bb99c0-f398-41f2-91f7-e9820cb9e5e2\",\"type\":\"GlyphRenderer\"},{\"attributes\":{\"formatter\":{\"id\":\"0488e3b2-59af-4606-bd71-1562dd0dde0a\",\"type\":\"BasicTickFormatter\"},\"plot\":{\"id\":\"5c53654a-6bea-443c-9179-562ddfbc74a4\",\"subtype\":\"Figure\",\"type\":\"Plot\"},\"ticker\":{\"id\":\"959e94fb-73e6-4ee9-8a66-6a4240673552\",\"type\":\"BasicTicker\"}},\"id\":\"4c8516fe-cecc-4116-a15e-5e540e686708\",\"type\":\"LinearAxis\"},{\"attributes\":{\"source\":{\"id\":\"8aced7af-5073-4d75-b594-f3b87a597355\",\"type\":\"ColumnDataSource\"}},\"id\":\"5f3dfba3-3e3c-4c84-b9db-047c8c82a766\",\"type\":\"CDSView\"},{\"attributes\":{\"fill_alpha\":{\"value\":0.2},\"fill_color\":{\"value\":\"orange\"},\"line_alpha\":{\"value\":0.2},\"line_color\":{\"value\":\"orange\"},\"plot\":null,\"size\":10},\"id\":\"fe0e56f3-54f8-460b-83f6-030a2e6eaa49\",\"type\":\"NormalHead\"},{\"attributes\":{\"end\":{\"id\":\"fe0e56f3-54f8-460b-83f6-030a2e6eaa49\",\"type\":\"NormalHead\"},\"line_alpha\":{\"value\":0.2},\"line_color\":{\"value\":\"orange\"},\"line_width\":{\"value\":3},\"plot\":{\"id\":\"5c53654a-6bea-443c-9179-562ddfbc74a4\",\"subtype\":\"Figure\",\"type\":\"Plot\"},\"source\":null,\"start\":null,\"x_end\":{\"value\":1.1669999999999994},\"x_start\":{\"value\":0.0},\"y_end\":{\"value\":-0.9960000000000004},\"y_start\":{\"value\":0.0}},\"id\":\"b48a991a-3009-4af0-993a-51e8cb445657\",\"type\":\"Arrow\"},{\"attributes\":{\"callback\":null,\"data\":{},\"selected\":{\"id\":\"80574e0a-4a76-41a2-82c1-07337d33ca86\",\"type\":\"Selection\"},\"selection_policy\":{\"id\":\"e139ac66-d4b2-4827-b45d-5d45dd5b641d\",\"type\":\"UnionRenderers\"}},\"id\":\"902d1540-12e6-4a95-abfe-0b80d196b647\",\"type\":\"ColumnDataSource\"},{\"attributes\":{},\"id\":\"0986ce81-89f9-4c5f-bc70-9feb008d1890\",\"type\":\"BasicTicker\"},{\"attributes\":{\"fill_alpha\":{\"value\":0.1},\"fill_color\":{\"value\":\"#1f77b4\"},\"line_alpha\":{\"value\":0.1},\"line_color\":{\"value\":\"#1f77b4\"},\"x\":{\"value\":1.1669999999999994},\"y\":{\"value\":-0.9960000000000004}},\"id\":\"f712dde3-c38c-4134-91b0-6a82b0d9109a\",\"type\":\"Circle\"},{\"attributes\":{\"fill_color\":{\"value\":\"orange\"},\"line_color\":{\"value\":\"orange\"},\"x\":{\"value\":1.1669999999999994},\"y\":{\"value\":-0.9960000000000004}},\"id\":\"9f2aa96f-142c-4fa7-8f89-44ff8add5983\",\"type\":\"Circle\"},{\"attributes\":{\"data_source\":{\"id\":\"902d1540-12e6-4a95-abfe-0b80d196b647\",\"type\":\"ColumnDataSource\"},\"glyph\":{\"id\":\"9f2aa96f-142c-4fa7-8f89-44ff8add5983\",\"type\":\"Circle\"},\"hover_glyph\":null,\"muted_glyph\":null,\"nonselection_glyph\":{\"id\":\"f712dde3-c38c-4134-91b0-6a82b0d9109a\",\"type\":\"Circle\"},\"selection_glyph\":null,\"view\":{\"id\":\"55100250-b4ac-4940-ac4a-85d469cf600b\",\"type\":\"CDSView\"}},\"id\":\"fff1906c-e070-45a3-9087-fc7cc0e7986b\",\"type\":\"GlyphRenderer\"},{\"attributes\":{\"callback\":null,\"data\":{},\"selected\":{\"id\":\"23ff8142-ada6-4281-9d60-f0cef6574a7d\",\"type\":\"Selection\"},\"selection_policy\":{\"id\":\"b4c25f13-9833-4df1-bd9f-9dd3d7a0b7a6\",\"type\":\"UnionRenderers\"}},\"id\":\"26bbd01f-f5d9-4a15-94c2-7bbcafe943d4\",\"type\":\"ColumnDataSource\"},{\"attributes\":{\"source\":{\"id\":\"902d1540-12e6-4a95-abfe-0b80d196b647\",\"type\":\"ColumnDataSource\"}},\"id\":\"55100250-b4ac-4940-ac4a-85d469cf600b\",\"type\":\"CDSView\"},{\"attributes\":{\"fill_alpha\":{\"value\":0.2},\"fill_color\":{\"value\":\"orange\"},\"line_alpha\":{\"value\":0.2},\"line_color\":{\"value\":\"orange\"},\"plot\":null,\"size\":10},\"id\":\"15bc8327-1265-4a88-b260-b2f3b3793921\",\"type\":\"NormalHead\"},{\"attributes\":{\"end\":{\"id\":\"15bc8327-1265-4a88-b260-b2f3b3793921\",\"type\":\"NormalHead\"},\"line_alpha\":{\"value\":0.2},\"line_color\":{\"value\":\"orange\"},\"line_width\":{\"value\":3},\"plot\":{\"id\":\"5c53654a-6bea-443c-9179-562ddfbc74a4\",\"subtype\":\"Figure\",\"type\":\"Plot\"},\"source\":null,\"start\":null,\"x_end\":{\"value\":-0.7830000000000004},\"x_start\":{\"value\":0.0},\"y_end\":{\"value\":-0.2160000000000002},\"y_start\":{\"value\":0.0}},\"id\":\"b045f5f6-cecc-47e0-b8e1-3588923badd6\",\"type\":\"Arrow\"},{\"attributes\":{\"end\":{\"id\":\"f8753fe4-dc95-4c07-b872-09c7d7922fc6\",\"type\":\"NormalHead\"},\"line_alpha\":{\"value\":0.2},\"line_color\":{\"value\":\"orange\"},\"line_width\":{\"value\":3},\"plot\":{\"id\":\"5c53654a-6bea-443c-9179-562ddfbc74a4\",\"subtype\":\"Figure\",\"type\":\"Plot\"},\"source\":null,\"start\":null,\"x_end\":{\"value\":0.1769999999999996},\"x_start\":{\"value\":0.0},\"y_end\":{\"value\":-1.6360000000000003},\"y_start\":{\"value\":0.0}},\"id\":\"a3fff018-600f-4018-b33c-25e48f483994\",\"type\":\"Arrow\"},{\"attributes\":{\"callback\":null,\"data\":{},\"selected\":{\"id\":\"6115a8e9-f72e-46b5-ae0a-d2c11a9c09d9\",\"type\":\"Selection\"},\"selection_policy\":{\"id\":\"4caa83e6-8ede-4f0d-aaf2-b8aef78f95f6\",\"type\":\"UnionRenderers\"}},\"id\":\"16d86c7d-e7b9-4369-b4b5-9c16cdc10f92\",\"type\":\"ColumnDataSource\"},{\"attributes\":{\"fill_alpha\":{\"value\":0.1},\"fill_color\":{\"value\":\"#1f77b4\"},\"line_alpha\":{\"value\":0.1},\"line_color\":{\"value\":\"#1f77b4\"},\"x\":{\"value\":-0.7830000000000004},\"y\":{\"value\":-0.2160000000000002}},\"id\":\"82ba9168-039c-45bc-92da-f55313193e93\",\"type\":\"Circle\"},{\"attributes\":{\"line_width\":1.5,\"x\":{\"field\":\"x\"},\"y\":{\"field\":\"y\"}},\"id\":\"19ed2174-cdb6-4653-9f2d-bea986f3b6ea\",\"type\":\"Line\"},{\"attributes\":{\"fill_color\":{\"value\":\"orange\"},\"line_color\":{\"value\":\"orange\"},\"x\":{\"value\":-0.7830000000000004},\"y\":{\"value\":-0.2160000000000002}},\"id\":\"76467ced-29cd-4858-850b-5dc990aa8544\",\"type\":\"Circle\"},{\"attributes\":{\"data_source\":{\"id\":\"16d86c7d-e7b9-4369-b4b5-9c16cdc10f92\",\"type\":\"ColumnDataSource\"},\"glyph\":{\"id\":\"76467ced-29cd-4858-850b-5dc990aa8544\",\"type\":\"Circle\"},\"hover_glyph\":null,\"muted_glyph\":null,\"nonselection_glyph\":{\"id\":\"82ba9168-039c-45bc-92da-f55313193e93\",\"type\":\"Circle\"},\"selection_glyph\":null,\"view\":{\"id\":\"0351fcba-cf09-432d-8213-00cf3c0d0566\",\"type\":\"CDSView\"}},\"id\":\"543f14f0-e069-49d0-8c73-54cdf72abbf4\",\"type\":\"GlyphRenderer\"},{\"attributes\":{},\"id\":\"959e94fb-73e6-4ee9-8a66-6a4240673552\",\"type\":\"BasicTicker\"},{\"attributes\":{\"source\":{\"id\":\"16d86c7d-e7b9-4369-b4b5-9c16cdc10f92\",\"type\":\"ColumnDataSource\"}},\"id\":\"0351fcba-cf09-432d-8213-00cf3c0d0566\",\"type\":\"CDSView\"},{\"attributes\":{\"line_alpha\":0.1,\"line_color\":\"#1f77b4\",\"line_width\":1.5,\"x\":{\"field\":\"x\"},\"y\":{\"field\":\"y\"}},\"id\":\"22996ca7-ce1e-407e-8c05-248c84b2a7c8\",\"type\":\"Line\"},{\"attributes\":{\"fill_alpha\":{\"value\":0.2},\"fill_color\":{\"value\":\"orange\"},\"line_alpha\":{\"value\":0.2},\"line_color\":{\"value\":\"orange\"},\"plot\":null,\"size\":10},\"id\":\"25d95268-8cc8-482b-9fbf-820056b18863\",\"type\":\"NormalHead\"},{\"attributes\":{},\"id\":\"5d5de12e-9772-4c2f-8359-693d723a617f\",\"type\":\"PanTool\"},{\"attributes\":{},\"id\":\"d48bec95-0786-4ad7-849d-4d7ba65863ce\",\"type\":\"LinearScale\"},{\"attributes\":{\"end\":{\"id\":\"25d95268-8cc8-482b-9fbf-820056b18863\",\"type\":\"NormalHead\"},\"line_alpha\":{\"value\":0.2},\"line_color\":{\"value\":\"orange\"},\"line_width\":{\"value\":3},\"plot\":{\"id\":\"5c53654a-6bea-443c-9179-562ddfbc74a4\",\"subtype\":\"Figure\",\"type\":\"Plot\"},\"source\":null,\"start\":null,\"x_end\":{\"value\":1.387},\"x_start\":{\"value\":0.0},\"y_end\":{\"value\":-0.7660000000000005},\"y_start\":{\"value\":0.0}},\"id\":\"3223d1da-f7d3-4083-9f8e-ed95a4d2fa2e\",\"type\":\"Arrow\"},{\"attributes\":{\"source\":{\"id\":\"31c77f3f-22af-4ae5-8e21-51f6dd6daf1e\",\"type\":\"ColumnDataSource\"}},\"id\":\"84b54ea6-b734-4ea3-b6f0-b47c19a8d6cb\",\"type\":\"CDSView\"},{\"attributes\":{\"callback\":null,\"data\":{},\"selected\":{\"id\":\"b6afef4a-36f3-45a0-b970-f61354a833ee\",\"type\":\"Selection\"},\"selection_policy\":{\"id\":\"47d6524c-9a90-447e-956b-d2fb0f989ef6\",\"type\":\"UnionRenderers\"}},\"id\":\"4d60c39e-6970-448b-ba1b-a98a1430dd56\",\"type\":\"ColumnDataSource\"},{\"attributes\":{\"fill_alpha\":{\"value\":0.1},\"fill_color\":{\"value\":\"#1f77b4\"},\"line_alpha\":{\"value\":0.1},\"line_color\":{\"value\":\"#1f77b4\"},\"x\":{\"value\":1.387},\"y\":{\"value\":-0.7660000000000005}},\"id\":\"71419cd8-32c4-43e3-8ebd-7e795fdb9318\",\"type\":\"Circle\"},{\"attributes\":{\"fill_color\":{\"value\":\"orange\"},\"line_color\":{\"value\":\"orange\"},\"x\":{\"value\":1.387},\"y\":{\"value\":-0.7660000000000005}},\"id\":\"72a9a1c4-d491-499c-892b-8d3e27941636\",\"type\":\"Circle\"},{\"attributes\":{\"data_source\":{\"id\":\"4d60c39e-6970-448b-ba1b-a98a1430dd56\",\"type\":\"ColumnDataSource\"},\"glyph\":{\"id\":\"72a9a1c4-d491-499c-892b-8d3e27941636\",\"type\":\"Circle\"},\"hover_glyph\":null,\"muted_glyph\":null,\"nonselection_glyph\":{\"id\":\"71419cd8-32c4-43e3-8ebd-7e795fdb9318\",\"type\":\"Circle\"},\"selection_glyph\":null,\"view\":{\"id\":\"bd33e45f-e7d8-4e94-8f40-975b1ad17feb\",\"type\":\"CDSView\"}},\"id\":\"53e40271-09e8-4bf9-a445-af6302c82658\",\"type\":\"GlyphRenderer\"},{\"attributes\":{\"end\":{\"id\":\"5075e824-0721-4e92-ba9a-0f68efe55550\",\"type\":\"NormalHead\"},\"line_alpha\":{\"value\":0.2},\"line_color\":{\"value\":\"orange\"},\"line_width\":{\"value\":3},\"plot\":{\"id\":\"5c53654a-6bea-443c-9179-562ddfbc74a4\",\"subtype\":\"Figure\",\"type\":\"Plot\"},\"source\":null,\"start\":null,\"x_end\":{\"value\":-1.1930000000000003},\"x_start\":{\"value\":0.0},\"y_end\":{\"value\":0.8739999999999997},\"y_start\":{\"value\":0.0}},\"id\":\"4fe1f4ab-ad3a-42fa-ae22-153b1340bf05\",\"type\":\"Arrow\"},{\"attributes\":{\"source\":{\"id\":\"4d60c39e-6970-448b-ba1b-a98a1430dd56\",\"type\":\"ColumnDataSource\"}},\"id\":\"bd33e45f-e7d8-4e94-8f40-975b1ad17feb\",\"type\":\"CDSView\"},{\"attributes\":{\"fill_alpha\":{\"value\":0.1},\"fill_color\":{\"value\":\"#1f77b4\"},\"line_alpha\":{\"value\":0.1},\"line_color\":{\"value\":\"#1f77b4\"},\"x\":{\"value\":-1.1930000000000003},\"y\":{\"value\":0.8739999999999997}},\"id\":\"5be01e6a-a197-4ff8-abc5-159c9a81f96f\",\"type\":\"Circle\"},{\"attributes\":{\"fill_alpha\":{\"value\":0.2},\"fill_color\":{\"value\":\"orange\"},\"line_alpha\":{\"value\":0.2},\"line_color\":{\"value\":\"orange\"},\"plot\":null,\"size\":10},\"id\":\"5075e824-0721-4e92-ba9a-0f68efe55550\",\"type\":\"NormalHead\"},{\"attributes\":{\"fill_alpha\":{\"value\":0.2},\"fill_color\":{\"value\":\"orange\"},\"line_alpha\":{\"value\":0.2},\"line_color\":{\"value\":\"orange\"},\"plot\":null,\"size\":10},\"id\":\"2bf5c7c7-d1de-4d52-97bd-34625bdf7a7d\",\"type\":\"NormalHead\"},{\"attributes\":{\"end\":{\"id\":\"2bf5c7c7-d1de-4d52-97bd-34625bdf7a7d\",\"type\":\"NormalHead\"},\"line_alpha\":{\"value\":0.2},\"line_color\":{\"value\":\"orange\"},\"line_width\":{\"value\":3},\"plot\":{\"id\":\"5c53654a-6bea-443c-9179-562ddfbc74a4\",\"subtype\":\"Figure\",\"type\":\"Plot\"},\"source\":null,\"start\":null,\"x_end\":{\"value\":-0.5430000000000001},\"x_start\":{\"value\":0.0},\"y_end\":{\"value\":-0.5560000000000005},\"y_start\":{\"value\":0.0}},\"id\":\"dfc6b78c-a08c-4466-b402-422afd76aedd\",\"type\":\"Arrow\"},{\"attributes\":{\"callback\":null,\"data\":{},\"selected\":{\"id\":\"67f984be-7889-4d48-86ce-b730950d45b9\",\"type\":\"Selection\"},\"selection_policy\":{\"id\":\"0833ecdc-8509-40f5-b22a-62d95489cd9f\",\"type\":\"UnionRenderers\"}},\"id\":\"38f84d15-383b-4ee0-bda5-b0b00b062149\",\"type\":\"ColumnDataSource\"},{\"attributes\":{\"fill_alpha\":{\"value\":0.1},\"fill_color\":{\"value\":\"#1f77b4\"},\"line_alpha\":{\"value\":0.1},\"line_color\":{\"value\":\"#1f77b4\"},\"x\":{\"value\":-0.5430000000000001},\"y\":{\"value\":-0.5560000000000005}},\"id\":\"fdd72688-2def-408e-bf8b-41b0edfe8e9e\",\"type\":\"Circle\"},{\"attributes\":{\"fill_color\":{\"value\":\"orange\"},\"line_color\":{\"value\":\"orange\"},\"x\":{\"value\":-0.5430000000000001},\"y\":{\"value\":-0.5560000000000005}},\"id\":\"3606d26d-420c-429e-add7-f85c1b73ff4e\",\"type\":\"Circle\"},{\"attributes\":{\"callback\":null,\"data\":{\"x\":[0.0,0.0],\"y\":[-5.0,5.0]},\"selected\":{\"id\":\"01ae9f12-5d72-4a70-8a9a-55c381980b37\",\"type\":\"Selection\"},\"selection_policy\":{\"id\":\"876f573a-2a91-41c6-9221-bd925f7ee6cc\",\"type\":\"UnionRenderers\"}},\"id\":\"31c77f3f-22af-4ae5-8e21-51f6dd6daf1e\",\"type\":\"ColumnDataSource\"},{\"attributes\":{\"data_source\":{\"id\":\"38f84d15-383b-4ee0-bda5-b0b00b062149\",\"type\":\"ColumnDataSource\"},\"glyph\":{\"id\":\"3606d26d-420c-429e-add7-f85c1b73ff4e\",\"type\":\"Circle\"},\"hover_glyph\":null,\"muted_glyph\":null,\"nonselection_glyph\":{\"id\":\"fdd72688-2def-408e-bf8b-41b0edfe8e9e\",\"type\":\"Circle\"},\"selection_glyph\":null,\"view\":{\"id\":\"721e6a78-35b3-44a8-a58b-dbb7a968ef5a\",\"type\":\"CDSView\"}},\"id\":\"0e0f2365-e1b8-4146-8fd8-4000db3be0cf\",\"type\":\"GlyphRenderer\"},{\"attributes\":{\"source\":{\"id\":\"38f84d15-383b-4ee0-bda5-b0b00b062149\",\"type\":\"ColumnDataSource\"}},\"id\":\"721e6a78-35b3-44a8-a58b-dbb7a968ef5a\",\"type\":\"CDSView\"},{\"attributes\":{\"plot\":null,\"text\":\"\"},\"id\":\"27b40f6d-11c4-46b4-811d-c4df062b771b\",\"type\":\"Title\"},{\"attributes\":{\"fill_alpha\":{\"value\":0.2},\"fill_color\":{\"value\":\"orange\"},\"line_alpha\":{\"value\":0.2},\"line_color\":{\"value\":\"orange\"},\"plot\":null,\"size\":10},\"id\":\"f4b38bfc-6be1-48a5-87e5-21986f88a0d7\",\"type\":\"NormalHead\"},{\"attributes\":{\"end\":{\"id\":\"f4b38bfc-6be1-48a5-87e5-21986f88a0d7\",\"type\":\"NormalHead\"},\"line_alpha\":{\"value\":0.2},\"line_color\":{\"value\":\"orange\"},\"line_width\":{\"value\":3},\"plot\":{\"id\":\"5c53654a-6bea-443c-9179-562ddfbc74a4\",\"subtype\":\"Figure\",\"type\":\"Plot\"},\"source\":null,\"start\":null,\"x_end\":{\"value\":2.1069999999999998},\"x_start\":{\"value\":0.0},\"y_end\":{\"value\":2.064},\"y_start\":{\"value\":0.0}},\"id\":\"e5ef570c-1dea-47d9-baae-550d18f4deb3\",\"type\":\"Arrow\"},{\"attributes\":{\"fill_color\":{\"value\":\"orange\"},\"line_color\":{\"value\":\"orange\"},\"x\":{\"value\":-1.1930000000000003},\"y\":{\"value\":0.8739999999999997}},\"id\":\"9a10d9c4-c487-4699-a106-033192d2656f\",\"type\":\"Circle\"},{\"attributes\":{\"callback\":null,\"data\":{\"x\":[-5.0,5.0],\"y\":[0.0,0.0]},\"selected\":{\"id\":\"0f46789d-87b0-4716-9008-796ca6fa3565\",\"type\":\"Selection\"},\"selection_policy\":{\"id\":\"44377d7d-37a3-42e6-9435-135dc6766629\",\"type\":\"UnionRenderers\"}},\"id\":\"a03f759a-1f2e-43d3-9c72-9dcc4f3b1e8c\",\"type\":\"ColumnDataSource\"},{\"attributes\":{\"callback\":null,\"data\":{},\"selected\":{\"id\":\"7a68e3bc-23df-405d-a6fe-24fbc4afd05d\",\"type\":\"Selection\"},\"selection_policy\":{\"id\":\"83a11317-142d-4007-abd8-f98e3976da42\",\"type\":\"UnionRenderers\"}},\"id\":\"68882093-d182-48ff-ab6a-645ad3cbfb84\",\"type\":\"ColumnDataSource\"},{\"attributes\":{\"data_source\":{\"id\":\"3a926223-b49b-43f4-98eb-b30fda87cca8\",\"type\":\"ColumnDataSource\"},\"glyph\":{\"id\":\"9a10d9c4-c487-4699-a106-033192d2656f\",\"type\":\"Circle\"},\"hover_glyph\":null,\"muted_glyph\":null,\"nonselection_glyph\":{\"id\":\"5be01e6a-a197-4ff8-abc5-159c9a81f96f\",\"type\":\"Circle\"},\"selection_glyph\":null,\"view\":{\"id\":\"2d6d48e7-5390-46ba-90a6-27dc5715a9a8\",\"type\":\"CDSView\"}},\"id\":\"1c3d34ea-92a9-4f54-953c-87d71542c846\",\"type\":\"GlyphRenderer\"},{\"attributes\":{\"below\":[{\"id\":\"4c8516fe-cecc-4116-a15e-5e540e686708\",\"type\":\"LinearAxis\"}],\"left\":[{\"id\":\"45e95220-5b55-4ac9-8019-bff1ff554389\",\"type\":\"LinearAxis\"}],\"plot_height\":400,\"plot_width\":400,\"renderers\":[{\"id\":\"4c8516fe-cecc-4116-a15e-5e540e686708\",\"type\":\"LinearAxis\"},{\"id\":\"8ef48e84-69d0-413e-9d77-a80d8a558f7c\",\"type\":\"Grid\"},{\"id\":\"45e95220-5b55-4ac9-8019-bff1ff554389\",\"type\":\"LinearAxis\"},{\"id\":\"ba278fe7-fa05-408b-8e0d-cdbe9fb91bee\",\"type\":\"Grid\"},{\"id\":\"2f345fae-f086-4d8a-8a61-db80b4069045\",\"type\":\"GlyphRenderer\"},{\"id\":\"0f2f4e34-385d-4796-9f3e-d74f42baf6d4\",\"type\":\"GlyphRenderer\"},{\"id\":\"4fe1f4ab-ad3a-42fa-ae22-153b1340bf05\",\"type\":\"Arrow\"},{\"id\":\"1c3d34ea-92a9-4f54-953c-87d71542c846\",\"type\":\"GlyphRenderer\"},{\"id\":\"a3fff018-600f-4018-b33c-25e48f483994\",\"type\":\"Arrow\"},{\"id\":\"0362d996-c5db-4be3-8fb1-9a0b7f001cc6\",\"type\":\"GlyphRenderer\"},{\"id\":\"9d2f866b-b60b-4ab3-9fa6-88996b16ce19\",\"type\":\"Arrow\"},{\"id\":\"3255a40b-8cf4-42f2-aa96-d3d344c576c6\",\"type\":\"GlyphRenderer\"},{\"id\":\"ea249299-d904-4994-b765-65d6d8dacda5\",\"type\":\"Arrow\"},{\"id\":\"e1bb99c0-f398-41f2-91f7-e9820cb9e5e2\",\"type\":\"GlyphRenderer\"},{\"id\":\"b48a991a-3009-4af0-993a-51e8cb445657\",\"type\":\"Arrow\"},{\"id\":\"fff1906c-e070-45a3-9087-fc7cc0e7986b\",\"type\":\"GlyphRenderer\"},{\"id\":\"b045f5f6-cecc-47e0-b8e1-3588923badd6\",\"type\":\"Arrow\"},{\"id\":\"543f14f0-e069-49d0-8c73-54cdf72abbf4\",\"type\":\"GlyphRenderer\"},{\"id\":\"3223d1da-f7d3-4083-9f8e-ed95a4d2fa2e\",\"type\":\"Arrow\"},{\"id\":\"53e40271-09e8-4bf9-a445-af6302c82658\",\"type\":\"GlyphRenderer\"},{\"id\":\"dfc6b78c-a08c-4466-b402-422afd76aedd\",\"type\":\"Arrow\"},{\"id\":\"0e0f2365-e1b8-4146-8fd8-4000db3be0cf\",\"type\":\"GlyphRenderer\"},{\"id\":\"e5ef570c-1dea-47d9-baae-550d18f4deb3\",\"type\":\"Arrow\"},{\"id\":\"a6596702-4a75-4f32-9220-d020153c9a87\",\"type\":\"GlyphRenderer\"},{\"id\":\"d38021c2-1579-4afe-a4d8-afd6d91ddbf7\",\"type\":\"Arrow\"},{\"id\":\"762412d1-aca9-450f-83db-413a45d38b23\",\"type\":\"GlyphRenderer\"}],\"title\":{\"id\":\"27b40f6d-11c4-46b4-811d-c4df062b771b\",\"type\":\"Title\"},\"toolbar\":{\"id\":\"40acd9a2-8361-4853-b96f-179e3642e472\",\"type\":\"Toolbar\"},\"x_range\":{\"id\":\"ef65452f-78ed-45ea-a143-53345785c3b2\",\"type\":\"Range1d\"},\"x_scale\":{\"id\":\"d48bec95-0786-4ad7-849d-4d7ba65863ce\",\"type\":\"LinearScale\"},\"y_range\":{\"id\":\"34aa9e9c-d55f-4392-bbe7-edaa304eab55\",\"type\":\"Range1d\"},\"y_scale\":{\"id\":\"5cc8c115-8973-4f66-8b82-45323c552113\",\"type\":\"LinearScale\"}},\"id\":\"5c53654a-6bea-443c-9179-562ddfbc74a4\",\"subtype\":\"Figure\",\"type\":\"Plot\"},{\"attributes\":{\"fill_alpha\":{\"value\":0.1},\"fill_color\":{\"value\":\"#1f77b4\"},\"line_alpha\":{\"value\":0.1},\"line_color\":{\"value\":\"#1f77b4\"},\"x\":{\"value\":2.1069999999999998},\"y\":{\"value\":2.064}},\"id\":\"f7782eb2-07f2-4302-bdab-3a663a9e4956\",\"type\":\"Circle\"},{\"attributes\":{\"source\":{\"id\":\"3a926223-b49b-43f4-98eb-b30fda87cca8\",\"type\":\"ColumnDataSource\"}},\"id\":\"2d6d48e7-5390-46ba-90a6-27dc5715a9a8\",\"type\":\"CDSView\"},{\"attributes\":{\"data_source\":{\"id\":\"a03f759a-1f2e-43d3-9c72-9dcc4f3b1e8c\",\"type\":\"ColumnDataSource\"},\"glyph\":{\"id\":\"19ed2174-cdb6-4653-9f2d-bea986f3b6ea\",\"type\":\"Line\"},\"hover_glyph\":null,\"muted_glyph\":null,\"nonselection_glyph\":{\"id\":\"489186d4-9f88-43c6-92b7-922d5852c182\",\"type\":\"Line\"},\"selection_glyph\":null,\"view\":{\"id\":\"3719742e-9ffe-4f24-8ad5-305d95cb5701\",\"type\":\"CDSView\"}},\"id\":\"2f345fae-f086-4d8a-8a61-db80b4069045\",\"type\":\"GlyphRenderer\"},{\"attributes\":{\"fill_color\":{\"value\":\"orange\"},\"line_color\":{\"value\":\"orange\"},\"x\":{\"value\":2.1069999999999998},\"y\":{\"value\":2.064}},\"id\":\"bd43515a-ade6-4759-a696-23464e969268\",\"type\":\"Circle\"},{\"attributes\":{\"fill_alpha\":{\"value\":0.2},\"fill_color\":{\"value\":\"orange\"},\"line_alpha\":{\"value\":0.2},\"line_color\":{\"value\":\"orange\"},\"plot\":null,\"size\":10},\"id\":\"f8753fe4-dc95-4c07-b872-09c7d7922fc6\",\"type\":\"NormalHead\"},{\"attributes\":{\"data_source\":{\"id\":\"68882093-d182-48ff-ab6a-645ad3cbfb84\",\"type\":\"ColumnDataSource\"},\"glyph\":{\"id\":\"bd43515a-ade6-4759-a696-23464e969268\",\"type\":\"Circle\"},\"hover_glyph\":null,\"muted_glyph\":null,\"nonselection_glyph\":{\"id\":\"f7782eb2-07f2-4302-bdab-3a663a9e4956\",\"type\":\"Circle\"},\"selection_glyph\":null,\"view\":{\"id\":\"cc34690e-306d-4883-ad10-a40d842b7e34\",\"type\":\"CDSView\"}},\"id\":\"a6596702-4a75-4f32-9220-d020153c9a87\",\"type\":\"GlyphRenderer\"},{\"attributes\":{\"source\":{\"id\":\"68882093-d182-48ff-ab6a-645ad3cbfb84\",\"type\":\"ColumnDataSource\"}},\"id\":\"cc34690e-306d-4883-ad10-a40d842b7e34\",\"type\":\"CDSView\"},{\"attributes\":{\"line_alpha\":0.1,\"line_color\":\"#1f77b4\",\"line_width\":1.5,\"x\":{\"field\":\"x\"},\"y\":{\"field\":\"y\"}},\"id\":\"489186d4-9f88-43c6-92b7-922d5852c182\",\"type\":\"Line\"},{\"attributes\":{\"fill_alpha\":{\"value\":0.2},\"fill_color\":{\"value\":\"orange\"},\"line_alpha\":{\"value\":0.2},\"line_color\":{\"value\":\"orange\"},\"plot\":null,\"size\":10},\"id\":\"c30907fc-9f46-47ed-b846-d0ce74f86148\",\"type\":\"NormalHead\"},{\"attributes\":{\"fill_color\":{\"value\":\"orange\"},\"line_color\":{\"value\":\"orange\"},\"x\":{\"value\":0.1769999999999996},\"y\":{\"value\":-1.6360000000000003}},\"id\":\"d71b9619-0a7b-4a79-b275-b06f33f2c437\",\"type\":\"Circle\"},{\"attributes\":{\"formatter\":{\"id\":\"183384cc-627d-46c9-b25b-2f8f78c2af51\",\"type\":\"BasicTickFormatter\"},\"plot\":{\"id\":\"5c53654a-6bea-443c-9179-562ddfbc74a4\",\"subtype\":\"Figure\",\"type\":\"Plot\"},\"ticker\":{\"id\":\"0986ce81-89f9-4c5f-bc70-9feb008d1890\",\"type\":\"BasicTicker\"}},\"id\":\"45e95220-5b55-4ac9-8019-bff1ff554389\",\"type\":\"LinearAxis\"},{\"attributes\":{\"end\":{\"id\":\"c30907fc-9f46-47ed-b846-d0ce74f86148\",\"type\":\"NormalHead\"},\"line_alpha\":{\"value\":0.2},\"line_color\":{\"value\":\"orange\"},\"line_width\":{\"value\":3},\"plot\":{\"id\":\"5c53654a-6bea-443c-9179-562ddfbc74a4\",\"subtype\":\"Figure\",\"type\":\"Plot\"},\"source\":null,\"start\":null,\"x_end\":{\"value\":0.8969999999999998},\"x_start\":{\"value\":0.0},\"y_end\":{\"value\":0.2639999999999998},\"y_start\":{\"value\":0.0}},\"id\":\"d38021c2-1579-4afe-a4d8-afd6d91ddbf7\",\"type\":\"Arrow\"},{\"attributes\":{},\"id\":\"5cc8c115-8973-4f66-8b82-45323c552113\",\"type\":\"LinearScale\"},{\"attributes\":{\"callback\":null,\"data\":{},\"selected\":{\"id\":\"300da3af-2ca0-4078-81e0-668685d6e83a\",\"type\":\"Selection\"},\"selection_policy\":{\"id\":\"81dbb8e4-80ae-4ff1-9ffd-5de7302e4e0f\",\"type\":\"UnionRenderers\"}},\"id\":\"53d5a7d4-4c87-4e1e-91b7-6bcd827dfa69\",\"type\":\"ColumnDataSource\"},{\"attributes\":{\"dimension\":1,\"plot\":{\"id\":\"5c53654a-6bea-443c-9179-562ddfbc74a4\",\"subtype\":\"Figure\",\"type\":\"Plot\"},\"ticker\":{\"id\":\"0986ce81-89f9-4c5f-bc70-9feb008d1890\",\"type\":\"BasicTicker\"}},\"id\":\"ba278fe7-fa05-408b-8e0d-cdbe9fb91bee\",\"type\":\"Grid\"},{\"attributes\":{\"fill_alpha\":{\"value\":0.1},\"fill_color\":{\"value\":\"#1f77b4\"},\"line_alpha\":{\"value\":0.1},\"line_color\":{\"value\":\"#1f77b4\"},\"x\":{\"value\":0.8969999999999998},\"y\":{\"value\":0.2639999999999998}},\"id\":\"c9fdfdc5-dc08-4299-9c57-2f047eaedfa5\",\"type\":\"Circle\"},{\"attributes\":{\"active_drag\":\"auto\",\"active_inspect\":\"auto\",\"active_multi\":null,\"active_scroll\":\"auto\",\"active_tap\":\"auto\",\"tools\":[{\"id\":\"0d1ccf87-3335-4362-99ea-303cb0e444a5\",\"type\":\"WheelZoomTool\"},{\"id\":\"5d5de12e-9772-4c2f-8359-693d723a617f\",\"type\":\"PanTool\"},{\"id\":\"d9740e2f-0bec-4544-aa1e-44531af9e82f\",\"type\":\"ResetTool\"}]},\"id\":\"40acd9a2-8361-4853-b96f-179e3642e472\",\"type\":\"Toolbar\"},{\"attributes\":{\"fill_color\":{\"value\":\"orange\"},\"line_color\":{\"value\":\"orange\"},\"x\":{\"value\":0.8969999999999998},\"y\":{\"value\":0.2639999999999998}},\"id\":\"7227156f-ae4b-431c-88ec-2e57e0438d0d\",\"type\":\"Circle\"},{\"attributes\":{\"plot\":{\"id\":\"5c53654a-6bea-443c-9179-562ddfbc74a4\",\"subtype\":\"Figure\",\"type\":\"Plot\"},\"ticker\":{\"id\":\"959e94fb-73e6-4ee9-8a66-6a4240673552\",\"type\":\"BasicTicker\"}},\"id\":\"8ef48e84-69d0-413e-9d77-a80d8a558f7c\",\"type\":\"Grid\"},{\"attributes\":{\"data_source\":{\"id\":\"53d5a7d4-4c87-4e1e-91b7-6bcd827dfa69\",\"type\":\"ColumnDataSource\"},\"glyph\":{\"id\":\"7227156f-ae4b-431c-88ec-2e57e0438d0d\",\"type\":\"Circle\"},\"hover_glyph\":null,\"muted_glyph\":null,\"nonselection_glyph\":{\"id\":\"c9fdfdc5-dc08-4299-9c57-2f047eaedfa5\",\"type\":\"Circle\"},\"selection_glyph\":null,\"view\":{\"id\":\"dd01c009-a283-45d0-99f2-6b9e72365b99\",\"type\":\"CDSView\"}},\"id\":\"762412d1-aca9-450f-83db-413a45d38b23\",\"type\":\"GlyphRenderer\"},{\"attributes\":{\"source\":{\"id\":\"53d5a7d4-4c87-4e1e-91b7-6bcd827dfa69\",\"type\":\"ColumnDataSource\"}},\"id\":\"dd01c009-a283-45d0-99f2-6b9e72365b99\",\"type\":\"CDSView\"},{\"attributes\":{\"callback\":null,\"end\":3.5,\"start\":-3.5},\"id\":\"ef65452f-78ed-45ea-a143-53345785c3b2\",\"type\":\"Range1d\"},{\"attributes\":{},\"id\":\"0488e3b2-59af-4606-bd71-1562dd0dde0a\",\"type\":\"BasicTickFormatter\"},{\"attributes\":{},\"id\":\"0f46789d-87b0-4716-9008-796ca6fa3565\",\"type\":\"Selection\"},{\"attributes\":{},\"id\":\"cda2aef3-5968-4bf3-b325-3a8047ffadce\",\"type\":\"UnionRenderers\"},{\"attributes\":{},\"id\":\"44377d7d-37a3-42e6-9435-135dc6766629\",\"type\":\"UnionRenderers\"},{\"attributes\":{},\"id\":\"01ae9f12-5d72-4a70-8a9a-55c381980b37\",\"type\":\"Selection\"},{\"attributes\":{},\"id\":\"876f573a-2a91-41c6-9221-bd925f7ee6cc\",\"type\":\"UnionRenderers\"},{\"attributes\":{\"callback\":null,\"end\":3.5,\"start\":-3.5},\"id\":\"34aa9e9c-d55f-4392-bbe7-edaa304eab55\",\"type\":\"Range1d\"},{\"attributes\":{},\"id\":\"9238d521-5269-4cd9-9e33-69c878e656b2\",\"type\":\"Selection\"},{\"attributes\":{},\"id\":\"79b8ba5d-58bd-4dfb-8af8-4f9fe1d6eaba\",\"type\":\"UnionRenderers\"},{\"attributes\":{},\"id\":\"23ff8142-ada6-4281-9d60-f0cef6574a7d\",\"type\":\"Selection\"},{\"attributes\":{},\"id\":\"b4c25f13-9833-4df1-bd9f-9dd3d7a0b7a6\",\"type\":\"UnionRenderers\"},{\"attributes\":{},\"id\":\"c366744a-77c9-4809-ae8b-28b4b20244f4\",\"type\":\"Selection\"}],\"root_ids\":[\"5c53654a-6bea-443c-9179-562ddfbc74a4\"]},\"title\":\"Bokeh Application\",\"version\":\"0.13.0\"}};\n",
       "  var render_items = [{\"docid\":\"4be5c08b-e9c3-49fd-a5d2-5a070f360f55\",\"roots\":{\"5c53654a-6bea-443c-9179-562ddfbc74a4\":\"13e3541a-5f5b-492f-b009-76315a125b5c\"}}];\n",
       "  root.Bokeh.embed.embed_items_notebook(docs_json, render_items);\n",
       "\n",
       "  }\n",
       "  if (root.Bokeh !== undefined) {\n",
       "    embed_document(root);\n",
       "  } else {\n",
       "    var attempts = 0;\n",
       "    var timer = setInterval(function(root) {\n",
       "      if (root.Bokeh !== undefined) {\n",
       "        embed_document(root);\n",
       "        clearInterval(timer);\n",
       "      }\n",
       "      attempts++;\n",
       "      if (attempts > 100) {\n",
       "        console.log(\"Bokeh: ERROR: Unable to run BokehJS code because BokehJS library is missing\")\n",
       "        clearInterval(timer);\n",
       "      }\n",
       "    }, 10, root)\n",
       "  }\n",
       "})(window);"
      ],
      "application/vnd.bokehjs_exec.v0+json": ""
     },
     "metadata": {
      "application/vnd.bokehjs_exec.v0+json": {
       "id": "5c53654a-6bea-443c-9179-562ddfbc74a4"
      }
     },
     "output_type": "display_data"
    }
   ],
   "source": [
    "plot.clear().graph()\n",
    "plot.vec_w_point(X_dev,color=\"orange\",alpha=.2)\n",
    "plot.show()"
   ]
  },
  {
   "cell_type": "markdown",
   "metadata": {},
   "source": [
    "But now were are going to standardize these deviations so that they are in terms of standard deviations (i.e. standard deviations from the mean)"
   ]
  },
  {
   "cell_type": "code",
   "execution_count": 17,
   "metadata": {},
   "outputs": [
    {
     "data": {
      "text/plain": [
       "array([[-0.84890524,  0.74651367],\n",
       "       [ 0.12594822, -1.39736425],\n",
       "       [-0.48600359,  1.30170117],\n",
       "       [-1.80241155, -0.47489885],\n",
       "       [ 0.83040437, -0.85071809],\n",
       "       [-0.55716077, -0.18449308],\n",
       "       [ 0.98695018, -0.65426713],\n",
       "       [-0.38638353, -0.47489885],\n",
       "       [ 1.49928193,  1.76293387],\n",
       "       [ 0.63827997,  0.22549154]])"
      ]
     },
     "execution_count": 17,
     "metadata": {},
     "output_type": "execute_result"
    }
   ],
   "source": [
    "X_std = X_dev/np.sqrt(sigma.diagonal())\n",
    "X_std"
   ]
  },
  {
   "cell_type": "code",
   "execution_count": 18,
   "metadata": {},
   "outputs": [
    {
     "data": {
      "text/html": [
       "\n",
       "\n",
       "\n",
       "\n",
       "\n",
       "\n",
       "  <div class=\"bk-root\" id=\"0555c513-e5e3-412d-905d-136ac638402b\"></div>\n"
      ]
     },
     "metadata": {},
     "output_type": "display_data"
    },
    {
     "data": {
      "application/javascript": [
       "(function(root) {\n",
       "  function embed_document(root) {\n",
       "    \n",
       "  var docs_json = {\"c3f1b392-5431-48ee-91e1-d38bb4d6abda\":{\"roots\":{\"references\":[{\"attributes\":{\"data_source\":{\"id\":\"037a4438-92cc-466a-80f3-043b30889617\",\"type\":\"ColumnDataSource\"},\"glyph\":{\"id\":\"b3cf78ae-eb00-4ccf-8d21-6f3c1a41236a\",\"type\":\"Circle\"},\"hover_glyph\":null,\"muted_glyph\":null,\"nonselection_glyph\":{\"id\":\"539e15f3-7302-4372-9f6a-7bef42e1e4e5\",\"type\":\"Circle\"},\"selection_glyph\":null,\"view\":{\"id\":\"499ccd0a-d457-474b-a147-9acaee42185e\",\"type\":\"CDSView\"}},\"id\":\"78f57177-a4fb-4a4a-9cce-2cc586f7d0d0\",\"type\":\"GlyphRenderer\"},{\"attributes\":{\"source\":{\"id\":\"d62d4c77-e9fe-4f88-9185-a24cc9ba9fd0\",\"type\":\"ColumnDataSource\"}},\"id\":\"1e4467cc-4b7a-4f2d-aafc-b83b5a1d6f9f\",\"type\":\"CDSView\"},{\"attributes\":{\"fill_alpha\":{\"value\":0.1},\"fill_color\":{\"value\":\"#1f77b4\"},\"line_alpha\":{\"value\":0.1},\"line_color\":{\"value\":\"#1f77b4\"},\"x\":{\"value\":1.4992819301561409},\"y\":{\"value\":1.7629338725160315}},\"id\":\"b098ee82-0a6c-4e87-8c2b-0f0dc510b55d\",\"type\":\"Circle\"},{\"attributes\":{\"fill_alpha\":{\"value\":0.2},\"fill_color\":{\"value\":\"green\"},\"line_alpha\":{\"value\":0.2},\"line_color\":{\"value\":\"green\"},\"plot\":null,\"size\":10},\"id\":\"f14c7aa2-9388-4b20-9330-27ed36c42c9d\",\"type\":\"NormalHead\"},{\"attributes\":{\"fill_color\":{\"value\":\"green\"},\"line_color\":{\"value\":\"green\"},\"x\":{\"value\":-0.38638352542704546},\"y\":{\"value\":-0.47489885325528797}},\"id\":\"a19625ec-dda9-4327-b422-973485a4126f\",\"type\":\"Circle\"},{\"attributes\":{\"callback\":null,\"data\":{},\"selected\":{\"id\":\"9c43909f-5050-4f0c-ab39-df110c3d6d33\",\"type\":\"Selection\"},\"selection_policy\":{\"id\":\"07097de1-1406-4997-8093-552e6167589d\",\"type\":\"UnionRenderers\"}},\"id\":\"a3198568-3fd1-400e-a50a-6b623e19e443\",\"type\":\"ColumnDataSource\"},{\"attributes\":{\"end\":{\"id\":\"f14c7aa2-9388-4b20-9330-27ed36c42c9d\",\"type\":\"NormalHead\"},\"line_alpha\":{\"value\":0.2},\"line_color\":{\"value\":\"green\"},\"line_width\":{\"value\":3},\"plot\":{\"id\":\"7fe439c4-7b62-455e-842c-fdce3bfbcb5b\",\"subtype\":\"Figure\",\"type\":\"Plot\"},\"source\":null,\"start\":null,\"x_end\":{\"value\":-1.8024115467895139},\"x_start\":{\"value\":0.0},\"y_end\":{\"value\":-0.47489885325528797},\"y_start\":{\"value\":0.0}},\"id\":\"95fb9a5c-3d8a-4cb0-8908-ddfa466406d2\",\"type\":\"Arrow\"},{\"attributes\":{\"callback\":null,\"data\":{},\"selected\":{\"id\":\"87dfd2be-cc59-43d0-8e39-c178587bf6a6\",\"type\":\"Selection\"},\"selection_policy\":{\"id\":\"4e4dd848-c6b2-4a9f-847f-03e9b2c10a19\",\"type\":\"UnionRenderers\"}},\"id\":\"582f72d4-ba46-47f1-bbb6-98e2c81d4818\",\"type\":\"ColumnDataSource\"},{\"attributes\":{\"fill_alpha\":{\"value\":0.1},\"fill_color\":{\"value\":\"#1f77b4\"},\"line_alpha\":{\"value\":0.1},\"line_color\":{\"value\":\"#1f77b4\"},\"x\":{\"value\":-1.8024115467895139},\"y\":{\"value\":-0.47489885325528797}},\"id\":\"b6d41402-81f9-4e10-a76f-6efa73645a5a\",\"type\":\"Circle\"},{\"attributes\":{\"fill_color\":{\"value\":\"green\"},\"line_color\":{\"value\":\"green\"},\"x\":{\"value\":-1.8024115467895139},\"y\":{\"value\":-0.47489885325528797}},\"id\":\"c3ca81b9-a65d-4ac8-8f5d-62c2fa9ccca8\",\"type\":\"Circle\"},{\"attributes\":{\"data_source\":{\"id\":\"582f72d4-ba46-47f1-bbb6-98e2c81d4818\",\"type\":\"ColumnDataSource\"},\"glyph\":{\"id\":\"c3ca81b9-a65d-4ac8-8f5d-62c2fa9ccca8\",\"type\":\"Circle\"},\"hover_glyph\":null,\"muted_glyph\":null,\"nonselection_glyph\":{\"id\":\"b6d41402-81f9-4e10-a76f-6efa73645a5a\",\"type\":\"Circle\"},\"selection_glyph\":null,\"view\":{\"id\":\"2f4f88be-3743-4e32-95f0-020443962d04\",\"type\":\"CDSView\"}},\"id\":\"afb16860-ed81-4f50-9ce2-f36cb28dc4e7\",\"type\":\"GlyphRenderer\"},{\"attributes\":{\"source\":{\"id\":\"582f72d4-ba46-47f1-bbb6-98e2c81d4818\",\"type\":\"ColumnDataSource\"}},\"id\":\"2f4f88be-3743-4e32-95f0-020443962d04\",\"type\":\"CDSView\"},{\"attributes\":{\"fill_alpha\":{\"value\":0.2},\"fill_color\":{\"value\":\"green\"},\"line_alpha\":{\"value\":0.2},\"line_color\":{\"value\":\"green\"},\"plot\":null,\"size\":10},\"id\":\"c5e7d5bb-1056-4cc2-808b-be65be99b794\",\"type\":\"NormalHead\"},{\"attributes\":{\"end\":{\"id\":\"c5e7d5bb-1056-4cc2-808b-be65be99b794\",\"type\":\"NormalHead\"},\"line_alpha\":{\"value\":0.2},\"line_color\":{\"value\":\"green\"},\"line_width\":{\"value\":3},\"plot\":{\"id\":\"7fe439c4-7b62-455e-842c-fdce3bfbcb5b\",\"subtype\":\"Figure\",\"type\":\"Plot\"},\"source\":null,\"start\":null,\"x_end\":{\"value\":0.8304043723266329},\"x_start\":{\"value\":0.0},\"y_end\":{\"value\":-0.8507180896443644},\"y_start\":{\"value\":0.0}},\"id\":\"bce24bf0-c65f-445d-a6ba-907c497774ca\",\"type\":\"Arrow\"},{\"attributes\":{\"callback\":null,\"data\":{},\"selected\":{\"id\":\"3ee0dc7d-efa3-4aa5-a234-df0aba1386ca\",\"type\":\"Selection\"},\"selection_policy\":{\"id\":\"9fe2de0e-d631-4ad7-b7b8-e86c1259c787\",\"type\":\"UnionRenderers\"}},\"id\":\"c614adca-a823-4aa5-9cf9-3e3325b8613d\",\"type\":\"ColumnDataSource\"},{\"attributes\":{\"fill_alpha\":{\"value\":0.1},\"fill_color\":{\"value\":\"#1f77b4\"},\"line_alpha\":{\"value\":0.1},\"line_color\":{\"value\":\"#1f77b4\"},\"x\":{\"value\":0.8304043723266329},\"y\":{\"value\":-0.8507180896443644}},\"id\":\"7dad9073-67fb-4cb7-9da7-f236694ea20e\",\"type\":\"Circle\"},{\"attributes\":{\"fill_color\":{\"value\":\"green\"},\"line_color\":{\"value\":\"green\"},\"x\":{\"value\":0.8304043723266329},\"y\":{\"value\":-0.8507180896443644}},\"id\":\"db2858f1-baa6-4067-9585-65210eeaccdd\",\"type\":\"Circle\"},{\"attributes\":{\"data_source\":{\"id\":\"c614adca-a823-4aa5-9cf9-3e3325b8613d\",\"type\":\"ColumnDataSource\"},\"glyph\":{\"id\":\"db2858f1-baa6-4067-9585-65210eeaccdd\",\"type\":\"Circle\"},\"hover_glyph\":null,\"muted_glyph\":null,\"nonselection_glyph\":{\"id\":\"7dad9073-67fb-4cb7-9da7-f236694ea20e\",\"type\":\"Circle\"},\"selection_glyph\":null,\"view\":{\"id\":\"29e1b936-be61-4dc4-bfba-06f936333286\",\"type\":\"CDSView\"}},\"id\":\"8fa500a4-ed71-431e-b6e9-027d499519a0\",\"type\":\"GlyphRenderer\"},{\"attributes\":{\"source\":{\"id\":\"c614adca-a823-4aa5-9cf9-3e3325b8613d\",\"type\":\"ColumnDataSource\"}},\"id\":\"29e1b936-be61-4dc4-bfba-06f936333286\",\"type\":\"CDSView\"},{\"attributes\":{\"end\":{\"id\":\"bfa2cd9f-3e83-4209-9f6b-aa6fa27528c1\",\"type\":\"NormalHead\"},\"line_alpha\":{\"value\":0.2},\"line_color\":{\"value\":\"green\"},\"line_width\":{\"value\":3},\"plot\":{\"id\":\"7fe439c4-7b62-455e-842c-fdce3bfbcb5b\",\"subtype\":\"Figure\",\"type\":\"Plot\"},\"source\":null,\"start\":null,\"x_end\":{\"value\":0.12594822099555594},\"x_start\":{\"value\":0.0},\"y_end\":{\"value\":-1.3973642516648392},\"y_start\":{\"value\":0.0}},\"id\":\"f76103ba-91d2-4c9c-bfc0-070ba15264c7\",\"type\":\"Arrow\"},{\"attributes\":{\"fill_alpha\":{\"value\":0.2},\"fill_color\":{\"value\":\"green\"},\"line_alpha\":{\"value\":0.2},\"line_color\":{\"value\":\"green\"},\"plot\":null,\"size\":10},\"id\":\"4bf8e264-8c63-4751-8f23-92cb4ca53bbb\",\"type\":\"NormalHead\"},{\"attributes\":{\"callback\":null,\"data\":{},\"selected\":{\"id\":\"12d20678-e4b2-415c-b35d-80179adde6f5\",\"type\":\"Selection\"},\"selection_policy\":{\"id\":\"73ac9f07-0bb0-486b-879e-521976c5b8dd\",\"type\":\"UnionRenderers\"}},\"id\":\"d62d4c77-e9fe-4f88-9185-a24cc9ba9fd0\",\"type\":\"ColumnDataSource\"},{\"attributes\":{\"end\":{\"id\":\"4bf8e264-8c63-4751-8f23-92cb4ca53bbb\",\"type\":\"NormalHead\"},\"line_alpha\":{\"value\":0.2},\"line_color\":{\"value\":\"green\"},\"line_width\":{\"value\":3},\"plot\":{\"id\":\"7fe439c4-7b62-455e-842c-fdce3bfbcb5b\",\"subtype\":\"Figure\",\"type\":\"Plot\"},\"source\":null,\"start\":null,\"x_end\":{\"value\":-0.5571607742345794},\"x_start\":{\"value\":0.0},\"y_end\":{\"value\":-0.18449307968191042},\"y_start\":{\"value\":0.0}},\"id\":\"0b2b90f2-d3e9-484a-a941-d782e467f369\",\"type\":\"Arrow\"},{\"attributes\":{\"data_source\":{\"id\":\"1676fab3-d902-463f-b28a-51e782067864\",\"type\":\"ColumnDataSource\"},\"glyph\":{\"id\":\"ec64a548-0739-4f9d-aa36-189de985fa22\",\"type\":\"Circle\"},\"hover_glyph\":null,\"muted_glyph\":null,\"nonselection_glyph\":{\"id\":\"d972a8e3-d46e-4134-855b-690392fa599e\",\"type\":\"Circle\"},\"selection_glyph\":null,\"view\":{\"id\":\"27d3c740-6e58-4078-8af8-208c6979dd86\",\"type\":\"CDSView\"}},\"id\":\"246a7e4b-00a1-4225-a805-0b819335e149\",\"type\":\"GlyphRenderer\"},{\"attributes\":{\"end\":{\"id\":\"031b52c3-d73c-4e81-b84a-3fc1f82c46c6\",\"type\":\"NormalHead\"},\"line_alpha\":{\"value\":0.2},\"line_color\":{\"value\":\"green\"},\"line_width\":{\"value\":3},\"plot\":{\"id\":\"7fe439c4-7b62-455e-842c-fdce3bfbcb5b\",\"subtype\":\"Figure\",\"type\":\"Plot\"},\"source\":null,\"start\":null,\"x_end\":{\"value\":1.4992819301561409},\"x_start\":{\"value\":0.0},\"y_end\":{\"value\":1.7629338725160315},\"y_start\":{\"value\":0.0}},\"id\":\"5eb479b0-395e-4854-aee5-f7794ac464bd\",\"type\":\"Arrow\"},{\"attributes\":{\"callback\":null,\"data\":{},\"selected\":{\"id\":\"a9dc848b-389b-40de-a2d0-dee4a7f6bd82\",\"type\":\"Selection\"},\"selection_policy\":{\"id\":\"fc605b5d-8bc9-4532-8bcf-9448dc5b478f\",\"type\":\"UnionRenderers\"}},\"id\":\"a68a0c70-25f4-4d67-93f9-3dc31fb52333\",\"type\":\"ColumnDataSource\"},{\"attributes\":{\"fill_alpha\":{\"value\":0.2},\"fill_color\":{\"value\":\"green\"},\"line_alpha\":{\"value\":0.2},\"line_color\":{\"value\":\"green\"},\"plot\":null,\"size\":10},\"id\":\"031b52c3-d73c-4e81-b84a-3fc1f82c46c6\",\"type\":\"NormalHead\"},{\"attributes\":{\"data_source\":{\"id\":\"d62d4c77-e9fe-4f88-9185-a24cc9ba9fd0\",\"type\":\"ColumnDataSource\"},\"glyph\":{\"id\":\"a19625ec-dda9-4327-b422-973485a4126f\",\"type\":\"Circle\"},\"hover_glyph\":null,\"muted_glyph\":null,\"nonselection_glyph\":{\"id\":\"e64c38c9-68f8-4cfa-ac15-02c35c72a17f\",\"type\":\"Circle\"},\"selection_glyph\":null,\"view\":{\"id\":\"1e4467cc-4b7a-4f2d-aafc-b83b5a1d6f9f\",\"type\":\"CDSView\"}},\"id\":\"306e52a3-e44a-4a1c-8584-4412ad4f05ff\",\"type\":\"GlyphRenderer\"},{\"attributes\":{\"fill_alpha\":{\"value\":0.1},\"fill_color\":{\"value\":\"#1f77b4\"},\"line_alpha\":{\"value\":0.1},\"line_color\":{\"value\":\"#1f77b4\"},\"x\":{\"value\":-0.5571607742345794},\"y\":{\"value\":-0.18449307968191042}},\"id\":\"7e613981-4916-4c19-81e2-3cbf89e704d4\",\"type\":\"Circle\"},{\"attributes\":{\"callback\":null,\"data\":{},\"selected\":{\"id\":\"0e5d6466-cd71-4a10-8a82-8686044438ba\",\"type\":\"Selection\"},\"selection_policy\":{\"id\":\"52a1980a-20fe-4650-9114-47ece80b7d31\",\"type\":\"UnionRenderers\"}},\"id\":\"1676fab3-d902-463f-b28a-51e782067864\",\"type\":\"ColumnDataSource\"},{\"attributes\":{\"fill_color\":{\"value\":\"green\"},\"line_color\":{\"value\":\"green\"},\"x\":{\"value\":-0.5571607742345794},\"y\":{\"value\":-0.18449307968191042}},\"id\":\"311a70bb-39c3-4662-9383-7ab99e7684a2\",\"type\":\"Circle\"},{\"attributes\":{\"fill_alpha\":{\"value\":0.1},\"fill_color\":{\"value\":\"#1f77b4\"},\"line_alpha\":{\"value\":0.1},\"line_color\":{\"value\":\"#1f77b4\"},\"x\":{\"value\":-0.8489052409474498},\"y\":{\"value\":0.7465136650092107}},\"id\":\"d972a8e3-d46e-4134-855b-690392fa599e\",\"type\":\"Circle\"},{\"attributes\":{\"data_source\":{\"id\":\"a68a0c70-25f4-4d67-93f9-3dc31fb52333\",\"type\":\"ColumnDataSource\"},\"glyph\":{\"id\":\"311a70bb-39c3-4662-9383-7ab99e7684a2\",\"type\":\"Circle\"},\"hover_glyph\":null,\"muted_glyph\":null,\"nonselection_glyph\":{\"id\":\"7e613981-4916-4c19-81e2-3cbf89e704d4\",\"type\":\"Circle\"},\"selection_glyph\":null,\"view\":{\"id\":\"5b927cb3-b16f-48d3-a175-62376dd917c2\",\"type\":\"CDSView\"}},\"id\":\"009b5c53-5ab0-4572-a445-2e475b95b4fd\",\"type\":\"GlyphRenderer\"},{\"attributes\":{\"fill_color\":{\"value\":\"green\"},\"line_color\":{\"value\":\"green\"},\"x\":{\"value\":-0.8489052409474498},\"y\":{\"value\":0.7465136650092107}},\"id\":\"ec64a548-0739-4f9d-aa36-189de985fa22\",\"type\":\"Circle\"},{\"attributes\":{\"source\":{\"id\":\"a68a0c70-25f4-4d67-93f9-3dc31fb52333\",\"type\":\"ColumnDataSource\"}},\"id\":\"5b927cb3-b16f-48d3-a175-62376dd917c2\",\"type\":\"CDSView\"},{\"attributes\":{\"fill_alpha\":{\"value\":0.2},\"fill_color\":{\"value\":\"green\"},\"line_alpha\":{\"value\":0.2},\"line_color\":{\"value\":\"green\"},\"plot\":null,\"size\":10},\"id\":\"04734308-e6a1-4a57-bdd0-aff0238ec8c2\",\"type\":\"NormalHead\"},{\"attributes\":{\"end\":{\"id\":\"04734308-e6a1-4a57-bdd0-aff0238ec8c2\",\"type\":\"NormalHead\"},\"line_alpha\":{\"value\":0.2},\"line_color\":{\"value\":\"green\"},\"line_width\":{\"value\":3},\"plot\":{\"id\":\"7fe439c4-7b62-455e-842c-fdce3bfbcb5b\",\"subtype\":\"Figure\",\"type\":\"Plot\"},\"source\":null,\"start\":null,\"x_end\":{\"value\":0.9869501837335394},\"x_start\":{\"value\":0.0},\"y_end\":{\"value\":-0.6542671251682562},\"y_start\":{\"value\":0.0}},\"id\":\"d26074ed-432e-491c-886e-d4e64ca28d18\",\"type\":\"Arrow\"},{\"attributes\":{\"callback\":null,\"data\":{},\"selected\":{\"id\":\"d7d9de67-1fbc-4766-be56-b5decc15b5ef\",\"type\":\"Selection\"},\"selection_policy\":{\"id\":\"eebb661e-dad1-4e1e-8924-b61fcb6a5ded\",\"type\":\"UnionRenderers\"}},\"id\":\"6adc4615-49c5-4c34-9c2c-f1be4e4ba379\",\"type\":\"ColumnDataSource\"},{\"attributes\":{\"fill_alpha\":{\"value\":0.1},\"fill_color\":{\"value\":\"#1f77b4\"},\"line_alpha\":{\"value\":0.1},\"line_color\":{\"value\":\"#1f77b4\"},\"x\":{\"value\":0.9869501837335394},\"y\":{\"value\":-0.6542671251682562}},\"id\":\"cfb0ee14-ad04-4308-b42f-9d33df48d466\",\"type\":\"Circle\"},{\"attributes\":{\"below\":[{\"id\":\"98dd68a8-1725-41e2-80c1-8fb44c20cdb3\",\"type\":\"LinearAxis\"}],\"left\":[{\"id\":\"e8c8ef41-155a-4ccc-8391-5e16d32a51e6\",\"type\":\"LinearAxis\"}],\"plot_height\":400,\"plot_width\":400,\"renderers\":[{\"id\":\"98dd68a8-1725-41e2-80c1-8fb44c20cdb3\",\"type\":\"LinearAxis\"},{\"id\":\"780eadb0-77aa-419f-8fc8-e33a03dfcacc\",\"type\":\"Grid\"},{\"id\":\"e8c8ef41-155a-4ccc-8391-5e16d32a51e6\",\"type\":\"LinearAxis\"},{\"id\":\"f810127f-59ef-4f99-8ab8-78f6299f9aed\",\"type\":\"Grid\"},{\"id\":\"0c00c74e-a512-45f1-b983-d9e2973840ed\",\"type\":\"GlyphRenderer\"},{\"id\":\"24a33ccc-349b-4f66-a7bd-491a933095c8\",\"type\":\"GlyphRenderer\"},{\"id\":\"0a34a8c9-69cb-456b-897b-63815dac9ef7\",\"type\":\"Arrow\"},{\"id\":\"246a7e4b-00a1-4225-a805-0b819335e149\",\"type\":\"GlyphRenderer\"},{\"id\":\"f76103ba-91d2-4c9c-bfc0-070ba15264c7\",\"type\":\"Arrow\"},{\"id\":\"2fb913d3-f365-4f8a-8d36-dbf7b9d71fe6\",\"type\":\"GlyphRenderer\"},{\"id\":\"89bb59cd-aff7-4ab7-bbc0-c523fbc2cf58\",\"type\":\"Arrow\"},{\"id\":\"78f57177-a4fb-4a4a-9cce-2cc586f7d0d0\",\"type\":\"GlyphRenderer\"},{\"id\":\"95fb9a5c-3d8a-4cb0-8908-ddfa466406d2\",\"type\":\"Arrow\"},{\"id\":\"afb16860-ed81-4f50-9ce2-f36cb28dc4e7\",\"type\":\"GlyphRenderer\"},{\"id\":\"bce24bf0-c65f-445d-a6ba-907c497774ca\",\"type\":\"Arrow\"},{\"id\":\"8fa500a4-ed71-431e-b6e9-027d499519a0\",\"type\":\"GlyphRenderer\"},{\"id\":\"0b2b90f2-d3e9-484a-a941-d782e467f369\",\"type\":\"Arrow\"},{\"id\":\"009b5c53-5ab0-4572-a445-2e475b95b4fd\",\"type\":\"GlyphRenderer\"},{\"id\":\"d26074ed-432e-491c-886e-d4e64ca28d18\",\"type\":\"Arrow\"},{\"id\":\"1d61f025-34e7-4c7d-be97-9cb14cba4b7d\",\"type\":\"GlyphRenderer\"},{\"id\":\"845e535a-9bf6-4d04-863c-12ecf5d7fa32\",\"type\":\"Arrow\"},{\"id\":\"306e52a3-e44a-4a1c-8584-4412ad4f05ff\",\"type\":\"GlyphRenderer\"},{\"id\":\"5eb479b0-395e-4854-aee5-f7794ac464bd\",\"type\":\"Arrow\"},{\"id\":\"a89e4610-7b79-4089-aee1-c7dcf66c9708\",\"type\":\"GlyphRenderer\"},{\"id\":\"c88a4e7e-ac38-443d-9b6d-29f62d344b20\",\"type\":\"Arrow\"},{\"id\":\"16b89071-1f53-4bf8-b157-825bbbf66f06\",\"type\":\"GlyphRenderer\"}],\"title\":{\"id\":\"bc96aed3-9db2-4759-a352-973ae263c5d7\",\"type\":\"Title\"},\"toolbar\":{\"id\":\"c8710554-ce5b-4258-a0b2-02eca00d8125\",\"type\":\"Toolbar\"},\"x_range\":{\"id\":\"bd2b2959-f4a3-486e-88ca-006c5c9e4522\",\"type\":\"Range1d\"},\"x_scale\":{\"id\":\"af67eb86-77df-446d-aaaf-ac3ff2c6acae\",\"type\":\"LinearScale\"},\"y_range\":{\"id\":\"8f477a94-789d-44ed-b9d0-cd2b9a2856c5\",\"type\":\"Range1d\"},\"y_scale\":{\"id\":\"3d7ead23-3c21-4669-b14e-49517dbb46b8\",\"type\":\"LinearScale\"}},\"id\":\"7fe439c4-7b62-455e-842c-fdce3bfbcb5b\",\"subtype\":\"Figure\",\"type\":\"Plot\"},{\"attributes\":{\"fill_color\":{\"value\":\"green\"},\"line_color\":{\"value\":\"green\"},\"x\":{\"value\":0.9869501837335394},\"y\":{\"value\":-0.6542671251682562}},\"id\":\"6119c71e-d315-4322-b75f-854b5b0a9abe\",\"type\":\"Circle\"},{\"attributes\":{\"data_source\":{\"id\":\"6adc4615-49c5-4c34-9c2c-f1be4e4ba379\",\"type\":\"ColumnDataSource\"},\"glyph\":{\"id\":\"6119c71e-d315-4322-b75f-854b5b0a9abe\",\"type\":\"Circle\"},\"hover_glyph\":null,\"muted_glyph\":null,\"nonselection_glyph\":{\"id\":\"cfb0ee14-ad04-4308-b42f-9d33df48d466\",\"type\":\"Circle\"},\"selection_glyph\":null,\"view\":{\"id\":\"775de0ff-1176-4684-9373-9780261be253\",\"type\":\"CDSView\"}},\"id\":\"1d61f025-34e7-4c7d-be97-9cb14cba4b7d\",\"type\":\"GlyphRenderer\"},{\"attributes\":{\"source\":{\"id\":\"6adc4615-49c5-4c34-9c2c-f1be4e4ba379\",\"type\":\"ColumnDataSource\"}},\"id\":\"775de0ff-1176-4684-9373-9780261be253\",\"type\":\"CDSView\"},{\"attributes\":{\"fill_alpha\":{\"value\":0.1},\"fill_color\":{\"value\":\"#1f77b4\"},\"line_alpha\":{\"value\":0.1},\"line_color\":{\"value\":\"#1f77b4\"},\"x\":{\"value\":-0.38638352542704546},\"y\":{\"value\":-0.47489885325528797}},\"id\":\"e64c38c9-68f8-4cfa-ac15-02c35c72a17f\",\"type\":\"Circle\"},{\"attributes\":{\"fill_alpha\":{\"value\":0.2},\"fill_color\":{\"value\":\"green\"},\"line_alpha\":{\"value\":0.2},\"line_color\":{\"value\":\"green\"},\"plot\":null,\"size\":10},\"id\":\"8881ba0a-3aae-4ab4-9ea0-bc9634030b46\",\"type\":\"NormalHead\"},{\"attributes\":{\"end\":{\"id\":\"8881ba0a-3aae-4ab4-9ea0-bc9634030b46\",\"type\":\"NormalHead\"},\"line_alpha\":{\"value\":0.2},\"line_color\":{\"value\":\"green\"},\"line_width\":{\"value\":3},\"plot\":{\"id\":\"7fe439c4-7b62-455e-842c-fdce3bfbcb5b\",\"subtype\":\"Figure\",\"type\":\"Plot\"},\"source\":null,\"start\":null,\"x_end\":{\"value\":-0.38638352542704546},\"x_start\":{\"value\":0.0},\"y_end\":{\"value\":-0.47489885325528797},\"y_start\":{\"value\":0.0}},\"id\":\"845e535a-9bf6-4d04-863c-12ecf5d7fa32\",\"type\":\"Arrow\"},{\"attributes\":{},\"id\":\"7be1402d-a649-4912-baf8-3e3b4d30e7e6\",\"type\":\"BasicTickFormatter\"},{\"attributes\":{\"data_source\":{\"id\":\"a3198568-3fd1-400e-a50a-6b623e19e443\",\"type\":\"ColumnDataSource\"},\"glyph\":{\"id\":\"2663559a-9dd9-4efe-9c19-2e25b2267fe3\",\"type\":\"Circle\"},\"hover_glyph\":null,\"muted_glyph\":null,\"nonselection_glyph\":{\"id\":\"b098ee82-0a6c-4e87-8c2b-0f0dc510b55d\",\"type\":\"Circle\"},\"selection_glyph\":null,\"view\":{\"id\":\"6a519b62-6f73-44ef-8719-938a811516b5\",\"type\":\"CDSView\"}},\"id\":\"a89e4610-7b79-4089-aee1-c7dcf66c9708\",\"type\":\"GlyphRenderer\"},{\"attributes\":{\"source\":{\"id\":\"d64a1426-16e6-4174-9445-a86553291976\",\"type\":\"ColumnDataSource\"}},\"id\":\"02f46f6c-c86e-41c0-975a-315a73a5fd52\",\"type\":\"CDSView\"},{\"attributes\":{\"fill_color\":{\"value\":\"green\"},\"line_color\":{\"value\":\"green\"},\"x\":{\"value\":1.4992819301561409},\"y\":{\"value\":1.7629338725160315}},\"id\":\"2663559a-9dd9-4efe-9c19-2e25b2267fe3\",\"type\":\"Circle\"},{\"attributes\":{},\"id\":\"3d7ead23-3c21-4669-b14e-49517dbb46b8\",\"type\":\"LinearScale\"},{\"attributes\":{\"fill_alpha\":{\"value\":0.2},\"fill_color\":{\"value\":\"green\"},\"line_alpha\":{\"value\":0.2},\"line_color\":{\"value\":\"green\"},\"plot\":null,\"size\":10},\"id\":\"bfa2cd9f-3e83-4209-9f6b-aa6fa27528c1\",\"type\":\"NormalHead\"},{\"attributes\":{\"source\":{\"id\":\"a3198568-3fd1-400e-a50a-6b623e19e443\",\"type\":\"ColumnDataSource\"}},\"id\":\"6a519b62-6f73-44ef-8719-938a811516b5\",\"type\":\"CDSView\"},{\"attributes\":{\"fill_alpha\":{\"value\":0.2},\"fill_color\":{\"value\":\"green\"},\"line_alpha\":{\"value\":0.2},\"line_color\":{\"value\":\"green\"},\"plot\":null,\"size\":10},\"id\":\"9110eb62-ec67-484c-8018-82fee8b8dfb0\",\"type\":\"NormalHead\"},{\"attributes\":{\"source\":{\"id\":\"1676fab3-d902-463f-b28a-51e782067864\",\"type\":\"ColumnDataSource\"}},\"id\":\"27d3c740-6e58-4078-8af8-208c6979dd86\",\"type\":\"CDSView\"},{\"attributes\":{\"end\":{\"id\":\"9110eb62-ec67-484c-8018-82fee8b8dfb0\",\"type\":\"NormalHead\"},\"line_alpha\":{\"value\":0.2},\"line_color\":{\"value\":\"green\"},\"line_width\":{\"value\":3},\"plot\":{\"id\":\"7fe439c4-7b62-455e-842c-fdce3bfbcb5b\",\"subtype\":\"Figure\",\"type\":\"Plot\"},\"source\":null,\"start\":null,\"x_end\":{\"value\":0.6382799674181576},\"x_start\":{\"value\":0.0},\"y_end\":{\"value\":0.2254915418334457},\"y_start\":{\"value\":0.0}},\"id\":\"c88a4e7e-ac38-443d-9b6d-29f62d344b20\",\"type\":\"Arrow\"},{\"attributes\":{\"fill_alpha\":{\"value\":0.1},\"fill_color\":{\"value\":\"#1f77b4\"},\"line_alpha\":{\"value\":0.1},\"line_color\":{\"value\":\"#1f77b4\"},\"x\":{\"value\":0.12594822099555594},\"y\":{\"value\":-1.3973642516648392}},\"id\":\"a4765d91-7a7a-4c8f-88fe-a617a336006e\",\"type\":\"Circle\"},{\"attributes\":{\"callback\":null,\"data\":{},\"selected\":{\"id\":\"7044595f-1799-41da-a01e-65fb0c490c72\",\"type\":\"Selection\"},\"selection_policy\":{\"id\":\"2bdb2b7d-c3f7-4471-a80c-edaf0cfb95c4\",\"type\":\"UnionRenderers\"}},\"id\":\"b520ceb9-38b0-466b-a26c-467fd35490ec\",\"type\":\"ColumnDataSource\"},{\"attributes\":{},\"id\":\"af67eb86-77df-446d-aaaf-ac3ff2c6acae\",\"type\":\"LinearScale\"},{\"attributes\":{\"fill_alpha\":{\"value\":0.1},\"fill_color\":{\"value\":\"#1f77b4\"},\"line_alpha\":{\"value\":0.1},\"line_color\":{\"value\":\"#1f77b4\"},\"x\":{\"value\":0.6382799674181576},\"y\":{\"value\":0.2254915418334457}},\"id\":\"edba9f0b-0bc8-40d4-9f99-a16cc6565e55\",\"type\":\"Circle\"},{\"attributes\":{\"fill_color\":{\"value\":\"green\"},\"line_color\":{\"value\":\"green\"},\"x\":{\"value\":0.6382799674181576},\"y\":{\"value\":0.2254915418334457}},\"id\":\"599e2883-db1f-4326-bb79-98eefb8d94c6\",\"type\":\"Circle\"},{\"attributes\":{\"callback\":null,\"end\":3.5,\"start\":-3.5},\"id\":\"8f477a94-789d-44ed-b9d0-cd2b9a2856c5\",\"type\":\"Range1d\"},{\"attributes\":{\"data_source\":{\"id\":\"b520ceb9-38b0-466b-a26c-467fd35490ec\",\"type\":\"ColumnDataSource\"},\"glyph\":{\"id\":\"599e2883-db1f-4326-bb79-98eefb8d94c6\",\"type\":\"Circle\"},\"hover_glyph\":null,\"muted_glyph\":null,\"nonselection_glyph\":{\"id\":\"edba9f0b-0bc8-40d4-9f99-a16cc6565e55\",\"type\":\"Circle\"},\"selection_glyph\":null,\"view\":{\"id\":\"a875c139-61dd-4a64-9d88-13d556b09b68\",\"type\":\"CDSView\"}},\"id\":\"16b89071-1f53-4bf8-b157-825bbbf66f06\",\"type\":\"GlyphRenderer\"},{\"attributes\":{\"dimension\":1,\"plot\":{\"id\":\"7fe439c4-7b62-455e-842c-fdce3bfbcb5b\",\"subtype\":\"Figure\",\"type\":\"Plot\"},\"ticker\":{\"id\":\"16a89a8f-8b92-46f6-9e08-d9a32b04f914\",\"type\":\"BasicTicker\"}},\"id\":\"f810127f-59ef-4f99-8ab8-78f6299f9aed\",\"type\":\"Grid\"},{\"attributes\":{\"fill_alpha\":{\"value\":0.2},\"fill_color\":{\"value\":\"green\"},\"line_alpha\":{\"value\":0.2},\"line_color\":{\"value\":\"green\"},\"plot\":null,\"size\":10},\"id\":\"cc2500f3-31fd-42af-808d-329e7ed4323b\",\"type\":\"NormalHead\"},{\"attributes\":{\"source\":{\"id\":\"b520ceb9-38b0-466b-a26c-467fd35490ec\",\"type\":\"ColumnDataSource\"}},\"id\":\"a875c139-61dd-4a64-9d88-13d556b09b68\",\"type\":\"CDSView\"},{\"attributes\":{\"fill_color\":{\"value\":\"green\"},\"line_color\":{\"value\":\"green\"},\"x\":{\"value\":0.12594822099555594},\"y\":{\"value\":-1.3973642516648392}},\"id\":\"a63a41fc-7bae-48aa-98e0-853b5cfcdd4a\",\"type\":\"Circle\"},{\"attributes\":{},\"id\":\"8f536500-9578-4f3c-870b-a28f47001b29\",\"type\":\"BasicTickFormatter\"},{\"attributes\":{\"callback\":null,\"data\":{},\"selected\":{\"id\":\"8fd1eb2b-b1dd-413a-824e-539c3997f3d7\",\"type\":\"Selection\"},\"selection_policy\":{\"id\":\"6480c744-97bb-4168-8ac9-606e07002c6f\",\"type\":\"UnionRenderers\"}},\"id\":\"d64a1426-16e6-4174-9445-a86553291976\",\"type\":\"ColumnDataSource\"},{\"attributes\":{},\"id\":\"47fd7ac3-7801-4d24-b005-27c007aa2bff\",\"type\":\"Selection\"},{\"attributes\":{},\"id\":\"7ab01f38-3e66-4902-80bd-199790de99e4\",\"type\":\"UnionRenderers\"},{\"attributes\":{\"data_source\":{\"id\":\"d64a1426-16e6-4174-9445-a86553291976\",\"type\":\"ColumnDataSource\"},\"glyph\":{\"id\":\"a63a41fc-7bae-48aa-98e0-853b5cfcdd4a\",\"type\":\"Circle\"},\"hover_glyph\":null,\"muted_glyph\":null,\"nonselection_glyph\":{\"id\":\"a4765d91-7a7a-4c8f-88fe-a617a336006e\",\"type\":\"Circle\"},\"selection_glyph\":null,\"view\":{\"id\":\"02f46f6c-c86e-41c0-975a-315a73a5fd52\",\"type\":\"CDSView\"}},\"id\":\"2fb913d3-f365-4f8a-8d36-dbf7b9d71fe6\",\"type\":\"GlyphRenderer\"},{\"attributes\":{},\"id\":\"f533aefa-27f6-4002-a860-517840c52d92\",\"type\":\"Selection\"},{\"attributes\":{\"line_width\":1.5,\"x\":{\"field\":\"x\"},\"y\":{\"field\":\"y\"}},\"id\":\"fc75cc3c-12a5-4b98-8352-7efdeb66aaf0\",\"type\":\"Line\"},{\"attributes\":{},\"id\":\"1087c933-ad14-4eaf-bc18-b55eb747883b\",\"type\":\"UnionRenderers\"},{\"attributes\":{},\"id\":\"0e5d6466-cd71-4a10-8a82-8686044438ba\",\"type\":\"Selection\"},{\"attributes\":{},\"id\":\"52a1980a-20fe-4650-9114-47ece80b7d31\",\"type\":\"UnionRenderers\"},{\"attributes\":{\"callback\":null,\"data\":{\"x\":[0.0,0.0],\"y\":[-5.0,5.0]},\"selected\":{\"id\":\"f533aefa-27f6-4002-a860-517840c52d92\",\"type\":\"Selection\"},\"selection_policy\":{\"id\":\"1087c933-ad14-4eaf-bc18-b55eb747883b\",\"type\":\"UnionRenderers\"}},\"id\":\"6037544f-554f-47b5-afe5-a87bd00c7453\",\"type\":\"ColumnDataSource\"},{\"attributes\":{},\"id\":\"8fd1eb2b-b1dd-413a-824e-539c3997f3d7\",\"type\":\"Selection\"},{\"attributes\":{\"callback\":null,\"data\":{\"x\":[-5.0,5.0],\"y\":[0.0,0.0]},\"selected\":{\"id\":\"47fd7ac3-7801-4d24-b005-27c007aa2bff\",\"type\":\"Selection\"},\"selection_policy\":{\"id\":\"7ab01f38-3e66-4902-80bd-199790de99e4\",\"type\":\"UnionRenderers\"}},\"id\":\"c693b406-0794-42c6-9402-2f7c2e2bd468\",\"type\":\"ColumnDataSource\"},{\"attributes\":{\"callback\":null,\"data\":{},\"selected\":{\"id\":\"5134276b-2be0-4cae-a9c9-9d93d2347ec1\",\"type\":\"Selection\"},\"selection_policy\":{\"id\":\"17890e77-5333-43eb-b648-c4c162472849\",\"type\":\"UnionRenderers\"}},\"id\":\"037a4438-92cc-466a-80f3-043b30889617\",\"type\":\"ColumnDataSource\"},{\"attributes\":{},\"id\":\"6480c744-97bb-4168-8ac9-606e07002c6f\",\"type\":\"UnionRenderers\"},{\"attributes\":{\"active_drag\":\"auto\",\"active_inspect\":\"auto\",\"active_multi\":null,\"active_scroll\":\"auto\",\"active_tap\":\"auto\",\"tools\":[{\"id\":\"cca5fee3-986e-4191-bbcd-2578fcc9fc92\",\"type\":\"WheelZoomTool\"},{\"id\":\"1495ae96-3cd5-4690-abda-17760a6f1195\",\"type\":\"PanTool\"},{\"id\":\"f5909108-0097-4019-979c-8385885315ac\",\"type\":\"ResetTool\"}]},\"id\":\"c8710554-ce5b-4258-a0b2-02eca00d8125\",\"type\":\"Toolbar\"},{\"attributes\":{},\"id\":\"5134276b-2be0-4cae-a9c9-9d93d2347ec1\",\"type\":\"Selection\"},{\"attributes\":{\"fill_alpha\":{\"value\":0.2},\"fill_color\":{\"value\":\"green\"},\"line_alpha\":{\"value\":0.2},\"line_color\":{\"value\":\"green\"},\"plot\":null,\"size\":10},\"id\":\"26fbbf27-edf0-4808-a32e-344106f4f47a\",\"type\":\"NormalHead\"},{\"attributes\":{},\"id\":\"17890e77-5333-43eb-b648-c4c162472849\",\"type\":\"UnionRenderers\"},{\"attributes\":{\"plot\":{\"id\":\"7fe439c4-7b62-455e-842c-fdce3bfbcb5b\",\"subtype\":\"Figure\",\"type\":\"Plot\"},\"ticker\":{\"id\":\"742b711a-9158-46e8-b7fd-813a2fb6bc32\",\"type\":\"BasicTicker\"}},\"id\":\"780eadb0-77aa-419f-8fc8-e33a03dfcacc\",\"type\":\"Grid\"},{\"attributes\":{},\"id\":\"87dfd2be-cc59-43d0-8e39-c178587bf6a6\",\"type\":\"Selection\"},{\"attributes\":{\"formatter\":{\"id\":\"8f536500-9578-4f3c-870b-a28f47001b29\",\"type\":\"BasicTickFormatter\"},\"plot\":{\"id\":\"7fe439c4-7b62-455e-842c-fdce3bfbcb5b\",\"subtype\":\"Figure\",\"type\":\"Plot\"},\"ticker\":{\"id\":\"16a89a8f-8b92-46f6-9e08-d9a32b04f914\",\"type\":\"BasicTicker\"}},\"id\":\"e8c8ef41-155a-4ccc-8391-5e16d32a51e6\",\"type\":\"LinearAxis\"},{\"attributes\":{},\"id\":\"4e4dd848-c6b2-4a9f-847f-03e9b2c10a19\",\"type\":\"UnionRenderers\"},{\"attributes\":{},\"id\":\"742b711a-9158-46e8-b7fd-813a2fb6bc32\",\"type\":\"BasicTicker\"},{\"attributes\":{},\"id\":\"3ee0dc7d-efa3-4aa5-a234-df0aba1386ca\",\"type\":\"Selection\"},{\"attributes\":{\"line_alpha\":0.1,\"line_color\":\"#1f77b4\",\"line_width\":1.5,\"x\":{\"field\":\"x\"},\"y\":{\"field\":\"y\"}},\"id\":\"df5b03e5-561c-4aab-98ed-5b16a3784073\",\"type\":\"Line\"},{\"attributes\":{},\"id\":\"9fe2de0e-d631-4ad7-b7b8-e86c1259c787\",\"type\":\"UnionRenderers\"},{\"attributes\":{},\"id\":\"f5909108-0097-4019-979c-8385885315ac\",\"type\":\"ResetTool\"},{\"attributes\":{\"fill_color\":{\"value\":\"green\"},\"line_color\":{\"value\":\"green\"},\"x\":{\"value\":-0.48600358723144027},\"y\":{\"value\":1.3017011733112558}},\"id\":\"b3cf78ae-eb00-4ccf-8d21-6f3c1a41236a\",\"type\":\"Circle\"},{\"attributes\":{},\"id\":\"a9dc848b-389b-40de-a2d0-dee4a7f6bd82\",\"type\":\"Selection\"},{\"attributes\":{\"formatter\":{\"id\":\"7be1402d-a649-4912-baf8-3e3b4d30e7e6\",\"type\":\"BasicTickFormatter\"},\"plot\":{\"id\":\"7fe439c4-7b62-455e-842c-fdce3bfbcb5b\",\"subtype\":\"Figure\",\"type\":\"Plot\"},\"ticker\":{\"id\":\"742b711a-9158-46e8-b7fd-813a2fb6bc32\",\"type\":\"BasicTicker\"}},\"id\":\"98dd68a8-1725-41e2-80c1-8fb44c20cdb3\",\"type\":\"LinearAxis\"},{\"attributes\":{},\"id\":\"fc605b5d-8bc9-4532-8bcf-9448dc5b478f\",\"type\":\"UnionRenderers\"},{\"attributes\":{\"source\":{\"id\":\"c693b406-0794-42c6-9402-2f7c2e2bd468\",\"type\":\"ColumnDataSource\"}},\"id\":\"c20af387-0da5-4722-b016-b8beeb3c82b9\",\"type\":\"CDSView\"},{\"attributes\":{},\"id\":\"d7d9de67-1fbc-4766-be56-b5decc15b5ef\",\"type\":\"Selection\"},{\"attributes\":{\"data_source\":{\"id\":\"c693b406-0794-42c6-9402-2f7c2e2bd468\",\"type\":\"ColumnDataSource\"},\"glyph\":{\"id\":\"fc75cc3c-12a5-4b98-8352-7efdeb66aaf0\",\"type\":\"Line\"},\"hover_glyph\":null,\"muted_glyph\":null,\"nonselection_glyph\":{\"id\":\"1302a8c9-5772-42d5-9c14-2a0b7e74bffe\",\"type\":\"Line\"},\"selection_glyph\":null,\"view\":{\"id\":\"c20af387-0da5-4722-b016-b8beeb3c82b9\",\"type\":\"CDSView\"}},\"id\":\"0c00c74e-a512-45f1-b983-d9e2973840ed\",\"type\":\"GlyphRenderer\"},{\"attributes\":{\"fill_alpha\":{\"value\":0.1},\"fill_color\":{\"value\":\"#1f77b4\"},\"line_alpha\":{\"value\":0.1},\"line_color\":{\"value\":\"#1f77b4\"},\"x\":{\"value\":-0.48600358723144027},\"y\":{\"value\":1.3017011733112558}},\"id\":\"539e15f3-7302-4372-9f6a-7bef42e1e4e5\",\"type\":\"Circle\"},{\"attributes\":{},\"id\":\"eebb661e-dad1-4e1e-8924-b61fcb6a5ded\",\"type\":\"UnionRenderers\"},{\"attributes\":{},\"id\":\"16a89a8f-8b92-46f6-9e08-d9a32b04f914\",\"type\":\"BasicTicker\"},{\"attributes\":{},\"id\":\"12d20678-e4b2-415c-b35d-80179adde6f5\",\"type\":\"Selection\"},{\"attributes\":{},\"id\":\"cca5fee3-986e-4191-bbcd-2578fcc9fc92\",\"type\":\"WheelZoomTool\"},{\"attributes\":{\"source\":{\"id\":\"037a4438-92cc-466a-80f3-043b30889617\",\"type\":\"ColumnDataSource\"}},\"id\":\"499ccd0a-d457-474b-a147-9acaee42185e\",\"type\":\"CDSView\"},{\"attributes\":{},\"id\":\"73ac9f07-0bb0-486b-879e-521976c5b8dd\",\"type\":\"UnionRenderers\"},{\"attributes\":{\"end\":{\"id\":\"26fbbf27-edf0-4808-a32e-344106f4f47a\",\"type\":\"NormalHead\"},\"line_alpha\":{\"value\":0.2},\"line_color\":{\"value\":\"green\"},\"line_width\":{\"value\":3},\"plot\":{\"id\":\"7fe439c4-7b62-455e-842c-fdce3bfbcb5b\",\"subtype\":\"Figure\",\"type\":\"Plot\"},\"source\":null,\"start\":null,\"x_end\":{\"value\":-0.8489052409474498},\"x_start\":{\"value\":0.0},\"y_end\":{\"value\":0.7465136650092107},\"y_start\":{\"value\":0.0}},\"id\":\"0a34a8c9-69cb-456b-897b-63815dac9ef7\",\"type\":\"Arrow\"},{\"attributes\":{},\"id\":\"9c43909f-5050-4f0c-ab39-df110c3d6d33\",\"type\":\"Selection\"},{\"attributes\":{},\"id\":\"1495ae96-3cd5-4690-abda-17760a6f1195\",\"type\":\"PanTool\"},{\"attributes\":{},\"id\":\"07097de1-1406-4997-8093-552e6167589d\",\"type\":\"UnionRenderers\"},{\"attributes\":{\"data_source\":{\"id\":\"6037544f-554f-47b5-afe5-a87bd00c7453\",\"type\":\"ColumnDataSource\"},\"glyph\":{\"id\":\"9813ef6a-ce07-4919-b5ce-28c6e9945553\",\"type\":\"Line\"},\"hover_glyph\":null,\"muted_glyph\":null,\"nonselection_glyph\":{\"id\":\"df5b03e5-561c-4aab-98ed-5b16a3784073\",\"type\":\"Line\"},\"selection_glyph\":null,\"view\":{\"id\":\"d3c68300-f805-40b8-b8c0-83227109cc43\",\"type\":\"CDSView\"}},\"id\":\"24a33ccc-349b-4f66-a7bd-491a933095c8\",\"type\":\"GlyphRenderer\"},{\"attributes\":{},\"id\":\"7044595f-1799-41da-a01e-65fb0c490c72\",\"type\":\"Selection\"},{\"attributes\":{\"callback\":null,\"end\":3.5,\"start\":-3.5},\"id\":\"bd2b2959-f4a3-486e-88ca-006c5c9e4522\",\"type\":\"Range1d\"},{\"attributes\":{\"line_width\":1.5,\"x\":{\"field\":\"x\"},\"y\":{\"field\":\"y\"}},\"id\":\"9813ef6a-ce07-4919-b5ce-28c6e9945553\",\"type\":\"Line\"},{\"attributes\":{\"end\":{\"id\":\"cc2500f3-31fd-42af-808d-329e7ed4323b\",\"type\":\"NormalHead\"},\"line_alpha\":{\"value\":0.2},\"line_color\":{\"value\":\"green\"},\"line_width\":{\"value\":3},\"plot\":{\"id\":\"7fe439c4-7b62-455e-842c-fdce3bfbcb5b\",\"subtype\":\"Figure\",\"type\":\"Plot\"},\"source\":null,\"start\":null,\"x_end\":{\"value\":-0.48600358723144027},\"x_start\":{\"value\":0.0},\"y_end\":{\"value\":1.3017011733112558},\"y_start\":{\"value\":0.0}},\"id\":\"89bb59cd-aff7-4ab7-bbc0-c523fbc2cf58\",\"type\":\"Arrow\"},{\"attributes\":{},\"id\":\"2bdb2b7d-c3f7-4471-a80c-edaf0cfb95c4\",\"type\":\"UnionRenderers\"},{\"attributes\":{\"line_alpha\":0.1,\"line_color\":\"#1f77b4\",\"line_width\":1.5,\"x\":{\"field\":\"x\"},\"y\":{\"field\":\"y\"}},\"id\":\"1302a8c9-5772-42d5-9c14-2a0b7e74bffe\",\"type\":\"Line\"},{\"attributes\":{\"source\":{\"id\":\"6037544f-554f-47b5-afe5-a87bd00c7453\",\"type\":\"ColumnDataSource\"}},\"id\":\"d3c68300-f805-40b8-b8c0-83227109cc43\",\"type\":\"CDSView\"},{\"attributes\":{\"plot\":null,\"text\":\"\"},\"id\":\"bc96aed3-9db2-4759-a352-973ae263c5d7\",\"type\":\"Title\"}],\"root_ids\":[\"7fe439c4-7b62-455e-842c-fdce3bfbcb5b\"]},\"title\":\"Bokeh Application\",\"version\":\"0.13.0\"}};\n",
       "  var render_items = [{\"docid\":\"c3f1b392-5431-48ee-91e1-d38bb4d6abda\",\"roots\":{\"7fe439c4-7b62-455e-842c-fdce3bfbcb5b\":\"0555c513-e5e3-412d-905d-136ac638402b\"}}];\n",
       "  root.Bokeh.embed.embed_items_notebook(docs_json, render_items);\n",
       "\n",
       "  }\n",
       "  if (root.Bokeh !== undefined) {\n",
       "    embed_document(root);\n",
       "  } else {\n",
       "    var attempts = 0;\n",
       "    var timer = setInterval(function(root) {\n",
       "      if (root.Bokeh !== undefined) {\n",
       "        embed_document(root);\n",
       "        clearInterval(timer);\n",
       "      }\n",
       "      attempts++;\n",
       "      if (attempts > 100) {\n",
       "        console.log(\"Bokeh: ERROR: Unable to run BokehJS code because BokehJS library is missing\")\n",
       "        clearInterval(timer);\n",
       "      }\n",
       "    }, 10, root)\n",
       "  }\n",
       "})(window);"
      ],
      "application/vnd.bokehjs_exec.v0+json": ""
     },
     "metadata": {
      "application/vnd.bokehjs_exec.v0+json": {
       "id": "7fe439c4-7b62-455e-842c-fdce3bfbcb5b"
      }
     },
     "output_type": "display_data"
    }
   ],
   "source": [
    "plot.clear().graph()\n",
    "plot.vec_w_point(X_std,color=\"green\",alpha=.2)\n",
    "plot.show()"
   ]
  },
  {
   "cell_type": "markdown",
   "metadata": {},
   "source": [
    "Add this step again, and put it all together..."
   ]
  },
  {
   "cell_type": "code",
   "execution_count": 19,
   "metadata": {},
   "outputs": [
    {
     "data": {
      "text/plain": [
       "(2, 2)"
      ]
     },
     "execution_count": 19,
     "metadata": {},
     "output_type": "execute_result"
    }
   ],
   "source": [
    "N = X.shape[0]                         # Number of observations\n",
    "X_means = (np.ones(N).dot(X))/N        # Means of each column vector\n",
    "X_std = np.sqrt(sigma.diagonal())      # Standard deviations of each column vector\n",
    "X_dev = (X - X_means)                  # Deviations from the mean\n",
    "X_std = X_dev/X_std                    # Standardize those deviations from the mean\n",
    "squared_dev = X_std.T.dot(X_std)       # Squared Deviations from the mean\n",
    "corr_matrix = (1/(N-1))*squared_dev    # Average (with df adjustment)\n",
    "corr_matrix.shape"
   ]
  },
  {
   "cell_type": "code",
   "execution_count": 20,
   "metadata": {},
   "outputs": [
    {
     "name": "stdout",
     "output_type": "stream",
     "text": [
      "Our Correlation Matrix\n",
      "[[1.    0.126]\n",
      " [0.126 1.   ]]\n"
     ]
    }
   ],
   "source": [
    "print(\"Our Correlation Matrix\")\n",
    "print(corr_matrix.round(3))"
   ]
  },
  {
   "cell_type": "markdown",
   "metadata": {},
   "source": [
    "#### Using Numpy"
   ]
  },
  {
   "cell_type": "code",
   "execution_count": 21,
   "metadata": {},
   "outputs": [
    {
     "data": {
      "text/plain": [
       "array([[1.   , 0.126],\n",
       "       [0.126, 1.   ]])"
      ]
     },
     "execution_count": 21,
     "metadata": {},
     "output_type": "execute_result"
    }
   ],
   "source": [
    "np.corrcoef(X.T).round(3)"
   ]
  },
  {
   "cell_type": "markdown",
   "metadata": {},
   "source": [
    "## Another way to think about this"
   ]
  },
  {
   "cell_type": "markdown",
   "metadata": {},
   "source": [
    "We can think of the correlation is as the angle between the centered version of our two variables."
   ]
  },
  {
   "cell_type": "code",
   "execution_count": 22,
   "metadata": {},
   "outputs": [
    {
     "name": "stdout",
     "output_type": "stream",
     "text": [
      "\n",
      "X and Y centered\n",
      "\n",
      "[-1.193  0.177 -0.683 -2.533  1.167 -0.783  1.387 -0.543  2.107  0.897]\n",
      "[ 0.874 -1.636  1.524 -0.556 -0.996 -0.216 -0.766 -0.556  2.064  0.264]\n",
      "\n",
      "Angle between the our centered versions of X and Y\n",
      "\n",
      "0.126\n"
     ]
    }
   ],
   "source": [
    "x = X[:,0] \n",
    "y = X[:,1] \n",
    "\n",
    "x = x - x.mean()\n",
    "y = y - y.mean()\n",
    "\n",
    "print(\"\\nX and Y centered\\n\")\n",
    "print(x)\n",
    "print(y)\n",
    "\n",
    "# Cosine equation\n",
    "cosine = x.dot(y)/(la.norm(x)*la.norm(y))\n",
    "\n",
    "print(\"\\nAngle between the our centered versions of X and Y\\n\")\n",
    "print(cosine.round(3))"
   ]
  }
 ],
 "metadata": {
  "kernelspec": {
   "display_name": "Python 3",
   "language": "python",
   "name": "python3"
  },
  "language_info": {
   "codemirror_mode": {
    "name": "ipython",
    "version": 3
   },
   "file_extension": ".py",
   "mimetype": "text/x-python",
   "name": "python",
   "nbconvert_exporter": "python",
   "pygments_lexer": "ipython3",
   "version": "3.7.0"
  }
 },
 "nbformat": 4,
 "nbformat_minor": 2
}
